{
 "cells": [
  {
   "cell_type": "code",
   "execution_count": 10,
   "metadata": {},
   "outputs": [
    {
     "data": {
      "text/plain": [
       "([[3, 4, 6]], 13)"
      ]
     },
     "execution_count": 10,
     "metadata": {},
     "output_type": "execute_result"
    }
   ],
   "source": [
    "def max_sum_subset(arr):\n",
    "    res=[]\n",
    "    max_sum=float(\"-inf\")\n",
    "    current_sum=0\n",
    "    for num in arr:\n",
    "        current_sum = max(num, current_sum + num)\n",
    "        max_sum = max(max_sum, current_sum)\n",
    "    def backtrack(current,index):\n",
    "        if sum(current) == max_sum:\n",
    "            res.append(current)\n",
    "            return\n",
    "        if current_sum<=0 or index>=len(arr):\n",
    "            return\n",
    "        if sum(current)<0:\n",
    "            res.clear()\n",
    "        backtrack(current+[arr[index]], index+1)\n",
    "        backtrack(current, index+1)\n",
    "    backtrack([],0)\n",
    "    return res,max_sum\n",
    "arr=[2,-2,3,4,6]\n",
    "max_sum_subset(arr)\n"
   ]
  }
 ],
 "metadata": {
  "kernelspec": {
   "display_name": "myenv",
   "language": "python",
   "name": "python3"
  },
  "language_info": {
   "codemirror_mode": {
    "name": "ipython",
    "version": 3
   },
   "file_extension": ".py",
   "mimetype": "text/x-python",
   "name": "python",
   "nbconvert_exporter": "python",
   "pygments_lexer": "ipython3",
   "version": "3.12.3"
  }
 },
 "nbformat": 4,
 "nbformat_minor": 2
}
