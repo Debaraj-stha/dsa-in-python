{
 "cells": [
  {
   "cell_type": "code",
   "execution_count": 31,
   "metadata": {},
   "outputs": [
    {
     "name": "stdout",
     "output_type": "stream",
     "text": [
      "['DRDDDRRR']\n"
     ]
    }
   ],
   "source": [
    "direction=[\"D\",\"L\",\"R\",\"U\"]\n",
    "dr=[1,0,0,-1]\n",
    "dc=[0,-1,1,0]\n",
    "def isValid(maze,row,col,n):\n",
    "    return 0<=row<n and 0<=col<n and maze[row][col]==1\n",
    "\n",
    "def solve(maze,row,col,result,path,n):\n",
    "    if row==n-1 and col==n-1:\n",
    "        result.append(path)\n",
    "        return\n",
    "    maze[row][col] =0\n",
    "    for i in range(4):\n",
    "        next_row=row+dr[i]\n",
    "        next_col=col+dc[i]\n",
    "        if isValid(maze,next_row,next_col,n):\n",
    "            solve(maze,next_row,next_col,result,path+direction[i],n)\n",
    "           \n",
    "    maze[row][col]=1\n",
    "\n",
    "maze = [\n",
    "    [1, 0, 0, 0, 1],\n",
    "    [1, 1, 0, 0, 0],\n",
    "    [0, 1, 0, 0, 0],\n",
    "    [0, 1, 0, 0, 0],\n",
    "    [1, 1, 1, 1, 1]\n",
    "]\n",
    "n=len(maze)\n",
    "result=[]\n",
    "if maze[0][0]==0 or maze[n-1][n-1]==0:\n",
    "    print(\"solution is impossible\")\n",
    "solve(maze,0,0,result,\"\",n)\n",
    "print(result)\n"
   ]
  }
 ],
 "metadata": {
  "kernelspec": {
   "display_name": "myenv",
   "language": "python",
   "name": "python3"
  },
  "language_info": {
   "codemirror_mode": {
    "name": "ipython",
    "version": 3
   },
   "file_extension": ".py",
   "mimetype": "text/x-python",
   "name": "python",
   "nbconvert_exporter": "python",
   "pygments_lexer": "ipython3",
   "version": "3.12.3"
  }
 },
 "nbformat": 4,
 "nbformat_minor": 2
}
