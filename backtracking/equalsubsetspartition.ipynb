{
 "cells": [
  {
   "cell_type": "code",
   "execution_count": 9,
   "metadata": {},
   "outputs": [
    {
     "name": "stdout",
     "output_type": "stream",
     "text": [
      "[[1, 4], [2, 3]]\n"
     ]
    }
   ],
   "source": [
    "def equalsumpartition(arr):\n",
    "    s=sum(arr)\n",
    "    if s%2==1:\n",
    "        return False\n",
    "    target=s//2\n",
    "    n=len(arr)\n",
    "    res=[]\n",
    "    def backtrack(current,index):\n",
    "        if sum(current)==target:\n",
    "           res.append(current[:])\n",
    "           return\n",
    "        if sum(current)>target or index==n:\n",
    "            return \n",
    "        backtrack(current+[arr[index]],index+1)\n",
    "        backtrack(current,index+1)\n",
    "    backtrack([],0)\n",
    "    return res\n",
    "\n",
    "arr=[1,2,3,4]\n",
    "print(equalsumpartition(arr))"
   ]
  }
 ],
 "metadata": {
  "kernelspec": {
   "display_name": "myenv",
   "language": "python",
   "name": "python3"
  },
  "language_info": {
   "codemirror_mode": {
    "name": "ipython",
    "version": 3
   },
   "file_extension": ".py",
   "mimetype": "text/x-python",
   "name": "python",
   "nbconvert_exporter": "python",
   "pygments_lexer": "ipython3",
   "version": "3.12.3"
  }
 },
 "nbformat": 4,
 "nbformat_minor": 2
}
