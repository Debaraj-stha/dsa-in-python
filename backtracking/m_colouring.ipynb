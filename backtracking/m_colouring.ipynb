{
 "cells": [
  {
   "cell_type": "code",
   "execution_count": 4,
   "metadata": {},
   "outputs": [
    {
     "name": "stdout",
     "output_type": "stream",
     "text": [
      "[1, 2, 3, 2, 3, 1]\n"
     ]
    }
   ],
   "source": [
    "def isSafe(color,colors,graph,node):\n",
    "    for neighbor in range(len(graph)):\n",
    "        if graph[node][neighbor] == 1 and colors[neighbor] == color:\n",
    "            return False\n",
    "    return True\n",
    "\n",
    "def mcoloring(graph,m):\n",
    "    n=len(graph)\n",
    "    colors=[[-1] for _ in range(n)]\n",
    "    def backtrack(node):\n",
    "        if node==n:\n",
    "            return True\n",
    "        for color in range(1,m+1):\n",
    "            if isSafe(color,colors,graph,node):\n",
    "                colors[node]=color\n",
    "                if backtrack(node+1):\n",
    "                    return True\n",
    "                colors[node]=-1\n",
    "        return False\n",
    "    if not backtrack(0):\n",
    "        return False\n",
    "    return colors\n",
    "\n",
    "graph = [\n",
    "    [0, 1, 0, 1, 1, 0],\n",
    "    [1, 0, 1, 0, 0, 0],\n",
    "    [0, 1, 0, 1, 0, 1],\n",
    "    [1, 0, 1, 0, 1, 1],\n",
    "    [1, 0, 0, 1, 0, 1],\n",
    "    [0, 0, 1, 1, 1, 0]\n",
    "]\n",
    "m=3\n",
    "print(mcoloring(graph,m))"
   ]
  }
 ],
 "metadata": {
  "kernelspec": {
   "display_name": "myenv",
   "language": "python",
   "name": "python3"
  },
  "language_info": {
   "codemirror_mode": {
    "name": "ipython",
    "version": 3
   },
   "file_extension": ".py",
   "mimetype": "text/x-python",
   "name": "python",
   "nbconvert_exporter": "python",
   "pygments_lexer": "ipython3",
   "version": "3.12.3"
  }
 },
 "nbformat": 4,
 "nbformat_minor": 2
}
