{
 "cells": [
  {
   "cell_type": "code",
   "execution_count": 1,
   "metadata": {},
   "outputs": [
    {
     "name": "stdout",
     "output_type": "stream",
     "text": [
      "[[2, 7, 6], [9, 5, 1], [4, 3, 8]]\n"
     ]
    }
   ],
   "source": [
    "def magic_square(square,n):\n",
    "    num=1\n",
    "    row=n//2\n",
    "    col=n-1\n",
    "    while num<=n*n:\n",
    "        if row==-1 and col==n:\n",
    "            col=n-2\n",
    "            row=0\n",
    "        else:\n",
    "            if row==-1:\n",
    "                row=n-1\n",
    "            if col==n:\n",
    "                col=0\n",
    "        if square[row][col]!=0:\n",
    "            row+=1\n",
    "            col-=2\n",
    "            continue\n",
    "        else:\n",
    "            square[row][col]=num\n",
    "            num+=1\n",
    "        row-=1\n",
    "        col+=1\n",
    "n=3\n",
    "square=[[0]*n for _ in range(n)]\n",
    "magic_square(square,n)\n",
    "print(square)\n"
   ]
  }
 ],
 "metadata": {
  "kernelspec": {
   "display_name": "myenv",
   "language": "python",
   "name": "python3"
  },
  "language_info": {
   "codemirror_mode": {
    "name": "ipython",
    "version": 3
   },
   "file_extension": ".py",
   "mimetype": "text/x-python",
   "name": "python",
   "nbconvert_exporter": "python",
   "pygments_lexer": "ipython3",
   "version": "3.12.3"
  }
 },
 "nbformat": 4,
 "nbformat_minor": 2
}
