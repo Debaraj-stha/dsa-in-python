{
 "cells": [
  {
   "cell_type": "code",
   "execution_count": 2,
   "metadata": {},
   "outputs": [
    {
     "name": "stdout",
     "output_type": "stream",
     "text": [
      "[[1], [1, 2], [1, 2, 2], [2], [2, 2]]\n"
     ]
    }
   ],
   "source": [
    "def uniquesubsets(arr):\n",
    "    res=[]\n",
    "    def backtrack(start,current):\n",
    "        for i in range(start,len(arr)):\n",
    "            if i>start and arr[i]==arr[i-1]:\n",
    "                continue\n",
    "            current.append(arr[i])\n",
    "            res.append(current[:])\n",
    "            backtrack(i+1,current)\n",
    "            current.pop()\n",
    "    backtrack(0, [])\n",
    "    return res\n",
    "my_list=[1,2,2]\n",
    "print(uniquesubsets(my_list))"
   ]
  }
 ],
 "metadata": {
  "kernelspec": {
   "display_name": "myenv",
   "language": "python",
   "name": "python3"
  },
  "language_info": {
   "codemirror_mode": {
    "name": "ipython",
    "version": 3
   },
   "file_extension": ".py",
   "mimetype": "text/x-python",
   "name": "python",
   "nbconvert_exporter": "python",
   "pygments_lexer": "ipython3",
   "version": "3.12.3"
  }
 },
 "nbformat": 4,
 "nbformat_minor": 2
}
