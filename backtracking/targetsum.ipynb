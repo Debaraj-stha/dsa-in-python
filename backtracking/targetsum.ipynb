{
 "cells": [
  {
   "cell_type": "code",
   "execution_count": 1,
   "metadata": {},
   "outputs": [
    {
     "name": "stdout",
     "output_type": "stream",
     "text": [
      "[[1, -2, 8, 3], [1, 9], [5, -2, 7], [-2, 3, 9], [3, 7]]\n"
     ]
    }
   ],
   "source": [
    "def target_sum(arr,target):\n",
    "    res=[]\n",
    "    def backtrack(current,index):\n",
    "        if sum(current)==target:\n",
    "            res.append(current[:])\n",
    "            return\n",
    "        if sum(current)>target or index>=len(arr):\n",
    "            return\n",
    "        backtrack(current+[arr[index]],index+1)\n",
    "        backtrack(current,index+1)\n",
    "    backtrack([],0)\n",
    "    return res\n",
    "arr=[1,5,-2,8,3,9,7]\n",
    "target=10\n",
    "print(target_sum(arr,target))\n"
   ]
  }
 ],
 "metadata": {
  "kernelspec": {
   "display_name": "myenv",
   "language": "python",
   "name": "python3"
  },
  "language_info": {
   "codemirror_mode": {
    "name": "ipython",
    "version": 3
   },
   "file_extension": ".py",
   "mimetype": "text/x-python",
   "name": "python",
   "nbconvert_exporter": "python",
   "pygments_lexer": "ipython3",
   "version": "3.12.3"
  }
 },
 "nbformat": 4,
 "nbformat_minor": 2
}
