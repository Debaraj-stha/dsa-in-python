{
 "cells": [
  {
   "cell_type": "code",
   "execution_count": 2,
   "metadata": {},
   "outputs": [
    {
     "name": "stdout",
     "output_type": "stream",
     "text": [
      "[0, 1, 0, 1, 0, 1]\n"
     ]
    }
   ],
   "source": [
    "def k_partie(graph):\n",
    "    colors=[-1]*len(graph)\n",
    "    def backtrack(node,color):\n",
    "        colors[node]=color\n",
    "\n",
    "        for neighbor in graph[node]:\n",
    "            if colors[neighbor]==-1:\n",
    "                if not backtrack(neighbor,1-color):\n",
    "                    return False\n",
    "            elif colors[neighbor]==colors[node]:\n",
    "                return False\n",
    "        return True\n",
    "\n",
    "    for i in graph:\n",
    "        if colors[i]==-1:\n",
    "            if not backtrack(i,0):\n",
    "                return False\n",
    "    return colors\n",
    "\n",
    "graph = {\n",
    "    0: [1, 3],\n",
    "    1: [0, 2],\n",
    "    2: [1, 3],\n",
    "    3: [0, 2],\n",
    "    4: [5],\n",
    "    5: [4]\n",
    "}\n",
    "\n",
    "\n",
    "result = k_partie(graph)\n",
    "print(result)\n"
   ]
  }
 ],
 "metadata": {
  "kernelspec": {
   "display_name": "myenv",
   "language": "python",
   "name": "python3"
  },
  "language_info": {
   "codemirror_mode": {
    "name": "ipython",
    "version": 3
   },
   "file_extension": ".py",
   "mimetype": "text/x-python",
   "name": "python",
   "nbconvert_exporter": "python",
   "pygments_lexer": "ipython3",
   "version": "3.12.3"
  }
 },
 "nbformat": 4,
 "nbformat_minor": 2
}
