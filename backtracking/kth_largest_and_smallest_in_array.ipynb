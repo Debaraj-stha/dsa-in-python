{
 "cells": [
  {
   "cell_type": "code",
   "execution_count": null,
   "metadata": {},
   "outputs": [
    {
     "name": "stdout",
     "output_type": "stream",
     "text": [
      "10\n",
      "13\n"
     ]
    }
   ],
   "source": [
    "def kth_smallest(arr,k):\n",
    "    rows,cols=len(arr),len(arr[0])\n",
    "    if k==0:\n",
    "        return arr[0][0]\n",
    "    if k==rows*cols:\n",
    "        return arr[-1][-1]\n",
    "    def count_less_or_equal(mid):\n",
    "        row=rows-1\n",
    "        col=0\n",
    "        count=0\n",
    "        while row>=0 and col<cols:\n",
    "            if arr[row][col]<=mid:\n",
    "                count+=row+1\n",
    "                col+=1\n",
    "            else:\n",
    "                row-=1\n",
    "        return count\n",
    "    left,right=arr[0][0],arr[-1][-1]\n",
    "    while left<right:\n",
    "        mid=(left+right)//2\n",
    "        if count_less_or_equal(mid)<k:\n",
    "            left=mid+1\n",
    "        else:\n",
    "            right=mid\n",
    "    return left\n",
    "def kth_largest(arr,k):\n",
    "    if k==0:\n",
    "        return arr[-1][-1]\n",
    "    if k==len(arr)*len(arr[0]):\n",
    "        return arr[0][0]\n",
    "    rows,cols=len(arr),len(arr[0])\n",
    "    def count_equal_or_greater(mid):\n",
    "        col=0\n",
    "        count=0\n",
    "        row=rows-1  \n",
    "        while row >= 0 and col < cols:\n",
    "            if arr[row][col] >= mid:\n",
    "                count += (rows-col)\n",
    "                row -= 1  \n",
    "            else:\n",
    "                col += 1 \n",
    "        return count\n",
    "    left, right = arr[0][0],arr[- 1][-1]\n",
    "\n",
    "    while left < right:\n",
    "        mid = (left + right + 1) // 2 \n",
    "        if count_equal_or_greater(mid) >= k:\n",
    "            left = mid  \n",
    "        else:\n",
    "            right = mid - 1 \n",
    "\n",
    "    return left \n",
    "\n",
    "arr=[[1, 5, 9], [10, 11, 13], [16,17,20]]\n",
    "print(kth_smallest(arr,4))\n",
    "print(kth_largest(arr,4))\n"
   ]
  }
 ],
 "metadata": {
  "kernelspec": {
   "display_name": "myenv",
   "language": "python",
   "name": "python3"
  },
  "language_info": {
   "codemirror_mode": {
    "name": "ipython",
    "version": 3
   },
   "file_extension": ".py",
   "mimetype": "text/x-python",
   "name": "python",
   "nbconvert_exporter": "python",
   "pygments_lexer": "ipython3",
   "version": "3.12.3"
  }
 },
 "nbformat": 4,
 "nbformat_minor": 2
}
