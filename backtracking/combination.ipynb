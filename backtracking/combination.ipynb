{
 "cells": [
  {
   "cell_type": "code",
   "execution_count": 1,
   "metadata": {},
   "outputs": [
    {
     "name": "stdout",
     "output_type": "stream",
     "text": [
      "[[1], [1, 2], [1, 2, 3], [1, 3], [2], [2, 3], [3]]\n"
     ]
    }
   ],
   "source": [
    "def combination(arr):\n",
    "    res=[]\n",
    "    def backtrack(current,index):\n",
    "        for i in range(index,len(arr)):\n",
    "            current.append(arr[i])\n",
    "            res.append(current[:])\n",
    "            backtrack(current,i+1)\n",
    "            current.pop()\n",
    "    backtrack([],0)\n",
    "    return res\n",
    "arr=[1,2,3]\n",
    "print(combination(arr))\n"
   ]
  }
 ],
 "metadata": {
  "kernelspec": {
   "display_name": "myenv",
   "language": "python",
   "name": "python3"
  },
  "language_info": {
   "codemirror_mode": {
    "name": "ipython",
    "version": 3
   },
   "file_extension": ".py",
   "mimetype": "text/x-python",
   "name": "python",
   "nbconvert_exporter": "python",
   "pygments_lexer": "ipython3",
   "version": "3.12.3"
  }
 },
 "nbformat": 4,
 "nbformat_minor": 2
}
