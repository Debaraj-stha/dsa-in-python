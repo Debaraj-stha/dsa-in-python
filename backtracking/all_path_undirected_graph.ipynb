{
 "cells": [
  {
   "cell_type": "code",
   "execution_count": null,
   "metadata": {},
   "outputs": [
    {
     "name": "stdout",
     "output_type": "stream",
     "text": [
      "[[0, 1, 3, 4, 5, 6], [0, 1, 6], [0, 2, 5, 4, 3, 1, 6], [0, 2, 5, 6]]\n"
     ]
    }
   ],
   "source": [
    "def allPathInUndirectedGraph(graph):\n",
    "    n = max(graph.keys()) + 1 \n",
    "    paths = []\n",
    "\n",
    "    def backtrack(node, path):\n",
    "        path.append(node)\n",
    "\n",
    "        if node == n - 1:  \n",
    "            paths.append(path[:])  \n",
    "        else:\n",
    "            for neighbor in graph[node]:\n",
    "                if neighbor not in path:  \n",
    "                    backtrack(neighbor, path)\n",
    "\n",
    "        path.pop()  \n",
    "\n",
    "    backtrack(0, []) \n",
    "    return paths\n",
    "\n",
    "\n",
    "graph = {\n",
    "    0: [1, 2],\n",
    "    1: [0, 3, 6],\n",
    "    2: [0, 5],  \n",
    "    3: [1, 4],\n",
    "    4: [3, 5],\n",
    "    5: [2, 4, 6],\n",
    "    6: [1, 5]\n",
    "}\n",
    "\n",
    "print(allPathInUndirectedGraph(graph))\n"
   ]
  }
 ],
 "metadata": {
  "kernelspec": {
   "display_name": "env",
   "language": "python",
   "name": "python3"
  },
  "language_info": {
   "codemirror_mode": {
    "name": "ipython",
    "version": 3
   },
   "file_extension": ".py",
   "mimetype": "text/x-python",
   "name": "python",
   "nbconvert_exporter": "python",
   "pygments_lexer": "ipython3",
   "version": "3.12.3"
  }
 },
 "nbformat": 4,
 "nbformat_minor": 2
}
