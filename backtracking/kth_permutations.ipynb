{
 "cells": [
  {
   "cell_type": "code",
   "execution_count": 1,
   "metadata": {},
   "outputs": [
    {
     "name": "stdout",
     "output_type": "stream",
     "text": [
      "['BAC']\n"
     ]
    }
   ],
   "source": [
    "def kthpermutations(k,arr):\n",
    "    res=[]\n",
    "    n=len(arr)\n",
    "    count=[0]\n",
    "    def backtrack(current,remaining):\n",
    "        if not remaining:\n",
    "            count[0]+=1\n",
    "            if count[0]==k:\n",
    "                res.append(''.join(current))\n",
    "                return\n",
    "        for i in range(len(remaining)):\n",
    "            current.append(remaining[i])\n",
    "            backtrack(current,remaining[:i]+remaining[i+1:])\n",
    "            current.pop()\n",
    "            if res:\n",
    "                return\n",
    "    backtrack([],arr)\n",
    "    return res\n",
    "print(kthpermutations(3, ['A', 'B', 'C'])) # ['ABC', 'ACB', 'BAC']\n",
    "            "
   ]
  }
 ],
 "metadata": {
  "kernelspec": {
   "display_name": "myenv",
   "language": "python",
   "name": "python3"
  },
  "language_info": {
   "codemirror_mode": {
    "name": "ipython",
    "version": 3
   },
   "file_extension": ".py",
   "mimetype": "text/x-python",
   "name": "python",
   "nbconvert_exporter": "python",
   "pygments_lexer": "ipython3",
   "version": "3.12.3"
  }
 },
 "nbformat": 4,
 "nbformat_minor": 2
}
