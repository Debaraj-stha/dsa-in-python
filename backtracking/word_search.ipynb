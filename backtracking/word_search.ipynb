{
 "cells": [
  {
   "cell_type": "code",
   "execution_count": 1,
   "metadata": {},
   "outputs": [
    {
     "name": "stdout",
     "output_type": "stream",
     "text": [
      "True\n"
     ]
    }
   ],
   "source": [
    "def isValid(grid,row,col,index,rows,cols,word):\n",
    "    if row < 0 or row >= rows or col < 0 or col >= cols or grid[row][col]!=word[index]:\n",
    "        return False\n",
    "    return True\n",
    "\n",
    "def word_search(grid,word):\n",
    "    rows,cols=len(grid),len(grid[0])\n",
    "    def backtrack(row,col,index):\n",
    "        if index==len(word):\n",
    "            return True\n",
    "        if  row < 0 or row >= rows or col < 0 or col >= cols or grid[row][col]!=word[index]:\n",
    "            return False\n",
    "        temp=grid[row][col]\n",
    "        grid[row][col] = \"#\"\n",
    "        found=(\n",
    "            backtrack(row+1,col,index+1) or\n",
    "            backtrack(row-1,col,index+1) or\n",
    "            backtrack(row,col+1,index+1) or\n",
    "            backtrack(row,col-1,index+1)\n",
    "        )\n",
    "        grid[row][col] = temp\n",
    "        return found\n",
    "    for i in range(rows):\n",
    "        for j in range(cols):\n",
    "            if backtrack(i,j,0):\n",
    "                return True\n",
    "    return False\n",
    "\n",
    "\n",
    "grid=[\n",
    "    [\"A\",\"B\",\"D\"],\n",
    "    [\"E\",\"F\",\"C\"],\n",
    "    [\"I\",\"G\",\"H\"],\n",
    "    [\"G\",\"D\",\"K\"]\n",
    "]\n",
    "word=\"ABD\"\n",
    "print(word_search(grid,word))  # True\n",
    "            "
   ]
  }
 ],
 "metadata": {
  "kernelspec": {
   "display_name": "myenv",
   "language": "python",
   "name": "python3"
  },
  "language_info": {
   "codemirror_mode": {
    "name": "ipython",
    "version": 3
   },
   "file_extension": ".py",
   "mimetype": "text/x-python",
   "name": "python",
   "nbconvert_exporter": "python",
   "pygments_lexer": "ipython3",
   "version": "3.12.3"
  }
 },
 "nbformat": 4,
 "nbformat_minor": 2
}
