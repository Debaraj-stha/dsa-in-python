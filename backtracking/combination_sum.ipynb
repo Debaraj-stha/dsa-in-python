{
 "cells": [
  {
   "cell_type": "code",
   "execution_count": null,
   "metadata": {},
   "outputs": [
    {
     "name": "stdout",
     "output_type": "stream",
     "text": [
      "[[1, 1, 1, 1], [1, 1, 2], [1, 3], [2, 2]]\n"
     ]
    }
   ],
   "source": [
    "def combinationSum(arr,target):\n",
    "    res=[]\n",
    "    def backtrack(current,index,currentsum):\n",
    "        if currentsum==target:\n",
    "            res.append(current[:])\n",
    "            return\n",
    "        if currentsum>target or index>=len(arr):\n",
    "            return\n",
    "        \n",
    "        for i in range(index,len(arr)):\n",
    "            current.append(arr[i])\n",
    "            currentsum+=arr[i]\n",
    "            backtrack(current,i,currentsum)\n",
    "            current.pop()\n",
    "            currentsum-=arr[i]\n",
    "    backtrack([],0,0)\n",
    "    return res\n",
    "arr=[1,2,3]\n",
    "print(combinationSum(arr,4))"
   ]
  }
 ],
 "metadata": {
  "kernelspec": {
   "display_name": "myenv",
   "language": "python",
   "name": "python3"
  },
  "language_info": {
   "codemirror_mode": {
    "name": "ipython",
    "version": 3
   },
   "file_extension": ".py",
   "mimetype": "text/x-python",
   "name": "python",
   "nbconvert_exporter": "python",
   "pygments_lexer": "ipython3",
   "version": "3.12.3"
  }
 },
 "nbformat": 4,
 "nbformat_minor": 2
}
