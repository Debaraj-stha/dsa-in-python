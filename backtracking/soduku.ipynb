{
 "cells": [
  {
   "cell_type": "code",
   "execution_count": 7,
   "metadata": {},
   "outputs": [
    {
     "name": "stdout",
     "output_type": "stream",
     "text": [
      "0 0 0 | 0 0 0 | 0 0 0 \n",
      "0 0 0 | 0 0 0 | 0 0 0 \n",
      "0 0 0 | 0 0 0 | 0 0 0 \n",
      "--------------------\n",
      "0 0 0 | 0 0 0 | 0 0 0 \n",
      "0 0 0 | 0 0 0 | 0 0 0 \n",
      "0 0 0 | 0 0 0 | 0 0 0 \n",
      "--------------------\n",
      "0 0 0 | 0 0 0 | 0 0 0 \n",
      "0 0 0 | 0 0 0 | 0 0 0 \n",
      "0 0 0 | 0 0 0 | 0 0 0 \n",
      "Solved board\n",
      "7 1 4 | 3 5 8 | 2 9 6 \n",
      "2 8 3 | 9 6 1 | 7 5 4 \n",
      "9 6 5 | 2 4 7 | 8 1 3 \n",
      "--------------------\n",
      "4 2 7 | 6 8 9 | 1 3 5 \n",
      "3 9 6 | 7 1 5 | 4 8 2 \n",
      "8 5 1 | 4 2 3 | 9 6 7 \n",
      "--------------------\n",
      "1 3 9 | 5 7 2 | 6 4 8 \n",
      "5 4 2 | 8 9 6 | 3 7 1 \n",
      "6 7 8 | 1 3 4 | 5 2 9 \n"
     ]
    }
   ],
   "source": [
    "import random\n",
    "def isValid(board,row,col,num):\n",
    "    for i in range(9):\n",
    "        if board[row][i] == num or board[i][col] == num:\n",
    "            return False\n",
    "\n",
    "    start_row, start_col = (row // 3) * 3, (col // 3) * 3\n",
    "    for i in range(3):\n",
    "        for j in range(3):\n",
    "            if board[start_row + i][start_col + j] == num:\n",
    "                return False\n",
    "\n",
    "    return True\n",
    "\n",
    "def empty_cell(board):\n",
    "    for i in range(9):\n",
    "        for j in range(9):\n",
    "            if board[i][j] == 0:\n",
    "                return i, j\n",
    "    return -1, -1\n",
    "\n",
    "\n",
    "def print_board(board):\n",
    "    for i in range(9):\n",
    "        if i % 3 == 0 and i!=0:\n",
    "            print(\"-\" * 20)\n",
    "        for j in range(9):\n",
    "            if j % 3 == 0 and j!=0:\n",
    "                print(\"|\", end=\" \")\n",
    "            print(board[i][j], end=\" \")\n",
    "        print()\n",
    "\n",
    "\n",
    "def solve(board):\n",
    "    row,col=empty_cell(board)\n",
    "    if row==-1 and col==-1:\n",
    "        return True\n",
    "    nums=list(range(1,10))\n",
    "    random.shuffle(nums)\n",
    "    for num in nums:\n",
    "        if isValid(board,row,col,num):\n",
    "            board[row][col]=num\n",
    "            if solve(board):\n",
    "                return True\n",
    "            board[row][col]=0\n",
    "    return False\n",
    "\n",
    "board=[[0]*9 for _ in range(9)]\n",
    "print_board(board)\n",
    "print(\"Solved board\")\n",
    "solve(board)\n",
    "print_board(board)\n"
   ]
  }
 ],
 "metadata": {
  "kernelspec": {
   "display_name": "myenv",
   "language": "python",
   "name": "python3"
  },
  "language_info": {
   "codemirror_mode": {
    "name": "ipython",
    "version": 3
   },
   "file_extension": ".py",
   "mimetype": "text/x-python",
   "name": "python",
   "nbconvert_exporter": "python",
   "pygments_lexer": "ipython3",
   "version": "3.12.3"
  }
 },
 "nbformat": 4,
 "nbformat_minor": 2
}
