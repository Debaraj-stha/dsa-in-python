{
 "cells": [
  {
   "cell_type": "code",
   "execution_count": 19,
   "metadata": {},
   "outputs": [
    {
     "name": "stdout",
     "output_type": "stream",
     "text": [
      "Total Paths: 6\n",
      "['VVHH', 'VHVH', 'VHHV', 'HVVH', 'HVHV', 'HHVV']\n"
     ]
    }
   ],
   "source": [
    "\n",
    "def solve(maze, row, col, result, path, rows, cols):\n",
    "    if row == rows - 1 and col == cols - 1:\n",
    "        result.append(path)\n",
    "        return\n",
    "    if row>rows:\n",
    "        return None\n",
    "    if col>cols:\n",
    "        return None\n",
    "    vertical=solve(maze,row+1,col,result,path+\"V\",rows,cols)\n",
    "    horizontal=solve(maze,row,col+1,result,path+\"H\",rows,cols)\n",
    "    return vertical or horizontal\n",
    "\n",
    "\n",
    "maze = [\n",
    "    [1, 1, 1],\n",
    "    [1, 1, 1],\n",
    "    [1, 1, 1]\n",
    "]\n",
    "\n",
    "rows, cols = len(maze), len(maze[0])\n",
    "result = []\n",
    "\n",
    "solve(maze, 0, 0, result, \"\", rows, cols)\n",
    "\n",
    "print(\"Total Paths:\", len(result))\n",
    "print(result)\n"
   ]
  },
  {
   "cell_type": "code",
   "execution_count": null,
   "metadata": {},
   "outputs": [
    {
     "name": "stdout",
     "output_type": "stream",
     "text": [
      "2\n",
      "3\n",
      "[1, 2, 9, 8, 7, 4]\n"
     ]
    }
   ],
   "source": [
    "def nextPermutation(arr):\n",
    "    n = len(arr)\n",
    "    i = n - 2\n",
    "    while i >= 0 and arr[i] >= arr[i + 1]:\n",
    "        i -= 1\n",
    "    print(i)\n",
    "    if i >= 0:\n",
    "        j = n - 1\n",
    "        while arr[j] <= arr[i]:\n",
    "             j -= 1\n",
    "        print(j)\n",
    "        arr[i], arr[j] = arr[j], arr[i]\n",
    "    left = i + 1-\n",
    "    right = n - 1\n",
    "    while left<right:\n",
    "        arr[left],arr[right]=arr[right],arr[left]\n",
    "        left+=1\n",
    "        right-=1\n",
    "    arr[i+1:]=reversed(arr[i+1:])\n",
    "    return arr\n",
    "arr=[1,2,8,9,7,4]\n",
    "print(nextPermutation(arr))"
   ]
  }
 ],
 "metadata": {
  "kernelspec": {
   "display_name": "myenv",
   "language": "python",
   "name": "python3"
  },
  "language_info": {
   "codemirror_mode": {
    "name": "ipython",
    "version": 3
   },
   "file_extension": ".py",
   "mimetype": "text/x-python",
   "name": "python",
   "nbconvert_exporter": "python",
   "pygments_lexer": "ipython3",
   "version": "3.12.3"
  }
 },
 "nbformat": 4,
 "nbformat_minor": 2
}
