{
 "cells": [
  {
   "cell_type": "code",
   "execution_count": 3,
   "metadata": {},
   "outputs": [
    {
     "name": "stdout",
     "output_type": "stream",
     "text": [
      "['1+2+3', '1*2*3']\n"
     ]
    }
   ],
   "source": [
    "def addOperator(s,target):\n",
    "    res=[]\n",
    "    def backtrack(current,index,evalVal,previousVal):\n",
    "        if index==len(s):\n",
    "            if evalVal==target:\n",
    "                res.append(current)\n",
    "            return\n",
    "        for i in range(index,len(s)):\n",
    "            tempstr=s[index:i+1]\n",
    "            if len(tempstr)>1 and tempstr[0]==\"0\":\n",
    "                continue\n",
    "            tempnum=int(tempstr)\n",
    "            if index==0:\n",
    "                backtrack(tempstr,i+1,tempnum,tempnum)\n",
    "            else:\n",
    "                backtrack(current+'+'+tempstr,i+1,evalVal+tempnum,tempnum)\n",
    "                backtrack(current+'-'+tempstr,i+1,evalVal-tempnum,tempnum)\n",
    "                backtrack(current+'*'+tempstr,i+1,evalVal-previousVal+previousVal*tempnum,tempnum)\n",
    "    backtrack(\"\",0,0,0)\n",
    "    return res\n",
    "\n",
    "s = \"123\"\n",
    "target = 6\n",
    "print(addOperator(s,target))"
   ]
  }
 ],
 "metadata": {
  "kernelspec": {
   "display_name": "myenv",
   "language": "python",
   "name": "python3"
  },
  "language_info": {
   "codemirror_mode": {
    "name": "ipython",
    "version": 3
   },
   "file_extension": ".py",
   "mimetype": "text/x-python",
   "name": "python",
   "nbconvert_exporter": "python",
   "pygments_lexer": "ipython3",
   "version": "3.12.3"
  }
 },
 "nbformat": 4,
 "nbformat_minor": 2
}
