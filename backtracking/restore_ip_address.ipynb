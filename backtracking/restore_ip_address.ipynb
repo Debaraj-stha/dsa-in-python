{
 "cells": [
  {
   "cell_type": "code",
   "execution_count": null,
   "metadata": {},
   "outputs": [
    {
     "name": "stdout",
     "output_type": "stream",
     "text": [
      "['1.0.10.23', '1.0.102.3', '10.1.0.23', '10.10.2.3', '101.0.2.3']\n"
     ]
    }
   ],
   "source": [
    "def isValid(s):\n",
    "    if len(s)>1 and s[0]=='0':\n",
    "        return False\n",
    "    if 0<=int(s)<=255:\n",
    "        return True\n",
    "    return False\n",
    "\n",
    "def solve(s):\n",
    "    if not s:\n",
    "        return []\n",
    "    res=[]\n",
    "    def backtrack(count,current,index):\n",
    "        if count==4:\n",
    "            if index==len(s):\n",
    "                res.append(current[:-1])\n",
    "                return\n",
    "        for i in range(1,4):\n",
    "            if index+1>len(s):\n",
    "                break\n",
    "            temp=s[index:i+index]\n",
    "            if isValid(temp):\n",
    "                backtrack(count+1, current+temp+'.', index+i)\n",
    "    backtrack(0, '', 0)\n",
    "    return res\n",
    "\n",
    "s =\"101023\"\n",
    "print(solve(s)) \n",
    "            "
   ]
  }
 ],
 "metadata": {
  "kernelspec": {
   "display_name": "myenv",
   "language": "python",
   "name": "python3"
  },
  "language_info": {
   "codemirror_mode": {
    "name": "ipython",
    "version": 3
   },
   "file_extension": ".py",
   "mimetype": "text/x-python",
   "name": "python",
   "nbconvert_exporter": "python",
   "pygments_lexer": "ipython3",
   "version": "3.12.3"
  }
 },
 "nbformat": 4,
 "nbformat_minor": 2
}
