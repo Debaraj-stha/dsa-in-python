{
 "cells": [
  {
   "cell_type": "code",
   "execution_count": 4,
   "metadata": {},
   "outputs": [
    {
     "data": {
      "text/plain": [
       "[[4], [1, 3], [4], [4]]"
      ]
     },
     "execution_count": 4,
     "metadata": {},
     "output_type": "execute_result"
    }
   ],
   "source": [
    "def matchsticks(sticks):\n",
    "    total=sum(sticks)\n",
    "    if total%4!=0 or total==0:\n",
    "        return False\n",
    "    target=total//4\n",
    "    res=[]\n",
    "    def backtrack(current,index):\n",
    "        if sum(current)==target:\n",
    "            res.append(current[:])\n",
    "            return\n",
    "        if sum(current)>target or index>=len(sticks):\n",
    "            return\n",
    "        backtrack(current+[sticks[index]],index+1)\n",
    "        backtrack(current,index+1)\n",
    "    backtrack([],0)\n",
    "    return res\n",
    "\n",
    "sticks=[4,1,4,4,3]\n",
    "matchsticks(sticks)"
   ]
  }
 ],
 "metadata": {
  "kernelspec": {
   "display_name": "myenv",
   "language": "python",
   "name": "python3"
  },
  "language_info": {
   "codemirror_mode": {
    "name": "ipython",
    "version": 3
   },
   "file_extension": ".py",
   "mimetype": "text/x-python",
   "name": "python",
   "nbconvert_exporter": "python",
   "pygments_lexer": "ipython3",
   "version": "3.12.3"
  }
 },
 "nbformat": 4,
 "nbformat_minor": 2
}
