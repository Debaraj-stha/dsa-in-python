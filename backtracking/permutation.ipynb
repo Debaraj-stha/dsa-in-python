{
 "cells": [
  {
   "cell_type": "code",
   "execution_count": 2,
   "metadata": {},
   "outputs": [
    {
     "data": {
      "text/plain": [
       "[[1, 2, 3], [1, 3, 2], [2, 1, 3], [2, 3, 1], [3, 1, 2], [3, 2, 1]]"
      ]
     },
     "execution_count": 2,
     "metadata": {},
     "output_type": "execute_result"
    }
   ],
   "source": [
    "def permutation(arr):\n",
    "    res=[]\n",
    "    def backtrack(remaining,current):\n",
    "        if not remaining:\n",
    "            res.append(current[:])\n",
    "            return\n",
    "        for i in range(len(remaining)):\n",
    "            current.append(remaining[i])\n",
    "            backtrack(remaining[:i]+remaining[i+1:], current)\n",
    "            current.pop()\n",
    "    backtrack(arr, [])\n",
    "    return res\n",
    "arr=[1,2,3]\n",
    "result=permutation(arr)\n",
    "result"
   ]
  }
 ],
 "metadata": {
  "kernelspec": {
   "display_name": "myenv",
   "language": "python",
   "name": "python3"
  },
  "language_info": {
   "codemirror_mode": {
    "name": "ipython",
    "version": 3
   },
   "file_extension": ".py",
   "mimetype": "text/x-python",
   "name": "python",
   "nbconvert_exporter": "python",
   "pygments_lexer": "ipython3",
   "version": "3.12.3"
  }
 },
 "nbformat": 4,
 "nbformat_minor": 2
}
