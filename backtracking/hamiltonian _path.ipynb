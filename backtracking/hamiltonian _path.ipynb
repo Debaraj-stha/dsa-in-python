{
 "cells": [
  {
   "cell_type": "code",
   "execution_count": 9,
   "metadata": {},
   "outputs": [
    {
     "name": "stdout",
     "output_type": "stream",
     "text": [
      "Path found: [5, 3, 1, 0, 2, 4]\n"
     ]
    },
    {
     "data": {
      "text/plain": [
       "True"
      ]
     },
     "execution_count": 9,
     "metadata": {},
     "output_type": "execute_result"
    }
   ],
   "source": [
    "def hamiltonian_path(graph):\n",
    "    n=max(graph.keys())+1\n",
    "    visited=[False]*n\n",
    "    path=[]\n",
    "    def backtrack(node):\n",
    "        path.append(node)\n",
    "        if len(path)==n:\n",
    "            print(\"Path found:\",path)\n",
    "            return True\n",
    "        for neighbor in graph[node]:\n",
    "            if not visited[neighbor]:\n",
    "                visited[neighbor] = True\n",
    "                if backtrack(neighbor):\n",
    "                    return True\n",
    "                visited[neighbor] = False\n",
    "        path.pop()\n",
    "        return False\n",
    "\n",
    "    for node in graph:\n",
    "        visited[node] = True\n",
    "        if backtrack(node):\n",
    "            return True\n",
    "        visited[node] = False\n",
    "    return False\n",
    "\n",
    "\n",
    "\n",
    "\n",
    "\n",
    "graph = {\n",
    "    0: [1, 2],\n",
    "    1: [0, 3, 4],\n",
    "    2: [0, 4],\n",
    "    3: [1, 4],\n",
    "    4: [1, 2],\n",
    "    5:[3]\n",
    "}\n",
    "hamiltonian_path(graph)\n"
   ]
  }
 ],
 "metadata": {
  "kernelspec": {
   "display_name": "env",
   "language": "python",
   "name": "python3"
  },
  "language_info": {
   "codemirror_mode": {
    "name": "ipython",
    "version": 3
   },
   "file_extension": ".py",
   "mimetype": "text/x-python",
   "name": "python",
   "nbconvert_exporter": "python",
   "pygments_lexer": "ipython3",
   "version": "3.12.3"
  }
 },
 "nbformat": 4,
 "nbformat_minor": 2
}
