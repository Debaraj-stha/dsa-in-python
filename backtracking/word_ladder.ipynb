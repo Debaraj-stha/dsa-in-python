{
 "cells": [
  {
   "cell_type": "code",
   "execution_count": 4,
   "metadata": {},
   "outputs": [
    {
     "data": {
      "text/plain": [
       "[['hit', 'hot', 'dot', 'dog', 'cog'], ['hit', 'hot', 'lot', 'log', 'cog']]"
      ]
     },
     "execution_count": 4,
     "metadata": {},
     "output_type": "execute_result"
    }
   ],
   "source": [
    "from collections import  defaultdict,deque\n",
    "def solve(wordlist,beginword,endword):\n",
    "    wordset=set(wordlist)\n",
    "    if endword not in wordset:\n",
    "        return []\n",
    "    level={beginword:0}\n",
    "    graph=defaultdict(list)\n",
    "    flag=False\n",
    "    queue=deque([beginword])\n",
    "    while queue and not flag:\n",
    "        for _ in range(len(queue)):\n",
    "            word=queue.popleft()\n",
    "            currentLevel=level[word]\n",
    "            for i in range(len(word)):\n",
    "                for char in 'abcdefghijklmnopqrstuvwxyz':\n",
    "                    newWord=word[:i]+char+word[i+1:]\n",
    "                    if newWord in wordset:\n",
    "                        if newWord not in level:\n",
    "                            level[newWord]=currentLevel+1\n",
    "                            queue.append(newWord)\n",
    "                        if level[newWord] == currentLevel+1:\n",
    "                            graph[word].append(newWord)\n",
    "                        if newWord == endword:\n",
    "                            flag=True\n",
    "                            break\n",
    "    if not flag:\n",
    "        return []\n",
    "    res=[]\n",
    "    def backtrack(word,path):\n",
    "        if word==endword:\n",
    "            res.append(path[:])\n",
    "            return\n",
    "        for nextWord in graph[word]:\n",
    "            backtrack(nextWord,path+[nextWord])\n",
    "    backtrack(beginword, [beginword])\n",
    "    return res\n",
    "\n",
    "wordlist = [\"hot\",\"dot\",\"dog\",\"lot\",\"log\",\"cog\"]\n",
    "beginword = \"hit\"\n",
    "endword = \"cog\"\n",
    "solve(wordlist,beginword,endword)\n",
    "    \n"
   ]
  }
 ],
 "metadata": {
  "kernelspec": {
   "display_name": "myenv",
   "language": "python",
   "name": "python3"
  },
  "language_info": {
   "codemirror_mode": {
    "name": "ipython",
    "version": 3
   },
   "file_extension": ".py",
   "mimetype": "text/x-python",
   "name": "python",
   "nbconvert_exporter": "python",
   "pygments_lexer": "ipython3",
   "version": "3.12.3"
  }
 },
 "nbformat": 4,
 "nbformat_minor": 2
}
