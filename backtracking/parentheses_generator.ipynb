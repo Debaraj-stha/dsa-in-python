{
 "cells": [
  {
   "cell_type": "code",
   "execution_count": 5,
   "metadata": {},
   "outputs": [
    {
     "data": {
      "text/plain": [
       "['((()))', '(()())', '(())()', '()(())', '()()()']"
      ]
     },
     "execution_count": 5,
     "metadata": {},
     "output_type": "execute_result"
    }
   ],
   "source": [
    "def generate(n):\n",
    "    res=[]\n",
    "    def backtrack(current,open_count,closecount):\n",
    "        if open_count==n and closecount==n:\n",
    "            res.append(current)\n",
    "            return\n",
    "        if  open_count<n:\n",
    "            backtrack(current+\"(\",open_count+1,closecount)\n",
    "        if closecount<open_count:\n",
    "            backtrack(current+\")\",open_count,closecount+1)\n",
    "    backtrack(\"\",0,0)\n",
    "    return res\n",
    "\n",
    "generate(3)"
   ]
  }
 ],
 "metadata": {
  "kernelspec": {
   "display_name": "myenv",
   "language": "python",
   "name": "python3"
  },
  "language_info": {
   "codemirror_mode": {
    "name": "ipython",
    "version": 3
   },
   "file_extension": ".py",
   "mimetype": "text/x-python",
   "name": "python",
   "nbconvert_exporter": "python",
   "pygments_lexer": "ipython3",
   "version": "3.12.3"
  }
 },
 "nbformat": 4,
 "nbformat_minor": 2
}
