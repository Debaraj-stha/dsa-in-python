{
 "cells": [
  {
   "cell_type": "code",
   "execution_count": 7,
   "metadata": {},
   "outputs": [
    {
     "name": "stdout",
     "output_type": "stream",
     "text": [
      "[[0, 1, 3], [0, 2, 3]]\n"
     ]
    }
   ],
   "source": [
    "def all_path(graph):\n",
    "    n=len(graph)\n",
    "    res=[]\n",
    "    def backtrack(node,path):\n",
    "        path.append(node)\n",
    "        if node==n-1:\n",
    "            res.append(path[:])\n",
    "            \n",
    "        else:\n",
    "            for neighbor in range(n):\n",
    "                if graph[node][neighbor]==1:\n",
    "                    backtrack(neighbor,path)\n",
    "        path.pop()\n",
    "    backtrack(0,[])\n",
    "    return res\n",
    "graph = [\n",
    "    [0, 1, 1, 0],  # 0 → 1, 0 → 2\n",
    "    [0, 0, 0, 1],  # 1 → 3\n",
    "    [0, 0, 0, 1],  # 2 → 3\n",
    "    [0, 0, 0, 0]   # 3 has no outgoing edges\n",
    "]\n",
    "print(all_path(graph))"
   ]
  }
 ],
 "metadata": {
  "kernelspec": {
   "display_name": "env",
   "language": "python",
   "name": "python3"
  },
  "language_info": {
   "codemirror_mode": {
    "name": "ipython",
    "version": 3
   },
   "file_extension": ".py",
   "mimetype": "text/x-python",
   "name": "python",
   "nbconvert_exporter": "python",
   "pygments_lexer": "ipython3",
   "version": "3.12.3"
  }
 },
 "nbformat": 4,
 "nbformat_minor": 2
}
