{
 "cells": [
  {
   "cell_type": "code",
   "execution_count": 2,
   "metadata": {},
   "outputs": [
    {
     "data": {
      "text/plain": [
       "[[1, 4], [2, 3]]"
      ]
     },
     "execution_count": 2,
     "metadata": {},
     "output_type": "execute_result"
    }
   ],
   "source": [
    "def subset_sum(arr,target):\n",
    "    res=[]\n",
    "    def backtrack(current,index):\n",
    "        if sum(current)==target:\n",
    "            res.append(current)\n",
    "            return\n",
    "        if sum(current)>target or index>=len(arr):\n",
    "            return\n",
    "        backtrack(current+[arr[index]],index+1)\n",
    "        backtrack(current,index+1)\n",
    "    backtrack([],0)\n",
    "    return res\n",
    "arr=[1,2,3,4]\n",
    "target=5\n",
    "subset_sum(arr,target)"
   ]
  }
 ],
 "metadata": {
  "kernelspec": {
   "display_name": "myenv",
   "language": "python",
   "name": "python3"
  },
  "language_info": {
   "codemirror_mode": {
    "name": "ipython",
    "version": 3
   },
   "file_extension": ".py",
   "mimetype": "text/x-python",
   "name": "python",
   "nbconvert_exporter": "python",
   "pygments_lexer": "ipython3",
   "version": "3.12.3"
  }
 },
 "nbformat": 4,
 "nbformat_minor": 2
}
