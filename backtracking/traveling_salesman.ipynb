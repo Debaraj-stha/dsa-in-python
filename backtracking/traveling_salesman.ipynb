{
 "cells": [
  {
   "cell_type": "code",
   "execution_count": 42,
   "metadata": {},
   "outputs": [
    {
     "data": {
      "text/plain": [
       "80"
      ]
     },
     "execution_count": 42,
     "metadata": {},
     "output_type": "execute_result"
    }
   ],
   "source": [
    "def traveling_salesman(distance,visited,currentPos,nodeCount,cost,n,minCost):\n",
    "    if nodeCount==n and distance[currentPos][0]:\n",
    "        return min(minCost,cost+distance[currentPos][0])\n",
    "    for i in range(n):\n",
    "        if not visited[i] and distance[currentPos][i]:\n",
    "            visited[i]=True\n",
    "            minCost = traveling_salesman(distance, visited, i, nodeCount+1, cost+distance[currentPos][i], n, minCost)\n",
    "            visited[i]=False\n",
    "    return minCost\n",
    "distance_matrix = [\n",
    "    [0, 10, 15, 20],\n",
    "    [10, 0, 35, 25],\n",
    "    [15, 35, 0, 30],\n",
    "    [20, 25, 30, 0]\n",
    "]\n",
    "visited=[False]*len(distance_matrix)\n",
    "visited[0]=True\n",
    "traveling_salesman(distance_matrix, visited,0,1,0,len(distance_matrix),float(\"inf\"))"
   ]
  },
  {
   "cell_type": "code",
   "execution_count": null,
   "metadata": {},
   "outputs": [
    {
     "data": {
      "text/plain": [
       "80"
      ]
     },
     "execution_count": 44,
     "metadata": {},
     "output_type": "execute_result"
    }
   ],
   "source": []
  }
 ],
 "metadata": {
  "kernelspec": {
   "display_name": "myenv",
   "language": "python",
   "name": "python3"
  },
  "language_info": {
   "codemirror_mode": {
    "name": "ipython",
    "version": 3
   },
   "file_extension": ".py",
   "mimetype": "text/x-python",
   "name": "python",
   "nbconvert_exporter": "python",
   "pygments_lexer": "ipython3",
   "version": "3.12.3"
  }
 },
 "nbformat": 4,
 "nbformat_minor": 2
}
