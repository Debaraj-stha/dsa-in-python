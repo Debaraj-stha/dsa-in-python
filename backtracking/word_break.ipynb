{
 "cells": [
  {
   "cell_type": "code",
   "execution_count": 1,
   "metadata": {},
   "outputs": [
    {
     "name": "stdout",
     "output_type": "stream",
     "text": [
      "['cat sand dog', 'cats and dog']\n"
     ]
    }
   ],
   "source": [
    "def work_break(word,dictionary):\n",
    "    res=[]\n",
    "    n=len(word)\n",
    "    def backtrack(start,current):\n",
    "        if start==n:\n",
    "            res.append(\" \".join(current) )\n",
    "            return\n",
    "        for end in range(start+1,n+1):\n",
    "            w=word[start:end]\n",
    "            if w in dictionary:\n",
    "                current.append(w)\n",
    "                backtrack(end,current)\n",
    "                current.pop()\n",
    "    backtrack(0, [])\n",
    "    return res\n",
    "\n",
    "word=\"catsanddog\"\n",
    "dictionary=[\"cat\", \"cats\", \"and\", \"sand\", \"dog\"]\n",
    "print(work_break(word, dictionary))"
   ]
  }
 ],
 "metadata": {
  "kernelspec": {
   "display_name": "myenv",
   "language": "python",
   "name": "python3"
  },
  "language_info": {
   "codemirror_mode": {
    "name": "ipython",
    "version": 3
   },
   "file_extension": ".py",
   "mimetype": "text/x-python",
   "name": "python",
   "nbconvert_exporter": "python",
   "pygments_lexer": "ipython3",
   "version": "3.12.3"
  }
 },
 "nbformat": 4,
 "nbformat_minor": 2
}
