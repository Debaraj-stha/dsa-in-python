{
 "cells": [
  {
   "cell_type": "code",
   "execution_count": 6,
   "metadata": {},
   "outputs": [
    {
     "name": "stdout",
     "output_type": "stream",
     "text": [
      "[0, 5, 14, 9, 20]\n",
      "[13, 8, 19, 4, 15]\n",
      "[18, 1, 6, 21, 10]\n",
      "[7, 12, 23, 16, 3]\n",
      "[24, 17, 2, 11, 22]\n"
     ]
    },
    {
     "data": {
      "text/plain": [
       "True"
      ]
     },
     "execution_count": 6,
     "metadata": {},
     "output_type": "execute_result"
    }
   ],
   "source": [
    "\n",
    "dr= [2, 1, -1, -2, -2, -1, 1, 2]\n",
    "dc= [1, 2, 2, 1, -1, -2, -2, -1]\n",
    "def print_board(board):\n",
    "    for row in board:\n",
    "        print(row)\n",
    "def backtrack(board,row,col,movecount,n):\n",
    "    if movecount==n*n:\n",
    "        return True\n",
    "    for i in range(8):\n",
    "        newrow,newcol=row+dr[i],col+dc[i]\n",
    "        if 0<=newrow<n and 0<=newcol<n and board[newrow][newcol]==-1:\n",
    "            board[newrow][newcol]=movecount\n",
    "            if backtrack(board,newrow,newcol,movecount+1,n):\n",
    "                return True\n",
    "            board[newrow][newcol]=-1\n",
    "    return False\n",
    "def solve(board,n):\n",
    "    board[0][0]=0\n",
    "    if backtrack(board,0,0,1,n):\n",
    "        print_board(board)\n",
    "        return True\n",
    "    else:\n",
    "        return False\n",
    "    \n",
    "\n",
    "n=5\n",
    "board=[[-1]*n for _ in range(n)]\n",
    "solve(board,n)"
   ]
  }
 ],
 "metadata": {
  "kernelspec": {
   "display_name": "myenv",
   "language": "python",
   "name": "python3"
  },
  "language_info": {
   "codemirror_mode": {
    "name": "ipython",
    "version": 3
   },
   "file_extension": ".py",
   "mimetype": "text/x-python",
   "name": "python",
   "nbconvert_exporter": "python",
   "pygments_lexer": "ipython3",
   "version": "3.12.3"
  }
 },
 "nbformat": 4,
 "nbformat_minor": 2
}
