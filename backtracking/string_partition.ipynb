{
 "cells": [
  {
   "cell_type": "code",
   "execution_count": 4,
   "metadata": {},
   "outputs": [
    {
     "name": "stdout",
     "output_type": "stream",
     "text": [
      "[['r', 'a', 'c', 'e', 'c', 'a', 'r'], ['r', 'a', 'cec', 'a', 'r'], ['r', 'aceca', 'r'], ['racecar']]\n"
     ]
    }
   ],
   "source": [
    "def isPalindrome(s):\n",
    "    return s == s[::-1]\n",
    "\n",
    "def partition(s):\n",
    "    if not s:\n",
    "        return \n",
    "    res=[]\n",
    "    def backtrack(start, current):\n",
    "        if start==len(s):\n",
    "            res.append(current[:])\n",
    "            return\n",
    "        for i in range(start,len(s)):\n",
    "            if isPalindrome(s[start:i+1]):\n",
    "                backtrack(i+1, current+[s[start:i+1]])\n",
    "    backtrack(0, [])\n",
    "    return res\n",
    "\n",
    "print(partition(\"racecar\"))\n"
   ]
  }
 ],
 "metadata": {
  "kernelspec": {
   "display_name": "myenv",
   "language": "python",
   "name": "python3"
  },
  "language_info": {
   "codemirror_mode": {
    "name": "ipython",
    "version": 3
   },
   "file_extension": ".py",
   "mimetype": "text/x-python",
   "name": "python",
   "nbconvert_exporter": "python",
   "pygments_lexer": "ipython3",
   "version": "3.12.3"
  }
 },
 "nbformat": 4,
 "nbformat_minor": 2
}
