{
 "cells": [
  {
   "cell_type": "code",
   "execution_count": 6,
   "metadata": {},
   "outputs": [
    {
     "name": "stdout",
     "output_type": "stream",
     "text": [
      ".Q..\n",
      "...Q\n",
      "Q...\n",
      "..Q.\n"
     ]
    },
    {
     "data": {
      "text/plain": [
       "True"
      ]
     },
     "execution_count": 6,
     "metadata": {},
     "output_type": "execute_result"
    }
   ],
   "source": [
    "def print_board(board):\n",
    "    for row in board:\n",
    "        print(\"\".join(row))\n",
    "def isValid(board,row,col,n):\n",
    "    for i in range(row):\n",
    "        if board[i][col] == 'Q':\n",
    "            return False\n",
    "    for i,j in zip(range(row,-1,-1),range(col,-1,-1)):\n",
    "        if board[i][j] == 'Q':\n",
    "            return False\n",
    "    for i,j in zip(range(row,-1,-1),range(col,n)):\n",
    "        if board[i][j] == 'Q':\n",
    "            return False\n",
    "    return True\n",
    "\n",
    "def solve(board,row,n):\n",
    "    if row>=n:\n",
    "        print_board(board)\n",
    "        return True\n",
    "    for col in range(n):\n",
    "        if isValid(board,row,col,n):\n",
    "            board[row][col] = 'Q'\n",
    "            if solve(board,row+1,n):\n",
    "                return True\n",
    "            board[row][col] = '.'\n",
    "    return False\n",
    "n=4\n",
    "board=[[\".\"]*n for _  in range(n)]\n",
    "solve(board,0,n)"
   ]
  }
 ],
 "metadata": {
  "kernelspec": {
   "display_name": "myenv",
   "language": "python",
   "name": "python3"
  },
  "language_info": {
   "codemirror_mode": {
    "name": "ipython",
    "version": 3
   },
   "file_extension": ".py",
   "mimetype": "text/x-python",
   "name": "python",
   "nbconvert_exporter": "python",
   "pygments_lexer": "ipython3",
   "version": "3.12.3"
  }
 },
 "nbformat": 4,
 "nbformat_minor": 2
}
