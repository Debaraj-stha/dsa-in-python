{
 "cells": [
  {
   "cell_type": "code",
   "execution_count": 19,
   "metadata": {},
   "outputs": [
    {
     "name": "stdout",
     "output_type": "stream",
     "text": [
      "1\n",
      "2\n",
      "3\n"
     ]
    }
   ],
   "source": [
    "class Stack:\n",
    "    def __init__(self):\n",
    "        self.stack = []\n",
    "\n",
    "    def push(self, value):\n",
    "        self.stack.append(value)\n",
    "\n",
    "    def pop(self):\n",
    "        if self.stack:\n",
    "            return self.stack.pop()\n",
    "        else:\n",
    "            return None\n",
    "    def display(self):\n",
    "        while self.stack:\n",
    "            print(self.stack.pop())\n",
    "\n",
    "    def repr(self):\n",
    "        return self.stack\n",
    "    \n",
    "    def peek(self):\n",
    "        return self.stack[-1] if self.stack else None\n",
    "\n",
    "    def is_empty(self):\n",
    "        return len(self.stack) == 0\n",
    "    \n",
    "    def size(self):\n",
    "        return len(self.stack)\n",
    "    def insertAtBottom(self, value):\n",
    "        if self.is_empty():\n",
    "            self.push(value)\n",
    "        else:\n",
    "            temp=self.pop()\n",
    "            self.insertAtBottom(value)\n",
    "            self.push(temp)\n",
    "    def reverseStack(self):\n",
    "        if self.stack:\n",
    "            temp=self.pop()\n",
    "            self.reverseStack()\n",
    "            self.insertAtBottom(temp)\n",
    "        else:\n",
    "            return self.stack\n",
    "\n",
    "stack = Stack()\n",
    "stack.push(1)\n",
    "stack.push(2)\n",
    "stack.push(3)\n",
    "\n",
    "stack.reverseStack()\n",
    "\n",
    "stack.display()\n",
    "\n",
    "\n"
   ]
  }
 ],
 "metadata": {
  "kernelspec": {
   "display_name": "myenv",
   "language": "python",
   "name": "python3"
  },
  "language_info": {
   "codemirror_mode": {
    "name": "ipython",
    "version": 3
   },
   "file_extension": ".py",
   "mimetype": "text/x-python",
   "name": "python",
   "nbconvert_exporter": "python",
   "pygments_lexer": "ipython3",
   "version": "3.12.3"
  }
 },
 "nbformat": 4,
 "nbformat_minor": 2
}
