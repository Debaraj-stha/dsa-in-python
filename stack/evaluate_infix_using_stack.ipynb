{
 "cells": [
  {
   "cell_type": "code",
   "execution_count": null,
   "metadata": {},
   "outputs": [
    {
     "name": "stdout",
     "output_type": "stream",
     "text": [
      "14\n"
     ]
    }
   ],
   "source": [
    "def calculate(op,opnd1,opnd2):\n",
    "    if op==\"+\":\n",
    "        return opnd1+opnd2\n",
    "    elif op==\"-\":\n",
    "        return opnd1-opnd2\n",
    "    elif op==\"*\":\n",
    "        return opnd1*opnd2\n",
    "    elif op==\"/\":\n",
    "        return opnd1/opnd2\n",
    "    elif op==\"^\":\n",
    "        return opnd1**opnd2\n",
    "    else:\n",
    "        return None\n",
    "def evaluateInfix(exp):\n",
    "    operators=['+','-','*','/','(',')']\n",
    "    precedence={'*':2,'/':2,'+':1,'-':1,'^':3,'(':0}\n",
    "    associativity={'+':1,'-':1,'*':1,'/':1,'^':0}\n",
    "    i=0\n",
    "    values=[]\n",
    "    operator=[]\n",
    "    while i<len(exp):\n",
    "        char=exp[i]\n",
    "        if char.isdigit():\n",
    "            num=0\n",
    "            while i<len(exp) and exp[i].isdigit():\n",
    "                num=num*10+int(exp[i])\n",
    "                \n",
    "                i+=1\n",
    "            values.append(num)\n",
    "            i-=1\n",
    "        elif char==\"(\":\n",
    "            operator.append(char)\n",
    "        elif char==\")\":\n",
    "            while operator and operator[-1]!=\"(\":\n",
    "                values.append(calculate(operator.pop(),values.pop(),values.pop()))\n",
    "            operator.pop() #pop '('\n",
    "        elif char in operators:\n",
    "            while operator and operator[-1]!='(' and (precedence[char]<precedence[operator[-1]] or (precedence[char]==precedence[operator[-1]] and associativity[char]==1)):\n",
    "                values.append(calculate(operator.pop(),values.pop(),values.pop()))\n",
    "            operator.append(char)\n",
    "        i+=1\n",
    "    while operator:\n",
    "        values.append(calculate(operator.pop(),values.pop(),values.pop()))\n",
    "    return values[0]\n",
    "            \n",
    "        \n",
    "        \n",
    "    # return stack.pop()\n",
    "exp=\"2+3*4\"\n",
    "print(evaluateInfix(exp)) #14\n"
   ]
  }
 ],
 "metadata": {
  "kernelspec": {
   "display_name": "myenv",
   "language": "python",
   "name": "python3"
  },
  "language_info": {
   "codemirror_mode": {
    "name": "ipython",
    "version": 3
   },
   "file_extension": ".py",
   "mimetype": "text/x-python",
   "name": "python",
   "nbconvert_exporter": "python",
   "pygments_lexer": "ipython3",
   "version": "3.12.3"
  }
 },
 "nbformat": 4,
 "nbformat_minor": 2
}
