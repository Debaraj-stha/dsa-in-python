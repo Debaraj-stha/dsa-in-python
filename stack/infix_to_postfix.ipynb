{
 "cells": [
  {
   "cell_type": "code",
   "execution_count": null,
   "metadata": {},
   "outputs": [
    {
     "name": "stdout",
     "output_type": "stream",
     "text": [
      "Postfix Notation ABC/+\n"
     ]
    }
   ],
   "source": [
    "def infixToPostfix(infix):\n",
    "    postfix = []\n",
    "    stack = []\n",
    "    precedence = {'+': 1, '-': 1, '*': 2, '/': 2, '^': 3}\n",
    "    associativity = {'+': 1, '-': 1, '*': 1, '/': 1, '^': 0}  # 1 = Left to Right, 0 = Right to Left\n",
    "    operators = set(['+', '-', '*', '/', '^', '(', ')'])\n",
    "\n",
    "    for char in infix:\n",
    "        if char not in operators:  # Operand\n",
    "            postfix.append(char)\n",
    "        elif char == '(':  \n",
    "            stack.append(char)\n",
    "        elif char == ')':  \n",
    "            while stack and stack[-1] != '(':\n",
    "                postfix.append(stack.pop())\n",
    "            stack.pop()  # Pop '('\n",
    "        else:  # Operator\n",
    "            while (stack and stack[-1] != '(' and\n",
    "                   (precedence[char] < precedence[stack[-1]] or\n",
    "                    (precedence[char] == precedence[stack[-1]] and associativity[char] == 1))):\n",
    "                postfix.append(stack.pop())\n",
    "            stack.append(char)\n",
    "\n",
    "    while stack:\n",
    "        postfix.append(stack.pop())\n",
    "\n",
    "    return ''.join(postfix)\n",
    "\n",
    "infix = \"A+B/C\"\n",
    "print(\"Postfix Notation\",infixToPostfix(infix))  # output ABC/+\n"
   ]
  }
 ],
 "metadata": {
  "kernelspec": {
   "display_name": "myenv",
   "language": "python",
   "name": "python3"
  },
  "language_info": {
   "codemirror_mode": {
    "name": "ipython",
    "version": 3
   },
   "file_extension": ".py",
   "mimetype": "text/x-python",
   "name": "python",
   "nbconvert_exporter": "python",
   "pygments_lexer": "ipython3",
   "version": "3.12.3"
  }
 },
 "nbformat": 4,
 "nbformat_minor": 2
}
