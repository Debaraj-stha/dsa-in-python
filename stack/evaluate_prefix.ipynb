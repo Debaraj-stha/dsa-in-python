{
 "cells": [
  {
   "cell_type": "code",
   "execution_count": 6,
   "metadata": {},
   "outputs": [
    {
     "name": "stdout",
     "output_type": "stream",
     "text": [
      "12\n"
     ]
    }
   ],
   "source": [
    "def evaluatePrefix(exp):\n",
    "    stack=[]\n",
    "    exp=exp.split()\n",
    "    for i in range(len(exp)-1,-1,-1):\n",
    "        if exp[i].isdigit():\n",
    "            stack.append(exp[i])\n",
    "        else:\n",
    "            a=stack.pop()\n",
    "            b=stack.pop()\n",
    "        \n",
    "            if exp[i]=='+':\n",
    "                stack.append(str(int(a)+int(b)))\n",
    "            elif exp[i]=='-':\n",
    "                stack.append(str(int(a)-int(b)))\n",
    "            elif exp[i]=='*':\n",
    "                stack.append(str(int(a)*int(b)))\n",
    "            elif exp[i]=='/':\n",
    "                stack.append(str(int(a)//int(b)))\n",
    "            elif exp[i]=='^':\n",
    "                stack.append(str(int(a)**int(b)))\n",
    "            elif exp[i]=='%':\n",
    "                stack.append(str(int(a)%int(b)))\n",
    "            else:\n",
    "                raise ValueError(\"Invalid operator\")\n",
    "    return int(stack[0])\n",
    "\n",
    "exp=\"- + 2 * 3 4 / 16 ^ 2 3\"\n",
    "print(evaluatePrefix(exp)) # 4\n"
   ]
  }
 ],
 "metadata": {
  "kernelspec": {
   "display_name": "myenv",
   "language": "python",
   "name": "python3"
  },
  "language_info": {
   "codemirror_mode": {
    "name": "ipython",
    "version": 3
   },
   "file_extension": ".py",
   "mimetype": "text/x-python",
   "name": "python",
   "nbconvert_exporter": "python",
   "pygments_lexer": "ipython3",
   "version": "3.12.3"
  }
 },
 "nbformat": 4,
 "nbformat_minor": 2
}
