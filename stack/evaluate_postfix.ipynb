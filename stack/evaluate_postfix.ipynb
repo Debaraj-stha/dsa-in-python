{
 "cells": [
  {
   "cell_type": "code",
   "execution_count": null,
   "metadata": {},
   "outputs": [
    {
     "name": "stdout",
     "output_type": "stream",
     "text": [
      "39.0\n"
     ]
    }
   ],
   "source": [
    "def evaluatePostfix(exp):\n",
    "    stack = []\n",
    "    \n",
    "    for i in exp.split():\n",
    "        if i.lstrip('-').isdigit():  # Handles negative numbers\n",
    "            stack.append(int(i))\n",
    "        else:\n",
    "            num2 = stack.pop()\n",
    "            num1 = stack.pop()\n",
    "            \n",
    "            if i == '+':\n",
    "                stack.append(num1 + num2)\n",
    "            elif i == '-':\n",
    "                stack.append(num1 - num2)\n",
    "            elif i == '*':\n",
    "                stack.append(num1 * num2)\n",
    "            elif i == '/':\n",
    "                stack.append(num1 / num2)\n",
    "            elif i == '^':\n",
    "                stack.append(num1 ** num2)\n",
    "\n",
    "    return stack.pop()\n",
    "\n",
    "exp = \"5 3 + 6 2 / * 3 5 * +\"\n",
    "print(evaluatePostfix(exp))  # Output: 39\n",
    "\n"
   ]
  }
 ],
 "metadata": {
  "kernelspec": {
   "display_name": "myenv",
   "language": "python",
   "name": "python3"
  },
  "language_info": {
   "codemirror_mode": {
    "name": "ipython",
    "version": 3
   },
   "file_extension": ".py",
   "mimetype": "text/x-python",
   "name": "python",
   "nbconvert_exporter": "python",
   "pygments_lexer": "ipython3",
   "version": "3.12.3"
  }
 },
 "nbformat": 4,
 "nbformat_minor": 2
}
