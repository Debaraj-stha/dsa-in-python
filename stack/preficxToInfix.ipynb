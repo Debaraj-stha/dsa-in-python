{
 "cells": [
  {
   "cell_type": "code",
   "execution_count": 6,
   "metadata": {},
   "outputs": [
    {
     "name": "stdout",
     "output_type": "stream",
     "text": [
      "Infix notation ((a+ (b* c))- (d/ (e^ f)))\n"
     ]
    }
   ],
   "source": [
    "def prefixToInfix(prefix):\n",
    "    operators = set(['+', '-', '*', '/', '^'])\n",
    "    stack = []\n",
    "\n",
    "    for i in range(len(prefix) - 1, -1, -1):\n",
    "        if prefix[i] not in operators:\n",
    "            stack.append(prefix[i])\n",
    "        elif prefix[i]==\"(\":\n",
    "            stack.append(prefix[i])\n",
    "        elif prefix[i]==\")\":\n",
    "            while stack[-1]!=\"(\":\n",
    "                stack.append(stack.pop() + prefix[i])\n",
    "            stack.pop()\n",
    "        else:\n",
    "            op1=stack.pop()\n",
    "            op2=stack.pop()\n",
    "            stack.append(\"(\" + op1+ prefix[i] + \" \" + op2+ \")\")\n",
    "    infix=[]\n",
    "    while stack:\n",
    "        infix.append(stack.pop())\n",
    "    return ''.join(infix)\n",
    "prefix=\"-+a*bc/d^ef\"\n",
    "print(\"Infix notation\",prefixToInfix(prefix))\n",
    "\n"
   ]
  }
 ],
 "metadata": {
  "kernelspec": {
   "display_name": "myenv",
   "language": "python",
   "name": "python3"
  },
  "language_info": {
   "codemirror_mode": {
    "name": "ipython",
    "version": 3
   },
   "file_extension": ".py",
   "mimetype": "text/x-python",
   "name": "python",
   "nbconvert_exporter": "python",
   "pygments_lexer": "ipython3",
   "version": "3.12.3"
  }
 },
 "nbformat": 4,
 "nbformat_minor": 2
}
