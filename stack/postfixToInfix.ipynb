{
 "cells": [
  {
   "cell_type": "code",
   "execution_count": null,
   "metadata": {},
   "outputs": [
    {
     "name": "stdout",
     "output_type": "stream",
     "text": [
      "Postfix Notation ((a+ b)* (e/ f))\n"
     ]
    }
   ],
   "source": [
    "def postFixToInfix(postfix):\n",
    "    infix=[]\n",
    "    stack = []\n",
    "    operators = set(['+', '-', '*', '/', '^', '(', ')'])\n",
    "    for char in postfix:\n",
    "        if char not in operators:\n",
    "            stack.append(char)\n",
    "        elif char==\"(\":\n",
    "            stack.append(char)\n",
    "        elif char==\")\":\n",
    "            while stack[-1]!=\"(\":\n",
    "                infix.append(stack.pop())\n",
    "            stack.pop()\n",
    "        else:\n",
    "            op1=stack.pop()\n",
    "            op2=stack.pop()\n",
    "            exp=\"(\"+op2+char+\" \"+op1+\")\"\n",
    "            stack.append(exp)\n",
    "    while stack:\n",
    "        infix.append(stack.pop())\n",
    "    return ''.join(infix)\n",
    "\n",
    "    \n",
    "\n",
    "postfix=\"ab+ef/*\"\n",
    "print(\"Postfix Notation\",postFixToInfix(postfix))"
   ]
  }
 ],
 "metadata": {
  "kernelspec": {
   "display_name": "myenv",
   "language": "python",
   "name": "python3"
  },
  "language_info": {
   "codemirror_mode": {
    "name": "ipython",
    "version": 3
   },
   "file_extension": ".py",
   "mimetype": "text/x-python",
   "name": "python",
   "nbconvert_exporter": "python",
   "pygments_lexer": "ipython3",
   "version": "3.12.3"
  }
 },
 "nbformat": 4,
 "nbformat_minor": 2
}
