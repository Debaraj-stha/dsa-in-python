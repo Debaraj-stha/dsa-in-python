{
 "cells": [
  {
   "cell_type": "code",
   "execution_count": null,
   "metadata": {},
   "outputs": [
    {
     "name": "stdout",
     "output_type": "stream",
     "text": [
      "Infix: K+L-M*N+(O^P)*W/U/V/*T*Q\n",
      "Prefix: +K-L+*MN*^OP/W/U/V**TQ\n"
     ]
    }
   ],
   "source": [
    "def infixToPrefix(infix):\n",
    "    def precedence(op):\n",
    "        precedence_map = {'+': 1, '-': 1, '*': 2, '/': 2, '^': 3}\n",
    "        return precedence_map.get(op, -1)\n",
    "\n",
    "    # Step 1: Reverse the infix expression and swap '(' and ')'\n",
    "    infix = infix[::-1]\n",
    "    infix = ''.join(['(' if c == ')' else ')' if c == '(' else c for c in infix])\n",
    "\n",
    "    # Step 2: Convert reversed infix to postfix\n",
    "    stack = []\n",
    "    postfix = []\n",
    "\n",
    "    for char in infix:\n",
    "        if char.isalnum(): \n",
    "            postfix.append(char)\n",
    "        elif char == '(':  \n",
    "            stack.append(char)\n",
    "        elif char == ')': \n",
    "            while stack and stack[-1] != '(':\n",
    "                postfix.append(stack.pop())\n",
    "            stack.pop()  # Remove '('\n",
    "        else:  # Operator\n",
    "            while (stack and stack[-1] != '(' and\n",
    "                   (precedence(char) < precedence(stack[-1]) or\n",
    "                   (precedence(char) == precedence(stack[-1]) and char != '^'))):\n",
    "                postfix.append(stack.pop())\n",
    "            stack.append(char)\n",
    "\n",
    "  \n",
    "    while stack:\n",
    "        postfix.append(stack.pop())\n",
    "\n",
    "    prefix = ''.join(postfix[::-1])\n",
    "    return prefix\n",
    "\n",
    "infix = \"K+L-M*N+(O^P)*W/U/V/*T*Q\"\n",
    "print(\"Infix:\", infix)\n",
    "print(\"Prefix:\", infixToPrefix(infix))\n"
   ]
  }
 ],
 "metadata": {
  "kernelspec": {
   "display_name": "myenv",
   "language": "python",
   "name": "python3"
  },
  "language_info": {
   "codemirror_mode": {
    "name": "ipython",
    "version": 3
   },
   "file_extension": ".py",
   "mimetype": "text/x-python",
   "name": "python",
   "nbconvert_exporter": "python",
   "pygments_lexer": "ipython3",
   "version": "3.12.3"
  }
 },
 "nbformat": 4,
 "nbformat_minor": 2
}
