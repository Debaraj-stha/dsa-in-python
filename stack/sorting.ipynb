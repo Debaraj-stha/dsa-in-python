{
 "cells": [
  {
   "cell_type": "code",
   "execution_count": 3,
   "metadata": {},
   "outputs": [
    {
     "name": "stdout",
     "output_type": "stream",
     "text": [
      "7\n",
      "3\n",
      "1\n"
     ]
    }
   ],
   "source": [
    "class Stack:\n",
    "    def __init__(self):\n",
    "        self.stack = []\n",
    "\n",
    "    def push(self, value):\n",
    "        self.stack.append(value)\n",
    "\n",
    "    def pop(self):\n",
    "        if self.stack:\n",
    "            return self.stack.pop()\n",
    "        else:\n",
    "            return None\n",
    "    def display(self):\n",
    "        while self.stack:\n",
    "            print(self.stack.pop())\n",
    "\n",
    "    def repr(self):\n",
    "        return self.stack\n",
    "    \n",
    "    def peek(self):\n",
    "        return self.stack[-1] if self.stack else None\n",
    "\n",
    "    def is_empty(self):\n",
    "        return len(self.stack) == 0\n",
    "    \n",
    "    def size(self):\n",
    "        return len(self.stack)\n",
    "    def sortstack(self):\n",
    "        if self.is_empty():\n",
    "            return []\n",
    "        temp=self.pop()\n",
    "        self.sortstack()\n",
    "        self.sortedinsert(temp)\n",
    "    def sortedinsert(self,temp):\n",
    "        if self.is_empty() or temp>self.peek():\n",
    "            self.push(temp)\n",
    "        else:\n",
    "            temp1=self.pop()\n",
    "            self.sortedinsert(temp)\n",
    "            self.push(temp1)\n",
    "\n",
    "stack = Stack()\n",
    "stack.push(1)\n",
    "stack.push(7)\n",
    "stack.push(3)\n",
    "\n",
    "stack.sortstack()\n",
    "\n",
    "stack.display()\n",
    "\n",
    "\n"
   ]
  }
 ],
 "metadata": {
  "kernelspec": {
   "display_name": "myenv",
   "language": "python",
   "name": "python3"
  },
  "language_info": {
   "codemirror_mode": {
    "name": "ipython",
    "version": 3
   },
   "file_extension": ".py",
   "mimetype": "text/x-python",
   "name": "python",
   "nbconvert_exporter": "python",
   "pygments_lexer": "ipython3",
   "version": "3.12.3"
  }
 },
 "nbformat": 4,
 "nbformat_minor": 2
}
