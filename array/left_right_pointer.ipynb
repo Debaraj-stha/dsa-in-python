{
 "cells": [
  {
   "cell_type": "code",
   "execution_count": 99,
   "metadata": {},
   "outputs": [
    {
     "name": "stdout",
     "output_type": "stream",
     "text": [
      "[18, 2, 12, 9, 1, 8]\n"
     ]
    }
   ],
   "source": [
    "def reverseList(arr):\n",
    "    left=0\n",
    "    right=len(arr)-1\n",
    "    while  left<right:\n",
    "        arr[left],arr[right] = arr[right],arr[left]\n",
    "        left+=1\n",
    "        right-=1\n",
    "arr=[8,1,9,12,2,18]\n",
    "reverseList(arr)\n",
    "print(arr)"
   ]
  },
  {
   "cell_type": "code",
   "execution_count": 100,
   "metadata": {},
   "outputs": [
    {
     "name": "stdout",
     "output_type": "stream",
     "text": [
      "False\n",
      "True\n",
      "True\n"
     ]
    }
   ],
   "source": [
    "def checkingPalindrome(num):\n",
    "    left=0\n",
    "    right=len(num)-1\n",
    "    while left<right:\n",
    "        if num[left]!=num[right]:\n",
    "            return False\n",
    "        left+=1\n",
    "        right-=1\n",
    "    return True\n",
    "print(checkingPalindrome(\"123291\"))\n",
    "print(checkingPalindrome(\"12321\"))\n",
    "print(checkingPalindrome(\"121\"))"
   ]
  },
  {
   "cell_type": "code",
   "execution_count": 101,
   "metadata": {},
   "outputs": [
    {
     "name": "stdout",
     "output_type": "stream",
     "text": [
      "[0, 4]\n"
     ]
    }
   ],
   "source": [
    "def two_sum_sorted(arr, target):\n",
    "    left, right = 0, len(arr) - 1\n",
    "    \n",
    "    while left < right:\n",
    "        current_sum = arr[left] + arr[right]\n",
    "        \n",
    "        if current_sum == target:\n",
    "            return [left, right] \n",
    "        \n",
    "        if current_sum < target:\n",
    "            left += 1  # Increase the sum by moving left pointer\n",
    "        else:\n",
    "            right -= 1  # Decrease the sum by moving right pointer\n",
    "    \n",
    "    return []  \n",
    "\n",
    "# Example\n",
    "arr = [9,7,6,2,1]\n",
    "target = 10\n",
    "print(two_sum_sorted(arr, target))\n"
   ]
  },
  {
   "cell_type": "code",
   "execution_count": 102,
   "metadata": {},
   "outputs": [
    {
     "name": "stdout",
     "output_type": "stream",
     "text": [
      "[0, 0, 0, 1, 1, 1, 2, 2]\n"
     ]
    }
   ],
   "source": [
    "def sort_colors(colors):\n",
    "    left,right,mid=0,len(colors)-1,0\n",
    "    while mid<=right:\n",
    "        if colors[mid]==0:\n",
    "            colors[left],colors[mid]=colors[mid],colors[left]\n",
    "            left+=1\n",
    "            mid+=1\n",
    "        elif colors[mid]==1:\n",
    "            mid+=1\n",
    "        else:\n",
    "            colors[mid],colors[right]=colors[right],colors[mid]\n",
    "            right-=1\n",
    "    return colors\n",
    "colors=[2,1,0,0,0,1,1,2]\n",
    "print(sort_colors(colors))"
   ]
  },
  {
   "cell_type": "code",
   "execution_count": 103,
   "metadata": {},
   "outputs": [
    {
     "name": "stdout",
     "output_type": "stream",
     "text": [
      "5\n",
      "[1, 2, 3, 4, 5]\n"
     ]
    }
   ],
   "source": [
    "def removesDuplicate(arr):\n",
    "    if not arr:\n",
    "        return 0 \n",
    "    \n",
    "    left = 0  \n",
    "    \n",
    "    for right in range(1, len(arr)): \n",
    "        if arr[right] != arr[left]:  \n",
    "            left += 1  \n",
    "            arr[left] = arr[right]  \n",
    "    \n",
    "    return left + 1 \n",
    "arr = [1, 1, 1, 1, 2, 2, 3, 4, 4, 5, 5, 5, 5, 5]\n",
    "new_length = removesDuplicate(arr)\n",
    "print(new_length)  \n",
    "print(arr[:new_length])  \n"
   ]
  },
  {
   "cell_type": "code",
   "execution_count": 104,
   "metadata": {},
   "outputs": [
    {
     "name": "stdout",
     "output_type": "stream",
     "text": [
      "[1, 1, 2, 2, 3, 4, 4, 5, 8, 10]\n"
     ]
    }
   ],
   "source": [
    "def mergeSorted(arr1, m, arr2, n):\n",
    "    i, j, k = m - 1, n - 1, m + n - 1  \n",
    "    while i >= 0 and j >= 0:\n",
    "        if arr1[i] > arr2[j]: \n",
    "            arr1[k] = arr1[i]\n",
    "            i -= 1\n",
    "        else:\n",
    "            arr1[k] = arr2[j]\n",
    "            j -= 1\n",
    "        k -= 1 \n",
    "\n",
    "    # Copy remaining elements from arr2 (if any)\n",
    "    while j >= 0:\n",
    "        arr1[k] = arr2[j]\n",
    "        j -= 1\n",
    "        k -= 1\n",
    "\n",
    "    return arr1\n",
    "\n",
    "arr1 = [1, 2, 3, 4, 5, 0, 0, 0, 0, 0] \n",
    "arr2 = [1, 2, 4, 8, 10]\n",
    "indexOfZero=arr1.index(0)\n",
    "m, n = indexOfZero,len(arr2)\n",
    "\n",
    "print(mergeSorted(arr1, m, arr2, n))\n"
   ]
  },
  {
   "cell_type": "code",
   "execution_count": 105,
   "metadata": {},
   "outputs": [
    {
     "name": "stdout",
     "output_type": "stream",
     "text": [
      "[8]\n"
     ]
    }
   ],
   "source": [
    "def smallestSubarrayWithSumGreaterThanK(arr, k):\n",
    "    n = len(arr)\n",
    "    i = 0  #left pointer\n",
    "    current_sum = 0  \n",
    "    min_length = float('inf')\n",
    "    subarray = []\n",
    "\n",
    "    for j in range(n):  #right pointer of window\n",
    "        current_sum += arr[j]\n",
    "        while current_sum > k and i <= j:\n",
    "            if (j - i + 1) < min_length:\n",
    "                min_length = j - i + 1\n",
    "                subarray = arr[i:j+1]\n",
    "\n",
    "            current_sum -= arr[i]  #remove element from left\n",
    "            i += 1 \n",
    "\n",
    "    return subarray if min_length != float('inf') else []\n",
    "\n",
    "arr = [8, 3, 1, 2, 5, 10]\n",
    "k = 4\n",
    "print(smallestSubarrayWithSumGreaterThanK(arr, k))\n"
   ]
  },
  {
   "cell_type": "code",
   "execution_count": 106,
   "metadata": {},
   "outputs": [
    {
     "name": "stdout",
     "output_type": "stream",
     "text": [
      "[1, 3, 4, 7, 9, 10, 0, 0, 0, 0, 0, 0]\n"
     ]
    }
   ],
   "source": [
    "def moveAllZeroToEnd(arr):\n",
    "    n = len(arr)\n",
    "    i = 0  # Pointer for non-zero elements\n",
    "    j = 0  # Pointer for scanning through the array\n",
    "    \n",
    "    while j < n:\n",
    "        if arr[j] != 0:\n",
    "            arr[i], arr[j] = arr[j], arr[i]\n",
    "            i += 1\n",
    "        j += 1\n",
    "\n",
    "arr = [1, 3, 0, 0, 4, 0, 0, 0, 7, 9, 10, 0]\n",
    "moveAllZeroToEnd(arr)\n",
    "print(arr)\n"
   ]
  },
  {
   "cell_type": "code",
   "execution_count": 107,
   "metadata": {},
   "outputs": [
    {
     "data": {
      "text/plain": [
       "40"
      ]
     },
     "execution_count": 107,
     "metadata": {},
     "output_type": "execute_result"
    }
   ],
   "source": [
    "def containerWithMaximumWater(heights):\n",
    "    n=len(heights)-1\n",
    "    left=0\n",
    "    right=n-1\n",
    "    max_water=0\n",
    "    while left<right:\n",
    "        width=right-left\n",
    "        min_height=min(heights[left],heights[right])\n",
    "        max_water=max(max_water,min_height*width)\n",
    "        if heights[left]<heights[right]:\n",
    "            left+=1\n",
    "        else:\n",
    "            right-=1\n",
    "    return max_water\n",
    "\n",
    "\n",
    "height = [1, 8, 6, 2, 5, 4, 8, 3, 7]  \n",
    "containerWithMaximumWater(height)"
   ]
  },
  {
   "cell_type": "code",
   "execution_count": 108,
   "metadata": {},
   "outputs": [
    {
     "name": "stdout",
     "output_type": "stream",
     "text": [
      "[4, 2, 1, 1]\n"
     ]
    }
   ],
   "source": [
    "def longestSubarrayWithSumLessThanEqualToK(arr, k):\n",
    "    n = len(arr)\n",
    "    i = 0  # Left pointer of the window\n",
    "    current_sum = 0\n",
    "    max_length = 0\n",
    "    subarray = []\n",
    "\n",
    "    for j in range(n):  # Right pointer of the window\n",
    "        current_sum += arr[j]\n",
    "\n",
    "        # Shrink the window from the left if the sum exceeds k\n",
    "        while current_sum > k and i <= j:\n",
    "            current_sum -= arr[i]\n",
    "            i += 1\n",
    "        \n",
    "        # Track the longest subarray\n",
    "        if current_sum <= k and (j - i + 1) > max_length:\n",
    "            max_length = j - i + 1\n",
    "            subarray = arr[i:j+1]\n",
    "\n",
    "    return subarray if max_length > 0 else []\n",
    "\n",
    "arr = [3, 1, 2, 7, 4, 2, 1, 1]\n",
    "k = 8\n",
    "result = longestSubarrayWithSumLessThanEqualToK(arr, k)\n",
    "print(result) \n"
   ]
  },
  {
   "cell_type": "code",
   "execution_count": 109,
   "metadata": {},
   "outputs": [
    {
     "name": "stdout",
     "output_type": "stream",
     "text": [
      "[2, 2, 4]\n"
     ]
    }
   ],
   "source": [
    "def FindIntersection(arr1, arr2):\n",
    "    n = len(arr1)\n",
    "    m = len(arr2)\n",
    "    i, j = 0, 0\n",
    "    intersection = []\n",
    "\n",
    "    while i < n and j < m:\n",
    "        if arr1[i] == arr2[j]:\n",
    "            intersection.append(arr1[i])\n",
    "            i += 1\n",
    "            j += 1\n",
    "        elif arr1[i] < arr2[j]:\n",
    "            i += 1\n",
    "        else:\n",
    "            j += 1\n",
    "    return intersection\n",
    "\n",
    "nums1 = [1, 2, 2, 3, 4]\n",
    "nums2 = [2, 2, 4, 6]\n",
    "print(FindIntersection(nums1, nums2))  # Output: [2, 2, 4]\n"
   ]
  },
  {
   "cell_type": "code",
   "execution_count": 110,
   "metadata": {},
   "outputs": [
    {
     "name": "stdout",
     "output_type": "stream",
     "text": [
      "(3, 5)\n"
     ]
    }
   ],
   "source": [
    "def pairWithGivenSum(arr,s):\n",
    "    seen=set()\n",
    "    for num in arr:\n",
    "        complement=s-num\n",
    "        if complement in seen:\n",
    "            return(complement,num)\n",
    "        seen.add(num)\n",
    "    return []\n",
    "\n",
    "myArr= [1, 3, 5, 8, 12, 16]\n",
    "s=8\n",
    "print(pairWithGivenSum(myArr,s))"
   ]
  },
  {
   "cell_type": "code",
   "execution_count": 111,
   "metadata": {},
   "outputs": [
    {
     "name": "stdout",
     "output_type": "stream",
     "text": [
      "(1, 5)\n"
     ]
    }
   ],
   "source": [
    "def pairWithGivenDifference(arr,diff):\n",
    "    seen=set()\n",
    "    for num in arr:\n",
    "      \n",
    "        if num-diff in seen:\n",
    "            return(num-diff,num)\n",
    "        elif num+diff in seen:\n",
    "            return(num,num+diff)\n",
    "        seen.add(num)\n",
    "    return []\n",
    "\n",
    "myArr= [1, 3, 5, 8, 12, 16]\n",
    "k = 4   \n",
    "print(pairWithGivenDifference(myArr,4))\n"
   ]
  },
  {
   "cell_type": "markdown",
   "metadata": {},
   "source": [
    "An array is a valid \"mountain\" if it first increases to a peak and then decreases."
   ]
  },
  {
   "cell_type": "code",
   "execution_count": 112,
   "metadata": {},
   "outputs": [
    {
     "name": "stdout",
     "output_type": "stream",
     "text": [
      "True\n",
      "False\n"
     ]
    }
   ],
   "source": [
    "def validMountain(arr):\n",
    "    n=len(arr)\n",
    "    if n<3:\n",
    "        return False\n",
    "    left=0\n",
    "    #traverse increasing part\n",
    "    while left+1<n and arr[left]<arr[left+1]:\n",
    "        left+=1\n",
    "    #if no increasing or we reach end\n",
    "    if left==0 or left==n-1:\n",
    "        return False\n",
    "    #traverse decreasing part\n",
    "    while left+1<n and arr[left]>arr[left+1]:\n",
    "        left+=1\n",
    "    return left==n-1\n",
    "\n",
    "\n",
    "\n",
    "\n",
    "arr=[0,3,2,1]\n",
    "arr1=[2,1,3]\n",
    "print(validMountain(arr))\n",
    "print(validMountain(arr1))"
   ]
  },
  {
   "cell_type": "code",
   "execution_count": 113,
   "metadata": {},
   "outputs": [
    {
     "name": "stdout",
     "output_type": "stream",
     "text": [
      "([1, 5], [6, 4, 8, 10, 9])\n"
     ]
    }
   ],
   "source": [
    "def shortestUnsortedList(arr):\n",
    "    n=len(arr)\n",
    "    left=0\n",
    "    while left+1<n and arr[left]<arr[left+1]:\n",
    "        left+=1\n",
    "    right=n-1\n",
    "    while right>0 and arr[right]>arr[right-1]:\n",
    "        right-=1\n",
    "    if left==0 or right==n-1:\n",
    "        return 0,arr\n",
    "    return [left,right],arr[left:right+1]\n",
    "\n",
    "\n",
    "\n",
    "arr=[2 ,6,4, 8, 10, 9, 15] \n",
    "print(shortestUnsortedList(arr))\n",
    "# Output: 5 (Subarray: [6, 4, 8, 10, 9])  \n"
   ]
  },
  {
   "cell_type": "code",
   "execution_count": 114,
   "metadata": {},
   "outputs": [
    {
     "name": "stdout",
     "output_type": "stream",
     "text": [
      "bab\n"
     ]
    }
   ],
   "source": [
    "def longestPalindromisSubstring(s):\n",
    "    start,end=0,0\n",
    "    n=len(s)\n",
    "    if not s:\n",
    "        return\n",
    "    def expandaroundCenter(left,right):\n",
    "        while left>=0 and right<n and s[left]==s[right]:\n",
    "            left-=1\n",
    "            right+=1\n",
    "        left+=1\n",
    "        right-=1\n",
    "        return left,right\n",
    "    \n",
    "    for i in range(n):\n",
    "        left1,right1=expandaroundCenter(i,i)\n",
    "        left2,right2=expandaroundCenter(i,i+1)\n",
    "        if right1-left1>end-start:\n",
    "            start=left1\n",
    "            end=right1\n",
    "        if right2-left2>end-start:\n",
    "            start=left2\n",
    "            end=right2\n",
    "    return s[start:end+1]\n",
    "\n",
    "s=\"babad\"\n",
    "print(longestPalindromisSubstring(s))"
   ]
  },
  {
   "cell_type": "code",
   "execution_count": 115,
   "metadata": {},
   "outputs": [
    {
     "name": "stdout",
     "output_type": "stream",
     "text": [
      "3\n"
     ]
    }
   ],
   "source": [
    "def longestSubStringWithoutRepeatingCharacter(s):\n",
    "    if not s:\n",
    "        return 0\n",
    "    n = len(s)\n",
    "    seen = set()\n",
    "    max_length = 0\n",
    "    step = 0  # This will act as the start of the sliding window\n",
    "    \n",
    "    for i in range(n):\n",
    "        while s[i] in seen:\n",
    "            seen.remove(s[step])  \n",
    "            step += 1 \n",
    "        \n",
    "        seen.add(s[i]) \n",
    "        max_length = max(max_length, i - step + 1) \n",
    "        \n",
    "    return max_length\n",
    "\n",
    "s = \"abcabcbb\"\n",
    "print(longestSubStringWithoutRepeatingCharacter(s)) \n"
   ]
  },
  {
   "cell_type": "code",
   "execution_count": 116,
   "metadata": {},
   "outputs": [
    {
     "name": "stdout",
     "output_type": "stream",
     "text": [
      "[[10], [5], [10, 5], [2], [5, 2], [6], [2, 6], [5, 2, 6], [9], [6, 9], [14], [17]]\n"
     ]
    }
   ],
   "source": [
    "def subArrayProductLessThanK(arr,k):\n",
    "    if not arr:\n",
    "        return []\n",
    "    n=len(arr)\n",
    "    left, right = 0, 0\n",
    "    product = 1\n",
    "    result = []\n",
    "    while right < n:\n",
    "        product *= arr[right]\n",
    "        while product>=k and left<=right:\n",
    "            product /= arr[left]\n",
    "            left += 1\n",
    "        for i in range(right,left-1,-1):\n",
    "            result.append(arr[i:right+1])\n",
    "        right+=1\n",
    "        \n",
    "    return result\n",
    "\n",
    "    \n",
    "\n",
    "\n",
    "arr = [10, 5, 2, 6,9,14,17]\n",
    "k = 100 \n",
    "print(subArrayProductLessThanK(arr, k)) "
   ]
  },
  {
   "cell_type": "code",
   "execution_count": 117,
   "metadata": {},
   "outputs": [
    {
     "data": {
      "text/plain": [
       "[[1], [2], [1, 2], [3]]"
      ]
     },
     "execution_count": 117,
     "metadata": {},
     "output_type": "execute_result"
    }
   ],
   "source": [
    "def subArrayWithSumLessThan(arr,k):\n",
    "    n=len(arr)\n",
    "    i=0\n",
    "    j=0\n",
    "    result=[]\n",
    "    currentSum=0\n",
    "    while j<n:\n",
    "        currentSum+=arr[j]\n",
    "        while currentSum>=k  and i<=j:\n",
    "            currentSum-=arr[i]\n",
    "            i+=1\n",
    "        for m in range(j,i-1,-1):\n",
    "            result.append(arr[m:j+1])\n",
    "        j+=1\n",
    "    return result\n",
    "\n",
    "arr=[1, 2, 3, 4, 5]\n",
    "subArrayWithSumLessThan(arr,4)\n",
    "        "
   ]
  },
  {
   "cell_type": "code",
   "execution_count": 118,
   "metadata": {},
   "outputs": [
    {
     "name": "stdout",
     "output_type": "stream",
     "text": [
      "[[1, 2, 3, 4], [2, 3, 4], [3, 4, 5]]\n"
     ]
    }
   ],
   "source": [
    "def subArrayWithProductGreaterThanK(arr, k):\n",
    "    i = 0\n",
    "    n = len(arr)\n",
    "    j = 0\n",
    "    result = []\n",
    "    currentProduct = 1\n",
    "\n",
    "    while j < n:\n",
    "        currentProduct *= arr[j]  \n",
    "\n",
    "        # Shrink the window until the product is greater than k\n",
    "        while currentProduct > k and i <= j:\n",
    "            result.append(arr[i:j+1])  # Append valid subarrays with product > k\n",
    "            currentProduct /= arr[i]  # Shrink the window from the left\n",
    "            i += 1\n",
    "\n",
    "        j += 1 \n",
    "    return result\n",
    "\n",
    "# Test example:\n",
    "arr = [1, 2, 3, 4, 5]\n",
    "k = 20\n",
    "print(subArrayWithProductGreaterThanK(arr, k))\n"
   ]
  },
  {
   "cell_type": "code",
   "execution_count": 119,
   "metadata": {},
   "outputs": [
    {
     "name": "stdout",
     "output_type": "stream",
     "text": [
      "(1, 3)\n"
     ]
    }
   ],
   "source": [
    "def pairWithMinimumAbsoluteDifference(arr):\n",
    "    arr.sort()\n",
    "    min_diff = float(\"inf\")\n",
    "    result = None\n",
    "    \n",
    "    for i in range(len(arr) - 1):\n",
    "        diff = abs(arr[i] - arr[i+1]) \n",
    "        if diff < min_diff:\n",
    "            min_diff = diff\n",
    "            result = (arr[i], arr[i+1]) \n",
    "    \n",
    "    return result\n",
    "arr = [1, 3, 8, 15, 17]  \n",
    "print(pairWithMinimumAbsoluteDifference(arr))  # Output: (1,3)\n",
    "\n"
   ]
  },
  {
   "cell_type": "code",
   "execution_count": 120,
   "metadata": {},
   "outputs": [
    {
     "name": "stdout",
     "output_type": "stream",
     "text": [
      "[[1, 0], [0, 1], [1, 0, 1, 0], [0, 1, 0, 1], [0, 1, 0, 1, 1, 0]]\n"
     ]
    }
   ],
   "source": [
    "def subArrayWithEqualNumbersOfZeroAndOne(arr):\n",
    "    n = len(arr)\n",
    "    prefix_sum = 0\n",
    "    index_map = {0: -1}  # Stores the first occurrence of each prefix_sum\n",
    "    result = []\n",
    "    \n",
    "    for i in range(n):\n",
    "        # Convert 0 to -1 to balance the sum\n",
    "        if arr[i]==0:\n",
    "            prefix_sum+=-1\n",
    "        else:\n",
    "            prefix_sum+=1\n",
    "        if prefix_sum in index_map:\n",
    "            start=index_map[prefix_sum]+1\n",
    "            end=i+1\n",
    "            result.append(arr[start:end])\n",
    "        else:\n",
    "            index_map[prefix_sum]=i\n",
    "    \n",
    "    return result\n",
    "\n",
    "# Test case:\n",
    "arr = [1, 1, 0, 1, 0, 1, 1, 0]\n",
    "print(subArrayWithEqualNumbersOfZeroAndOne(arr))\n"
   ]
  },
  {
   "cell_type": "code",
   "execution_count": 2,
   "metadata": {},
   "outputs": [
    {
     "data": {
      "text/plain": [
       "[[2, -3, 1],\n",
       " [2, -3, 1, 6, 4, -10],\n",
       " [4, -4],\n",
       " [2, -3, 1, 6, 4, -10, 1, 3, 4, -4, -4]]"
      ]
     },
     "execution_count": 2,
     "metadata": {},
     "output_type": "execute_result"
    }
   ],
   "source": [
    "def sumarrayWithZeromSum(arr):\n",
    "    prefixSum=0\n",
    "    sumMap={0:-1}\n",
    "    n=len(arr)\n",
    "    res=[]\n",
    "    for i in range(n):\n",
    "        prefixSum+=arr[i]\n",
    "        if prefixSum in sumMap:\n",
    "            start=sumMap[prefixSum]+1\n",
    "            end=i+1\n",
    "            res.append(arr[start:end])\n",
    "        else:\n",
    "            sumMap[prefixSum]=i\n",
    "    return res\n",
    "arr=[4,2,-3,1,6,4,-10,1,3,4,-4,-4]\n",
    "sumarrayWithZeromSum(arr)"
   ]
  },
  {
   "cell_type": "code",
   "execution_count": 122,
   "metadata": {},
   "outputs": [
    {
     "name": "stdout",
     "output_type": "stream",
     "text": [
      "[5, 7, 19]\n"
     ]
    }
   ],
   "source": [
    "def findPeakElement(arr):\n",
    "    res=[]\n",
    "    for i in range(1,len(arr)-1):\n",
    "        if arr[i] > arr[i-1] and arr[i] > arr[i+1]:\n",
    "            res.append(arr[i])\n",
    "    return res\n",
    "arr=[1,2,3,5,4,7,6,9,19,12]\n",
    "print(findPeakElement(arr))"
   ]
  },
  {
   "cell_type": "code",
   "execution_count": 123,
   "metadata": {},
   "outputs": [
    {
     "name": "stdout",
     "output_type": "stream",
     "text": [
      "[1, 4, 6, 12]\n"
     ]
    }
   ],
   "source": [
    "def findVally(arr):\n",
    "    res=[]\n",
    "    n=len(arr)\n",
    "    if n==1:\n",
    "        return arr[0]\n",
    "    if arr[0]<arr[1]:\n",
    "        res.append(arr[0])\n",
    "    for i in range(1,len(arr)-1):\n",
    "        if arr[i] < arr[i-1] and arr[i] < arr[i+1]:\n",
    "            res.append(arr[i])\n",
    "    if arr[n-1]<arr[n-2]:\n",
    "        res.append(arr[n-1])\n",
    "    return res\n",
    "arr=[1,2,3,5,4,7,6,9,19,12]\n",
    "print(findVally(arr))"
   ]
  },
  {
   "cell_type": "code",
   "execution_count": 124,
   "metadata": {},
   "outputs": [
    {
     "data": {
      "text/plain": [
       "[9, 4, 10]"
      ]
     },
     "execution_count": 124,
     "metadata": {},
     "output_type": "execute_result"
    }
   ],
   "source": [
    "def maximumSumSubarryOfSizeK(arr,k):\n",
    "    n=len(arr)\n",
    "    res=[]\n",
    "    maximumSum=float(\"-inf\")\n",
    "    for i in range(n-k+1):\n",
    "        currentSum=sum(arr[i:i+k])\n",
    "        if currentSum>maximumSum:\n",
    "            maximumSum=currentSum\n",
    "            res=arr[i:i+k]\n",
    "\n",
    "        elif currentSum==maximumSum:\n",
    "            res.append(arr[i:i+k])\n",
    "    return res\n",
    "\n",
    "\n",
    "\n",
    "\n",
    "arr = [2, 1, 5, 1, 3, 2,9,4,10]\n",
    "k = 3\n",
    "maximumSumSubarryOfSizeK(arr,k)\n",
    "# Output: 9 (Subarray: [9,4,10])  \n"
   ]
  },
  {
   "cell_type": "code",
   "execution_count": 125,
   "metadata": {},
   "outputs": [
    {
     "data": {
      "text/plain": [
       "(True, (9, 1))"
      ]
     },
     "execution_count": 125,
     "metadata": {},
     "output_type": "execute_result"
    }
   ],
   "source": [
    "def findPairWithGivenSum(arr,target):\n",
    "    num_set=set(arr)\n",
    "    res=[]\n",
    "    for num in arr:\n",
    "        complement=target-num\n",
    "        if complement in num_set:\n",
    "            return True,(complement,num)\n",
    "    \n",
    "    # n=len(arr)\n",
    "    # arr.sort()\n",
    "    # res=[]\n",
    "    # left,right=0,n-1\n",
    "    # while left<right:\n",
    "    #     currentSum=arr[left]+arr[right]\n",
    "    #     if currentSum==target:\n",
    "    #         res.append((arr[left],arr[right]))\n",
    "    #         left+=1\n",
    "    #         right-=1\n",
    "    #     elif currentSum<target:\n",
    "    #         left+=1\n",
    "    #     else:\n",
    "    #         right-=1\n",
    "    # return res\n",
    "\n",
    "\n",
    "\n",
    "arr = [1, 3, 5, 7, 9]\n",
    "target = 10  \n",
    "findPairWithGivenSum(arr,target)\n",
    "# Output: True (Pair: (1, 9))  \n"
   ]
  },
  {
   "cell_type": "code",
   "execution_count": 126,
   "metadata": {},
   "outputs": [
    {
     "data": {
      "text/plain": [
       "[(1, 3), (3, 5), (2, 4)]"
      ]
     },
     "execution_count": 126,
     "metadata": {},
     "output_type": "execute_result"
    }
   ],
   "source": [
    "def findPairWithGivenDifference(arr,k):\n",
    "    pairs=[]\n",
    "    num_set=set(arr)\n",
    "    for num in arr:\n",
    "        if num+k in num_set:\n",
    "            pairs.append((num,num+k))\n",
    "    return pairs\n",
    "\n",
    "arr = [1, 5, 3, 4, 2]\n",
    "k = 2  \n",
    "findPairWithGivenDifference(arr,k)\n",
    "# Output: [(1, 3), (3, 5), (2, 4)]  \n"
   ]
  },
  {
   "cell_type": "code",
   "execution_count": 127,
   "metadata": {},
   "outputs": [
    {
     "name": "stdout",
     "output_type": "stream",
     "text": [
      "[-1, -1, -7, -15, -15, 0]\n"
     ]
    }
   ],
   "source": [
    "from collections import deque\n",
    "\n",
    "def firstNegativeInWindow(arr, k):\n",
    "    dq = deque()  # Store indices of negative numbers\n",
    "    res = []\n",
    "    for i in range(k):\n",
    "        if arr[i] < 0:\n",
    "            dq.append(i)\n",
    "    for i in range(k, len(arr)):\n",
    "        #append first negative number if has else 0\n",
    "        res.append(arr[dq[0]] if dq else 0)\n",
    "        # Remove elements out of the current window\n",
    "        if dq and dq[0] <= i - k:\n",
    "            dq.popleft()\n",
    "        if arr[i] < 0:\n",
    "            dq.append(i)\n",
    "    res.append(arr[dq[0]] if dq else 0)\n",
    "    \n",
    "    return res\n",
    "\n",
    "\n",
    "arr = [12, -1, -7, 8, -15, 30, 16, 28]\n",
    "k = 3\n",
    "print(firstNegativeInWindow(arr, k))\n"
   ]
  },
  {
   "cell_type": "code",
   "execution_count": null,
   "metadata": {},
   "outputs": [
    {
     "name": "stdout",
     "output_type": "stream",
     "text": [
      "[[1, 1, 1, 2], [5], [3, 2], [2, 3], [4, 1]]\n"
     ]
    }
   ],
   "source": [
    "from collections import defaultdict\n",
    "\n",
    "def numberOfSubarraysWithSumEqualToK(arr, k):\n",
    "    n = len(arr)\n",
    "    res = []\n",
    "    prefixSum = 0\n",
    "    sumMap = defaultdict(list)  \n",
    "    sumMap[0].append(-1)\n",
    "    count=0\n",
    "    for i in range(n):\n",
    "        prefixSum += arr[i]\n",
    "        \n",
    "        if (prefixSum - k) in sumMap:\n",
    "            for start in sumMap[prefixSum - k]:  # There can be multiple valid subarrays\n",
    "                res.append(arr[start + 1:i + 1])\n",
    "                count+=1\n",
    "        sumMap[prefixSum].append(i)\n",
    "\n",
    "    return res,count\n",
    "\n",
    "arr = [1, 1, 1, 2, 4, 7, 3, 6, 5, 3, 2, 3, 4, 1]\n",
    "k = 5\n",
    "print(numberOfSubarraysWithSumEqualToK(arr, k))\n"
   ]
  },
  {
   "cell_type": "code",
   "execution_count": 129,
   "metadata": {},
   "outputs": [
    {
     "name": "stdout",
     "output_type": "stream",
     "text": [
      "4\n",
      "[2, 5, 7, 101]\n"
     ]
    }
   ],
   "source": [
    "def longestIncreasingSubsequence(arr):\n",
    "    n = len(arr)\n",
    "    if n == 0:\n",
    "        return []\n",
    "    \n",
    "    dp = [1] * n \n",
    "    prev = [-1] * n  # Stores the index of previous element in LIS\n",
    "\n",
    "    max_length = 1\n",
    "    max_index = 0  # To track the ending index of LIS\n",
    "    for i in range(1, n):\n",
    "        for j in range(i):\n",
    "            if arr[i] > arr[j] and dp[i] < dp[j] + 1:\n",
    "                dp[i] = dp[j] + 1\n",
    "                prev[i] = j  # Track the previous index\n",
    "\n",
    "        # Update the max_length and max_index\n",
    "        if dp[i] > max_length:\n",
    "            max_length = dp[i]\n",
    "            max_index = i\n",
    "\n",
    "  \n",
    "    lis = []\n",
    "    print(max_length)\n",
    "    while max_index != -1:\n",
    "        lis.append(arr[max_index])\n",
    "        max_index = prev[max_index]\n",
    "\n",
    "    return lis[::-1]  \n",
    "\n",
    "\n",
    "arr = [10, 9, 2, 5, 3, 7, 101, 18]\n",
    "print(longestIncreasingSubsequence(arr))  # Output: [2, 3, 7, 101]\n"
   ]
  },
  {
   "cell_type": "code",
   "execution_count": 130,
   "metadata": {},
   "outputs": [
    {
     "name": "stdout",
     "output_type": "stream",
     "text": [
      "[[10], [1, 4, 5]]\n"
     ]
    }
   ],
   "source": [
    "def subArrayWithGivenSum(arr, k):\n",
    "    n = len(arr)\n",
    "    res = []\n",
    "\n",
    "    def backtrack(i, currentSum, current):\n",
    "        if currentSum == k:\n",
    "            res.append(current[:])\n",
    "            return\n",
    "        if i >= n or currentSum > k:\n",
    "            return\n",
    "        backtrack(i + 1, currentSum, current)\n",
    "        backtrack(i + 1, currentSum + arr[i], current + [arr[i]])\n",
    "    backtrack(0, 0, [])\n",
    "    return res\n",
    "\n",
    "\n",
    "\n",
    "arr = [1, 4, 20, 3, 10, 5]\n",
    "k = 10\n",
    "print(subArrayWithGivenSum(arr, k))\n",
    "\n"
   ]
  },
  {
   "cell_type": "code",
   "execution_count": 131,
   "metadata": {},
   "outputs": [
    {
     "name": "stdout",
     "output_type": "stream",
     "text": [
      "4\n"
     ]
    }
   ],
   "source": [
    "def max_positive_product_subarray(nums):\n",
    "    max_length = 0\n",
    "    pos_len = 0 \n",
    "    neg_len = 0 \n",
    "\n",
    "    for num in nums:\n",
    "        if num > 0:\n",
    "            pos_len += 1\n",
    "            neg_len = neg_len + 1 if neg_len > 0 else 0  # Extend if a negative exists\n",
    "        elif num < 0:\n",
    "            new_pos_len = neg_len + 1 if neg_len > 0 else 0  # Flip negative to positive\n",
    "            neg_len = pos_len + 1  # Flip positive to negative\n",
    "            pos_len = new_pos_len\n",
    "        else:\n",
    "            pos_len = neg_len = 0  # Reset on zero\n",
    "\n",
    "        max_length = max(max_length, pos_len)\n",
    "\n",
    "    return max_length\n",
    "\n",
    "\n",
    "nums = [1, -2, -3, 4]\n",
    "print(max_positive_product_subarray(nums)) \n"
   ]
  },
  {
   "cell_type": "code",
   "execution_count": 132,
   "metadata": {},
   "outputs": [
    {
     "name": "stdout",
     "output_type": "stream",
     "text": [
      "BANC\n"
     ]
    }
   ],
   "source": [
    "def minimumWindowSubstring(s, t):\n",
    "    n = len(s)\n",
    "    m = len(t)\n",
    "    if n < m:\n",
    "        return \"\"\n",
    "    char_map = {}\n",
    "    for char in t:\n",
    "        char_map[char] = char_map.get(char, 0) + 1\n",
    "    required = len(char_map)\n",
    "    formed = 0\n",
    "    window_start = 0\n",
    "    window_end = 0\n",
    "    min_length = float('inf')\n",
    "    min_window = \"\"\n",
    "    window_counts = {}\n",
    "    while window_end<n:\n",
    "        char=s[window_end]\n",
    "        window_counts[char]=window_counts.get(char, 0)+1\n",
    "        if char in char_map and window_counts[char]==char_map[char]:\n",
    "            formed+=1\n",
    "        while window_start<=window_end+1 and formed==required:\n",
    "            char=s[window_start]\n",
    "            if window_end-window_start+1<min_length:\n",
    "                min_length=window_end-window_start+1\n",
    "                min_window=s[window_start:window_end+1]\n",
    "            window_counts[char]-=1\n",
    "            if char in char_map and window_counts[char]<char_map[char]:\n",
    "                formed-=1\n",
    "            window_start+=1\n",
    "        window_end+=1\n",
    "    return min_window\n",
    "\n",
    "s = \"ADOBECODEBANC\"\n",
    "t = \"ABC\"\n",
    "result = minimumWindowSubstring(s, t)\n",
    "print(result)  # Output: \"BANC\"\n"
   ]
  },
  {
   "cell_type": "code",
   "execution_count": 133,
   "metadata": {},
   "outputs": [
    {
     "name": "stdout",
     "output_type": "stream",
     "text": [
      "!dlroW olleH\n"
     ]
    }
   ],
   "source": [
    "def reverseStrig(s):\n",
    "    left=0\n",
    "    n=len(s)\n",
    "    right=n-1\n",
    "    while left<right:\n",
    "        s[left],s[right]=s[right],s[left]\n",
    "        left+=1\n",
    "        right-=1\n",
    "    return \"\".join(s)\n",
    "s = \"Hello World!\"\n",
    "print(reverseStrig(list(s)))"
   ]
  },
  {
   "cell_type": "code",
   "execution_count": 134,
   "metadata": {},
   "outputs": [
    {
     "name": "stdout",
     "output_type": "stream",
     "text": [
      "(1, 30)\n"
     ]
    }
   ],
   "source": [
    "def closestPairInTwoSortedList(arr1, arr2, target):\n",
    "    n1, n2 = len(arr1), len(arr2)\n",
    "    i, j = 0, n2 - 1\n",
    "    minimum_diff = float(\"inf\")\n",
    "    res = ()\n",
    "\n",
    "    while i < n1 and j >= 0:\n",
    "        sum_val = arr1[i] + arr2[j]\n",
    "        diff = abs(sum_val - target)\n",
    "\n",
    "        if diff < minimum_diff:\n",
    "            minimum_diff = diff\n",
    "            res = (arr1[i], arr2[j])\n",
    "\n",
    "        if sum_val < target:\n",
    "            i += 1  # Increase sum by moving `i` right\n",
    "        else:\n",
    "            j -= 1  # Decrease sum by moving `j` left\n",
    "\n",
    "    return res\n",
    "\n",
    "\n",
    "arr1 = [1, 4, 5, 7]\n",
    "arr2 = [10, 20, 30, 40]\n",
    "target = 32  \n",
    "print(closestPairInTwoSortedList(arr1, arr2, target))  # Output: (1, 30)\n"
   ]
  },
  {
   "cell_type": "code",
   "execution_count": 135,
   "metadata": {},
   "outputs": [
    {
     "data": {
      "text/plain": [
       "[0, 6]"
      ]
     },
     "execution_count": 135,
     "metadata": {},
     "output_type": "execute_result"
    }
   ],
   "source": [
    "def findAnagrams(s,p):\n",
    "    n1=len(s)\n",
    "    n2=len(p)\n",
    "    res=[]\n",
    "    for i in range(n1-n2+1):\n",
    "        temp=s[i:i+n2]\n",
    "        if sorted(temp)==sorted(p):\n",
    "            res.append(i)\n",
    "    return res\n",
    "\n",
    "\n",
    "s = \"cbaebabacd\"\n",
    "p = \"abc\"  \n",
    "# Output: [0, 6]  \n",
    "findAnagrams(s,p)\n",
    "\n"
   ]
  },
  {
   "cell_type": "code",
   "execution_count": 136,
   "metadata": {},
   "outputs": [
    {
     "name": "stdout",
     "output_type": "stream",
     "text": [
      "[0, 6]\n"
     ]
    }
   ],
   "source": [
    "from collections import Counter\n",
    "\n",
    "def findAnagrams(s, p):\n",
    "    n1, n2 = len(s), len(p)\n",
    "    res = []\n",
    "    \n",
    "    if n2 > n1: \n",
    "        return []\n",
    "    p_count = Counter(p)\n",
    "    s_count=Counter(s[:n2])\n",
    "    if p_count==s_count:\n",
    "        res.append(0)\n",
    "\n",
    "    for i in range(n2,n1):\n",
    "        s_count[s[i]]+=1\n",
    "        s_count[s[i-n2]]-=1\n",
    "        if s_count[s[i-n2]]==0:\n",
    "            del s_count[s[i-n2]]\n",
    "        if p_count==s_count:\n",
    "            res.append(i-n2+1)\n",
    "    return res\n",
    "\n",
    "\n",
    "s = \"cbaebabacd\"\n",
    "p = \"abc\"\n",
    "print(findAnagrams(s, p))  # Output: [0, 6]\n"
   ]
  },
  {
   "cell_type": "code",
   "execution_count": 137,
   "metadata": {},
   "outputs": [
    {
     "name": "stdout",
     "output_type": "stream",
     "text": [
      "[2, 2, 7]\n"
     ]
    }
   ],
   "source": [
    "def removeAllOccurrence(arr,target):\n",
    "    n=len(arr)\n",
    "    left=0\n",
    "    right=0\n",
    "    while right<n:\n",
    "        if arr[right]!=target:\n",
    "            arr[left]=arr[right]\n",
    "            left+=1\n",
    "        right+=1\n",
    "    return arr[:left]\n",
    "\n",
    "arr = [3, 2, 2, 3,7]\n",
    "val = 3\n",
    "print(removeAllOccurrence(arr, val))  # Output: 2"
   ]
  },
  {
   "cell_type": "code",
   "execution_count": 138,
   "metadata": {},
   "outputs": [
    {
     "name": "stdout",
     "output_type": "stream",
     "text": [
      "6\n"
     ]
    }
   ],
   "source": [
    "from collections import defaultdict\n",
    "\n",
    "def maximumSubarraySumWithKDistinctElements(arr, k):\n",
    "    left = 0\n",
    "    max_sum = float('-inf')\n",
    "    current_sum = 0\n",
    "    freq = defaultdict(int)\n",
    "    distinct_count = 0\n",
    "    for right in range(len(arr)):\n",
    "        freq[arr[right]]+=1\n",
    "        current_sum+=arr[right]\n",
    "        if freq[arr[right]]==1:\n",
    "            distinct_count+=1\n",
    "        while distinct_count>k:\n",
    "            freq[arr[left]]-=1\n",
    "            current_sum-=arr[left]\n",
    "            if freq[arr[left]]==0:\n",
    "                distinct_count-=1\n",
    "            left+=1\n",
    "        if distinct_count==k:\n",
    "            max_sum = max(max_sum, current_sum)\n",
    "    return max_sum\n",
    "arr = [1, 2, 1, 2, 3]\n",
    "k = 2  \n",
    "print(maximumSubarraySumWithKDistinctElements(arr, k))  # Output: 5 (Subarray: [2, 1, 2])\n"
   ]
  },
  {
   "cell_type": "code",
   "execution_count": 139,
   "metadata": {},
   "outputs": [
    {
     "data": {
      "text/plain": [
       "[[2, 3, 4], [4, 5]]"
      ]
     },
     "execution_count": 139,
     "metadata": {},
     "output_type": "execute_result"
    }
   ],
   "source": [
    "def subarrayWithSumEqualToK(arr,target):\n",
    "    n=len(arr)\n",
    "    res=[]\n",
    "    currentSum=0\n",
    "    left=0\n",
    "    for right in range(n):\n",
    "        currentSum+=arr[right]\n",
    "        while currentSum>target and left<right:\n",
    "            currentSum-=arr[left]\n",
    "            left+=1\n",
    "        if currentSum==target:\n",
    "            res.append(arr[left:right+1])\n",
    "    return res\n",
    "arr = [1, 2, 3, 4, 5]\n",
    "target = 9  \n",
    "subarrayWithSumEqualToK(arr,target)"
   ]
  },
  {
   "cell_type": "code",
   "execution_count": 140,
   "metadata": {},
   "outputs": [
    {
     "name": "stdout",
     "output_type": "stream",
     "text": [
      "[4, 5, 3, 2, 1, 2]\n"
     ]
    }
   ],
   "source": [
    "def partitionListBasedOnValue(arr, value):\n",
    "    n = len(arr)\n",
    "    left = 0  \n",
    "    right = 0 \n",
    "    \n",
    "    while right < n:\n",
    "        if arr[right]>value:\n",
    "            arr[left], arr[right] = arr[right], arr[left]\n",
    "            left += 1\n",
    "        right += 1\n",
    "    \n",
    "    return arr\n",
    "\n",
    "\n",
    "head = [1, 4, 3, 2, 5, 2]\n",
    "x = 3\n",
    "print(partitionListBasedOnValue(head, x))  # Output: [1, 2, 2, 3, 5, 4]\n"
   ]
  },
  {
   "cell_type": "code",
   "execution_count": 141,
   "metadata": {},
   "outputs": [
    {
     "name": "stdout",
     "output_type": "stream",
     "text": [
      "[3, 2, 1]\n"
     ]
    }
   ],
   "source": [
    "def longestCommonSubarray(arr1, arr2):\n",
    "    n1 = len(arr1)\n",
    "    n2 = len(arr2)\n",
    "    dp = [[0] * (n2 + 1) for _ in range(n1 + 1)]\n",
    "    \n",
    "    max_length = 0\n",
    "    end_index = -1\n",
    "    for i in range(1, n1 + 1):\n",
    "        for j in range(1, n2 + 1):\n",
    "            if arr1[i - 1] == arr2[j - 1]:\n",
    "                dp[i][j] = dp[i - 1][j - 1] + 1\n",
    "                if dp[i][j] > max_length:\n",
    "                    max_length = dp[i][j]\n",
    "                    end_index = i\n",
    "    \n",
    "\n",
    "    return arr1[end_index - max_length:end_index]\n",
    "\n",
    "\n",
    "arr1 = [1, 2, 3, 2, 1]\n",
    "arr2 = [3, 2, 1, 4, 7]\n",
    "print(longestCommonSubarray(arr1, arr2))  # Output: [3, 2, 1]\n"
   ]
  },
  {
   "cell_type": "code",
   "execution_count": 142,
   "metadata": {},
   "outputs": [
    {
     "name": "stdout",
     "output_type": "stream",
     "text": [
      "[[4, 5]]\n"
     ]
    }
   ],
   "source": [
    "def shortestSubarrayWithProductGreaterThanK(arr,k):\n",
    "    n=len(arr)\n",
    "    result=[]\n",
    "    left=0\n",
    "    right=0\n",
    "    product=1\n",
    "    minLength=float(\"inf\")\n",
    "    while right<n:\n",
    "        product *= arr[right]\n",
    "        while product>k and left<right:\n",
    "            if right-left+1<minLength:\n",
    "                minLength=right-left+1\n",
    "                result=[arr[left:right+1]]\n",
    "            product /= arr[left]\n",
    "            left+=1\n",
    "        \n",
    "        right+=1\n",
    "    return result\n",
    "arr = [1, 2, 3, 4, 5]\n",
    "k = 12\n",
    "\n",
    "print(shortestSubarrayWithProductGreaterThanK(arr, k))"
   ]
  },
  {
   "cell_type": "code",
   "execution_count": 143,
   "metadata": {},
   "outputs": [
    {
     "name": "stdout",
     "output_type": "stream",
     "text": [
      "[[1, 2, 3]]\n"
     ]
    }
   ],
   "source": [
    "def longestSubarryWithProductLassThanK(arr,k):\n",
    "    n=len(arr)\n",
    "    left=0\n",
    "    right=0\n",
    "    product=1\n",
    "    result=[]\n",
    "    maxLength=float(\"-inf\")\n",
    "    while right<n:\n",
    "        product*=arr[right]\n",
    "        while product>=k and left<right:\n",
    "            product/=arr[left]\n",
    "            left+=1\n",
    "        if product<k and right-left+1>maxLength:\n",
    "            maxLength=right-left+1\n",
    "            result=[arr[left:right+1]]\n",
    "        right+=1\n",
    "    return result\n",
    "\n",
    "arr=[1,2,3,4,5]\n",
    "k=12\n",
    "print(longestSubarryWithProductLassThanK(arr,k))"
   ]
  },
  {
   "cell_type": "code",
   "execution_count": 144,
   "metadata": {},
   "outputs": [
    {
     "name": "stdout",
     "output_type": "stream",
     "text": [
      "[3, 5]\n"
     ]
    }
   ],
   "source": [
    "def findLastAndFirstIndexInSortedList(arr, target):\n",
    "    if not arr:\n",
    "        return [-1, -1]\n",
    "    if not k:return\n",
    "    \n",
    "    def findFirst(arr, target):\n",
    "        first=-1\n",
    "        left=0\n",
    "        right=len(arr)-1\n",
    "        while left<=right:\n",
    "            mid=left+(right-left)//2\n",
    "            if arr[mid]==target:\n",
    "                first=mid\n",
    "                right=mid-1 #continue searching on left side\n",
    "            elif arr[mid]<target:\n",
    "                left=mid+1\n",
    "            else:\n",
    "                right=mid-1\n",
    "        return first\n",
    "        pass\n",
    "    def findLast(arr,terget):\n",
    "        left,right=0,len(arr)-1\n",
    "        last=-1\n",
    "        while left<=right:\n",
    "            mid=left+(right-left)//2\n",
    "            if arr[mid]==target:\n",
    "                last=mid\n",
    "                left=mid+1 #continue searching on right side\n",
    "            elif arr[mid]<target:\n",
    "                left=mid+1\n",
    "            else:\n",
    "                right=mid-1\n",
    "        return last\n",
    "\n",
    "    first_index = findFirst(arr, target)\n",
    "    last_index = findLast(arr, target)\n",
    "\n",
    "    return [first_index, last_index]\n",
    "\n",
    "arr = [1, 2, 3, 4, 4, 4, 5, 6, 7]\n",
    "target = 4\n",
    "print(findLastAndFirstIndexInSortedList(arr, target))  # Output: [3, 5]\n"
   ]
  },
  {
   "cell_type": "code",
   "execution_count": 145,
   "metadata": {},
   "outputs": [
    {
     "name": "stdout",
     "output_type": "stream",
     "text": [
      "130\n"
     ]
    }
   ],
   "source": [
    "def partition(arr, p, r):\n",
    "    x = arr[r]\n",
    "    i = p - 1  \n",
    "    for j in range(p, r):\n",
    "        if arr[j] < x: \n",
    "            i += 1\n",
    "            arr[i], arr[j] = arr[j], arr[i]\n",
    "    arr[i + 1], arr[r] = arr[r], arr[i + 1] \n",
    "    return i + 1\n",
    "\n",
    "def quickSelect(arr, p, r, k):\n",
    "    if p <= r:\n",
    "        q = partition(arr, p, r) \n",
    "        if q == k: \n",
    "            return arr[q]\n",
    "        elif q < k: \n",
    "            return quickSelect(arr, q + 1, r, k)\n",
    "        else: \n",
    "            return quickSelect(arr, p, q - 1, k)\n",
    "\n",
    "def kthLargestElementInList(arr, k):\n",
    "    if not arr or k > len(arr) or k <= 0:\n",
    "        return None\n",
    "    n = len(arr)\n",
    "    k = n - k  # Convert kth largest to kth smallest\n",
    "    return quickSelect(arr, 0, n - 1, k)\n",
    "\n",
    "\n",
    "arr = [3, 2, 1, 5, 6, 4, 9, 8, 10, 100, 100, 50, 99, 100, 100, 200, 130]\n",
    "k = 2  \n",
    "print(kthLargestElementInList(arr, k))  # Output: 130 (2nd largest)\n"
   ]
  },
  {
   "cell_type": "code",
   "execution_count": 146,
   "metadata": {},
   "outputs": [
    {
     "name": "stdout",
     "output_type": "stream",
     "text": [
      "[[1, 6], [8, 10], [15, 18]]\n"
     ]
    }
   ],
   "source": [
    "def mergeInterval(intervals):\n",
    "    merged=[intervals[0]]\n",
    "    intervals.sort(key=lambda x:x[0])\n",
    "    for i in range(1,len(intervals)):\n",
    "        if merged[-1][1]>=intervals[i][0]:\n",
    "            merged[-1][1]=max(merged[-1][1],intervals[i][1])\n",
    "        else:\n",
    "            merged.append(intervals[i])\n",
    "    print(merged)\n",
    "\n",
    "intervals = [[1, 3], [2, 6], [8, 10], [15, 18]]\n",
    "mergeInterval(intervals)\n",
    "# Output: [[1, 6], [8, 10], [15, 18]]  \n"
   ]
  },
  {
   "cell_type": "code",
   "execution_count": 147,
   "metadata": {},
   "outputs": [
    {
     "data": {
      "text/plain": [
       "[['John', 'john00@mail.com', 'john_newyork@mail.com', 'johnsmith@mail.com'],\n",
       " ['Mary', 'mary@mail.com'],\n",
       " ['John', 'johnnybravo@mail.com']]"
      ]
     },
     "execution_count": 147,
     "metadata": {},
     "output_type": "execute_result"
    }
   ],
   "source": [
    "def mergeAccounts(accounts):\n",
    "    name_to_email={}\n",
    "    graph=defaultdict(list)\n",
    "    for account in accounts:\n",
    "        name=account[0]\n",
    "        firts_email=account[1]\n",
    "        for email in account[1:]:\n",
    "            name_to_email[email]=name\n",
    "            graph[firts_email].append(email)\n",
    "            graph[email].append(firts_email)\n",
    "    visited=set()\n",
    "    merged_accounts=[]\n",
    "    def dfs(email,emails):\n",
    "        emails.add(email)\n",
    "        visited.add(email)\n",
    "        for neighbor in graph[email]:\n",
    "            if neighbor not in visited:\n",
    "                dfs(neighbor, emails)\n",
    "    for email in graph:\n",
    "        if email not in visited:\n",
    "            emails=set()\n",
    "            dfs(email, emails)\n",
    "            merged_accounts.append([name_to_email[email]] + sorted(emails))\n",
    "    return merged_accounts\n",
    "\n",
    "\n",
    "\n",
    "accounts = [\n",
    "    [\"John\", \"johnsmith@mail.com\", \"john_newyork@mail.com\"],\n",
    "    [\"John\", \"johnsmith@mail.com\", \"john00@mail.com\"],\n",
    "    [\"Mary\", \"mary@mail.com\"],\n",
    "    [\"John\", \"johnnybravo@mail.com\"],\n",
    "]\n",
    "\n",
    "mergeAccounts(accounts)"
   ]
  },
  {
   "cell_type": "code",
   "execution_count": 148,
   "metadata": {},
   "outputs": [
    {
     "data": {
      "text/plain": [
       "4"
      ]
     },
     "execution_count": 148,
     "metadata": {},
     "output_type": "execute_result"
    }
   ],
   "source": [
    "def maximumDifferenceBetweenTwoElement(arr):\n",
    "    max_diff=float(\"-inf\")\n",
    "    if not arr:\n",
    "        return \n",
    "    maxval=max(arr)\n",
    "    minVal=min(arr)\n",
    "    max_diff=max(max_diff,maxval-minVal)\n",
    "    return max_diff\n",
    "\n",
    "arr = [2, 3, 1, 4, 5]  \n",
    "maximumDifferenceBetweenTwoElement(arr)\n",
    "# Output: 4 (Difference between 1 and 5)  \n"
   ]
  },
  {
   "cell_type": "code",
   "execution_count": 149,
   "metadata": {},
   "outputs": [
    {
     "data": {
      "text/plain": [
       "[[4, 3]]"
      ]
     },
     "execution_count": 149,
     "metadata": {},
     "output_type": "execute_result"
    }
   ],
   "source": [
    "def minimumSizeSubarraySum(arr,target):\n",
    "    if not arr:\n",
    "        return\n",
    "    left, right = 0, 0\n",
    "    n=len(arr)\n",
    "    minlength=float(\"inf\")\n",
    "    res=[]\n",
    "    currentSum=0\n",
    "    while right < n:\n",
    "        currentSum+=arr[right]\n",
    "        while currentSum >= target and left <= right:\n",
    "            if right-left+1 < minlength:\n",
    "                minlength=right-left+1\n",
    "                res=[arr[left:right+1]]\n",
    "            currentSum-=arr[left]\n",
    "            left+=1\n",
    "        right+=1\n",
    "    return res\n",
    "\n",
    "\n",
    "arr = [2, 3, 1, 2, 4, 3]\n",
    "S = 7  \n",
    "minimumSizeSubarraySum(arr, S)\n",
    "# Output: 2 (Subarray: [4, 3])  \n"
   ]
  },
  {
   "cell_type": "code",
   "execution_count": null,
   "metadata": {},
   "outputs": [
    {
     "name": "stdout",
     "output_type": "stream",
     "text": [
      "3\n",
      "3\n"
     ]
    },
    {
     "name": "stdout",
     "output_type": "stream",
     "text": [
      "3\n",
      "3\n"
     ]
    }
   ],
   "source": [
    "def numberOfTraingleFormed(arr):\n",
    "    if not arr:\n",
    "        return 0\n",
    "    n = len(arr)\n",
    "    arr.sort()\n",
    "    count = 0\n",
    "    for i in range(n - 2):\n",
    "        for j in range(i + 1, n - 1):\n",
    "            for k in range(j + 1, n):\n",
    "                if arr[i] + arr[j] > arr[k]:\n",
    "                    count += 1\n",
    "    return count\n",
    "\n",
    "arr = [4, 6, 3, 7]\n",
    "print(numberOfTraingleFormed(arr))\n",
    "def numberOfTraingleFormed(arr):\n",
    "    if not arr:\n",
    "        return 0\n",
    "    n = len(arr)\n",
    "    arr.sort()\n",
    "    count = 0\n",
    "    for i in range(n - 2):\n",
    "        k = i + 2\n",
    "        for j in range(i + 1, n - 1):\n",
    "            while k < n and arr[i] + arr[j] > arr[k]:\n",
    "                k += 1\n",
    "            count += k - j - 1\n",
    "    return count\n",
    "\n",
    "\n",
    "arr = [4, 6, 3, 7]\n",
    "print(numberOfTraingleFormed(arr))"
   ]
  },
  {
   "cell_type": "code",
   "execution_count": null,
   "metadata": {},
   "outputs": [
    {
     "data": {
      "text/plain": [
       "True"
      ]
     },
     "execution_count": 61,
     "metadata": {},
     "output_type": "execute_result"
    }
   ],
   "source": [
    "def isPermutation(arr1,arr2):\n",
    "    n1=len(arr1)\n",
    "    n2=len(arr2)\n",
    "    if n1!=n2:\n",
    "        return False\n",
    "    count1={}\n",
    "    count2={}\n",
    "    for num in arr1:\n",
    "        count1[num]=count1.get(num,0)+1\n",
    "    for num in arr2:\n",
    "        count2[num]=count2.get(num,0)+1\n",
    "    return count1==count2\n",
    "    \n",
    "arr1 = [1, 2, 3]\n",
    "arr2 = [3, 1, 2]  \n",
    "# Output: True  \n",
    "isPermutation(arr1,arr2)"
   ]
  },
  {
   "cell_type": "code",
   "execution_count": null,
   "metadata": {},
   "outputs": [
    {
     "data": {
      "text/plain": [
       "[1, 2, 3, 4, 5, 9, 7, 6, 10]"
      ]
     },
     "execution_count": 62,
     "metadata": {},
     "output_type": "execute_result"
    }
   ],
   "source": [
    "def nextPermutation(arr):\n",
    "    n=len(arr)\n",
    "    if n<=1:\n",
    "        return arr\n",
    "    i=n-2\n",
    "    while i>=0 and arr[i]>=arr[i+1]: #find first element from right that is smaller than the element after it\n",
    "        i-=1\n",
    "    if i<0:\n",
    "        return arr[::-1]\n",
    "    j=n-1 #find smallest element on right of i that is larget than arr[i]\n",
    "    while arr[j]<=arr[i]:\n",
    "        j-=1\n",
    "\n",
    "    arr[i],arr[j]=arr[j],arr[i]\n",
    "    arr[i+1:]=arr[n-1:i:-1]\n",
    "    return arr\n",
    "\n",
    "arr = [1, 2, 3,4,5,9,6,10,7]\n",
    "nextPermutation(arr)"
   ]
  },
  {
   "cell_type": "code",
   "execution_count": null,
   "metadata": {},
   "outputs": [
    {
     "name": "stdout",
     "output_type": "stream",
     "text": [
      "[[10, 5, 2], [25, 4]]\n"
     ]
    }
   ],
   "source": [
    "def subArrayWithProductEqualToK(arr, k):\n",
    "    if not arr or k <= 0:\n",
    "        return []\n",
    "    \n",
    "    n = len(arr)\n",
    "    res = []\n",
    "    product = 1\n",
    "    left = 0\n",
    "\n",
    "    for right in range(n):\n",
    "        product *= arr[right]\n",
    "        while left <= right and product > k:\n",
    "            product //= arr[left]\n",
    "            left += 1\n",
    "        if product == k:\n",
    "            res.append(arr[left:right + 1])\n",
    "\n",
    "    return res\n",
    "arr = [10, 5, 2, 6,25,4]\n",
    "k = 100\n",
    "print(subArrayWithProductEqualToK(arr, k))\n"
   ]
  },
  {
   "cell_type": "code",
   "execution_count": null,
   "metadata": {},
   "outputs": [
    {
     "name": "stdout",
     "output_type": "stream",
     "text": [
      "[5, 2, 3, 4, 6, 7]\n"
     ]
    }
   ],
   "source": [
    "from collections import defaultdict\n",
    "\n",
    "def longestSubarrayWithDistinctElements(arr):\n",
    "    left = 0\n",
    "    right = 0\n",
    "    n = len(arr)\n",
    "    freq = defaultdict(int)\n",
    "    max_len = 0\n",
    "    start_index = 0\n",
    "\n",
    "    while right<n:\n",
    "        freq[arr[right]]+=1\n",
    "        while freq[arr[right]] > 1:\n",
    "            freq[arr[left]]-=1\n",
    "            left+=1\n",
    "        if right - left + 1 > max_len:\n",
    "            max_len = right - left + 1\n",
    "            start_index = left\n",
    "        right+=1\n",
    "    return arr[start_index:start_index + max_len]\n",
    "\n",
    "arr = [1, 2, 3, 4, 5, 2, 3, 4, 6, 7]\n",
    "print(longestSubarrayWithDistinctElements(arr))"
   ]
  },
  {
   "cell_type": "code",
   "execution_count": null,
   "metadata": {},
   "outputs": [
    {
     "data": {
      "text/plain": [
       "(3, [(3, 5), (1, 3), (2, 4)])"
      ]
     },
     "execution_count": 65,
     "metadata": {},
     "output_type": "execute_result"
    }
   ],
   "source": [
    "def countPairwithGivenDifference(arr,k):\n",
    "    count=0\n",
    "    n=len(arr)\n",
    "    seen=set()\n",
    "    pairs=[]\n",
    "    for num in arr:\n",
    "        if num+k in seen:\n",
    "            count+=1\n",
    "            pairs.append((num,num+k))\n",
    "        if num-k in seen:\n",
    "            count+=1\n",
    "            pairs.append((num-k,num))\n",
    "        seen.add(num)\n",
    "    return count, pairs\n",
    "    \n",
    "\n",
    "\n",
    "\n",
    "\n",
    "arr = [1, 5, 3, 4, 2]\n",
    "k = 2  \n",
    "countPairwithGivenDifference(arr,k)\n",
    "# Output: 3 (Pairs: (1, 3), (3, 5), (2, 4))  \n"
   ]
  },
  {
   "cell_type": "code",
   "execution_count": null,
   "metadata": {},
   "outputs": [
    {
     "name": "stdout",
     "output_type": "stream",
     "text": [
      "2\n"
     ]
    }
   ],
   "source": [
    "def lengthOfLongestSubstringWithKDistinctCharacter(s, k):\n",
    "    if not s:\n",
    "        return 0\n",
    "    n = len(s)\n",
    "    maxLength = float(\"-inf\")\n",
    "    left = 0\n",
    "    right = 0\n",
    "    freq = defaultdict(int)\n",
    "\n",
    "    while right < n:\n",
    "        freq[s[right]] += 1\n",
    "        \n",
    "        while len(freq) > k:\n",
    "            freq[s[left]] -= 1\n",
    "            if freq[s[left]] == 0:\n",
    "                del freq[s[left]]\n",
    "            left += 1\n",
    "        \n",
    "        maxLength = max(maxLength, right - left + 1)\n",
    "        right += 1\n",
    "    \n",
    "    return maxLength if maxLength != float(\"-inf\") else 0 \n",
    "s = \"devraj\"\n",
    "k = 2\n",
    "print(lengthOfLongestSubstringWithKDistinctCharacter(s, k))  # Output: 2\n"
   ]
  },
  {
   "cell_type": "code",
   "execution_count": null,
   "metadata": {},
   "outputs": [
    {
     "name": "stdout",
     "output_type": "stream",
     "text": [
      "[0, 0, 6, 11, 13, 15, 20, 21, 30, 34]\n",
      "6\n",
      "11\n",
      "7\n",
      "4\n",
      "7\n",
      "6\n",
      "24\n"
     ]
    }
   ],
   "source": [
    "def maxSumTwoNoOverlap(arr, k):\n",
    "    n = len(arr)  # Get the length of the input array 'arr' and store it in 'n'.\n",
    "    prefix = [0] * (n + 1)  # Create a prefix sum array 'prefix' of size 'n + 1', initialized with zeros.\n",
    "\n",
    "    for i in range(n):  # Iterate through the input array 'arr' from index 0 to 'n - 1'.\n",
    "        prefix[i + 1] = prefix[i] + arr[i]  # Calculate the prefix sum at each index and store it in 'prefix'.\n",
    "    print(prefix)\n",
    "    def maxSum(left_first):  # Define a nested function 'maxSum' that takes a boolean 'left_first' as input.\n",
    "        max_k = 0  # Initialize 'max_k' to 0, which will store the maximum sum of one 'k'-length subarray.\n",
    "        max_total = 0  # Initialize 'max_total' to 0, which will store the maximum sum of two non-overlapping 'k'-length subarrays.\n",
    "\n",
    "        if left_first:  # If 'left_first' is True (meaning the left subarray is considered first).\n",
    "            for i in range(k, n - k + 1):  # Iterate through possible starting positions for the right subarray.\n",
    "                max_k = max(max_k, prefix[i] - prefix[i - k])  # Calculate the sum of the left subarray and update 'max_k'.\n",
    "                print(prefix[i]-prefix[i-k]) #gives sum of elements within subarray before ssection end\n",
    "                max_total = max(max_total, max_k + prefix[i + k] - prefix[i])  # Calculate the sum of both subarrays and update 'max_total'.\n",
    "        else:  # If 'left_first' is False (meaning the right subarray is considered first).\n",
    "            for i in range(n - k, k - 1, -1):  # Iterate backward through possible starting positions for the right subarray.\n",
    "                max_k = max(max_k, prefix[i + k] - prefix[i])  # Calculate the sum of the right subarray and update 'max_k'.\n",
    "                max_total = max(max_total, max_k + prefix[i - k] - prefix[i - 2 * k])  # Calculate the sum of both subarrays and update 'max_total'.\n",
    "\n",
    "        return max_total  # Return the maximum total sum found.\n",
    "\n",
    "    return max(maxSum(True), maxSum(False))  # Call 'maxSum' with both orderings and return the maximum of the two results.\n",
    "\n",
    "arr = [0, 6, 5, 2, 2, 5, 1, 9, 4]  # Define the input array 'arr'.\n",
    "k = 2  # Define the length of the subarrays 'k'.\n",
    "print(maxSumTwoNoOverlap(arr, k))  # Call the 'maxSumTwoNoOverlap' function and print the result."
   ]
  },
  {
   "cell_type": "code",
   "execution_count": null,
   "metadata": {},
   "outputs": [
    {
     "data": {
      "text/plain": [
       "3"
      ]
     },
     "execution_count": 68,
     "metadata": {},
     "output_type": "execute_result"
    }
   ],
   "source": [
    "def majoriityElementInArray(arr):\n",
    "    n=len(arr)\n",
    "    majoriyy_count=defaultdict(int)\n",
    "    max_count=float(\"-inf\")\n",
    "    element=None\n",
    "    for i in range(n):\n",
    "        majoriyy_count[arr[i]]+=1\n",
    "        if majoriyy_count[arr[i]]>max_count:\n",
    "            max_count=majoriyy_count[arr[i]]\n",
    "            element=arr[i]\n",
    "    return element\n",
    "    \n",
    "\n",
    "\n",
    "    pass\n",
    "arr=[2,3,3,3,4,3,2,2]\n",
    "majoriityElementInArray(arr)"
   ]
  },
  {
   "cell_type": "code",
   "execution_count": null,
   "metadata": {},
   "outputs": [
    {
     "name": "stdout",
     "output_type": "stream",
     "text": [
      "(5, [1, 2, 3, 4, 5])\n"
     ]
    }
   ],
   "source": [
    "def longestConsecutiveSequence(arr):\n",
    "    if not arr:\n",
    "        return 0, []\n",
    "\n",
    "    arr = sorted(set(arr))\n",
    "    max_count = 1\n",
    "    count = 1\n",
    "    max_start, start = arr[0], arr[0]\n",
    "\n",
    "    for i in range(1, len(arr)):\n",
    "        if arr[i] == arr[i - 1] + 1:\n",
    "            count += 1\n",
    "        else:\n",
    "            count = 1\n",
    "            start = arr[i]\n",
    "        \n",
    "        if count > max_count:\n",
    "            max_count = count\n",
    "            max_start = start\n",
    "\n",
    "    \n",
    "    sequence = list(range(max_start, max_start + max_count))\n",
    "    return max_count, sequence\n",
    "arr = [100, 1, 5, 2, 4, 3, 9]\n",
    "print(longestConsecutiveSequence(arr))  # Output: (5, [1, 2, 3, 4, 5])\n"
   ]
  },
  {
   "cell_type": "code",
   "execution_count": null,
   "metadata": {},
   "outputs": [
    {
     "data": {
      "text/plain": [
       "0"
      ]
     },
     "execution_count": 70,
     "metadata": {},
     "output_type": "execute_result"
    }
   ],
   "source": [
    "def findMinimumElementInRotatedSortedArray(arr):\n",
    "    n=len(arr)\n",
    "    left=0\n",
    "    right=n-1\n",
    "    minimumElement=float(\"inf\")\n",
    "    while left<n and right>=0:\n",
    "        l=arr[left]\n",
    "        r=arr[right]\n",
    "        if l<r:\n",
    "            minimumElement=min(minimumElement,l)\n",
    "            left+=1\n",
    "        else:\n",
    "            minimumElement=min(minimumElement,r)\n",
    "            right-=1\n",
    "    return minimumElement\n",
    "    \n",
    "arr = [4, 5, 6, 7, 0, 1, 2]  \n",
    "Output=0  \n",
    "findMinimumElementInRotatedSortedArray(arr)\n"
   ]
  },
  {
   "cell_type": "code",
   "execution_count": null,
   "metadata": {},
   "outputs": [
    {
     "name": "stdout",
     "output_type": "stream",
     "text": [
      "3\n"
     ]
    }
   ],
   "source": [
    "def countSubarraySumEqualToK(arr,k):\n",
    "    if not arr:\n",
    "        return 0\n",
    "    n=len(arr)\n",
    "    count=0\n",
    "    currentSum=0\n",
    "    left=0\n",
    "    right=0\n",
    "    while right<n:\n",
    "        currentSum+=arr[right]\n",
    "        while currentSum>k and left<=right:\n",
    "            currentSum-=arr[left]\n",
    "            left+=1\n",
    "        if currentSum==k:\n",
    "            count+=1\n",
    "        right+=1\n",
    "    return count\n",
    "arr=[1,1,1,2]\n",
    "k=2\n",
    "print(countSubarraySumEqualToK(arr,k))  # Output: 2"
   ]
  },
  {
   "cell_type": "code",
   "execution_count": null,
   "metadata": {},
   "outputs": [
    {
     "name": "stdout",
     "output_type": "stream",
     "text": [
      "[(1, 2), (1, 3), (1, 4), (2, 3)]\n"
     ]
    }
   ],
   "source": [
    "def pairsWithSumLessThanK(arr, k):\n",
    "    if not arr:\n",
    "        return []\n",
    "    \n",
    "    res = []\n",
    "    n = len(arr)\n",
    "    \n",
    "    for i in range(n):\n",
    "        for j in range(i + 1, n):\n",
    "            if arr[i] + arr[j] < k:\n",
    "                res.append((arr[i], arr[j]))\n",
    "    \n",
    "    return res\n",
    "\n",
    "arr = [1, 2, 3, 4, 5]\n",
    "target = 6  \n",
    "print(pairsWithSumLessThanK(arr, target))\n"
   ]
  },
  {
   "cell_type": "code",
   "execution_count": null,
   "metadata": {},
   "outputs": [
    {
     "name": "stdout",
     "output_type": "stream",
     "text": [
      "[5, 6, 7, 1, 2, 3, 4]\n"
     ]
    }
   ],
   "source": [
    "def reverse(arr,start,end):\n",
    "    while start < end:\n",
    "        arr[start], arr[end] = arr[end], arr[start]\n",
    "        start += 1\n",
    "        end -= 1\n",
    "def rotateArray(arr,k):\n",
    "    if not arr:\n",
    "        return []\n",
    "    n = len(arr)\n",
    "    if k<0:\n",
    "        k = k+n\n",
    "    k = k % n\n",
    "    reverse(arr, 0, n - 1)\n",
    "    reverse(arr, 0, k - 1)\n",
    "    reverse(arr, k, n - 1)\n",
    "    \n",
    "arr = [1, 2, 3, 4, 5, 6, 7]\n",
    "k = 3  \n",
    "rotateArray(arr, k)\n",
    "print(arr)\n",
    "# Output: [5, 6, 7, 1, 2, 3, 4]  \n"
   ]
  },
  {
   "cell_type": "code",
   "execution_count": null,
   "metadata": {},
   "outputs": [
    {
     "data": {
      "text/plain": [
       "True"
      ]
     },
     "execution_count": 74,
     "metadata": {},
     "output_type": "execute_result"
    }
   ],
   "source": [
    "def validPalindrome(s):\n",
    "    if not s:\n",
    "        return False\n",
    "    def isPalindrome(left,right):\n",
    "        while left<right:\n",
    "            if s[left]!=s[right]:\n",
    "                return False\n",
    "            left+=1\n",
    "            right-=1\n",
    "        return True\n",
    "    n=len(s)\n",
    "    right=n-1\n",
    "    left=0\n",
    "    while left<right:\n",
    "        if s[left]!=s[right]:\n",
    "            return isPalindrome(left+1,right) or isPalindrome(left,right-1)\n",
    "        left+=1\n",
    "        right-=1\n",
    "        \n",
    "    \n",
    "s=\"abca\"\n",
    "validPalindrome(s)"
   ]
  },
  {
   "cell_type": "code",
   "execution_count": null,
   "metadata": {},
   "outputs": [
    {
     "name": "stdout",
     "output_type": "stream",
     "text": [
      "[1, 1, 2, 3, 4, 4, 5, 6]\n"
     ]
    }
   ],
   "source": [
    "def merge_sorted_lists(lists):\n",
    "    \"\"\"\n",
    "    Merges multiple sorted lists into a single sorted list without using built-in sorting methods.\n",
    "\n",
    "    Args:\n",
    "      lists: A list of sorted lists.\n",
    "\n",
    "    Returns:\n",
    "      A single sorted list containing all elements from the input lists.\n",
    "    \"\"\"\n",
    "\n",
    "    result = []\n",
    "    pointers = [0] * len(lists)  # Keep track of the current index in each list\n",
    "\n",
    "    while True:\n",
    "        min_val = float('inf')\n",
    "        min_index = -1\n",
    "\n",
    "        # Find the smallest element among the current elements of all lists\n",
    "        for i in range(len(lists)):\n",
    "            if pointers[i] < len(lists[i]):\n",
    "                if lists[i][pointers[i]] < min_val:\n",
    "                    min_val = lists[i][pointers[i]]\n",
    "                    min_index = i\n",
    "\n",
    "        # If no more elements are found, we're done\n",
    "        if min_index == -1:\n",
    "            break\n",
    "\n",
    "        # Add the smallest element to the result and advance the pointer\n",
    "        result.append(min_val)\n",
    "        pointers[min_index] += 1\n",
    "\n",
    "    return result\n",
    "\n",
    "\n",
    "lists = [[1, 4, 5], [1, 3, 4], [2, 6]]\n",
    "merged_list = merge_sorted_lists(lists)\n",
    "print(merged_list)  # Output: [1, 1, 2, 3, 4, 4, 5, 6]"
   ]
  },
  {
   "cell_type": "code",
   "execution_count": null,
   "metadata": {},
   "outputs": [
    {
     "data": {
      "text/plain": [
       "3"
      ]
     },
     "execution_count": 76,
     "metadata": {},
     "output_type": "execute_result"
    }
   ],
   "source": [
    "def peakIndex(arr):\n",
    "    if not arr:\n",
    "        return -1\n",
    "    left=0\n",
    "    while left+1<n and arr[left]<arr[left+1]:\n",
    "        left+=1\n",
    "    return left\n",
    "arr = [0, 2, 3, 4, 3, 2, 1, 0]  \n",
    "peakIndex(arr)\n",
    "# Output: 3  \n"
   ]
  },
  {
   "cell_type": "code",
   "execution_count": null,
   "metadata": {},
   "outputs": [
    {
     "name": "stdout",
     "output_type": "stream",
     "text": [
      "[1, 3]\n"
     ]
    }
   ],
   "source": [
    "def finsRangeofElementContainingFromAllLists(lists):\n",
    "    if not lists:\n",
    "        return []\n",
    "    n = len(lists)\n",
    "    result = []\n",
    "    indices = [0] * n\n",
    "    # merging to a single list\n",
    "    while True:\n",
    "        min_index = -1\n",
    "        min_value = float(\"inf\")\n",
    "        for i in range(n):\n",
    "            if indices[i] < len(lists[i]):\n",
    "                if lists[i][indices[i]] < min_value:\n",
    "                    min_value = lists[i][indices[i]]\n",
    "                    min_index = i\n",
    "        if min_index == -1:\n",
    "            break\n",
    "        result.append(min_value)\n",
    "        indices[min_index] += 1\n",
    "\n",
    "    # finding range which contain at least one element from each list\n",
    "    min_range = float('inf')\n",
    "    best_range = []\n",
    "    for i in range(len(result)):\n",
    "        for j in range(i, len(result)):\n",
    "            subarray=result[i:j+1]\n",
    "            found_all = True\n",
    "            for lst in lists:\n",
    "                found=False\n",
    "                for num in lst:\n",
    "                    if num in subarray:\n",
    "                        found = True\n",
    "                        break\n",
    "                if not found:\n",
    "                    found_all = False\n",
    "                    break\n",
    "            if found_all:\n",
    "                current_range=result[j]-result[i]\n",
    "                if current_range < min_range:\n",
    "                    min_range = current_range\n",
    "                    best_range = [result[i], result[j]]\n",
    "    return best_range\n",
    "\n",
    "\n",
    "lists = [[1, 5, 10], [2, 6], [3, 7, 9]]\n",
    "print(finsRangeofElementContainingFromAllLists(lists))"
   ]
  },
  {
   "cell_type": "code",
   "execution_count": null,
   "metadata": {},
   "outputs": [
    {
     "data": {
      "text/plain": [
       "[1, 1, 2, 3, 4, 4, 5, 6]"
      ]
     },
     "execution_count": 78,
     "metadata": {},
     "output_type": "execute_result"
    }
   ],
   "source": [
    "import heapq\n",
    "def test(lists):\n",
    "    if not lists:\n",
    "        return\n",
    "    minheap=[]\n",
    "    for i in range(len(lists)):\n",
    "        if lists[i]:\n",
    "            heapq.heappush(minheap, (lists[i][0], i, 0))\n",
    "    result=[]\n",
    "    while minheap:\n",
    "        val, list_index, index = heapq.heappop(minheap)\n",
    "        result.append(val)\n",
    "        if index+1<len(lists[list_index]):\n",
    "            heapq.heappush(minheap, (lists[list_index][index+1], list_index, index+1))\n",
    "    return result\n",
    "lists = [[1, 4, 5], [1, 3, 4], [2, 6]]\n",
    "test(lists)"
   ]
  },
  {
   "cell_type": "code",
   "execution_count": null,
   "metadata": {},
   "outputs": [
    {
     "name": "stdout",
     "output_type": "stream",
     "text": [
      "12.75\n"
     ]
    }
   ],
   "source": [
    "def subarrayWithMaximumAverage(arr, k):\n",
    "    n = len(arr)\n",
    "    if n < k:\n",
    "        return 0.0 \n",
    "\n",
    "    max_sum = float('-inf')\n",
    "    current_sum = 0\n",
    "    for i in range(k):\n",
    "        current_sum += arr[i]\n",
    "    \n",
    "    max_sum = current_sum\n",
    "    for i in range(k, n):\n",
    "        current_sum += arr[i] - arr[i - k]\n",
    "        max_sum = max(max_sum, current_sum)\n",
    "\n",
    "    return max_sum / k\n",
    "\n",
    "arr = [1, 12, -5, -6, 50, 3]\n",
    "k = 4\n",
    "result = subarrayWithMaximumAverage(arr, k)\n",
    "print(result)  # Output: 12.75"
   ]
  },
  {
   "cell_type": "code",
   "execution_count": null,
   "metadata": {},
   "outputs": [
    {
     "name": "stdout",
     "output_type": "stream",
     "text": [
      "True\n"
     ]
    }
   ],
   "source": [
    "from collections import defaultdict\n",
    "\n",
    "def isAnagrams(s, t):\n",
    "    if not s or not t:\n",
    "        return False\n",
    "    n1 = len(s)\n",
    "    n2 = len(t)\n",
    "    if n1 != n2:\n",
    "        return False\n",
    "    count_char1 = defaultdict(int)\n",
    "    count_char2 = defaultdict(int)\n",
    "    for char in s:\n",
    "        count_char1[char] += 1\n",
    "    for char in t:\n",
    "        count_char2[char] += 1\n",
    "    if count_char1 != count_char2:\n",
    "        return False\n",
    "    return True\n",
    "\n",
    "s1 = \"anagram\"\n",
    "s2 = \"nagaram\"\n",
    "print(isAnagrams(s1, s2))\n",
    "# Output: True"
   ]
  },
  {
   "cell_type": "code",
   "execution_count": null,
   "metadata": {},
   "outputs": [
    {
     "name": "stdout",
     "output_type": "stream",
     "text": [
      "[7, 2]\n"
     ]
    }
   ],
   "source": [
    "def elementThatAddUpTarget(arr,target):\n",
    "    if not arr:\n",
    "        return\n",
    "    seen=set()\n",
    "    for i in range(len(arr)):\n",
    "        complement = target - arr[i]\n",
    "        if complement in seen:\n",
    "            return [arr[i], complement]\n",
    "        seen.add(arr[i])\n",
    "arr = [2, 7, 11, 15]\n",
    "target = 9\n",
    "print(elementThatAddUpTarget(arr, target))"
   ]
  },
  {
   "cell_type": "code",
   "execution_count": null,
   "metadata": {},
   "outputs": [
    {
     "data": {
      "text/plain": [
       "4"
      ]
     },
     "execution_count": 82,
     "metadata": {},
     "output_type": "execute_result"
    }
   ],
   "source": [
    "def searchInRotatedArray(arr,target):\n",
    "    if not arr:\n",
    "        return -1\n",
    "    left = 0\n",
    "    right = len(arr) - 1\n",
    "    while left <= right:\n",
    "        mid = (left + right) // 2\n",
    "        if arr[mid]==target:\n",
    "            return mid\n",
    "        if arr[left]<=arr[mid]:\n",
    "            if arr[left]<=target and target<arr[mid]:\n",
    "                right = mid - 1\n",
    "            else:\n",
    "                left = mid + 1\n",
    "        else:\n",
    "            if arr[mid]<target and target<=arr[right]:\n",
    "                left = mid + 1\n",
    "            else:\n",
    "                right = mid - 1\n",
    "    return -1\n",
    "arr = [4, 5, 6, 7, 0, 1, 2]\n",
    "target = 0  \n",
    "# Output: 4  \n",
    "searchInRotatedArray(arr,target)"
   ]
  },
  {
   "cell_type": "code",
   "execution_count": null,
   "metadata": {},
   "outputs": [
    {
     "name": "stdout",
     "output_type": "stream",
     "text": [
      "[[-1, -1, 2], [-1, 0, 1]]\n"
     ]
    }
   ],
   "source": [
    "def three_sum(arr,target):\n",
    "    if not arr:\n",
    "        return []\n",
    "    arr.sort()\n",
    "    n=len(arr)\n",
    "    result=[]\n",
    "    for i in range(n-2):\n",
    "        if i>0 and arr[i]==arr[i-1]:\n",
    "            continue\n",
    "        left=i+1\n",
    "        right=n-1\n",
    "        while left<right:\n",
    "            s=arr[left]+arr[right]+arr[i]\n",
    "            if s==target:\n",
    "                result.append([arr[i],arr[left],arr[right]])\n",
    "                while left<right and arr[left]==arr[left+1]:\n",
    "                    left+=1\n",
    "                while left<right and arr[right]==arr[right-1]:\n",
    "                    right-=1\n",
    "                left+=1\n",
    "                right-=1\n",
    "            elif s<0:\n",
    "                left+=1\n",
    "            else:\n",
    "                right-=1\n",
    "    return result\n",
    "arr = [-1, 0, 1, 2, -1, -4]\n",
    "target = 0\n",
    "print(three_sum(arr, target))"
   ]
  },
  {
   "cell_type": "code",
   "execution_count": null,
   "metadata": {},
   "outputs": [
    {
     "name": "stdout",
     "output_type": "stream",
     "text": [
      "[[-2, -1, 1, 2], [-2, 0, 0, 2]]\n"
     ]
    }
   ],
   "source": [
    "def foursum(arr, target):\n",
    "    if not arr:\n",
    "        return []\n",
    "    arr.sort()\n",
    "    n=len(arr)\n",
    "    result=[]\n",
    "    for i in range(n-3):\n",
    "        if i>0 and arr[i]==arr[i-1]:\n",
    "            continue\n",
    "        for j in range(i+1, n-2):\n",
    "            if j>i+1 and arr[j]==arr[j-1]:\n",
    "                continue\n",
    "            left=j+1\n",
    "            right=n-1\n",
    "            while left<right:\n",
    "                s=arr[i]+arr[j]+arr[left]+arr[right]\n",
    "                if s==target:\n",
    "                    result.append([arr[i],arr[j],arr[left],arr[right]])\n",
    "                    while left<right and arr[left]==arr[left+1]:\n",
    "                        left+=1\n",
    "                    while left<right and arr[right]==arr[right-1]:\n",
    "                        right-=1\n",
    "                    left+=1\n",
    "                    right-=1\n",
    "                elif s<target:\n",
    "                    left+=1\n",
    "                else:\n",
    "                    right-=1\n",
    "        return result\n",
    "nums = [1, 0, -1, 0, -2, 2]\n",
    "target = 0\n",
    "print(foursum(nums, target))"
   ]
  },
  {
   "cell_type": "code",
   "execution_count": null,
   "metadata": {},
   "outputs": [
    {
     "data": {
      "text/plain": [
       "[2, 4]"
      ]
     },
     "execution_count": 85,
     "metadata": {},
     "output_type": "execute_result"
    }
   ],
   "source": [
    "def instersectionOfTwoarray(arr1,arr2):\n",
    "    if not arr1 or not arr2:\n",
    "        return []\n",
    "    result = []\n",
    "    for num in arr1:\n",
    "        if num in arr2 and num not in result:\n",
    "            result.append(num)\n",
    "    return result\n",
    "arr1 = [1, 2, 2, 1,4]\n",
    "arr2 = [2, 2,4]  \n",
    "# Output: [2, 2]  \n",
    "\n",
    "instersectionOfTwoarray(arr1,arr2)"
   ]
  },
  {
   "cell_type": "code",
   "execution_count": null,
   "metadata": {},
   "outputs": [
    {
     "name": "stdout",
     "output_type": "stream",
     "text": [
      "Counter({'a': 2, 'b': 2})\n"
     ]
    },
    {
     "data": {
      "text/plain": [
       "'abba'"
      ]
     },
     "execution_count": 94,
     "metadata": {},
     "output_type": "execute_result"
    }
   ],
   "source": [
    "def rearrangeToMakePalindrome(s):\n",
    "    if not s:\n",
    "        return\n",
    "    s=list(s)\n",
    "    freq=Counter(s)\n",
    "    odd_count=0\n",
    "    odd_char=\"\"\n",
    "    for char,count in freq.items():\n",
    "        if count%2!=0:\n",
    "            odd_count+=1\n",
    "            odd_char=char\n",
    "    if odd_count>1:\n",
    "        return \"not possible\"\n",
    "    half_palindrome=[]\n",
    "    middle_char=odd_char if odd_char else \"\"\n",
    "    for char,count in freq.items():\n",
    "        half_palindrome.extend(char*(count//2))\n",
    "    full_palindrome=\"\".join(half_palindrome) + middle_char + \"\".join(reversed(half_palindrome))\n",
    "    return full_palindrome\n",
    "    \n",
    "s=\"aabb\"\n",
    "output=\"abba or baab\"\n",
    "rearrangeToMakePalindrome(s)"
   ]
  },
  {
   "cell_type": "code",
   "execution_count": null,
   "metadata": {},
   "outputs": [
    {
     "name": "stdout",
     "output_type": "stream",
     "text": [
      "[(10, 8)]\n"
     ]
    }
   ],
   "source": [
    "def minimumDifferenceBetweenArray(arr1, arr2):\n",
    "    if not arr1 or not arr2:\n",
    "        return []\n",
    "    arr1.sort()\n",
    "    arr2.sort()\n",
    "    i, j = 0, 0\n",
    "    min_diff = float(\"inf\")\n",
    "    res = []\n",
    "\n",
    "    while i < len(arr1) and j < len(arr2):\n",
    "        diff = abs(arr1[i] - arr2[j])\n",
    "\n",
    "       \n",
    "        if diff < min_diff:\n",
    "            min_diff = diff\n",
    "            res = [(arr1[i], arr2[j])] \n",
    "        elif diff == min_diff:\n",
    "            res.append((arr1[i], arr2[j])) \n",
    "        # Move the pointer that points to the smaller value\n",
    "        if arr1[i] < arr2[j]:\n",
    "            i += 1\n",
    "        else:\n",
    "            j += 1\n",
    "\n",
    "    return res\n",
    "\n",
    "# Test Case\n",
    "arr1 = [1, 3, 15, 11, 10]\n",
    "arr2 = [23, 127, 235, 19, 8]\n",
    "\n",
    "print(minimumDifferenceBetweenArray(arr1, arr2))\n",
    "# Output: [(10, 8)]\n"
   ]
  },
  {
   "cell_type": "code",
   "execution_count": null,
   "metadata": {},
   "outputs": [
    {
     "name": "stdout",
     "output_type": "stream",
     "text": [
      "[28, 29]\n"
     ]
    }
   ],
   "source": [
    "def closestPair(arr):\n",
    "    res=[]\n",
    "    if not arr:\n",
    "        return \n",
    "    min_diff=float(\"inf\")\n",
    "    for i in range(len(arr)-1):\n",
    "        for j in range(i+1, len(arr)):\n",
    "            diff=abs(arr[i]-arr[j])\n",
    "            if diff<min_diff:\n",
    "                min_diff=diff\n",
    "                res=[arr[i],arr[j]]\n",
    "    return res\n",
    "arr=[10, 22, 28, 29, 30, 40]\n",
    "print(closestPair(arr))\n"
   ]
  },
  {
   "cell_type": "code",
   "execution_count": null,
   "metadata": {},
   "outputs": [
    {
     "data": {
      "text/plain": [
       "[3, 1, 4, 2, 6, 5]"
      ]
     },
     "execution_count": 161,
     "metadata": {},
     "output_type": "execute_result"
    }
   ],
   "source": [
    "def rearrangeInAlternateOrder(arr):\n",
    "    if not arr:\n",
    "        return\n",
    "    n = len(arr)\n",
    "    i, j = 0, 1\n",
    "    while j < n:\n",
    "        arr[i], arr[j] = arr[j], arr[i]\n",
    "        i += 2\n",
    "        j += 2\n",
    "    return arr\n",
    "    \n",
    "arr = [1, 3, 2, 4, 5, 6]  \n",
    "rearrangeInAlternateOrder(arr)\n",
    "\n"
   ]
  },
  {
   "cell_type": "code",
   "execution_count": 175,
   "metadata": {},
   "outputs": [
    {
     "data": {
      "text/plain": [
       "[4, 1, 5, 2, 8, 3]"
      ]
     },
     "execution_count": 175,
     "metadata": {},
     "output_type": "execute_result"
    }
   ],
   "source": [
    "def rearrangeInAlternateIndex(arr):\n",
    "    if not arr:\n",
    "        return\n",
    "    n=len(arr)\n",
    "    odd_indices=1\n",
    "    even_indices=0\n",
    "    arr.sort()\n",
    "    res=[0]*n\n",
    "    mid=n//2\n",
    "    for i in range(mid):\n",
    "        if odd_indices<n:\n",
    "            res[odd_indices]=arr[i]\n",
    "            odd_indices+=2\n",
    "\n",
    "    for i in range(mid,n):\n",
    "        if even_indices<n:\n",
    "            res[even_indices]=arr[i]\n",
    "            even_indices+=2\n",
    "\n",
    "    return res\n",
    "\n",
    "arr=[1,3,2,5,4,8]\n",
    "rearrangeInAlternateIndex(arr)"
   ]
  },
  {
   "cell_type": "code",
   "execution_count": 179,
   "metadata": {},
   "outputs": [
    {
     "name": "stdout",
     "output_type": "stream",
     "text": [
      "500\n"
     ]
    }
   ],
   "source": [
    "def maximumProductOfThreeNumbers(arr):\n",
    "    if len(arr) < 3:\n",
    "        return 0 \n",
    "    arr.sort()\n",
    "    # Case 1: Product of the top three largest numbers\n",
    "    case1 = arr[-1] * arr[-2] * arr[-3]\n",
    "\n",
    "    # Case 2: Product of the two smallest numbers (most negative) and the largest number\n",
    "    case2 = arr[0] * arr[1] * arr[-1]\n",
    "\n",
    "   \n",
    "    return max(case1, case2)\n",
    "\n",
    "arr = [-10, -10, 5, 2]  \n",
    "print(maximumProductOfThreeNumbers(arr))\n"
   ]
  },
  {
   "cell_type": "code",
   "execution_count": 191,
   "metadata": {},
   "outputs": [
    {
     "data": {
      "text/plain": [
       "4"
      ]
     },
     "execution_count": 191,
     "metadata": {},
     "output_type": "execute_result"
    }
   ],
   "source": [
    "def longestSubstringwithatmosttwodistinctchar(s):\n",
    "    if not s:\n",
    "        return \"\"\n",
    "    n=len(s)\n",
    "    freq=defaultdict(int)\n",
    "    max_length=float(\"-inf\")\n",
    "    j=0\n",
    "    for i in range(n):\n",
    "        freq[s[i]]+=1\n",
    "        \n",
    "        while len(freq)>2:\n",
    "            freq[s[j]]-=1\n",
    "            if freq[s[j]]==0:\n",
    "                del freq[s[j]]\n",
    "            j+=1\n",
    "        max_length=max(max_length,i-j+1)\n",
    "    return max_length\n",
    "            \n",
    "    print(freq)\n",
    "\n",
    "s=\"ececb\"\n",
    "longestSubstringwithatmosttwodistinctchar(s)"
   ]
  },
  {
   "cell_type": "code",
   "execution_count": 203,
   "metadata": {},
   "outputs": [
    {
     "name": "stdout",
     "output_type": "stream",
     "text": [
      "2\n"
     ]
    }
   ],
   "source": [
    "def minimumNumberOfSwapsToSort(arr):\n",
    "    if not arr:\n",
    "        return 0\n",
    "\n",
    "    n = len(arr)\n",
    "    sorted_arr = sorted(arr) \n",
    "    index_map = {val: idx for idx, val in enumerate(arr)}  # Store original indices\n",
    "    visited = [False] * n  \n",
    "    swaps = 0 \n",
    "\n",
    "    for i in range(n):\n",
    "        # If element is already visited or in correct position, skip\n",
    "        if visited[i] or arr[i] == sorted_arr[i]:\n",
    "            continue\n",
    "\n",
    "        # Count cycle length\n",
    "        cycle_size = 0\n",
    "        j = i\n",
    "        while not visited[j]:\n",
    "            visited[j] = True  # Mark as visited\n",
    "            j = index_map[sorted_arr[j]]  # Move to the correct position,it gives origional index ofthat value in unsorted arr\n",
    "          \n",
    "            cycle_size += 1\n",
    "\n",
    "        if cycle_size > 1:\n",
    "            swaps += (cycle_size - 1)  # Number of swaps needed for this cycle\n",
    "\n",
    "    return swaps\n",
    "\n",
    "# Test case\n",
    "arr = [4, 3, 2, 1]\n",
    "print(minimumNumberOfSwapsToSort(arr))\n",
    "# Output: 2\n"
   ]
  },
  {
   "cell_type": "code",
   "execution_count": 211,
   "metadata": {},
   "outputs": [
    {
     "name": "stdout",
     "output_type": "stream",
     "text": [
      "([2, 5, 7, 101], 4)\n"
     ]
    }
   ],
   "source": [
    "def increasingSubsequence(arr):\n",
    "    if not arr:\n",
    "        return \n",
    "    n=len(arr)\n",
    "    max_length=float(\"-inf\")\n",
    "    dp=[1]*n\n",
    "    prev=[-1]*n\n",
    "    max_index=0\n",
    "    for i in range(n):\n",
    "        for j in range(i):\n",
    "            if arr[i]>arr[j] and dp[i]<dp[j]+1:\n",
    "                dp[i]=dp[j]+1\n",
    "                prev[i]=j\n",
    "        if dp[i]>max_length:\n",
    "            max_length=dp[i]\n",
    "            max_index=i\n",
    "           \n",
    "    sequence=[]\n",
    "    while max_index!=-1:\n",
    "        sequence.append(arr[max_index])\n",
    "        max_index=prev[max_index]\n",
    "    return sequence[::-1],dp[n-1]\n",
    "\n",
    "arr =  [10, 9, 2, 5, 3, 7, 101, 18] \n",
    "print(increasingSubsequence(arr))"
   ]
  },
  {
   "cell_type": "code",
   "execution_count": 213,
   "metadata": {},
   "outputs": [
    {
     "name": "stdout",
     "output_type": "stream",
     "text": [
      "4\n"
     ]
    }
   ],
   "source": [
    "def missingNumberInArray(arr):\n",
    "    if not arr:\n",
    "        return\n",
    "    n=len(arr)\n",
    "    left=0\n",
    "    right=n-1\n",
    "    while left<=right:\n",
    "        mid=left+(right-left)//2\n",
    "        if arr[mid]==mid:\n",
    "            left=mid+1\n",
    "        else:\n",
    "            right=mid-1\n",
    "    return left\n",
    "arr=[0,1,2,3,5,6,7]\n",
    "print(missingNumberInArray(arr))"
   ]
  },
  {
   "cell_type": "code",
   "execution_count": 227,
   "metadata": {},
   "outputs": [
    {
     "name": "stdout",
     "output_type": "stream",
     "text": [
      "2\n"
     ]
    }
   ],
   "source": [
    "def numberOfSubarrayWithGivenSum(arr,target):\n",
    "    if not arr:\n",
    "        return 0\n",
    "    n=len(arr)\n",
    "    summap={0:-1}\n",
    "    prefix_sum=0\n",
    "    count=0\n",
    "    for i in range(n):\n",
    "        prefix_sum+=arr[i]\n",
    "        if prefix_sum-target in summap:\n",
    "            count+=summap[prefix_sum-target]+1\n",
    "        if prefix_sum in  summap:\n",
    "            summap[prefix_sum]+=1\n",
    "        else:\n",
    "            summap[prefix_sum]=1\n",
    "    return count\n",
    "arr=[1, 1,1]\n",
    "target=2\n",
    "print(numberOfSubarrayWithGivenSum(arr,target))"
   ]
  },
  {
   "cell_type": "code",
   "execution_count": null,
   "metadata": {},
   "outputs": [
    {
     "name": "stdout",
     "output_type": "stream",
     "text": [
      "10\n"
     ]
    }
   ],
   "source": [
    "def largestRectangleArea(heights):\n",
    "    stack = []\n",
    "    max_area = 0\n",
    "\n",
    "    for i in range(len(heights)):\n",
    "        # While the current bar is smaller than the bar at stack's top index\n",
    "        while stack and heights[i] < heights[stack[-1]]:\n",
    "            h = heights[stack.pop()]\n",
    "            w = i if not stack else i - stack[-1] - 1 #width=currentindec-stavk top -1\n",
    "            max_area = max(max_area, h * w)\n",
    "        \n",
    "        stack.append(i)\n",
    "\n",
    "    return max_area\n",
    "\n",
    "heights = [2, 1, 5, 6, 2, 3]\n",
    "print(largestRectangleArea(heights))\n"
   ]
  },
  {
   "cell_type": "code",
   "execution_count": null,
   "metadata": {},
   "outputs": [
    {
     "name": "stdout",
     "output_type": "stream",
     "text": [
      "[[1, 2], [2, 3], [3, 4], [1, 5]]\n",
      "1\n",
      "2\n",
      "3\n",
      "1\n",
      "2\n"
     ]
    }
   ],
   "source": [
    "def findLongestChain(pairs):\n",
    "    # Sort the pairs based on the second element of each pair\n",
    "    pairs.sort(key=lambda x: x[1])\n",
    "    print(pairs)\n",
    "    current_end = float('-inf')  # Initially set to negative infinity\n",
    "    chain_length = 0\n",
    "\n",
    "    for pair in pairs:\n",
    "        # If the second element of the current pair is greater than the last selected pair's second element\n",
    "        if pair[0] > current_end:\n",
    "            current_end = pair[1]  # Update the end of the chain to the second element of the current pair\n",
    "            chain_length += 1  # Increment the length of the chain\n",
    "\n",
    "    return chain_length\n",
    "\n",
    "\n",
    "pairs = [[1, 2], [2, 3], [3, 4], [1, 5]]\n",
    "\n",
    "print(findLongestChain(pairs))"
   ]
  },
  {
   "cell_type": "code",
   "execution_count": 250,
   "metadata": {},
   "outputs": [
    {
     "data": {
      "text/plain": [
       "'l'"
      ]
     },
     "execution_count": 250,
     "metadata": {},
     "output_type": "execute_result"
    }
   ],
   "source": [
    "def firstNonRepeatingCharacter(s):\n",
    "    if not s:\n",
    "        return\n",
    "    n=len(s)\n",
    "    count=[0]*26\n",
    "    for char in s:\n",
    "        count[ord(char)-ord('a')]+=1\n",
    "    for i in range(n):\n",
    "        if count[ord(s[i])-ord('a')]==1:\n",
    "            return s[i]\n",
    "    print(count)\n",
    "    \n",
    "s=\"leetcode\"\n",
    "firstNonRepeatingCharacter(s)"
   ]
  },
  {
   "cell_type": "code",
   "execution_count": null,
   "metadata": {},
   "outputs": [
    {
     "data": {
      "text/plain": [
       "'l'"
      ]
     },
     "execution_count": 10,
     "metadata": {},
     "output_type": "execute_result"
    }
   ],
   "source": [
    "def firstNonRepeatingChar(s):\n",
    "    char_map={}\n",
    "    for char in s:\n",
    "        char_map[char]=char_map.get(char,0)+1\n",
    "    for index,(char,count) in enumerate(char_map.items()):\n",
    "        if count==1:\n",
    "            return s[index]\n",
    "\n",
    "    return char_map\n",
    "firstNonRepeatingChar(\"leetcode\")"
   ]
  }
 ],
 "metadata": {
  "kernelspec": {
   "display_name": "myenv",
   "language": "python",
   "name": "python3"
  },
  "language_info": {
   "codemirror_mode": {
    "name": "ipython",
    "version": 3
   },
   "file_extension": ".py",
   "mimetype": "text/x-python",
   "name": "python",
   "nbconvert_exporter": "python",
   "pygments_lexer": "ipython3",
   "version": "3.12.3"
  }
 },
 "nbformat": 4,
 "nbformat_minor": 2
}
