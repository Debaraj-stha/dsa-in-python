{
 "cells": [
  {
   "cell_type": "code",
   "execution_count": 132,
   "metadata": {},
   "outputs": [
    {
     "name": "stdout",
     "output_type": "stream",
     "text": [
      "[18, 2, 12, 9, 1, 8]\n"
     ]
    }
   ],
   "source": [
    "def reverseList(arr):\n",
    "    left=0\n",
    "    right=len(arr)-1\n",
    "    while  left<right:\n",
    "        arr[left],arr[right] = arr[right],arr[left]\n",
    "        left+=1\n",
    "        right-=1\n",
    "arr=[8,1,9,12,2,18]\n",
    "reverseList(arr)\n",
    "print(arr)"
   ]
  },
  {
   "cell_type": "code",
   "execution_count": 133,
   "metadata": {},
   "outputs": [
    {
     "name": "stdout",
     "output_type": "stream",
     "text": [
      "False\n",
      "True\n",
      "True\n"
     ]
    }
   ],
   "source": [
    "def checkingPalindrome(num):\n",
    "    left=0\n",
    "    right=len(num)-1\n",
    "    while left<right:\n",
    "        if num[left]!=num[right]:\n",
    "            return False\n",
    "        left+=1\n",
    "        right-=1\n",
    "    return True\n",
    "print(checkingPalindrome(\"123291\"))\n",
    "print(checkingPalindrome(\"12321\"))\n",
    "print(checkingPalindrome(\"121\"))"
   ]
  },
  {
   "cell_type": "code",
   "execution_count": 134,
   "metadata": {},
   "outputs": [
    {
     "name": "stdout",
     "output_type": "stream",
     "text": [
      "[0, 4]\n"
     ]
    }
   ],
   "source": [
    "def two_sum_sorted(arr, target):\n",
    "    left, right = 0, len(arr) - 1\n",
    "    \n",
    "    while left < right:\n",
    "        current_sum = arr[left] + arr[right]\n",
    "        \n",
    "        if current_sum == target:\n",
    "            return [left, right] \n",
    "        \n",
    "        if current_sum < target:\n",
    "            left += 1  # Increase the sum by moving left pointer\n",
    "        else:\n",
    "            right -= 1  # Decrease the sum by moving right pointer\n",
    "    \n",
    "    return []  \n",
    "\n",
    "# Example\n",
    "arr = [9,7,6,2,1]\n",
    "target = 10\n",
    "print(two_sum_sorted(arr, target))\n"
   ]
  },
  {
   "cell_type": "code",
   "execution_count": 135,
   "metadata": {},
   "outputs": [
    {
     "name": "stdout",
     "output_type": "stream",
     "text": [
      "[0, 0, 0, 1, 1, 1, 2, 2]\n"
     ]
    }
   ],
   "source": [
    "def sort_colors(colors):\n",
    "    left,right,mid=0,len(colors)-1,0\n",
    "    while mid<=right:\n",
    "        if colors[mid]==0:\n",
    "            colors[left],colors[mid]=colors[mid],colors[left]\n",
    "            left+=1\n",
    "            mid+=1\n",
    "        elif colors[mid]==1:\n",
    "            mid+=1\n",
    "        else:\n",
    "            colors[mid],colors[right]=colors[right],colors[mid]\n",
    "            right-=1\n",
    "    return colors\n",
    "colors=[2,1,0,0,0,1,1,2]\n",
    "print(sort_colors(colors))"
   ]
  },
  {
   "cell_type": "code",
   "execution_count": 136,
   "metadata": {},
   "outputs": [
    {
     "name": "stdout",
     "output_type": "stream",
     "text": [
      "5\n",
      "[1, 2, 3, 4, 5]\n"
     ]
    }
   ],
   "source": [
    "def removesDuplicate(arr):\n",
    "    if not arr:\n",
    "        return 0 \n",
    "    \n",
    "    left = 0  \n",
    "    \n",
    "    for right in range(1, len(arr)): \n",
    "        if arr[right] != arr[left]:  \n",
    "            left += 1  \n",
    "            arr[left] = arr[right]  \n",
    "    \n",
    "    return left + 1 \n",
    "arr = [1, 1, 1, 1, 2, 2, 3, 4, 4, 5, 5, 5, 5, 5]\n",
    "new_length = removesDuplicate(arr)\n",
    "print(new_length)  \n",
    "print(arr[:new_length])  \n"
   ]
  },
  {
   "cell_type": "code",
   "execution_count": 137,
   "metadata": {},
   "outputs": [
    {
     "name": "stdout",
     "output_type": "stream",
     "text": [
      "[1, 1, 2, 2, 3, 4, 4, 5, 8, 10]\n"
     ]
    }
   ],
   "source": [
    "def mergeSorted(arr1, m, arr2, n):\n",
    "    i, j, k = m - 1, n - 1, m + n - 1  \n",
    "    while i >= 0 and j >= 0:\n",
    "        if arr1[i] > arr2[j]: \n",
    "            arr1[k] = arr1[i]\n",
    "            i -= 1\n",
    "        else:\n",
    "            arr1[k] = arr2[j]\n",
    "            j -= 1\n",
    "        k -= 1 \n",
    "\n",
    "    # Copy remaining elements from arr2 (if any)\n",
    "    while j >= 0:\n",
    "        arr1[k] = arr2[j]\n",
    "        j -= 1\n",
    "        k -= 1\n",
    "\n",
    "    return arr1\n",
    "\n",
    "arr1 = [1, 2, 3, 4, 5, 0, 0, 0, 0, 0] \n",
    "arr2 = [1, 2, 4, 8, 10]\n",
    "indexOfZero=arr1.index(0)\n",
    "m, n = indexOfZero,len(arr2)\n",
    "\n",
    "print(mergeSorted(arr1, m, arr2, n))\n"
   ]
  },
  {
   "cell_type": "code",
   "execution_count": 138,
   "metadata": {},
   "outputs": [
    {
     "name": "stdout",
     "output_type": "stream",
     "text": [
      "[8]\n"
     ]
    }
   ],
   "source": [
    "def smallestSubarrayWithSumGreaterThanK(arr, k):\n",
    "    n = len(arr)\n",
    "    i = 0  #left pointer\n",
    "    current_sum = 0  \n",
    "    min_length = float('inf')\n",
    "    subarray = []\n",
    "\n",
    "    for j in range(n):  #right pointer of window\n",
    "        current_sum += arr[j]\n",
    "        while current_sum > k and i <= j:\n",
    "            if (j - i + 1) < min_length:\n",
    "                min_length = j - i + 1\n",
    "                subarray = arr[i:j+1]\n",
    "\n",
    "            current_sum -= arr[i]  #remove element from left\n",
    "            i += 1 \n",
    "\n",
    "    return subarray if min_length != float('inf') else []\n",
    "\n",
    "arr = [8, 3, 1, 2, 5, 10]\n",
    "k = 4\n",
    "print(smallestSubarrayWithSumGreaterThanK(arr, k))\n"
   ]
  },
  {
   "cell_type": "code",
   "execution_count": 139,
   "metadata": {},
   "outputs": [
    {
     "name": "stdout",
     "output_type": "stream",
     "text": [
      "[1, 3, 4, 7, 9, 10, 0, 0, 0, 0, 0, 0]\n"
     ]
    }
   ],
   "source": [
    "def moveAllZeroToEnd(arr):\n",
    "    n = len(arr)\n",
    "    i = 0  # Pointer for non-zero elements\n",
    "    j = 0  # Pointer for scanning through the array\n",
    "    \n",
    "    while j < n:\n",
    "        if arr[j] != 0:\n",
    "            arr[i], arr[j] = arr[j], arr[i]\n",
    "            i += 1\n",
    "        j += 1\n",
    "\n",
    "arr = [1, 3, 0, 0, 4, 0, 0, 0, 7, 9, 10, 0]\n",
    "moveAllZeroToEnd(arr)\n",
    "print(arr)\n"
   ]
  },
  {
   "cell_type": "code",
   "execution_count": 140,
   "metadata": {},
   "outputs": [
    {
     "data": {
      "text/plain": [
       "40"
      ]
     },
     "execution_count": 140,
     "metadata": {},
     "output_type": "execute_result"
    }
   ],
   "source": [
    "def containerWithMaximumWater(heights):\n",
    "    n=len(heights)-1\n",
    "    left=0\n",
    "    right=n-1\n",
    "    max_water=0\n",
    "    while left<right:\n",
    "        width=right-left\n",
    "        min_height=min(heights[left],heights[right])\n",
    "        max_water=max(max_water,min_height*width)\n",
    "        if heights[left]<heights[right]:\n",
    "            left+=1\n",
    "        else:\n",
    "            right-=1\n",
    "    return max_water\n",
    "\n",
    "\n",
    "height = [1, 8, 6, 2, 5, 4, 8, 3, 7]  \n",
    "containerWithMaximumWater(height)"
   ]
  },
  {
   "cell_type": "code",
   "execution_count": 141,
   "metadata": {},
   "outputs": [
    {
     "name": "stdout",
     "output_type": "stream",
     "text": [
      "[4, 2, 1, 1]\n"
     ]
    }
   ],
   "source": [
    "def longestSubarrayWithSumLessThanEqualToK(arr, k):\n",
    "    n = len(arr)\n",
    "    i = 0  # Left pointer of the window\n",
    "    current_sum = 0\n",
    "    max_length = 0\n",
    "    subarray = []\n",
    "\n",
    "    for j in range(n):  # Right pointer of the window\n",
    "        current_sum += arr[j]\n",
    "\n",
    "        # Shrink the window from the left if the sum exceeds k\n",
    "        while current_sum > k and i <= j:\n",
    "            current_sum -= arr[i]\n",
    "            i += 1\n",
    "        \n",
    "        # Track the longest subarray\n",
    "        if current_sum <= k and (j - i + 1) > max_length:\n",
    "            max_length = j - i + 1\n",
    "            subarray = arr[i:j+1]\n",
    "\n",
    "    return subarray if max_length > 0 else []\n",
    "\n",
    "arr = [3, 1, 2, 7, 4, 2, 1, 1]\n",
    "k = 8\n",
    "result = longestSubarrayWithSumLessThanEqualToK(arr, k)\n",
    "print(result) \n"
   ]
  },
  {
   "cell_type": "code",
   "execution_count": 142,
   "metadata": {},
   "outputs": [
    {
     "name": "stdout",
     "output_type": "stream",
     "text": [
      "[2, 2, 4]\n"
     ]
    }
   ],
   "source": [
    "def FindIntersection(arr1, arr2):\n",
    "    n = len(arr1)\n",
    "    m = len(arr2)\n",
    "    i, j = 0, 0\n",
    "    intersection = []\n",
    "\n",
    "    while i < n and j < m:\n",
    "        if arr1[i] == arr2[j]:\n",
    "            intersection.append(arr1[i])\n",
    "            i += 1\n",
    "            j += 1\n",
    "        elif arr1[i] < arr2[j]:\n",
    "            i += 1\n",
    "        else:\n",
    "            j += 1\n",
    "    return intersection\n",
    "\n",
    "nums1 = [1, 2, 2, 3, 4]\n",
    "nums2 = [2, 2, 4, 6]\n",
    "print(FindIntersection(nums1, nums2))  # Output: [2, 2, 4]\n"
   ]
  },
  {
   "cell_type": "code",
   "execution_count": 143,
   "metadata": {},
   "outputs": [
    {
     "name": "stdout",
     "output_type": "stream",
     "text": [
      "(3, 5)\n"
     ]
    }
   ],
   "source": [
    "def pairWithGivenSum(arr,s):\n",
    "    seen=set()\n",
    "    for num in arr:\n",
    "        complement=s-num\n",
    "        if complement in seen:\n",
    "            return(complement,num)\n",
    "        seen.add(num)\n",
    "    return []\n",
    "\n",
    "myArr= [1, 3, 5, 8, 12, 16]\n",
    "s=8\n",
    "print(pairWithGivenSum(myArr,s))"
   ]
  },
  {
   "cell_type": "code",
   "execution_count": 144,
   "metadata": {},
   "outputs": [
    {
     "name": "stdout",
     "output_type": "stream",
     "text": [
      "(1, 5)\n"
     ]
    }
   ],
   "source": [
    "def pairWithGivenDifference(arr,diff):\n",
    "    seen=set()\n",
    "    for num in arr:\n",
    "      \n",
    "        if num-diff in seen:\n",
    "            return(num-diff,num)\n",
    "        elif num+diff in seen:\n",
    "            return(num,num+diff)\n",
    "        seen.add(num)\n",
    "    return []\n",
    "\n",
    "myArr= [1, 3, 5, 8, 12, 16]\n",
    "k = 4   \n",
    "print(pairWithGivenDifference(myArr,4))\n"
   ]
  },
  {
   "cell_type": "markdown",
   "metadata": {},
   "source": [
    "An array is a valid \"mountain\" if it first increases to a peak and then decreases."
   ]
  },
  {
   "cell_type": "code",
   "execution_count": 145,
   "metadata": {},
   "outputs": [
    {
     "name": "stdout",
     "output_type": "stream",
     "text": [
      "True\n",
      "False\n"
     ]
    }
   ],
   "source": [
    "def validMountain(arr):\n",
    "    n=len(arr)\n",
    "    if n<3:\n",
    "        return False\n",
    "    left=0\n",
    "    #traverse increasing part\n",
    "    while left+1<n and arr[left]<arr[left+1]:\n",
    "        left+=1\n",
    "    #if no increasing or we reach end\n",
    "    if left==0 or left==n-1:\n",
    "        return False\n",
    "    #traverse decreasing part\n",
    "    while left+1<n and arr[left]>arr[left+1]:\n",
    "        left+=1\n",
    "    return left==n-1\n",
    "\n",
    "\n",
    "\n",
    "\n",
    "arr=[0,3,2,1]\n",
    "arr1=[2,1,3]\n",
    "print(validMountain(arr))\n",
    "print(validMountain(arr1))"
   ]
  },
  {
   "cell_type": "code",
   "execution_count": 146,
   "metadata": {},
   "outputs": [
    {
     "name": "stdout",
     "output_type": "stream",
     "text": [
      "([1, 5], [6, 4, 8, 10, 9])\n"
     ]
    }
   ],
   "source": [
    "def shortestUnsortedList(arr):\n",
    "    n=len(arr)\n",
    "    left=0\n",
    "    while left+1<n and arr[left]<arr[left+1]:\n",
    "        left+=1\n",
    "    right=n-1\n",
    "    while right>0 and arr[right]>arr[right-1]:\n",
    "        right-=1\n",
    "    if left==0 or right==n-1:\n",
    "        return 0\n",
    "    return [left,right],arr[left:right+1]\n",
    "\n",
    "\n",
    "\n",
    "arr=[2, 6, 4, 8, 10, 9, 15]  \n",
    "print(shortestUnsortedList(arr))\n",
    "# Output: 5 (Subarray: [6, 4, 8, 10, 9])  \n"
   ]
  },
  {
   "cell_type": "code",
   "execution_count": 147,
   "metadata": {},
   "outputs": [
    {
     "name": "stdout",
     "output_type": "stream",
     "text": [
      "bab\n"
     ]
    }
   ],
   "source": [
    "def longestPalindromisSubstring(s):\n",
    "    start,end=0,0\n",
    "    n=len(s)\n",
    "    if not s:\n",
    "        return\n",
    "    def expandaroundCenter(left,right):\n",
    "        while left>=0 and right<n and s[left]==s[right]:\n",
    "            left-=1\n",
    "            right+=1\n",
    "        left+=1\n",
    "        right-=1\n",
    "        return left,right\n",
    "    \n",
    "    for i in range(n):\n",
    "        left1,right1=expandaroundCenter(i,i)\n",
    "        left2,right2=expandaroundCenter(i,i+1)\n",
    "        if right1-left1>end-start:\n",
    "            start=left1\n",
    "            end=right1\n",
    "        if right2-left2>end-start:\n",
    "            start=left2\n",
    "            end=right2\n",
    "    return s[start:end+1]\n",
    "\n",
    "s=\"babad\"\n",
    "print(longestPalindromisSubstring(s))"
   ]
  },
  {
   "cell_type": "code",
   "execution_count": 148,
   "metadata": {},
   "outputs": [
    {
     "name": "stdout",
     "output_type": "stream",
     "text": [
      "3\n"
     ]
    }
   ],
   "source": [
    "def longestSubStringWithoutRepeatingCharacter(s):\n",
    "    if not s:\n",
    "        return 0\n",
    "    n = len(s)\n",
    "    seen = set()\n",
    "    max_length = 0\n",
    "    step = 0  # This will act as the start of the sliding window\n",
    "    \n",
    "    for i in range(n):\n",
    "        while s[i] in seen:\n",
    "            seen.remove(s[step])  \n",
    "            step += 1 \n",
    "        \n",
    "        seen.add(s[i]) \n",
    "        max_length = max(max_length, i - step + 1) \n",
    "        \n",
    "    return max_length\n",
    "\n",
    "s = \"abcabcbb\"\n",
    "print(longestSubStringWithoutRepeatingCharacter(s)) \n"
   ]
  },
  {
   "cell_type": "code",
   "execution_count": 149,
   "metadata": {},
   "outputs": [
    {
     "name": "stdout",
     "output_type": "stream",
     "text": [
      "[[10], [5], [10, 5], [2], [5, 2], [6], [2, 6], [5, 2, 6], [9], [6, 9], [14], [17]]\n"
     ]
    }
   ],
   "source": [
    "def subArrayProductLessThanK(arr,k):\n",
    "    if not arr:\n",
    "        return []\n",
    "    n=len(arr)\n",
    "    left, right = 0, 0\n",
    "    product = 1\n",
    "    result = []\n",
    "    while right < n:\n",
    "        product *= arr[right]\n",
    "        while product>=k and left<=right:\n",
    "            product /= arr[left]\n",
    "            left += 1\n",
    "        for i in range(right,left-1,-1):\n",
    "            result.append(arr[i:right+1])\n",
    "        right+=1\n",
    "        \n",
    "    return result\n",
    "\n",
    "    \n",
    "\n",
    "\n",
    "arr = [10, 5, 2, 6,9,14,17]\n",
    "k = 100 \n",
    "print(subArrayProductLessThanK(arr, k)) "
   ]
  },
  {
   "cell_type": "code",
   "execution_count": 150,
   "metadata": {},
   "outputs": [
    {
     "data": {
      "text/plain": [
       "[[1], [2], [1, 2], [3]]"
      ]
     },
     "execution_count": 150,
     "metadata": {},
     "output_type": "execute_result"
    }
   ],
   "source": [
    "def subArrayWithSumLessThan(arr,k):\n",
    "    n=len(arr)\n",
    "    i=0\n",
    "    j=0\n",
    "    result=[]\n",
    "    currentSum=0\n",
    "    while j<n:\n",
    "        currentSum+=arr[j]\n",
    "        while currentSum>=k  and i<=j:\n",
    "            currentSum-=arr[i]\n",
    "            i+=1\n",
    "        for m in range(j,i-1,-1):\n",
    "            result.append(arr[m:j+1])\n",
    "        j+=1\n",
    "    return result\n",
    "\n",
    "arr=[1, 2, 3, 4, 5]\n",
    "subArrayWithSumLessThan(arr,4)\n",
    "        "
   ]
  },
  {
   "cell_type": "code",
   "execution_count": 151,
   "metadata": {},
   "outputs": [
    {
     "name": "stdout",
     "output_type": "stream",
     "text": [
      "[[1, 2, 3, 4], [2, 3, 4], [3, 4, 5]]\n"
     ]
    }
   ],
   "source": [
    "def subArrayWithProductGreaterThanK(arr, k):\n",
    "    i = 0\n",
    "    n = len(arr)\n",
    "    j = 0\n",
    "    result = []\n",
    "    currentProduct = 1\n",
    "\n",
    "    while j < n:\n",
    "        currentProduct *= arr[j]  \n",
    "\n",
    "        # Shrink the window until the product is greater than k\n",
    "        while currentProduct > k and i <= j:\n",
    "            result.append(arr[i:j+1])  # Append valid subarrays with product > k\n",
    "            currentProduct /= arr[i]  # Shrink the window from the left\n",
    "            i += 1\n",
    "\n",
    "        j += 1 \n",
    "    return result\n",
    "\n",
    "# Test example:\n",
    "arr = [1, 2, 3, 4, 5]\n",
    "k = 20\n",
    "print(subArrayWithProductGreaterThanK(arr, k))\n"
   ]
  },
  {
   "cell_type": "code",
   "execution_count": 152,
   "metadata": {},
   "outputs": [
    {
     "name": "stdout",
     "output_type": "stream",
     "text": [
      "(1, 3)\n"
     ]
    }
   ],
   "source": [
    "def pairWithMinimumAbsoluteDifference(arr):\n",
    "    arr.sort()\n",
    "    min_diff = float(\"inf\")\n",
    "    result = None\n",
    "    \n",
    "    for i in range(len(arr) - 1):\n",
    "        diff = abs(arr[i] - arr[i+1]) \n",
    "        if diff < min_diff:\n",
    "            min_diff = diff\n",
    "            result = (arr[i], arr[i+1]) \n",
    "    \n",
    "    return result\n",
    "arr = [1, 3, 8, 15, 17]  \n",
    "print(pairWithMinimumAbsoluteDifference(arr))  # Output: (1,3)\n",
    "\n"
   ]
  },
  {
   "cell_type": "code",
   "execution_count": 153,
   "metadata": {},
   "outputs": [
    {
     "name": "stdout",
     "output_type": "stream",
     "text": [
      "[[1, 0], [0, 1], [1, 0, 1, 0], [0, 1, 0, 1], [0, 1, 0, 1, 1, 0]]\n"
     ]
    }
   ],
   "source": [
    "def subArrayWithEqualNumbersOfZeroAndOne(arr):\n",
    "    n = len(arr)\n",
    "    prefix_sum = 0\n",
    "    index_map = {0: -1}  # Stores the first occurrence of each prefix_sum\n",
    "    result = []\n",
    "    \n",
    "    for i in range(n):\n",
    "        # Convert 0 to -1 to balance the sum\n",
    "        if arr[i]==0:\n",
    "            prefix_sum+=-1\n",
    "        else:\n",
    "            prefix_sum+=1\n",
    "        if prefix_sum in index_map:\n",
    "            start=index_map[prefix_sum]+1\n",
    "            end=i+1\n",
    "            result.append(arr[start:end])\n",
    "        else:\n",
    "            index_map[prefix_sum]=i\n",
    "    \n",
    "    return result\n",
    "\n",
    "# Test case:\n",
    "arr = [1, 1, 0, 1, 0, 1, 1, 0]\n",
    "print(subArrayWithEqualNumbersOfZeroAndOne(arr))\n"
   ]
  },
  {
   "cell_type": "code",
   "execution_count": 154,
   "metadata": {},
   "outputs": [
    {
     "data": {
      "text/plain": [
       "[[2, -3, 1],\n",
       " [2, -3, 1, 6, 4, -10],\n",
       " [4, -4],\n",
       " [2, -3, 1, 6, 4, -10, 1, 3, 4, -4, -4]]"
      ]
     },
     "execution_count": 154,
     "metadata": {},
     "output_type": "execute_result"
    }
   ],
   "source": [
    "def sumarrayWithZeromSum(arr):\n",
    "    prefixSum=0\n",
    "    sumMap={0:-1}\n",
    "    n=len(arr)\n",
    "    res=[]\n",
    "    for i in range(n):\n",
    "        prefixSum+=arr[i]\n",
    "        if prefixSum in sumMap:\n",
    "            start=sumMap[prefixSum]+1\n",
    "            end=i+1\n",
    "            res.append(arr[start:end])\n",
    "        else:\n",
    "            sumMap[prefixSum]=i\n",
    "    return res\n",
    "arr=[4,2,-3,1,6,4,-10,1,3,4,-4,-4]\n",
    "sumarrayWithZeromSum(arr)"
   ]
  },
  {
   "cell_type": "code",
   "execution_count": 155,
   "metadata": {},
   "outputs": [
    {
     "name": "stdout",
     "output_type": "stream",
     "text": [
      "[5, 7, 19]\n"
     ]
    }
   ],
   "source": [
    "def findPeakElement(arr):\n",
    "    res=[]\n",
    "    for i in range(1,len(arr)-1):\n",
    "        if arr[i] > arr[i-1] and arr[i] > arr[i+1]:\n",
    "            res.append(arr[i])\n",
    "    return res\n",
    "arr=[1,2,3,5,4,7,6,9,19,12]\n",
    "print(findPeakElement(arr))"
   ]
  },
  {
   "cell_type": "code",
   "execution_count": 156,
   "metadata": {},
   "outputs": [
    {
     "name": "stdout",
     "output_type": "stream",
     "text": [
      "[1, 4, 6, 12]\n"
     ]
    }
   ],
   "source": [
    "def findVally(arr):\n",
    "    res=[]\n",
    "    n=len(arr)\n",
    "    if n==1:\n",
    "        return arr[0]\n",
    "    if arr[0]<arr[1]:\n",
    "        res.append(arr[0])\n",
    "    for i in range(1,len(arr)-1):\n",
    "        if arr[i] < arr[i-1] and arr[i] < arr[i+1]:\n",
    "            res.append(arr[i])\n",
    "    if arr[n-1]<arr[n-2]:\n",
    "        res.append(arr[n-1])\n",
    "    return res\n",
    "arr=[1,2,3,5,4,7,6,9,19,12]\n",
    "print(findVally(arr))"
   ]
  },
  {
   "cell_type": "code",
   "execution_count": 157,
   "metadata": {},
   "outputs": [
    {
     "data": {
      "text/plain": [
       "[9, 4, 10]"
      ]
     },
     "execution_count": 157,
     "metadata": {},
     "output_type": "execute_result"
    }
   ],
   "source": [
    "def maximumSumSubarryOfSizeK(arr,k):\n",
    "    n=len(arr)\n",
    "    res=[]\n",
    "    maximumSum=float(\"-inf\")\n",
    "    for i in range(n-k+1):\n",
    "        currentSum=sum(arr[i:i+k])\n",
    "        if currentSum>maximumSum:\n",
    "            maximumSum=currentSum\n",
    "            res=arr[i:i+k]\n",
    "\n",
    "        elif currentSum==maximumSum:\n",
    "            res.append(arr[i:i+k])\n",
    "    return res\n",
    "\n",
    "\n",
    "\n",
    "\n",
    "arr = [2, 1, 5, 1, 3, 2,9,4,10]\n",
    "k = 3\n",
    "maximumSumSubarryOfSizeK(arr,k)\n",
    "# Output: 9 (Subarray: [9,4,10])  \n"
   ]
  },
  {
   "cell_type": "code",
   "execution_count": 158,
   "metadata": {},
   "outputs": [
    {
     "data": {
      "text/plain": [
       "(True, (9, 1))"
      ]
     },
     "execution_count": 158,
     "metadata": {},
     "output_type": "execute_result"
    }
   ],
   "source": [
    "def findPairWithGivenSum(arr,target):\n",
    "    num_set=set(arr)\n",
    "    res=[]\n",
    "    for num in arr:\n",
    "        complement=target-num\n",
    "        if complement in num_set:\n",
    "            return True,(complement,num)\n",
    "    \n",
    "    # n=len(arr)\n",
    "    # arr.sort()\n",
    "    # res=[]\n",
    "    # left,right=0,n-1\n",
    "    # while left<right:\n",
    "    #     currentSum=arr[left]+arr[right]\n",
    "    #     if currentSum==target:\n",
    "    #         res.append((arr[left],arr[right]))\n",
    "    #         left+=1\n",
    "    #         right-=1\n",
    "    #     elif currentSum<target:\n",
    "    #         left+=1\n",
    "    #     else:\n",
    "    #         right-=1\n",
    "    # return res\n",
    "\n",
    "\n",
    "\n",
    "arr = [1, 3, 5, 7, 9]\n",
    "target = 10  \n",
    "findPairWithGivenSum(arr,target)\n",
    "# Output: True (Pair: (1, 9))  \n"
   ]
  },
  {
   "cell_type": "code",
   "execution_count": 159,
   "metadata": {},
   "outputs": [
    {
     "data": {
      "text/plain": [
       "[(1, 3), (3, 5), (2, 4)]"
      ]
     },
     "execution_count": 159,
     "metadata": {},
     "output_type": "execute_result"
    }
   ],
   "source": [
    "def findPairWithGivenDifference(arr,k):\n",
    "    pairs=[]\n",
    "    num_set=set(arr)\n",
    "    for num in arr:\n",
    "        if num+k in num_set:\n",
    "            pairs.append((num,num+k))\n",
    "    return pairs\n",
    "\n",
    "arr = [1, 5, 3, 4, 2]\n",
    "k = 2  \n",
    "findPairWithGivenDifference(arr,k)\n",
    "# Output: [(1, 3), (3, 5), (2, 4)]  \n"
   ]
  },
  {
   "cell_type": "code",
   "execution_count": 160,
   "metadata": {},
   "outputs": [
    {
     "name": "stdout",
     "output_type": "stream",
     "text": [
      "[-1, -1, -7, -15, -15, 0]\n"
     ]
    }
   ],
   "source": [
    "from collections import deque\n",
    "\n",
    "def firstNegativeInWindow(arr, k):\n",
    "    dq = deque()  # Store indices of negative numbers\n",
    "    res = []\n",
    "    for i in range(k):\n",
    "        if arr[i] < 0:\n",
    "            dq.append(i)\n",
    "    for i in range(k, len(arr)):\n",
    "        #append first negative number if has else 0\n",
    "        res.append(arr[dq[0]] if dq else 0)\n",
    "        # Remove elements out of the current window\n",
    "        if dq and dq[0] <= i - k:\n",
    "            dq.popleft()\n",
    "        if arr[i] < 0:\n",
    "            dq.append(i)\n",
    "    res.append(arr[dq[0]] if dq else 0)\n",
    "    \n",
    "    return res\n",
    "arr = [12, -1, -7, 8, -15, 30, 16, 28]\n",
    "k = 3\n",
    "print(firstNegativeInWindow(arr, k))\n"
   ]
  },
  {
   "cell_type": "code",
   "execution_count": 161,
   "metadata": {},
   "outputs": [
    {
     "name": "stdout",
     "output_type": "stream",
     "text": [
      "[[1, 1, 1, 2], [5], [3, 2], [2, 3], [4, 1]]\n"
     ]
    }
   ],
   "source": [
    "from collections import defaultdict\n",
    "\n",
    "def numberOfSubarraysWithSumEqualToK(arr, k):\n",
    "    n = len(arr)\n",
    "    res = []\n",
    "    prefixSum = 0\n",
    "    sumMap = defaultdict(list)  \n",
    "    sumMap[0].append(-1)\n",
    "\n",
    "    for i in range(n):\n",
    "        prefixSum += arr[i]\n",
    "        \n",
    "        if (prefixSum - k) in sumMap:\n",
    "            for start in sumMap[prefixSum - k]:  # There can be multiple valid subarrays\n",
    "                res.append(arr[start + 1:i + 1])\n",
    "        sumMap[prefixSum].append(i)\n",
    "\n",
    "    return res\n",
    "\n",
    "arr = [1, 1, 1, 2, 4, 7, 3, 6, 5, 3, 2, 3, 4, 1]\n",
    "k = 5\n",
    "print(numberOfSubarraysWithSumEqualToK(arr, k))\n"
   ]
  },
  {
   "cell_type": "code",
   "execution_count": 162,
   "metadata": {},
   "outputs": [
    {
     "name": "stdout",
     "output_type": "stream",
     "text": [
      "4\n",
      "[2, 5, 7, 101]\n"
     ]
    }
   ],
   "source": [
    "def longestIncreasingSubsequence(arr):\n",
    "    n = len(arr)\n",
    "    if n == 0:\n",
    "        return []\n",
    "    \n",
    "    dp = [1] * n \n",
    "    prev = [-1] * n  # Stores the index of previous element in LIS\n",
    "\n",
    "    max_length = 1\n",
    "    max_index = 0  # To track the ending index of LIS\n",
    "    for i in range(1, n):\n",
    "        for j in range(i):\n",
    "            if arr[i] > arr[j] and dp[i] < dp[j] + 1:\n",
    "                dp[i] = dp[j] + 1\n",
    "                prev[i] = j  # Track the previous index\n",
    "\n",
    "        # Update the max_length and max_index\n",
    "        if dp[i] > max_length:\n",
    "            max_length = dp[i]\n",
    "            max_index = i\n",
    "\n",
    "  \n",
    "    lis = []\n",
    "    print(max_length)\n",
    "    while max_index != -1:\n",
    "        lis.append(arr[max_index])\n",
    "        max_index = prev[max_index]\n",
    "\n",
    "    return lis[::-1]  \n",
    "\n",
    "\n",
    "arr = [10, 9, 2, 5, 3, 7, 101, 18]\n",
    "print(longestIncreasingSubsequence(arr))  # Output: [2, 3, 7, 101]\n"
   ]
  },
  {
   "cell_type": "code",
   "execution_count": 163,
   "metadata": {},
   "outputs": [
    {
     "name": "stdout",
     "output_type": "stream",
     "text": [
      "[[10], [1, 4, 5]]\n"
     ]
    }
   ],
   "source": [
    "def subArrayWithGivenSum(arr, k):\n",
    "    n = len(arr)\n",
    "    res = []\n",
    "\n",
    "    def backtrack(i, currentSum, current):\n",
    "        if currentSum == k:\n",
    "            res.append(current[:])\n",
    "            return\n",
    "        if i >= n or currentSum > k:\n",
    "            return\n",
    "        backtrack(i + 1, currentSum, current)\n",
    "        backtrack(i + 1, currentSum + arr[i], current + [arr[i]])\n",
    "    backtrack(0, 0, [])\n",
    "    return res\n",
    "\n",
    "\n",
    "\n",
    "arr = [1, 4, 20, 3, 10, 5]\n",
    "k = 10\n",
    "print(subArrayWithGivenSum(arr, k))\n",
    "\n"
   ]
  },
  {
   "cell_type": "code",
   "execution_count": 164,
   "metadata": {},
   "outputs": [
    {
     "name": "stdout",
     "output_type": "stream",
     "text": [
      "4\n"
     ]
    }
   ],
   "source": [
    "def max_positive_product_subarray(nums):\n",
    "    max_length = 0\n",
    "    pos_len = 0 \n",
    "    neg_len = 0 \n",
    "\n",
    "    for num in nums:\n",
    "        if num > 0:\n",
    "            pos_len += 1\n",
    "            neg_len = neg_len + 1 if neg_len > 0 else 0  # Extend if a negative exists\n",
    "        elif num < 0:\n",
    "            new_pos_len = neg_len + 1 if neg_len > 0 else 0  # Flip negative to positive\n",
    "            neg_len = pos_len + 1  # Flip positive to negative\n",
    "            pos_len = new_pos_len\n",
    "        else:\n",
    "            pos_len = neg_len = 0  # Reset on zero\n",
    "\n",
    "        max_length = max(max_length, pos_len)\n",
    "\n",
    "    return max_length\n",
    "\n",
    "\n",
    "nums = [1, -2, -3, 4]\n",
    "print(max_positive_product_subarray(nums)) \n"
   ]
  },
  {
   "cell_type": "code",
   "execution_count": 165,
   "metadata": {},
   "outputs": [
    {
     "name": "stdout",
     "output_type": "stream",
     "text": [
      "BANC\n"
     ]
    }
   ],
   "source": [
    "def minimumWindowSubstring(s, t):\n",
    "    n = len(s)\n",
    "    m = len(t)\n",
    "    if n < m:\n",
    "        return \"\"\n",
    "    char_map = {}\n",
    "    for char in t:\n",
    "        char_map[char] = char_map.get(char, 0) + 1\n",
    "    required = len(char_map)\n",
    "    formed = 0\n",
    "    window_start = 0\n",
    "    window_end = 0\n",
    "    min_length = float('inf')\n",
    "    min_window = \"\"\n",
    "    window_counts = {}\n",
    "    while window_end<n:\n",
    "        char=s[window_end]\n",
    "        window_counts[char]=window_counts.get(char, 0)+1\n",
    "        if char in char_map and window_counts[char]==char_map[char]:\n",
    "            formed+=1\n",
    "        while window_start<=window_end+1 and formed==required:\n",
    "            char=s[window_start]\n",
    "            if window_end-window_start+1<min_length:\n",
    "                min_length=window_end-window_start+1\n",
    "                min_window=s[window_start:window_end+1]\n",
    "            window_counts[char]-=1\n",
    "            if char in char_map and window_counts[char]<char_map[char]:\n",
    "                formed-=1\n",
    "            window_start+=1\n",
    "        window_end+=1\n",
    "    return min_window\n",
    "\n",
    "s = \"ADOBECODEBANC\"\n",
    "t = \"ABC\"\n",
    "result = minimumWindowSubstring(s, t)\n",
    "print(result)  # Output: \"BANC\"\n"
   ]
  },
  {
   "cell_type": "code",
   "execution_count": 166,
   "metadata": {},
   "outputs": [
    {
     "name": "stdout",
     "output_type": "stream",
     "text": [
      "!dlroW olleH\n"
     ]
    }
   ],
   "source": [
    "def reverseStrig(s):\n",
    "    left=0\n",
    "    n=len(s)\n",
    "    right=n-1\n",
    "    while left<right:\n",
    "        s[left],s[right]=s[right],s[left]\n",
    "        left+=1\n",
    "        right-=1\n",
    "    return \"\".join(s)\n",
    "s = \"Hello World!\"\n",
    "print(reverseStrig(list(s)))"
   ]
  },
  {
   "cell_type": "code",
   "execution_count": 167,
   "metadata": {},
   "outputs": [
    {
     "name": "stdout",
     "output_type": "stream",
     "text": [
      "(1, 30)\n"
     ]
    }
   ],
   "source": [
    "def closestPairInTwoSortedList(arr1, arr2, target):\n",
    "    n1, n2 = len(arr1), len(arr2)\n",
    "    i, j = 0, n2 - 1\n",
    "    minimum_diff = float(\"inf\")\n",
    "    res = ()\n",
    "\n",
    "    while i < n1 and j >= 0:\n",
    "        sum_val = arr1[i] + arr2[j]\n",
    "        diff = abs(sum_val - target)\n",
    "\n",
    "        if diff < minimum_diff:\n",
    "            minimum_diff = diff\n",
    "            res = (arr1[i], arr2[j])\n",
    "\n",
    "        if sum_val < target:\n",
    "            i += 1  # Increase sum by moving `i` right\n",
    "        else:\n",
    "            j -= 1  # Decrease sum by moving `j` left\n",
    "\n",
    "    return res\n",
    "\n",
    "\n",
    "arr1 = [1, 4, 5, 7]\n",
    "arr2 = [10, 20, 30, 40]\n",
    "target = 32  \n",
    "print(closestPairInTwoSortedList(arr1, arr2, target))  # Output: (1, 30)\n"
   ]
  },
  {
   "cell_type": "code",
   "execution_count": 168,
   "metadata": {},
   "outputs": [
    {
     "data": {
      "text/plain": [
       "[0, 6]"
      ]
     },
     "execution_count": 168,
     "metadata": {},
     "output_type": "execute_result"
    }
   ],
   "source": [
    "def findAnagrams(s,p):\n",
    "    n1=len(s)\n",
    "    n2=len(p)\n",
    "    res=[]\n",
    "    for i in range(n1-n2+1):\n",
    "        temp=s[i:i+n2]\n",
    "        if sorted(temp)==sorted(p):\n",
    "            res.append(i)\n",
    "    return res\n",
    "\n",
    "\n",
    "s = \"cbaebabacd\"\n",
    "p = \"abc\"  \n",
    "# Output: [0, 6]  \n",
    "findAnagrams(s,p)\n",
    "\n"
   ]
  },
  {
   "cell_type": "code",
   "execution_count": 169,
   "metadata": {},
   "outputs": [
    {
     "name": "stdout",
     "output_type": "stream",
     "text": [
      "[0, 6]\n"
     ]
    }
   ],
   "source": [
    "from collections import Counter\n",
    "\n",
    "def findAnagrams(s, p):\n",
    "    n1, n2 = len(s), len(p)\n",
    "    res = []\n",
    "    \n",
    "    if n2 > n1: \n",
    "        return []\n",
    "    p_count = Counter(p)\n",
    "    s_count=Counter(s[:n2])\n",
    "    if p_count==s_count:\n",
    "        res.append(0)\n",
    "\n",
    "    for i in range(n2,n1):\n",
    "        s_count[s[i]]+=1\n",
    "        s_count[s[i-n2]]-=1\n",
    "        if s_count[s[i-n2]]==0:\n",
    "            del s_count[s[i-n2]]\n",
    "        if p_count==s_count:\n",
    "            res.append(i-n2+1)\n",
    "    return res\n",
    "\n",
    "\n",
    "s = \"cbaebabacd\"\n",
    "p = \"abc\"\n",
    "print(findAnagrams(s, p))  # Output: [0, 6]\n"
   ]
  },
  {
   "cell_type": "code",
   "execution_count": 170,
   "metadata": {},
   "outputs": [
    {
     "name": "stdout",
     "output_type": "stream",
     "text": [
      "[2, 2, 7]\n"
     ]
    }
   ],
   "source": [
    "def removeAllOccurrence(arr,target):\n",
    "    n=len(arr)\n",
    "    left=0\n",
    "    right=0\n",
    "    while right<n:\n",
    "        if arr[right]!=target:\n",
    "            arr[left]=arr[right]\n",
    "            left+=1\n",
    "        right+=1\n",
    "    return arr[:left]\n",
    "\n",
    "arr = [3, 2, 2, 3,7]\n",
    "val = 3\n",
    "print(removeAllOccurrence(arr, val))  # Output: 2"
   ]
  },
  {
   "cell_type": "code",
   "execution_count": null,
   "metadata": {},
   "outputs": [
    {
     "name": "stdout",
     "output_type": "stream",
     "text": [
      "6\n"
     ]
    }
   ],
   "source": [
    "from collections import defaultdict\n",
    "\n",
    "def maximumSubarraySumWithKDistinctElements(arr, k):\n",
    "    left = 0\n",
    "    max_sum = float('-inf')\n",
    "    current_sum = 0\n",
    "    freq = defaultdict(int)\n",
    "    distinct_count = 0\n",
    "    for right in range(len(arr)):\n",
    "        freq[arr[right]]+=1\n",
    "        current_sum+=arr[right]\n",
    "        if freq[arr[right]]==1:\n",
    "            distinct_count+=1\n",
    "        while distinct_count>k:\n",
    "            freq[arr[left]]-=1\n",
    "            current_sum-=arr[left]\n",
    "            if freq[arr[left]]==0:\n",
    "                distinct_count-=1\n",
    "            left+=1\n",
    "        if distinct_count==k:\n",
    "            max_sum = max(max_sum, current_sum)\n",
    "    return max_sum\n",
    "arr = [1, 2, 1, 2, 3]\n",
    "k = 2  \n",
    "print(maximumSubarraySumWithKDistinctElements(arr, k))  # Output: 5 (Subarray: [2, 1, 2])\n"
   ]
  },
  {
   "cell_type": "code",
   "execution_count": null,
   "metadata": {},
   "outputs": [
    {
     "data": {
      "text/plain": [
       "[[2, 3, 4], [4, 5]]"
      ]
     },
     "execution_count": 186,
     "metadata": {},
     "output_type": "execute_result"
    }
   ],
   "source": [
    "def subarrayWithSumEqualToK(arr,target):\n",
    "    n=len(arr)\n",
    "    res=[]\n",
    "    currentSum=0\n",
    "    left=0\n",
    "    for right in range(n):\n",
    "        currentSum+=arr[right]\n",
    "        while currentSum>target and left<right:\n",
    "            currentSum-=arr[left]\n",
    "            left+=1\n",
    "        if currentSum==target:\n",
    "            res.append(arr[left:right+1])\n",
    "    return res\n",
    "arr = [1, 2, 3, 4, 5]\n",
    "target = 9  \n",
    "subarrayWithSumEqualToK(arr,target)"
   ]
  },
  {
   "cell_type": "code",
   "execution_count": 199,
   "metadata": {},
   "outputs": [
    {
     "name": "stdout",
     "output_type": "stream",
     "text": [
      "[4, 5, 3, 2, 1, 2]\n"
     ]
    }
   ],
   "source": [
    "def partitionListBasedOnValue(arr, value):\n",
    "    n = len(arr)\n",
    "    left = 0  \n",
    "    right = 0 \n",
    "    \n",
    "    while right < n:\n",
    "        if arr[right]>value:\n",
    "            arr[left], arr[right] = arr[right], arr[left]\n",
    "            left += 1\n",
    "        right += 1\n",
    "    \n",
    "    return arr\n",
    "\n",
    "\n",
    "head = [1, 4, 3, 2, 5, 2]\n",
    "x = 3\n",
    "print(partitionListBasedOnValue(head, x))  # Output: [1, 2, 2, 3, 5, 4]\n"
   ]
  },
  {
   "cell_type": "code",
   "execution_count": null,
   "metadata": {},
   "outputs": [
    {
     "name": "stdout",
     "output_type": "stream",
     "text": [
      "[3, 2, 1]\n"
     ]
    }
   ],
   "source": [
    "def longestCommonSubarray(arr1, arr2):\n",
    "    n1 = len(arr1)\n",
    "    n2 = len(arr2)\n",
    "    dp = [[0] * (n2 + 1) for _ in range(n1 + 1)]\n",
    "    \n",
    "    max_length = 0\n",
    "    end_index = -1\n",
    "    for i in range(1, n1 + 1):\n",
    "        for j in range(1, n2 + 1):\n",
    "            if arr1[i - 1] == arr2[j - 1]:\n",
    "                dp[i][j] = dp[i - 1][j - 1] + 1\n",
    "                if dp[i][j] > max_length:\n",
    "                    max_length = dp[i][j]\n",
    "                    end_index = i\n",
    "    \n",
    "\n",
    "    return arr1[end_index - max_length:end_index]\n",
    "\n",
    "\n",
    "arr1 = [1, 2, 3, 2, 1]\n",
    "arr2 = [3, 2, 1, 4, 7]\n",
    "print(longestCommonSubarray(arr1, arr2))  # Output: [3, 2, 1]\n"
   ]
  }
 ],
 "metadata": {
  "kernelspec": {
   "display_name": "myenv",
   "language": "python",
   "name": "python3"
  },
  "language_info": {
   "codemirror_mode": {
    "name": "ipython",
    "version": 3
   },
   "file_extension": ".py",
   "mimetype": "text/x-python",
   "name": "python",
   "nbconvert_exporter": "python",
   "pygments_lexer": "ipython3",
   "version": "3.12.3"
  }
 },
 "nbformat": 4,
 "nbformat_minor": 2
}
