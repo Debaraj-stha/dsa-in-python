{
 "cells": [
  {
   "cell_type": "code",
   "execution_count": 1,
   "metadata": {},
   "outputs": [
    {
     "name": "stdout",
     "output_type": "stream",
     "text": [
      "[1, 5, 2, -1, -3, 5, 10]\n",
      "[1, 6, 8, 7, 4, 9, 19]\n"
     ]
    }
   ],
   "source": [
    "arr=[1,5,2,-1,-3,5,10]\n",
    "n=len(arr)\n",
    "prefix_sum=[]\n",
    "for i in range(n):\n",
    "    if i==0:\n",
    "        prefix_sum.append(arr[i])\n",
    "    else:\n",
    "        prefix_sum.append(prefix_sum[i-1]+arr[i])\n",
    "print(arr)\n",
    "print(prefix_sum)"
   ]
  }
 ],
 "metadata": {
  "kernelspec": {
   "display_name": "myenv",
   "language": "python",
   "name": "python3"
  },
  "language_info": {
   "codemirror_mode": {
    "name": "ipython",
    "version": 3
   },
   "file_extension": ".py",
   "mimetype": "text/x-python",
   "name": "python",
   "nbconvert_exporter": "python",
   "pygments_lexer": "ipython3",
   "version": "3.12.3"
  }
 },
 "nbformat": 4,
 "nbformat_minor": 2
}
