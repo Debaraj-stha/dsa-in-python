{
 "cells": [
  {
   "cell_type": "code",
   "execution_count": 87,
   "metadata": {},
   "outputs": [
    {
     "name": "stdout",
     "output_type": "stream",
     "text": [
      "[1, 5, 2, -1, -3, 5, 10]\n",
      "[1, 6, 8, 7, 4, 9, 19]\n"
     ]
    }
   ],
   "source": [
    "arr=[1,5,2,-1,-3,5,10]\n",
    "n=len(arr)\n",
    "prefix_sum=[0]*n\n",
    "prefix_sum[0]=arr[0]\n",
    "for i in range(1,n):\n",
    "    prefix_sum[i]=prefix_sum[i-1]+arr[i]\n",
    "print(arr)\n",
    "print(prefix_sum)"
   ]
  },
  {
   "cell_type": "code",
   "execution_count": 88,
   "metadata": {},
   "outputs": [
    {
     "name": "stdout",
     "output_type": "stream",
     "text": [
      "[1, 3, 6, 10, 15]\n",
      "9\n"
     ]
    }
   ],
   "source": [
    "def range_sum_query(arr,low,high):\n",
    "    if not arr:\n",
    "        return\n",
    "    if low>high:\n",
    "        low,high = high,low\n",
    "    n=len(arr)\n",
    "    prefix_sum=[0]*n\n",
    "    prefix_sum[0]=arr[0]\n",
    "    for i in range(1,n):\n",
    "        prefix_sum[i]=prefix_sum[i-1]+arr[i]\n",
    "    print(prefix_sum)\n",
    "    return prefix_sum[high]-prefix_sum[low-1]\n",
    "arr=[1,2,3,4,5]\n",
    "print(range_sum_query(arr,1,3))"
   ]
  },
  {
   "cell_type": "code",
   "execution_count": 89,
   "metadata": {},
   "outputs": [
    {
     "name": "stdout",
     "output_type": "stream",
     "text": [
      "(4, {0: 1, 1: 1, 3: 1, 6: 1, 10: 1, 15: 1, 20: 1, 25: 1})\n"
     ]
    }
   ],
   "source": [
    "\n",
    "\n",
    "def subarray_sum_equals_k(arr, k):\n",
    "    prefix_sum = 0\n",
    "    count = 0\n",
    "    prefix_count = {0:1}\n",
    "\n",
    "    \n",
    "    for num in arr:\n",
    "        prefix_sum += num\n",
    "        if prefix_sum - k in prefix_count:\n",
    "    \n",
    "            count += prefix_count[prefix_sum - k]\n",
    "        prefix_count[prefix_sum] = prefix_count.get(prefix_sum,0)+1\n",
    "    \n",
    "    return count,prefix_count\n",
    "\n",
    "arr = [1, 2, 3, 4, 5,5,5]\n",
    "k = 5\n",
    "print(subarray_sum_equals_k(arr, k))  # Output: 4,[[5],[5],[5],[2,3]]\n",
    "# (4, {0: 1, 1: 1, 3: 1, 6: 1, 10: 1, 15: 1, 20: 1, 25: 1})"
   ]
  },
  {
   "cell_type": "code",
   "execution_count": 90,
   "metadata": {},
   "outputs": [
    {
     "name": "stdout",
     "output_type": "stream",
     "text": [
      "9\n"
     ]
    }
   ],
   "source": [
    "def maximum_sum_subarray_size_k(arr,k):\n",
    "    current_sum=sum(arr[:k])\n",
    "    max_sum=float(\"-inf\")\n",
    "    max_sum=max(max_sum,current_sum)\n",
    "    for i in range(len(arr)-k+1):\n",
    "        portion_sum=sum(arr[i:i+k])\n",
    "        max_sum=max(max_sum,portion_sum)\n",
    "    return max_sum\n",
    "\n",
    "\n",
    "arr = [2, 1, 5, 1, 3, 2]\n",
    "k = 3\n",
    "print(maximum_sum_subarray_size_k(arr,k)) "
   ]
  },
  {
   "cell_type": "code",
   "execution_count": 91,
   "metadata": {},
   "outputs": [
    {
     "name": "stdout",
     "output_type": "stream",
     "text": [
      "3\n"
     ]
    }
   ],
   "source": [
    "def find_pivot_where_sum_on_left_equal_sum_on_right(arr):\n",
    "    if not arr:\n",
    "        return\n",
    "    total=sum(arr)\n",
    "    left_sum=0\n",
    "    for i,num in enumerate(arr):\n",
    "        if left_sum ==total-left_sum-num:\n",
    "            return i\n",
    "        left_sum+=num\n",
    "    return -1\n",
    "\n",
    "\n",
    "\n",
    "nums = [1, 7, 3, 6, 5, 6]\n",
    "print(find_pivot_where_sum_on_left_equal_sum_on_right(nums))\n",
    " # Output: 3 (sum of [1, 7, 3] equals sum of [5, 6])"
   ]
  },
  {
   "cell_type": "code",
   "execution_count": 92,
   "metadata": {},
   "outputs": [
    {
     "name": "stdout",
     "output_type": "stream",
     "text": [
      "120\n"
     ]
    }
   ],
   "source": [
    "def maximum_product_subarray(arr):\n",
    "    n=len(arr)\n",
    "    if not arr:\n",
    "        return\n",
    "    result=arr[0]\n",
    "    max_product=arr[0]\n",
    "    min_product=arr[0]\n",
    "    for i in range(1,n):\n",
    "        temp=max_product\n",
    "        max_product=max(arr[i],max_product*arr[i],arr[i]*min_product)\n",
    "        min_product=min(arr[i],min_product*arr[i],arr[i]*temp)\n",
    "        result=max(result,max_product)\n",
    "    return result\n",
    "arr=[-1, -2, -3, -4, -5]\n",
    "print(maximum_product_subarray(arr))"
   ]
  },
  {
   "cell_type": "code",
   "execution_count": 93,
   "metadata": {},
   "outputs": [
    {
     "name": "stdout",
     "output_type": "stream",
     "text": [
      "[(1, 3), (3, 4)]\n"
     ]
    }
   ],
   "source": [
    "def subarray_with_sum(arr, s):\n",
    "    prefix_sum = 0\n",
    "    indices_map = {0: -1}  \n",
    "    result = []\n",
    "    \n",
    "    for i, num in enumerate(arr):  \n",
    "        prefix_sum += num\n",
    "        if prefix_sum - s in indices_map:\n",
    "            start = indices_map[prefix_sum - s]\n",
    "            result.append((start + 1, i))  \n",
    "\n",
    "        indices_map[prefix_sum] = i  \n",
    "        # prefix_set.add(prefix_sum)\n",
    "\n",
    "    return result if result else False  \n",
    "\n",
    "\n",
    "arr = [1, 2, 3, 7, 5]\n",
    "target = 12\n",
    "print(subarray_with_sum(arr, target))  # Output: [(1, 3)]\n"
   ]
  },
  {
   "cell_type": "code",
   "execution_count": 94,
   "metadata": {},
   "outputs": [
    {
     "name": "stdout",
     "output_type": "stream",
     "text": [
      "(4, {0: 2, 5: 3, 1: 1})\n"
     ]
    }
   ],
   "source": [
    "def subarrays_divisible_by_k(arr, k):\n",
    "    prefix_sum = 0\n",
    "    count = 0\n",
    "    remainder_count = {0: 1}  # For sum % k == 0\n",
    "    \n",
    "    for num in arr:\n",
    "        prefix_sum+=num\n",
    "        remainder=prefix_sum%k\n",
    "        if remainder<0:\n",
    "            remainder+=k\n",
    "        if remainder in remainder_count:\n",
    "           count+=remainder_count[remainder]\n",
    "        \n",
    "        remainder_count[remainder]=remainder_count.get(remainder, 0)+1\n",
    "    \n",
    "    return count,remainder_count\n",
    "\n",
    "arr = [23, 2, 4, 6, 7]\n",
    "k = 6\n",
    "print(subarrays_divisible_by_k(arr, k))  # Output: 4\n"
   ]
  },
  {
   "cell_type": "code",
   "execution_count": 95,
   "metadata": {},
   "outputs": [
    {
     "name": "stdout",
     "output_type": "stream",
     "text": [
      "[(1, 1), (0, 2), (3, 4), (5, 7)]\n"
     ]
    }
   ],
   "source": [
    "def subarray_with_sum_equal_to_k(arr,k):\n",
    "    if not arr:\n",
    "        return\n",
    "    res=[]\n",
    "    n=len(arr)\n",
    "    prefix_sum=0\n",
    "    sum_map={0:-1}\n",
    "    for i in range(n):\n",
    "        prefix_sum+=arr[i]\n",
    "        if prefix_sum-k in sum_map:\n",
    "            res.append((sum_map[prefix_sum-k]+1,i))\n",
    "        if prefix_sum not in sum_map:\n",
    "            sum_map[prefix_sum]=i\n",
    "    return res\n",
    "arr=[1,2,-1,-3,5,7,4,-9]\n",
    "k=2\n",
    "print(subarray_with_sum_equal_to_k(arr,k))  "
   ]
  },
  {
   "cell_type": "markdown",
   "metadata": {},
   "source": [
    "prefix sum with update"
   ]
  },
  {
   "cell_type": "code",
   "execution_count": 96,
   "metadata": {},
   "outputs": [
    {
     "name": "stdout",
     "output_type": "stream",
     "text": [
      "[0, 1, 3, 3, 10, 5]\n",
      "9\n",
      "12\n"
     ]
    }
   ],
   "source": [
    "class FenwickTree:\n",
    "    def __init__(self, n):\n",
    "        self.n = n\n",
    "        self.tree = [0] * (n + 1)\n",
    "\n",
    "    def update(self, idx, val):\n",
    "        while idx <= self.n:\n",
    "            self.tree[idx] += val\n",
    "            idx += idx & -idx\n",
    "            \n",
    "    def query(self, idx):\n",
    "        result = 0\n",
    "        while idx > 0:\n",
    "            result += self.tree[idx]\n",
    "            idx -= idx & -idx\n",
    "        return result\n",
    "\n",
    "    def range_query(self, left, right):\n",
    "        return self.query(right) - self.query(left - 1)\n",
    "arr = [1, 2, 3, 4, 5]\n",
    "ft = FenwickTree(len(arr))\n",
    "for i in range(1, len(arr) + 1):\n",
    "    ft.update(i, arr[i-1])\n",
    "print(ft.tree)\n",
    "\n",
    "print(ft.range_query(2, 4))  \n",
    "ft.update(3, 6 - arr[2])  \n",
    "\n",
    "\n",
    "\n",
    "print(ft.range_query(2, 4))  # Output: 12 (2 + 6 + 4)\n"
   ]
  },
  {
   "cell_type": "code",
   "execution_count": 97,
   "metadata": {},
   "outputs": [
    {
     "name": "stdout",
     "output_type": "stream",
     "text": [
      "[(0, 1), (0, 4), (0, 5)]\n"
     ]
    }
   ],
   "source": [
    "def sub_array_with_even_sum(arr):\n",
    "    if not arr:\n",
    "        return []\n",
    "    \n",
    "    n = len(arr)\n",
    "    res = []\n",
    "    prefix_sum = 0\n",
    "    indices_map = {0: -1}  \n",
    "    for i in range(n):\n",
    "        prefix_sum += arr[i]\n",
    "        if prefix_sum%2==0:\n",
    "            res.append((0, i))\n",
    "        indices_map[prefix_sum] = i\n",
    "    \n",
    "    return res\n",
    "arr = [3, 3, 3, 4, 5, 6, 7,8,8,8]\n",
    "print(sub_array_with_even_sum(arr)) "
   ]
  },
  {
   "cell_type": "code",
   "execution_count": 98,
   "metadata": {},
   "outputs": [
    {
     "name": "stdout",
     "output_type": "stream",
     "text": [
      "([(2, 4)], 9)\n"
     ]
    }
   ],
   "source": [
    "def maximum_sum_subarray_size_k(arr, k):\n",
    "    if not arr or k <= 0 or k > len(arr):\n",
    "        return [], 0 \n",
    "    \n",
    "    n = len(arr)\n",
    "    current_sum = sum(arr[:k]) \n",
    "    max_sum = current_sum\n",
    "    res = [(0, k - 1)]  # Initialize the result with the first subarray\n",
    "    \n",
    "    for i in range(1, n - k + 1):\n",
    "        current_sum = current_sum - arr[i - 1] + arr[i + k - 1]  # Slide the window\n",
    "        \n",
    "        if current_sum > max_sum:\n",
    "            max_sum = current_sum\n",
    "            res = [(i, i + k - 1)] \n",
    "        elif current_sum == max_sum:\n",
    "            res.append((i, i + k - 1))  # Append the current subarray to result\n",
    "       \n",
    "\n",
    "    return res, max_sum\n",
    "\n",
    "arr = [2, 1, 5, 1, 3, 2]\n",
    "k = 3\n",
    "print(maximum_sum_subarray_size_k(arr, k)) \n"
   ]
  },
  {
   "cell_type": "code",
   "execution_count": 99,
   "metadata": {},
   "outputs": [
    {
     "name": "stdout",
     "output_type": "stream",
     "text": [
      "[(0, 0), (0, 2), (0, 3), (0, 6), (0, 7), (0, 8), (0, 9)]\n"
     ]
    }
   ],
   "source": [
    "def sub_array_with_od_sum(arr):\n",
    "    n=len(arr)\n",
    "    if not arr:\n",
    "        return []\n",
    "    prefix_sum=0\n",
    "    res=[]\n",
    "    indices_map={0:-1}\n",
    "    for i in range(n):\n",
    "        prefix_sum+=arr[i]\n",
    "        if prefix_sum %2==1:\n",
    "            res.append((0,i))\n",
    "        indices_map[prefix_sum]=i\n",
    "    return res\n",
    "arr=[3, 3, 3, 4, 5, 6, 7,8,8,8]\n",
    "print(sub_array_with_od_sum(arr))"
   ]
  },
  {
   "cell_type": "code",
   "execution_count": 100,
   "metadata": {},
   "outputs": [
    {
     "name": "stdout",
     "output_type": "stream",
     "text": [
      "120\n"
     ]
    }
   ],
   "source": [
    "def subarray_with_maximum_product(arr):\n",
    "    if not arr:\n",
    "        return []\n",
    "    n=len(arr)\n",
    "    res=0\n",
    "    max_product=arr[0]\n",
    "    min_product=arr[0]\n",
    "    for i in range(1,n):\n",
    "        temp=max_product\n",
    "        max_product=max(arr[i],max_product*arr[i],min_product*arr[i])\n",
    "        min_product=min(arr[i],min_product*arr[i],temp*arr[i])\n",
    "        res=max(res,max_product)\n",
    "    return res\n",
    "arr=[-1, -2, -3, -4, -5]\n",
    "print(subarray_with_maximum_product(arr))\n",
    "    "
   ]
  },
  {
   "cell_type": "code",
   "execution_count": 101,
   "metadata": {},
   "outputs": [
    {
     "name": "stdout",
     "output_type": "stream",
     "text": [
      "7\n"
     ]
    }
   ],
   "source": [
    "def count_subarrays_with_even_elements_greater_than_x(arr, X):\n",
    "    # Convert the array to 1 (greater than X) and 0 (less than or equal to X)\n",
    "    transformed_arr = [1 if num > X else 0 for num in arr]\n",
    "\n",
    "    prefix_sum = 0\n",
    "    result = 0\n",
    "    \n",
    "    # Initialize prefix sum count with 0 (even) occurring once\n",
    "    prefix_sum_count = {0: 1}\n",
    "    for num in transformed_arr:\n",
    "        prefix_sum += num\n",
    "        \n",
    "        \n",
    "        # If the current prefix sum is even (even number of greater-than-X elements so far),\n",
    "        # increment the result by the number of times the same parity (even) has occurred before\n",
    "        if prefix_sum % 2 == 0:\n",
    "            result += prefix_sum_count.get(0, 0)\n",
    "        else:\n",
    "            result += prefix_sum_count.get(1, 0)\n",
    "        \n",
    "        # Update the count of the current prefix sum modulo 2 (even or odd)\n",
    "        prefix_sum_count[prefix_sum % 2] = prefix_sum_count.get(prefix_sum % 2, 0) + 1\n",
    "        \n",
    "    \n",
    "    return result\n",
    "arr = [1, 2, 3, 4, 5]\n",
    "X = 2\n",
    "print(count_subarrays_with_even_elements_greater_than_x(arr, X))  # Expected output: 7\n",
    "\n",
    "subarrays=[[1],[1,2],[2],[1,2,3,4],[2,3,4],[3,4],[4,5]]\n"
   ]
  },
  {
   "cell_type": "code",
   "execution_count": 102,
   "metadata": {},
   "outputs": [
    {
     "name": "stdout",
     "output_type": "stream",
     "text": [
      "Max Sum without Adjacent Elements: 30\n",
      "Sum of all elements: 53\n"
     ]
    }
   ],
   "source": [
    "def maximumSumSubarrayWithoutAdjacentElement(arr):\n",
    "    if not arr:\n",
    "        return 0\n",
    "    if len(arr) == 1:\n",
    "        return arr[0]\n",
    "    prev1 = max(arr[0], 0) \n",
    "    prev2 = 0               # No previous element to pick\n",
    "    \n",
    "    for i in range(1, len(arr)):\n",
    "        current = max(prev1, prev2 + arr[i])  # Either pick the current element or skip it\n",
    "        prev2 = prev1  # Move forward in the array\n",
    "        prev1 = current\n",
    "    \n",
    "    return prev1\n",
    "\n",
    "# Test the function\n",
    "arr = [1, 4, 2, 5, 8, 11, 9, 10, 3]\n",
    "print(\"Max Sum without Adjacent Elements:\", maximumSumSubarrayWithoutAdjacentElement(arr))\n",
    "print(\"Sum of all elements:\", sum(arr))\n"
   ]
  },
  {
   "cell_type": "code",
   "execution_count": 103,
   "metadata": {},
   "outputs": [
    {
     "name": "stdout",
     "output_type": "stream",
     "text": [
      "8\n",
      "9\n"
     ]
    }
   ],
   "source": [
    "def prefix_sum_circular_array(arr, l, r):\n",
    "    if not arr:\n",
    "        return 0\n",
    "    n = len(arr)\n",
    "    arr = arr + arr  \n",
    "    prefix_sum = [0] * (2 * n)\n",
    "    prefix_sum[0] = arr[0]\n",
    "    \n",
    "    for i in range(1, 2 * n):\n",
    "        prefix_sum[i] = prefix_sum[i - 1] + arr[i]\n",
    "    \n",
    "    # Normal case: l <= r\n",
    "    if l <= r:\n",
    "        return prefix_sum[r] - (prefix_sum[l - 1] if l > 0 else 0)\n",
    "    \n",
    "    # Wrap-around case: l > r\n",
    "    sum1 = prefix_sum[n - 1] - (prefix_sum[l - 1] if l > 0 else 0)  # sum from l to n-1\n",
    "    sum2 = prefix_sum[r]  # sum from 0 to r\n",
    "    return sum1 + sum2\n",
    "\n",
    "arr = [3, 1, 2, 5]\n",
    "print(prefix_sum_circular_array(arr, 1, 3))  # Expected output: 8\n",
    "print(prefix_sum_circular_array(arr, 3, 1))  # Expected output: 9\n"
   ]
  },
  {
   "cell_type": "code",
   "execution_count": 104,
   "metadata": {},
   "outputs": [
    {
     "name": "stdout",
     "output_type": "stream",
     "text": [
      "4\n"
     ]
    }
   ],
   "source": [
    "from collections import defaultdict\n",
    "def countsubarray_with_sum_equal_to_target(arr1,arr2,target):\n",
    "    if not arr1 or not arr2: return 0\n",
    "    count = 0\n",
    "    prefix_count=defaultdict(int)\n",
    "    prefix_sum=0\n",
    "    for num in arr1:\n",
    "        prefix_sum+=num\n",
    "        if prefix_sum==target:\n",
    "            count+=1\n",
    "        count+=prefix_count[prefix_sum-target]\n",
    "        prefix_count[prefix_sum]+=1\n",
    "    prefix_count.clear()\n",
    "    prefix_sum=0\n",
    "    for num in arr2:\n",
    "        prefix_sum+=num\n",
    "        if prefix_sum==target:\n",
    "            count+=1\n",
    "        count+=prefix_count[prefix_sum-target]\n",
    "        prefix_count[prefix_sum]+=1\n",
    "    return count\n",
    "    \n",
    "arr1 = [1, 3, 5, 7,2,4,3,3]\n",
    "arr2 = [2, 4, 6, 8]\n",
    "target = 6\n",
    "print(countsubarray_with_sum_equal_to_target(arr1, arr2, target))"
   ]
  },
  {
   "cell_type": "code",
   "execution_count": 105,
   "metadata": {},
   "outputs": [
    {
     "data": {
      "text/plain": [
       "12"
      ]
     },
     "execution_count": 105,
     "metadata": {},
     "output_type": "execute_result"
    }
   ],
   "source": [
    "def subarray_sum_less_or_equal_to_k(arr,k):\n",
    "    if not arr:\n",
    "        return\n",
    "    count=0\n",
    "    prefix_sum=0\n",
    "    left=0\n",
    "    right=0\n",
    "    while right<len(arr):\n",
    "        prefix_sum+=arr[right]\n",
    "        while prefix_sum>k:\n",
    "            prefix_sum-=arr[left]\n",
    "            left+=1\n",
    "        count+=right-left+1\n",
    "        right+=1\n",
    "    return count\n",
    "\n",
    "        \n",
    "arr = [1, 2, 3, 4, 5]\n",
    "k = 10\n",
    "subarray_sum_less_or_equal_to_k(arr,k)"
   ]
  },
  {
   "cell_type": "code",
   "execution_count": 106,
   "metadata": {},
   "outputs": [
    {
     "name": "stdout",
     "output_type": "stream",
     "text": [
      "[6, 9, 12, 15]\n"
     ]
    }
   ],
   "source": [
    "def prefix_sum_with_rolling_window(arr, k):\n",
    "    if not arr or k <= 0 or k > len(arr):\n",
    "        return [] \n",
    "    \n",
    "    result = []\n",
    "    window_sum = sum(arr[:k]) \n",
    "    result.append(window_sum)\n",
    "    \n",
    "    for i in range(k, len(arr)):\n",
    "        window_sum += arr[i] - arr[i - k]\n",
    "        result.append(window_sum)\n",
    "    \n",
    "    return result\n",
    "\n",
    "arr = [1, 2, 3, 4, 5, 6]\n",
    "k = 3\n",
    "print(prefix_sum_with_rolling_window(arr, k))  # Expected output: [6, 9, 12, 15]\n"
   ]
  },
  {
   "cell_type": "code",
   "execution_count": 107,
   "metadata": {},
   "outputs": [
    {
     "name": "stdout",
     "output_type": "stream",
     "text": [
      "14\n"
     ]
    }
   ],
   "source": [
    "def maximumSumSubarrayDoesNotContainX(arr,x):\n",
    "    if not arr:\n",
    "        return []\n",
    "    n=len(arr)\n",
    "    max_sum=float(\"-inf\")\n",
    "    current=0\n",
    "    for i in range(n):\n",
    "        if arr[i]==x:\n",
    "            max_sum=max(max_sum,current)\n",
    "            current=0\n",
    "        else:\n",
    "            current+=arr[i]\n",
    "    max_sum=max(max_sum,current)\n",
    "    return max_sum\n",
    "arr=[1, 2, 3, 4,2, 5,9,2,9]\n",
    "x=2\n",
    "print(maximumSumSubarrayDoesNotContainX(arr,x))\n",
    "\n"
   ]
  },
  {
   "cell_type": "code",
   "execution_count": 108,
   "metadata": {},
   "outputs": [
    {
     "name": "stdout",
     "output_type": "stream",
     "text": [
      "(19, 7, [[1, 3, 5, 2], [3, 5, 2, 8], [5, 2, 8], [2, 8, 9], [8, 9], [9, 10], [10, 6]])\n"
     ]
    }
   ],
   "source": [
    "def maximumSumSubarrayGreaterThanK(arr, k):\n",
    "    if not arr:\n",
    "        return 0, 0, []  # Handle empty array\n",
    "    \n",
    "    left = 0\n",
    "    n = len(arr)\n",
    "    count = 0\n",
    "    max_sum = float(\"-inf\")\n",
    "    prefix_sum = 0\n",
    "    res = []\n",
    "    for right in range(n):\n",
    "        prefix_sum += arr[right]\n",
    "        while prefix_sum > k and left <= right:\n",
    "            count += 1  \n",
    "            max_sum = max(max_sum, prefix_sum) \n",
    "            res.append(arr[left:right+1])  \n",
    "            prefix_sum -= arr[left]\n",
    "            left += 1\n",
    "    \n",
    "    return max_sum if max_sum != float(\"-inf\") else 0, count, res\n",
    "\n",
    "# Test Case\n",
    "arr = [1, 3, 5, 2, 8, 9, 10, 6]\n",
    "k = 10\n",
    "print(maximumSumSubarrayGreaterThanK(arr, k))\n"
   ]
  },
  {
   "cell_type": "code",
   "execution_count": 109,
   "metadata": {},
   "outputs": [
    {
     "data": {
      "text/plain": [
       "(6, [2, 2, 2, 2, 2, 7])"
      ]
     },
     "execution_count": 109,
     "metadata": {},
     "output_type": "execute_result"
    }
   ],
   "source": [
    "def longestSubarrayWithSumEqualToK(arr, k):\n",
    "    if not arr:\n",
    "        return 0\n",
    "    n=len(arr)\n",
    "    max_length =0\n",
    "    prefix_sum=0\n",
    "    res=[]\n",
    "    sum_map={0:-1}\n",
    "    start_index=-1\n",
    "    for i in range(n):\n",
    "        prefix_sum+=arr[i]\n",
    "        if prefix_sum-k in sum_map:\n",
    "            length=i-sum_map[prefix_sum-k]\n",
    "            if length>max_length:\n",
    "                max_length=length\n",
    "                start_index=sum_map[prefix_sum-k]+1\n",
    "        if prefix_sum not in sum_map:\n",
    "            sum_map[prefix_sum]=i\n",
    "    if start_index!=-1:\n",
    "        res=arr[start_index:start_index+max_length]\n",
    "\n",
    "    return max_length,res\n",
    "arr=[1, 4, 2, 10,12,5,2,2,2,2,2,7]\n",
    "k=17\n",
    "longestSubarrayWithSumEqualToK(arr,k)"
   ]
  },
  {
   "cell_type": "code",
   "execution_count": 110,
   "metadata": {},
   "outputs": [
    {
     "name": "stdout",
     "output_type": "stream",
     "text": [
      "[[1], [1, 4], [4], [1, 4, 2], [4, 2], [2], [10], [3], [3, 1], [1], [1, 10], [10]]\n"
     ]
    }
   ],
   "source": [
    "def subArrayWithSumLessThanK(arr, k):\n",
    "    if not arr:\n",
    "        return []\n",
    "    \n",
    "    left = 0\n",
    "    right = 0\n",
    "    n = len(arr)\n",
    "    res = []\n",
    "    prefix_sum = 0\n",
    "    \n",
    "    while right < n:\n",
    "        prefix_sum += arr[right]\n",
    "        \n",
    "        # Shrink the window from the left if the sum exceeds or is equal to k\n",
    "        while prefix_sum >= k and left <= right:\n",
    "            prefix_sum -= arr[left]\n",
    "            left += 1\n",
    "        if prefix_sum < k:\n",
    "            for i in range(left, right + 1):\n",
    "                res.append(arr[i:right + 1])\n",
    "        right += 1\n",
    "    \n",
    "    return res\n",
    "\n",
    "# Test case\n",
    "arr = [1, 4, 2, 10, 23, 3, 1, 10, 20]\n",
    "k = 12\n",
    "print(subArrayWithSumLessThanK(arr, k))\n"
   ]
  },
  {
   "cell_type": "code",
   "execution_count": 111,
   "metadata": {},
   "outputs": [
    {
     "data": {
      "text/plain": [
       "0"
      ]
     },
     "execution_count": 111,
     "metadata": {},
     "output_type": "execute_result"
    }
   ],
   "source": [
    "0<<1"
   ]
  },
  {
   "cell_type": "code",
   "execution_count": 112,
   "metadata": {},
   "outputs": [
    {
     "name": "stdout",
     "output_type": "stream",
     "text": [
      "[1, 2, 1]\n"
     ]
    }
   ],
   "source": [
    "\n",
    "import math\n",
    "\n",
    "def build_sparse_table(arr):\n",
    "    n = len(arr)\n",
    "    max_log = math.floor(math.log2(n)) + 1\n",
    "     #max_log represents the maximum power of 2 needed to process any range within the given array. \n",
    "    #In other words, it is the highest exponent j such that 2^j does not exceed the length of the arr\n",
    "    st = [[float(\"inf\")] * max_log for _ in range(n)]\n",
    "    \n",
    "    for i in range(n):\n",
    "        st[i][0] = arr[i]\n",
    "    \n",
    "    j = 1 #it represent exponent in power of j,the highest number covers in a range is 2^j\n",
    "    while (1 << j) <= n:\n",
    "        i = 0\n",
    "        while (i + (1 << j) - 1) < n:\n",
    "            st[i][j] = min(st[i][j-1], st[i + (1 << (j-1))][j-1])\n",
    "            i += 1\n",
    "        j += 1\n",
    "    \n",
    "    return st, max_log\n",
    "\n",
    "def query(st, l, r, max_log):\n",
    "    # Find the highest power of 2 that fits in the range [l, r]\n",
    "    length = r - l + 1\n",
    "    j = int(math.log2(length))\n",
    "    \n",
    "    # The result will be the minimum of the two overlapping intervals\n",
    "    return min(st[l][j], st[r - (1 << j) + 1][j])\n",
    "\n",
    "def range_minimum_query(arr, queries):\n",
    "    # Build sparse table\n",
    "    st, max_log = build_sparse_table(arr)\n",
    "    \n",
    "    # Answer each query\n",
    "    result = []\n",
    "    for l, r in queries:\n",
    "        result.append(query(st, l, r, max_log))\n",
    "    \n",
    "    return result\n",
    "\n",
    "arr = [1, 3, 2, 7, 9, 11, 5, 3, 6]\n",
    "queries = [(0, 3), (2, 5), (0, 8)]  # Query ranges: (l, r)\n",
    "print(range_minimum_query(arr, queries))\n"
   ]
  },
  {
   "cell_type": "code",
   "execution_count": 113,
   "metadata": {},
   "outputs": [
    {
     "name": "stdout",
     "output_type": "stream",
     "text": [
      "[7, 11, 11]\n"
     ]
    }
   ],
   "source": [
    "\n",
    "def buildMaxSparseTable(arr):\n",
    "    n = len(arr)\n",
    "    max_value = math.floor(math.log2(n)) + 1\n",
    "    st = [[float(\"-inf\")] * max_value for _ in range(n)]\n",
    "\n",
    "    # Initialize base case: interval size 2^0 = 1\n",
    "    for i in range(n):\n",
    "        st[i][0] = arr[i]\n",
    "\n",
    "    j = 1\n",
    "    while (1 << j) <= n:\n",
    "        i = 0\n",
    "        while (i + (1 << j) - 1) < n:  \n",
    "            st[i][j] = max(st[i][j - 1], st[i + (1 << (j - 1))][j - 1])\n",
    "            i += 1\n",
    "        j += 1\n",
    "\n",
    "    return st, max_value\n",
    "\n",
    "def queryMax(st, l, r):\n",
    "    length = r - l + 1\n",
    "    j = int(math.log2(length))\n",
    "    return max(st[l][j], st[r - (1 << j) + 1][j])\n",
    "\n",
    "def maximum_query_range(arr, queries):\n",
    "    st, max_value = buildMaxSparseTable(arr)  \n",
    "    res = []\n",
    "    for l, r in queries:\n",
    "        res.append(queryMax(st, l, r))\n",
    "    return res\n",
    "\n",
    "arr = [1, 3, 2, 7, 9, 11, 5, 3, 6]\n",
    "queries = [[0, 3], [2, 5], [5, 8]]\n",
    "print(maximum_query_range(arr, queries))\n"
   ]
  },
  {
   "cell_type": "code",
   "execution_count": 114,
   "metadata": {},
   "outputs": [
    {
     "name": "stdout",
     "output_type": "stream",
     "text": [
      "[5, 5]\n"
     ]
    }
   ],
   "source": [
    "def smallestSubarraySumGreaterThanK(arr,k):\n",
    "    if not arr:\n",
    "        return\n",
    "    max_length=float(\"inf\")\n",
    "    prefix_sum=0\n",
    "    result=[]\n",
    "    left=0\n",
    "    right=0\n",
    "    n=len(arr)\n",
    "    while right<n:\n",
    "        prefix_sum+=arr[right]\n",
    "        while prefix_sum>k and left<=right:\n",
    "            if right-left+1<max_length:\n",
    "                max_length=right-left+1\n",
    "                result=[left,right]\n",
    "            prefix_sum-=arr[left]\n",
    "            left+=1\n",
    "        right+=1\n",
    "    return result\n",
    "arr=[2, 3, 4, 5, 6, 7, 8, 9, 10]\n",
    "k=6\n",
    "print(smallestSubarraySumGreaterThanK(arr,k))"
   ]
  },
  {
   "cell_type": "code",
   "execution_count": 115,
   "metadata": {},
   "outputs": [
    {
     "name": "stdout",
     "output_type": "stream",
     "text": [
      "9\n"
     ]
    }
   ],
   "source": [
    "# def subarrayWithMAximumSumAfterOneDeletion(arr):\n",
    "#     def computeSum(new_arr):\n",
    "#         prefix_sum=0\n",
    "#         current_max=float(\"-inf\")\n",
    "#         for i in range(len(new_arr)):\n",
    "#             prefix_sum+=new_arr[i]\n",
    "#             current_max=max(current_max,prefix_sum)\n",
    "#         return current_max\n",
    "#     max_sum=float(\"-inf\")\n",
    "#     for i in range(len(arr)):\n",
    "#         new_arr=arr[:i]+arr[i+1:]\n",
    "#         max_sum=max(max_sum,computeSum(new_arr))\n",
    "#     return max_sum\n",
    "def maxSubarraySumAfterOneDeletion(arr):\n",
    "    n = len(arr)\n",
    "    if n == 1:\n",
    "        return arr[0] \n",
    "\n",
    "    dp_no_deletion = [0] * n  # Max sum ending at index i without deletion\n",
    "    dp_with_deletion = [0] * n  # Max sum ending at index i with one deletion\n",
    "\n",
    "    dp_no_deletion[0] = arr[0]\n",
    "    dp_with_deletion[0] = float('-inf')\n",
    "\n",
    "    max_sum = arr[0]\n",
    "\n",
    "    for i in range(1, n):\n",
    "        dp_no_deletion[i] = max(dp_no_deletion[i - 1] + arr[i], arr[i])\n",
    "        dp_with_deletion[i] = max(dp_with_deletion[i - 1] + arr[i], dp_no_deletion[i - 1])\n",
    "\n",
    "        max_sum = max(max_sum, dp_no_deletion[i], dp_with_deletion[i])\n",
    "\n",
    "    return max_sum\n",
    "\n",
    "arr = [1, -3, 2, 1, -1, 6]\n",
    "print(maxSubarraySumAfterOneDeletion(arr))  # Output: 8\n",
    "\n",
    "        "
   ]
  },
  {
   "cell_type": "code",
   "execution_count": 116,
   "metadata": {},
   "outputs": [
    {
     "name": "stdout",
     "output_type": "stream",
     "text": [
      "([4, 5], 9)\n"
     ]
    }
   ],
   "source": [
    "def subarrayWithMaximumSumWithElementGreaterThanX(arr, x):\n",
    "    if not arr:\n",
    "        return []\n",
    "\n",
    "    n = len(arr)\n",
    "    max_sum = float(\"-inf\")\n",
    "    prefix_sum = 0\n",
    "    start = 0  \n",
    "    end = 0   \n",
    "    temp_start = 0\n",
    "\n",
    "    for i in range(n):\n",
    "        if arr[i] <= x:\n",
    "            if prefix_sum > max_sum:\n",
    "                max_sum = prefix_sum\n",
    "                start = temp_start\n",
    "                end = i - 1\n",
    "            prefix_sum = 0\n",
    "            temp_start = i + 1\n",
    "        else:\n",
    "            prefix_sum += arr[i]\n",
    "        if prefix_sum > max_sum:\n",
    "            max_sum = prefix_sum\n",
    "            start = temp_start\n",
    "            end = i\n",
    "\n",
    "    return arr[start:end + 1],max_sum\n",
    "\n",
    "arr = [1, 2, 3, 4, 5]\n",
    "x = 3\n",
    "print(subarrayWithMaximumSumWithElementGreaterThanX(arr, x))\n"
   ]
  },
  {
   "cell_type": "code",
   "execution_count": 117,
   "metadata": {},
   "outputs": [
    {
     "name": "stdout",
     "output_type": "stream",
     "text": [
      "45\n"
     ]
    }
   ],
   "source": [
    "import math\n",
    "\n",
    "def numberOfSubarrayWithSumDivisibleByPrimeNumber(arr):\n",
    "    if not arr:\n",
    "        return 0\n",
    "\n",
    "    n = len(arr)\n",
    "    count = 0\n",
    "    max_sum = sum(arr)\n",
    "    primes = sieve_of_primes(max_sum)\n",
    "    for i in range(n):\n",
    "        sub_sum = 0\n",
    "        for j in range(i, n):\n",
    "            sub_sum += arr[j]\n",
    "            for p in primes:\n",
    "                if sub_sum % p == 0:\n",
    "                    count += 1\n",
    "                    break  \n",
    "    return count\n",
    "\n",
    "def sieve_of_primes(limit):\n",
    "    \"\"\"Generate all prime numbers up to `limit` using Sieve of Eratosthenes.\"\"\"\n",
    "    sieve = [True] * (limit + 1)\n",
    "    sieve[0] = sieve[1] = False\n",
    "    for start in range(2, int(math.sqrt(limit)) + 1):\n",
    "        if sieve[start]:\n",
    "            for i in range(start * start, limit + 1, start):\n",
    "                sieve[i] = False\n",
    "    return [num for num, is_prime in enumerate(sieve) if is_prime]\n",
    "\n",
    "arr = [2, 3, 4, 5, 6, 7, 8, 9, 10]\n",
    "print(numberOfSubarrayWithSumDivisibleByPrimeNumber(arr))\n"
   ]
  },
  {
   "cell_type": "code",
   "execution_count": 118,
   "metadata": {},
   "outputs": [
    {
     "name": "stdout",
     "output_type": "stream",
     "text": [
      "[1, 2, 2, 3]\n"
     ]
    }
   ],
   "source": [
    "def largestSubarrayWithSumEqualToXInCircularArray(arr, x):\n",
    "    if not arr:\n",
    "        return []\n",
    "\n",
    "    n = len(arr)\n",
    "    arr = arr + arr \n",
    "    max_length = 0\n",
    "    prefix_sum = 0\n",
    "    result = []\n",
    "    left = 0\n",
    "    \n",
    "    for right in range(2 * n):\n",
    "        prefix_sum += arr[right]\n",
    "        while prefix_sum > x and left <= right:\n",
    "            prefix_sum -= arr[left]\n",
    "            left += 1\n",
    "        \n",
    "        if prefix_sum == x:\n",
    "            # The length of the subarray must be less than or equal to n to be valid\n",
    "            if right - left + 1 <= n:\n",
    "                if right - left + 1 > max_length:\n",
    "                    result = arr[left:right+1]\n",
    "                    max_length = right - left + 1\n",
    "    \n",
    "    return result\n",
    "\n",
    "arr = [5, 3, 2, 6, 1, -8, 7, 3, 1, 3, 4,1,2,2,3]\n",
    "x = 8\n",
    "print(largestSubarrayWithSumEqualToXInCircularArray(arr, x))\n",
    "\n"
   ]
  },
  {
   "cell_type": "markdown",
   "metadata": {},
   "source": [
    "from number 28"
   ]
  },
  {
   "cell_type": "code",
   "execution_count": 119,
   "metadata": {},
   "outputs": [
    {
     "name": "stdout",
     "output_type": "stream",
     "text": [
      "4\n"
     ]
    }
   ],
   "source": [
    "def maximumLengthSubarrayWithSumZero(arr):\n",
    "    if not arr:\n",
    "        return 0\n",
    "    n=len(arr)\n",
    "    prefix_sum=0\n",
    "    max_length=0\n",
    "    sum_map={0:-1}\n",
    "    for i in range(n):\n",
    "        prefix_sum+=arr[i]\n",
    "        if prefix_sum in sum_map:\n",
    "            max_length=max(max_length,i-sum_map[prefix_sum])\n",
    "        else:\n",
    "            sum_map[prefix_sum]=i\n",
    "    return max_length\n",
    "arr=[-2,1,-3,4,-1,2,1,-5,4]\n",
    "print(maximumLengthSubarrayWithSumZero(arr))"
   ]
  },
  {
   "cell_type": "code",
   "execution_count": 120,
   "metadata": {},
   "outputs": [
    {
     "name": "stdout",
     "output_type": "stream",
     "text": [
      "[9, 9]\n"
     ]
    }
   ],
   "source": [
    "def smallestSubarrayWithSumGreaterEqual(arr, x):\n",
    "    if not arr:\n",
    "        return []\n",
    "    n = len(arr)\n",
    "    left = 0\n",
    "    prefix_sum = 0\n",
    "    min_length = float('inf')\n",
    "    res = []\n",
    "\n",
    "    for right in range(n):\n",
    "        prefix_sum += arr[right]\n",
    "\n",
    "        while prefix_sum >= x:\n",
    "            if right - left + 1 < min_length:\n",
    "                min_length = right - left + 1\n",
    "                res = [left, right]\n",
    "            prefix_sum -= arr[left]\n",
    "            left += 1\n",
    "\n",
    "    return res if res else [] \n",
    "arr = [2, 3, 4, 5, 6, 7, 8, 9, 10, 15]\n",
    "x = 15\n",
    "print(smallestSubarrayWithSumGreaterEqual(arr, x))\n"
   ]
  },
  {
   "cell_type": "code",
   "execution_count": 121,
   "metadata": {},
   "outputs": [
    {
     "name": "stdout",
     "output_type": "stream",
     "text": [
      "8\n"
     ]
    }
   ],
   "source": [
    "import math\n",
    "\n",
    "def subarrayWithSumPerfectSquare(arr):\n",
    "    if not arr:\n",
    "        return 0\n",
    "\n",
    "    count = 0\n",
    "    prefix_sum = 0\n",
    "    sum_map = {0: 1} \n",
    "\n",
    "    for num in arr:\n",
    "        prefix_sum += num  \n",
    "        for prev_sum in sum_map:\n",
    "            subarray_sum = prefix_sum - prev_sum\n",
    "            if subarray_sum >= 0 and math.isqrt(subarray_sum) ** 2 == subarray_sum:\n",
    "                count += sum_map[prev_sum] \n",
    "        sum_map[prefix_sum] = sum_map.get(prefix_sum, 0) + 1\n",
    "\n",
    "    return count\n",
    "\n",
    "arr = [1, 3, 5, 2, 6, 9, 10]\n",
    "print(subarrayWithSumPerfectSquare(arr)) \n"
   ]
  },
  {
   "cell_type": "code",
   "execution_count": 122,
   "metadata": {},
   "outputs": [
    {
     "name": "stdout",
     "output_type": "stream",
     "text": [
      "[0, 1, 3, 6, 10, 15]\n",
      "57\n"
     ]
    }
   ],
   "source": [
    "def sumOfOddLengthSubarrays(arr):\n",
    "    if not arr:\n",
    "        return 0\n",
    "    \n",
    "    n = len(arr)\n",
    "    prefix = [0] * (n + 1)\n",
    "    for i in range(n):\n",
    "        prefix[i + 1] = prefix[i] + arr[i]\n",
    "    \n",
    "    total_sum = 0\n",
    "    \n",
    "\n",
    "    for start in range(n):\n",
    "        for end in range(start, n, 2):\n",
    "            total_sum += prefix[end + 1] - prefix[start]\n",
    "    print(prefix)\n",
    "    \n",
    "    return total_sum\n",
    "\n",
    "arr = [1, 2, 3, 4, 5]\n",
    "print(sumOfOddLengthSubarrays(arr)) \n"
   ]
  },
  {
   "cell_type": "code",
   "execution_count": 123,
   "metadata": {},
   "outputs": [
    {
     "name": "stdout",
     "output_type": "stream",
     "text": [
      "9\n"
     ]
    }
   ],
   "source": [
    "def maximumprefixSumOfSizeK(arr, k):\n",
    "    if not arr or k > len(arr):\n",
    "        return -1\n",
    "    prefix_sum = sum(arr[:k])\n",
    "    max_sum = prefix_sum  \n",
    "    for i in range(k, len(arr)):\n",
    "        prefix_sum = prefix_sum - arr[i - k] + arr[i]\n",
    "        max_sum = max(max_sum, prefix_sum)\n",
    "    return max_sum\n",
    "arr = [1, 2, 3, 4, 5, ]\n",
    "print(maximumprefixSumOfSizeK(arr, 2))  \n"
   ]
  },
  {
   "cell_type": "code",
   "execution_count": 124,
   "metadata": {},
   "outputs": [
    {
     "data": {
      "text/plain": [
       "[[3, 2, 5]]"
      ]
     },
     "execution_count": 124,
     "metadata": {},
     "output_type": "execute_result"
    }
   ],
   "source": [
    "def subarrayWithSumOfSizeK(arr,k,target):\n",
    "    if not arr or k > len(arr):\n",
    "        return []\n",
    "    n=len(arr)\n",
    "    left=0\n",
    "    right=0\n",
    "    prefix_sum=0\n",
    "    result=[]\n",
    "    while right<n:\n",
    "        prefix_sum+=arr[right]\n",
    "        while prefix_sum>target and left<=right:\n",
    "            prefix_sum-=arr[left]\n",
    "            left+=1\n",
    "        if prefix_sum==target and right-left+1==k:\n",
    "            result.append(arr[left:right+1])\n",
    "        right+=1\n",
    "    return result\n",
    "arr = [1, 3, 2, 5, 7, 2, 4]\n",
    "k = 3\n",
    "target = 10\n",
    "subarrayWithSumOfSizeK(arr,k,target)\n"
   ]
  },
  {
   "cell_type": "code",
   "execution_count": 125,
   "metadata": {},
   "outputs": [
    {
     "name": "stdout",
     "output_type": "stream",
     "text": [
      "2\n"
     ]
    }
   ],
   "source": [
    "def numberOfSubarrayLengthOddGreaterThanK(arr, k):\n",
    "    if not arr or k > sum(arr):  \n",
    "        return 0\n",
    "\n",
    "    left = 0\n",
    "    right = 0\n",
    "    n = len(arr)\n",
    "    prefix_sum = 0\n",
    "    count = 0\n",
    "\n",
    "    while right < n:\n",
    "        prefix_sum += arr[right]  #\n",
    "\n",
    "        while prefix_sum > k and left <= right:\n",
    "            if (right - left + 1) % 2 != 0:\n",
    "                count += 1\n",
    "            prefix_sum -= arr[left]  \n",
    "            left += 1\n",
    "\n",
    "        right += 1  \n",
    "\n",
    "    return count\n",
    "\n",
    "arr = [1, 2, 3, 4, 5]\n",
    "k = 8\n",
    "print(numberOfSubarrayLengthOddGreaterThanK(arr, k)) \n"
   ]
  },
  {
   "cell_type": "code",
   "execution_count": 126,
   "metadata": {},
   "outputs": [
    {
     "name": "stdout",
     "output_type": "stream",
     "text": [
      "[0, 2, 2, 2, 0, 0]\n",
      "[20]\n",
      "[1, 4, 5, 6, 5]\n"
     ]
    }
   ],
   "source": [
    "def range_update_with_prefix_sum(arr,updates):\n",
    "    if not arr:\n",
    "        return []\n",
    "    n=len(arr)\n",
    "    diff = [0] * (n + 1)\n",
    "    \n",
    "    # Step 2: Apply each range update to the difference array\n",
    "    for update in updates:\n",
    "        l, r, x = update\n",
    "        diff[l] += x\n",
    "        if r + 1 < n:\n",
    "            diff[r + 1] -= x #stop adding value\n",
    "    # Step 3: Convert the difference array into the actual updated array\n",
    "    for i in range(1, n):\n",
    "        diff[i] += diff[i - 1]\n",
    "    # Step 4: Apply the diff array to the original array\n",
    "    for i in range(n):\n",
    "        arr[i] += diff[i]\n",
    "    print(diff)\n",
    "    \n",
    "    return arr\n",
    "\n",
    "\n",
    "def subarray_sum_with_prefix_sum(arr,queries):\n",
    "    n = len(arr)\n",
    "    \n",
    "    prefix = [0] * n\n",
    "    prefix[0] = arr[0]\n",
    "    for i in range(1,n):\n",
    "        prefix[i]=prefix[i-1]+arr[i]\n",
    "\n",
    "    results = []\n",
    "    for query in queries:\n",
    "        l, r = query\n",
    "        sum_range = prefix[r] - prefix[l-1]\n",
    "        results.append(sum_range)\n",
    "    \n",
    "    return results\n",
    "arr = [1, 2, 3, 4, 5]\n",
    "updates = [(1, 3, 2)]\n",
    "new_arr=range_update_with_prefix_sum(arr, updates)\n",
    "queries = [(1, 4)]\n",
    "print(subarray_sum_with_prefix_sum(new_arr,queries))\n",
    "print(new_arr)"
   ]
  },
  {
   "cell_type": "code",
   "execution_count": 127,
   "metadata": {},
   "outputs": [
    {
     "name": "stdout",
     "output_type": "stream",
     "text": [
      "([[1], [2], [3, 4, 5, 16, 4]], 3)\n"
     ]
    }
   ],
   "source": [
    "def subarray_with_sum_power_of_two(arr):\n",
    "    if not arr:\n",
    "        return [], 0\n",
    "    \n",
    "    n = len(arr)\n",
    "    res = []\n",
    "    count = 0\n",
    "    prefix_sum = 0\n",
    "    left = 0\n",
    "    for right in range(n):\n",
    "        prefix_sum += arr[right]\n",
    "        while prefix_sum != 0 and (prefix_sum & (prefix_sum - 1)) == 0:\n",
    "            count += 1\n",
    "            res.append(arr[left:right + 1])\n",
    "            prefix_sum -= arr[left]\n",
    "            left += 1\n",
    "\n",
    "    return res, count\n",
    "\n",
    "arr = [1, 2, 3, 4, 5,16,4]\n",
    "print(subarray_with_sum_power_of_two(arr))\n"
   ]
  },
  {
   "cell_type": "markdown",
   "metadata": {},
   "source": [
    "power of 2 always give 0 on anding the number and -1 of number"
   ]
  },
  {
   "cell_type": "code",
   "execution_count": 128,
   "metadata": {},
   "outputs": [
    {
     "name": "stdout",
     "output_type": "stream",
     "text": [
      "0\n",
      "2\n"
     ]
    }
   ],
   "source": [
    "print(4&(4-1))\n",
    "print(3&(3-1))"
   ]
  },
  {
   "cell_type": "code",
   "execution_count": 129,
   "metadata": {},
   "outputs": [
    {
     "name": "stdout",
     "output_type": "stream",
     "text": [
      "[[1, 2], [2], [2, 3], [3], [3, 4], [5], [5, 6], [6, 7], [7]]\n"
     ]
    }
   ],
   "source": [
    "\n",
    "def get_primes(limit):\n",
    "    primes=[True]*(limit+1)\n",
    "    primes[0]=primes[1]=False\n",
    "    for start in range(2,int(math.sqrt(limit))+1):\n",
    "        if primes[start]:\n",
    "            for multiple in range(start*start,limit+1,start):\n",
    "                primes[multiple]=False\n",
    "    return [num for num,is_prime in enumerate(primes) if is_prime]\n",
    "def subarray_with_sum_equal_to_prime_number(arr):\n",
    "    if not arr:\n",
    "        return []\n",
    "    n=len(arr)\n",
    "    prefix_sum=0\n",
    "    limit=sum(arr)\n",
    "    primes=get_primes(limit)\n",
    "    subarrays=[]\n",
    "    for i in range(n):\n",
    "        prefix_sum=0\n",
    "        for j in range(i,n):\n",
    "            prefix_sum+=arr[j]\n",
    "            if prefix_sum in primes:\n",
    "                subarrays.append(arr[i:j+1])\n",
    "    return subarrays    \n",
    "\n",
    "\n",
    "arr=[1,2,3,4,5,6,7]\n",
    "print(subarray_with_sum_equal_to_prime_number(arr))\n",
    "\n",
    "\n"
   ]
  },
  {
   "cell_type": "code",
   "execution_count": 130,
   "metadata": {},
   "outputs": [
    {
     "name": "stdout",
     "output_type": "stream",
     "text": [
      "(5, [[1, 2, 3], [2, 3, 4, 5], [3, 4, 5], [4, 5, 6, 7], [5, 6, 7]])\n"
     ]
    }
   ],
   "source": [
    "def subarrayWithEvenSum(arr):\n",
    "    if not arr:\n",
    "        return 0,[]\n",
    "    \n",
    "    n = len(arr)\n",
    "    count=0\n",
    "    prefix_sum = 0\n",
    "    res=[]\n",
    "    left = 0\n",
    "    for right in range(n):\n",
    "        prefix_sum += arr[right]\n",
    "        while prefix_sum % 2 == 0:\n",
    "            count += 1\n",
    "            res.append(arr[left:right + 1])\n",
    "            prefix_sum -= arr[left]\n",
    "            left += 1\n",
    "    return count, res\n",
    "\n",
    "arr = [1, 2, 3, 4, 5, 6, 7]\n",
    "print(subarrayWithEvenSum(arr))\n"
   ]
  },
  {
   "cell_type": "code",
   "execution_count": 131,
   "metadata": {},
   "outputs": [
    {
     "name": "stdout",
     "output_type": "stream",
     "text": [
      "(7, [[1], [1, 2], [1, 2, 3], [3, 4], [4, 5], [6], [7]])\n"
     ]
    }
   ],
   "source": [
    "def subarrayWithProductLessThanK(arr,k):\n",
    "    if not arr:\n",
    "        return 0,[]\n",
    "    n = len(arr)\n",
    "    count=0\n",
    "    product=1\n",
    "    left=0\n",
    "    right=0\n",
    "    res=[]\n",
    "    while right < n:\n",
    "        product *= arr[right]\n",
    "        while product >= k:\n",
    "            product /= arr[left]\n",
    "            left += 1\n",
    "        if product < k:\n",
    "            count += 1\n",
    "            res.append(arr[left:right + 1])\n",
    "        right += 1\n",
    "    return count, res\n",
    "arr = [1, 2, 3, 4, 5, 6, 7]\n",
    "k = 24\n",
    "print(subarrayWithProductLessThanK(arr, k))"
   ]
  },
  {
   "cell_type": "code",
   "execution_count": 132,
   "metadata": {},
   "outputs": [
    {
     "name": "stdout",
     "output_type": "stream",
     "text": [
      "9\n"
     ]
    }
   ],
   "source": [
    "def maximumPrefixSumPositiveNumber(arr):\n",
    "    if not arr:\n",
    "        return\n",
    "    n=len(arr)\n",
    "    max_sum=float(\"-inf\")\n",
    "    prefix_sum=0\n",
    "    for i in range(n):\n",
    "        if arr[i]>=0:\n",
    "            prefix_sum+=arr[i]\n",
    "            max_sum=max(max_sum,prefix_sum)\n",
    "        else:\n",
    "            prefix_sum=0\n",
    "    return max_sum\n",
    "arr=[1,2,-3,4,5,-6,7]\n",
    "print(maximumPrefixSumPositiveNumber(arr))\n",
    "\n"
   ]
  },
  {
   "cell_type": "code",
   "execution_count": 133,
   "metadata": {},
   "outputs": [
    {
     "name": "stdout",
     "output_type": "stream",
     "text": [
      "[1, 2, 3, 4, 5, 6]\n"
     ]
    }
   ],
   "source": [
    "def subarrayWithPrefixSumGreaterThan(arr, threshold):\n",
    "    if not arr:\n",
    "        return []\n",
    "    \n",
    "    n = len(arr)\n",
    "    prefix_sum = 0\n",
    "    res = []\n",
    "    \n",
    "    for i in range(n):\n",
    "        prefix_sum += arr[i]\n",
    "        if prefix_sum > threshold:\n",
    "            res = arr[:i+1] \n",
    "            break\n",
    "            \n",
    "    return res\n",
    "\n",
    "arr = [1, 2, 3, 4, 5, 6, 7, -1, 9, 7, 9]\n",
    "threshold = 15\n",
    "print(subarrayWithPrefixSumGreaterThan(arr, threshold))\n"
   ]
  },
  {
   "cell_type": "code",
   "execution_count": 148,
   "metadata": {},
   "outputs": [
    {
     "name": "stdout",
     "output_type": "stream",
     "text": [
      "11\n"
     ]
    }
   ],
   "source": [
    "def gcd(a,b):\n",
    "    while b!=0:\n",
    "        temp=b\n",
    "        b=a%b\n",
    "        a=temp\n",
    "    return a\n",
    "\n",
    "def lcm(a,b,gcd):\n",
    "    return (a*b)//gcd\n",
    "\n",
    "def  lcm_list(values):\n",
    "    lcms=values[0]\n",
    "   \n",
    "    for i in range(1,len(values)):\n",
    "        gcd_val=gcd(values[i],lcms)\n",
    "        lcms=lcm(values[i],lcms,gcd_val)\n",
    "       \n",
    "    return lcms\n",
    "\n",
    "def subarrayWithSumDivisibleByMultipleK(arr,k:list):\n",
    "    if not arr or not k:\n",
    "        return []\n",
    "    count=0\n",
    "    n=len(arr)\n",
    "    prefix_sum=0\n",
    "    remainder_count=defaultdict(int)\n",
    "    remainder_count[0]=1\n",
    "    k=lcm_list(k)\n",
    "    for num in arr:\n",
    "        prefix_sum+=num\n",
    "        remainder=prefix_sum%k\n",
    "        if remainder<0:\n",
    "            remainder+=k\n",
    "        if remainder in remainder_count:\n",
    "            count+=remainder_count[remainder]\n",
    "        remainder_count[remainder]+=1\n",
    "    return count\n",
    "\n",
    "\n",
    "\n",
    "arr = [1, 2, 3, 4, 5, 6, 7, 8, 9, 10]\n",
    "k = [3, 2]\n",
    "print(subarrayWithSumDivisibleByMultipleK(arr, k))\n"
   ]
  },
  {
   "cell_type": "code",
   "execution_count": 155,
   "metadata": {},
   "outputs": [
    {
     "name": "stdout",
     "output_type": "stream",
     "text": [
      "[[1, 2, 3, 4, 5], [7, 8]]\n"
     ]
    }
   ],
   "source": [
    "def prefixSumOfNonOverlappingSubarrayhavingSameSum(arr,target):\n",
    "    if not arr:\n",
    "        return []\n",
    "    n=len(arr)\n",
    "    left=0\n",
    "    right=0\n",
    "    prefix_sum=0\n",
    "    res=[]\n",
    "    while right<n:\n",
    "        prefix_sum+=arr[right]\n",
    "        while prefix_sum>target:\n",
    "            prefix_sum-=arr[left]\n",
    "            left+=1\n",
    "        if prefix_sum==target:\n",
    "            res.append(arr[left:right+1])\n",
    "            prefix_sum=0\n",
    "            left=right+1\n",
    "        right+=1\n",
    "    return res\n",
    "arr=[1,2,3,4,5,6,7,8,9,10]\n",
    "target=15\n",
    "print(prefixSumOfNonOverlappingSubarrayhavingSameSum(arr, target))\n"
   ]
  },
  {
   "cell_type": "code",
   "execution_count": 207,
   "metadata": {},
   "outputs": [
    {
     "data": {
      "text/plain": [
       "[6, 9, 12]"
      ]
     },
     "execution_count": 207,
     "metadata": {},
     "output_type": "execute_result"
    }
   ],
   "source": [
    "def prefix_sum_of_k_length(arr,k):\n",
    "    if not arr:\n",
    "        return\n",
    "    n=len(arr)\n",
    "    prefix_sum=[]\n",
    "    for i in range(n-k+1):\n",
    "        prefix_sum.append(sum(arr[i:i+k]))\n",
    "    return prefix_sum\n",
    "arr=[1,2,3,4,5]\n",
    "prefix_sum_of_k_length(arr,3)\n"
   ]
  },
  {
   "cell_type": "code",
   "execution_count": 238,
   "metadata": {},
   "outputs": [
    {
     "name": "stdout",
     "output_type": "stream",
     "text": [
      "([1, 2, 3, 4, 5, -1], 6)\n"
     ]
    }
   ],
   "source": [
    "def maximumLengthSubarrayWithSumGreaterThanThreshold(arr, k):\n",
    "    if not arr:\n",
    "        return [], 0 \n",
    "\n",
    "    left = 0\n",
    "    n = len(arr)\n",
    "    max_length = 0\n",
    "    prefix_sum = 0\n",
    "    res = []\n",
    "\n",
    "    for right in range(n):\n",
    "        prefix_sum += arr[right]\n",
    "        while prefix_sum > k:\n",
    "            prefix_sum -= arr[left]\n",
    "            left += 1\n",
    "        if right - left + 1 > max_length:\n",
    "            max_length = right - left + 1\n",
    "            res = arr[left:right + 1]\n",
    "\n",
    "    return res, max_length\n",
    "\n",
    "\n",
    "arr = [1, 2, 3, 4, 5, -1, 6, 7, -6, 8, 9, 10]\n",
    "k = 15\n",
    "print(maximumLengthSubarrayWithSumGreaterThanThreshold(arr, k))\n"
   ]
  },
  {
   "cell_type": "code",
   "execution_count": 242,
   "metadata": {},
   "outputs": [
    {
     "name": "stdout",
     "output_type": "stream",
     "text": [
      "[1, 2, 3, 4, 5, 6, 7]\n",
      "[[1, 2, 3, 4]]\n"
     ]
    }
   ],
   "source": [
    "def subarrayWihProductEqualToK(arr,k):\n",
    "    if not arr:\n",
    "        return []\n",
    "    print(arr)\n",
    "    \n",
    "    n = len(arr)\n",
    "    prefix_product = 1\n",
    "    res = []\n",
    "    left = 0\n",
    "    for right in range(n):\n",
    "        prefix_product *= arr[right]\n",
    "        while prefix_product > k:\n",
    "            prefix_product /= arr[left]\n",
    "            left += 1\n",
    "        if prefix_product == k:\n",
    "            res.append(arr[left:right + 1])\n",
    "\n",
    "    return res\n",
    "\n",
    "arr = [1, 2, 3, 4, 5, 6, 7]\n",
    "k = 24\n",
    "print(subarrayWihProductEqualToK(arr, k))\n"
   ]
  },
  {
   "cell_type": "code",
   "execution_count": 265,
   "metadata": {},
   "outputs": [
    {
     "name": "stdout",
     "output_type": "stream",
     "text": [
      "[2, 3, 4, 5, 6]\n"
     ]
    }
   ],
   "source": [
    "from collections import defaultdict\n",
    "\n",
    "def longestSubarrayWithSumDivisibleByK(arr, k):\n",
    "    if not arr:\n",
    "        return []\n",
    "\n",
    "    n = len(arr)\n",
    "    prefix_sum = 0\n",
    "    max_length = 0\n",
    "    res = []\n",
    "    remainder_count = {0: -1} \n",
    "\n",
    "    for right in range(n):\n",
    "        prefix_sum += arr[right]\n",
    "        remainder = prefix_sum % k\n",
    "\n",
    "        if remainder < 0:  \n",
    "            remainder += k\n",
    "\n",
    "        if remainder in remainder_count:\n",
    "            start = remainder_count[remainder] + 1\n",
    "            end = right + 1 \n",
    "            if end - start > max_length:\n",
    "                max_length = end - start\n",
    "                res = arr[start:end] \n",
    "        else:\n",
    "            remainder_count[remainder] = right \n",
    "\n",
    "    return res\n",
    "\n",
    "arr = [1, 2, 3, 4, 5, 6, 7, 8, 9, 10]\n",
    "k = 10\n",
    "print(longestSubarrayWithSumDivisibleByK(arr, k))\n"
   ]
  },
  {
   "cell_type": "code",
   "execution_count": 277,
   "metadata": {},
   "outputs": [
    {
     "name": "stdout",
     "output_type": "stream",
     "text": [
      "[1, 6, 7, 9, 10]\n",
      "[1, 7, 14, 23, 33]\n"
     ]
    },
    {
     "data": {
      "text/plain": [
       "[22, 26]"
      ]
     },
     "execution_count": 277,
     "metadata": {},
     "output_type": "execute_result"
    }
   ],
   "source": [
    "def prefixSumWithIncrementalRangeUpdate(arr,queries,updates):\n",
    "    if not arr:\n",
    "        return\n",
    "    n=len(arr)\n",
    "    def update(arr):\n",
    "        diff=[0]*(n+1)\n",
    "        for l,r,val in updates:\n",
    "            diff[l]+=val\n",
    "            if r+1<=n:\n",
    "                diff[r+1]-=val\n",
    "        for i in range(1,n):\n",
    "            diff[i]+=diff[i-1]\n",
    "        for i in range(n):\n",
    "            arr[i]+=diff[i]\n",
    "        return arr\n",
    "    new_arr=update(arr)\n",
    "    prefix_sum=[0]*n\n",
    "    prefix_sum[0]=new_arr[0]\n",
    "    for i in range(1,n):\n",
    "        prefix_sum[i]=prefix_sum[i-1]+new_arr[i]\n",
    "    res=[]\n",
    "    print(new_arr)\n",
    "    print(prefix_sum)\n",
    "    for l,r in queries:\n",
    "        res.append(prefix_sum[r]-prefix_sum[l-1])\n",
    "    return res\n",
    "\n",
    "\n",
    "\n",
    "arr=[1,2,3,4,5]\n",
    "updates=[(1,2,1),(3,4,2),(1,5,3)]\n",
    "queries=[(1,3),(2,4)]\n",
    "prefixSumWithIncrementalRangeUpdate(arr, queries, updates)"
   ]
  },
  {
   "cell_type": "code",
   "execution_count": 280,
   "metadata": {},
   "outputs": [
    {
     "name": "stdout",
     "output_type": "stream",
     "text": [
      "([8, 9], 2)\n"
     ]
    }
   ],
   "source": [
    "def minimumLengthSubarrayWithSumGreaterThanK(arr,k):\n",
    "    if not arr:\n",
    "        return []\n",
    "    min_length=float(\"inf\")\n",
    "    left=0\n",
    "    right=0\n",
    "    n=len(arr)\n",
    "    prefix_sum=0\n",
    "    res=[]\n",
    "    while right<n:\n",
    "        prefix_sum+=arr[right]\n",
    "        while prefix_sum>k:\n",
    "            if right-left+1<min_length:\n",
    "                min_length=right-left+1\n",
    "                res=arr[left:right+1]\n",
    "            prefix_sum-=arr[left]\n",
    "            left+=1\n",
    "        right+=1\n",
    "    return res,min_length\n",
    "\n",
    "arr=[1,2,3,4,5,6,7,8,9,10]\n",
    "k=15\n",
    "print(minimumLengthSubarrayWithSumGreaterThanK(arr, k))\n"
   ]
  },
  {
   "cell_type": "code",
   "execution_count": 283,
   "metadata": {},
   "outputs": [
    {
     "name": "stdout",
     "output_type": "stream",
     "text": [
      "[1.5, 2.5, 3.5, 4.5]\n"
     ]
    }
   ],
   "source": [
    "def meanOfSubarray(arr,k):\n",
    "    if not arr:\n",
    "        return []\n",
    "    n=len(arr)\n",
    "    prefix_sum=[0]*n\n",
    "    prefix_sum[0]=arr[0]\n",
    "    for i in range(1,n):\n",
    "        prefix_sum[i]=prefix_sum[i-1]+arr[i]\n",
    "    means=[]\n",
    "    for i in range(n-k+1):\n",
    "        if i==0:\n",
    "            sub_array=prefix_sum[i+k-1]\n",
    "        else:\n",
    "            sub_array=prefix_sum[i+k-1]-prefix_sum[i-1]\n",
    "        means.append(sub_array/k)\n",
    "    return means\n",
    "\n",
    "arr=[1,2,3,4,5]\n",
    "print(meanOfSubarray(arr,2))"
   ]
  },
  {
   "cell_type": "code",
   "execution_count": 300,
   "metadata": {},
   "outputs": [
    {
     "name": "stdout",
     "output_type": "stream",
     "text": [
      "71\n"
     ]
    }
   ],
   "source": [
    "def sumOfAllSubarrayWithDistinctElement(arr):\n",
    "    if not arr:\n",
    "        return 0\n",
    "    n = len(arr)\n",
    "    prefix_sum = 0\n",
    "    total_sum = 0\n",
    "    seen = set()\n",
    "    left = 0\n",
    "    right = 0\n",
    "    while right < n:\n",
    "        while arr[right] in seen:\n",
    "            seen.remove(arr[left])\n",
    "            prefix_sum -= arr[left]\n",
    "            left += 1\n",
    "        prefix_sum += arr[right]\n",
    "        total_sum += prefix_sum\n",
    "        seen.add(arr[right])\n",
    "        right += 1\n",
    "    return total_sum \n",
    "\n",
    "arr = [1, 4, 2, 4, 6, 8,2]\n",
    "print(sumOfAllSubarrayWithDistinctElement(arr))\n"
   ]
  },
  {
   "cell_type": "code",
   "execution_count": null,
   "metadata": {},
   "outputs": [
    {
     "name": "stdout",
     "output_type": "stream",
     "text": [
      "[[1, 3, 6], [5, 12, 21], [12, 27, 45]]\n"
     ]
    }
   ],
   "source": [
    "def prefixSumForTwoDArray(arr):\n",
    "    if not arr:\n",
    "        return\n",
    "    n,m=len(arr),len(arr[0])\n",
    "    prefix_sum=[[0]*m for _ in range(n)]\n",
    "    prefix_sum[0][0]=arr[0][0]\n",
    "    #prefix of first column\n",
    "    for i in range(1,n):\n",
    "        prefix_sum[i][0]=prefix_sum[i-1][0]+arr[i][0]\n",
    "    #prefix of first row\n",
    "    for j in range(1,m):\n",
    "        prefix_sum[0][j]=prefix_sum[0][j-1]+arr[0][j]\n",
    "    #prefix of remaining array\n",
    "    for i in range(1,n):\n",
    "        for j in range(1,m):\n",
    "            prefix_sum[i][j]=arr[i][j]+prefix_sum[i][j-1]+prefix_sum[i-1][j]-prefix_sum[i-1][j-1]\n",
    "    return prefix_sum\n",
    "    \n",
    "arr=[\n",
    "    [1,2,3],\n",
    "    [4,5,6],\n",
    "    [7,8,9]\n",
    "]\n",
    "print(prefixSumForTwoDArray(arr))"
   ]
  },
  {
   "cell_type": "markdown",
   "metadata": {},
   "source": [
    "from 61"
   ]
  }
 ],
 "metadata": {
  "kernelspec": {
   "display_name": "myenv",
   "language": "python",
   "name": "python3"
  },
  "language_info": {
   "codemirror_mode": {
    "name": "ipython",
    "version": 3
   },
   "file_extension": ".py",
   "mimetype": "text/x-python",
   "name": "python",
   "nbconvert_exporter": "python",
   "pygments_lexer": "ipython3",
   "version": "3.12.3"
  }
 },
 "nbformat": 4,
 "nbformat_minor": 2
}
