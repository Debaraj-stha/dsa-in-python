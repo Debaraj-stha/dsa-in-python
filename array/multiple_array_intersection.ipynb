{
 "cells": [
  {
   "cell_type": "code",
   "execution_count": 2,
   "metadata": {},
   "outputs": [
    {
     "name": "stdout",
     "output_type": "stream",
     "text": [
      "[3, 4]\n"
     ]
    }
   ],
   "source": [
    "def findIntersectionOfMultipleList(*args):\n",
    "    if not args:\n",
    "        return []\n",
    "\n",
    "    # Start with the first list as the base intersection\n",
    "    intersection = args[0]\n",
    "\n",
    "    for arr in args[1:]:\n",
    "        temp_intersection = []\n",
    "        \n",
    "        # Check if each element of the base list is in the current list\n",
    "        for element in intersection:\n",
    "            if element in arr and element not in temp_intersection:\n",
    "                temp_intersection.append(element)\n",
    "        intersection = temp_intersection\n",
    "\n",
    "    return intersection\n",
    "\n",
    "arr1 = [1, 2, 3,4]\n",
    "arr2 = [2, 3, 4]\n",
    "arr3 = [3, 4, 5]\n",
    "print(findIntersectionOfMultipleList(arr1, arr2, arr3))  \n",
    "# Output: [3]\n"
   ]
  }
 ],
 "metadata": {
  "kernelspec": {
   "display_name": "myenv",
   "language": "python",
   "name": "python3"
  },
  "language_info": {
   "codemirror_mode": {
    "name": "ipython",
    "version": 3
   },
   "file_extension": ".py",
   "mimetype": "text/x-python",
   "name": "python",
   "nbconvert_exporter": "python",
   "pygments_lexer": "ipython3",
   "version": "3.12.3"
  }
 },
 "nbformat": 4,
 "nbformat_minor": 2
}
