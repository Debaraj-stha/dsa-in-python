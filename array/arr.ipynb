{
 "cells": [
  {
   "cell_type": "code",
   "execution_count": 95,
   "metadata": {},
   "outputs": [],
   "source": [
    "class Array:\n",
    "    def __init__(self,data:list):\n",
    "        self.data = data\n",
    "    \n",
    "    def length(self)->int:\n",
    "        count=0\n",
    "        for _ in self.data:\n",
    "            count += 1\n",
    "        return count\n",
    "\n",
    "    def insert(self,index,value):\n",
    "        if 0<=index<self.length():\n",
    "            left=self.data[:index]\n",
    "            right=self.data[index:]\n",
    "            left.append(value)\n",
    "            self.data=left+right\n",
    "         \n",
    "        else:\n",
    "            raise IndexError(\"Index out of range\")\n",
    "    \n",
    "    def delete(self, index):\n",
    "        if 0<=index<self.length():\n",
    "            left=self.data[:index]\n",
    "            right=self.data[index+1:]\n",
    "            self.data=left+right\n",
    "        else:\n",
    "            raise IndexError(\"Index out of range\")\n",
    "\n",
    "    def itemAt(self, index):\n",
    "        if 0<=index<self.length():\n",
    "            return self.data[index]\n",
    "        else:\n",
    "            raise IndexError(\"Index out of range\")\n",
    "\n",
    "    def is_sorted(self,order=None):\n",
    "        if order is None:\n",
    "            return all(self.data[i] <= self.data[i+1] for i in range(self.length()-1))\n",
    "        elif order == \"ascending\":\n",
    "            return all(self.data[i] <= self.data[i+1] for i in range(self.length()-1))\n",
    "        elif order == \"descending\":\n",
    "            return all(self.data[i] >= self.data[i+1] for i in range(self.length()-1))\n",
    "        else:\n",
    "            raise ValueError(\"Invalid order\")\n",
    "    def sort(self, reverse=False):\n",
    "     for i in range(self.length()):\n",
    "            for j in range(self.length() - i - 1):\n",
    "                if reverse:\n",
    "                    if self.data[j] < self.data[j + 1]:  # Swap for descending order\n",
    "                        self.data[j], self.data[j + 1] = self.data[j + 1], self.data[j]\n",
    "                else:\n",
    "                    if self.data[j] > self.data[j + 1]:  # Swap for ascending order\n",
    "                        self.data[j], self.data[j + 1] = self.data[j + 1], self.data[j]\n",
    "\n",
    "    def reverse(self,rev=[]):\n",
    "        if self.length() == 0:\n",
    "            self.data=rev\n",
    "            return\n",
    "        else:\n",
    "            rev.append(self.data.pop())\n",
    "            self.reverse(rev)\n",
    "            \n",
    "\n"
   ]
  },
  {
   "cell_type": "code",
   "execution_count": 96,
   "metadata": {},
   "outputs": [
    {
     "name": "stdout",
     "output_type": "stream",
     "text": [
      "[2, 5, 4, 6, 7]\n",
      "5\n",
      "[2, 5, 6, 7]\n",
      "5\n",
      "False\n",
      "False\n",
      "[100, 7, 6, 5, 2]\n",
      "[2, 5, 6, 7, 100]\n"
     ]
    }
   ],
   "source": [
    "arr=Array([2,4,6,7])\n",
    "arr.insert(1,5)\n",
    "print(arr.data) # Output: [2, 5, 4, 6, 7]\n",
    "print(arr.length())\n",
    "arr.delete(2)\n",
    "print(arr.data) # Output: [2, 5, 6, 7]\n",
    "print(arr.itemAt(1)) # Output: 5\n",
    "arr.insert(1,100)\n",
    "print(arr.is_sorted()) # Output: True\n",
    "arr.sort(reverse=True)\n",
    "print(arr.is_sorted())\n",
    "print(arr.data)\n",
    "arr.reverse()\n",
    "print(arr.data)"
   ]
  }
 ],
 "metadata": {
  "kernelspec": {
   "display_name": "env",
   "language": "python",
   "name": "python3"
  },
  "language_info": {
   "codemirror_mode": {
    "name": "ipython",
    "version": 3
   },
   "file_extension": ".py",
   "mimetype": "text/x-python",
   "name": "python",
   "nbconvert_exporter": "python",
   "pygments_lexer": "ipython3",
   "version": "3.12.3"
  }
 },
 "nbformat": 4,
 "nbformat_minor": 2
}
