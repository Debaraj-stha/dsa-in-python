{
 "cells": [
  {
   "cell_type": "code",
   "execution_count": 12,
   "metadata": {},
   "outputs": [
    {
     "name": "stdout",
     "output_type": "stream",
     "text": [
      "3\n"
     ]
    }
   ],
   "source": [
    "from collections import deque\n",
    "\n",
    "def jump_game_ii(arr):\n",
    "    n = len(arr)\n",
    "    if n <= 1:\n",
    "        return 0  \n",
    "\n",
    "    queue = deque([(0, 0)])  \n",
    "    visited = set([0])\n",
    "\n",
    "    while queue:\n",
    "        index, steps = queue.popleft()\n",
    "        for i in range(index + 1, min(index + arr[index] + 1, n)):\n",
    "            if i == n - 1: \n",
    "                return steps + 1\n",
    "            if i not in visited:\n",
    "                queue.append((i, steps + 1))\n",
    "                visited.add(i)  \n",
    "\n",
    "    return -1 \n",
    "arr = [1, 2, 2, 3, 1, 4]\n",
    "print(jump_game_ii(arr))  # Output: 3\n"
   ]
  },
  {
   "cell_type": "code",
   "execution_count": 13,
   "metadata": {},
   "outputs": [
    {
     "name": "stdout",
     "output_type": "stream",
     "text": [
      "2\n"
     ]
    }
   ],
   "source": [
    "arr = [1, 2, 2, 3, 1, 4]\n",
    "def jump_game_ii(arr):\n",
    "    n = len(arr)\n",
    "    if n<=1:\n",
    "        return 0\n",
    "    queue=deque([(0,0)])\n",
    "    while queue:\n",
    "        index,steps=queue.popleft()\n",
    "        for i in range(index+1,min(index+arr[index]+1,n)):\n",
    "            if i==n-1:\n",
    "                return steps+1\n",
    "            queue.append((i,steps+1))\n",
    "\n",
    "    return -1\n",
    "\n",
    "\n",
    "arr = [2,3,1,1,4]\n",
    "print(jump_game_ii(arr))  # Output: 2\n"
   ]
  }
 ],
 "metadata": {
  "kernelspec": {
   "display_name": "env",
   "language": "python",
   "name": "python3"
  },
  "language_info": {
   "codemirror_mode": {
    "name": "ipython",
    "version": 3
   },
   "file_extension": ".py",
   "mimetype": "text/x-python",
   "name": "python",
   "nbconvert_exporter": "python",
   "pygments_lexer": "ipython3",
   "version": "3.12.3"
  }
 },
 "nbformat": 4,
 "nbformat_minor": 2
}
