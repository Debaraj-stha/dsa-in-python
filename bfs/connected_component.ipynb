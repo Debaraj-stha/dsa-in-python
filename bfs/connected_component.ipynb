{
 "cells": [
  {
   "cell_type": "code",
   "execution_count": 56,
   "metadata": {},
   "outputs": [
    {
     "name": "stdout",
     "output_type": "stream",
     "text": [
      "[{1, 2, 3, 4, 5}, {6}]\n"
     ]
    }
   ],
   "source": [
    "from collections import deque\n",
    "def get_all_connected_groups(graph):\n",
    "    groups=[]\n",
    "    visited = set()\n",
    "\n",
    "    for node in graph:\n",
    "        if node not in visited:\n",
    "            components=get_connected_group(graph,node,visited)\n",
    "            groups.append(components)\n",
    "    return groups\n",
    "\n",
    "def get_connected_group(graph,start,visited):\n",
    "    queqe=deque([start])\n",
    "    group=set()\n",
    "    while queqe:\n",
    "        node=queqe.popleft()\n",
    "        if node not in visited:\n",
    "            visited.add(node)\n",
    "            group.add(node)\n",
    "            for neighbor in graph[node]:\n",
    "                queqe.append(neighbor)\n",
    "    return group\n",
    "\n",
    "\n",
    "graph = {\n",
    "    1: {2, 3},\n",
    "    2: {1, 4},\n",
    "    3: {1, 4},\n",
    "    4: {2, 3, 5},\n",
    "    5: {4},\n",
    "    6: {3}\n",
    "}\n",
    "\n",
    "components = get_all_connected_groups(graph)\n",
    "print(components)  # Expected output: [[1, 2, 3, 4, 5], [6]]\n"
   ]
  },
  {
   "cell_type": "code",
   "execution_count": 59,
   "metadata": {},
   "outputs": [
    {
     "name": "stdout",
     "output_type": "stream",
     "text": [
      "[[1, 2, 3, 4, 5], [6]]\n"
     ]
    }
   ],
   "source": [
    "def connected_component(graph):\n",
    "    groups=[]\n",
    "    visited=set()\n",
    "    for node in graph:\n",
    "        if node not in visited:\n",
    "            component=[]\n",
    "            queue=deque([node])\n",
    "            while queue:\n",
    "                node=queue.popleft()\n",
    "                if node not in visited:\n",
    "                    visited.add(node)\n",
    "                    component.append(node)\n",
    "                    for neighbor in graph[node]:\n",
    "                        queue.append(neighbor)\n",
    "            groups.append(component)\n",
    "    return groups\n",
    "\n",
    "graph = {\n",
    "    1: {2, 3},\n",
    "    2: {1, 4},\n",
    "    3: {1, 4},\n",
    "    4: {2, 3, 5},\n",
    "    5: {4},\n",
    "    6: {3}\n",
    "}\n",
    "\n",
    "components = connected_component(graph)\n",
    "print(components)  # Expected output: [[1, 2, 3, 4, 5], [6]]"
   ]
  }
 ],
 "metadata": {
  "kernelspec": {
   "display_name": "env",
   "language": "python",
   "name": "python3"
  },
  "language_info": {
   "codemirror_mode": {
    "name": "ipython",
    "version": 3
   },
   "file_extension": ".py",
   "mimetype": "text/x-python",
   "name": "python",
   "nbconvert_exporter": "python",
   "pygments_lexer": "ipython3",
   "version": "3.12.3"
  }
 },
 "nbformat": 4,
 "nbformat_minor": 2
}
