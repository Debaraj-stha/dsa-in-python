{
 "cells": [
  {
   "cell_type": "code",
   "execution_count": 11,
   "metadata": {},
   "outputs": [
    {
     "name": "stdout",
     "output_type": "stream",
     "text": [
      "6\n"
     ]
    }
   ],
   "source": [
    "from collections import deque\n",
    "\n",
    "def open_lock(deadends, target):\n",
    "    visited = set()\n",
    "    queue = deque([('0000', 0)])  \n",
    "    visited.add(\"0000\")\n",
    "    \n",
    "    while queue:\n",
    "        lock, steps = queue.popleft()\n",
    "        \n",
    "        if lock == target:\n",
    "            return steps\n",
    "        \n",
    "        if lock in deadends:\n",
    "            continue\n",
    "        \n",
    "       \n",
    "        for i in range(4):\n",
    "            charAt = lock[i]\n",
    "            # Generate the next possible lock states by turning the dial up (+1) or down (-1)\n",
    "            new_char1 = lock[:i] + str((int(charAt) + 1) % 10) + lock[i+1:]\n",
    "            new_char2 = lock[:i] + str((int(charAt) - 1) % 10) + lock[i+1:]\n",
    "            \n",
    "            if new_char1 not in visited and new_char1 not in deadends:\n",
    "                queue.append((new_char1, steps + 1))\n",
    "                visited.add(new_char1)\n",
    "            \n",
    "            if new_char2 not in visited and new_char2 not in deadends:\n",
    "                queue.append((new_char2, steps + 1))\n",
    "                visited.add(new_char2)\n",
    "    \n",
    "    return -1 \n",
    "\n",
    "deadends = [\"0201\", \"0101\", \"0102\", \"1212\", \"2002\"]\n",
    "target = \"0202\"\n",
    "print(open_lock(deadends, target)) \n"
   ]
  },
  {
   "cell_type": "code",
   "execution_count": 16,
   "metadata": {},
   "outputs": [
    {
     "data": {
      "text/plain": [
       "9"
      ]
     },
     "execution_count": 16,
     "metadata": {},
     "output_type": "execute_result"
    }
   ],
   "source": [
    "-1%10"
   ]
  },
  {
   "cell_type": "code",
   "execution_count": null,
   "metadata": {},
   "outputs": [],
   "source": [
    "maze = [\n",
    "    [0, 0, 1, 0, 0],\n",
    "    [1, 0, 1, 0, 1],\n",
    "    [0, 0, 0, 0, 0],\n",
    "    [0, 1, 1, 1, 0],\n",
    "    [0, 0, 0, 1, 0]\n",
    "]"
   ]
  }
 ],
 "metadata": {
  "kernelspec": {
   "display_name": "env",
   "language": "python",
   "name": "python3"
  },
  "language_info": {
   "codemirror_mode": {
    "name": "ipython",
    "version": 3
   },
   "file_extension": ".py",
   "mimetype": "text/x-python",
   "name": "python",
   "nbconvert_exporter": "python",
   "pygments_lexer": "ipython3",
   "version": "3.12.3"
  }
 },
 "nbformat": 4,
 "nbformat_minor": 2
}
