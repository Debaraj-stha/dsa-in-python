{
 "cells": [
  {
   "cell_type": "code",
   "execution_count": 3,
   "metadata": {},
   "outputs": [],
   "source": [
    "from collections import  deque\n"
   ]
  },
  {
   "cell_type": "code",
   "execution_count": 11,
   "metadata": {},
   "outputs": [
    {
     "data": {
      "text/plain": [
       "[(0, 0), (0, 1), (0, 2), (1, 2), (2, 1), (2, 2)]"
      ]
     },
     "execution_count": 11,
     "metadata": {},
     "output_type": "execute_result"
    }
   ],
   "source": [
    "def pacific_atlantic(grid):\n",
    "    rows,cols=len(grid),len(grid[0])\n",
    "    pacific_visited=[[False]*rows for _ in range(rows)]\n",
    "    atlantic_visited=[[False]*cols for _ in range(cols)]\n",
    "    dr=[1,0,0,-1]\n",
    "    dc=[0,-1,1,0]\n",
    "    def bfs(start,visited):\n",
    "        queue=deque(start)\n",
    "        while queue:\n",
    "            r,c=queue.popleft()\n",
    "            for i in range(4):\n",
    "                nr,nc=r+dr[i],c+dc[i]\n",
    "                if 0<=nr<rows and 0<=nc<cols and not visited[nr][nc] and grid[nr][nc]<=grid[r][c]:\n",
    "                    visited[nr][nc]=True\n",
    "                    queue.append((nr,nc))\n",
    "\n",
    "    \n",
    "    pacific_start=[(i,0) for i in range(rows)]+[(0,j) for j in range(cols)]\n",
    "    bfs(pacific_start,pacific_visited)\n",
    "    atlantic_start = [(i, cols-1) for i in range(rows)] + [(rows-1, j) for j in range(cols)]\n",
    "    bfs(atlantic_start,atlantic_visited)\n",
    "    result=[]\n",
    "    for i in range(rows):\n",
    "        for j in range(cols):\n",
    "            if pacific_visited[i][j] and atlantic_visited[i][j]:\n",
    "                result.append((i,j))\n",
    "    return result\n",
    "\n",
    "\n",
    "\n",
    "matrix = [\n",
    "  [1, 2, 3],\n",
    "  [8, 9, 4],\n",
    "  [7, 6, 5]\n",
    "]\n",
    "pacific_atlantic(matrix)\n",
    "\n"
   ]
  }
 ],
 "metadata": {
  "kernelspec": {
   "display_name": "env",
   "language": "python",
   "name": "python3"
  },
  "language_info": {
   "codemirror_mode": {
    "name": "ipython",
    "version": 3
   },
   "file_extension": ".py",
   "mimetype": "text/x-python",
   "name": "python",
   "nbconvert_exporter": "python",
   "pygments_lexer": "ipython3",
   "version": "3.12.3"
  }
 },
 "nbformat": 4,
 "nbformat_minor": 2
}
