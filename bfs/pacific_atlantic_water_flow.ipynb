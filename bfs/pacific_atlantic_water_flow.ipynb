{
 "cells": [
  {
   "cell_type": "code",
   "execution_count": 61,
   "metadata": {},
   "outputs": [
    {
     "name": "stdout",
     "output_type": "stream",
     "text": [
      "[[0, 4], [1, 3], [1, 4], [2, 2], [2, 3], [3, 0], [3, 1], [3, 3], [3, 4], [4, 0]]\n",
      "[[0, 2], [1, 2], [2, 0], [2, 1], [2, 2]]\n",
      "[[0, 0], [0, 1], [1, 0], [1, 1], [2, 0], [2, 1]]\n"
     ]
    },
    {
     "data": {
      "text/plain": [
       "[[0, 2], [1, 0], [1, 1], [1, 2], [2, 0], [2, 1], [2, 2]]"
      ]
     },
     "execution_count": 61,
     "metadata": {},
     "output_type": "execute_result"
    }
   ],
   "source": [
    "from collections import deque\n",
    "\n",
    "def pacific_atlantic_water_flow(heights):\n",
    "    \"\"\"\n",
    "    Finds the cells in a grid that can reach both the Pacific and Atlantic oceans.\n",
    "\n",
    "    Args:\n",
    "        heights: A 2D list of integers representing the heights of cells in the grid.\n",
    "\n",
    "    Returns:\n",
    "        A list of lists of integers representing the coordinates of cells that can reach both oceans.\n",
    "    \"\"\"\n",
    "\n",
    "    if not heights or not heights[0]:\n",
    "        return []\n",
    "\n",
    "    rows = len(heights)\n",
    "    cols = len(heights[0])\n",
    "\n",
    "    pacific_reachable = [[False] * cols for _ in range(rows)]\n",
    "    atlantic_reachable = [[False] * cols for _ in range(rows)]\n",
    "\n",
    "    def bfs(reachable, starts):\n",
    "        queue = deque(starts)\n",
    "        while queue:\n",
    "            r, c = queue.popleft()\n",
    "            reachable[r][c] = True\n",
    "\n",
    "            for dr, dc in [(0, 1), (0, -1), (1, 0), (-1, 0)]:\n",
    "                nr, nc = r + dr, c + dc\n",
    "                if 0 <= nr < rows and 0 <= nc < cols and not reachable[nr][nc] and heights[nr][nc] >= heights[r][c]:\n",
    "                    queue.append((nr, nc))\n",
    "\n",
    "    for r in range(rows):\n",
    "        bfs(pacific_reachable, [(r, 0)])  # Left edge (Pacific)\n",
    "        bfs(atlantic_reachable, [(r, cols - 1)])  # Right edge (Atlantic)\n",
    "\n",
    "    for c in range(cols):\n",
    "        bfs(pacific_reachable, [(0, c)])  # Top edge (Pacific)\n",
    "        bfs(atlantic_reachable, [(rows - 1, c)])  # Bottom edge (Atlantic)\n",
    "    result = []\n",
    "    for r in range(rows):\n",
    "        for c in range(cols):\n",
    "            if pacific_reachable[r][c] and atlantic_reachable[r][c]:\n",
    "                result.append([r, c])\n",
    "\n",
    "    return result\n",
    "\n",
    "heights = [\n",
    "    [1, 2, 2, 3, 5],\n",
    "    [3, 2, 3, 4, 4],\n",
    "    [2, 4, 5, 4, 3],\n",
    "    [6, 7, 1, 4, 5],\n",
    "    [5, 1, 1, 2, 4]\n",
    "]\n",
    "\n",
    "result = pacific_atlantic_water_flow(heights)\n",
    "print(result)  # Output: [[0, 4], [1, 3], [1, 4], [2, 2], [3, 0], [3, 1], [4, 0]]\n",
    "\n",
    "\n",
    "heights2 = [[1,2,3],[4,5,6],[7,8,9]]\n",
    "result2 = pacific_atlantic_water_flow(heights2)\n",
    "print(result2) # Output: [[0, 2], [1, 2], [2, 0], [2, 1], [2, 2]]\n",
    "\n",
    "heights3 = [[1,1],[1,1],[1,1]]\n",
    "result3 = pacific_atlantic_water_flow(heights3)\n",
    "print(result3) # Output: [[0, 0], [0, 1], [1, 0], [1, 1], [2, 0], [2, 1]]\n",
    "matrix = [\n",
    "  [1, 2, 3],\n",
    "  [8, 9, 4],\n",
    "  [7, 6, 5]\n",
    "]\n",
    "pacific_atlantic_water_flow(matrix)"
   ]
  }
 ],
 "metadata": {
  "kernelspec": {
   "display_name": "env",
   "language": "python",
   "name": "python3"
  },
  "language_info": {
   "codemirror_mode": {
    "name": "ipython",
    "version": 3
   },
   "file_extension": ".py",
   "mimetype": "text/x-python",
   "name": "python",
   "nbconvert_exporter": "python",
   "pygments_lexer": "ipython3",
   "version": "3.12.3"
  }
 },
 "nbformat": 4,
 "nbformat_minor": 2
}
