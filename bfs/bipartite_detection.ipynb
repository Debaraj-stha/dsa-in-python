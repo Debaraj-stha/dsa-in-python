{
 "cells": [
  {
   "cell_type": "code",
   "execution_count": 2,
   "metadata": {},
   "outputs": [],
   "source": [
    "from collections import deque,defaultdict"
   ]
  },
  {
   "cell_type": "code",
   "execution_count": 6,
   "metadata": {},
   "outputs": [
    {
     "name": "stdout",
     "output_type": "stream",
     "text": [
      "True\n",
      "False\n"
     ]
    }
   ],
   "source": [
    "def is_bipartite(graph):\n",
    "    colors={}\n",
    "    for node in graph:\n",
    "        if node not in colors:\n",
    "            colors[node]=0\n",
    "            quuue=deque([node])\n",
    "            while quuue:\n",
    "                current=quuue.popleft()\n",
    "                for neighbor in graph[current]:\n",
    "                    if neighbor not in colors:\n",
    "                        colors[neighbor]=1-colors[current]\n",
    "                        quuue.append(neighbor)\n",
    "                    elif colors[neighbor]==colors[current]:\n",
    "                        return False\n",
    "    return True\n",
    "graph = {\n",
    "    0: [1, 3],\n",
    "    1: [0, 2],\n",
    "    2: [1, 3],\n",
    "    3: [0, 2]\n",
    "}\n",
    "print(is_bipartite(graph) )\n",
    "graph_non_bipartite = {\n",
    "    0: [1, 2],\n",
    "    1: [0, 2],\n",
    "    2: [0, 1]\n",
    "}\n",
    "\n",
    "print(is_bipartite(graph_non_bipartite)) \n"
   ]
  }
 ],
 "metadata": {
  "kernelspec": {
   "display_name": "env",
   "language": "python",
   "name": "python3"
  },
  "language_info": {
   "codemirror_mode": {
    "name": "ipython",
    "version": 3
   },
   "file_extension": ".py",
   "mimetype": "text/x-python",
   "name": "python",
   "nbconvert_exporter": "python",
   "pygments_lexer": "ipython3",
   "version": "3.12.3"
  }
 },
 "nbformat": 4,
 "nbformat_minor": 2
}
