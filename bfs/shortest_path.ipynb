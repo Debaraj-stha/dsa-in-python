{
 "cells": [
  {
   "cell_type": "code",
   "execution_count": 2,
   "metadata": {},
   "outputs": [],
   "source": [
    "from collections import deque,defaultdict"
   ]
  },
  {
   "cell_type": "code",
   "execution_count": 3,
   "metadata": {},
   "outputs": [
    {
     "name": "stdout",
     "output_type": "stream",
     "text": [
      "['A', 'C', 'G']\n"
     ]
    }
   ],
   "source": [
    "\n",
    "def shortest_path(graph, start, end):\n",
    "    queue = deque([[start]])\n",
    "    visited = set()\n",
    "    while queue:\n",
    "        path = queue.popleft()\n",
    "        node = path[-1]\n",
    "        if node in visited:\n",
    "            continue\n",
    "        visited.add(node)\n",
    "        if node == end:\n",
    "            return path\n",
    "\n",
    "        for neighbor in graph[node]:\n",
    "            new_path = list(path)\n",
    "            new_path.append(neighbor)\n",
    "            queue.append(new_path)\n",
    "\n",
    "    return None\n",
    "graph = {\n",
    "    'A': ['B', 'C'],\n",
    "    'B': ['A', 'D', 'E'],\n",
    "    'C': ['A', 'F', 'G'],\n",
    "    'D': ['B'],\n",
    "    'E': ['B'],\n",
    "    'F': ['C'],\n",
    "    'G': ['C']\n",
    "}\n",
    "print(shortest_path(graph,\"A\",\"G\"))"
   ]
  },
  {
   "cell_type": "code",
   "execution_count": null,
   "metadata": {},
   "outputs": [],
   "source": []
  }
 ],
 "metadata": {
  "kernelspec": {
   "display_name": "env",
   "language": "python",
   "name": "python3"
  },
  "language_info": {
   "codemirror_mode": {
    "name": "ipython",
    "version": 3
   },
   "file_extension": ".py",
   "mimetype": "text/x-python",
   "name": "python",
   "nbconvert_exporter": "python",
   "pygments_lexer": "ipython3",
   "version": "3.12.3"
  }
 },
 "nbformat": 4,
 "nbformat_minor": 2
}
