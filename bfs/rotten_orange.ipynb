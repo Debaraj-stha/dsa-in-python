{
 "cells": [
  {
   "cell_type": "code",
   "execution_count": 9,
   "metadata": {},
   "outputs": [],
   "source": [
    "from collections import deque"
   ]
  },
  {
   "cell_type": "code",
   "execution_count": 33,
   "metadata": {},
   "outputs": [
    {
     "name": "stdout",
     "output_type": "stream",
     "text": [
      "4\n"
     ]
    }
   ],
   "source": [
    "\n",
    "dr = [1, 0, 0, -1]\n",
    "dc = [0, -1, 1, 0]\n",
    "def is_valid(rows,cols,row,col,grid):\n",
    "    return row>=0 and row<rows and col>=0 and col<cols and grid[row][col]==1\n",
    "def rotten_orange(grid):\n",
    "    rows,cols=len(grid),len(grid[0])\n",
    "   \n",
    "    \n",
    "    time=0\n",
    "    fresh_count=0\n",
    "    queue=deque()\n",
    "    for i in range(rows):\n",
    "        for j in range(cols):\n",
    "            if grid[i][j] == 2:\n",
    "                queue.append((i, j))\n",
    "            elif grid[i][j] == 1:\n",
    "                fresh_count += 1\n",
    "\n",
    "    def bfs():\n",
    "        nonlocal time, fresh_count\n",
    "        while queue:\n",
    "            size = len(queue)\n",
    "            changed = False\n",
    "            for _ in range(size):\n",
    "                r, c = queue.popleft()\n",
    "                for k in range(4):\n",
    "                    nr, nc = r + dr[k], c + dc[k]\n",
    "                    if is_valid(rows, cols, nr, nc, grid):\n",
    "                        grid[nr][nc] = 2\n",
    "                        fresh_count -= 1\n",
    "                        queue.append((nr, nc))\n",
    "                        changed = True \n",
    "            if changed:\n",
    "                time += 1\n",
    "    bfs()\n",
    "    \n",
    "    return time if fresh_count == 0 else -1 \n",
    "grid = [\n",
    "    [2, 1, 1],\n",
    "    [1, 1, 0],\n",
    "    [0, 1, 1]\n",
    "]\n",
    "print(rotten_orange(grid))  # Output: 4\n"
   ]
  }
 ],
 "metadata": {
  "kernelspec": {
   "display_name": "env",
   "language": "python",
   "name": "python3"
  },
  "language_info": {
   "codemirror_mode": {
    "name": "ipython",
    "version": 3
   },
   "file_extension": ".py",
   "mimetype": "text/x-python",
   "name": "python",
   "nbconvert_exporter": "python",
   "pygments_lexer": "ipython3",
   "version": "3.12.3"
  }
 },
 "nbformat": 4,
 "nbformat_minor": 2
}
