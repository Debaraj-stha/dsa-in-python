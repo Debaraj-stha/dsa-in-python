{
 "cells": [
  {
   "cell_type": "code",
   "execution_count": null,
   "metadata": {},
   "outputs": [],
   "source": [
    "from collections import deque,defaultdict\n",
    "import math"
   ]
  },
  {
   "cell_type": "code",
   "execution_count": 21,
   "metadata": {},
   "outputs": [
    {
     "name": "stdout",
     "output_type": "stream",
     "text": [
      "n= 10 power= 8 2 18\n",
      "n= 2 power= 2 0 4\n"
     ]
    },
    {
     "data": {
      "text/plain": [
       "2"
      ]
     },
     "execution_count": 21,
     "metadata": {},
     "output_type": "execute_result"
    }
   ],
   "source": [
    "def minimum_step(n):\n",
    "    steps=0\n",
    "    while n!=0:\n",
    "        power=2**int(math.log2(abs(n)))\n",
    "        print(\"n=\",n,\"power=\",power,abs(n-power),abs(n+power))\n",
    "        if abs(n-power)<abs(n+power):\n",
    "            n-=power\n",
    "        else:\n",
    "            n+=power\n",
    "        steps+=1\n",
    "    return steps\n",
    "\n",
    "\n",
    "minimum_step(10)\n",
    "# int(math.log2(3))\n",
    "\n"
   ]
  }
 ],
 "metadata": {
  "kernelspec": {
   "display_name": "env",
   "language": "python",
   "name": "python3"
  },
  "language_info": {
   "codemirror_mode": {
    "name": "ipython",
    "version": 3
   },
   "file_extension": ".py",
   "mimetype": "text/x-python",
   "name": "python",
   "nbconvert_exporter": "python",
   "pygments_lexer": "ipython3",
   "version": "3.12.3"
  }
 },
 "nbformat": 4,
 "nbformat_minor": 2
}
