{
 "cells": [
  {
   "cell_type": "code",
   "execution_count": 7,
   "metadata": {},
   "outputs": [
    {
     "name": "stdout",
     "output_type": "stream",
     "text": [
      "(1, 2, 3, 4, 0, 5)\n",
      "1\n"
     ]
    }
   ],
   "source": [
    "from collections import deque\n",
    "\n",
    "def sliding_puzzle(board):\n",
    "    goal = tuple([1, 2, 3, 4, 5, 0])\n",
    "    initial = tuple(sum(board, []))\n",
    "    print(initial)\n",
    "    \n",
    "    if initial == goal:\n",
    "        return 0\n",
    "    directions = [(-1, 0), (1, 0), (0, -1), (0, 1)]\n",
    "    def get_neighbors(state):\n",
    "        zero_pos = state.index(0)\n",
    "        row, col = divmod(zero_pos, 3)\n",
    "        neighbors = []\n",
    "        \n",
    "        for dr, dc in directions:\n",
    "            nr, nc = row + dr, col + dc\n",
    "            if 0 <= nr < 2 and 0 <= nc < 3:\n",
    "                new_zero_pos = nr * 3 + nc\n",
    "                new_state = list(state)\n",
    "                new_state[zero_pos], new_state[new_zero_pos] = new_state[new_zero_pos], new_state[zero_pos]\n",
    "                neighbors.append(tuple(new_state))\n",
    "        return neighbors\n",
    "    \n",
    "    queue = deque([(initial, 0)]) \n",
    "    visited = set([initial]) \n",
    "    \n",
    "    while queue:\n",
    "        state, moves = queue.popleft()\n",
    "        for neighbor in get_neighbors(state):\n",
    "            if neighbor == goal:\n",
    "                return moves + 1\n",
    "            if neighbor not in visited:\n",
    "                visited.add(neighbor)\n",
    "                queue.append((neighbor, moves + 1))\n",
    "    \n",
    "    return -1  # No solution\n",
    "\n",
    "\n",
    "board = [[1, 2, 3], [4, 0, 5]]\n",
    "print(sliding_puzzle(board)) \n"
   ]
  },
  {
   "cell_type": "code",
   "execution_count": 8,
   "metadata": {},
   "outputs": [
    {
     "name": "stdout",
     "output_type": "stream",
     "text": [
      "[1, 3, 2]\n"
     ]
    }
   ],
   "source": []
  }
 ],
 "metadata": {
  "kernelspec": {
   "display_name": "env",
   "language": "python",
   "name": "python3"
  },
  "language_info": {
   "codemirror_mode": {
    "name": "ipython",
    "version": 3
   },
   "file_extension": ".py",
   "mimetype": "text/x-python",
   "name": "python",
   "nbconvert_exporter": "python",
   "pygments_lexer": "ipython3",
   "version": "3.12.3"
  }
 },
 "nbformat": 4,
 "nbformat_minor": 2
}
