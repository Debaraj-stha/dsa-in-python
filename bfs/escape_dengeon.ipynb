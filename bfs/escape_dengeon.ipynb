{
 "cells": [
  {
   "cell_type": "code",
   "execution_count": 37,
   "metadata": {},
   "outputs": [
    {
     "name": "stdout",
     "output_type": "stream",
     "text": [
      "-1\n"
     ]
    }
   ],
   "source": [
    "from collections import deque\n",
    "\n",
    "def escape_dungeon(grid):\n",
    "    rows, cols = len(grid), len(grid[0])\n",
    "    start = None\n",
    "    total_keys = 0\n",
    "    visited = set()\n",
    "    queue = deque()\n",
    "\n",
    "    for i in range(rows):\n",
    "        for j in range(cols):\n",
    "            if grid[i][j] == \"@\":\n",
    "                start = (i, j)\n",
    "            elif 'a' <= grid[i][j] <= 'z':\n",
    "                total_keys |= (1 << (ord(grid[i][j]) - ord('a')))\n",
    "\n",
    "    queue.append((*start, total_keys, 0))\n",
    "    visited.add((*start, total_keys))\n",
    "\n",
    "    dr = [1, 0, 0, -1]\n",
    "    dc = [0, -1, 1, 0]\n",
    "\n",
    "    while queue:\n",
    "        row, col, keys, steps = queue.popleft()\n",
    "\n",
    "        if grid[row][col] == \"E\":\n",
    "            return steps\n",
    "\n",
    "        for i in range(4):\n",
    "            nr, nc = row + dr[i], col + dc[i]\n",
    "\n",
    "            if 0 <= nr < rows and 0 <= nc < cols and grid[nr][nc] != \"#\":\n",
    "                cell = grid[nr][nc]\n",
    "                new_keys = keys\n",
    "\n",
    "                if 'a' <= cell <= 'z':\n",
    "                    new_keys |= (1 << (ord(cell) - ord('a')))\n",
    "\n",
    "                if 'A' <= cell <= 'Z' and not (new_keys & (1 << (ord(cell) - ord('A')))):\n",
    "                    continue\n",
    "\n",
    "                if (nr, nc, keys) not in visited:  \n",
    "                    visited.add((nr, nc, keys))\n",
    "                    queue.append((nr, nc, new_keys, steps + 1))\n",
    "\n",
    "    return -1\n",
    "\n",
    "# Test Case\n",
    "grid = [\n",
    "    [\"@\", \".\", \".\", \"#\", \"b\", \"B\"],\n",
    "    [\".\", \"#\", \".\", \".\", \".\", \".\"],\n",
    "    [\".\", \"#\", \"a\", \".\", \"#\", \".\"],\n",
    "    [\".\", \".\", \".\", \"A\", \".\", \"E\"]\n",
    "]\n",
    "\n",
    "print(escape_dungeon(grid))  # Output: 7"
   ]
  }
 ],
 "metadata": {
  "kernelspec": {
   "display_name": "env",
   "language": "python",
   "name": "python3"
  },
  "language_info": {
   "codemirror_mode": {
    "name": "ipython",
    "version": 3
   },
   "file_extension": ".py",
   "mimetype": "text/x-python",
   "name": "python",
   "nbconvert_exporter": "python",
   "pygments_lexer": "ipython3",
   "version": "3.12.3"
  }
 },
 "nbformat": 4,
 "nbformat_minor": 2
}
