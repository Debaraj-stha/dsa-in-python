{
 "cells": [
  {
   "cell_type": "code",
   "execution_count": 25,
   "metadata": {},
   "outputs": [
    {
     "name": "stdout",
     "output_type": "stream",
     "text": [
      "True\n"
     ]
    }
   ],
   "source": [
    "from collections import defaultdict, deque\n",
    "\n",
    "def detect_cycle(graph):\n",
    "    visited = set()\n",
    "    for start_node in graph:\n",
    "        if start_node not in visited:\n",
    "             queue=deque([(start_node,None)])\n",
    "             visited.add(start_node)\n",
    "             while queue:\n",
    "                node,parent=queue.popleft()\n",
    "                for neighbor in graph[node]:\n",
    "                    if neighbor not in visited:\n",
    "                        visited.add(neighbor)\n",
    "                        queue.append((neighbor, node))  \n",
    "                    elif neighbor!=parent:\n",
    "                        return True\n",
    "    return False\n",
    "\n",
    "\n",
    "graph = {\n",
    "0:[1,2],\n",
    "1:[0,2],\n",
    "2:[0,1]\n",
    "}\n",
    "\n",
    "print(detect_cycle(graph))  # Expected output: True\n"
   ]
  }
 ],
 "metadata": {
  "kernelspec": {
   "display_name": "env",
   "language": "python",
   "name": "python3"
  },
  "language_info": {
   "codemirror_mode": {
    "name": "ipython",
    "version": 3
   },
   "file_extension": ".py",
   "mimetype": "text/x-python",
   "name": "python",
   "nbconvert_exporter": "python",
   "pygments_lexer": "ipython3",
   "version": "3.12.3"
  }
 },
 "nbformat": 4,
 "nbformat_minor": 2
}
