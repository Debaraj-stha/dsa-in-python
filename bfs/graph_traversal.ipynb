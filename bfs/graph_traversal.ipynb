{
 "cells": [
  {
   "cell_type": "code",
   "execution_count": 2,
   "metadata": {},
   "outputs": [],
   "source": [
    "from collections import  deque"
   ]
  },
  {
   "cell_type": "code",
   "execution_count": 17,
   "metadata": {},
   "outputs": [
    {
     "name": "stdout",
     "output_type": "stream",
     "text": [
      "1 2 3 4 5 6 "
     ]
    }
   ],
   "source": [
    "def traverse(graph):\n",
    "   visited=set()\n",
    "   for node in graph:\n",
    "        if node not in visited:\n",
    "            queue=deque([node])\n",
    "            while queue:\n",
    "                current_node=queue.popleft()\n",
    "                if current_node not in visited:\n",
    "                    visited.add(current_node)\n",
    "                    print(current_node, end=' ')\n",
    "                    for neighbor in graph[current_node]:\n",
    "                        if neighbor not in visited:\n",
    "                            queue.append(neighbor)\n",
    "                    \n",
    "\n",
    "    \n",
    "\n",
    "graph = {\n",
    "    1: {2, 3},\n",
    "    2: {1, 4},\n",
    "    3: {1, 4},\n",
    "    4: {2, 3, 5},\n",
    "    5: {4},\n",
    "    6: {3}\n",
    "}\n",
    "start=1\n",
    "traverse(graph)"
   ]
  }
 ],
 "metadata": {
  "kernelspec": {
   "display_name": "env",
   "language": "python",
   "name": "python3"
  },
  "language_info": {
   "codemirror_mode": {
    "name": "ipython",
    "version": 3
   },
   "file_extension": ".py",
   "mimetype": "text/x-python",
   "name": "python",
   "nbconvert_exporter": "python",
   "pygments_lexer": "ipython3",
   "version": "3.12.3"
  }
 },
 "nbformat": 4,
 "nbformat_minor": 2
}
