{
 "cells": [
  {
   "cell_type": "code",
   "execution_count": 8,
   "metadata": {},
   "outputs": [
    {
     "name": "stdout",
     "output_type": "stream",
     "text": [
      "deque([<__main__.Node object at 0x7864795524e0>])\n",
      "A deque([<__main__.Node object at 0x786479f2d100>, <__main__.Node object at 0x786479f2eb10>])\n",
      "C B deque([<__main__.Node object at 0x78647a9f6ba0>, <__main__.Node object at 0x78647a9f67b0>, <__main__.Node object at 0x78647a9f70b0>])\n",
      "D E F deque([<__main__.Node object at 0x78647a9f68a0>, <__main__.Node object at 0x78647a9f6b10>])\n",
      "H G "
     ]
    },
    {
     "data": {
      "text/plain": [
       "['A', 'C', 'B', 'D', 'E', 'F', 'H', 'G']"
      ]
     },
     "execution_count": 8,
     "metadata": {},
     "output_type": "execute_result"
    }
   ],
   "source": [
    "from collections import deque\n",
    "\n",
    "class Node:\n",
    "    def __init__(self, data):\n",
    "        self.data = data\n",
    "        self.left = None\n",
    "        self.right = None\n",
    "\n",
    "def zigzag_level_order(root):\n",
    "    if root is None:\n",
    "        return\n",
    "\n",
    "    result = [] \n",
    "    queue = deque([root])\n",
    "    level = 0\n",
    "\n",
    "    while queue:\n",
    "        level_nodes = []\n",
    "        level_size = len(queue)  \n",
    "        for _ in range(level_size):\n",
    "            node = queue.popleft()  #\n",
    "            level_nodes.append(node.data)\n",
    "\n",
    "            if node.left:\n",
    "                queue.append(node.left)\n",
    "            if node.right:\n",
    "                queue.append(node.right)\n",
    "\n",
    "        if level % 2 == 1: \n",
    "            level_nodes.reverse()\n",
    "\n",
    "        result.extend(level_nodes)\n",
    "\n",
    "        print(*level_nodes, end=\" \") \n",
    "\n",
    "        level += 1\n",
    "\n",
    "    return result \n",
    "\n",
    "root = Node('A')\n",
    "root.left = Node('B')\n",
    "root.right = Node('C')\n",
    "root.left.left = Node('D')\n",
    "root.left.right = Node('E')\n",
    "root.right.right = Node('F')\n",
    "root.left.left.left = Node('G')\n",
    "root.left.left.right = Node('H')\n",
    "\n",
    "zigzag_level_order(root)  # Output: A C B D E F H G"
   ]
  }
 ],
 "metadata": {
  "kernelspec": {
   "display_name": "env",
   "language": "python",
   "name": "python3"
  },
  "language_info": {
   "codemirror_mode": {
    "name": "ipython",
    "version": 3
   },
   "file_extension": ".py",
   "mimetype": "text/x-python",
   "name": "python",
   "nbconvert_exporter": "python",
   "pygments_lexer": "ipython3",
   "version": "3.12.3"
  }
 },
 "nbformat": 4,
 "nbformat_minor": 2
}
