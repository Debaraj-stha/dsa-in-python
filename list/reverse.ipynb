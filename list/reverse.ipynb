{
 "cells": [
  {
   "cell_type": "code",
   "execution_count": 9,
   "metadata": {},
   "outputs": [
    {
     "name": "stdout",
     "output_type": "stream",
     "text": [
      "Before creating loop:\n",
      "A -> B -> C -> D -> E -> F -> G -> After reverseing list\n",
      "G -> F -> E -> D -> C -> B -> A -> "
     ]
    }
   ],
   "source": [
    "class Node:\n",
    "    def __init__(self, value=0):\n",
    "        self.value = value\n",
    "        self.next = None\n",
    "\n",
    "def display(head):\n",
    "    visited=set()\n",
    "    while head:\n",
    "        if head in visited:\n",
    "            print(f\"({head.value})\", end=\" -> LOOP DETECTED\")\n",
    "            return\n",
    "        visited.add(head)\n",
    "        print(head.value, end=\" -> \")\n",
    "        head = head.next\n",
    "\n",
    "def reverse(head):\n",
    "    prev=None\n",
    "    curr = head\n",
    "    while curr:\n",
    "            new_node = curr.next\n",
    "            curr.next = prev\n",
    "            prev = curr\n",
    "            curr = new_node\n",
    "    return prev\n",
    "\n",
    "head = Node(\"A\")\n",
    "head.next = Node(\"B\")\n",
    "head.next.next = Node(\"C\")\n",
    "head.next.next.next = Node(\"D\")\n",
    "head.next.next.next.next = Node(\"E\")\n",
    "head.next.next.next.next.next = Node(\"F\")\n",
    "head.next.next.next.next.next.next = Node(\"G\")\n",
    "\n",
    "# Display the initial list\n",
    "print(\"Before creating loop:\")\n",
    "display(head)\n",
    "head1=reverse(head)\n",
    "print(\"After reverseing list\")\n",
    "display(head1)\n"
   ]
  }
 ],
 "metadata": {
  "kernelspec": {
   "display_name": "myenv",
   "language": "python",
   "name": "python3"
  },
  "language_info": {
   "codemirror_mode": {
    "name": "ipython",
    "version": 3
   },
   "file_extension": ".py",
   "mimetype": "text/x-python",
   "name": "python",
   "nbconvert_exporter": "python",
   "pygments_lexer": "ipython3",
   "version": "3.12.3"
  }
 },
 "nbformat": 4,
 "nbformat_minor": 2
}
