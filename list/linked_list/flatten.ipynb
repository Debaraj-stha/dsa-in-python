{
 "cells": [
  {
   "cell_type": "code",
   "execution_count": null,
   "metadata": {},
   "outputs": [
    {
     "name": "stdout",
     "output_type": "stream",
     "text": [
      "9->4->11->99->100->1->9->10->None\n"
     ]
    }
   ],
   "source": [
    "class Node:\n",
    "    def __init__(self, value=0):\n",
    "        self.value = value\n",
    "        self.next = None\n",
    "        self.bottom = None\n",
    "\n",
    "def display(head):\n",
    "    current = head\n",
    "    while current:\n",
    "        print(current.value, end=\"->\")\n",
    "        current = current.bottom  # Use bottom pointer for flattened list\n",
    "    print(\"None\")\n",
    "\n",
    "def flatten(head):\n",
    "    if not head:\n",
    "        return None\n",
    "\n",
    "    dummy = Node(0) \n",
    "    ref = dummy\n",
    "    current = head\n",
    "    while current:\n",
    "        ref.bottom = Node(current.value)\n",
    "        ref = ref.bottom\n",
    "        bottom = current.bottom\n",
    "        while bottom:\n",
    "            ref.bottom = Node(bottom.value) \n",
    "            ref = ref.bottom\n",
    "            bottom = bottom.bottom\n",
    "        current = current.next \n",
    "    return dummy.bottom \n",
    "\n",
    "# Example usage:\n",
    "node = Node(9)\n",
    "node.next = Node(4)\n",
    "node.next.next = Node(1)\n",
    "node.next.next.next = Node(9)\n",
    "node.next.next.next.next = Node(10)\n",
    "node.next.bottom = Node(11)\n",
    "node.next.bottom.bottom = Node(99)\n",
    "node.next.bottom.bottom.bottom = Node(100)  # This node was being ignored\n",
    "\n",
    "head = node\n",
    "flattened_head = flatten(head)\n",
    "display(flattened_head)\n"
   ]
  }
 ],
 "metadata": {
  "kernelspec": {
   "display_name": "myenv",
   "language": "python",
   "name": "python3"
  },
  "language_info": {
   "codemirror_mode": {
    "name": "ipython",
    "version": 3
   },
   "file_extension": ".py",
   "mimetype": "text/x-python",
   "name": "python",
   "nbconvert_exporter": "python",
   "pygments_lexer": "ipython3",
   "version": "3.12.3"
  }
 },
 "nbformat": 4,
 "nbformat_minor": 2
}
