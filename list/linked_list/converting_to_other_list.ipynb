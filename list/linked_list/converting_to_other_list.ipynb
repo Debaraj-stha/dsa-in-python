{
 "cells": [
  {
   "cell_type": "code",
   "execution_count": 16,
   "metadata": {},
   "outputs": [
    {
     "name": "stdout",
     "output_type": "stream",
     "text": [
      "2->3->4->1->9->10->7->6->None\n",
      "2<->3<->4<->1<->9<->10<->7<->6<->"
     ]
    }
   ],
   "source": [
    "class Node:\n",
    "    def __init__(self, value=0):\n",
    "        self.value = value\n",
    "        self.next = None\n",
    "        self.prev = None\n",
    "def display(head):\n",
    "    current=head\n",
    "    while current:\n",
    "        print(current.value, end='->')\n",
    "        current=current.next\n",
    "    print(\"None\")\n",
    "\n",
    "def toCircularLinkedList(head):\n",
    "    if not head:\n",
    "        return\n",
    "    current=head\n",
    "    prev=None\n",
    "    while current:\n",
    "        prev=current\n",
    "        current=current.next\n",
    "    prev.next=head\n",
    "    return head\n",
    "\n",
    "\n",
    "def toDoublyLinkedList(head):\n",
    "    if not head:\n",
    "        return None\n",
    "    current=head\n",
    "    prev=None\n",
    "    first=head\n",
    "    while current:\n",
    "        current.prev = prev  \n",
    "        prev = current  \n",
    "        current = current.next \n",
    "    first.prev=None\n",
    "    return head\n",
    "\n",
    "def toDoublyCircularLinkedList(head):\n",
    "    if not head:\n",
    "        return None\n",
    "    current=head\n",
    "    first=head\n",
    "    prev=None\n",
    "    while current:\n",
    "        current.prev=prev\n",
    "        prev=current\n",
    "        current=current.next\n",
    "    first.prev=prev\n",
    "    prev.next=first\n",
    "    return head\n",
    "\n",
    "node=Node(2)\n",
    "node.next=Node(3)\n",
    "node.next.next=Node(4)\n",
    "node.next.next.next=Node(1)\n",
    "node.next.next.next.next=Node(9)\n",
    "node.next.next.next.next.next=Node(10)\n",
    "node.next.next.next.next.next.next=Node(7)\n",
    "node.next.next.next.next.next.next.next=Node(6)\n",
    "display(node)\n",
    "# toccl=toCircularLinkedList(node)\n",
    "# c=toccl\n",
    "# while True:\n",
    "#     print(c.value, end='->')\n",
    "#     c=c.next\n",
    "#     if c==toccl:\n",
    "#         break\n",
    "# print(\"head\")\n",
    "dll=toDoublyCircularLinkedList(node)\n",
    "c=dll\n",
    "while True:\n",
    "    print(c.value, end='<->')\n",
    "    c=c.next\n",
    "    if c==dll:\n",
    "        break\n",
    "\n"
   ]
  }
 ],
 "metadata": {
  "kernelspec": {
   "display_name": "myenv",
   "language": "python",
   "name": "python3"
  },
  "language_info": {
   "codemirror_mode": {
    "name": "ipython",
    "version": 3
   },
   "file_extension": ".py",
   "mimetype": "text/x-python",
   "name": "python",
   "nbconvert_exporter": "python",
   "pygments_lexer": "ipython3",
   "version": "3.12.3"
  }
 },
 "nbformat": 4,
 "nbformat_minor": 2
}
