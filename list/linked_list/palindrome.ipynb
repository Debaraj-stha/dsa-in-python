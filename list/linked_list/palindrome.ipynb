{
 "cells": [
  {
   "cell_type": "code",
   "execution_count": 21,
   "metadata": {},
   "outputs": [
    {
     "name": "stdout",
     "output_type": "stream",
     "text": [
      "9 4 4 9 10 \n",
      "9 4 4 9 10 \n"
     ]
    }
   ],
   "source": [
    "class Node:\n",
    "    def __init__(self, value=0):\n",
    "        self.value = value\n",
    "        self.next = None\n",
    "def isPalindrome(head):\n",
    "    if not head:\n",
    "        return\n",
    "    origional=head\n",
    "    slow=head\n",
    "    fast=head\n",
    "    while fast and fast.next:\n",
    "        slow=slow.next\n",
    "        fast=fast.next.next\n",
    "    prev=None\n",
    "    while slow:\n",
    "        next_node=slow.next\n",
    "        slow.next=prev\n",
    "        prev=slow\n",
    "        slow=next_node\n",
    "    left,right=head,prev\n",
    "    flag=False\n",
    "    while right:\n",
    "        if left.value!=right.value:\n",
    "            flag=True\n",
    "            break\n",
    "        left=left.next\n",
    "        right=right.next\n",
    "    slow=prev\n",
    "    prev=None\n",
    "    while slow:\n",
    "        next_node=slow.next\n",
    "        slow.next=prev\n",
    "        prev=slow\n",
    "        slow=next_node\n",
    "    head=origional\n",
    "    return flag,head\n",
    "def display(head):\n",
    "    current=head\n",
    "    while current:\n",
    "        print(current.value,end=\" \")\n",
    "        current=current.next\n",
    "    print()\n",
    "head=Node(9)\n",
    "head.next=Node(4)\n",
    "head.next.next=Node(4)\n",
    "head.next.next.next=Node(9)\n",
    "head.next.next.next.next=Node(10)\n",
    "isTrue,nhead=isPalindrome(head)\n",
    "display(nhead)\n",
    "display(nhead)"
   ]
  }
 ],
 "metadata": {
  "kernelspec": {
   "display_name": "myenv",
   "language": "python",
   "name": "python3"
  },
  "language_info": {
   "codemirror_mode": {
    "name": "ipython",
    "version": 3
   },
   "file_extension": ".py",
   "mimetype": "text/x-python",
   "name": "python",
   "nbconvert_exporter": "python",
   "pygments_lexer": "ipython3",
   "version": "3.12.3"
  }
 },
 "nbformat": 4,
 "nbformat_minor": 2
}
