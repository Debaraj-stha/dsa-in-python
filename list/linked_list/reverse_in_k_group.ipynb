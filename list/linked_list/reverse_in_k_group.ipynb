{
 "cells": [
  {
   "cell_type": "code",
   "execution_count": 1,
   "metadata": {},
   "outputs": [
    {
     "name": "stdout",
     "output_type": "stream",
     "text": [
      "Original list:\n",
      "1 2 3 4 5 6 current 5\n",
      "pointer next 1\n",
      "prev 1\n",
      "\n",
      "ersed list:\n",
      "4 3 2 1 5 6 "
     ]
    }
   ],
   "source": [
    "class Node:\n",
    "    def __init__(self, data):\n",
    "        self.data = data\n",
    "        self.next=None\n",
    "\n",
    "def reverseUntil(head,k):\n",
    "    current_node=head\n",
    "    prev=None\n",
    "    count=0\n",
    "    while current_node and count < k:\n",
    "            next_node = current_node.next\n",
    "            current_node.next = prev\n",
    "            prev = current_node\n",
    "            current_node = next_node\n",
    "            count += 1\n",
    "    return prev, current_node\n",
    "def reverseKGroup(head, k):\n",
    "    dummy=Node(0)\n",
    "    dummy.next=head\n",
    "    pointer=dummy\n",
    "    while pointer is not None:\n",
    "        tracker=pointer\n",
    "        for _ in range(k):\n",
    "            tracker=tracker.next\n",
    "            if tracker is None:\n",
    "\n",
    "                return dummy.next\n",
    "        prev,current=reverseUntil(pointer.next,k)\n",
    "        print(\"current\",current.data)\n",
    "        print(\"pointer next\",pointer.next.data)\n",
    "        print(\"prev\",prev.next.next.next.data)\n",
    "        last_node_of_reversed_group=pointer.next\n",
    "        last_node_of_reversed_group.next=current\n",
    "        pointer.next=prev\n",
    "        pointer=last_node_of_reversed_group\n",
    "    return dummy.next\n",
    "\n",
    "\n",
    "\n",
    "# Test the function\n",
    "head = Node(1)\n",
    "head.next = Node(2)\n",
    "head.next.next = Node(3)\n",
    "head.next.next.next = Node(4)\n",
    "head.next.next.next.next = Node(5)\n",
    "head.next.next.next.next.next = Node(6)\n",
    "k=4\n",
    "print(\"Original list:\")\n",
    "current = head\n",
    "while current:\n",
    "    print(current.data, end=\" \")\n",
    "    current = current.next\n",
    "\n",
    "new_head = reverseKGroup(head, k)\n",
    "print(\"\\nersed list:\")\n",
    "current = new_head\n",
    "while current:\n",
    "    print(current.data, end=\" \")\n",
    "    current = current.next\n"
   ]
  }
 ],
 "metadata": {
  "kernelspec": {
   "display_name": "myenv",
   "language": "python",
   "name": "python3"
  },
  "language_info": {
   "codemirror_mode": {
    "name": "ipython",
    "version": 3
   },
   "file_extension": ".py",
   "mimetype": "text/x-python",
   "name": "python",
   "nbconvert_exporter": "python",
   "pygments_lexer": "ipython3",
   "version": "3.12.3"
  }
 },
 "nbformat": 4,
 "nbformat_minor": 2
}
