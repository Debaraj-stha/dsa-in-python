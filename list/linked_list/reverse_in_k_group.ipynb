{
 "cells": [
  {
   "cell_type": "code",
   "execution_count": null,
   "metadata": {},
   "outputs": [
    {
     "name": "stdout",
     "output_type": "stream",
     "text": [
      "Original list:\n",
      "1 2 3 4 5 6 current 5\n",
      "pointer next 1\n",
      "prev 1\n"
     ]
    },
    {
     "ename": "NameError",
     "evalue": "name 'last_node_of_reversed_group' is not defined",
     "output_type": "error",
     "traceback": [
      "\u001b[0;31m---------------------------------------------------------------------------\u001b[0m",
      "\u001b[0;31mNameError\u001b[0m                                 Traceback (most recent call last)",
      "Cell \u001b[0;32mIn[30], line 54\u001b[0m\n\u001b[1;32m     51\u001b[0m     \u001b[38;5;28mprint\u001b[39m(current\u001b[38;5;241m.\u001b[39mdata, end\u001b[38;5;241m=\u001b[39m\u001b[38;5;124m\"\u001b[39m\u001b[38;5;124m \u001b[39m\u001b[38;5;124m\"\u001b[39m)\n\u001b[1;32m     52\u001b[0m     current \u001b[38;5;241m=\u001b[39m current\u001b[38;5;241m.\u001b[39mnext\n\u001b[0;32m---> 54\u001b[0m new_head \u001b[38;5;241m=\u001b[39m \u001b[43mreverseKGroup\u001b[49m\u001b[43m(\u001b[49m\u001b[43mhead\u001b[49m\u001b[43m,\u001b[49m\u001b[43m \u001b[49m\u001b[43mk\u001b[49m\u001b[43m)\u001b[49m\n\u001b[1;32m     55\u001b[0m \u001b[38;5;28mprint\u001b[39m(\u001b[38;5;124m\"\u001b[39m\u001b[38;5;130;01m\\n\u001b[39;00m\u001b[38;5;124mersed list:\u001b[39m\u001b[38;5;124m\"\u001b[39m)\n\u001b[1;32m     56\u001b[0m current \u001b[38;5;241m=\u001b[39m new_head\n",
      "Cell \u001b[0;32mIn[30], line 33\u001b[0m, in \u001b[0;36mreverseKGroup\u001b[0;34m(head, k)\u001b[0m\n\u001b[1;32m     31\u001b[0m \u001b[38;5;28mprint\u001b[39m(\u001b[38;5;124m\"\u001b[39m\u001b[38;5;124mprev\u001b[39m\u001b[38;5;124m\"\u001b[39m,prev\u001b[38;5;241m.\u001b[39mnext\u001b[38;5;241m.\u001b[39mnext\u001b[38;5;241m.\u001b[39mnext\u001b[38;5;241m.\u001b[39mdata)\n\u001b[1;32m     32\u001b[0m \u001b[38;5;66;03m# last_node_of_reversed_group=pointer.next\u001b[39;00m\n\u001b[0;32m---> 33\u001b[0m \u001b[43mlast_node_of_reversed_group\u001b[49m\u001b[38;5;241m.\u001b[39mnext\u001b[38;5;241m=\u001b[39mcurrent\n\u001b[1;32m     34\u001b[0m pointer\u001b[38;5;241m.\u001b[39mnext\u001b[38;5;241m=\u001b[39mprev\n\u001b[1;32m     35\u001b[0m pointer\u001b[38;5;241m=\u001b[39mlast_node_of_reversed_group\n",
      "\u001b[0;31mNameError\u001b[0m: name 'last_node_of_reversed_group' is not defined"
     ]
    }
   ],
   "source": [
    "class Node:\n",
    "    def __init__(self, data):\n",
    "        self.data = data\n",
    "        self.next=None\n",
    "\n",
    "def reverseUntil(head,k):\n",
    "    current_node=head\n",
    "    prev=None\n",
    "    count=0\n",
    "    while current_node and count < k:\n",
    "            next_node = current_node.next\n",
    "            current_node.next = prev\n",
    "            prev = current_node\n",
    "            current_node = next_node\n",
    "            count += 1\n",
    "    return prev, current_node\n",
    "def reverseKGroup(head, k):\n",
    "    dummy=Node(0)\n",
    "    dummy.next=head\n",
    "    pointer=dummy\n",
    "    while pointer is not None:\n",
    "        tracker=pointer\n",
    "        for _ in range(k):\n",
    "            tracker=tracker.next\n",
    "            if tracker is None:\n",
    "\n",
    "                return dummy.next\n",
    "        prev,current=reverseUntil(pointer.next,k)\n",
    "        print(\"current\",current.data)\n",
    "        print(\"pointer next\",pointer.next.data)\n",
    "        print(\"prev\",prev.next.next.next.data)\n",
    "        last_node_of_reversed_group=pointer.next\n",
    "        last_node_of_reversed_group.next=current\n",
    "        pointer.next=prev\n",
    "        pointer=last_node_of_reversed_group\n",
    "    return dummy.next\n",
    "\n",
    "\n",
    "\n",
    "# Test the function\n",
    "head = Node(1)\n",
    "head.next = Node(2)\n",
    "head.next.next = Node(3)\n",
    "head.next.next.next = Node(4)\n",
    "head.next.next.next.next = Node(5)\n",
    "head.next.next.next.next.next = Node(6)\n",
    "k=4\n",
    "print(\"Original list:\")\n",
    "current = head\n",
    "while current:\n",
    "    print(current.data, end=\" \")\n",
    "    current = current.next\n",
    "\n",
    "new_head = reverseKGroup(head, k)\n",
    "print(\"\\nersed list:\")\n",
    "current = new_head\n",
    "while current:\n",
    "    print(current.data, end=\" \")\n",
    "    current = current.next\n"
   ]
  }
 ],
 "metadata": {
  "kernelspec": {
   "display_name": "myenv",
   "language": "python",
   "name": "python3"
  },
  "language_info": {
   "codemirror_mode": {
    "name": "ipython",
    "version": 3
   },
   "file_extension": ".py",
   "mimetype": "text/x-python",
   "name": "python",
   "nbconvert_exporter": "python",
   "pygments_lexer": "ipython3",
   "version": "3.12.3"
  }
 },
 "nbformat": 4,
 "nbformat_minor": 2
}
