{
 "cells": [
  {
   "cell_type": "code",
   "execution_count": 8,
   "metadata": {},
   "outputs": [
    {
     "name": "stdout",
     "output_type": "stream",
     "text": [
      "Original Linked List:\n",
      "5 2 8 1 9 \n",
      "Sorted Linked List:\n",
      "1 2 5 8 9 "
     ]
    }
   ],
   "source": [
    "class Node:\n",
    "    def __init__(self, data):\n",
    "        self.data = data\n",
    "        self.next = None\n",
    "\n",
    "def sorting(head,reverse=False):\n",
    "    isSorted=False\n",
    "    while not isSorted:\n",
    "        isSorted=True\n",
    "        current=head\n",
    "        while current.next:\n",
    "            next_node=current.next\n",
    "            if (reverse and current.data < next_node.data) or (not reverse and current.data > next_node.data):\n",
    "                current.data, next_node.data = next_node.data, current.data\n",
    "                isSorted=False\n",
    "            current=current.next\n",
    "    return head\n",
    "\n",
    "\n",
    "# Test the function\n",
    "head = Node(5)\n",
    "head.next = Node(2)\n",
    "head.next.next = Node(8)\n",
    "head.next.next.next = Node(1)\n",
    "head.next.next.next.next = Node(9)\n",
    "\n",
    "print(\"Original Linked List:\")\n",
    "current = head\n",
    "while current:\n",
    "    print(current.data, end=\" \")\n",
    "    current = current.next\n",
    "\n",
    "new_head = sorting(head)\n",
    "\n",
    "print(\"\\nSorted Linked List:\")\n",
    "current = new_head\n",
    "while current:\n",
    "    print(current.data, end=\" \")\n",
    "    current = current.next\n"
   ]
  }
 ],
 "metadata": {
  "kernelspec": {
   "display_name": "myenv",
   "language": "python",
   "name": "python3"
  },
  "language_info": {
   "codemirror_mode": {
    "name": "ipython",
    "version": 3
   },
   "file_extension": ".py",
   "mimetype": "text/x-python",
   "name": "python",
   "nbconvert_exporter": "python",
   "pygments_lexer": "ipython3",
   "version": "3.12.3"
  }
 },
 "nbformat": 4,
 "nbformat_minor": 2
}
