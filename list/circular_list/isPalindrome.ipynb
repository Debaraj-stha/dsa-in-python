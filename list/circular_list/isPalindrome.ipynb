{
 "cells": [
  {
   "cell_type": "code",
   "execution_count": 31,
   "metadata": {},
   "outputs": [
    {
     "name": "stdout",
     "output_type": "stream",
     "text": [
      "Original Linked List:\n",
      "9->1->9->1->9->(head)\n",
      "Is Palindrome: True\n",
      "9->1->9->1->9->"
     ]
    },
    {
     "ename": "AttributeError",
     "evalue": "'NoneType' object has no attribute 'value'",
     "output_type": "error",
     "traceback": [
      "\u001b[0;31m---------------------------------------------------------------------------\u001b[0m",
      "\u001b[0;31mAttributeError\u001b[0m                            Traceback (most recent call last)",
      "Cell \u001b[0;32mIn[31], line 69\u001b[0m\n\u001b[1;32m     67\u001b[0m display(node)\n\u001b[1;32m     68\u001b[0m \u001b[38;5;28mprint\u001b[39m(\u001b[38;5;124m\"\u001b[39m\u001b[38;5;124mIs Palindrome:\u001b[39m\u001b[38;5;124m\"\u001b[39m, ispalindrome(node))\n\u001b[0;32m---> 69\u001b[0m \u001b[43mdisplay\u001b[49m\u001b[43m(\u001b[49m\u001b[43mnode\u001b[49m\u001b[43m)\u001b[49m\n",
      "Cell \u001b[0;32mIn[31], line 9\u001b[0m, in \u001b[0;36mdisplay\u001b[0;34m(head)\u001b[0m\n\u001b[1;32m      7\u001b[0m current \u001b[38;5;241m=\u001b[39m head\n\u001b[1;32m      8\u001b[0m \u001b[38;5;28;01mwhile\u001b[39;00m \u001b[38;5;28;01mTrue\u001b[39;00m:\n\u001b[0;32m----> 9\u001b[0m     \u001b[38;5;28mprint\u001b[39m(\u001b[43mcurrent\u001b[49m\u001b[38;5;241;43m.\u001b[39;49m\u001b[43mvalue\u001b[49m, end\u001b[38;5;241m=\u001b[39m\u001b[38;5;124m'\u001b[39m\u001b[38;5;124m->\u001b[39m\u001b[38;5;124m'\u001b[39m)\n\u001b[1;32m     10\u001b[0m     current \u001b[38;5;241m=\u001b[39m current\u001b[38;5;241m.\u001b[39mnext\n\u001b[1;32m     11\u001b[0m     \u001b[38;5;28;01mif\u001b[39;00m current \u001b[38;5;241m==\u001b[39m head:\n",
      "\u001b[0;31mAttributeError\u001b[0m: 'NoneType' object has no attribute 'value'"
     ]
    }
   ],
   "source": [
    "class Node:\n",
    "    def __init__(self, value=0):\n",
    "        self.value = value\n",
    "        self.next = None\n",
    "\n",
    "def display(head):\n",
    "    current = head\n",
    "    while True:\n",
    "        print(current.value, end='->')\n",
    "        current = current.next\n",
    "        if current == head:\n",
    "            break\n",
    "    print(\"(head)\")\n",
    "\n",
    "def ispalindrome(head):\n",
    "    if not head or not head.next:\n",
    "        return True  \n",
    "\n",
    "    slow, fast = head, head\n",
    "    while fast.next != head and fast.next.next != head:\n",
    "        slow = slow.next\n",
    "        fast = fast.next.next\n",
    "\n",
    "    second_half_start = slow.next if fast.next == head else slow.next.next\n",
    "\n",
    "  \n",
    "    prev, current = None, second_half_start\n",
    "    first_half_end = slow \n",
    "    while current != head: \n",
    "        next_node = current.next\n",
    "        current.next = prev\n",
    "        prev = current\n",
    "        current = next_node\n",
    "\n",
    "    left, right = head, prev\n",
    "    palindrome = True\n",
    "    while right:\n",
    "        if left.value != right.value:\n",
    "            palindrome = False\n",
    "            break\n",
    "        left = left.next\n",
    "        right = right.next\n",
    "        if left == first_half_end.next: \n",
    "            break\n",
    "\n",
    "   \n",
    "    prev, current = None, prev\n",
    "    while current:\n",
    "        next_node = current.next\n",
    "        current.next = prev\n",
    "        prev = current\n",
    "        current = next_node\n",
    "\n",
    "    first_half_end.next = prev  \n",
    "\n",
    "    return palindrome\n",
    "\n",
    "\n",
    "node = Node(9)\n",
    "node.next = Node(1)\n",
    "node.next.next = Node(9)\n",
    "node.next.next.next = Node(1)\n",
    "node.next.next.next.next = Node(9)\n",
    "node.next.next.next.next.next = node  \n",
    "\n",
    "print(\"Original Linked List:\")\n",
    "display(node)\n",
    "print(\"Is Palindrome:\", ispalindrome(node))\n",
    "display(node)\n"
   ]
  }
 ],
 "metadata": {
  "kernelspec": {
   "display_name": "myenv",
   "language": "python",
   "name": "python3"
  },
  "language_info": {
   "codemirror_mode": {
    "name": "ipython",
    "version": 3
   },
   "file_extension": ".py",
   "mimetype": "text/x-python",
   "name": "python",
   "nbconvert_exporter": "python",
   "pygments_lexer": "ipython3",
   "version": "3.12.3"
  }
 },
 "nbformat": 4,
 "nbformat_minor": 2
}
