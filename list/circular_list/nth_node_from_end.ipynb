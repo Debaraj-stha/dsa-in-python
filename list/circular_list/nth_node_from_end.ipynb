{
 "cells": [
  {
   "cell_type": "code",
   "execution_count": null,
   "metadata": {},
   "outputs": [
    {
     "name": "stdout",
     "output_type": "stream",
     "text": [
      "4->2->1->33->55->(head)\n",
      "The 2th node from the end is: 33\n"
     ]
    }
   ],
   "source": [
    "class Node:\n",
    "    def __init__(self, value=0):\n",
    "        self.value = value\n",
    "        self.next=None\n",
    "\n",
    "\n",
    "\n",
    "def display(head):\n",
    "    current = head\n",
    "    while True:\n",
    "        print(current.value, end='->')\n",
    "        current = current.next\n",
    "        if current == head:\n",
    "            break\n",
    "    print('(head)')\n",
    "\n",
    "def nth__node_from_end(node,n):\n",
    "    if n==0:\n",
    "        return node\n",
    "    slow=node\n",
    "    fast=node\n",
    "    for _ in range(n):\n",
    "        fast=fast.next\n",
    "        if fast==node:\n",
    "            raise IndexError('n should be less than length of list')\n",
    "    while True:\n",
    "        slow=slow.next\n",
    "        fast=fast.next\n",
    "        if fast==node:\n",
    "            break\n",
    "    return slow\n",
    "\n",
    "node=Node(4)\n",
    "node.next=Node(2)\n",
    "node.next.next=Node(1)\n",
    "node.next.next.next=Node(33)\n",
    "node.next.next.next.next=Node(55)\n",
    "node.next.next.next.next.next=node\n",
    "display(node)\n",
    "n=2\n",
    "nth_node=nth__node_from_end(node, n)\n",
    "print(f'The {n}th node from the end is: {nth_node.value}')"
   ]
  }
 ],
 "metadata": {
  "kernelspec": {
   "display_name": "myenv",
   "language": "python",
   "name": "python3"
  },
  "language_info": {
   "codemirror_mode": {
    "name": "ipython",
    "version": 3
   },
   "file_extension": ".py",
   "mimetype": "text/x-python",
   "name": "python",
   "nbconvert_exporter": "python",
   "pygments_lexer": "ipython3",
   "version": "3.12.3"
  }
 },
 "nbformat": 4,
 "nbformat_minor": 2
}
