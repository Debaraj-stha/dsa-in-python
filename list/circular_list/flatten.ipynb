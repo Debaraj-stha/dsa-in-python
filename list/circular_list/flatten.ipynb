{
 "cells": [
  {
   "cell_type": "code",
   "execution_count": 15,
   "metadata": {},
   "outputs": [
    {
     "name": "stdout",
     "output_type": "stream",
     "text": [
      "3 -> 5 -> 13 -> (head)\n",
      "\n",
      "3 -> 5 -> 9 -> 10 -> 11 -> 12 -> 13 -> "
     ]
    }
   ],
   "source": [
    "class Node:\n",
    "    def __init__(self, value):\n",
    "        self.value = value\n",
    "        self.next = None\n",
    "        self.child = None\n",
    "\n",
    "def display(head):\n",
    "    if not head:\n",
    "        return\n",
    "    current=head\n",
    "    while True:\n",
    "        print(current.value, end=\" -> \")\n",
    "        current = current.next\n",
    "        if current == head:\n",
    "            break\n",
    "    print(\"(head)\")\n",
    "\n",
    "def flatten(head):\n",
    "    if not head:\n",
    "        return\n",
    "    dummy=Node(0)\n",
    "    ref=dummy\n",
    "    current=head\n",
    "    while True:\n",
    "        ref.child=Node(current.value)\n",
    "        ref=ref.child\n",
    "        child_node=current.child\n",
    "        while child_node:\n",
    "            ref.child=Node(child_node.value)\n",
    "            ref=ref.child\n",
    "            child_node=child_node.child\n",
    "        current=current.next\n",
    "        if current == head:\n",
    "            break\n",
    "    return dummy.child\n",
    "\n",
    "\n",
    "node=Node(3)\n",
    "node.next=Node(5)\n",
    "node.next.child=Node(9)\n",
    "node.next.child.child=Node(10)\n",
    "node.next.child.child.child=Node(11)\n",
    "node.next.child.child.child.child=Node(12)\n",
    "node.next.next=Node(13)\n",
    "node.next.next.next=node\n",
    "\n",
    "display(node)\n",
    "print()\n",
    "flattened_head=flatten(node)\n",
    "c=flattened_head\n",
    "while True:\n",
    "    print(c.value, end=\" -> \")\n",
    "    c=c.child\n",
    "    if not c:\n",
    "        break"
   ]
  }
 ],
 "metadata": {
  "kernelspec": {
   "display_name": "myenv",
   "language": "python",
   "name": "python3"
  },
  "language_info": {
   "codemirror_mode": {
    "name": "ipython",
    "version": 3
   },
   "file_extension": ".py",
   "mimetype": "text/x-python",
   "name": "python",
   "nbconvert_exporter": "python",
   "pygments_lexer": "ipython3",
   "version": "3.12.3"
  }
 },
 "nbformat": 4,
 "nbformat_minor": 2
}
