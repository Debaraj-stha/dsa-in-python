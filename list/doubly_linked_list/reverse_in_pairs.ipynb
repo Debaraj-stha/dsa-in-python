{
 "cells": [
  {
   "cell_type": "code",
   "execution_count": 80,
   "metadata": {},
   "outputs": [
    {
     "name": "stdout",
     "output_type": "stream",
     "text": [
      "44->4->1->2->3->5->6->7->\n",
      "Reversing in Pairs...\n",
      "Reversed List:\n",
      "4->44->2->1->5->3->7->6->\n",
      "From Tail:\n",
      "6->7->3->5->1->2->44->4->0->"
     ]
    }
   ],
   "source": [
    "from node import Node\n",
    "from display import display, displayFromTail\n",
    "\n",
    "from node import Node\n",
    "from display import display, displayFromTail\n",
    "\n",
    "def reverseInPairs(head, tail):\n",
    "    if not head or not head.next:\n",
    "        return head, tail\n",
    "\n",
    "    dummy = Node(0)\n",
    "    dummy.next = head\n",
    "    prev = dummy\n",
    "    new_tail = tail\n",
    "\n",
    "    while prev.next and prev.next.next:\n",
    "        first = prev.next\n",
    "        second = first.next\n",
    "\n",
    "        prev.next = second\n",
    "        first.next = second.next\n",
    "        second.next = first\n",
    "\n",
    "        second.prev = prev\n",
    "        first.prev = second\n",
    "        if first.next:\n",
    "            first.next.prev = first\n",
    "\n",
    "        if first == tail:\n",
    "            new_tail = first\n",
    "        elif second == tail: \n",
    "            new_tail = first \n",
    "        prev = first\n",
    "\n",
    "    return dummy.next, new_tail\n",
    "\n",
    "\n",
    "node = Node(44)\n",
    "node1 = Node(4)\n",
    "node2 = Node(1)\n",
    "node3 = Node(2)\n",
    "node4 = Node(3)\n",
    "node5 = Node(5)\n",
    "node6 = Node(6)\n",
    "node7 = Node(7)\n",
    "\n",
    "node.next = node1\n",
    "node1.prev = node\n",
    "node1.next = node2\n",
    "node2.prev = node1\n",
    "node2.next = node3\n",
    "node3.prev = node2\n",
    "node3.next = node4\n",
    "node4.prev = node3\n",
    "node4.next = node5\n",
    "node5.prev = node4\n",
    "node5.next = node6\n",
    "node6.prev = node5\n",
    "node6.next = node7\n",
    "node7.prev = node6\n",
    "\n",
    "head = node\n",
    "tail = node7\n",
    "\n",
    "display(head)\n",
    "print(\"\\nReversing in Pairs...\")\n",
    "new_head, new_tail = reverseInPairs(head, tail)\n",
    "\n",
    "print(\"Reversed List:\")\n",
    "display(new_head)\n",
    "print(\"\\nFrom Tail:\")\n",
    "displayFromTail(new_tail)\n"
   ]
  }
 ],
 "metadata": {
  "kernelspec": {
   "display_name": "myenv",
   "language": "python",
   "name": "python3"
  },
  "language_info": {
   "codemirror_mode": {
    "name": "ipython",
    "version": 3
   },
   "file_extension": ".py",
   "mimetype": "text/x-python",
   "name": "python",
   "nbconvert_exporter": "python",
   "pygments_lexer": "ipython3",
   "version": "3.12.3"
  }
 },
 "nbformat": 4,
 "nbformat_minor": 2
}
