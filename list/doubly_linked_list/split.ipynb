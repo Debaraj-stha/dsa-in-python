{
 "cells": [
  {
   "cell_type": "code",
   "execution_count": 4,
   "metadata": {},
   "outputs": [
    {
     "name": "stdout",
     "output_type": "stream",
     "text": [
      "44->4->1->2->3->5->6->7->\n",
      "Split List\n",
      "44->4->1->2->3->\n",
      "5->6->7->"
     ]
    }
   ],
   "source": [
    "from node import Node\n",
    "from display import display, displayFromTail\n",
    "\n",
    "def split(head):\n",
    "    if not head:\n",
    "        return None, None\n",
    "    slow=head\n",
    "    fast=head\n",
    "    while fast and fast.next:\n",
    "        slow=slow.next\n",
    "        fast=fast.next.next\n",
    "    new_head=slow.next\n",
    "    new_head.prev=None\n",
    "    slow.next=None\n",
    "    return head, new_head\n",
    "\n",
    "\n",
    "\n",
    "\n",
    "node = Node(44)\n",
    "node1 = Node(4)\n",
    "node2 = Node(1)\n",
    "node3 = Node(2)\n",
    "node4 = Node(3)\n",
    "node5 = Node(5)\n",
    "node6 = Node(6)\n",
    "node7 = Node(7)\n",
    "\n",
    "node.next = node1\n",
    "node1.prev = node\n",
    "node1.next = node2\n",
    "node2.prev = node1\n",
    "node2.next = node3\n",
    "node3.prev = node2\n",
    "node3.next = node4\n",
    "node4.prev = node3\n",
    "node4.next = node5\n",
    "node5.prev = node4\n",
    "node5.next = node6\n",
    "node6.prev = node5\n",
    "node6.next = node7\n",
    "node7.prev = node6\n",
    "\n",
    "head = node\n",
    "tail=node7\n",
    "display(head)\n",
    "print()\n",
    "head1,head2=split(head)\n",
    "print(\"Split List\")\n",
    "display(head1)\n",
    "print()\n",
    "display(head2)"
   ]
  }
 ],
 "metadata": {
  "kernelspec": {
   "display_name": "myenv",
   "language": "python",
   "name": "python3"
  },
  "language_info": {
   "codemirror_mode": {
    "name": "ipython",
    "version": 3
   },
   "file_extension": ".py",
   "mimetype": "text/x-python",
   "name": "python",
   "nbconvert_exporter": "python",
   "pygments_lexer": "ipython3",
   "version": "3.12.3"
  }
 },
 "nbformat": 4,
 "nbformat_minor": 2
}
