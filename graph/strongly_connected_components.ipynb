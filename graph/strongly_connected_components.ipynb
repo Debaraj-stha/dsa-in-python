{
 "cells": [
  {
   "cell_type": "code",
   "execution_count": null,
   "metadata": {},
   "outputs": [
    {
     "name": "stdout",
     "output_type": "stream",
     "text": [
      "[[0, 2, 1], [3], [4, 6, 5], [7]]\n"
     ]
    }
   ],
   "source": [
    "def strongly_connected_component(graph):\n",
    "    nodes = set(graph.keys())\n",
    "    for neighbors in graph.values():\n",
    "        nodes.update(neighbors)\n",
    "    n = len(nodes)\n",
    "    \n",
    "    visited = set()\n",
    "    stack = []\n",
    "\n",
    "    def dfs1(node):\n",
    "        visited.add(node)\n",
    "        for neighbor in graph.get(node, []):\n",
    "            if neighbor not in visited:\n",
    "                dfs1(neighbor)\n",
    "        stack.append(node)\n",
    "\n",
    "    for node in nodes:\n",
    "        if node not in visited:\n",
    "            dfs1(node)\n",
    "\n",
    "    # Transpose Graph\n",
    "    transpose = {node: [] for node in nodes}\n",
    "    for node in graph:\n",
    "        for neighbor in graph[node]:\n",
    "            transpose[neighbor].append(node)\n",
    "\n",
    "    visited.clear()\n",
    "    scc = []\n",
    "\n",
    "    def dfs2(node, component):\n",
    "        visited.add(node)\n",
    "        component.append(node)\n",
    "        for neighbor in transpose.get(node, []):\n",
    "            if neighbor not in visited:\n",
    "                dfs2(neighbor, component)\n",
    "\n",
    "    while stack:\n",
    "        node = stack.pop()\n",
    "        if node not in visited:\n",
    "            component = []\n",
    "            dfs2(node, component)\n",
    "            scc.append(component)\n",
    "\n",
    "    return scc\n",
    "\n",
    "\n",
    "\n",
    "graph = {\n",
    "    0: [1],\n",
    "    1: [2],\n",
    "    2: [0, 3],\n",
    "    3: [4],\n",
    "    4: [5, 7],\n",
    "    5: [6],\n",
    "    6: [4, 7]\n",
    "}\n",
    "\n",
    "print(strongly_connected_component(graph))\n"
   ]
  }
 ],
 "metadata": {
  "kernelspec": {
   "display_name": "myenv",
   "language": "python",
   "name": "python3"
  },
  "language_info": {
   "codemirror_mode": {
    "name": "ipython",
    "version": 3
   },
   "file_extension": ".py",
   "mimetype": "text/x-python",
   "name": "python",
   "nbconvert_exporter": "python",
   "pygments_lexer": "ipython3",
   "version": "3.12.3"
  }
 },
 "nbformat": 4,
 "nbformat_minor": 2
}
