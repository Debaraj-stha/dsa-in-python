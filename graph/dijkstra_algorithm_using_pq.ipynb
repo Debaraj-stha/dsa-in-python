{
 "cells": [
  {
   "cell_type": "code",
   "execution_count": null,
   "metadata": {},
   "outputs": [
    {
     "name": "stdout",
     "output_type": "stream",
     "text": [
      "co\n",
      "{0: 0, 1: 4, 2: 4, 3: 7, 4: 5, 5: 8}\n"
     ]
    }
   ],
   "source": [
    "import heapq\n",
    "\n",
    "def dijkstra(graph, source):\n",
    "    dist = {node: float(\"inf\") for node in graph}\n",
    "    dist[source] = 0\n",
    "    hq = []\n",
    "    heapq.heappush(hq, (0, source)) \n",
    "\n",
    "    while hq:\n",
    "        distance, node = heapq.heappop(hq)\n",
    "        if distance > dist[node]:\n",
    "            continue\n",
    "       \n",
    "        for neighbor, weight in graph[node]:\n",
    "            new_distance = distance + weight\n",
    "            if new_distance < dist[neighbor]:\n",
    "                dist[neighbor] = new_distance\n",
    "                heapq.heappush(hq, (new_distance, neighbor))\n",
    "\n",
    "    return dist\n",
    "\n",
    "graph = {\n",
    "    0: [[1, 4], [2, 4]],\n",
    "    1: [[0, 4], [2, 2]],\n",
    "    2: [[1, 2], [0, 4], [3, 3], [4, 1], [5, 6]],\n",
    "    3: [[2, 3], [5, 2]],\n",
    "    4: [[2, 1], [5, 3]],\n",
    "    5: [[2, 6], [3, 2], [4, 3]]\n",
    "}\n",
    "\n",
    "result = dijkstra(graph, 0)\n",
    "print(result)\n"
   ]
  }
 ],
 "metadata": {
  "kernelspec": {
   "display_name": "myenv",
   "language": "python",
   "name": "python3"
  },
  "language_info": {
   "codemirror_mode": {
    "name": "ipython",
    "version": 3
   },
   "file_extension": ".py",
   "mimetype": "text/x-python",
   "name": "python",
   "nbconvert_exporter": "python",
   "pygments_lexer": "ipython3",
   "version": "3.12.3"
  }
 },
 "nbformat": 4,
 "nbformat_minor": 2
}
