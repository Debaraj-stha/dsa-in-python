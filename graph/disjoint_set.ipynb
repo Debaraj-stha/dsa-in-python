{
 "cells": [
  {
   "cell_type": "markdown",
   "metadata": {},
   "source": [
    "we always attcah smaller graph to larger to make time taken to traverse graph is minimal as minimal.if one graph has  two nodes an nodes\n",
    "and other graph has 6 nodes ,to find parent the lerger node has to travel long way if we connect to smaller one\n"
   ]
  },
  {
   "cell_type": "code",
   "execution_count": null,
   "metadata": {},
   "outputs": [
    {
     "name": "stdout",
     "output_type": "stream",
     "text": [
      "Not same\n",
      "same\n"
     ]
    }
   ],
   "source": [
    "class DisjoinSet:\n",
    "    def __init__(self, n):\n",
    "        self.parent = list(range(n))\n",
    "        self.rank = [0] * n\n",
    "        self.size = [1] * n  # Size for union by size\n",
    "\n",
    "    def findParent(self, node):\n",
    "        if node == self.parent[node]:\n",
    "            return node\n",
    "        self.parent[node] = self.findParent(self.parent[node])  # Path compression\n",
    "        return self.parent[node]\n",
    "\n",
    "    def unionByRank(self, u, v):\n",
    "        parent_u = self.findParent(u)\n",
    "        parent_v = self.findParent(v)\n",
    "        if parent_u == parent_v:\n",
    "            return\n",
    "\n",
    "        if self.rank[parent_u] < self.rank[parent_v]:\n",
    "            self.parent[parent_u] = parent_v\n",
    "        elif self.rank[parent_u] > self.rank[parent_v]:\n",
    "            self.parent[parent_v] = parent_u\n",
    "        else:\n",
    "            self.parent[parent_v] = parent_u\n",
    "            self.rank[parent_u] += 1\n",
    "\n",
    "    def unionBySize(self, u, v):\n",
    "        parent_u = self.findParent(u)\n",
    "        parent_v = self.findParent(v)\n",
    "        if parent_u == parent_v:\n",
    "            return\n",
    "\n",
    "      \n",
    "        if self.size[parent_u] < self.size[parent_v]:\n",
    "            self.parent[parent_u] = parent_v\n",
    "            self.size[parent_v] += self.size[parent_u]\n",
    "        else:\n",
    "            self.parent[parent_v] = parent_u\n",
    "            self.size[parent_u] += self.size[parent_v]\n",
    "\n",
    "ds = DisjoinSet(8)\n",
    "ds.unionBySize(1, 2)\n",
    "ds.unionBySize(2, 3)\n",
    "ds.unionBySize(4, 5)\n",
    "ds.unionBySize(6, 7)\n",
    "ds.unionBySize(5, 6)\n",
    "\n",
    "# Checking connectivity between nodes\n",
    "if ds.findParent(3) == ds.findParent(7):\n",
    "    print(\"same\")\n",
    "else:\n",
    "    print(\"Not same\")\n",
    "ds.unionBySize(3,7)\n",
    "\n",
    "if ds.findParent(3) == ds.findParent(7):\n",
    "    print(\"same\")\n",
    "else:\n",
    "    print(\"Not same\")\n"
   ]
  }
 ],
 "metadata": {
  "kernelspec": {
   "display_name": "myenv",
   "language": "python",
   "name": "python3"
  },
  "language_info": {
   "codemirror_mode": {
    "name": "ipython",
    "version": 3
   },
   "file_extension": ".py",
   "mimetype": "text/x-python",
   "name": "python",
   "nbconvert_exporter": "python",
   "pygments_lexer": "ipython3",
   "version": "3.12.3"
  }
 },
 "nbformat": 4,
 "nbformat_minor": 2
}
