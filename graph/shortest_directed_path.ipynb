{
 "cells": [
  {
   "cell_type": "code",
   "execution_count": null,
   "metadata": {},
   "outputs": [
    {
     "name": "stdout",
     "output_type": "stream",
     "text": [
      "Shortest distances from node 0: {0: 0, 1: 2, 2: 4, 3: 3, 4: inf, 5: inf, 6: inf}\n"
     ]
    }
   ],
   "source": [
    "def findTopo(node, visited, graph, stack):\n",
    "    visited.add(node)\n",
    "    for neighbor, weight in graph[node]:\n",
    "        if neighbor not in visited:\n",
    "            findTopo(neighbor, visited, graph, stack)\n",
    "    stack.append(node)\n",
    "\n",
    "def shortestPath(graph, source):\n",
    "    visited = set()\n",
    "    stack = []\n",
    "    \n",
    "  \n",
    "    for node in graph:\n",
    "        if node not in visited:\n",
    "            findTopo(node, visited, graph, stack)\n",
    "    \n",
    "    # Initialize distances with infinity\n",
    "    dist = {node: float(\"inf\") for node in graph}\n",
    "    dist[source] = 0  \n",
    "    while stack:\n",
    "        node = stack.pop()\n",
    "        for neighbor,weight in graph[node]:\n",
    "            new_dist=dist[node]+weight\n",
    "            if new_dist < dist[neighbor]:\n",
    "                dist[neighbor] = new_dist\n",
    "    \n",
    "    return dist\n",
    "\n",
    "\n",
    "graph = {\n",
    "    0: [(1, 2), (2, 4)],\n",
    "    1: [(3, 1)],\n",
    "    2: [(3, 3)],\n",
    "    3: [],\n",
    "    4: [(0, 3), (2, 1)],\n",
    "    5: [(4, 1)],\n",
    "    6: [(4, 2), (5, 3)]\n",
    "}\n",
    "\n",
    "source_node = 0 \n",
    "shortest_distances = shortestPath(graph, source_node)\n",
    "\n",
    "print(f\"Shortest distances from node {source_node}: {shortest_distances}\")\n"
   ]
  }
 ],
 "metadata": {
  "kernelspec": {
   "display_name": "myenv",
   "language": "python",
   "name": "python3"
  },
  "language_info": {
   "codemirror_mode": {
    "name": "ipython",
    "version": 3
   },
   "file_extension": ".py",
   "mimetype": "text/x-python",
   "name": "python",
   "nbconvert_exporter": "python",
   "pygments_lexer": "ipython3",
   "version": "3.12.3"
  }
 },
 "nbformat": 4,
 "nbformat_minor": 2
}
