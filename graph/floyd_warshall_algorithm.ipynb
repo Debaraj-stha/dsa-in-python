{
 "cells": [
  {
   "cell_type": "markdown",
   "metadata": {},
   "source": [
    "go via every vertex/node"
   ]
  },
  {
   "cell_type": "markdown",
   "metadata": {},
   "source": [
    "detect negative cycle"
   ]
  },
  {
   "cell_type": "markdown",
   "metadata": {},
   "source": [
    "multisource shortest path algoritm"
   ]
  },
  {
   "cell_type": "code",
   "execution_count": null,
   "metadata": {},
   "outputs": [
    {
     "name": "stdout",
     "output_type": "stream",
     "text": [
      "[0, 2, 5, inf]\n",
      "[1, 0, 3, inf]\n",
      "[inf, inf, 0, inf]\n",
      "[3, 5, 4, 0]\n"
     ]
    }
   ],
   "source": [
    "="
   ]
  },
  {
   "cell_type": "code",
   "execution_count": 10,
   "metadata": {},
   "outputs": [
    {
     "name": "stdout",
     "output_type": "stream",
     "text": [
      "[[0, 2, 5, inf], [1, 0, 3, inf], [inf, inf, 0, inf], [3, 5, 4, 0]]\n",
      "0 0 inf 3\n",
      "0 1 inf 5\n",
      "0 2 inf 4\n",
      "0 3 inf 0\n",
      "1 0 inf 3\n",
      "1 1 inf 5\n",
      "1 2 inf 4\n",
      "1 3 inf 0\n",
      "2 0 inf 3\n",
      "2 1 inf 5\n",
      "2 2 inf 4\n",
      "2 3 inf 0\n",
      "3 0 0 3\n",
      "3 1 0 5\n",
      "3 2 0 4\n",
      "3 3 0 0\n",
      "Shortest path matrix:\n",
      "[0, 2, 5, inf]\n",
      "[1, 0, 3, inf]\n",
      "[inf, inf, 0, inf]\n",
      "[3, 5, 4, 0]\n"
     ]
    }
   ],
   "source": [
    "def floyd_warshall_algorithm(graph):\n",
    "    n = len(graph)\n",
    "\n",
    "    \n",
    "    dist = [row[:] for row in graph]\n",
    "    #compute shortest path from any node to any other node\n",
    "    for via in range(0,n):\n",
    "        for i in range(0,n):\n",
    "            for j in range(0,n):\n",
    "                if via==3:\n",
    "                    print(i,j,dist[i][via],dist[via][j])\n",
    "                dist[i][j]=min(dist[i][j],dist[i][via]+dist[via][j])\n",
    "        if via==2:\n",
    "            print(dist)\n",
    "\n",
    "    #negative cycle detection\n",
    "    for i in range(0,n):\n",
    "        if dist[i][i]<0:\n",
    "            print(\"Graph contains negative weight cycle\")\n",
    "            return None\n",
    "\n",
    "    return dist \n",
    "\n",
    "\n",
    "graph = [\n",
    "    [0, 2, float(\"inf\"), float(\"inf\")],\n",
    "    [1, 0, 3, float(\"inf\")],\n",
    "    [float(\"inf\"), float(\"inf\"), 0, float(\"inf\")],\n",
    "    [3, 5, 4, 0]\n",
    "]\n",
    "\n",
    "\n",
    "shortest_paths = floyd_warshall_algorithm(graph)\n",
    "\n",
    "\n",
    "print(\"Shortest path matrix:\")\n",
    "for row in shortest_paths:\n",
    "    print(row)\n"
   ]
  }
 ],
 "metadata": {
  "kernelspec": {
   "display_name": "myenv",
   "language": "python",
   "name": "python3"
  },
  "language_info": {
   "codemirror_mode": {
    "name": "ipython",
    "version": 3
   },
   "file_extension": ".py",
   "mimetype": "text/x-python",
   "name": "python",
   "nbconvert_exporter": "python",
   "pygments_lexer": "ipython3",
   "version": "3.12.3"
  }
 },
 "nbformat": 4,
 "nbformat_minor": 2
}
