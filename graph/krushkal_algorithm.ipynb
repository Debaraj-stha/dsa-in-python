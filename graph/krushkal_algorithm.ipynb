{
 "cells": [
  {
   "cell_type": "code",
   "execution_count": 50,
   "metadata": {},
   "outputs": [],
   "source": [
    "class DisjontSet:\n",
    "    def __init__(self,n):\n",
    "        self.parent = list(range(n))\n",
    "        self.rank = [0] * n\n",
    "\n",
    "    def findParent(self, node):\n",
    "        if node==self.parent[node]:return node\n",
    "        self.parent[node] = self.findParent(self.parent[node])\n",
    "        return self.parent[node]\n",
    "    def union(self, u, v):\n",
    "        parent_u=self.findParent(u)\n",
    "        parent_v=self.findParent(v)\n",
    "        if parent_u==parent_v: return\n",
    "        if self.rank[parent_u]<self.rank[parent_v]: self.parent[parent_u]=parent_v\n",
    "        elif self.rank[parent_v]<self.rank[parent_u]: self.parent[parent_v]=parent_u\n",
    "        else:\n",
    "            self.parent[parent_v]=parent_u\n",
    "            self.rank[parent_u]+=1\n",
    "            \n",
    "def krushkal_algorithm(graph):\n",
    "    #weight,node,parent\n",
    "    edges=[]\n",
    "    for node in graph:\n",
    "        for weight,neighbor in graph[node]:\n",
    "            edges.append((weight,node,neighbor))\n",
    "    edges.sort(key= lambda x:x[0]) #sort based on weight\n",
    "    n=len(edges)\n",
    "  \n",
    "    ds=DisjontSet(n)\n",
    "    MST=[]\n",
    "    total=0\n",
    "    for weight,node,neighbor in edges:\n",
    "        if ds.findParent(node)!=ds.findParent(neighbor):\n",
    "            MST.append((node,neighbor))\n",
    "            total+=weight\n",
    "            ds.union(node,neighbor)\n",
    "    return (MST,total)\n"
   ]
  },
  {
   "cell_type": "code",
   "execution_count": 48,
   "metadata": {},
   "outputs": [
    {
     "data": {
      "text/plain": [
       "([(4, 1), (1, 2), (2, 3), (5, 1), (2, 6)], 17)"
      ]
     },
     "execution_count": 48,
     "metadata": {},
     "output_type": "execute_result"
    }
   ],
   "source": [
    "graph={\n",
    "    #weight,node\n",
    "    5:[[9,4],[4,1]],\n",
    "    4:[[1,1],[9,5],[5,3],[3,2]],\n",
    "    1:[[4,5],[2,2],[1,4]],\n",
    "    2:[[2,1],[7,6],[3,4],[3,3]],\n",
    "    3:[[3,2],[4,5],[8,6]],\n",
    "    6:[[7,2],[8,3]]\n",
    "}\n",
    "krushkal_algorithm(graph)"
   ]
  }
 ],
 "metadata": {
  "kernelspec": {
   "display_name": "myenv",
   "language": "python",
   "name": "python3"
  },
  "language_info": {
   "codemirror_mode": {
    "name": "ipython",
    "version": 3
   },
   "file_extension": ".py",
   "mimetype": "text/x-python",
   "name": "python",
   "nbconvert_exporter": "python",
   "pygments_lexer": "ipython3",
   "version": "3.12.3"
  }
 },
 "nbformat": 4,
 "nbformat_minor": 2
}
