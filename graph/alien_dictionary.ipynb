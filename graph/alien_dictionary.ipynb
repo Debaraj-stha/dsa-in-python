{
 "cells": [
  {
   "cell_type": "code",
   "execution_count": 16,
   "metadata": {},
   "outputs": [
    {
     "name": "stdout",
     "output_type": "stream",
     "text": [
      "Alien Language Order: bdac\n",
      "defaultdict(<class 'list'>, {'b': ['a', 'd'], 'd': ['a'], 'a': ['c'], 'c': []})\n"
     ]
    }
   ],
   "source": [
    "from collections import defaultdict\n",
    "\n",
    "def AlienDictionary(dictionary, n, k):\n",
    "    all_nodes = set()\n",
    "    graph = defaultdict(list)\n",
    "    \n",
    "    for word in dictionary:\n",
    "        for char in word:\n",
    "            all_nodes.add(char)\n",
    "    \n",
    "    for i in range(n - 1):\n",
    "        word1 = dictionary[i]\n",
    "        word2 = dictionary[i + 1]\n",
    "        min_length = min(len(word1), len(word2))\n",
    "        \n",
    "        for j in range(min_length):\n",
    "            if word1[j] != word2[j]:\n",
    "                graph[word1[j]].append(word2[j])\n",
    "                break \n",
    "    \n",
    "    return graph, all_nodes\n",
    "\n",
    "def dfs(node, visited, stack, graph):\n",
    "    visited.add(node)\n",
    "    for neighbor in graph[node]:\n",
    "        if neighbor not in visited:\n",
    "            dfs(neighbor, visited, stack, graph)\n",
    "    stack.append(node)\n",
    "\n",
    "def topologicalSort(graph, all_nodes):\n",
    "    visited = set()\n",
    "    stack = []\n",
    "    \n",
    "    for node in all_nodes:\n",
    "        if node not in visited:\n",
    "            dfs(node, visited, stack, graph)\n",
    "    \n",
    "    return stack[::-1]  \n",
    "\n",
    "dictionary = [\"baa\", \"abcd\", \"abca\", \"cab\", \"cad\"]\n",
    "n = 5\n",
    "k = 4\n",
    "\n",
    "graph, all_nodes = AlienDictionary(dictionary, n, k)\n",
    "order = topologicalSort(graph, all_nodes)\n",
    "print(\"Alien Language Order:\", \"\".join(order))\n",
    "print(graph)\n"
   ]
  },
  {
   "cell_type": "code",
   "execution_count": 11,
   "metadata": {},
   "outputs": [
    {
     "data": {
      "text/plain": [
       "'\\nbaa\\nabcd\\nabca\\ncab\\ncad\\n'"
      ]
     },
     "execution_count": 11,
     "metadata": {},
     "output_type": "execute_result"
    }
   ],
   "source": [
    "\"\"\"\n",
    "baa\n",
    "abcd\n",
    "abca\n",
    "cab\n",
    "cad\n",
    "\"\"\""
   ]
  }
 ],
 "metadata": {
  "kernelspec": {
   "display_name": "myenv",
   "language": "python",
   "name": "python3"
  },
  "language_info": {
   "codemirror_mode": {
    "name": "ipython",
    "version": 3
   },
   "file_extension": ".py",
   "mimetype": "text/x-python",
   "name": "python",
   "nbconvert_exporter": "python",
   "pygments_lexer": "ipython3",
   "version": "3.12.3"
  }
 },
 "nbformat": 4,
 "nbformat_minor": 2
}
