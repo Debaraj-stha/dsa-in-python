{
 "cells": [
  {
   "cell_type": "code",
   "execution_count": 45,
   "metadata": {},
   "outputs": [
    {
     "name": "stdout",
     "output_type": "stream",
     "text": [
      "(True, [3, 2, 1, 0])\n",
      "cycle detected\n",
      "(False, [])\n"
     ]
    }
   ],
   "source": [
    "from collections import  defaultdict\n",
    "def prerequisites(tasks):\n",
    "    graph=defaultdict(list)\n",
    "    all_nodes=set()\n",
    "    for u,v in tasks:\n",
    "        graph[u].append(v)\n",
    "        all_nodes.update([u,v])\n",
    "    \n",
    "\n",
    "    visited=set()\n",
    "    recStack=set()\n",
    "    topoOrder=[]\n",
    "    def dfs(node):\n",
    "        visited.add(node)\n",
    "        recStack.add(node)\n",
    "        topoOrder.append(node)\n",
    "        for neighbor in graph[node]:\n",
    "            if neighbor not in visited:\n",
    "                if dfs(neighbor):\n",
    "                    return True\n",
    "            elif neighbor in recStack:\n",
    "                return True\n",
    "        \n",
    "        recStack.remove(node)\n",
    "        return False\n",
    "    for node in all_nodes:\n",
    "        if node not in visited:\n",
    "            if dfs(node):\n",
    "                print(\"cycle detected\")\n",
    "                return False,[]\n",
    "    return True,topoOrder[::-1]\n",
    "\n",
    "task=[\n",
    "    [1,0],\n",
    "    [2,1],\n",
    "    [3,2]\n",
    "]\n",
    "print(prerequisites(task)) # Expected output: [0, 1, 2]\n",
    "task=[\n",
    "    [1,2],\n",
    "    [4,3],\n",
    "    [2,4],\n",
    "    [4,1]\n",
    "]\n",
    "print(prerequisites(task)) # Expected output: [0, 1, 3, 4]"
   ]
  }
 ],
 "metadata": {
  "kernelspec": {
   "display_name": "myenv",
   "language": "python",
   "name": "python3"
  },
  "language_info": {
   "codemirror_mode": {
    "name": "ipython",
    "version": 3
   },
   "file_extension": ".py",
   "mimetype": "text/x-python",
   "name": "python",
   "nbconvert_exporter": "python",
   "pygments_lexer": "ipython3",
   "version": "3.12.3"
  }
 },
 "nbformat": 4,
 "nbformat_minor": 2
}
