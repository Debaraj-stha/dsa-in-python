{
 "cells": [
  {
   "cell_type": "code",
   "execution_count": 23,
   "metadata": {},
   "outputs": [
    {
     "name": "stdout",
     "output_type": "stream",
     "text": [
      "True\n"
     ]
    }
   ],
   "source": [
    "from collections import deque\n",
    "\n",
    "graph = {\n",
    "    1:[0,2],\n",
    "    0:[1,2,3],\n",
    "    2:[0,2],\n",
    "    3:[0,4],\n",
    "    4:[3]\n",
    "\n",
    "}\n",
    "\n",
    "def detectCycle():\n",
    "    visited = set()\n",
    "    for node in graph:\n",
    "        if node not in visited:\n",
    "            queue = deque([(node, -1)])  \n",
    "            visited.add(node)\n",
    "            while queue:\n",
    "                current_node, parent = queue.popleft()\n",
    "                for neighbor in graph[current_node]:  \n",
    "                    if neighbor not in visited:\n",
    "                        visited.add(neighbor)\n",
    "                        queue.append((neighbor, current_node))\n",
    "                    elif neighbor != parent:\n",
    "                        return True  \n",
    "    return False\n",
    "\n",
    "print(detectCycle()) \n"
   ]
  },
  {
   "cell_type": "code",
   "execution_count": null,
   "metadata": {},
   "outputs": [
    {
     "name": "stdout",
     "output_type": "stream",
     "text": [
      "False\n",
      "False\n"
     ]
    }
   ],
   "source": [
    "def detectedCycleDirected(graph):\n",
    "    visited = set()\n",
    "    recStack=set()\n",
    "\n",
    "    def detectedCycleUtil(node):\n",
    "        visited.add(node)\n",
    "        recStack.add(node)\n",
    "        for neighbor in graph[node]:\n",
    "            if neighbor not in visited:\n",
    "                if detectedCycleUtil(neighbor):\n",
    "                    return True\n",
    "            elif neighbor in recStack:\n",
    "                return True\n",
    "        recStack.remove(node)\n",
    "        return False\n",
    "\n",
    "    for node in graph:\n",
    "        if node not in visited:\n",
    "            if detectedCycleUtil(node):\n",
    "                return True\n",
    "    return False\n",
    "graph = {\n",
    "    5: [2, 0],\n",
    "    2: [3],\n",
    "    3: [1],\n",
    "    4: [0, 1],\n",
    "    0: [],\n",
    "    1: []\n",
    "}\n",
    "print(detectedCycleDirected(graph)) # Expected output: False\n",
    "graph={\n",
    "    1:[2],\n",
    "    2:[3],\n",
    "    3:[5],\n",
    "    4:[2,3],\n",
    "    5:[]\n",
    "}\n",
    "print(detectedCycleDirected(graph)) # Expected output: False\n"
   ]
  }
 ],
 "metadata": {
  "kernelspec": {
   "display_name": "myenv",
   "language": "python",
   "name": "python3"
  },
  "language_info": {
   "codemirror_mode": {
    "name": "ipython",
    "version": 3
   },
   "file_extension": ".py",
   "mimetype": "text/x-python",
   "name": "python",
   "nbconvert_exporter": "python",
   "pygments_lexer": "ipython3",
   "version": "3.12.3"
  }
 },
 "nbformat": 4,
 "nbformat_minor": 2
}
