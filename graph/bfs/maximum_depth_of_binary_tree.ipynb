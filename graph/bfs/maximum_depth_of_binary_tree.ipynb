{
 "cells": [
  {
   "cell_type": "code",
   "execution_count": 5,
   "metadata": {},
   "outputs": [
    {
     "data": {
      "text/plain": [
       "4"
      ]
     },
     "execution_count": 5,
     "metadata": {},
     "output_type": "execute_result"
    }
   ],
   "source": [
    "from collections import  deque\n",
    "class Node:\n",
    "    def __init__(self, data):\n",
    "        self.data = data\n",
    "        self.left = None\n",
    "        self.right = None\n",
    "def find_maximum_depth(root):\n",
    "    queue=deque([(root,1)])\n",
    "    max_depth=0\n",
    "    while queue:\n",
    "        node,level=queue.popleft()\n",
    "        max_depth=max(max_depth,level)  # Update max_depth if current level is greater than max_depth\n",
    "        if node.left:\n",
    "            queue.append((node.left,level+1))\n",
    "        if node.right:\n",
    "            queue.append((node.right,level+1))\n",
    "    return max_depth\n",
    "root = Node('A')\n",
    "root.left = Node('B')\n",
    "root.right = Node('C')\n",
    "root.left.left = Node('D')\n",
    "root.left.right = Node('E')\n",
    "root.right.right = Node('F')\n",
    "root.left.left.left = Node('G')\n",
    "root.left.left.right = Node('H')\n",
    "find_maximum_depth(root)"
   ]
  }
 ],
 "metadata": {
  "kernelspec": {
   "display_name": "env",
   "language": "python",
   "name": "python3"
  },
  "language_info": {
   "codemirror_mode": {
    "name": "ipython",
    "version": 3
   },
   "file_extension": ".py",
   "mimetype": "text/x-python",
   "name": "python",
   "nbconvert_exporter": "python",
   "pygments_lexer": "ipython3",
   "version": "3.12.3"
  }
 },
 "nbformat": 4,
 "nbformat_minor": 2
}
