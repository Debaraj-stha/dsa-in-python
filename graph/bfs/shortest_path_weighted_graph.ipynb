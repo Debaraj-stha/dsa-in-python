{
 "cells": [
  {
   "cell_type": "code",
   "execution_count": 14,
   "metadata": {},
   "outputs": [
    {
     "name": "stdout",
     "output_type": "stream",
     "text": [
      "[0, 0, 1, 0]\n"
     ]
    }
   ],
   "source": [
    "from collections import deque\n",
    "\n",
    "def zero_one_bfs(graph, start, n):\n",
    "    dist = [float('inf')] * n\n",
    "    dist[start] = 0 \n",
    "\n",
    "    dq = deque()\n",
    "    dq.append((start, 0))\n",
    "\n",
    "    while dq:\n",
    "        node, d = dq.popleft()\n",
    "        for neighbor, weight in graph[node]:\n",
    "            new_dist = d + weight\n",
    "            if new_dist < dist[neighbor]:\n",
    "                dist[neighbor] = new_dist\n",
    "                if weight == 0:\n",
    "                    dq.appendleft((neighbor, new_dist))\n",
    "                else:\n",
    "                    dq.append((neighbor, new_dist))\n",
    "\n",
    "    return dist\n",
    "\n",
    "graph = {\n",
    "    0: [(1, 0), (2, 1)],\n",
    "    1: [(2, 1), (3, 0)],\n",
    "    2: [(3, 1)],\n",
    "    3: []\n",
    "}\n",
    "\n",
    "start_node = 0\n",
    "n = 4  # Number of nodes\n",
    "\n",
    "print(zero_one_bfs(graph, start_node, n))\n"
   ]
  },
  {
   "cell_type": "code",
   "execution_count": 15,
   "metadata": {},
   "outputs": [
    {
     "name": "stdout",
     "output_type": "stream",
     "text": [
      "[0, 2, 1, 5]\n"
     ]
    }
   ],
   "source": [
    "import heapq \n",
    "\n",
    "def dijkstra(graph, start, n):\n",
    "    dist = [float('inf')] * n\n",
    "    dist[start] = 0\n",
    "    pq = []\n",
    "    heapq.heappush(pq, (0, start))\n",
    "\n",
    "    while pq:\n",
    "       d,node=heapq.heappop(pq)\n",
    "       if d>dist[node]:\n",
    "           continue\n",
    "       for neighbor ,weight in graph[node]:\n",
    "           new_dist = d + weight\n",
    "           if new_dist<dist[neighbor]:\n",
    "               dist[neighbor] = new_dist\n",
    "               heapq.heappush(pq, (new_dist, neighbor)) \n",
    "\n",
    "    return dist\n",
    "\n",
    "\n",
    "graph = {\n",
    "    0: [(1, 2), (2, 1)],\n",
    "    1: [(2, 2), (3, 3)],\n",
    "    2: [(3, 4)],\n",
    "    3: []\n",
    "}\n",
    "\n",
    "start_node = 0\n",
    "n = 4 \n",
    "shortest_paths = dijkstra(graph, start_node, n)\n",
    "print(shortest_paths) \n"
   ]
  },
  {
   "cell_type": "code",
   "execution_count": 30,
   "metadata": {},
   "outputs": [
    {
     "name": "stdout",
     "output_type": "stream",
     "text": [
      "([0, 2, 1, 5], [-1, 1, 2, 3])\n"
     ]
    }
   ],
   "source": [
    "def shortest_path(graph,start,n):\n",
    "    dist=[float(\"inf\")]*n\n",
    "    pq=[]\n",
    "    heapq.heappush(pq,(start,0))\n",
    "    dist[start]=0\n",
    "    path=[-1]*n\n",
    "    while pq:\n",
    "        node,d=heapq.heappop(pq)\n",
    "        if d>dist[node]:\n",
    "            continue\n",
    "        for neighbor,weight in graph[node]:\n",
    "            new_dist=d+weight\n",
    "            if new_dist<dist[neighbor]:\n",
    "                path[neighbor]=node\n",
    "                dist[neighbor]=new_dist\n",
    "                heapq.heappush(pq,(neighbor,new_dist))\n",
    "    for i,node in enumerate(graph):\n",
    "        if path[i]!=-1:\n",
    "            path[i]=node\n",
    "    \n",
    "    return dist,path\n",
    "  \n",
    "graph = {\n",
    "    0: [(1, 2), (2, 1)],\n",
    "    1: [(2, 2), (3, 3)],\n",
    "    2: [(3, 4)],\n",
    "    3: []\n",
    "}\n",
    "start_node = 0\n",
    "n = 4  # Number of nodes\n",
    "\n",
    "print(shortest_path(graph, start_node, n))\n"
   ]
  }
 ],
 "metadata": {
  "kernelspec": {
   "display_name": "env",
   "language": "python",
   "name": "python3"
  },
  "language_info": {
   "codemirror_mode": {
    "name": "ipython",
    "version": 3
   },
   "file_extension": ".py",
   "mimetype": "text/x-python",
   "name": "python",
   "nbconvert_exporter": "python",
   "pygments_lexer": "ipython3",
   "version": "3.12.3"
  }
 },
 "nbformat": 4,
 "nbformat_minor": 2
}
