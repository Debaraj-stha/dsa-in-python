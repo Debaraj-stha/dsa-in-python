{
 "cells": [
  {
   "cell_type": "code",
   "execution_count": 9,
   "metadata": {},
   "outputs": [
    {
     "name": "stdout",
     "output_type": "stream",
     "text": [
      "1\n"
     ]
    }
   ],
   "source": [
    "from collections import  deque\n",
    "direction=\"DLRU\"\n",
    "dr = [1, 0, 0, -1]\n",
    "dc = [0, -1, 1, 0]\n",
    "\n",
    "def sliding_puzzle(grid,goal):\n",
    "    rows,cols=len(grid),len(grid[0])\n",
    "    visited = set()\n",
    "    initial=tuple(sum(grid,[]))\n",
    "    visited.add(initial)\n",
    "    def get_neighbors(state):\n",
    "        neighbors=[]\n",
    "        zero_index=state.index(0)\n",
    "        row,col=divmod(zero_index,cols)\n",
    "        for  i in range(4):\n",
    "            new_r,new_c=row+dr[i],col+dc[i]\n",
    "            if 0<=new_r<rows and 0<=new_c<cols:\n",
    "                new_index=new_r*cols+new_c\n",
    "                new_state=list(state)\n",
    "                new_state[zero_index],new_state[new_index]=new_state[new_index],new_state[zero_index]\n",
    "                neighbors.append(tuple(new_state))\n",
    "        return neighbors\n",
    "    queue = deque([(initial,0)])\n",
    "    while queue:\n",
    "        state,move=queue.popleft()\n",
    "        for neighbor in get_neighbors(state):\n",
    "            if neighbor == goal:\n",
    "                return move+1\n",
    "            if neighbor not in visited:\n",
    "                visited.add(neighbor)\n",
    "                queue.append((neighbor,move+1))\n",
    "    return -1\n",
    "\n",
    "board = [[1, 2, 3], [4, 0, 5]]\n",
    "goal = tuple([1, 2, 3,4,5,0 ])\n",
    "print(sliding_puzzle(board,goal)) "
   ]
  }
 ],
 "metadata": {
  "kernelspec": {
   "display_name": "myenv",
   "language": "python",
   "name": "python3"
  },
  "language_info": {
   "codemirror_mode": {
    "name": "ipython",
    "version": 3
   },
   "file_extension": ".py",
   "mimetype": "text/x-python",
   "name": "python",
   "nbconvert_exporter": "python",
   "pygments_lexer": "ipython3",
   "version": "3.12.3"
  }
 },
 "nbformat": 4,
 "nbformat_minor": 2
}
