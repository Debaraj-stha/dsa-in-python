{
 "cells": [
  {
   "cell_type": "code",
   "execution_count": 32,
   "metadata": {},
   "outputs": [
    {
     "name": "stdout",
     "output_type": "stream",
     "text": [
      "6\n",
      "3\n"
     ]
    },
    {
     "data": {
      "text/plain": [
       "3"
      ]
     },
     "execution_count": 32,
     "metadata": {},
     "output_type": "execute_result"
    }
   ],
   "source": [
    "def divide(divisor,dividend):\n",
    "    quotient=0\n",
    "#     sign=-1 if(divide<0) ^ (dividend<0) else 1\n",
    "    dividend=abs(dividend)\n",
    "    divisor=abs(divisor)\n",
    "    while dividend>=divisor:\n",
    "        temp=divisor\n",
    "        multiple=1\n",
    "        while dividend>=(temp<<1):\n",
    "            temp<<=1\n",
    "            multiple<<=1\n",
    "        print(temp)\n",
    "        dividend-=temp\n",
    "        quotient+=multiple\n",
    "    return quotient\n",
    "\n",
    "divide(3,10)"
   ]
  },
  {
   "cell_type": "code",
   "execution_count": null,
   "metadata": {},
   "outputs": [],
   "source": [
    "\n",
    "\n"
   ]
  }
 ],
 "metadata": {
  "kernelspec": {
   "display_name": "env",
   "language": "python",
   "name": "python3"
  },
  "language_info": {
   "codemirror_mode": {
    "name": "ipython",
    "version": 3
   },
   "file_extension": ".py",
   "mimetype": "text/x-python",
   "name": "python",
   "nbconvert_exporter": "python",
   "pygments_lexer": "ipython3",
   "version": "3.12.3"
  }
 },
 "nbformat": 4,
 "nbformat_minor": 2
}
