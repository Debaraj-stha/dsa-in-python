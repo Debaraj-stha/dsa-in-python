{
 "cells": [
  {
   "cell_type": "code",
   "execution_count": 7,
   "metadata": {},
   "outputs": [
    {
     "name": "stdout",
     "output_type": "stream",
     "text": [
      "12\n"
     ]
    }
   ],
   "source": [
    "from collections import  deque\n",
    "def slidingPuzzle(initial,goal):\n",
    "    rows,cols=len(initial),len(initial[0])\n",
    "    initial=tuple(sum(initial,[]))\n",
    "    dr=[1,0,0,-1]\n",
    "    dc=[0,-1,1,0]\n",
    "    \n",
    "    def getNeighbors(state):\n",
    "        zeropsos=state.index(0)\n",
    "        row,col=divmod(zeropsos,cols)\n",
    "        neighbors=[]\n",
    "        for i in range(4):\n",
    "            next_row,next_col=row+dr[i],col+dc[i]\n",
    "            if 0<=next_row<rows and 0<=next_col<cols:\n",
    "                new_xeros_pos=next_row*cols+next_col\n",
    "                new_state=list(state)\n",
    "                new_state[zeropsos],new_state[new_xeros_pos]=new_state[new_xeros_pos],new_state[zeropsos]\n",
    "                neighbors.append(tuple(new_state))\n",
    "        return neighbors\n",
    "    \n",
    "    queue = deque([(initial, 0)]) \n",
    "    visited = set([initial]) \n",
    "    while queue:\n",
    "        state,move=queue.popleft()\n",
    "        for neigbor in getNeighbors(state):\n",
    "            if neigbor==goal:\n",
    "                return move+1\n",
    "            if neigbor not in visited:\n",
    "                visited.add(neigbor)\n",
    "                queue.append((neigbor,move+1))\n",
    "    return -1\n",
    "\n",
    "board=[[1,2,3],[4,0,5]]\n",
    "goal = tuple([1, 2, 0,3,4, 5 ])\n",
    "print(slidingPuzzle(board,goal)) # Output: 12"
   ]
  }
 ],
 "metadata": {
  "kernelspec": {
   "display_name": "myenv",
   "language": "python",
   "name": "python3"
  },
  "language_info": {
   "codemirror_mode": {
    "name": "ipython",
    "version": 3
   },
   "file_extension": ".py",
   "mimetype": "text/x-python",
   "name": "python",
   "nbconvert_exporter": "python",
   "pygments_lexer": "ipython3",
   "version": "3.12.3"
  }
 },
 "nbformat": 4,
 "nbformat_minor": 2
}
