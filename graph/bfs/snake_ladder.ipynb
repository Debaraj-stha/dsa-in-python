{
 "cells": [
  {
   "cell_type": "code",
   "execution_count": 2,
   "metadata": {},
   "outputs": [
    {
     "name": "stdout",
     "output_type": "stream",
     "text": [
      "[-1, -1, 15, -1, -1, -1, -1, -1, -1, -1, -1, -1, -1, -1, 35, -1, -1, 13, -1, -1, -1, -1, -1, -1, -1, -1, -1, -1, -1, -1, -1, -1, -1, -1, -1, -1, -1]\n",
      "4\n"
     ]
    }
   ],
   "source": [
    "from collections import  defaultdict,deque\n",
    "\n",
    "def snake_ladder(board):\n",
    "    n=len(board)\n",
    "    visited = set()\n",
    "    idx=1\n",
    "    arr=[-1]*(n*n+1)\n",
    "    reverse=False\n",
    "    for  i in range(n-1,-1,-1):\n",
    "        for j in range(n) if not reverse else range(n-1,-1,-1):\n",
    "            arr[idx]=board[i][j]\n",
    "            idx+=1\n",
    "        reverse=not reverse\n",
    "    print(arr)\n",
    "    queue=deque([(1,0)])\n",
    "    while queue:\n",
    "        cell,move=queue.popleft()\n",
    "        if cell==n*n:\n",
    "            return move\n",
    "        for roll in range(1,7):\n",
    "            next_cell=cell+roll\n",
    "            if next_cell>n*n:\n",
    "                break\n",
    "            if arr[next_cell]!=-1:\n",
    "                next_cell=arr[next_cell]\n",
    "            if next_cell not in visited:\n",
    "                visited.add(next_cell)\n",
    "                queue.append((next_cell,move+1))\n",
    "    return -1\n",
    "\n",
    "board = [\n",
    "    [-1, -1, -1, -1, -1, -1],  \n",
    "    [-1, -1, -1, -1, -1, -1],  \n",
    "    [-1, -1, -1, -1, -1, -1],  \n",
    "    [-1, 35, -1, -1, 13, -1],  \n",
    "    [-1, -1, -1, -1, -1, -1],  \n",
    "    [-1, 15, -1, -1, -1, -1]\n",
    "]\n",
    "print(snake_ladder(board))\n"
   ]
  }
 ],
 "metadata": {
  "kernelspec": {
   "display_name": "env",
   "language": "python",
   "name": "python3"
  },
  "language_info": {
   "codemirror_mode": {
    "name": "ipython",
    "version": 3
   },
   "file_extension": ".py",
   "mimetype": "text/x-python",
   "name": "python",
   "nbconvert_exporter": "python",
   "pygments_lexer": "ipython3",
   "version": "3.12.3"
  }
 },
 "nbformat": 4,
 "nbformat_minor": 2
}
