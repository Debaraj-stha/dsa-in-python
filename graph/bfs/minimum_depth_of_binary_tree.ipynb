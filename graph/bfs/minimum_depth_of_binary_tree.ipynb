{
 "cells": [
  {
   "cell_type": "code",
   "execution_count": 4,
   "metadata": {},
   "outputs": [
    {
     "name": "stdout",
     "output_type": "stream",
     "text": [
      "3\n"
     ]
    },
    {
     "data": {
      "text/plain": [
       "3"
      ]
     },
     "execution_count": 4,
     "metadata": {},
     "output_type": "execute_result"
    }
   ],
   "source": [
    "from collections import deque\n",
    "\n",
    "class Node:\n",
    "    def __init__(self, data):\n",
    "        self.data = data\n",
    "        self.left = None\n",
    "        self.right = None\n",
    "\n",
    "def find_minimum_depth(root):\n",
    "    if not root:\n",
    "        return 0\n",
    "\n",
    "    queue = deque([root])\n",
    "    while queue:\n",
    "        node=queue.popleft()\n",
    "        if node is None:\n",
    "            return 0\n",
    "        if node.left is None and node.right is None:\n",
    "            return 1\n",
    "        if node.left is None:\n",
    "            return 1+find_minimum_depth(node.right)\n",
    "        if node.right is None:\n",
    "            return 1+find_minimum_depth(node.left)\n",
    "        return 1+min(find_minimum_depth(node.left), find_minimum_depth(node.right))\n",
    "# Example Binary Tree\n",
    "root = Node('A')\n",
    "root.left = Node('B')\n",
    "root.right = Node('C')\n",
    "root.left.left = Node('D')\n",
    "root.left.right = Node('E')\n",
    "root.right.right = Node('F')\n",
    "root.left.left.left = Node('G')\n",
    "root.left.left.right = Node('H')\n",
    "\n",
    "print(find_minimum_depth(root)) \n",
    "\"\"\"\n",
    "        1\n",
    "       / \\\n",
    "      2   3\n",
    "     /   / \\\n",
    "    4   5   6\n",
    "       /\n",
    "      7\n",
    "\n",
    "\"\"\"\n",
    "def min_depth(root):\n",
    "    queue=deque([(root,1)])\n",
    "    while queue:\n",
    "        node,level=queue.popleft()\n",
    "        if node is None:\n",
    "            continue\n",
    "        if node.left is None and node.right is None:\n",
    "            return level\n",
    "        queue.append((node.left,level+1))\n",
    "        queue.append((node.right,level+1))\n",
    "min_depth(root)\n"
   ]
  }
 ],
 "metadata": {
  "kernelspec": {
   "display_name": "env",
   "language": "python",
   "name": "python3"
  },
  "language_info": {
   "codemirror_mode": {
    "name": "ipython",
    "version": 3
   },
   "file_extension": ".py",
   "mimetype": "text/x-python",
   "name": "python",
   "nbconvert_exporter": "python",
   "pygments_lexer": "ipython3",
   "version": "3.12.3"
  }
 },
 "nbformat": 4,
 "nbformat_minor": 2
}
