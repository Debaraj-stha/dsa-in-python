{
 "cells": [
  {
   "cell_type": "code",
   "execution_count": 2,
   "metadata": {},
   "outputs": [
    {
     "name": "stdout",
     "output_type": "stream",
     "text": [
      "9\n"
     ]
    }
   ],
   "source": [
    "from collections import deque\n",
    "\n",
    "def shortest_path_maze(maze):\n",
    "    rows, cols = len(maze), len(maze[0])\n",
    "    dr = [1, 0, 0, -1]\n",
    "    dc = [0, -1, 1, 0]\n",
    "\n",
    "    if maze[0][0] == 1 or maze[rows-1][cols-1] == 1:\n",
    "        return -1\n",
    "\n",
    "    queue = deque([(0, 0, 1)]) \n",
    "    maze[0][0] = 1\n",
    "\n",
    "    while queue:\n",
    "        row, col, dist = queue.popleft()\n",
    "        if row == rows - 1 and col == cols - 1:\n",
    "            return dist\n",
    "\n",
    "        for i in range(4):\n",
    "            next_row, next_col = row + dr[i], col + dc[i]\n",
    "            if 0 <= next_row < rows and 0 <= next_col < cols and maze[next_row][next_col] == 0:\n",
    "                queue.append((next_row, next_col, dist + 1))\n",
    "                maze[next_row][next_col] = 1  \n",
    "    return -1 \n",
    "\n",
    "\n",
    "maze = [\n",
    "    [0, 0, 1, 0, 0],\n",
    "    [1, 0, 1, 0, 1],\n",
    "    [0, 0, 0, 0, 0],\n",
    "    [0, 1, 1, 1, 0],\n",
    "    [0, 0, 0, 1, 0]\n",
    "]\n",
    "\n",
    "print(shortest_path_maze(maze)) \n",
    "\n"
   ]
  }
 ],
 "metadata": {
  "kernelspec": {
   "display_name": "env",
   "language": "python",
   "name": "python3"
  },
  "language_info": {
   "codemirror_mode": {
    "name": "ipython",
    "version": 3
   },
   "file_extension": ".py",
   "mimetype": "text/x-python",
   "name": "python",
   "nbconvert_exporter": "python",
   "pygments_lexer": "ipython3",
   "version": "3.12.3"
  }
 },
 "nbformat": 4,
 "nbformat_minor": 2
}
