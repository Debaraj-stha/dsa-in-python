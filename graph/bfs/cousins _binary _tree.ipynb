{
 "cells": [
  {
   "cell_type": "code",
   "execution_count": 12,
   "metadata": {},
   "outputs": [
    {
     "name": "stdout",
     "output_type": "stream",
     "text": [
      "True\n",
      "True\n",
      "False\n"
     ]
    }
   ],
   "source": [
    "from collections import deque\n",
    "\n",
    "class Node:\n",
    "    def __init__(self, data):\n",
    "        self.data = data\n",
    "        self.left = None\n",
    "        self.right = None\n",
    "\n",
    "def find_level_and_parent(root, target):\n",
    "    queue=deque([(root,None,0)])\n",
    "    while queue:\n",
    "        node,parent,level=queue.popleft()\n",
    "        if node == target:\n",
    "            return parent, level\n",
    "        if node.left:\n",
    "            queue.append((node.left, node, level+1))\n",
    "        if node.right:\n",
    "            queue.append((node.right, node, level+1))\n",
    "    return None,-1\n",
    "\n",
    "def is_cousin(root, node1, node2):\n",
    "    \"\"\"\n",
    "    A cousin node is node having different parent but at same level\n",
    "\n",
    "    Args:\n",
    "        root (_type_): _description_\n",
    "        node1 (_type_): _description_\n",
    "        node2 (_type_): _description_\n",
    "\n",
    "    Returns:\n",
    "        _type_: _description_\n",
    "    \"\"\"\n",
    "    if not root or not node1 or not node2:\n",
    "        return False\n",
    "    parent1, level1 = find_level_and_parent(root, node1)\n",
    "    parent2, level2 = find_level_and_parent(root, node2)\n",
    "    return level1 == level2 and parent1 != parent2\n",
    "\n",
    "root = Node(2)\n",
    "root.left = Node(1)\n",
    "root.right = Node(3)\n",
    "root.left.left = Node(4)\n",
    "root.left.right = Node(5)\n",
    "root.right.left = Node(7)\n",
    "root.right.right = Node(8)\n",
    "print(is_cousin(root, root.left.left, root.right.right))  # True (4 and 8 are cousins)\n",
    "print(is_cousin(root, root.left.right, root.right.left))  # True (5 and 7 are cousins)\n",
    "print(is_cousin(root, root.left, root.right))  # False (1 and 3 are siblings, not cousins)\n"
   ]
  }
 ],
 "metadata": {
  "kernelspec": {
   "display_name": "env",
   "language": "python",
   "name": "python3"
  },
  "language_info": {
   "codemirror_mode": {
    "name": "ipython",
    "version": 3
   },
   "file_extension": ".py",
   "mimetype": "text/x-python",
   "name": "python",
   "nbconvert_exporter": "python",
   "pygments_lexer": "ipython3",
   "version": "3.12.3"
  }
 },
 "nbformat": 4,
 "nbformat_minor": 2
}
