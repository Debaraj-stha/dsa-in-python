{
 "cells": [
  {
   "cell_type": "code",
   "execution_count": 1,
   "metadata": {},
   "outputs": [],
   "source": [
    "from collections import  defaultdict,deque"
   ]
  },
  {
   "cell_type": "code",
   "execution_count": 9,
   "metadata": {},
   "outputs": [
    {
     "data": {
      "text/plain": [
       "[[3, -1, 0, 1], [2, 2, 1, -1], [1, -1, 2, -1], [0, -1, 3, 4]]"
      ]
     },
     "execution_count": 9,
     "metadata": {},
     "output_type": "execute_result"
    }
   ],
   "source": [
    "dr = [1, 0, 0, -1]\n",
    "dc = [0, -1, 1, 0]\n",
    "def is_valid(rows,cols,row,col,grid):\n",
    "    return row >= 0 and row < rows and col >= 0 and col < cols and grid[row][col]==float(\"inf\")\n",
    "def wall_and_gate(grid):\n",
    "    if not grid or not grid[0]:\n",
    "        return grid\n",
    "    \n",
    "\n",
    "    rows, cols = len(grid), len(grid[0])\n",
    "    queue = deque()\n",
    "    for i in range(rows):\n",
    "        for j in range(cols):\n",
    "            if grid[i][j] == 0:\n",
    "                queue.append((i, j))\n",
    "\n",
    "    while queue:\n",
    "        row, col = queue.popleft()\n",
    "        for k in range(4):\n",
    "            nr, nc = row + dr[k], col + dc[k]\n",
    "            if is_valid(rows, cols, nr, nc, grid):\n",
    "                grid[nr][nc]=grid[row][col]+1\n",
    "                queue.append((nr, nc))\n",
    "    return grid\n",
    "\n",
    "\n",
    "grid = [\n",
    "    [float('inf'),  -1,  0,  float('inf')],\n",
    "    [float('inf'), float('inf'), float('inf'), -1],\n",
    "    [float('inf'), -1, float('inf'), -1],\n",
    "    [0,  -1,  float('inf'), float('inf')]\n",
    "]\n",
    "wall_and_gate(grid)# Output: [1, 0, 1, 2]"
   ]
  }
 ],
 "metadata": {
  "kernelspec": {
   "display_name": "env",
   "language": "python",
   "name": "python3"
  },
  "language_info": {
   "codemirror_mode": {
    "name": "ipython",
    "version": 3
   },
   "file_extension": ".py",
   "mimetype": "text/x-python",
   "name": "python",
   "nbconvert_exporter": "python",
   "pygments_lexer": "ipython3",
   "version": "3.12.3"
  }
 },
 "nbformat": 4,
 "nbformat_minor": 2
}
