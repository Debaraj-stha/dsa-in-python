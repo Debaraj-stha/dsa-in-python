{
 "cells": [
  {
   "cell_type": "code",
   "execution_count": 3,
   "metadata": {},
   "outputs": [],
   "source": [
    "from collections import deque,defaultdict"
   ]
  },
  {
   "cell_type": "code",
   "execution_count": 4,
   "metadata": {},
   "outputs": [
    {
     "name": "stdout",
     "output_type": "stream",
     "text": [
      "3\n"
     ]
    }
   ],
   "source": [
    "# Directions: Down, Left, Right, Up\n",
    "direction = \"DLRU\"\n",
    "dr = [1, 0, 0, -1]\n",
    "dc = [0, -1, 1, 0]\n",
    "\n",
    "def is_valid(row, col, rows, cols, graph):\n",
    "    return 0 <= row < rows and 0 <= col < cols and graph[row][col] == \"1\"\n",
    "\n",
    "def number_of_islands(graph):\n",
    "    rows, cols = len(graph), len(graph[0])\n",
    "    islands = 0\n",
    "    \n",
    "    def bfs(row, col):\n",
    "        queue = deque([(row, col)])\n",
    "        graph[row][col] = \"0\"  # Mark as visited\n",
    "        \n",
    "        while queue:\n",
    "            x, y = queue.popleft()\n",
    "            for i in range(4):\n",
    "                next_row, next_col = x + dr[i], y + dc[i]\n",
    "                if is_valid(next_row, next_col, rows, cols, graph):\n",
    "                    queue.append((next_row, next_col))\n",
    "                    graph[next_row][next_col] = \"0\"\n",
    "\n",
    "    for i in range(rows):\n",
    "        for j in range(cols):\n",
    "            if graph[i][j] == \"1\":\n",
    "                islands += 1\n",
    "                bfs(i, j)\n",
    "\n",
    "    return islands\n",
    "\n",
    "# Test case\n",
    "grid = [\n",
    "  [\"1\", \"1\", \"0\", \"0\", \"0\"],\n",
    "  [\"1\", \"1\", \"0\", \"0\", \"0\"],\n",
    "  [\"0\", \"0\", \"1\", \"0\", \"0\"],\n",
    "  [\"0\", \"0\", \"0\", \"1\", \"1\"]\n",
    "]\n",
    "print(number_of_islands(grid))  # Output: 3\n"
   ]
  },
  {
   "cell_type": "code",
   "execution_count": 5,
   "metadata": {},
   "outputs": [
    {
     "data": {
      "text/plain": [
       "['A', 'C', 'G']"
      ]
     },
     "execution_count": 5,
     "metadata": {},
     "output_type": "execute_result"
    }
   ],
   "source": [
    "def shortest_path(graph,start,end):\n",
    "    queue=deque([[start]])\n",
    "    visited=set()\n",
    "   \n",
    "    while queue:\n",
    "        path=queue.popleft()\n",
    "        vertex=path[-1]\n",
    "        if vertex==end:\n",
    "            return path\n",
    "        if vertex not in visited:\n",
    "            visited.add(vertex)\n",
    "            for neighbor in graph[vertex]:\n",
    "                new_path=list(path)\n",
    "                new_path.append(neighbor)\n",
    "                queue.append(new_path)\n",
    "    return []\n",
    "        \n",
    "\n",
    "graph = {\n",
    "    'A': ['B', 'C'],\n",
    "    'B': ['A', 'D', 'E'],\n",
    "    'C': ['A', 'F', 'G'],\n",
    "    'D': ['B'],\n",
    "    'E': ['B'],\n",
    "    'F': ['C'],\n",
    "    'G': ['C']\n",
    "}\n",
    "shortest_path(graph,\"A\",\"G\")"
   ]
  },
  {
   "cell_type": "code",
   "execution_count": null,
   "metadata": {},
   "outputs": [],
   "source": []
  }
 ],
 "metadata": {
  "kernelspec": {
   "display_name": "env",
   "language": "python",
   "name": "python3"
  },
  "language_info": {
   "codemirror_mode": {
    "name": "ipython",
    "version": 3
   },
   "file_extension": ".py",
   "mimetype": "text/x-python",
   "name": "python",
   "nbconvert_exporter": "python",
   "pygments_lexer": "ipython3",
   "version": "3.12.3"
  }
 },
 "nbformat": 4,
 "nbformat_minor": 2
}
