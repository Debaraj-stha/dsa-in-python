{
 "cells": [
  {
   "cell_type": "code",
   "execution_count": 5,
   "metadata": {},
   "outputs": [
    {
     "name": "stdout",
     "output_type": "stream",
     "text": [
      "[['hit', 'hot', 'dot', 'dog', 'cog'], ['hit', 'hot', 'lot', 'log', 'cog']]\n"
     ]
    }
   ],
   "source": [
    "from collections import deque,defaultdict\n",
    "\n",
    "def findLadders(beginWord, endWord, wordList):\n",
    "    wordSet = set(wordList)\n",
    "    if endWord not in wordSet:\n",
    "        return []\n",
    "    queue = deque([beginWord])\n",
    "    level = {beginWord: 0}\n",
    "    found=False\n",
    "    graph=defaultdict(list)\n",
    "    while queue and not found:\n",
    "        for _ in range(len(queue)):\n",
    "            word=queue.popleft()\n",
    "            currentLevel=level[word]\n",
    "            for i in range(len(word)):\n",
    "                for  c in 'abcdefghijklmnopqrstuvwxyz':\n",
    "                    new_word=word[:i]+c+word[i+1:]\n",
    "                    if new_word in wordSet:\n",
    "                        if new_word not in level:\n",
    "                            queue.append(new_word)\n",
    "                            level[new_word]=currentLevel+1\n",
    "                        if level[new_word]==currentLevel+1:\n",
    "                            graph[word].append(new_word)\n",
    "                        if new_word==endWord:\n",
    "                            found=True\n",
    "    if not found:\n",
    "        return []\n",
    "    res=[]\n",
    "    def backtrack(word,path):\n",
    "        if word==endWord:\n",
    "            res.append(path[:])\n",
    "            return\n",
    "        for next_word in graph[word]:\n",
    "            backtrack(next_word,path+[next_word])\n",
    "    backtrack(beginWord, [beginWord])\n",
    "    return res\n",
    "\n",
    "print(findLadders(\"hit\", \"cog\", [\"hot\",\"dot\",\"dog\",\"lot\",\"log\",\"cog\"]))\n",
    "\n"
   ]
  }
 ],
 "metadata": {
  "kernelspec": {
   "display_name": "env",
   "language": "python",
   "name": "python3"
  },
  "language_info": {
   "codemirror_mode": {
    "name": "ipython",
    "version": 3
   },
   "file_extension": ".py",
   "mimetype": "text/x-python",
   "name": "python",
   "nbconvert_exporter": "python",
   "pygments_lexer": "ipython3",
   "version": "3.12.3"
  }
 },
 "nbformat": 4,
 "nbformat_minor": 2
}
