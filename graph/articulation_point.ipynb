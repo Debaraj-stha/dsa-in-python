{
 "cells": [
  {
   "cell_type": "code",
   "execution_count": null,
   "metadata": {},
   "outputs": [
    {
     "name": "stdout",
     "output_type": "stream",
     "text": [
      "{3}\n"
     ]
    }
   ],
   "source": [
    "def find_articulation(graph):\n",
    "    nodes=set(graph.keys())\n",
    "    visited=set()\n",
    "    for neighbor  in graph.values():\n",
    "        nodes.update(neighbor)\n",
    "\n",
    "\n",
    "    time=[0]\n",
    "    low={node:-1 for node in nodes}\n",
    "    disc={node:-1 for node in nodes}\n",
    "    articulation_points=set()\n",
    "    def dfs(node,parent):\n",
    "        visited.add(node)\n",
    "        disc[node]=low[node]=time[0]\n",
    "        time[0]+=1\n",
    "        children=0\n",
    "        for neighbor in graph[node]:\n",
    "            if neighbor not in visited:\n",
    "                dfs(neighbor,node)\n",
    "                low[node]=min(low[node],low[neighbor])\n",
    "                if low[neighbor]>disc[node] and parent!=-1:\n",
    "                    articulation_points.add(node)\n",
    "                children+=1\n",
    "            elif neighbor!=parent:\n",
    "                low[node]=min(low[node],disc[neighbor])\n",
    "        if parent==-1 and children>1:\n",
    "            articulation_points.add(node)\n",
    "\n",
    "    for node in nodes:\n",
    "        if node not in visited:\n",
    "            dfs(node,-1)\n",
    "\n",
    "    return articulation_points\n",
    "graph = {\n",
    "    0: [3],\n",
    "    1: [0, 2],\n",
    "    2: [1],\n",
    "    3: [4],\n",
    "    4: [],\n",
    "    5: [3]\n",
    "}\n",
    "print(find_articulation(graph))"
   ]
  }
 ],
 "metadata": {
  "kernelspec": {
   "display_name": "myenv",
   "language": "python",
   "name": "python3"
  },
  "language_info": {
   "codemirror_mode": {
    "name": "ipython",
    "version": 3
   },
   "file_extension": ".py",
   "mimetype": "text/x-python",
   "name": "python",
   "nbconvert_exporter": "python",
   "pygments_lexer": "ipython3",
   "version": "3.12.3"
  }
 },
 "nbformat": 4,
 "nbformat_minor": 2
}
