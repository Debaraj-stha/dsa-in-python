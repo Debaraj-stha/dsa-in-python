{
 "cells": [
  {
   "cell_type": "code",
   "execution_count": null,
   "metadata": {},
   "outputs": [
    {
     "name": "stdout",
     "output_type": "stream",
     "text": [
      "0 2 3 1 \n",
      "0 1 4 5 2 3 "
     ]
    }
   ],
   "source": [
    "def traverse(graph):\n",
    "    visited = set()\n",
    "    for node in graph:\n",
    "        if node not in visited:\n",
    "            stack = [node]\n",
    "            while stack:\n",
    "                current_node = stack.pop()\n",
    "                if current_node not in visited:\n",
    "                    visited.add(current_node)\n",
    "                    print(current_node, end=' ')\n",
    "                    for neighbor in reversed(graph[current_node]):  # Reverse for correct DFS order\n",
    "                        if neighbor not in visited:\n",
    "                            stack.append(neighbor)\n",
    "\n",
    "def dfs_matrix_iterative(graph):\n",
    "    n = len(graph)\n",
    "    visited = set()\n",
    "\n",
    "    for start_node in range(n):  \n",
    "        if start_node not in visited:\n",
    "            stack = [start_node]\n",
    "            while stack:\n",
    "                node = stack.pop()\n",
    "                if node not in visited:\n",
    "                    visited.add(node)\n",
    "                    print(node, end=\" \")\n",
    "\n",
    "                    for neighbor in range(n - 1, -1, -1):  \n",
    "                        if graph[node][neighbor] == 1 and neighbor not in visited:\n",
    "                            stack.append(neighbor)\n",
    "\n",
    "# Adjacency list representation\n",
    "graph_list = {\n",
    "    0: [1, 2],\n",
    "    1: [0, 2, 3],\n",
    "    2: [0, 1, 3],\n",
    "    3: [1, 2]\n",
    "}\n",
    "\n",
    "print(\"DFS using adjacency list:\")\n",
    "traverse(graph_list)\n",
    "\n",
    "# Adjacency matrix representation\n",
    "graph_matrix = [\n",
    "    [0, 1, 1, 1, 0, 0],\n",
    "    [0, 0, 0, 0, 1, 0],\n",
    "    [0, 0, 0, 1, 0, 0],\n",
    "    [0, 0, 0, 0, 0, 1],\n",
    "    [0, 0, 0, 0, 0, 1],  \n",
    "    [0, 0, 0, 0, 0, 0]\n",
    "]\n",
    "\n",
    "print(\"\\nDFS using adjacency matrix:\")\n",
    "dfs_matrix_iterative(graph_matrix)\n"
   ]
  }
 ],
 "metadata": {
  "kernelspec": {
   "display_name": "myenv",
   "language": "python",
   "name": "python3"
  },
  "language_info": {
   "codemirror_mode": {
    "name": "ipython",
    "version": 3
   },
   "file_extension": ".py",
   "mimetype": "text/x-python",
   "name": "python",
   "nbconvert_exporter": "python",
   "pygments_lexer": "ipython3",
   "version": "3.12.3"
  }
 },
 "nbformat": 4,
 "nbformat_minor": 2
}
