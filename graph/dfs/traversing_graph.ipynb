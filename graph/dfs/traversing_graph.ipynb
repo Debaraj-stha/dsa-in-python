{
 "cells": [
  {
   "cell_type": "code",
   "execution_count": 4,
   "metadata": {},
   "outputs": [
    {
     "name": "stdout",
     "output_type": "stream",
     "text": [
      "DFS Traversal of Original Graph:\n",
      "1 3 4 5 2 6 \n",
      "\n",
      "Transposed Graph:\n",
      "{1: [2, 3], 2: [1, 4], 3: [1, 4], 4: [2, 3, 5], 5: [4], 6: []}\n",
      "\n",
      "DFS Traversal of Transposed Graph:\n",
      "1 3 4 5 2 6 "
     ]
    }
   ],
   "source": [
    "def transposeGraph(graph):\n",
    "    \"\"\"Returns the transpose (reverse) of the directed graph.\"\"\"\n",
    "    transpose = {node: [] for node in graph}  # Initialize with all nodes\n",
    "\n",
    "    for node in graph:\n",
    "        for neighbor in graph[node]:\n",
    "            transpose[neighbor].append(node)  # Reverse the direction\n",
    "\n",
    "    return transpose\n",
    "\n",
    "def traverseGraph(graph):\n",
    "    \"\"\"Performs a DFS traversal of the graph and prints nodes.\"\"\"\n",
    "    visited = set()\n",
    "\n",
    "    for node in graph:\n",
    "        if node not in visited:\n",
    "            stack = [node]\n",
    "            visited.add(node)\n",
    "            while stack:\n",
    "                current_node = stack.pop()\n",
    "                print(current_node, end=' ')  # Print the node\n",
    "                \n",
    "                for neighbor in graph[current_node]:\n",
    "                    if neighbor not in visited:\n",
    "                        visited.add(neighbor)\n",
    "                        stack.append(neighbor)\n",
    "\n",
    "# Original graph\n",
    "graph = {\n",
    "    1: [2, 3],\n",
    "    2: [1, 4],\n",
    "    3: [1, 4],\n",
    "    4: [2, 3, 5],\n",
    "    5: [4],\n",
    "    6: []  # Disconnected node\n",
    "}\n",
    "\n",
    "# Perform DFS traversal\n",
    "print(\"DFS Traversal of Original Graph:\")\n",
    "traverseGraph(graph)\n",
    "\n",
    "# Transpose the graph\n",
    "t = transposeGraph(graph)\n",
    "\n",
    "print(\"\\n\\nTransposed Graph:\")\n",
    "print(t)\n",
    "\n",
    "# Perform DFS traversal on transposed graph\n",
    "print(\"\\nDFS Traversal of Transposed Graph:\")\n",
    "traverseGraph(t)\n"
   ]
  }
 ],
 "metadata": {
  "kernelspec": {
   "display_name": "myenv",
   "language": "python",
   "name": "python3"
  },
  "language_info": {
   "codemirror_mode": {
    "name": "ipython",
    "version": 3
   },
   "file_extension": ".py",
   "mimetype": "text/x-python",
   "name": "python",
   "nbconvert_exporter": "python",
   "pygments_lexer": "ipython3",
   "version": "3.12.3"
  }
 },
 "nbformat": 4,
 "nbformat_minor": 2
}
