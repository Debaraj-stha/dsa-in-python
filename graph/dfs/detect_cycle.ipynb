{
 "cells": [
  {
   "cell_type": "code",
   "execution_count": 4,
   "metadata": {},
   "outputs": [
    {
     "name": "stdout",
     "output_type": "stream",
     "text": [
      "1 None\n",
      "0 0\n",
      "2 0\n",
      "0 1\n",
      "True\n"
     ]
    }
   ],
   "source": [
    "def detect_cycle_util(graph,node,visited,parent):\n",
    "    visited.add(node)\n",
    "    for neighbor in graph[node]:\n",
    "        print(neighbor,parent)\n",
    "        if neighbor not in visited:\n",
    "            if detect_cycle_util(graph, neighbor, visited, node):\n",
    "                return True\n",
    "        elif neighbor!=parent:\n",
    "            return True\n",
    "    return False\n",
    "def detect_cycle(graph):\n",
    "    visited=set()\n",
    "    for node in graph:\n",
    "        if node not in visited:\n",
    "            if detect_cycle_util(graph, node, visited, None):\n",
    "                return True\n",
    "\n",
    "\n",
    "graph = {\n",
    "0:[1,2],\n",
    "1:[0,2],\n",
    "2:[0,1]\n",
    "}\n",
    "\n",
    "print(detect_cycle(graph))  # Expected output: True"
   ]
  }
 ],
 "metadata": {
  "kernelspec": {
   "display_name": "env",
   "language": "python",
   "name": "python3"
  },
  "language_info": {
   "codemirror_mode": {
    "name": "ipython",
    "version": 3
   },
   "file_extension": ".py",
   "mimetype": "text/x-python",
   "name": "python",
   "nbconvert_exporter": "python",
   "pygments_lexer": "ipython3",
   "version": "3.12.3"
  }
 },
 "nbformat": 4,
 "nbformat_minor": 2
}
