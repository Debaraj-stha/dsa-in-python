{
 "cells": [
  {
   "cell_type": "code",
   "execution_count": null,
   "metadata": {},
   "outputs": [
    {
     "name": "stdout",
     "output_type": "stream",
     "text": [
      "3\n",
      "4\n",
      "149\n",
      "None\n"
     ]
    }
   ],
   "source": [
    "class Node:\n",
    "    def __init__(self, value):\n",
    "        self.value = value\n",
    "        self.left = None\n",
    "        self.right = None\n",
    "\n",
    "def depth(root,target,level=0):\n",
    "    if not root:\n",
    "        return -1\n",
    "    stack=[(root,level)]\n",
    "    while stack:\n",
    "        node,nlevel=stack.pop()\n",
    "        if node.value==target:\n",
    "            return nlevel\n",
    "        if node.left:\n",
    "            stack.append((node.left,nlevel+1))\n",
    "        if node.right:\n",
    "            stack.append((node.right,nlevel+1))\n",
    "    return -1\n",
    "\n",
    "def maxDepth(root):\n",
    "    if not root:\n",
    "        return 0\n",
    "    stack=[(root,0)]\n",
    "    max_depth=0\n",
    "    while stack:\n",
    "        node,level=stack.pop()\n",
    "        max_depth=max(max_depth,level)\n",
    "        if node.left:\n",
    "            stack.append((node.left,level+1))\n",
    "        if node.right:\n",
    "            stack.append((node.right,level+1))\n",
    "    return max_depth\n",
    "\n",
    "def finsSum(root):\n",
    "    if not root:\n",
    "        return 0\n",
    "    stack=[root]\n",
    "    s=0\n",
    "    while stack:\n",
    "        node=stack.pop()\n",
    "        s+=node.value\n",
    "        if node.left:\n",
    "            stack.append(node.left)\n",
    "        if node.right:\n",
    "            stack.append(node.right)\n",
    "    return s\n",
    "\n",
    "def isBalanced(root):\n",
    "    if not root:\n",
    "        return True\n",
    "    left_height=maxDepth(root.left)\n",
    "    right_height=maxDepth(root.right)\n",
    "    if abs(left_height-right_height)>1 or not isBalanced(root.left) or not isBalanced(root.right):\n",
    "        return False\n",
    "    return True\n",
    "\n",
    "\n",
    "root=Node(8)\n",
    "root.left=Node(3)\n",
    "root.right=Node(10)\n",
    "root.left.left=Node(1)\n",
    "root.left.right=Node(6)\n",
    "root.right.left=Node(9) \n",
    "root.right.right=Node(11)\n",
    "root.left.right.left=Node(99)\n",
    "root.left.right.left.right=Node(2)\n",
    "print(depth(root, 99))\n",
    "print(maxDepth(root))\n",
    "print(finsSum(root))\n"
   ]
  }
 ],
 "metadata": {
  "kernelspec": {
   "display_name": "myenv",
   "language": "python",
   "name": "python3"
  },
  "language_info": {
   "codemirror_mode": {
    "name": "ipython",
    "version": 3
   },
   "file_extension": ".py",
   "mimetype": "text/x-python",
   "name": "python",
   "nbconvert_exporter": "python",
   "pygments_lexer": "ipython3",
   "version": "3.12.3"
  }
 },
 "nbformat": 4,
 "nbformat_minor": 2
}
