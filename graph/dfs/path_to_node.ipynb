{
 "cells": [
  {
   "cell_type": "code",
   "execution_count": 8,
   "metadata": {},
   "outputs": [
    {
     "data": {
      "text/plain": [
       "[6, 3, 1]"
      ]
     },
     "execution_count": 8,
     "metadata": {},
     "output_type": "execute_result"
    }
   ],
   "source": [
    "class Node:\n",
    "    def __init__(self, value):\n",
    "        self.value = value\n",
    "        self.left = None\n",
    "        self.right = None\n",
    "\n",
    "\n",
    "def pathToLeaf(root,targetsum):\n",
    "    if not root:\n",
    "        return []\n",
    "    stack=[(root,root.value,[root.value])]\n",
    "    path=[]\n",
    "    while stack:\n",
    "        node,cost,path=stack.pop()\n",
    "        if cost==targetsum and not node.left and not node.right:\n",
    "            return path\n",
    "        if node.right:\n",
    "            stack.append((node.right,cost+node.right.value,path+[node.right.value]))\n",
    "        if node.left:\n",
    "            stack.append((node.left,cost+node.left.value,path+[node.left.value]))\n",
    "\n",
    "    return []\n",
    "    \n",
    "root=Node(6)\n",
    "root.left=Node(3)\n",
    "root.right=Node(8)\n",
    "root.left.left=Node(1)\n",
    "root.left.right=Node(2)\n",
    "root.right.left=Node(5)\n",
    "root.right.right=Node(9)\n",
    "pathToLeaf(root,10)\n"
   ]
  }
 ],
 "metadata": {
  "kernelspec": {
   "display_name": "myenv",
   "language": "python",
   "name": "python3"
  },
  "language_info": {
   "codemirror_mode": {
    "name": "ipython",
    "version": 3
   },
   "file_extension": ".py",
   "mimetype": "text/x-python",
   "name": "python",
   "nbconvert_exporter": "python",
   "pygments_lexer": "ipython3",
   "version": "3.12.3"
  }
 },
 "nbformat": 4,
 "nbformat_minor": 2
}
