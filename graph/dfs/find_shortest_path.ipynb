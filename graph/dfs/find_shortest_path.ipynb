{
 "cells": [
  {
   "cell_type": "code",
   "execution_count": null,
   "metadata": {},
   "outputs": [
    {
     "name": "stdout",
     "output_type": "stream",
     "text": [
      "['A', 'C', 'G']\n"
     ]
    }
   ],
   "source": [
    "def dfs(graph, start, end, visited, path, shortest_path):\n",
    "    visited.add(start)\n",
    "    path.append(start)\n",
    "    if start == end:\n",
    "        if not shortest_path or len(path) < len(shortest_path):\n",
    "            shortest_path[:] = path[:]\n",
    "    else:\n",
    "        for neighbor in graph[start]:\n",
    "            if neighbor not in visited:\n",
    "                dfs(graph, neighbor, end, visited, path, shortest_path)\n",
    "    path.pop()\n",
    "    visited.remove(start)\n",
    "\n",
    "def shortestpath(graph, start, end):\n",
    "    visited = set()\n",
    "    path = []\n",
    "    shortest_path = []\n",
    "    \n",
    "   \n",
    "    dfs(graph, start, end, visited, path, shortest_path)\n",
    "    \n",
    "    return shortest_path\n",
    "\n",
    "graph = {\n",
    "    'A': ['B', 'C'],\n",
    "    'B': ['A', 'D', 'E'],\n",
    "    'C': ['A', 'F', 'G'],\n",
    "    'D': ['B'],\n",
    "    'E': ['B'],\n",
    "    'F': ['C'],\n",
    "    'G': ['C']\n",
    "}\n",
    "\n",
    "start = \"A\"\n",
    "end = \"G\"\n",
    "print(shortestpath(graph, start, end))\n"
   ]
  }
 ],
 "metadata": {
  "kernelspec": {
   "display_name": "myenv",
   "language": "python",
   "name": "python3"
  },
  "language_info": {
   "codemirror_mode": {
    "name": "ipython",
    "version": 3
   },
   "file_extension": ".py",
   "mimetype": "text/x-python",
   "name": "python",
   "nbconvert_exporter": "python",
   "pygments_lexer": "ipython3",
   "version": "3.12.3"
  }
 },
 "nbformat": 4,
 "nbformat_minor": 2
}
