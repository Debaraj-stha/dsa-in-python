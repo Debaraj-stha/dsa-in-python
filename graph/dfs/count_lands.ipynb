{
 "cells": [
  {
   "cell_type": "code",
   "execution_count": null,
   "metadata": {},
   "outputs": [
    {
     "name": "stdout",
     "output_type": "stream",
     "text": [
      "5\n"
     ]
    }
   ],
   "source": [
    "dr = [1, 0, 0, -1]\n",
    "dc = [0, -1, 1, 0]\n",
    "\n",
    "def isValid(grid, row, col, rows, cols, visited):\n",
    "    return 0 <= row < rows and 0 <= col < cols and grid[row][col] == 1 and not visited[row][col]\n",
    "\n",
    "def countLands(grid):\n",
    "    rows, cols = len(grid), len(grid[0])\n",
    "    visited = [[False] * cols for _ in range(rows)]\n",
    "    count = 0  \n",
    "\n",
    "    def backtrack(row, col):\n",
    "        visited[row][col] = True\n",
    "        for i in range(4):\n",
    "            new_row, new_col = row + dr[i], col + dc[i]\n",
    "            if isValid(grid, new_row, new_col, rows, cols, visited):\n",
    "                backtrack(new_row, new_col)\n",
    "\n",
    "    for row in range(rows):\n",
    "        for col in range(cols):\n",
    "            if grid[row][col] == 1 and not visited[row][col]:\n",
    "                count += 1 \n",
    "                backtrack(row, col)\n",
    "\n",
    "    return count\n",
    "\n",
    "\n",
    "grid = [\n",
    "    [1, 1, 0, 0],\n",
    "    [0, 1, 0, 1],\n",
    "    [1, 0, 1, 1],\n",
    "    [0, 1, 0, 0],\n",
    "    [1, 1, 0, 1]\n",
    "]\n",
    "\n",
    "print(countLands(grid)) \n"
   ]
  }
 ],
 "metadata": {
  "kernelspec": {
   "display_name": "myenv",
   "language": "python",
   "name": "python3"
  },
  "language_info": {
   "codemirror_mode": {
    "name": "ipython",
    "version": 3
   },
   "file_extension": ".py",
   "mimetype": "text/x-python",
   "name": "python",
   "nbconvert_exporter": "python",
   "pygments_lexer": "ipython3",
   "version": "3.12.3"
  }
 },
 "nbformat": 4,
 "nbformat_minor": 2
}
