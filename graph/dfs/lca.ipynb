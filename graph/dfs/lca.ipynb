{
 "cells": [
  {
   "cell_type": "code",
   "execution_count": 6,
   "metadata": {},
   "outputs": [
    {
     "name": "stdout",
     "output_type": "stream",
     "text": [
      "LCA of 11 and 99 is 7\n"
     ]
    }
   ],
   "source": [
    "class Node:\n",
    "    def __init__(self, value=0):\n",
    "        self.value = value\n",
    "        self.left = None\n",
    "        self.right = None\n",
    "\n",
    "def lca(root, node1, node2):\n",
    "    if not root:\n",
    "        return None\n",
    "    if root.value == node1 or root.value == node2:\n",
    "        return root\n",
    "    left_lca = lca(root.left, node1, node2)\n",
    "    right_lca = lca(root.right, node1, node2)\n",
    "    if left_lca and right_lca:\n",
    "        return root\n",
    "\n",
    " \n",
    "    return left_lca if left_lca else right_lca\n",
    "\n",
    "root = Node(4)\n",
    "root.left = Node(2)\n",
    "root.right = Node(5)\n",
    "root.left.left = Node(1)\n",
    "root.left.right = Node(3)\n",
    "root.right.left = Node(6)\n",
    "root.right.right = Node(7)\n",
    "root.right.right.left = Node(11)\n",
    "root.right.right.right = Node(99)\n",
    "\n",
    "\n",
    "result = lca(root, 11, 99)\n",
    "if result:\n",
    "    print(\"LCA of 11 and 99 is\", result.value)\n",
    "else:\n",
    "    print(\"Nodes not found in tree.\")\n"
   ]
  }
 ],
 "metadata": {
  "kernelspec": {
   "display_name": "myenv",
   "language": "python",
   "name": "python3"
  },
  "language_info": {
   "codemirror_mode": {
    "name": "ipython",
    "version": 3
   },
   "file_extension": ".py",
   "mimetype": "text/x-python",
   "name": "python",
   "nbconvert_exporter": "python",
   "pygments_lexer": "ipython3",
   "version": "3.12.3"
  }
 },
 "nbformat": 4,
 "nbformat_minor": 2
}
