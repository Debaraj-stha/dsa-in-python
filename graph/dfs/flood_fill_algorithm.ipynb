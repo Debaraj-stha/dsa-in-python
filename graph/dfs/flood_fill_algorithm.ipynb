{
 "cells": [
  {
   "cell_type": "code",
   "execution_count": 3,
   "metadata": {},
   "outputs": [
    {
     "name": "stdout",
     "output_type": "stream",
     "text": [
      "[[2, 2, 2], [2, 2, 0], [2, 0, 1]]\n"
     ]
    }
   ],
   "source": [
    "dr=[1,0,0,-1]\n",
    "dc=[0,-1,1,0]\n",
    "def isValid(image,row,col,rows,cols,origionalColor):\n",
    "    return 0 <= row < rows and 0 <= col < cols and image[row][col] == origionalColor\n",
    "\n",
    "def dfs(image,row,col,rows,cols,newColor,origionalColor):\n",
    "    image[row][col] = newColor\n",
    "    for i in range(4):\n",
    "        nrow,ncol=row+dr[i],col+dc[i]\n",
    "        if isValid(image, nrow, ncol, rows, cols, origionalColor):\n",
    "            dfs(image, nrow, ncol, rows, cols, newColor, origionalColor)\n",
    "    return 0\n",
    "\n",
    "def floodFill(image, sr, sc, newColor):\n",
    "    rows,cols=len(image),len(image[0])\n",
    "    if not isValid(image, sr, sc, len(image), len(image[0]), image[sr][sc]):\n",
    "        return image\n",
    "    dfs(image,sr,sc,rows,cols,newColor,image[sr][sc])\n",
    "    return image\n",
    "\n",
    "image = [[1,1,1],[1,1,0],[1,0,1]]\n",
    "sr = 1\n",
    "sc = 1\n",
    "newColor = 2\n",
    "print(floodFill(image, sr, sc, newColor)) # Output: [[2,2,2],[2,2,0],[2,0,1]]"
   ]
  }
 ],
 "metadata": {
  "kernelspec": {
   "display_name": "myenv",
   "language": "python",
   "name": "python3"
  },
  "language_info": {
   "codemirror_mode": {
    "name": "ipython",
    "version": 3
   },
   "file_extension": ".py",
   "mimetype": "text/x-python",
   "name": "python",
   "nbconvert_exporter": "python",
   "pygments_lexer": "ipython3",
   "version": "3.12.3"
  }
 },
 "nbformat": 4,
 "nbformat_minor": 2
}
