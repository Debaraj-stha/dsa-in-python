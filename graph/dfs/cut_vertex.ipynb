{
 "cells": [
  {
   "cell_type": "code",
   "execution_count": null,
   "metadata": {},
   "outputs": [
    {
     "name": "stdout",
     "output_type": "stream",
     "text": [
      "Articulation Points: {3}\n"
     ]
    }
   ],
   "source": [
    "def cut_vertex(graph):\n",
    "    def dfs(node, parent, visited, low, dics, time, articulation_points):\n",
    "        visited.add(node)\n",
    "        low[node] = dics[node] = time\n",
    "        time += 1\n",
    "        children = 0\n",
    "        \n",
    "        for neighbor in graph[node]:\n",
    "            if neighbor not in visited:\n",
    "                dfs(neighbor, node, visited, low, dics, time, articulation_points)\n",
    "                low[node] = min(low[node], low[neighbor])\n",
    "                # Articulation point condition\n",
    "                if low[neighbor] >= dics[node] and parent != -1:\n",
    "                    articulation_points.add(node)\n",
    "                children += 1\n",
    "            elif neighbor != parent:\n",
    "                low[node] = min(low[node], dics[neighbor])\n",
    "        \n",
    "        # Special case for the root\n",
    "        if parent == -1 and children > 1:\n",
    "            articulation_points.add(node)\n",
    "\n",
    "    visited = set()\n",
    "    low = {}\n",
    "    dics = {}\n",
    "    articulation_points = set()\n",
    "    time = 0\n",
    "    \n",
    "\n",
    "    for node in graph:\n",
    "        low[node] = -1\n",
    "        dics[node] = -1\n",
    "    for node in graph:\n",
    "        if node not in visited:\n",
    "            dfs(node, -1, visited, low, dics, time, articulation_points)\n",
    "    \n",
    "   \n",
    "    print(\"Articulation Points:\", articulation_points)\n",
    "\n",
    "\n",
    "graph = {\n",
    "    0: [3],\n",
    "    1: [0, 2],\n",
    "    2: [1],\n",
    "    3: [4],\n",
    "    4: [],\n",
    "    5: [3]\n",
    "}\n",
    "\n",
    "cut_vertex(graph)\n"
   ]
  }
 ],
 "metadata": {
  "kernelspec": {
   "display_name": "myenv",
   "language": "python",
   "name": "python3"
  },
  "language_info": {
   "codemirror_mode": {
    "name": "ipython",
    "version": 3
   },
   "file_extension": ".py",
   "mimetype": "text/x-python",
   "name": "python",
   "nbconvert_exporter": "python",
   "pygments_lexer": "ipython3",
   "version": "3.12.3"
  }
 },
 "nbformat": 4,
 "nbformat_minor": 2
}
