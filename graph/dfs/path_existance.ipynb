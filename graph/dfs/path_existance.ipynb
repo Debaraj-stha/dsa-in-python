{
 "cells": [
  {
   "cell_type": "code",
   "execution_count": 12,
   "metadata": {},
   "outputs": [
    {
     "name": "stdout",
     "output_type": "stream",
     "text": [
      "True\n",
      "False\n",
      "True\n"
     ]
    }
   ],
   "source": [
    "def pathExists(graph,vertex1,vertex2):\n",
    "    if vertex1==vertex2:return True\n",
    "    visited=set()\n",
    "    stack=[vertex1]\n",
    "    while stack:\n",
    "        node=stack.pop()\n",
    "        if node==vertex2:return True\n",
    "        if node not in visited: visited.add(node)\n",
    "        for neighbor in graph[node]:\n",
    "            if neighbor not in visited:\n",
    "                stack.append(neighbor)\n",
    "    return False\n",
    "                \n",
    "graph={\n",
    "    0: [1, 2],\n",
    "    1: [0, 2, 3],\n",
    "    2: [0, 1, 3],\n",
    "    3: [1, 2],\n",
    "    4: [3],\n",
    "    5: [4]\n",
    "}\n",
    "print(pathExists(graph, 0, 3))  # Expected output: True\n",
    "print(pathExists(graph, 0, 5))  # Expected output: False\n",
    "print(pathExists(graph, 5, 0))  # Expected output: True\n"
   ]
  }
 ],
 "metadata": {
  "kernelspec": {
   "display_name": "myenv",
   "language": "python",
   "name": "python3"
  },
  "language_info": {
   "codemirror_mode": {
    "name": "ipython",
    "version": 3
   },
   "file_extension": ".py",
   "mimetype": "text/x-python",
   "name": "python",
   "nbconvert_exporter": "python",
   "pygments_lexer": "ipython3",
   "version": "3.12.3"
  }
 },
 "nbformat": 4,
 "nbformat_minor": 2
}
