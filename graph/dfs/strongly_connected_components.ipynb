{
 "cells": [
  {
   "cell_type": "code",
   "execution_count": 8,
   "metadata": {},
   "outputs": [
    {
     "data": {
      "text/plain": [
       "[[5], [1, 2], [0], [3], [4]]"
      ]
     },
     "execution_count": 8,
     "metadata": {},
     "output_type": "execute_result"
    }
   ],
   "source": [
    "def stronglyConnectedCompponents(graph):\n",
    "    def dfs(node,visited,graph,stack=None,component=None):\n",
    "        visited.add(node)\n",
    "        if component is not None:\n",
    "            component.append(node)\n",
    "        for neighbor in graph[node]:\n",
    "            if neighbor not in visited:\n",
    "                dfs(neighbor,visited,graph,stack,component)\n",
    "        if stack is not None:\n",
    "            stack.append(node)\n",
    "    def transposeGraph():\n",
    "        trasnpose={node:[] for node in graph}\n",
    "        for node in graph:\n",
    "            for neighbor in graph[node]:\n",
    "                trasnpose[neighbor].append(node)\n",
    "        return trasnpose\n",
    "    \n",
    "    visited = set()\n",
    "    stack=[]\n",
    "    for node in graph:\n",
    "        if node not in visited:\n",
    "            dfs(node,visited,graph,stack)\n",
    "    tr = transposeGraph()\n",
    "    visited = set()\n",
    "    ssc=[]\n",
    "    while stack:\n",
    "        node = stack.pop()\n",
    "        if node not in visited:\n",
    "            component=[]\n",
    "            dfs(node,visited,tr,None,component)\n",
    "            ssc.append(component)\n",
    "    return ssc\n",
    "   \n",
    "graph = {\n",
    "    0: [3],\n",
    "    1: [0, 2],\n",
    "    2: [1],\n",
    "    3: [4],\n",
    "    4: [],\n",
    "    5: [3]\n",
    "}\n",
    "stronglyConnectedCompponents(graph)\n"
   ]
  }
 ],
 "metadata": {
  "kernelspec": {
   "display_name": "myenv",
   "language": "python",
   "name": "python3"
  },
  "language_info": {
   "codemirror_mode": {
    "name": "ipython",
    "version": 3
   },
   "file_extension": ".py",
   "mimetype": "text/x-python",
   "name": "python",
   "nbconvert_exporter": "python",
   "pygments_lexer": "ipython3",
   "version": "3.12.3"
  }
 },
 "nbformat": 4,
 "nbformat_minor": 2
}
