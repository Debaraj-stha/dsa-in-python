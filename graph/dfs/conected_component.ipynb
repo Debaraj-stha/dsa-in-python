{
 "cells": [
  {
   "cell_type": "code",
   "execution_count": null,
   "metadata": {},
   "outputs": [
    {
     "name": "stdout",
     "output_type": "stream",
     "text": [
      "[[1, 3, 4, 5, 2], [6]]\n"
     ]
    }
   ],
   "source": [
    "\n",
    "def connected_component(graph):\n",
    "    visited = set()\n",
    "    components = []\n",
    "    \n",
    "    for node in graph:\n",
    "        if node not in visited:\n",
    "            component = []\n",
    "            stack = [node]\n",
    "            while stack:\n",
    "                current_node = stack.pop()\n",
    "                if current_node not in visited:\n",
    "                    visited.add(current_node)\n",
    "                    component.append(current_node)\n",
    "                    for neighbor in graph[current_node]:  \n",
    "                        if neighbor not in visited:\n",
    "                            stack.append(neighbor)\n",
    "            \n",
    "            components.append(component)\n",
    "    \n",
    "    return components\n",
    "\n",
    "\n",
    "\n",
    "graph = {\n",
    "    1: {2, 3},\n",
    "    2: {1, 4},\n",
    "    3: {1, 4},\n",
    "    4: {2, 3, 5},\n",
    "    5: {4},\n",
    "    6: {3}\n",
    "}\n",
    "components=connected_component(graph)\n",
    "print(components)  "
   ]
  },
  {
   "cell_type": "code",
   "execution_count": 5,
   "metadata": {},
   "outputs": [
    {
     "name": "stdout",
     "output_type": "stream",
     "text": [
      "[[0, 2, 3, 1]]\n"
     ]
    }
   ],
   "source": [
    "def connected_component(graph):\n",
    "    visited = set()\n",
    "    components = []\n",
    "    \n",
    "    for node in graph:\n",
    "        if node not in visited:\n",
    "            component = []\n",
    "            stack = [node]\n",
    "            \n",
    "            while stack:\n",
    "                current_node = stack.pop()\n",
    "                if current_node not in visited:\n",
    "                    visited.add(current_node)\n",
    "                    component.append(current_node)\n",
    "                    \n",
    "                    for neighbor in graph[current_node]:  # Add neighbors only if not visited\n",
    "                        if neighbor not in visited:\n",
    "                            stack.append(neighbor)\n",
    "            \n",
    "            components.append(component)\n",
    "    \n",
    "    return components\n",
    "\n",
    "graph = {\n",
    "    0: [1, 2],\n",
    "    1: [0, 2, 3],\n",
    "    2: [0, 1, 3],\n",
    "    3: [1, 2]\n",
    "}\n",
    "\n",
    "components = connected_component(graph)\n",
    "print(components)  # Expected output: [[0, 1, 2, 3]] (all nodes are connected)\n"
   ]
  }
 ],
 "metadata": {
  "kernelspec": {
   "display_name": "myenv",
   "language": "python",
   "name": "python3"
  },
  "language_info": {
   "codemirror_mode": {
    "name": "ipython",
    "version": 3
   },
   "file_extension": ".py",
   "mimetype": "text/x-python",
   "name": "python",
   "nbconvert_exporter": "python",
   "pygments_lexer": "ipython3",
   "version": "3.12.3"
  }
 },
 "nbformat": 4,
 "nbformat_minor": 2
}
