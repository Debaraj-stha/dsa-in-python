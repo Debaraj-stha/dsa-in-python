{
 "cells": [
  {
   "cell_type": "code",
   "execution_count": 5,
   "metadata": {},
   "outputs": [
    {
     "data": {
      "text/plain": [
       "5"
      ]
     },
     "execution_count": 5,
     "metadata": {},
     "output_type": "execute_result"
    }
   ],
   "source": [
    "class Node:\n",
    "    def __init__(self, value):\n",
    "        self.value = value\n",
    "        self.left = None\n",
    "        self.right = None\n",
    "\n",
    "def maxDepth(root):\n",
    "    if not root:\n",
    "        return 0\n",
    "    maxDepth=0\n",
    "    stack=[[root,1]]\n",
    "    while stack:\n",
    "        node,level=stack.pop()\n",
    "        maxDepth=max(maxDepth,level)\n",
    "        if node.left:\n",
    "            stack.append((node.left,level+1))\n",
    "        if node.right:\n",
    "            stack.append((node.right,level+1))\n",
    "    return maxDepth\n",
    "def diameter(root):\n",
    "    if not root:\n",
    "        return []\n",
    "    maxDiameter=float('-inf')\n",
    "    def dfs(node):\n",
    "        nonlocal maxDiameter\n",
    "        if not node:\n",
    "            return 0\n",
    "        leftHeight=h(node.left)\n",
    "        rightHeight=h(node.right)\n",
    "        maxDiameter=max(maxDiameter,leftHeight+rightHeight)\n",
    "        # return max(leftHeight,rightHeight)+1\n",
    "    dfs(root)\n",
    "    return maxDiameter\n",
    "    \n",
    "\n",
    "def h(root):\n",
    "    if not root:\n",
    "        return 0\n",
    "    return max(h(root.left),h(root.right))+1\n",
    "    \n",
    "    \n",
    "root=Node(6)\n",
    "root.left=Node(3)\n",
    "root.right=Node(8)\n",
    "root.left.left=Node(1)\n",
    "root.left.right=Node(2)\n",
    "root.right.left=Node(5)\n",
    "root.right.right=Node(9)\n",
    "root.left.left.left=Node(44)\n",
    "diameter(root)\n",
    "\n"
   ]
  },
  {
   "cell_type": "code",
   "execution_count": null,
   "metadata": {},
   "outputs": [
    {
     "name": "stdout",
     "output_type": "stream",
     "text": [
      "3\n"
     ]
    }
   ],
   "source": []
  }
 ],
 "metadata": {
  "kernelspec": {
   "display_name": "myenv",
   "language": "python",
   "name": "python3"
  },
  "language_info": {
   "codemirror_mode": {
    "name": "ipython",
    "version": 3
   },
   "file_extension": ".py",
   "mimetype": "text/x-python",
   "name": "python",
   "nbconvert_exporter": "python",
   "pygments_lexer": "ipython3",
   "version": "3.12.3"
  }
 },
 "nbformat": 4,
 "nbformat_minor": 2
}
