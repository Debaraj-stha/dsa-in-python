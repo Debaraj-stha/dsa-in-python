{
 "cells": [
  {
   "cell_type": "code",
   "execution_count": 15,
   "metadata": {},
   "outputs": [
    {
     "name": "stdout",
     "output_type": "stream",
     "text": [
      "[[0, 1, 3, 4, 5, 6], [0, 1, 6], [0, 2, 5, 6], [0, 2, 5, 4, 3, 1, 6]]\n"
     ]
    }
   ],
   "source": [
    "def allPathFromSourceToDestination(graph,source,destination):\n",
    "    n=max(graph.keys())+1\n",
    "    visited=[False]*n\n",
    "    path=[]\n",
    "    def dfs(node,temppath):\n",
    "        visited[node]=True\n",
    "        temppath.append(node)\n",
    "        if node==destination:\n",
    "            path.append(temppath)\n",
    "        stack=[node]\n",
    "        while stack:\n",
    "            node=stack.pop()\n",
    "            for neighbor in graph[node]:\n",
    "                if not visited[neighbor]:\n",
    "                    dfs(neighbor,temppath[:])\n",
    "        visited[node]=False\n",
    "    dfs(source,[])\n",
    "    return path\n",
    "\n",
    "graph={\n",
    "    0:[1,2],\n",
    "    1:[0,3,6],\n",
    "    2:[0,5],\n",
    "    3:[1,4],\n",
    "    4:[3,5],\n",
    "    5:[2,6,4],\n",
    "    6:[1,5]\n",
    "}\n",
    "source=0\n",
    "destination=6\n",
    "print(allPathFromSourceToDestination(graph,source,destination))"
   ]
  }
 ],
 "metadata": {
  "kernelspec": {
   "display_name": "myenv",
   "language": "python",
   "name": "python3"
  },
  "language_info": {
   "codemirror_mode": {
    "name": "ipython",
    "version": 3
   },
   "file_extension": ".py",
   "mimetype": "text/x-python",
   "name": "python",
   "nbconvert_exporter": "python",
   "pygments_lexer": "ipython3",
   "version": "3.12.3"
  }
 },
 "nbformat": 4,
 "nbformat_minor": 2
}
