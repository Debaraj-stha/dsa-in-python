{
 "cells": [
  {
   "cell_type": "code",
   "execution_count": null,
   "metadata": {},
   "outputs": [
    {
     "data": {
      "text/plain": [
       "False"
      ]
     },
     "execution_count": 8,
     "metadata": {},
     "output_type": "execute_result"
    }
   ],
   "source": [
    "class Node:\n",
    "    def __init__(self, value):\n",
    "        self.value = value\n",
    "        self.left = None\n",
    "        self.right = None\n",
    "\n",
    "\n",
    "def isBST(root):\n",
    "    if root is None:\n",
    "        return True\n",
    "    stack=[(root,float(\"-inf\"),float(\"inf\"))]\n",
    "    while stack:\n",
    "        node,minval,maxval=stack.pop()\n",
    "        if not node:\n",
    "            continue\n",
    "        if not (minval<node.value<maxval):\n",
    "            return False\n",
    "        stack.append((node.right,node.value,maxval))\n",
    "        stack.append((node.left,minval,node.value))  \n",
    "    return True\n",
    "    \n",
    "root=Node(6)\n",
    "root.left=Node(3)\n",
    "root.right=Node(8)\n",
    "root.left.left=Node(1)\n",
    "root.left.right=Node(2)\n",
    "root.right.left=Node(5)\n",
    "root.right.right=Node(9)\n",
    "isBST(root)\n"
   ]
  }
 ],
 "metadata": {
  "kernelspec": {
   "display_name": "myenv",
   "language": "python",
   "name": "python3"
  },
  "language_info": {
   "codemirror_mode": {
    "name": "ipython",
    "version": 3
   },
   "file_extension": ".py",
   "mimetype": "text/x-python",
   "name": "python",
   "nbconvert_exporter": "python",
   "pygments_lexer": "ipython3",
   "version": "3.12.3"
  }
 },
 "nbformat": 4,
 "nbformat_minor": 2
}
