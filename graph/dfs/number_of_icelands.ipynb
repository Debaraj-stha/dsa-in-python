{
 "cells": [
  {
   "cell_type": "code",
   "execution_count": 7,
   "metadata": {},
   "outputs": [
    {
     "data": {
      "text/plain": [
       "3"
      ]
     },
     "execution_count": 7,
     "metadata": {},
     "output_type": "execute_result"
    }
   ],
   "source": [
    "def number_of_icelands(graph):\n",
    "    icelands=0\n",
    "    rows,cols=len(graph),len(graph[0])\n",
    "    def dfs(row,col):\n",
    "        if row<0 or row>=rows or col<0 or col>= cols or graph[row][col]==\"0\":\n",
    "            return\n",
    "        graph[row][col]=\"0\"\n",
    "        dfs(row-1,col)\n",
    "        dfs(row+1,col)\n",
    "        dfs(row,col-1)\n",
    "        dfs(row,col+1)\n",
    "    for i in range(rows):\n",
    "        for j in range(cols):\n",
    "            if graph[i][j]==\"1\":\n",
    "                icelands+=1\n",
    "                dfs(i,j)\n",
    "    return icelands\n",
    "\n",
    "\n",
    "grid = [\n",
    "  [\"1\", \"1\", \"0\", \"0\", \"0\"],\n",
    "  [\"1\", \"1\", \"0\", \"0\", \"0\"],\n",
    "  [\"0\", \"0\", \"1\", \"0\", \"0\"],\n",
    "  [\"0\", \"0\", \"0\", \"1\", \"1\"]\n",
    "]\n",
    "number_of_icelands(grid)"
   ]
  }
 ],
 "metadata": {
  "kernelspec": {
   "display_name": "env",
   "language": "python",
   "name": "python3"
  },
  "language_info": {
   "codemirror_mode": {
    "name": "ipython",
    "version": 3
   },
   "file_extension": ".py",
   "mimetype": "text/x-python",
   "name": "python",
   "nbconvert_exporter": "python",
   "pygments_lexer": "ipython3",
   "version": "3.12.3"
  }
 },
 "nbformat": 4,
 "nbformat_minor": 2
}
