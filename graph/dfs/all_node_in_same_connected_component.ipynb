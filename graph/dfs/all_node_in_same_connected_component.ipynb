{
 "cells": [
  {
   "cell_type": "code",
   "execution_count": 14,
   "metadata": {},
   "outputs": [
    {
     "name": "stdout",
     "output_type": "stream",
     "text": [
      "[1, 3, 4, 5, 2]\n"
     ]
    }
   ],
   "source": [
    "def connectedComponent(graph, fromNode):\n",
    "    visited = set()\n",
    "    component = []  \n",
    "    stack = [fromNode]  \n",
    "\n",
    "    while stack:\n",
    "        current_node = stack.pop()\n",
    "        if current_node not in visited:\n",
    "            visited.add(current_node)\n",
    "            component.append(current_node)\n",
    "            for neighbor in graph[current_node]:\n",
    "                if neighbor not in visited:\n",
    "                    stack.append(neighbor)\n",
    "    \n",
    "    return component\n",
    "\n",
    "\n",
    "graph = {\n",
    "    1: {2, 3},\n",
    "    2: {1, 4},\n",
    "    3: {1, 4},\n",
    "    4: {2, 3, 5},\n",
    "    5: {4},\n",
    "    6: {} \n",
    "\n",
    "}\n",
    "\n",
    "print(connectedComponent(graph, 1))# Output: [6]\n"
   ]
  }
 ],
 "metadata": {
  "kernelspec": {
   "display_name": "myenv",
   "language": "python",
   "name": "python3"
  },
  "language_info": {
   "codemirror_mode": {
    "name": "ipython",
    "version": 3
   },
   "file_extension": ".py",
   "mimetype": "text/x-python",
   "name": "python",
   "nbconvert_exporter": "python",
   "pygments_lexer": "ipython3",
   "version": "3.12.3"
  }
 },
 "nbformat": 4,
 "nbformat_minor": 2
}
