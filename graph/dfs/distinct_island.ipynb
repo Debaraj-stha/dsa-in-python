{
 "cells": [
  {
   "cell_type": "code",
   "execution_count": 26,
   "metadata": {},
   "outputs": [
    {
     "name": "stdout",
     "output_type": "stream",
     "text": [
      "3\n"
     ]
    }
   ],
   "source": [
    "dr = [1, 0, 0, -1]\n",
    "dc = [0, -1, 1, 0]\n",
    "\n",
    "def isValid(grid, visited, row, col, rows, cols):\n",
    "    return 0 <= row < rows and 0 <= col < cols and grid[row][col] == 1 and not visited[row][col]\n",
    "\n",
    "def countDistinctIslands(grid):\n",
    "    rows, cols = len(grid), len(grid[0])\n",
    "    visited = [[False] * cols for _ in range(rows)]\n",
    "    shapes_set = set()  # Stores unique island shapes\n",
    "    \n",
    "    for row in range(rows):\n",
    "        for col in range(cols):\n",
    "            if grid[row][col] == 1 and not visited[row][col]:\n",
    "                stack = [(row, col)]\n",
    "                shape = []  # Store relative positions\n",
    "                \n",
    "                base_row, base_col = row, col  # Base point for normalization\n",
    "                \n",
    "                while stack:\n",
    "                    r, c = stack.pop()\n",
    "                    if not visited[r][c]:\n",
    "                        visited[r][c] = True\n",
    "                        shape.append((r - base_row, c - base_col))  \n",
    "                    \n",
    "                        for i in range(4):  \n",
    "                            new_row, new_col = r + dr[i], c + dc[i]\n",
    "                            if isValid(grid, visited, new_row, new_col, rows, cols):\n",
    "                                stack.append((new_row, new_col))\n",
    "                \n",
    "                shapes_set.add(tuple(shape)) \n",
    "\n",
    "    return len(shapes_set)\n",
    "\n",
    "\n",
    "grid= [[1, 1, 0, 1, 1],\n",
    "            [1, 0, 0, 0, 0],\n",
    "            [0, 0, 0, 0, 1],\n",
    "            [1, 1, 0, 1, 1]]\n",
    "\n",
    "print(countDistinctIslands(grid))"
   ]
  }
 ],
 "metadata": {
  "kernelspec": {
   "display_name": "myenv",
   "language": "python",
   "name": "python3"
  },
  "language_info": {
   "codemirror_mode": {
    "name": "ipython",
    "version": 3
   },
   "file_extension": ".py",
   "mimetype": "text/x-python",
   "name": "python",
   "nbconvert_exporter": "python",
   "pygments_lexer": "ipython3",
   "version": "3.12.3"
  }
 },
 "nbformat": 4,
 "nbformat_minor": 2
}
