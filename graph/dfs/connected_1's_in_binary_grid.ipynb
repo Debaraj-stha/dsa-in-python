{
 "cells": [
  {
   "cell_type": "code",
   "execution_count": 1,
   "metadata": {},
   "outputs": [
    {
     "name": "stdout",
     "output_type": "stream",
     "text": [
      "3\n"
     ]
    }
   ],
   "source": [
    "dr=[1,0,0,-1]\n",
    "dc=[0,-1,1,0]\n",
    "def isValid(grid,row,col,rows,cols,visited):\n",
    "    return row>=0 and row<rows and col>=0 and col<cols and grid[row][col]==1 and not visited[row][col]\n",
    "def dfs(grid,row,col,rows,cols,visited):\n",
    "    count=1\n",
    "    visited[row][col]=True\n",
    "    stack=[(row,col)]\n",
    "    while stack:\n",
    "        r,c=stack.pop()\n",
    "        for i in range(4):\n",
    "            newRow,newCol=r+dr[i],c+dc[i]\n",
    "            if isValid(grid,newRow,newCol,rows,cols,visited):\n",
    "                visited[newRow][newCol]=True\n",
    "                count+=1\n",
    "                stack.append((newRow,newCol))\n",
    "    return count\n",
    "def count_connected_1(grid):\n",
    "    rows,cols=len(grid),len(grid[0])\n",
    "    visited=[[False]*cols for _ in range(rows)]\n",
    "    count=0\n",
    "    for  row in range(rows):\n",
    "        for col in range(cols):\n",
    "            if grid[row][col]==1 and not visited[row][col]:\n",
    "                dfs(grid,row,col,rows,cols,visited)\n",
    "                count+=1\n",
    "\n",
    "    return count\n",
    "\n",
    "grid=[\n",
    "    [1 ,1, 0, 0],\n",
    "    [0 ,1 ,0, 1],\n",
    "    [1, 0, 1 ,1]\n",
    "]\n",
    "print(count_connected_1(grid))\n"
   ]
  }
 ],
 "metadata": {
  "kernelspec": {
   "display_name": "myenv",
   "language": "python",
   "name": "python3"
  },
  "language_info": {
   "codemirror_mode": {
    "name": "ipython",
    "version": 3
   },
   "file_extension": ".py",
   "mimetype": "text/x-python",
   "name": "python",
   "nbconvert_exporter": "python",
   "pygments_lexer": "ipython3",
   "version": "3.12.3"
  }
 },
 "nbformat": 4,
 "nbformat_minor": 2
}
