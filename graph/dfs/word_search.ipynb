{
 "cells": [
  {
   "cell_type": "code",
   "execution_count": null,
   "metadata": {},
   "outputs": [
    {
     "name": "stdout",
     "output_type": "stream",
     "text": [
      "True\n"
     ]
    }
   ],
   "source": [
    "directions=\"DLRU\"\n",
    "dr=[1,0,0,-1]\n",
    "dc=[0,-1,1,0]\n",
    "def wordsearch(grid,word):\n",
    "    rows,cols=len(grid),len(grid[0])\n",
    "    def backtrack(row,col,index):\n",
    "        if index==len(word):\n",
    "            return True\n",
    "        if row< 0 or row>=rows or col< 0 or col>=cols or grid[row][col]!=word[index]:\n",
    "            return False\n",
    "        temp=grid[row][col]\n",
    "        grid[row][col]='#'\n",
    "        found=(\n",
    "            backtrack(row+1,col,index+1) or\n",
    "            backtrack(row-1,col,index+1) or\n",
    "            backtrack(row,col+1,index+1) or\n",
    "            backtrack(row,col-1,index+1)\n",
    "        )\n",
    "        grid[row][col]=temp\n",
    "        return found\n",
    "    for row in range(rows):\n",
    "        for col in range(cols):\n",
    "            if backtrack(row, col, 0):\n",
    "                return True\n",
    "    return False\n",
    "    \n",
    "grid=[\n",
    "    ['A','B','C','E'],\n",
    "    ['S','F','C','S'],\n",
    "    ['A','D','E','E'],\n",
    "    ['K','T','M','S']\n",
    "]\n",
    "word1=\"ABC\"\n",
    "word2=\"FDT\"\n",
    "print(wordsearch(grid,word1))"
   ]
  }
 ],
 "metadata": {
  "kernelspec": {
   "display_name": "myenv",
   "language": "python",
   "name": "python3"
  },
  "language_info": {
   "codemirror_mode": {
    "name": "ipython",
    "version": 3
   },
   "file_extension": ".py",
   "mimetype": "text/x-python",
   "name": "python",
   "nbconvert_exporter": "python",
   "pygments_lexer": "ipython3",
   "version": "3.12.3"
  }
 },
 "nbformat": 4,
 "nbformat_minor": 2
}
