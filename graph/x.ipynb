{
 "cells": [
  {
   "cell_type": "code",
   "execution_count": 15,
   "metadata": {},
   "outputs": [
    {
     "name": "stdout",
     "output_type": "stream",
     "text": [
      "3\n"
     ]
    }
   ],
   "source": [
    "from collections import defaultdict,deque\n",
    "\n",
    "def jump_game_ii(arr):\n",
    "    if not arr:\n",
    "        return 0\n",
    "    n = len(arr)\n",
    "    queue = deque([(0, 0)])\n",
    "    visited = set([0])\n",
    "    while queue:\n",
    "        index,step=queue.popleft()\n",
    "        for i in range(index+1,min(index+arr[index]+1,n)):\n",
    "            if i==n-1:\n",
    "                return step+1\n",
    "            if i not in visited:\n",
    "                queue.append((i, step+1))\n",
    "                visited.add(i)\n",
    "\n",
    "arr = [1, 2, 2, 3, 1, 4]\n",
    "print(jump_game_ii(arr)) "
   ]
  }
 ],
 "metadata": {
  "kernelspec": {
   "display_name": "myenv",
   "language": "python",
   "name": "python3"
  },
  "language_info": {
   "codemirror_mode": {
    "name": "ipython",
    "version": 3
   },
   "file_extension": ".py",
   "mimetype": "text/x-python",
   "name": "python",
   "nbconvert_exporter": "python",
   "pygments_lexer": "ipython3",
   "version": "3.12.3"
  }
 },
 "nbformat": 4,
 "nbformat_minor": 2
}
