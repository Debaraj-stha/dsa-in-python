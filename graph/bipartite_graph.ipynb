{
 "cells": [
  {
   "cell_type": "code",
   "execution_count": 3,
   "metadata": {},
   "outputs": [
    {
     "data": {
      "text/plain": [
       "True"
      ]
     },
     "execution_count": 3,
     "metadata": {},
     "output_type": "execute_result"
    }
   ],
   "source": [
    "from collections import  deque\n",
    "def bipartite(graph):\n",
    "    colors={}\n",
    "    for node in graph:\n",
    "        if node not in colors:\n",
    "            colors[node]=0\n",
    "            queue=deque([(node,0)])\n",
    "            while queue:\n",
    "                current,color=queue.popleft()\n",
    "                for neighbor in graph[current]:\n",
    "                    if neighbor not in colors:\n",
    "                        colors[neighbor]=1-color\n",
    "                        queue.append((neighbor,1-color))\n",
    "                    elif colors[neighbor]==color:\n",
    "                        return False\n",
    "    return True\n",
    "\n",
    "\n",
    "graph = {\n",
    "    0: [1, 3],\n",
    "    1: [0, 2],\n",
    "    2: [1, 3],\n",
    "    3: [0, 2],\n",
    "    4: [5],\n",
    "    5: [4]\n",
    "}\n",
    "bipartite(graph)\n",
    "#any graph with odd length cycle are not bipartite"
   ]
  }
 ],
 "metadata": {
  "kernelspec": {
   "display_name": "myenv",
   "language": "python",
   "name": "python3"
  },
  "language_info": {
   "codemirror_mode": {
    "name": "ipython",
    "version": 3
   },
   "file_extension": ".py",
   "mimetype": "text/x-python",
   "name": "python",
   "nbconvert_exporter": "python",
   "pygments_lexer": "ipython3",
   "version": "3.12.3"
  }
 },
 "nbformat": 4,
 "nbformat_minor": 2
}
