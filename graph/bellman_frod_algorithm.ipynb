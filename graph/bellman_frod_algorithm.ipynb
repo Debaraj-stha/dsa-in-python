{
 "cells": [
  {
   "cell_type": "markdown",
   "metadata": {},
   "source": [
    "if we apply dijkstra algorithm having negative weight ,the algorithm keeps circling as path reduces in every stage"
   ]
  },
  {
   "cell_type": "markdown",
   "metadata": {},
   "source": [
    "to apply to undirected graph,convert the graph to directed graph"
   ]
  },
  {
   "cell_type": "markdown",
   "metadata": {},
   "source": [
    "it is only applicable to DG"
   ]
  },
  {
   "cell_type": "markdown",
   "metadata": {},
   "source": [
    "it helps to detect negative cycle"
   ]
  },
  {
   "cell_type": "markdown",
   "metadata": {},
   "source": [
    " the process of relaxation refers to the operation of iteratively updating the shortest path estimates for all edges in the graph. Specifically, it updates the estimate for the shortest path from the source node to each vertex based on the current best-known path lengths and the edges of the graph."
   ]
  },
  {
   "cell_type": "markdown",
   "metadata": {},
   "source": [
    "it is applied to DG having negative weight"
   ]
  },
  {
   "cell_type": "markdown",
   "metadata": {},
   "source": [
    "after relaxation,\n",
    "dist[u]+w<dist[v],\n",
    "If such an edge exists, it means that a further relaxation is possible, indicating the presence of a negative weight cycle in the graph. This is because, after V-1 iterations, the shortest path should be finalized if no negative weight cycle exists. If an edge can still be relaxed, then the graph contains a cycle that can continually reduce the path cost (i.e., a negative cycle)."
   ]
  },
  {
   "cell_type": "markdown",
   "metadata": {},
   "source": [
    "In   a graph with n vertices, the longest possible path from the source to any other vertex can contain at most n-1 edges (because a path can only visit a vertex once before returning to the source, and there are n vertices in total).\n",
    "Therefore, to guarantee that the shortest path from the source to any vertex is correctly computed, we need to potentially consider paths that span up to n-1 edges. This ensures that even if the graph is long and convoluted, the shortest paths will be found."
   ]
  },
  {
   "cell_type": "code",
   "execution_count": null,
   "metadata": {},
   "outputs": [
    {
     "name": "stdout",
     "output_type": "stream",
     "text": [
      "Shortest distances from source: [0, 5, 4, 3, 1, 2]\n"
     ]
    }
   ],
   "source": [
    "def bellman_ford_algorithm(graph, source, n):\n",
    "    dist = [float(\"inf\")] * n\n",
    "    dist[source] = 0\n",
    "\n",
    "    # Relax all edges (n-1) times\n",
    "    for _ in range(n - 1):\n",
    "        for u, v, w in graph:\n",
    "            if dist[u] != float(\"inf\") and dist[u] + w < dist[v]:\n",
    "                dist[v] = dist[u] + w\n",
    "\n",
    "    # Check for negative weight cycles\n",
    "    for u, v, w in graph:\n",
    "        if dist[u] != float(\"inf\") and dist[u] + w < dist[v]:\n",
    "            print(\"Graph contains a negative weight cycle!\")\n",
    "            return None\n",
    "\n",
    "    return dist\n",
    "\n",
    "\n",
    "n = 6\n",
    "graph = [\n",
    "    (0, 1, 5),\n",
    "    (1, 2, -1),\n",
    "    (1, 5, -3),\n",
    "    (2, 4, -3),\n",
    "    (5, 3, 1),\n",
    "    (3, 2, 6),\n",
    "    (3, 4, -2)\n",
    "]\n",
    "\n",
    "result = bellman_ford_algorithm(graph, 0, n)\n",
    "if result:\n",
    "    print(\"Shortest distances from source:\", result)\n"
   ]
  }
 ],
 "metadata": {
  "kernelspec": {
   "display_name": "myenv",
   "language": "python",
   "name": "python3"
  },
  "language_info": {
   "codemirror_mode": {
    "name": "ipython",
    "version": 3
   },
   "file_extension": ".py",
   "mimetype": "text/x-python",
   "name": "python",
   "nbconvert_exporter": "python",
   "pygments_lexer": "ipython3",
   "version": "3.12.3"
  }
 },
 "nbformat": 4,
 "nbformat_minor": 2
}
