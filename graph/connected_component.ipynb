{
 "cells": [
  {
   "cell_type": "code",
   "execution_count": null,
   "metadata": {},
   "outputs": [],
   "source": [
    "graph={\n",
    "    1:[2,3],\n",
    "    2:[1,4],\n",
    "    3:[1,4],\n",
    "    4:[2,3],\n",
    "    5:[6,7],\n",
    "    6:[5,7],\n",
    "    7:[5,6],\n",
    "    8:[9],\n",
    "    9:[8],\n",
    "    10:[]\n",
    "}\n",
    "def connectedComponent(graph):\n",
    "    visited=set()\n",
    "    components=[]\n",
    "    for node in graph:\n",
    "        if node not in visited:\n",
    "            component=[]\n",
    "            stack=[node]\n",
    "            while stack:\n",
    "                current_node=stack.pop()\n",
    "                if current_node not in visited:\n",
    "                    visited.add(current_node)\n",
    "                    component.append(current_node)\n",
    "                    for neighbor in graph[current_node]:\n",
    "                        if neighbor not in visited:\n",
    "                            stack.append(neighbor)\n",
    "            components.append(component)\n",
    "    return components\n",
    "components=connectedComponent(graph)\n",
    "print(components)"
   ]
  }
 ],
 "metadata": {
  "kernelspec": {
   "display_name": "myenv",
   "language": "python",
   "name": "python3"
  },
  "language_info": {
   "name": "python",
   "version": "3.12.3"
  }
 },
 "nbformat": 4,
 "nbformat_minor": 2
}
