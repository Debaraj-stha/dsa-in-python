{
 "cells": [
  {
   "cell_type": "code",
   "execution_count": 34,
   "metadata": {},
   "outputs": [
    {
     "name": "stdout",
     "output_type": "stream",
     "text": [
      "5 0 2 3 1 4 \n",
      "  {5: [], 2: [5], 3: [2], 4: [], 0: [5, 4], 1: [3, 4]}\n"
     ]
    }
   ],
   "source": [
    "\n",
    "def transposeGraph(graph):\n",
    "    transpose={node: [] for node in graph}\n",
    "    for node in graph:\n",
    "        for neighbor in graph[node]:\n",
    "            if neighbor not in transpose:\n",
    "                transpose[neighbor]=[]\n",
    "            transpose[neighbor].append(node)\n",
    "    return transpose\n",
    "def traverseGraph(graph):\n",
    "    visited = set()\n",
    "    for node in graph:\n",
    "        if node not in visited:\n",
    "            stack=[node]\n",
    "            visited.add(node)\n",
    "            while stack:\n",
    "                current_node=stack.pop()\n",
    "                print(current_node, end=' ')\n",
    "                for neighbor in graph[current_node]:\n",
    "                    if neighbor not in visited:\n",
    "                        visited.add(neighbor)\n",
    "                        stack.append(neighbor)\n",
    "               \n",
    "\n",
    "graph = {\n",
    "    5: [2, 0],\n",
    "    2: [3],\n",
    "    3: [1],\n",
    "    4: [0, 1],\n",
    "    0: [],\n",
    "    1: []\n",
    "}\n",
    "traverseGraph(graph)\n",
    "t=transposeGraph(graph)\n",
    "print(\"\\n \",t)\n"
   ]
  }
 ],
 "metadata": {
  "kernelspec": {
   "display_name": "myenv",
   "language": "python",
   "name": "python3"
  },
  "language_info": {
   "codemirror_mode": {
    "name": "ipython",
    "version": 3
   },
   "file_extension": ".py",
   "mimetype": "text/x-python",
   "name": "python",
   "nbconvert_exporter": "python",
   "pygments_lexer": "ipython3",
   "version": "3.12.3"
  }
 },
 "nbformat": 4,
 "nbformat_minor": 2
}
