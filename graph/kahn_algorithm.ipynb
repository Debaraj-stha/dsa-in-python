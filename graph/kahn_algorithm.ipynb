{
 "cells": [
  {
   "cell_type": "code",
   "execution_count": null,
   "metadata": {},
   "outputs": [
    {
     "name": "stdout",
     "output_type": "stream",
     "text": [
      "[4, 5, 0, 2, 3, 1]\n"
     ]
    }
   ],
   "source": [
    "from collections import deque\n",
    "\n",
    "def khanAlgorithm(graph):\n",
    "    all_nodes = set(graph.keys()) \n",
    "    n = max(all_nodes) + 1  \n",
    "    \n",
    "    # Compute in-degree of each node\n",
    "    indegree = [0] * n\n",
    "    for node in graph:\n",
    "        for neighbor in graph[node]:\n",
    "            indegree[neighbor] += 1\n",
    "\n",
    "    queue = deque()\n",
    "    for i in all_nodes:\n",
    "        if indegree[i] == 0:\n",
    "            queue.append(i)\n",
    "\n",
    "\n",
    "    topo = []\n",
    "    while queue:\n",
    "        node = queue.popleft()\n",
    "        topo.append(node)\n",
    "        for neighbor in graph.get(node, []): \n",
    "            indegree[neighbor] -= 1\n",
    "            if indegree[neighbor] == 0:\n",
    "                queue.append(neighbor)\n",
    "\n",
    "    # If topo sort doesn't include all nodes, there is a cycle\n",
    "    if len(topo) != len(all_nodes):\n",
    "        raise ValueError(\"Graph has a cycle! Topological sorting not possible.\")\n",
    "\n",
    "    return topo\n",
    "\n",
    "\n",
    "graph = {\n",
    "    0: [],\n",
    "    1: [],\n",
    "    2: [3],\n",
    "    3: [1],\n",
    "    4: [0, 1],\n",
    "    5: [0, 2]\n",
    "}\n",
    "\n",
    "print(khanAlgorithm(graph))  \n"
   ]
  }
 ],
 "metadata": {
  "kernelspec": {
   "display_name": "myenv",
   "language": "python",
   "name": "python3"
  },
  "language_info": {
   "codemirror_mode": {
    "name": "ipython",
    "version": 3
   },
   "file_extension": ".py",
   "mimetype": "text/x-python",
   "name": "python",
   "nbconvert_exporter": "python",
   "pygments_lexer": "ipython3",
   "version": "3.12.3"
  }
 },
 "nbformat": 4,
 "nbformat_minor": 2
}
