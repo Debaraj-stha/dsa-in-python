{
 "cells": [
  {
   "cell_type": "code",
   "execution_count": null,
   "metadata": {},
   "outputs": [
    {
     "name": "stdout",
     "output_type": "stream",
     "text": [
      "(6, [(0, 2), (2, 1), (2, 3), (2, 4)])\n"
     ]
    }
   ],
   "source": [
    "import heapq\n",
    "\n",
    "def prims_algorithm(graph):\n",
    "    if not graph:\n",
    "        return []\n",
    "    \n",
    "    visited = set()\n",
    "    total_cost = 0\n",
    "    MST = []\n",
    "    min_heap = [(0, 0, -1)]  # (weight, node, parent) starting with node 0\n",
    "    \n",
    "    while min_heap:\n",
    "        weight, node, parent = heapq.heappop(min_heap)\n",
    "        \n",
    "        if node in visited:\n",
    "            continue\n",
    "        visited.add(node)\n",
    "        if parent!= -1:\n",
    "            MST.append((parent, node))  # Add the edge to the MST\n",
    "            total_cost += weight\n",
    "      \n",
    "\n",
    "        for neighbor_info in graph[node]:\n",
    "            neighbor_weight = neighbor_info[0]\n",
    "            neighbor = neighbor_info[1]\n",
    "            if neighbor not in visited:\n",
    "                heapq.heappush(min_heap, (neighbor_weight, neighbor, node)) \n",
    "                    \n",
    "    return (total_cost,MST)\n",
    "\n",
    "graph = {\n",
    "    #cost,neighbor\n",
    "    0:[[2,1],[1,2]],\n",
    "    1:[[2,0],[1,2]],\n",
    "    2:[[1,0],[1,1],[2,3],[2,4]],\n",
    "    3:[[4,2],[3,4]],\n",
    "    4:[[1,3],[2,2]]\n",
    "}\n",
    "\n",
    "result = prims_algorithm(graph)\n",
    "print(result)"
   ]
  },
  {
   "cell_type": "code",
   "execution_count": null,
   "metadata": {},
   "outputs": [],
   "source": []
  },
  {
   "cell_type": "code",
   "execution_count": null,
   "metadata": {},
   "outputs": [],
   "source": []
  }
 ],
 "metadata": {
  "kernelspec": {
   "display_name": "myenv",
   "language": "python",
   "name": "python3"
  },
  "language_info": {
   "codemirror_mode": {
    "name": "ipython",
    "version": 3
   },
   "file_extension": ".py",
   "mimetype": "text/x-python",
   "name": "python",
   "nbconvert_exporter": "python",
   "pygments_lexer": "ipython3",
   "version": "3.12.3"
  }
 },
 "nbformat": 4,
 "nbformat_minor": 2
}
