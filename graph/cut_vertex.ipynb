{
 "cells": [
  {
   "cell_type": "code",
   "execution_count": 9,
   "metadata": {},
   "outputs": [
    {
     "data": {
      "text/plain": [
       "[(1, 3), (0, 1), (0, 2)]"
      ]
     },
     "execution_count": 9,
     "metadata": {},
     "output_type": "execute_result"
    }
   ],
   "source": [
    "def find_bridge(graph):\n",
    "    visited=set()\n",
    "    nodes=set(graph.keys())\n",
    "    for neighbor in graph.values():\n",
    "        nodes.update(neighbor)\n",
    "\n",
    "\n",
    "    time=[0]\n",
    "    low={}\n",
    "    disc={}\n",
    "    bridge=[]\n",
    "    for node in nodes:\n",
    "        low[node]=-1\n",
    "        disc[node]=-1\n",
    "    def dfs(node,parent):\n",
    "        visited.add(node)\n",
    "        low[node]=disc[node]=time[0]\n",
    "        time[0]+=1\n",
    "        for neighbor in graph[node]:\n",
    "            if neighbor==parent:\n",
    "                continue\n",
    "            if neighbor not in visited:\n",
    "                dfs(neighbor,node)\n",
    "                low[node]=min(low[node],low[neighbor])\n",
    "                if low[neighbor]>disc[node]:\n",
    "                    bridge.append((node,neighbor))\n",
    "            else:\n",
    "                low[node]=min(low[node],disc[neighbor])\n",
    "     \n",
    "\n",
    "  \n",
    "\n",
    "\n",
    "    for node in nodes:\n",
    "        if node not in visited:\n",
    "            dfs(node,-1)   \n",
    "    return bridge\n",
    "\n",
    "graph = {\n",
    "    0: [1, 2],\n",
    "    1: [0, 3],\n",
    "    2: [0],\n",
    "    3: [1]\n",
    "}\n",
    "\n",
    "find_bridge(graph)"
   ]
  },
  {
   "cell_type": "code",
   "execution_count": null,
   "metadata": {},
   "outputs": [],
   "source": []
  },
  {
   "cell_type": "code",
   "execution_count": null,
   "metadata": {},
   "outputs": [],
   "source": []
  }
 ],
 "metadata": {
  "kernelspec": {
   "display_name": "myenv",
   "language": "python",
   "name": "python3"
  },
  "language_info": {
   "codemirror_mode": {
    "name": "ipython",
    "version": 3
   },
   "file_extension": ".py",
   "mimetype": "text/x-python",
   "name": "python",
   "nbconvert_exporter": "python",
   "pygments_lexer": "ipython3",
   "version": "3.12.3"
  }
 },
 "nbformat": 4,
 "nbformat_minor": 2
}
