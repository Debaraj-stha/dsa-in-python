{
 "cells": [
  {
   "cell_type": "code",
   "execution_count": null,
   "metadata": {},
   "outputs": [
    {
     "name": "stdout",
     "output_type": "stream",
     "text": [
      "[(2, 0, 0), (5, 1, 0)]\n",
      "[(1, 1), (1, 2)]\n"
     ]
    }
   ],
   "source": [
    "import heapq\n",
    "\n",
    "def k_pairs_with_smallest_sum(arr1, arr2, k):\n",
    "    min_heap = []\n",
    "    \n",
    "    # Push the first k pairs (arr1[i] + arr2[0], i, 0)\n",
    "    for i in range(min(len(arr1), k)):\n",
    "        heapq.heappush(min_heap, (arr1[i] + arr2[0], i, 0))\n",
    "         #first we consider all element of arr1 and try to find min sum with arr2 first element\n",
    "    \n",
    "    result = []\n",
    "    print(min_heap)\n",
    "    while min_heap and len(result) < k:\n",
    "        sum_val, i, j = heapq.heappop(min_heap)  # Extract the smallest sum pair\n",
    "        result.append((arr1[i], arr2[j]))  # Store the pair\n",
    "        \n",
    "        # Push the next pair in the row (arr1[i], arr2[j+1]) if within bounds\n",
    "        if j + 1 < len(arr2):\n",
    "            heapq.heappush(min_heap, (arr1[i] + arr2[j+1], i, j+1)) \n",
    "            #this will consider the  current pair ith item with arr2 j+1 item \n",
    "            #considering the second array other element may form smallest pair\n",
    "    \n",
    "    return result\n",
    "\n",
    "# Example usage\n",
    "arr1 = [1, 4, 5, 6, 9]\n",
    "arr2 = [1, 2, 6, 7, 8, 9, 10]\n",
    "k = 2\n",
    "print(k_pairs_with_smallest_sum(arr1, arr2, k))\n"
   ]
  }
 ],
 "metadata": {
  "kernelspec": {
   "display_name": "myenv",
   "language": "python",
   "name": "python3"
  },
  "language_info": {
   "codemirror_mode": {
    "name": "ipython",
    "version": 3
   },
   "file_extension": ".py",
   "mimetype": "text/x-python",
   "name": "python",
   "nbconvert_exporter": "python",
   "pygments_lexer": "ipython3",
   "version": "3.12.3"
  }
 },
 "nbformat": 4,
 "nbformat_minor": 2
}
