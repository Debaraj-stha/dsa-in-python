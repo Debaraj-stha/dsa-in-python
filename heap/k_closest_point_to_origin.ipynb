{
 "cells": [
  {
   "cell_type": "code",
   "execution_count": null,
   "metadata": {},
   "outputs": [
    {
     "data": {
      "text/plain": [
       "[(-2, 2), (0, 1)]"
      ]
     },
     "execution_count": 11,
     "metadata": {},
     "output_type": "execute_result"
    }
   ],
   "source": [
    "import heapq\n",
    "import math\n",
    "def k_closest_point_to_origin(arr,k):\n",
    "    if not arr:\n",
    "        return []\n",
    "    dist_map={}\n",
    "    for x, y in arr:\n",
    "        dist=math.sqrt(x**2+y**2)\n",
    "        dist_map[dist]=(x,y)\n",
    "    max_heap=[]\n",
    "    for dist, (x, y) in dist_map.items():\n",
    "        heapq.heappush(max_heap, (-dist, x, y))\n",
    "        if len(max_heap)>k:\n",
    "            heapq.heappop(max_heap)\n",
    "    return [(x, y) for _, x, y in max_heap]\n",
    "    \n",
    "arr=[\n",
    "    (1,3),\n",
    "    (-2,2),\n",
    "    (5,8),\n",
    "    (0,1)\n",
    "]\n",
    "k=2\n",
    "k_closest_point_to_origin(arr,k)"
   ]
  }
 ],
 "metadata": {
  "kernelspec": {
   "display_name": "myenv",
   "language": "python",
   "name": "python3"
  },
  "language_info": {
   "codemirror_mode": {
    "name": "ipython",
    "version": 3
   },
   "file_extension": ".py",
   "mimetype": "text/x-python",
   "name": "python",
   "nbconvert_exporter": "python",
   "pygments_lexer": "ipython3",
   "version": "3.12.3"
  }
 },
 "nbformat": 4,
 "nbformat_minor": 2
}
