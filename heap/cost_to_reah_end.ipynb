{
 "cells": [
  {
   "cell_type": "code",
   "execution_count": null,
   "metadata": {},
   "outputs": [
    {
     "name": "stdout",
     "output_type": "stream",
     "text": [
      "5\n"
     ]
    }
   ],
   "source": [
    "import heapq\n",
    "\n",
    "def min_cost_to_reach_end(cost, k=2): \n",
    "    n = len(cost)\n",
    "    min_heap = [(0, 0)]  # (total_cost, index)\n",
    "    dist = [float('inf')] * n\n",
    "    dist[0] = 0  \n",
    "    \n",
    "    while min_heap:\n",
    "        curr_cost, index = heapq.heappop(min_heap)  \n",
    "        \n",
    "        if index == n - 1:\n",
    "            return curr_cost\n",
    "        \n",
    "        # Try all possible jumps from index (i+1 to i+k)\n",
    "        for step in range(1, k + 1):\n",
    "            next_index = index + step\n",
    "            if next_index < n:  # Ensure within bounds\n",
    "                new_cost = curr_cost + cost[next_index]  # Total cost to reach next_index\n",
    "                \n",
    "                # If a cheaper way is found, update and push to heap\n",
    "                if new_cost < dist[next_index]:\n",
    "                    dist[next_index] = new_cost\n",
    "                    heapq.heappush(min_heap, (new_cost, next_index))\n",
    "    \n",
    "    return -1  \n",
    "\n",
    "\n",
    "cost = [1, 100, 1, 1, 1, 100, 1, 1, 100, 1]\n",
    "print(min_cost_to_reach_end(cost, k=2))\n"
   ]
  }
 ],
 "metadata": {
  "kernelspec": {
   "display_name": "myenv",
   "language": "python",
   "name": "python3"
  },
  "language_info": {
   "codemirror_mode": {
    "name": "ipython",
    "version": 3
   },
   "file_extension": ".py",
   "mimetype": "text/x-python",
   "name": "python",
   "nbconvert_exporter": "python",
   "pygments_lexer": "ipython3",
   "version": "3.12.3"
  }
 },
 "nbformat": 4,
 "nbformat_minor": 2
}
