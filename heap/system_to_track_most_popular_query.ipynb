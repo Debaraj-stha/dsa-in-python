{
 "cells": [
  {
   "cell_type": "code",
   "execution_count": 30,
   "metadata": {},
   "outputs": [
    {
     "name": "stdout",
     "output_type": "stream",
     "text": [
      "(-3, 'python')\n",
      "[('python', 3), ('python', 2)]\n"
     ]
    }
   ],
   "source": [
    "import heapq\n",
    "\n",
    "class QueryTracker:\n",
    "    def __init__(self):\n",
    "        self.query_counts = {}  # Store queries and their frequencies\n",
    "        self.max_heap = []  # Max heap for efficiently getting the most popular queries\n",
    "    \n",
    "    def add_query(self, query):\n",
    "        # Update the frequency of the query\n",
    "        if query in self.query_counts:\n",
    "            self.query_counts[query] += 1\n",
    "        else:\n",
    "            self.query_counts[query] = 1\n",
    "        \n",
    "        # Push the updated query into the heap (by using negative frequency for max-heap)\n",
    "        heapq.heappush(self.max_heap, (-self.query_counts[query], query))\n",
    "        \n",
    "    def get_most_popular_queries(self):\n",
    "        # Return the most popular query (the one with the highest frequency)\n",
    "        if self.max_heap:\n",
    "            return self.max_heap[0]  # The heap root has the most frequent query\n",
    "        return None\n",
    "\n",
    "    def get_top_k_queries(self, k):\n",
    "        # Extract the top k most popular queries\n",
    "        top_queries = []\n",
    "        temp_heap = list(self.max_heap)  # Create a temporary heap to pop from\n",
    "        heapq.heapify(temp_heap)\n",
    "        \n",
    "        for _ in range(min(k, len(temp_heap))):\n",
    "            freq, query = heapq.heappop(temp_heap)\n",
    "            top_queries.append((query, -freq))  # Convert back to positive frequency\n",
    "        \n",
    "        return top_queries\n",
    "\n",
    "# Example usage\n",
    "tracker = QueryTracker()\n",
    "tracker.add_query(\"python\")\n",
    "tracker.add_query(\"java\")\n",
    "tracker.add_query(\"python\")\n",
    "tracker.add_query(\"python\")\n",
    "\n",
    "print(tracker.get_most_popular_queries())  # Output: ('python', 3)\n",
    "print(tracker.get_top_k_queries(2))  # Output: [('python', 3), ('java', 1)]\n"
   ]
  }
 ],
 "metadata": {
  "kernelspec": {
   "display_name": "myenv",
   "language": "python",
   "name": "python3"
  },
  "language_info": {
   "codemirror_mode": {
    "name": "ipython",
    "version": 3
   },
   "file_extension": ".py",
   "mimetype": "text/x-python",
   "name": "python",
   "nbconvert_exporter": "python",
   "pygments_lexer": "ipython3",
   "version": "3.12.3"
  }
 },
 "nbformat": 4,
 "nbformat_minor": 2
}
