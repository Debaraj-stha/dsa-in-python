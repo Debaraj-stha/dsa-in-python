{
 "cells": [
  {
   "cell_type": "code",
   "execution_count": null,
   "metadata": {},
   "outputs": [
    {
     "name": "stdout",
     "output_type": "stream",
     "text": [
      "[1, 3] 6\n",
      "[3, 6] 2\n",
      "[3, 6] 5\n",
      "[5, 6] 3\n",
      "5\n"
     ]
    }
   ],
   "source": [
    "import heapq\n",
    "\n",
    "def kth_largest_sum_subarray(arr, k):\n",
    "    if not arr:\n",
    "        return 0\n",
    "    \n",
    "    min_heap = [] \n",
    "    n=len(arr)\n",
    "    for start in range(n):\n",
    "        current_sum=0\n",
    "        for end in range(start, n):\n",
    "            current_sum+=arr[end]\n",
    "            if len(min_heap)<k:\n",
    "                heapq.heappush(min_heap, current_sum)\n",
    "            else:\n",
    "                if current_sum>min_heap[0]:\n",
    "                    heapq.heapreplace(min_heap, current_sum)\n",
    "    return heapq.heappop(min_heap)\n",
    "            \n",
    "\n",
    "# Example usage\n",
    "arr = [1, 2, 3]\n",
    "k = 2\n",
    "print(kth_largest_sum_subarray(arr, k))  # Output will be the 3rd largest subarray sum\n"
   ]
  }
 ],
 "metadata": {
  "kernelspec": {
   "display_name": "myenv",
   "language": "python",
   "name": "python3"
  },
  "language_info": {
   "codemirror_mode": {
    "name": "ipython",
    "version": 3
   },
   "file_extension": ".py",
   "mimetype": "text/x-python",
   "name": "python",
   "nbconvert_exporter": "python",
   "pygments_lexer": "ipython3",
   "version": "3.12.3"
  }
 },
 "nbformat": 4,
 "nbformat_minor": 2
}
