{
 "cells": [
  {
   "cell_type": "code",
   "execution_count": 32,
   "metadata": {},
   "outputs": [
    {
     "data": {
      "text/plain": [
       "7"
      ]
     },
     "execution_count": 32,
     "metadata": {},
     "output_type": "execute_result"
    }
   ],
   "source": [
    "import heapq\n",
    "def kth_smallest(k,arr):\n",
    "    max_heap=[]\n",
    "    for i in range(len(arr)):\n",
    "        heapq.heappush(max_heap,-arr[i])\n",
    "        if len(max_heap)>k:\n",
    "           heapq.heappop(max_heap)\n",
    "        \n",
    "    return -heapq.heappop(max_heap)\n",
    "k=3\n",
    "arr=[7,10,3,4,20,15]\n",
    "kth_smallest(k,arr)"
   ]
  }
 ],
 "metadata": {
  "kernelspec": {
   "display_name": "myenv",
   "language": "python",
   "name": "python3"
  },
  "language_info": {
   "codemirror_mode": {
    "name": "ipython",
    "version": 3
   },
   "file_extension": ".py",
   "mimetype": "text/x-python",
   "name": "python",
   "nbconvert_exporter": "python",
   "pygments_lexer": "ipython3",
   "version": "3.12.3"
  }
 },
 "nbformat": 4,
 "nbformat_minor": 2
}
