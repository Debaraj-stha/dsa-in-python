{
 "cells": [
  {
   "cell_type": "code",
   "execution_count": 8,
   "metadata": {},
   "outputs": [
    {
     "data": {
      "text/plain": [
       "[3, 2, 2, 5, 5, 6, 6, 7, 7, 8, 8, 8]"
      ]
     },
     "execution_count": 8,
     "metadata": {},
     "output_type": "execute_result"
    }
   ],
   "source": [
    "import heapq\n",
    "def frequency_sort(arr):\n",
    "    freq_dict={}\n",
    "    for num in arr:\n",
    "        freq_dict[num]=freq_dict.get(num,0)+1\n",
    "    min_heap=[]\n",
    "    for num, freq in freq_dict.items():\n",
    "        heapq.heappush(min_heap, (freq, num))\n",
    "    sorted_arr=[]\n",
    "    while min_heap:\n",
    "        freq, num=heapq.heappop(min_heap)\n",
    "        sorted_arr.extend([num]*freq)\n",
    "    return sorted_arr\n",
    "\n",
    "arr=[2,3,2,5,5,6,6,7,7,8,8,8]\n",
    "frequency_sort(arr)"
   ]
  },
  {
   "cell_type": "code",
   "execution_count": 9,
   "metadata": {},
   "outputs": [
    {
     "data": {
      "text/plain": [
       "[8, 8, 8, 2, 2, 5, 5, 6, 6, 7, 7, 3]"
      ]
     },
     "execution_count": 9,
     "metadata": {},
     "output_type": "execute_result"
    }
   ],
   "source": [
    "def frequency_sort_desc(arr):\n",
    "    if not arr:\n",
    "        return\n",
    "    freq_map={}\n",
    "    for num in arr:\n",
    "        freq_map[num]=freq_map.get(num,0)+1\n",
    "\n",
    "    max_heap=[]\n",
    "    for num, freq in freq_map.items():\n",
    "        heapq.heappush(max_heap, (-freq, num))\n",
    "    sorted_arr=[]\n",
    "    while max_heap:\n",
    "        freq, num=heapq.heappop(max_heap)\n",
    "        sorted_arr.extend([num]*(-freq))\n",
    "    return sorted_arr\n",
    "\n",
    "frequency_sort_desc(arr)"
   ]
  }
 ],
 "metadata": {
  "kernelspec": {
   "display_name": "myenv",
   "language": "python",
   "name": "python3"
  },
  "language_info": {
   "codemirror_mode": {
    "name": "ipython",
    "version": 3
   },
   "file_extension": ".py",
   "mimetype": "text/x-python",
   "name": "python",
   "nbconvert_exporter": "python",
   "pygments_lexer": "ipython3",
   "version": "3.12.3"
  }
 },
 "nbformat": 4,
 "nbformat_minor": 2
}
