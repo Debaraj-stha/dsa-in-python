{
 "cells": [
  {
   "cell_type": "code",
   "execution_count": 3,
   "metadata": {},
   "outputs": [
    {
     "data": {
      "text/plain": [
       "[1, 2, 3, 4, 5, 6, 7, 8]"
      ]
     },
     "execution_count": 3,
     "metadata": {},
     "output_type": "execute_result"
    }
   ],
   "source": [
    "import heapq\n",
    "def merge_k_sorted_array(arr1,arr2):\n",
    "    merged=arr1+arr2\n",
    "    heapq.heapify(merged)\n",
    "    res=[]\n",
    "    while merged:\n",
    "        res.append(heapq.heappop(merged))\n",
    "    return res\n",
    "arr1=[1,3,5,7]\n",
    "arr2=[2,4,6,8]\n",
    "merge_k_sorted_array(arr1,arr2)"
   ]
  },
  {
   "cell_type": "code",
   "execution_count": 4,
   "metadata": {},
   "outputs": [
    {
     "data": {
      "text/plain": [
       "[1, 3, 3, 5, 7, 7, 8, 9, 33, 37, 40]"
      ]
     },
     "execution_count": 4,
     "metadata": {},
     "output_type": "execute_result"
    }
   ],
   "source": [
    "def merge_k_sorted_array(*args):\n",
    "    merged_arra=[]\n",
    "    for arr in args:\n",
    "        merged_arra+=arr\n",
    "    heapq.heapify(merged_arra)\n",
    "    res=[]\n",
    "    while merged_arra:\n",
    "        res.append(heapq.heappop(merged_arra))\n",
    "    return res\n",
    "arr1=[1,3,5,7]\n",
    "arr2=[3,7,8]\n",
    "arr3=[9,33,37,40]\n",
    "merge_k_sorted_array(arr1,arr2,arr3)"
   ]
  }
 ],
 "metadata": {
  "kernelspec": {
   "display_name": "myenv",
   "language": "python",
   "name": "python3"
  },
  "language_info": {
   "codemirror_mode": {
    "name": "ipython",
    "version": 3
   },
   "file_extension": ".py",
   "mimetype": "text/x-python",
   "name": "python",
   "nbconvert_exporter": "python",
   "pygments_lexer": "ipython3",
   "version": "3.12.3"
  }
 },
 "nbformat": 4,
 "nbformat_minor": 2
}
