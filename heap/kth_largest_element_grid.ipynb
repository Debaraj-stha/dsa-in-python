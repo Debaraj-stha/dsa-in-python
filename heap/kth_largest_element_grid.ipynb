{
 "cells": [
  {
   "cell_type": "code",
   "execution_count": 7,
   "metadata": {},
   "outputs": [
    {
     "data": {
      "text/plain": [
       "33"
      ]
     },
     "execution_count": 7,
     "metadata": {},
     "output_type": "execute_result"
    }
   ],
   "source": [
    "import heapq\n",
    "def kth_largest_element_in_grid(grid,k):\n",
    "    if not grid:\n",
    "        return None\n",
    "    rows=len(grid)\n",
    "    cols=len(grid[0])\n",
    "    min_heap=[]\n",
    "    for i in range(rows):\n",
    "        for j in range(cols):\n",
    "            heapq.heappush(min_heap,grid[i][j])\n",
    "            if len(min_heap)>k:\n",
    "                heapq.heappop(min_heap)\n",
    "    return heapq.heappop(min_heap)\n",
    "            \n",
    "    \n",
    "grid=[\n",
    "    [1,4,7,2],\n",
    "    [9,5,8,3],\n",
    "    [10,33,22,11],\n",
    "    [6,40,55,44]\n",
    "]\n",
    "k=4\n",
    "kth_largest_element_in_grid(grid,k)"
   ]
  }
 ],
 "metadata": {
  "kernelspec": {
   "display_name": "myenv",
   "language": "python",
   "name": "python3"
  },
  "language_info": {
   "codemirror_mode": {
    "name": "ipython",
    "version": 3
   },
   "file_extension": ".py",
   "mimetype": "text/x-python",
   "name": "python",
   "nbconvert_exporter": "python",
   "pygments_lexer": "ipython3",
   "version": "3.12.3"
  }
 },
 "nbformat": 4,
 "nbformat_minor": 2
}
