{
 "cells": [
  {
   "cell_type": "code",
   "execution_count": 3,
   "metadata": {},
   "outputs": [
    {
     "data": {
      "text/plain": [
       "['Movie 5', 'Movie 1', 'Movie 4']"
      ]
     },
     "execution_count": 3,
     "metadata": {},
     "output_type": "execute_result"
    }
   ],
   "source": [
    "import heapq\n",
    "def k_highest_rated_movie(movies,k):\n",
    "    min_heap=[]\n",
    "    for movie in movies:\n",
    "        heapq.heappush(min_heap, (movie['rating'], movie['title']))\n",
    "        if len(min_heap)>k:\n",
    "            heapq.heappop(min_heap)\n",
    "    return [title for _, title in min_heap]\n",
    "\n",
    "movies=[\n",
    "    {\n",
    "        \"rating\":5,\n",
    "        \"title\":\"Movie 1\"\n",
    "    },\n",
    "       {\n",
    "        \"rating\":4.3,\n",
    "        \"title\":\"Movie 2\"\n",
    "    },\n",
    "       {\n",
    "        \"rating\":4,\n",
    "        \"title\":\"Movie 3\"\n",
    "    },\n",
    "       {\n",
    "        \"rating\":5,\n",
    "        \"title\":\"Movie 4\"\n",
    "       },\n",
    "          {\n",
    "        \"rating\":4.7,\n",
    "        \"title\":\"Movie 5\"\n",
    "    },\n",
    "       {\n",
    "        \"rating\":3,\n",
    "        \"title\":\"Movie 6\"\n",
    "    },\n",
    "       {\n",
    "        \"rating\":2,\n",
    "        \"title\":\"Movie 7\"\n",
    "    }\n",
    "]\n",
    "k_highest_rated_movie(movies,3)"
   ]
  }
 ],
 "metadata": {
  "kernelspec": {
   "display_name": "myenv",
   "language": "python",
   "name": "python3"
  },
  "language_info": {
   "codemirror_mode": {
    "name": "ipython",
    "version": 3
   },
   "file_extension": ".py",
   "mimetype": "text/x-python",
   "name": "python",
   "nbconvert_exporter": "python",
   "pygments_lexer": "ipython3",
   "version": "3.12.3"
  }
 },
 "nbformat": 4,
 "nbformat_minor": 2
}
