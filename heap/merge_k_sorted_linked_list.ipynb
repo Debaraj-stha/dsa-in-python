{
 "cells": [
  {
   "cell_type": "code",
   "execution_count": 2,
   "metadata": {},
   "outputs": [
    {
     "name": "stdout",
     "output_type": "stream",
     "text": [
      "1 2 3 4 5 6 7 8 9 10 11 12 "
     ]
    }
   ],
   "source": [
    "import heapq\n",
    "class Node(object):\n",
    "    def __init__(self,value=0):\n",
    "        self.value = value\n",
    "        self.next=None\n",
    "def merge_linked_list(lists):\n",
    "    min_heap=[]\n",
    "    if lists:\n",
    "        for i,node in enumerate(lists):\n",
    "            if node:\n",
    "                heapq.heappush(min_heap,(node.value,i,node))\n",
    "\n",
    "    dummy = Node(0)\n",
    "    current=dummy\n",
    "    while min_heap:\n",
    "        value,index,node=heapq.heappop(min_heap)\n",
    "        current.next=node\n",
    "        current=current.next\n",
    "        if node.next:\n",
    "            heapq.heappush(min_heap,(node.next.value,index,node.next))\n",
    "    return dummy.next\n",
    "\n",
    "\n",
    "\n",
    "\n",
    "node1=Node(1)\n",
    "node1.next=Node(6)\n",
    "node1.next.next=Node(9)\n",
    "node1.next.next.next=Node(11)\n",
    "\n",
    "node2=Node(2)\n",
    "node2.next=Node(4)\n",
    "node2.next.next=Node(8)\n",
    "node2.next.next.next=Node(10)\n",
    "\n",
    "node3=Node(3)\n",
    "node3.next=Node(5)\n",
    "node3.next.next=Node(7)\n",
    "node3.next.next.next=Node(12)\n",
    "\n",
    "\n",
    "merged=merge_linked_list([node1,node2,node3])\n",
    "current=merged\n",
    "while current:\n",
    "    print(current.value, end=' ')\n",
    "    current=current.next\n"
   ]
  }
 ],
 "metadata": {
  "kernelspec": {
   "display_name": "myenv",
   "language": "python",
   "name": "python3"
  },
  "language_info": {
   "codemirror_mode": {
    "name": "ipython",
    "version": 3
   },
   "file_extension": ".py",
   "mimetype": "text/x-python",
   "name": "python",
   "nbconvert_exporter": "python",
   "pygments_lexer": "ipython3",
   "version": "3.12.3"
  }
 },
 "nbformat": 4,
 "nbformat_minor": 2
}
