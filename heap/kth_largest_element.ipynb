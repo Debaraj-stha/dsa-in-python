{
 "cells": [
  {
   "cell_type": "code",
   "execution_count": 7,
   "metadata": {},
   "outputs": [
    {
     "data": {
      "text/plain": [
       "10"
      ]
     },
     "execution_count": 7,
     "metadata": {},
     "output_type": "execute_result"
    }
   ],
   "source": [
    "import heapq\n",
    "def kth_largest_element(k,arr):\n",
    "    min_heap = []\n",
    "    for num in arr:\n",
    "        heapq.heappush(min_heap, num)\n",
    "        if len(min_heap) > k:\n",
    "\n",
    "            heapq.heappop(min_heap)\n",
    "    return heapq.heappop(min_heap)\n",
    "arr=[7,4,3,10,20,15]\n",
    "k=3\n",
    "kth_largest_element(k,arr)"
   ]
  }
 ],
 "metadata": {
  "kernelspec": {
   "display_name": "myenv",
   "language": "python",
   "name": "python3"
  },
  "language_info": {
   "codemirror_mode": {
    "name": "ipython",
    "version": 3
   },
   "file_extension": ".py",
   "mimetype": "text/x-python",
   "name": "python",
   "nbconvert_exporter": "python",
   "pygments_lexer": "ipython3",
   "version": "3.12.3"
  }
 },
 "nbformat": 4,
 "nbformat_minor": 2
}
