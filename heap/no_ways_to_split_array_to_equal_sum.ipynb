{
 "cells": [
  {
   "cell_type": "code",
   "execution_count": 27,
   "metadata": {},
   "outputs": [
    {
     "name": "stdout",
     "output_type": "stream",
     "text": [
      "11\n"
     ]
    }
   ],
   "source": [
    "import heapq\n",
    "\n",
    "def canPartitionKSubsets(nums, k):\n",
    "    total_sum = sum(nums)\n",
    "    if total_sum % k != 0:\n",
    "        return 0  # Impossible to partition\n",
    "\n",
    "    target = total_sum // k\n",
    "    nums.sort(reverse=True)  # Optimization: Start with large numbers\n",
    "    used = [False] * len(nums)\n",
    "\n",
    "    def backtrack(start, k, current_sum):\n",
    "        if k == 0:  # If no more subsets are required\n",
    "            return 1\n",
    "        if current_sum == target:  # If current subset sum matches target\n",
    "            return backtrack(0, k - 1, 0)  # Try forming the next subset\n",
    "\n",
    "        count = 0\n",
    "        for i in range(start, len(nums)):\n",
    "            if not used[i] and current_sum + nums[i] <= target:\n",
    "                used[i] = True\n",
    "                count += backtrack(i + 1, k, current_sum + nums[i])\n",
    "                used[i] = False  # Backtrack\n",
    "\n",
    "                if current_sum == 0:  # Optimization to avoid redundant cases\n",
    "                    break\n",
    "\n",
    "        return count\n",
    "\n",
    "    return backtrack(0, k, 0)\n",
    "\n",
    "# Example\n",
    "arr = [2, 3, 1, 6, 2, 3, 6, 1]\n",
    "k = 2\n",
    "print(canPartitionKSubsets(arr, k))  # Output should be 1\n"
   ]
  }
 ],
 "metadata": {
  "kernelspec": {
   "display_name": "myenv",
   "language": "python",
   "name": "python3"
  },
  "language_info": {
   "codemirror_mode": {
    "name": "ipython",
    "version": 3
   },
   "file_extension": ".py",
   "mimetype": "text/x-python",
   "name": "python",
   "nbconvert_exporter": "python",
   "pygments_lexer": "ipython3",
   "version": "3.12.3"
  }
 },
 "nbformat": 4,
 "nbformat_minor": 2
}
