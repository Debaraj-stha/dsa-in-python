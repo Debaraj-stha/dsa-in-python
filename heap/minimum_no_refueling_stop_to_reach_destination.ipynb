{
 "cells": [
  {
   "cell_type": "code",
   "execution_count": null,
   "metadata": {},
   "outputs": [
    {
     "name": "stdout",
     "output_type": "stream",
     "text": [
      "Minimum refueling stops: 3\n"
     ]
    }
   ],
   "source": [
    "import heapq\n",
    "\n",
    "def min_refuel_stops_heap_corrected(target, start_fuel, stations):\n",
    "    \"\"\"\n",
    "    Calculates the minimum number of refueling stops to reach a target destination\n",
    "    using a min-heap (max-heap implementation).\n",
    "\n",
    "    Args:\n",
    "        target (int): The total distance to the destination.\n",
    "        start_fuel (int): The initial fuel in the tank.\n",
    "        stations (list of lists): A list of gas stations, where each station is\n",
    "                                 represented by [distance, fuel_capacity].\n",
    "                                 Stations should be sorted by distance.\n",
    "\n",
    "    Returns:\n",
    "        int: The minimum number of refueling stops, or -1 if it's impossible.\n",
    "    \"\"\"\n",
    "    n = len(stations)\n",
    "    current_fuel = start_fuel\n",
    "    current_location = 0\n",
    "    stops = 0\n",
    "    reachable_stations = []  \n",
    "\n",
    "    for i in range(n):\n",
    "        distance,capacity=stations[i]\n",
    "        fuel_needed=distance-current_location\n",
    "        while current_fuel<fuel_needed:\n",
    "            if not reachable_stations:\n",
    "                return -1\n",
    "            current_fuel+=-heapq.heappop(reachable_stations)\n",
    "            stops+=1\n",
    "        current_fuel-=fuel_needed\n",
    "        current_location=distance\n",
    "        heapq.heappush(reachable_stations, -capacity)\n",
    "        #check can we reach target from last location\n",
    "    fuel_need_to_target=target-current_location\n",
    "    while current_fuel<fuel_need_to_target:\n",
    "        if not reachable_stations:\n",
    "            return -1\n",
    "        current_fuel+=-heapq.heappop(reachable_stations)\n",
    "        stops+=1\n",
    "    return stops\n",
    "\n",
    "target = 200\n",
    "start_fuel = 100\n",
    "stations = [[10, 10], [20, 60], [30, 30]]\n",
    "stations.sort()\n",
    "min_stops = min_refuel_stops_heap_corrected(target, start_fuel, stations)\n",
    "print(f\"Minimum refueling stops: {min_stops}\")\n",
    "\n"
   ]
  }
 ],
 "metadata": {
  "kernelspec": {
   "display_name": "myenv",
   "language": "python",
   "name": "python3"
  },
  "language_info": {
   "codemirror_mode": {
    "name": "ipython",
    "version": 3
   },
   "file_extension": ".py",
   "mimetype": "text/x-python",
   "name": "python",
   "nbconvert_exporter": "python",
   "pygments_lexer": "ipython3",
   "version": "3.12.3"
  }
 },
 "nbformat": 4,
 "nbformat_minor": 2
}
