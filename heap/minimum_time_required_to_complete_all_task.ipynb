{
 "cells": [
  {
   "cell_type": "code",
   "execution_count": null,
   "metadata": {},
   "outputs": [
    {
     "data": {
      "text/plain": [
       "([(15, 3), (100, 2), (27, 2)], 44)"
      ]
     },
     "execution_count": 39,
     "metadata": {},
     "output_type": "execute_result"
    }
   ],
   "source": [
    "import heapq\n",
    "def minimum_time_to_complete_all_task(tasks):\n",
    "    tasks.sort()\n",
    "    min_heap=[]\n",
    "    total_penalty=0\n",
    "    total_time=0\n",
    "    for deadline, penalty in tasks:\n",
    "        heapq.heappush(min_heap, (penalty, deadline))\n",
    "        if len(min_heap) > deadline:\n",
    "            total_penalty+=heapq.heappop(min_heap)[0]\n",
    "    return min_heap,total_penalty\n",
    "minimum_time_to_complete_all_task(tasks) "
   ]
  },
  {
   "cell_type": "code",
   "execution_count": null,
   "metadata": {},
   "outputs": [
    {
     "name": "stdout",
     "output_type": "stream",
     "text": [
      "100\n",
      "27\n",
      "25\n",
      "19\n",
      "15\n",
      "(44, [27, 100, 15])\n"
     ]
    }
   ],
   "source": [
    "def minimum_time_to_complete_all_tasks(tasks):\n",
    "    tasks.sort(key=lambda x: x[1], reverse=True)\n",
    "\n",
    "    max_deadline = max(task[0] for task in tasks)\n",
    "    time_slots = [-1] * max_deadline \n",
    "    total_penalty = 0  \n",
    "\n",
    " \n",
    "    for deadline, penalty in tasks:\n",
    "        scheduled = False\n",
    "        print(penalty)\n",
    "        for t in range(deadline - 1, -1, -1):  \n",
    "            if time_slots[t] == -1:\n",
    "                time_slots[t] = penalty  \n",
    "                scheduled = True\n",
    "                break  \n",
    "        \n",
    "        if not scheduled:\n",
    "            total_penalty += penalty  # If no slot is available, add penalty\n",
    "\n",
    "    return total_penalty,time_slots\n",
    "\n",
    "tasks = [\n",
    "    (2, 100),  # Task A (Deadline: 2, Penalty: 100)\n",
    "    (1, 19),   # Task B (Deadline: 1, Penalty: 19)\n",
    "    (2, 27),   # Task C (Deadline: 2, Penalty: 27)\n",
    "    (1, 25),   # Task D (Deadline: 1, Penalty: 25)\n",
    "    (3, 15)    # Task E (Deadline: 3, Penalty: 15)\n",
    "]\n",
    "\n",
    "print(minimum_time_to_complete_all_tasks(tasks))  # Output: 44\n"
   ]
  }
 ],
 "metadata": {
  "kernelspec": {
   "display_name": "myenv",
   "language": "python",
   "name": "python3"
  },
  "language_info": {
   "codemirror_mode": {
    "name": "ipython",
    "version": 3
   },
   "file_extension": ".py",
   "mimetype": "text/x-python",
   "name": "python",
   "nbconvert_exporter": "python",
   "pygments_lexer": "ipython3",
   "version": "3.12.3"
  }
 },
 "nbformat": 4,
 "nbformat_minor": 2
}
