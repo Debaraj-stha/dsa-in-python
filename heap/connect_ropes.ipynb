{
 "cells": [
  {
   "cell_type": "code",
   "execution_count": 24,
   "metadata": {},
   "outputs": [
    {
     "data": {
      "text/plain": [
       "33"
      ]
     },
     "execution_count": 24,
     "metadata": {},
     "output_type": "execute_result"
    }
   ],
   "source": [
    "import heapq\n",
    "def connect_ropes(ropes):\n",
    "    cost=0\n",
    "    min_heap=[]\n",
    "    for rope in ropes:\n",
    "        heapq.heappush(min_heap,rope)\n",
    "    while len(min_heap)>=2:\n",
    "        first=heapq.heappop(min_heap)\n",
    "        second=heapq.heappop(min_heap)\n",
    "        cost+=first+second\n",
    "        heapq.heappush(min_heap,first+second)\n",
    "    return cost\n",
    "ropes=[1,2,3,4,5]\n",
    "connect_ropes(ropes)"
   ]
  }
 ],
 "metadata": {
  "kernelspec": {
   "display_name": "myenv",
   "language": "python",
   "name": "python3"
  },
  "language_info": {
   "codemirror_mode": {
    "name": "ipython",
    "version": 3
   },
   "file_extension": ".py",
   "mimetype": "text/x-python",
   "name": "python",
   "nbconvert_exporter": "python",
   "pygments_lexer": "ipython3",
   "version": "3.12.3"
  }
 },
 "nbformat": 4,
 "nbformat_minor": 2
}
