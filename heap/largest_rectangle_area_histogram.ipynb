{
 "cells": [
  {
   "cell_type": "code",
   "execution_count": 2,
   "metadata": {},
   "outputs": [
    {
     "name": "stdout",
     "output_type": "stream",
     "text": [
      "10\n"
     ]
    }
   ],
   "source": [
    "def largestRectangleArea(heights):\n",
    "    stack = []  # Stores (index)\n",
    "    max_area = 0\n",
    "    \n",
    "    for i, h in enumerate(heights + [0]):  # Add a zero to force stack pop at the end\n",
    "        while stack and heights[stack[-1]] > h:\n",
    "            height = heights[stack.pop()]  # Height of the bar\n",
    "            width = i if not stack else i - stack[-1] - 1  # Compute width\n",
    "            max_area = max(max_area, height * width)\n",
    "        stack.append(i)\n",
    "\n",
    "    return max_area\n",
    "\n",
    "# Example usage:\n",
    "heights = [2, 1, 5, 6, 2, 3]\n",
    "print(largestRectangleArea(heights))  # Output: 10\n"
   ]
  },
  {
   "cell_type": "code",
   "execution_count": null,
   "metadata": {},
   "outputs": [],
   "source": []
  }
 ],
 "metadata": {
  "kernelspec": {
   "display_name": "myenv",
   "language": "python",
   "name": "python3"
  },
  "language_info": {
   "codemirror_mode": {
    "name": "ipython",
    "version": 3
   },
   "file_extension": ".py",
   "mimetype": "text/x-python",
   "name": "python",
   "nbconvert_exporter": "python",
   "pygments_lexer": "ipython3",
   "version": "3.12.3"
  }
 },
 "nbformat": 4,
 "nbformat_minor": 2
}
