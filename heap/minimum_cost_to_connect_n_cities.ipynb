{
 "cells": [
  {
   "cell_type": "code",
   "execution_count": null,
   "metadata": {},
   "outputs": [
    {
     "name": "stdout",
     "output_type": "stream",
     "text": [
      "Total cost: 6\n",
      "MST edges: [(0, 2), (2, 1), (2, 3), (2, 4)]\n"
     ]
    }
   ],
   "source": [
    "import heapq\n",
    "\n",
    "def minimum_cost_to_connect_n_cities(cities):\n",
    "    \n",
    "    min_heap = []\n",
    "    visited = set() \n",
    "    min_heap.append((0, 0, -1))  # Starting with node 0, cost = 0, no parent (-1)\n",
    "    total_cost = 0\n",
    "    MST = []  \n",
    "    \n",
    "    while min_heap:\n",
    "        cost, node, parent = heapq.heappop(min_heap)\n",
    "        \n",
    "        if node in visited:\n",
    "            continue\n",
    "        \n",
    "        visited.add(node)\n",
    "        \n",
    "        if parent != -1:  \n",
    "            MST.append((parent, node))\n",
    "            total_cost += cost\n",
    "        \n",
    "        \n",
    "        for neighbor, weight in cities[node]:\n",
    "            if neighbor not in visited:\n",
    "                heapq.heappush(min_heap, (weight, neighbor, node))\n",
    "    \n",
    "    return total_cost, MST\n",
    "\n",
    "\n",
    "cities = {\n",
    "    0: [(1, 2), (2, 1)],\n",
    "    1: [(0, 2), (2, 1)],\n",
    "    2: [(0, 1), (1, 1), (3, 2), (4, 2)],\n",
    "    3: [(2, 4), (4, 3)],\n",
    "    4: [(3, 1), (2, 2)]\n",
    "}\n",
    "\n",
    "\n",
    "total_cost, mst = minimum_cost_to_connect_n_cities(cities)\n",
    "print(f\"Total cost: {total_cost}\")\n",
    "print(f\"MST edges: {mst}\")\n"
   ]
  }
 ],
 "metadata": {
  "kernelspec": {
   "display_name": "myenv",
   "language": "python",
   "name": "python3"
  },
  "language_info": {
   "codemirror_mode": {
    "name": "ipython",
    "version": 3
   },
   "file_extension": ".py",
   "mimetype": "text/x-python",
   "name": "python",
   "nbconvert_exporter": "python",
   "pygments_lexer": "ipython3",
   "version": "3.12.3"
  }
 },
 "nbformat": 4,
 "nbformat_minor": 2
}
