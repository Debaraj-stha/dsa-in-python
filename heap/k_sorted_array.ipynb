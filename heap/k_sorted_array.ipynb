{
 "cells": [
  {
   "cell_type": "code",
   "execution_count": 1,
   "metadata": {},
   "outputs": [
    {
     "data": {
      "text/plain": [
       "[2, 3, 5, 6, 8, 9, 10]"
      ]
     },
     "execution_count": 1,
     "metadata": {},
     "output_type": "execute_result"
    }
   ],
   "source": [
    "import heapq\n",
    "def nearly_sorted_array(arr,k):\n",
    "    min_heap=[]\n",
    "    sorted_arr=[]\n",
    "    for num in arr:\n",
    "        heapq.heappush(min_heap, num)\n",
    "        if len(min_heap)>k:\n",
    "            sorted_arr.append(heapq.heappop(min_heap))\n",
    "    while min_heap:\n",
    "        sorted_arr.append(heapq.heappop(min_heap))\n",
    "    return sorted_arr\n",
    "k=3\n",
    "arr=[6,5,3,2,8,10,9]\n",
    "nearly_sorted_array(arr,k)"
   ]
  }
 ],
 "metadata": {
  "kernelspec": {
   "display_name": "myenv",
   "language": "python",
   "name": "python3"
  },
  "language_info": {
   "codemirror_mode": {
    "name": "ipython",
    "version": 3
   },
   "file_extension": ".py",
   "mimetype": "text/x-python",
   "name": "python",
   "nbconvert_exporter": "python",
   "pygments_lexer": "ipython3",
   "version": "3.12.3"
  }
 },
 "nbformat": 4,
 "nbformat_minor": 2
}
