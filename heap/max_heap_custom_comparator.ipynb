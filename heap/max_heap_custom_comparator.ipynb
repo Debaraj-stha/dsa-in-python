{
 "cells": [
  {
   "cell_type": "code",
   "execution_count": 1,
   "metadata": {},
   "outputs": [
    {
     "name": "stdout",
     "output_type": "stream",
     "text": [
      "10\n",
      "5\n",
      "3\n"
     ]
    }
   ],
   "source": [
    "import heapq\n",
    "\n",
    "class MaxHeap:\n",
    "    def __init__(self):\n",
    "        self.heap = []\n",
    "\n",
    "    def push(self, val):\n",
    "        heapq.heappush(self.heap, -val)  # Store negative values\n",
    "\n",
    "    def pop(self):\n",
    "        return -heapq.heappop(self.heap)  # Negate back to original value\n",
    "\n",
    "    def peek(self):\n",
    "        return -self.heap[0] if self.heap else None  # Get max value without removing\n",
    "\n",
    "    def size(self):\n",
    "        return len(self.heap)\n",
    "\n",
    "# Example usage:\n",
    "max_heap = MaxHeap()\n",
    "max_heap.push(3)\n",
    "max_heap.push(10)\n",
    "max_heap.push(5)\n",
    "\n",
    "print(max_heap.pop())  # Output: 10\n",
    "print(max_heap.pop())  # Output: 5\n",
    "print(max_heap.pop())  # Output: 3\n"
   ]
  }
 ],
 "metadata": {
  "kernelspec": {
   "display_name": "myenv",
   "language": "python",
   "name": "python3"
  },
  "language_info": {
   "codemirror_mode": {
    "name": "ipython",
    "version": 3
   },
   "file_extension": ".py",
   "mimetype": "text/x-python",
   "name": "python",
   "nbconvert_exporter": "python",
   "pygments_lexer": "ipython3",
   "version": "3.12.3"
  }
 },
 "nbformat": 4,
 "nbformat_minor": 2
}
