{
 "cells": [
  {
   "cell_type": "code",
   "execution_count": 6,
   "metadata": {},
   "outputs": [
    {
     "name": "stdout",
     "output_type": "stream",
     "text": [
      "[('A', 20, 50), ('B', 10, 40), ('C', 15, 60), ('D', 5, 30), ('E', 3, 20), ('F', 7, 40), ('G', 13, 70), ('H', 15, 100)]\n",
      "(30, 'A')\n",
      "(30, 'B')\n",
      "(25, 'D')\n",
      "(17, 'E')\n",
      "(33, 'F')\n",
      "(45, 'C')\n",
      "(57, 'G')\n"
     ]
    },
    {
     "data": {
      "text/plain": [
       "(85, 'H')"
      ]
     },
     "execution_count": 6,
     "metadata": {},
     "output_type": "execute_result"
    }
   ],
   "source": [
    "import heapq\n",
    "def most_profitable_project(projects):\n",
    "    min_heap=[]\n",
    "    print(projects)\n",
    "    for project,cost,profit in projects:\n",
    "        net_profit=profit-cost\n",
    "        heapq.heappush(min_heap, (net_profit, project))\n",
    "        if len(min_heap)>1:\n",
    "            print(heapq.heappop(min_heap))\n",
    "        \n",
    "    return heapq.heappop(min_heap)\n",
    "\n",
    "\n",
    "projects=[\n",
    "    (\"A\",20,50),\n",
    "    (\"B\",10,40),\n",
    "    (\"C\",15,60),\n",
    "    (\"D\",5,30),\n",
    "    (\"E\",3,20),\n",
    "    (\"F\",7,40),\n",
    "    (\"G\",13,70),\n",
    "    (\"H\",15,100)\n",
    "]\n",
    "most_profitable_project(projects)"
   ]
  },
  {
   "cell_type": "code",
   "execution_count": 7,
   "metadata": {},
   "outputs": [
    {
     "name": "stdout",
     "output_type": "stream",
     "text": [
      "H\n"
     ]
    }
   ],
   "source": [
    "import heapq\n",
    "\n",
    "def most_profitable_project(projects):\n",
    "    max_heap = []\n",
    "    for project, cost, profit in projects:\n",
    "        net_profit = profit - cost\n",
    "        # Use negative net profit for max-heap\n",
    "        heapq.heappush(max_heap, (-net_profit, project))  # Negative for max-heap\n",
    "\n",
    "    # Pop the most profitable project (max net profit)\n",
    "    _, most_profitable = heapq.heappop(max_heap)\n",
    "    \n",
    "    return most_profitable\n",
    "\n",
    "projects = [\n",
    "    (\"A\", 20, 50),\n",
    "    (\"B\", 10, 40),\n",
    "    (\"C\", 15, 60),\n",
    "    (\"D\", 5, 30),\n",
    "    (\"E\", 3, 20),\n",
    "    (\"F\", 7, 40),\n",
    "    (\"G\", 13, 70),\n",
    "    (\"H\", 15, 100)\n",
    "]\n",
    "\n",
    "print(most_profitable_project(projects))\n"
   ]
  }
 ],
 "metadata": {
  "kernelspec": {
   "display_name": "myenv",
   "language": "python",
   "name": "python3"
  },
  "language_info": {
   "codemirror_mode": {
    "name": "ipython",
    "version": 3
   },
   "file_extension": ".py",
   "mimetype": "text/x-python",
   "name": "python",
   "nbconvert_exporter": "python",
   "pygments_lexer": "ipython3",
   "version": "3.12.3"
  }
 },
 "nbformat": 4,
 "nbformat_minor": 2
}
