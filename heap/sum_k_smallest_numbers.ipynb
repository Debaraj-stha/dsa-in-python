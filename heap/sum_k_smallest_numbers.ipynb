{
 "cells": [
  {
   "cell_type": "code",
   "execution_count": 1,
   "metadata": {},
   "outputs": [
    {
     "data": {
      "text/plain": [
       "14"
      ]
     },
     "execution_count": 1,
     "metadata": {},
     "output_type": "execute_result"
    }
   ],
   "source": [
    "import heapq\n",
    "def sum_of_k_smallest_numbers(arr,k):\n",
    "    max_heap=[]\n",
    "    for num in arr:\n",
    "        heapq.heappush(max_heap,-num)\n",
    "        if len(max_heap)>k:\n",
    "            heapq.heappop(max_heap)\n",
    "    return sum(-num for num in max_heap)\n",
    "arr=[7,10,3,4,20,15]\n",
    "k=3\n",
    "sum_of_k_smallest_numbers(arr,k)"
   ]
  }
 ],
 "metadata": {
  "kernelspec": {
   "display_name": "myenv",
   "language": "python",
   "name": "python3"
  },
  "language_info": {
   "codemirror_mode": {
    "name": "ipython",
    "version": 3
   },
   "file_extension": ".py",
   "mimetype": "text/x-python",
   "name": "python",
   "nbconvert_exporter": "python",
   "pygments_lexer": "ipython3",
   "version": "3.12.3"
  }
 },
 "nbformat": 4,
 "nbformat_minor": 2
}
