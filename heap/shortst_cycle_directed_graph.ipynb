{
 "cells": [
  {
   "cell_type": "code",
   "execution_count": 42,
   "metadata": {},
   "outputs": [
    {
     "name": "stdout",
     "output_type": "stream",
     "text": [
      "10\n"
     ]
    }
   ],
   "source": [
    "import heapq\n",
    "from collections import deque\n",
    "\n",
    "def shortest_cycle(graph):\n",
    "    def bfs_with_cycle_detection(start):\n",
    "        queue = deque([(start, -1, 0)])  \n",
    "        visited = {}  \n",
    "        \n",
    "        while queue:\n",
    "            node, parent, dist = queue.popleft()\n",
    "            if node in visited:\n",
    "                if visited[node]!=parent:\n",
    "                    return dist+visited[node]\n",
    "            visited[node] = dist\n",
    "            for neighbor, weight in graph[node]:\n",
    "                if neighbor!=parent:\n",
    "                    queue.append((neighbor, node, dist+weight))\n",
    "        \n",
    "        return float('inf')  \n",
    "\n",
    "    shortest = float('inf')\n",
    "    \n",
    "    for node in graph:\n",
    "        cycle_length = bfs_with_cycle_detection(node)\n",
    "        shortest = min(shortest, cycle_length)\n",
    "\n",
    "    return shortest if shortest != float('inf') else -1 \n",
    "graph = {\n",
    "    0: [(1, 5)],\n",
    "    1: [(3, 6), (2, 2)],\n",
    "    2: [(0, 3)],\n",
    "    3: [(2, 7)]\n",
    "}\n",
    "\n",
    "print(shortest_cycle(graph))  # Output: the length of the shortest cycle\n"
   ]
  }
 ],
 "metadata": {
  "kernelspec": {
   "display_name": "myenv",
   "language": "python",
   "name": "python3"
  },
  "language_info": {
   "codemirror_mode": {
    "name": "ipython",
    "version": 3
   },
   "file_extension": ".py",
   "mimetype": "text/x-python",
   "name": "python",
   "nbconvert_exporter": "python",
   "pygments_lexer": "ipython3",
   "version": "3.12.3"
  }
 },
 "nbformat": 4,
 "nbformat_minor": 2
}
