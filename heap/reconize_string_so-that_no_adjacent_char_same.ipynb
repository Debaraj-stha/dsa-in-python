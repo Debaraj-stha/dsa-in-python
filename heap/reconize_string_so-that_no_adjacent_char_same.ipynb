{
 "cells": [
  {
   "cell_type": "code",
   "execution_count": 70,
   "metadata": {},
   "outputs": [
    {
     "name": "stdout",
     "output_type": "stream",
     "text": [
      "loldlobdehlorw\n",
      "[('l', 0), ('o', 1), ('l', 2), ('d', 3), ('l', 4), ('o', 5), ('b', 6), ('d', 7), ('e', 8), ('h', 9), ('l', 10), ('o', 11), ('r', 12), ('w', 13)]\n"
     ]
    }
   ],
   "source": [
    "import heapq\n",
    "\n",
    "def reorganize_string(string):\n",
    "    freq_map = {}\n",
    "    for char in string:\n",
    "        freq_map[char] = freq_map.get(char, 0) + 1\n",
    "    \n",
    "    # Check for impossible case\n",
    "    max_freq = max(freq_map.values())\n",
    "    if max_freq > (len(string) + 1) // 2:\n",
    "        print(\"Not possible\")\n",
    "        return \"\"\n",
    "\n",
    "    # : Build max-heap (invert frequency to use min-heap as max-heap)\n",
    "    max_heap = []\n",
    "    for char, freq in freq_map.items():\n",
    "        heapq.heappush(max_heap, (-freq, char))\n",
    "    result = []\n",
    "    pos=[]\n",
    "    index=0\n",
    "    while max_heap:\n",
    "        # Get the most frequent character\n",
    "        freq, char = heapq.heappop(max_heap)\n",
    "\n",
    "\n",
    "        pos.append((char,index))\n",
    "        result.append(char)\n",
    "        # If the heap still has another element, add the next most frequent character\n",
    "        if max_heap:\n",
    "            index+=1\n",
    "            next_freq, next_char = heapq.heappop(max_heap)\n",
    "            result.append(next_char)\n",
    "            pos.append((next_char,index))\n",
    "            if -next_freq > 1:\n",
    "                heapq.heappush(max_heap, (next_freq + 1, next_char))\n",
    "          # If there are still more instances of this character, push it back with reduced frequency\n",
    "        if -freq > 1:\n",
    "            heapq.heappush(max_heap, (freq+1, char))\n",
    "        index+=1\n",
    "    \n",
    "    return ''.join(result),pos\n",
    "\n",
    "# Test the function\n",
    "string = \"helloworldldob\"\n",
    "result,pos = reorganize_string(string)\n",
    "print(result)\n",
    "print(pos)\n"
   ]
  }
 ],
 "metadata": {
  "kernelspec": {
   "display_name": "myenv",
   "language": "python",
   "name": "python3"
  },
  "language_info": {
   "codemirror_mode": {
    "name": "ipython",
    "version": 3
   },
   "file_extension": ".py",
   "mimetype": "text/x-python",
   "name": "python",
   "nbconvert_exporter": "python",
   "pygments_lexer": "ipython3",
   "version": "3.12.3"
  }
 },
 "nbformat": 4,
 "nbformat_minor": 2
}
