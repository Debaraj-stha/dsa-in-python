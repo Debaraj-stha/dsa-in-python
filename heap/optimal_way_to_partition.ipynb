{
 "cells": [
  {
   "cell_type": "markdown",
   "metadata": {},
   "source": [
    "- low = max(arr) → The smallest possible max_sum is the largest number in arr (because each partition must contain at least one number).\n",
    "- high = sum(arr) → The largest possible max_sum is the sum of all numbers (if we keep everything in one partition)."
   ]
  },
  {
   "cell_type": "code",
   "execution_count": 18,
   "metadata": {},
   "outputs": [
    {
     "name": "stdout",
     "output_type": "stream",
     "text": [
      "18\n"
     ]
    }
   ],
   "source": [
    "def canPartition(arr, k, max_sum):\n",
    "    current_sum=0\n",
    "    partition=1\n",
    "    for num in arr:\n",
    "        if current_sum+num>max_sum:\n",
    "            partition+=1\n",
    "            current_sum=num\n",
    "            if partition>k:\n",
    "                return False\n",
    "        else:\n",
    "            current_sum+=num\n",
    "    return True\n",
    "def splitArray(arr, k):\n",
    "    low,high=max(arr),sum(arr)\n",
    "    while low<high:\n",
    "        mid=(low+high)//2\n",
    "        if canPartition(arr, k, mid):\n",
    "            high=mid\n",
    "        else:\n",
    "            low=mid+1\n",
    "    return low\n",
    "arr = [7, 2, 5, 10, 8]\n",
    "k = 2\n",
    "print(splitArray(arr, k))  # Output: 14\n"
   ]
  }
 ],
 "metadata": {
  "kernelspec": {
   "display_name": "myenv",
   "language": "python",
   "name": "python3"
  },
  "language_info": {
   "codemirror_mode": {
    "name": "ipython",
    "version": 3
   },
   "file_extension": ".py",
   "mimetype": "text/x-python",
   "name": "python",
   "nbconvert_exporter": "python",
   "pygments_lexer": "ipython3",
   "version": "3.12.3"
  }
 },
 "nbformat": 4,
 "nbformat_minor": 2
}
