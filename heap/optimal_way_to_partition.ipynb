{
 "cells": [
  {
   "cell_type": "markdown",
   "metadata": {},
   "source": [
    "- low = max(arr) → The smallest possible max_sum is the largest number in arr (because each partition must contain at least one number).\n",
    "- high = sum(arr) → The largest possible max_sum is the sum of all numbers (if we keep everything in one partition)."
   ]
  },
  {
   "cell_type": "code",
   "execution_count": null,
   "metadata": {},
   "outputs": [
    {
     "name": "stdout",
     "output_type": "stream",
     "text": [
      "18\n"
     ]
    }
   ],
   "source": [
    "# Function to check if the array can be split into k or fewer partitions \n",
    "# such that the maximum sum of any partition does not exceed max_sum.\n",
    "def canPartition(arr, k, max_sum):\n",
    "    current_sum = 0  # Tracks the sum of the current partition\n",
    "    partition = 1  # At least one partition is needed initially\n",
    "    \n",
    "    for num in arr:\n",
    "        # If adding num to the current partition exceeds max_sum, start a new partition\n",
    "        if current_sum + num > max_sum:\n",
    "            partition += 1  # Increase partition count\n",
    "            current_sum = num  # Start new partition with the current number\n",
    "            \n",
    "            # If partitions exceed k, return False\n",
    "            if partition > k:\n",
    "                return False\n",
    "        else:\n",
    "            current_sum += num  # Add num to the current partition\n",
    "            \n",
    "    return True  # If partitions are within k, return True\n",
    "\n",
    "# Function to find the minimum possible largest sum when splitting the array into k subarrays\n",
    "def splitArray(arr, k):\n",
    "    #The maximum sum of a partition cannot be smaller than the largest single element in arr.\n",
    "    low, high = max(arr), sum(arr)  # The range for binary search\n",
    "    while low < high:\n",
    "        mid = (low + high) // 2  # Mid represents a candidate for max sum in a partition\n",
    "        \n",
    "        # Check if we can split the array within k partitions with max sum <= mid\n",
    "        if canPartition(arr, k, mid):\n",
    "            high = mid  # Try a smaller max sum\n",
    "        else:\n",
    "            low = mid + 1  # Increase the max sum limit\n",
    "        \n",
    "    return low  # The smallest possible max sum for k partitions\n",
    "\n",
    "# Example usage\n",
    "arr = [7, 2, 5, 10, 8]\n",
    "k = 2\n",
    "print(splitArray(arr, k))  # Output: 14\n"
   ]
  }
 ],
 "metadata": {
  "kernelspec": {
   "display_name": "myenv",
   "language": "python",
   "name": "python3"
  },
  "language_info": {
   "codemirror_mode": {
    "name": "ipython",
    "version": 3
   },
   "file_extension": ".py",
   "mimetype": "text/x-python",
   "name": "python",
   "nbconvert_exporter": "python",
   "pygments_lexer": "ipython3",
   "version": "3.12.3"
  }
 },
 "nbformat": 4,
 "nbformat_minor": 2
}
