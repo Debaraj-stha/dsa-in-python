{
 "cells": [
  {
   "cell_type": "code",
   "execution_count": 4,
   "metadata": {},
   "outputs": [],
   "source": [
    "import heapq\n",
    "class MinPriorityQueue(object):\n",
    "    def __init__(self):\n",
    "        self.heap = []\n",
    "\n",
    "    def push(self, value):\n",
    "        heapq.heappush(self.heap, value)\n",
    "\n",
    "\n",
    "    def pop(self):\n",
    "        if self.heap:\n",
    "            return heapq.heappop(self.heap)\n",
    "        else:\n",
    "            return None\n",
    "    def display(self):\n",
    "        while self.heap:\n",
    "            print(heapq.heappop(self.heap))\n",
    "\n",
    "\n",
    "    def peak(self):\n",
    "        return self.heap[0] if self.heap else None"
   ]
  },
  {
   "cell_type": "code",
   "execution_count": 5,
   "metadata": {},
   "outputs": [
    {
     "name": "stdout",
     "output_type": "stream",
     "text": [
      "1\n"
     ]
    }
   ],
   "source": [
    "mpq=MinPriorityQueue()\n",
    "mpq.push(5)\n",
    "mpq.push(2)\n",
    "mpq.push(1)\n",
    "mpq.push(4)\n",
    "print(mpq.pop())"
   ]
  },
  {
   "cell_type": "code",
   "execution_count": 6,
   "metadata": {},
   "outputs": [],
   "source": [
    "import heapq\n",
    "class MaxPriorityQueue(object):\n",
    "    def __init__(self):\n",
    "        self.heap = []\n",
    "\n",
    "    def push(self, value):\n",
    "        heapq.heappush(self.heap, -value)\n",
    "\n",
    "\n",
    "    def pop(self):\n",
    "        if self.heap:\n",
    "            return -heapq.heappop(self.heap)\n",
    "        else:\n",
    "            return None\n",
    "    def display(self):\n",
    "        while self.heap:\n",
    "            print(heapq.heappop(self.heap))\n",
    "\n",
    "\n",
    "    def peak(self):\n",
    "        return -self.heap[0] if self.heap else None"
   ]
  },
  {
   "cell_type": "code",
   "execution_count": 7,
   "metadata": {},
   "outputs": [
    {
     "name": "stdout",
     "output_type": "stream",
     "text": [
      "5\n"
     ]
    }
   ],
   "source": [
    "mxpq=MaxPriorityQueue()\n",
    "mxpq.push(5)\n",
    "mxpq.push(2)\n",
    "mxpq.push(1)\n",
    "print(mxpq.pop())"
   ]
  }
 ],
 "metadata": {
  "kernelspec": {
   "display_name": "myenv",
   "language": "python",
   "name": "python3"
  },
  "language_info": {
   "codemirror_mode": {
    "name": "ipython",
    "version": 3
   },
   "file_extension": ".py",
   "mimetype": "text/x-python",
   "name": "python",
   "nbconvert_exporter": "python",
   "pygments_lexer": "ipython3",
   "version": "3.12.3"
  }
 },
 "nbformat": 4,
 "nbformat_minor": 2
}
