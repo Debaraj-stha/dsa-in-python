{
 "cells": [
  {
   "cell_type": "code",
   "execution_count": 20,
   "metadata": {},
   "outputs": [
    {
     "name": "stdout",
     "output_type": "stream",
     "text": [
      "max heap [-2, -1]\n",
      "min heap [4, 5, 7]\n",
      "4\n",
      "max heap [-3, -1, -2]\n",
      "min heap [4, 5, 7]\n",
      "3.5\n"
     ]
    }
   ],
   "source": [
    "import heapq\n",
    "\n",
    "def find_median(arr):\n",
    "    if not arr:\n",
    "        return None\n",
    "    max_heap = []  # Stores the smaller half (max-heap)\n",
    "    min_heap = []  # Stores the larger half (min-heap)\n",
    "\n",
    "    for num in arr:\n",
    "        if not max_heap or num <= -max_heap[0]:\n",
    "            heapq.heappush(max_heap, -num)\n",
    "        else:\n",
    "            heapq.heappush(min_heap, num)\n",
    "\n",
    "        # Balance the heaps\n",
    "        if len(max_heap) > len(min_heap) + 1:\n",
    "            heapq.heappush(min_heap, -heapq.heappop(max_heap))\n",
    "        elif len(min_heap) > len(max_heap) + 1:\n",
    "            heapq.heappush(max_heap, -heapq.heappop(min_heap))\n",
    "    print(\"max heap\",max_heap)\n",
    "    print(\"min heap\",min_heap)\n",
    "\n",
    "    if len(max_heap) == len(min_heap):\n",
    "        return (-max_heap[0] + min_heap[0]) / 2.0\n",
    "    elif len(max_heap) > len(min_heap):\n",
    "        return -max_heap[0]\n",
    "    else:\n",
    "        return min_heap[0]\n",
    "\n",
    "arr = [1, 4, 5, 2, 7]\n",
    "median = find_median(arr)\n",
    "print(median)\n",
    "\n",
    "arr2 = [1, 4, 5, 2, 7, 3]\n",
    "median2 = find_median(arr2)\n",
    "print(median2)"
   ]
  }
 ],
 "metadata": {
  "kernelspec": {
   "display_name": "myenv",
   "language": "python",
   "name": "python3"
  },
  "language_info": {
   "codemirror_mode": {
    "name": "ipython",
    "version": 3
   },
   "file_extension": ".py",
   "mimetype": "text/x-python",
   "name": "python",
   "nbconvert_exporter": "python",
   "pygments_lexer": "ipython3",
   "version": "3.12.3"
  }
 },
 "nbformat": 4,
 "nbformat_minor": 2
}
