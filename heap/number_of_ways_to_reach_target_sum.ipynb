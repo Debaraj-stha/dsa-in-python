{
 "cells": [
  {
   "cell_type": "code",
   "execution_count": 28,
   "metadata": {},
   "outputs": [
    {
     "name": "stdout",
     "output_type": "stream",
     "text": [
      "[1, 1, 0, 0, 0] 1\n",
      "[1, 1, 1, 0, 0] 1\n",
      "[1, 1, 1, 1, 0] 1\n",
      "[1, 1, 1, 1, 1] 1\n",
      "[1, 1, 2, 1, 1] 2\n",
      "[1, 1, 2, 2, 1] 2\n",
      "[1, 1, 2, 2, 3] 2\n",
      "[1, 1, 2, 3, 3] 3\n",
      "[1, 1, 2, 3, 4] 3\n",
      "4\n"
     ]
    }
   ],
   "source": [
    "def count_ways_to_target_sum(nums, target):\n",
    "    dp = [0] * (target + 1)  # Initialize a DP array to store the number of ways to reach each sum\n",
    "    dp[0] = 1  # There is 1 way to reach sum 0 (by choosing no elements)\n",
    "    \n",
    "    for num in nums:\n",
    "        for j in range(num, target + 1):\n",
    "            dp[j] += dp[j - num]\n",
    "            print(dp,num)\n",
    "    return dp[target]\n",
    "\n",
    "\n",
    "nums = [1, 2, 3]\n",
    "target = 4\n",
    "print(count_ways_to_target_sum(nums, target)) \n"
   ]
  }
 ],
 "metadata": {
  "kernelspec": {
   "display_name": "myenv",
   "language": "python",
   "name": "python3"
  },
  "language_info": {
   "codemirror_mode": {
    "name": "ipython",
    "version": 3
   },
   "file_extension": ".py",
   "mimetype": "text/x-python",
   "name": "python",
   "nbconvert_exporter": "python",
   "pygments_lexer": "ipython3",
   "version": "3.12.3"
  }
 },
 "nbformat": 4,
 "nbformat_minor": 2
}
