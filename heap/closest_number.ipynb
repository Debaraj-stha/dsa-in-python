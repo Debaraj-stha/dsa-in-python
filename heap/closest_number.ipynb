{
 "cells": [
  {
   "cell_type": "code",
   "execution_count": 10,
   "metadata": {},
   "outputs": [
    {
     "name": "stdout",
     "output_type": "stream",
     "text": [
      "(-2, 5)\n",
      "(-2, 9)\n"
     ]
    },
    {
     "data": {
      "text/plain": [
       "[6, 8, 7]"
      ]
     },
     "execution_count": 10,
     "metadata": {},
     "output_type": "execute_result"
    }
   ],
   "source": [
    "import heapq\n",
    "def closest_number(arr,x,k):\n",
    "    min_heap=[]\n",
    "    for num in arr:\n",
    "        heapq.heappush(min_heap, (-abs(num-x), num))\n",
    "        if len(min_heap)>k:\n",
    "            print(heapq.heappop(min_heap))\n",
    "    res=[]\n",
    "    while min_heap:\n",
    "        res.append(heapq.heappop(min_heap)[1])\n",
    "    return res\n",
    "k=3\n",
    "x=7\n",
    "arr=[5,6,7,8,9]\n",
    "closest_number(arr,x,k)"
   ]
  }
 ],
 "metadata": {
  "kernelspec": {
   "display_name": "myenv",
   "language": "python",
   "name": "python3"
  },
  "language_info": {
   "codemirror_mode": {
    "name": "ipython",
    "version": 3
   },
   "file_extension": ".py",
   "mimetype": "text/x-python",
   "name": "python",
   "nbconvert_exporter": "python",
   "pygments_lexer": "ipython3",
   "version": "3.12.3"
  }
 },
 "nbformat": 4,
 "nbformat_minor": 2
}
