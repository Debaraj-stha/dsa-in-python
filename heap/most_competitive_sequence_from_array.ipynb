{
 "cells": [
  {
   "cell_type": "code",
   "execution_count": 71,
   "metadata": {},
   "outputs": [
    {
     "name": "stdout",
     "output_type": "stream",
     "text": [
      "[1, 2]\n"
     ]
    }
   ],
   "source": [
    "import heapq\n",
    "\n",
    "def mostCompetitive(nums, k):\n",
    "    # We will use a list as a stack to construct the subsequence\n",
    "    stack = []\n",
    "    n = len(nums)\n",
    "\n",
    "    for i, num in enumerate(nums):\n",
    "        # While stack is not empty and we can still remove elements from the stack\n",
    "        # to maintain the size of the subsequence and the lexicographic order.\n",
    "        while stack and stack[-1] > num and len(stack) + (n - i) > k:\n",
    "            stack.pop()\n",
    "        if len(stack) < k:\n",
    "            stack.append(num)\n",
    "\n",
    "    return stack\n",
    "\n",
    "# Example usage:\n",
    "nums=[1,2,3,4,5]\n",
    "k = 2\n",
    "print(mostCompetitive(nums, k))  # Output: [2, 6]\n"
   ]
  }
 ],
 "metadata": {
  "kernelspec": {
   "display_name": "myenv",
   "language": "python",
   "name": "python3"
  },
  "language_info": {
   "codemirror_mode": {
    "name": "ipython",
    "version": 3
   },
   "file_extension": ".py",
   "mimetype": "text/x-python",
   "name": "python",
   "nbconvert_exporter": "python",
   "pygments_lexer": "ipython3",
   "version": "3.12.3"
  }
 },
 "nbformat": 4,
 "nbformat_minor": 2
}
