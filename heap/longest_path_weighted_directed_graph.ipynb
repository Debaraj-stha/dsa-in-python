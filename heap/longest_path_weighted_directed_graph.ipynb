{
 "cells": [
  {
   "cell_type": "code",
   "execution_count": null,
   "metadata": {},
   "outputs": [
    {
     "name": "stdout",
     "output_type": "stream",
     "text": [
      "[0, 5, 7, 14]\n"
     ]
    }
   ],
   "source": [
    "import heapq\n",
    "\n",
    "def longest_path(graph, source, n):\n",
    "    dist = [-float('inf')] * n\n",
    "    dist[source] = 0\n",
    "    max_heap = []\n",
    "    heapq.heappush(max_heap, (-dist[source], source))\n",
    "    \n",
    "    while max_heap:\n",
    "        current_dist, u = heapq.heappop(max_heap)\n",
    "        current_dist = -current_dist \n",
    "    \n",
    "        for v, weight in graph[u]:\n",
    "            # If we found a longer path to node v, update the distance\n",
    "            if current_dist + weight > dist[v]:\n",
    "                dist[v] = current_dist + weight\n",
    "                heapq.heappush(max_heap, (-dist[v], v))  # Push updated distance to the heap\n",
    "    \n",
    "   \n",
    "    return dist\n",
    "\n",
    "graph = {\n",
    "    0: [(1, 5), (2, 3)],   # Node 0 -> Node 1 (weight 5), Node 2 (weight 3)\n",
    "    1: [(3, 6), (2, 2)],   # Node 1 -> Node 3 (weight 6), Node 2 (weight 2)\n",
    "    2: [(3, 7)],           # Node 2 -> Node 3 (weight 7)\n",
    "    3: []                  # Node 3 has no outgoing edges\n",
    "}\n",
    "\n",
    "n = 4  \n",
    "source = 0  \n",
    "\n",
    "longest_distances = longest_path(graph, source, n)\n",
    "print(longest_distances)\n"
   ]
  },
  {
   "cell_type": "code",
   "execution_count": null,
   "metadata": {},
   "outputs": [],
   "source": []
  }
 ],
 "metadata": {
  "kernelspec": {
   "display_name": "myenv",
   "language": "python",
   "name": "python3"
  },
  "language_info": {
   "codemirror_mode": {
    "name": "ipython",
    "version": 3
   },
   "file_extension": ".py",
   "mimetype": "text/x-python",
   "name": "python",
   "nbconvert_exporter": "python",
   "pygments_lexer": "ipython3",
   "version": "3.12.3"
  }
 },
 "nbformat": 4,
 "nbformat_minor": 2
}
