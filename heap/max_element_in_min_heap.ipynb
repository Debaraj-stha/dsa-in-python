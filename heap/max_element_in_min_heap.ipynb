{
 "cells": [
  {
   "cell_type": "code",
   "execution_count": 1,
   "metadata": {},
   "outputs": [
    {
     "data": {
      "text/plain": [
       "30"
      ]
     },
     "execution_count": 1,
     "metadata": {},
     "output_type": "execute_result"
    }
   ],
   "source": [
    "import heapq\n",
    "def max_element_in_minheap(arr):\n",
    "    min_heap=[]\n",
    "    for num in arr:\n",
    "        heapq.heappush(min_heap, num)\n",
    "    while len(min_heap)>1:\n",
    "        heapq.heappop(min_heap)\n",
    "    return heapq.heappop(min_heap)\n",
    "\n",
    "arr=[10, 20, 30, 5, 15]\n",
    "max_element=max_element_in_minheap(arr)\n",
    "max_element"
   ]
  }
 ],
 "metadata": {
  "kernelspec": {
   "display_name": "myenv",
   "language": "python",
   "name": "python3"
  },
  "language_info": {
   "codemirror_mode": {
    "name": "ipython",
    "version": 3
   },
   "file_extension": ".py",
   "mimetype": "text/x-python",
   "name": "python",
   "nbconvert_exporter": "python",
   "pygments_lexer": "ipython3",
   "version": "3.12.3"
  }
 },
 "nbformat": 4,
 "nbformat_minor": 2
}
