{
 "cells": [
  {
   "cell_type": "code",
   "execution_count": 35,
   "metadata": {},
   "outputs": [
    {
     "data": {
      "text/plain": [
       "126"
      ]
     },
     "execution_count": 35,
     "metadata": {},
     "output_type": "execute_result"
    }
   ],
   "source": [
    "import heapq\n",
    "def maximum_performance(n,k,speed,efficiency):\n",
    "    enginers=list(zip(speed,efficiency))\n",
    "    enginers.sort(key = lambda x:x[1],reverse=True)\n",
    "    speed_sum=0\n",
    "    max_performance=0\n",
    "    min_heap=[]\n",
    "    for sp,ef in enginers:\n",
    "        heapq.heappush(min_heap,ef)\n",
    "        speed_sum+=sp\n",
    "        if len(min_heap)>k:\n",
    "            heapq.heappop(min_heap)\n",
    "        max_performance=max(max_performance,speed_sum*ef)\n",
    "    return max_performance\n",
    "n = 6 #engineers\n",
    "k = 3 #(maximum team size)\n",
    "speed= [2, 5, 3, 7, 6, 4]\n",
    "efficiency= [1, 10, 3, 9, 7, 5]\n",
    "maximum_performance(n,k,speed,efficiency)"
   ]
  }
 ],
 "metadata": {
  "kernelspec": {
   "display_name": "myenv",
   "language": "python",
   "name": "python3"
  },
  "language_info": {
   "codemirror_mode": {
    "name": "ipython",
    "version": 3
   },
   "file_extension": ".py",
   "mimetype": "text/x-python",
   "name": "python",
   "nbconvert_exporter": "python",
   "pygments_lexer": "ipython3",
   "version": "3.12.3"
  }
 },
 "nbformat": 4,
 "nbformat_minor": 2
}
