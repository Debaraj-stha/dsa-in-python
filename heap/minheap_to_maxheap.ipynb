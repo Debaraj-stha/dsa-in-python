{
 "cells": [
  {
   "cell_type": "code",
   "execution_count": 248,
   "metadata": {},
   "outputs": [
    {
     "data": {
      "text/plain": [
       "[10, 8, 6, 5, 4, 3, 2, 1]"
      ]
     },
     "execution_count": 248,
     "metadata": {},
     "output_type": "execute_result"
    }
   ],
   "source": [
    "import heapq\n",
    "def convert(arr):\n",
    "    max_heap=[-num for num in arr]\n",
    "    heapq.heapify(max_heap)\n",
    "    sorted_arr=[-heapq.heappop(max_heap) for _ in range(len(max_heap))]\n",
    "    return sorted_arr\n",
    "\n",
    "arr=[1, 2, 4, 6, 5, 8, 10,3]\n",
    "sorted_arr=convert(arr)\n",
    "sorted_arr"
   ]
  },
  {
   "cell_type": "code",
   "execution_count": 249,
   "metadata": {},
   "outputs": [
    {
     "data": {
      "text/plain": [
       "[1, 2, 4, 6, 10, 33, 70]"
      ]
     },
     "execution_count": 249,
     "metadata": {},
     "output_type": "execute_result"
    }
   ],
   "source": [
    "def build_heap(arr):\n",
    "    min_heap=[]\n",
    "    for num in arr:\n",
    "        heapq.heappush(min_heap, num)\n",
    "    return [heapq.heappop(min_heap) for _ in range(len(min_heap))]\n",
    "\n",
    "arr=[10,70,2,1,33,4,6]\n",
    "sorted_arr=build_heap(arr)\n",
    "sorted_arr"
   ]
  },
  {
   "cell_type": "code",
   "execution_count": null,
   "metadata": {},
   "outputs": [
    {
     "name": "stdout",
     "output_type": "stream",
     "text": [
      "[1, 2, 3, 4, 5, 6, 8, 10, 11]\n"
     ]
    }
   ],
   "source": [
    "import heapq\n",
    "\n",
    "def toMinHeap(arr):\n",
    "    min_heap=arr[:]\n",
    "    heapq.heapify(min_heap)\n",
    "    sorted_arr = [heapq.heappop(min_heap) for _ in range(len(min_heap))]\n",
    "\n",
    "    return sorted_arr\n",
    "\n",
    "arr = [11, 2, 4, 6, 5, 8, 10, 3,1]\n",
    "print(toMinHeap(arr))\n",
    "\n",
    "\n"
   ]
  },
  {
   "cell_type": "code",
   "execution_count": 180,
   "metadata": {},
   "outputs": [
    {
     "name": "stdout",
     "output_type": "stream",
     "text": [
      "[10, 9, 2, 1, 4]\n"
     ]
    }
   ],
   "source": [
    "import heapq\n",
    "\n",
    "def insertToMaxHeap(maxheap, k):\n",
    "    heapq.heappush(maxheap, -k) \n",
    "\n",
    "max_heap = [-9, -4, -2, -1]  \n",
    "k = 10\n",
    "insertToMaxHeap(max_heap, k)\n",
    "print([-num for num in max_heap])\n"
   ]
  },
  {
   "cell_type": "code",
   "execution_count": 181,
   "metadata": {},
   "outputs": [
    {
     "name": "stdout",
     "output_type": "stream",
     "text": [
      "[1, 2, 1, 4, 5, 3, 6, 7, 8, 10]\n",
      "[10, 4, 2, 3, 3, 1, 1]\n"
     ]
    }
   ],
   "source": [
    "import heapq\n",
    "\n",
    "def merge_two_binary_heaps(heap1, heap2):\n",
    "    merged_heap = heap1 + heap2  # Combine both heaps\n",
    "    if heap1[0]>=heap1[1]:\n",
    "        merged_heap=[-num for num in merged_heap]        \n",
    "    \n",
    "    heapq.heapify(merged_heap)   # Convert into a valid min-heap\n",
    "    return merged_heap\n",
    "\n",
    "heap1 = [1, 2, 3, 4, 5]\n",
    "heap2 = [1, 6, 7, 8, 10]\n",
    "print(merge_two_binary_heaps(heap1, heap2))\n",
    "heap1=[10,3,1]\n",
    "heap2=[4,3,2,1]\n",
    "res=merge_two_binary_heaps(heap1,heap2)\n",
    "print([-num for num in res])\n"
   ]
  }
 ],
 "metadata": {
  "kernelspec": {
   "display_name": "myenv",
   "language": "python",
   "name": "python3"
  },
  "language_info": {
   "codemirror_mode": {
    "name": "ipython",
    "version": 3
   },
   "file_extension": ".py",
   "mimetype": "text/x-python",
   "name": "python",
   "nbconvert_exporter": "python",
   "pygments_lexer": "ipython3",
   "version": "3.12.3"
  }
 },
 "nbformat": 4,
 "nbformat_minor": 2
}
