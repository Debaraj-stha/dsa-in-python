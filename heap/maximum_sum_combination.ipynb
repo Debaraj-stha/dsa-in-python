{
 "cells": [
  {
   "cell_type": "code",
   "execution_count": 62,
   "metadata": {},
   "outputs": [
    {
     "data": {
      "text/plain": [
       "(10, 151, 161)"
      ]
     },
     "execution_count": 62,
     "metadata": {},
     "output_type": "execute_result"
    }
   ],
   "source": [
    "import heapq\n",
    "def maximum_sum_combination_from_two_array(arr1,arr2):\n",
    "    if not arr1 or not arr2: return None\n",
    "    n1=len(arr1)\n",
    "    n2=len(arr2)\n",
    "    max_heap=[]\n",
    "    arr1.sort()\n",
    "    arr2.sort()\n",
    "    for i in range(n1):\n",
    "        for j in range(n2):\n",
    "            current=arr1[i]+arr2[j]\n",
    "            if max_heap and current>max_heap[-1][0]:\n",
    "                heapq.heapreplace(max_heap,(-arr1[i]-arr2[j],arr1[i],arr2[j]))\n",
    "            else:\n",
    "                heapq.heappush(max_heap,(-arr1[i]-arr2[j],arr1[i],arr2[j]))\n",
    "        \n",
    "            \n",
    "    num,val1,val2=heapq.heappop(max_heap)\n",
    "    return val1,val2,-num\n",
    "arr1=[4,6,1,2,10]\n",
    "arr2=[5,12,4,6,151]\n",
    "maximum_sum_combination_from_two_array(arr1,arr2)\n"
   ]
  }
 ],
 "metadata": {
  "kernelspec": {
   "display_name": "myenv",
   "language": "python",
   "name": "python3"
  },
  "language_info": {
   "codemirror_mode": {
    "name": "ipython",
    "version": 3
   },
   "file_extension": ".py",
   "mimetype": "text/x-python",
   "name": "python",
   "nbconvert_exporter": "python",
   "pygments_lexer": "ipython3",
   "version": "3.12.3"
  }
 },
 "nbformat": 4,
 "nbformat_minor": 2
}
