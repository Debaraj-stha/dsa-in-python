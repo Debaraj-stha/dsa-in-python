{
 "cells": [
  {
   "cell_type": "code",
   "execution_count": 1,
   "metadata": {},
   "outputs": [
    {
     "name": "stdout",
     "output_type": "stream",
     "text": [
      "15\n"
     ]
    }
   ],
   "source": [
    "def max_sum_non_adjacent(arr):\n",
    "    if not arr:\n",
    "        return 0\n",
    "\n",
    "    include = 0  # Max sum including the previous element\n",
    "    exclude = 0  # Max sum excluding the previous element\n",
    "\n",
    "    for num in arr:\n",
    "        new_include = exclude + num  # If we include this number, we must exclude the previous one\n",
    "        new_exclude = max(include, exclude)  # We either exclude or take the maximum of previous inclusions\n",
    "\n",
    "        include = new_include\n",
    "        exclude = new_exclude\n",
    "\n",
    "    # The result will be the maximum of including or excluding the last element\n",
    "    return max(include, exclude)\n",
    "\n",
    "# Example\n",
    "arr = [3, 2, 5, 10, 7]\n",
    "print(max_sum_non_adjacent(arr))  # Output: 15 (3 + 10 + 7)\n"
   ]
  }
 ],
 "metadata": {
  "kernelspec": {
   "display_name": "myenv",
   "language": "python",
   "name": "python3"
  },
  "language_info": {
   "codemirror_mode": {
    "name": "ipython",
    "version": 3
   },
   "file_extension": ".py",
   "mimetype": "text/x-python",
   "name": "python",
   "nbconvert_exporter": "python",
   "pygments_lexer": "ipython3",
   "version": "3.12.3"
  }
 },
 "nbformat": 4,
 "nbformat_minor": 2
}
