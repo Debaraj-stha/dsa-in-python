{
 "cells": [
  {
   "cell_type": "code",
   "execution_count": 1,
   "metadata": {},
   "outputs": [
    {
     "data": {
      "text/plain": [
       "['C++', 'GoLang', 'Python']"
      ]
     },
     "execution_count": 1,
     "metadata": {},
     "output_type": "execute_result"
    }
   ],
   "source": [
    "import heapq\n",
    "def k_trending_topic(topics,k):\n",
    "    min_heap=[]\n",
    "    for topic in topics:\n",
    "        heapq.heappush(min_heap, (topic['popularity'], topic['topic']))\n",
    "        if len(min_heap)>k:\n",
    "            heapq.heappop(min_heap)\n",
    "    return [topic for _, topic in min_heap]\n",
    "\n",
    "topics=[\n",
    "    {'topic':'Python', 'popularity':1000},\n",
    "    {'topic':'Java', 'popularity':500},\n",
    "    {'topic':'JavaScript', 'popularity':700},\n",
    "    {'topic':'C++', 'popularity':800},\n",
    "    {'topic':'GoLang', 'popularity':1200}\n",
    "]\n",
    "k_trending_topic(topics,3)"
   ]
  }
 ],
 "metadata": {
  "kernelspec": {
   "display_name": "myenv",
   "language": "python",
   "name": "python3"
  },
  "language_info": {
   "codemirror_mode": {
    "name": "ipython",
    "version": 3
   },
   "file_extension": ".py",
   "mimetype": "text/x-python",
   "name": "python",
   "nbconvert_exporter": "python",
   "pygments_lexer": "ipython3",
   "version": "3.12.3"
  }
 },
 "nbformat": 4,
 "nbformat_minor": 2
}
