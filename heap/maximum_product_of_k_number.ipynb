{
 "cells": [
  {
   "cell_type": "code",
   "execution_count": 25,
   "metadata": {},
   "outputs": [
    {
     "data": {
      "text/plain": [
       "60"
      ]
     },
     "execution_count": 25,
     "metadata": {},
     "output_type": "execute_result"
    }
   ],
   "source": [
    "import heapq\n",
    "\n",
    "def maximum_product_of_k_numbers(arr,k):\n",
    "    if not arr:\n",
    "        return 0\n",
    "    max_heap=[-num for num in arr]\n",
    "    heapq.heapify(max_heap)\n",
    "    product=1\n",
    "    for i in range(k):\n",
    "        product*=-(heapq.heappop(max_heap))\n",
    "    return product\n",
    "    \n",
    "\n",
    "\n",
    "\n",
    "\n",
    "arr=[1, 2, 3, 4, 5]\n",
    "k=3\n",
    "maximum_product_of_k_numbers(arr,k)"
   ]
  }
 ],
 "metadata": {
  "kernelspec": {
   "display_name": "myenv",
   "language": "python",
   "name": "python3"
  },
  "language_info": {
   "codemirror_mode": {
    "name": "ipython",
    "version": 3
   },
   "file_extension": ".py",
   "mimetype": "text/x-python",
   "name": "python",
   "nbconvert_exporter": "python",
   "pygments_lexer": "ipython3",
   "version": "3.12.3"
  }
 },
 "nbformat": 4,
 "nbformat_minor": 2
}
