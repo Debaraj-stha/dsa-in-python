{
 "cells": [
  {
   "cell_type": "code",
   "execution_count": null,
   "metadata": {},
   "outputs": [
    {
     "data": {
      "text/plain": [
       "[(8, 'sentence'), (10, 'psychology')]"
      ]
     },
     "execution_count": 22,
     "metadata": {},
     "output_type": "execute_result"
    }
   ],
   "source": [
    "import heapq\n",
    "def k_longest_string(sentence,k):\n",
    "    words=sentence.split()\n",
    "    min_heap=[]\n",
    "    for word in words:\n",
    "        heapq.heappush(min_heap,(len(word),word))\n",
    "        if len(min_heap)>k:\n",
    "            heapq.heappop(min_heap)\n",
    "    return [(length,word) for length, word in min_heap]\n",
    "    \n",
    "\n",
    "sentence = \"this is a sample sentence with multiple words of varying lengths psychology\"\n",
    "k=2\n",
    "k_longest_string(sentence, k)"
   ]
  }
 ],
 "metadata": {
  "kernelspec": {
   "display_name": "myenv",
   "language": "python",
   "name": "python3"
  },
  "language_info": {
   "codemirror_mode": {
    "name": "ipython",
    "version": 3
   },
   "file_extension": ".py",
   "mimetype": "text/x-python",
   "name": "python",
   "nbconvert_exporter": "python",
   "pygments_lexer": "ipython3",
   "version": "3.12.3"
  }
 },
 "nbformat": 4,
 "nbformat_minor": 2
}
