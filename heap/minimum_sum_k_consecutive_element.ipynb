{
 "cells": [
  {
   "cell_type": "code",
   "execution_count": 108,
   "metadata": {},
   "outputs": [
    {
     "name": "stdout",
     "output_type": "stream",
     "text": [
      "10\n"
     ]
    }
   ],
   "source": [
    "import heapq\n",
    "\n",
    "def minimum_sum_k_consecutive_element(arr, k):\n",
    "    if not arr:\n",
    "        return 0\n",
    "    n = len(arr)\n",
    "    if k > n:\n",
    "        return 0 \n",
    "\n",
    "    min_heap = []\n",
    "    current_sum = sum(arr[:k])\n",
    "    heapq.heappush(min_heap, current_sum)\n",
    "\n",
    "    for start in range(k, n):\n",
    "        current_sum += arr[start] - arr[start - k]\n",
    "        heapq.heappush(min_heap, current_sum)\n",
    "    return heapq.heappop(min_heap)\n",
    "\n",
    "arr = [1, 2, 3, 4, 5, 8, 9, 10, 5, 4]\n",
    "k = 4\n",
    "minimum_sum = minimum_sum_k_consecutive_element(arr, k)\n",
    "print(minimum_sum)"
   ]
  },
  {
   "cell_type": "code",
   "execution_count": null,
   "metadata": {},
   "outputs": [],
   "source": []
  },
  {
   "cell_type": "code",
   "execution_count": null,
   "metadata": {},
   "outputs": [],
   "source": []
  },
  {
   "cell_type": "code",
   "execution_count": null,
   "metadata": {},
   "outputs": [],
   "source": []
  }
 ],
 "metadata": {
  "kernelspec": {
   "display_name": "myenv",
   "language": "python",
   "name": "python3"
  },
  "language_info": {
   "codemirror_mode": {
    "name": "ipython",
    "version": 3
   },
   "file_extension": ".py",
   "mimetype": "text/x-python",
   "name": "python",
   "nbconvert_exporter": "python",
   "pygments_lexer": "ipython3",
   "version": "3.12.3"
  }
 },
 "nbformat": 4,
 "nbformat_minor": 2
}
