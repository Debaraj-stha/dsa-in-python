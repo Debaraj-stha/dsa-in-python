{
 "cells": [
  {
   "cell_type": "code",
   "execution_count": null,
   "metadata": {},
   "outputs": [
    {
     "name": "stdout",
     "output_type": "stream",
     "text": [
      "10\n"
     ]
    }
   ],
   "source": [
    "def canAssignJobs(jobs, n, max_workload):\n",
    "    current_worker_count = 1\n",
    "    current_worker_load = 0\n",
    "\n",
    "    for job in jobs:\n",
    "        if current_worker_load + job > max_workload:\n",
    "            current_worker_count += 1\n",
    "            current_worker_load = job\n",
    "            if current_worker_count > n:  # More workers than available\n",
    "                return False\n",
    "        else:\n",
    "            current_worker_load += job\n",
    "    \n",
    "    return True\n",
    "\n",
    "def minimizeMaxWorkload(jobs, n):\n",
    "#     Lower bound: low = 8 (because no worker can handle less than the largest job).\n",
    "# Upper bound: high = 24 (because one worker could do all the work).\n",
    "    total_sum = sum(jobs) #maximum possible workload\n",
    "    max_job = max(jobs) #minimum possible for maximum workload\n",
    "    \n",
    "    # Binary search for the minimum possible \"maximum workload\"\n",
    "    left, right = max_job, total_sum\n",
    "\n",
    "    while left < right:\n",
    "        mid = (left + right) // 2\n",
    "        if canAssignJobs(jobs, n, mid):\n",
    "            right = mid  # Try for a smaller maximum workload\n",
    "        else:\n",
    "            left = mid + 1  # Increase the maximum workload\n",
    "\n",
    "    return left\n",
    "\n",
    "# Example\n",
    "jobs = [2, 3, 5, 6, 8]\n",
    "n = 3  # Number of workers\n",
    "print(minimizeMaxWorkload(jobs, n))  # Output: Minimum maximum workload for workers\n"
   ]
  }
 ],
 "metadata": {
  "kernelspec": {
   "display_name": "myenv",
   "language": "python",
   "name": "python3"
  },
  "language_info": {
   "codemirror_mode": {
    "name": "ipython",
    "version": 3
   },
   "file_extension": ".py",
   "mimetype": "text/x-python",
   "name": "python",
   "nbconvert_exporter": "python",
   "pygments_lexer": "ipython3",
   "version": "3.12.3"
  }
 },
 "nbformat": 4,
 "nbformat_minor": 2
}
