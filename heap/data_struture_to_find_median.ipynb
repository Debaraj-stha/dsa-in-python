{
 "cells": [
  {
   "cell_type": "code",
   "execution_count": 13,
   "metadata": {},
   "outputs": [
    {
     "name": "stdout",
     "output_type": "stream",
     "text": [
      "4\n"
     ]
    }
   ],
   "source": [
    "import heapq\n",
    "def find_median(arr):\n",
    "    min_heap=[]\n",
    "    max_heap=[]\n",
    "    for num in arr:\n",
    "        if not max_heap or num<=-max_heap[0]:\n",
    "            heapq.heappush(max_heap,-num)\n",
    "        else:\n",
    "            heapq.heappush(min_heap,num)\n",
    "        if len(min_heap)>len(max_heap)+1:\n",
    "            heapq.heappush(max_heap,-heapq.heappop(min_heap))\n",
    "        elif len(max_heap)>len(min_heap)+1:\n",
    "            heapq.heappush(min_heap, -heapq.heappop(max_heap))\n",
    "    if len(max_heap)==len(min_heap):\n",
    "        return (-max_heap[0]+min_heap[0])/2.0\n",
    "    elif len(max_heap)>len(min_heap):\n",
    "        return -max_heap[0]\n",
    "    else:\n",
    "        return min_heap[0]\n",
    "arr = [1, 4, 5, 2, 7]\n",
    "median=find_median(arr)\n",
    "print(median)"
   ]
  }
 ],
 "metadata": {
  "kernelspec": {
   "display_name": "myenv",
   "language": "python",
   "name": "python3"
  },
  "language_info": {
   "codemirror_mode": {
    "name": "ipython",
    "version": 3
   },
   "file_extension": ".py",
   "mimetype": "text/x-python",
   "name": "python",
   "nbconvert_exporter": "python",
   "pygments_lexer": "ipython3",
   "version": "3.12.3"
  }
 },
 "nbformat": 4,
 "nbformat_minor": 2
}
