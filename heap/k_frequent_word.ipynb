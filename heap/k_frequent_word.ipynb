{
 "cells": [
  {
   "cell_type": "code",
   "execution_count": 3,
   "metadata": {},
   "outputs": [
    {
     "data": {
      "text/plain": [
       "[(2, 'there'), (4, 'you')]"
      ]
     },
     "execution_count": 3,
     "metadata": {},
     "output_type": "execute_result"
    }
   ],
   "source": [
    "import heapq\n",
    "def k_freqent_word(words,k):\n",
    "    min_heap=[]\n",
    "    freq_map={}\n",
    "    words=words.split(\" \")\n",
    "    for word in words:\n",
    "        freq_map[word]=freq_map.get(word,0)+1\n",
    "    for word, freq in freq_map.items():\n",
    "        heapq.heappush(min_heap,(freq, word))\n",
    "        if len(min_heap)>k:\n",
    "            heapq.heappop(min_heap)\n",
    "    return min_heap\n",
    "words=\"hello world hi there what are you doing we are happy here i hope you also happy there i  you you \"\n",
    "k_freqent_word(words,2)\n",
    "    "
   ]
  }
 ],
 "metadata": {
  "kernelspec": {
   "display_name": "myenv",
   "language": "python",
   "name": "python3"
  },
  "language_info": {
   "codemirror_mode": {
    "name": "ipython",
    "version": 3
   },
   "file_extension": ".py",
   "mimetype": "text/x-python",
   "name": "python",
   "nbconvert_exporter": "python",
   "pygments_lexer": "ipython3",
   "version": "3.12.3"
  }
 },
 "nbformat": 4,
 "nbformat_minor": 2
}
