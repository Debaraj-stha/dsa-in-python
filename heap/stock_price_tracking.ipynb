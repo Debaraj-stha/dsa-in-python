{
 "cells": [
  {
   "cell_type": "code",
   "execution_count": null,
   "metadata": {},
   "outputs": [
    {
     "name": "stdout",
     "output_type": "stream",
     "text": [
      "Max Price: 200\n",
      "Min Price: 50\n",
      "Price at Timestamp 2: 150\n"
     ]
    }
   ],
   "source": [
    "import heapq\n",
    "\n",
    "class StockPriceTracker:\n",
    "    def __init__(self):\n",
    "        self.max_heap = []\n",
    "        self.min_heap = []\n",
    "        self.price_map = {}\n",
    "    \n",
    "    def update_price(self, timestamp, price):\n",
    "        \"\"\"\n",
    "        Update the stock price at a given timestamp.\n",
    "        \"\"\"\n",
    "        if timestamp in self.price_map:\n",
    "            old_price = self.price_map[timestamp]\n",
    "            self.max_heap.remove((-old_price, timestamp))\n",
    "            self.min_heap.remove((old_price, timestamp))\n",
    "            heapq.heapify(self.max_heap)\n",
    "            heapq.heapify(self.min_heap)\n",
    "        \n",
    "        self.price_map[timestamp] = price\n",
    "        \n",
    "        heapq.heappush(self.max_heap, (-price, timestamp))  \n",
    "        heapq.heappush(self.min_heap, (price, timestamp))   \n",
    "    \n",
    "    def get_max_price(self):\n",
    "        \"\"\"\n",
    "        Get the maximum stock price at any given time.\n",
    "        \"\"\"\n",
    "        return -self.max_heap[0][0]  \n",
    "    \n",
    "    def get_min_price(self):\n",
    "        \"\"\"\n",
    "        Get the minimum stock price at any given time.\n",
    "        \"\"\"\n",
    "        return self.min_heap[0][0]  \n",
    "    \n",
    "    def get_price_at_timestamp(self, timestamp):\n",
    "        \"\"\"\n",
    "        Get the stock price at a specific timestamp.\n",
    "        \"\"\"\n",
    "        return self.price_map.get(timestamp, None)\n",
    "\n",
    "tracker = StockPriceTracker()\n",
    "\n",
    "\n",
    "tracker.update_price(1, 100)  # Timestamp 1, Price 100\n",
    "tracker.update_price(2, 150)  # Timestamp 2, Price 150\n",
    "tracker.update_price(3, 50)   # Timestamp 3, Price 50\n",
    "tracker.update_price(4, 200)  # Timestamp 4, Price 200\n",
    "\n",
    "\n",
    "print(\"Max Price:\", tracker.get_max_price())  \n",
    "print(\"Min Price:\", tracker.get_min_price())  \n",
    "\n",
    "\n",
    "print(\"Price at Timestamp 2:\", tracker.get_price_at_timestamp(2))  # 150\n"
   ]
  }
 ],
 "metadata": {
  "kernelspec": {
   "display_name": "myenv",
   "language": "python",
   "name": "python3"
  },
  "language_info": {
   "codemirror_mode": {
    "name": "ipython",
    "version": 3
   },
   "file_extension": ".py",
   "mimetype": "text/x-python",
   "name": "python",
   "nbconvert_exporter": "python",
   "pygments_lexer": "ipython3",
   "version": "3.12.3"
  }
 },
 "nbformat": 4,
 "nbformat_minor": 2
}
