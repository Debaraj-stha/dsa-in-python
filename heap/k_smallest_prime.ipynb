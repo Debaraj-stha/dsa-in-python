{
 "cells": [
  {
   "cell_type": "code",
   "execution_count": 1,
   "metadata": {},
   "outputs": [
    {
     "data": {
      "text/plain": [
       "([2, 3, 5, 7, 11], [2, 3, 5, 7, 11])"
      ]
     },
     "execution_count": 1,
     "metadata": {},
     "output_type": "execute_result"
    }
   ],
   "source": [
    "import math\n",
    "import heapq\n",
    "def generate_prime(limit):\n",
    "    primes=[True] * (limit+1)\n",
    "    primes[0]=primes[1]=False\n",
    "    for i in range(2, int(math.sqrt(limit))+1):\n",
    "        if primes[i]:\n",
    "            for j in range(i*i, limit+1, i):\n",
    "                primes[j]=False\n",
    "    return [num for num, is_prime in enumerate(primes) if is_prime]\n",
    "def k_smallest_prime(k,limit):\n",
    "    primes=generate_prime(limit)\n",
    "    min_heap=primes[:k]\n",
    "    heapq.heapify(min_heap)\n",
    "    return min_heap,heapq.nsmallest(k,min_heap)\n",
    "k_smallest_prime(5, 100)"
   ]
  }
 ],
 "metadata": {
  "kernelspec": {
   "display_name": "myenv",
   "language": "python",
   "name": "python3"
  },
  "language_info": {
   "codemirror_mode": {
    "name": "ipython",
    "version": 3
   },
   "file_extension": ".py",
   "mimetype": "text/x-python",
   "name": "python",
   "nbconvert_exporter": "python",
   "pygments_lexer": "ipython3",
   "version": "3.12.3"
  }
 },
 "nbformat": 4,
 "nbformat_minor": 2
}
