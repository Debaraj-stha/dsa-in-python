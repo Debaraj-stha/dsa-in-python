{
 "cells": [
  {
   "cell_type": "code",
   "execution_count": null,
   "metadata": {},
   "outputs": [
    {
     "name": "stdout",
     "output_type": "stream",
     "text": [
      "32\n"
     ]
    }
   ],
   "source": [
    "import heapq\n",
    "\n",
    "def minCostToRemoveAll(arr):\n",
    "    max_heap = [-num for num in arr]  \n",
    "    heapq.heapify(max_heap)\n",
    "\n",
    "    total_sum = sum(arr)  \n",
    "    total_cost = 0\n",
    "\n",
    "    while max_heap:\n",
    "        largest = -heapq.heappop(max_heap)  \n",
    "        total_cost += total_sum  # The cost of removing this element is the current total sum\n",
    "        total_sum -= largest  # Reduce the sum after removing the element\n",
    "\n",
    "    return total_cost\n",
    "arr=[4,6,8]\n",
    "print(minCostToRemoveAll(arr))\n"
   ]
  }
 ],
 "metadata": {
  "kernelspec": {
   "display_name": "myenv",
   "language": "python",
   "name": "python3"
  },
  "language_info": {
   "codemirror_mode": {
    "name": "ipython",
    "version": 3
   },
   "file_extension": ".py",
   "mimetype": "text/x-python",
   "name": "python",
   "nbconvert_exporter": "python",
   "pygments_lexer": "ipython3",
   "version": "3.12.3"
  }
 },
 "nbformat": 4,
 "nbformat_minor": 2
}
