{
 "cells": [
  {
   "cell_type": "code",
   "execution_count": 17,
   "metadata": {},
   "outputs": [
    {
     "data": {
      "text/plain": [
       "23"
      ]
     },
     "execution_count": 17,
     "metadata": {},
     "output_type": "execute_result"
    }
   ],
   "source": [
    "import heapq\n",
    "def kth_smallest(arr,k):\n",
    "    max_heap=[]\n",
    "    for num in arr:\n",
    "        heapq.heappush(max_heap, -num)\n",
    "        if len(max_heap)>k:\n",
    "            heapq.heappop(max_heap)\n",
    "    return -heapq.heappop(max_heap)\n",
    "def sum_of_element_between_k1_smallest_k2_smallest(arr,k1,k2):\n",
    "    k1_smallest=kth_smallest(arr,k1)\n",
    "    k2_smallest=kth_smallest(arr,k2)\n",
    "    return sum(num for num in arr if k1_smallest<num<k2_smallest)\n",
    "    \n",
    "   \n",
    "\n",
    "\n",
    "\n",
    "k1=3\n",
    "k2=6\n",
    "arr=[1,3,12,5,15,11]\n",
    "sum_of_element_between_k1_smallest_k2_smallest(arr,k1,k2)"
   ]
  }
 ],
 "metadata": {
  "kernelspec": {
   "display_name": "myenv",
   "language": "python",
   "name": "python3"
  },
  "language_info": {
   "codemirror_mode": {
    "name": "ipython",
    "version": 3
   },
   "file_extension": ".py",
   "mimetype": "text/x-python",
   "name": "python",
   "nbconvert_exporter": "python",
   "pygments_lexer": "ipython3",
   "version": "3.12.3"
  }
 },
 "nbformat": 4,
 "nbformat_minor": 2
}
