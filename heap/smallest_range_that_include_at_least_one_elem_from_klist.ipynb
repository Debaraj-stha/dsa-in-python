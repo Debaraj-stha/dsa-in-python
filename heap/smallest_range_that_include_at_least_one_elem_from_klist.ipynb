{
 "cells": [
  {
   "cell_type": "code",
   "execution_count": null,
   "metadata": {},
   "outputs": [
    {
     "data": {
      "text/plain": [
       "(20, 24)"
      ]
     },
     "execution_count": 19,
     "metadata": {},
     "output_type": "execute_result"
    }
   ],
   "source": [
    "import heapq\n",
    "def find_smallest_range(lists):\n",
    "    min_heap=[]\n",
    "    max_value=float(\"-inf\")\n",
    "    start,end=float('-inf'),float('inf')\n",
    "    for row in range(len(lists)):\n",
    "        value = lists[row][0]\n",
    "        heapq.heappush(min_heap, (value, row, 0))  # (value, list index, index in list)\n",
    "        max_value = max(max_value, value)\n",
    "    while min_heap:\n",
    "        min_value, row,col=heapq.heappop(min_heap)\n",
    "        if max_value-min_value<end-start:\n",
    "            end,start=max_value,min_value\n",
    "        if col+1<len(lists[row]): #move to next column of same row\n",
    "            next_val=lists[row][col+1]\n",
    "            heapq.heappush(min_heap, (next_val, row, col+1))\n",
    "            max_value=max(max_value, next_val)\n",
    "        else:\n",
    "            break\n",
    "    return start,end\n",
    "    \n",
    "\n",
    "\n",
    "L1=[4,10,15,24,26]\n",
    "L2=[0,9,12,20]\n",
    "\n",
    "L3=[5,18,22,30]\n",
    "\n",
    "find_smallest_range([L1,L2,L3])\n"
   ]
  }
 ],
 "metadata": {
  "kernelspec": {
   "display_name": "myenv",
   "language": "python",
   "name": "python3"
  },
  "language_info": {
   "codemirror_mode": {
    "name": "ipython",
    "version": 3
   },
   "file_extension": ".py",
   "mimetype": "text/x-python",
   "name": "python",
   "nbconvert_exporter": "python",
   "pygments_lexer": "ipython3",
   "version": "3.12.3"
  }
 },
 "nbformat": 4,
 "nbformat_minor": 2
}
