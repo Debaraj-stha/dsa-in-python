{
 "cells": [
  {
   "cell_type": "code",
   "execution_count": 3,
   "metadata": {},
   "outputs": [
    {
     "name": "stdout",
     "output_type": "stream",
     "text": [
      "(50, 'Route B')\n"
     ]
    }
   ],
   "source": [
    "import heapq\n",
    "\n",
    "def cheapest_flight_route(routes):\n",
    "    min_heap = []\n",
    "    for route, cost in routes:\n",
    "        heapq.heappush(min_heap, (cost, route))\n",
    "    return heapq.heappop(min_heap)\n",
    "\n",
    "\n",
    "routes = [\n",
    "    (\"Route A\", 100),\n",
    "    (\"Route B\", 50),\n",
    "    (\"Route C\", 200),\n",
    "    (\"Route D\", 150)\n",
    "]\n",
    "\n",
    "cheapest_route = cheapest_flight_route(routes)\n",
    "print(cheapest_route)  \n"
   ]
  }
 ],
 "metadata": {
  "kernelspec": {
   "display_name": "myenv",
   "language": "python",
   "name": "python3"
  },
  "language_info": {
   "codemirror_mode": {
    "name": "ipython",
    "version": 3
   },
   "file_extension": ".py",
   "mimetype": "text/x-python",
   "name": "python",
   "nbconvert_exporter": "python",
   "pygments_lexer": "ipython3",
   "version": "3.12.3"
  }
 },
 "nbformat": 4,
 "nbformat_minor": 2
}
