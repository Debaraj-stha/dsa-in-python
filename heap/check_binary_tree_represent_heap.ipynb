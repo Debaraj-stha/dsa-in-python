{
 "cells": [
  {
   "cell_type": "code",
   "execution_count": 9,
   "metadata": {},
   "outputs": [
    {
     "data": {
      "text/plain": [
       "False"
      ]
     },
     "execution_count": 9,
     "metadata": {},
     "output_type": "execute_result"
    }
   ],
   "source": [
    "class Node(object):\n",
    "    def __init__(self, key=0):\n",
    "        self.key=key\n",
    "        self.left=None\n",
    "        self.right=None\n",
    "\n",
    "\n",
    "def ckeck_is_heap(root):\n",
    "    if not root:\n",
    "        return True\n",
    "\n",
    "    # Check if the current node violates the min-heap property\n",
    "    if root.left and root.key > root.left.key:\n",
    "        return False\n",
    "    if root.right and root.key > root.right.key:\n",
    "        return False\n",
    "\n",
    "    # Recursively check the left and right subtrees\n",
    "    return ckeck_is_heap(root.left) and ckeck_is_heap(root.right)\n",
    "\n",
    "\n",
    "root=Node(4)\n",
    "root.left=Node(1)\n",
    "root.right=Node(3)\n",
    "root.left.left=Node(2)\n",
    "root.left.right=Node(5)\n",
    "root.right.right=Node(9)\n",
    "root.right.left=Node(10)\n",
    "\n",
    "\n",
    "ckeck_is_heap(root)"
   ]
  }
 ],
 "metadata": {
  "kernelspec": {
   "display_name": "myenv",
   "language": "python",
   "name": "python3"
  },
  "language_info": {
   "codemirror_mode": {
    "name": "ipython",
    "version": 3
   },
   "file_extension": ".py",
   "mimetype": "text/x-python",
   "name": "python",
   "nbconvert_exporter": "python",
   "pygments_lexer": "ipython3",
   "version": "3.12.3"
  }
 },
 "nbformat": 4,
 "nbformat_minor": 2
}
