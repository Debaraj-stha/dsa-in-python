{
 "cells": [
  {
   "cell_type": "code",
   "execution_count": 10,
   "metadata": {},
   "outputs": [
    {
     "name": "stdout",
     "output_type": "stream",
     "text": [
      "1 2 3 4 5 6 7 "
     ]
    },
    {
     "data": {
      "text/plain": [
       "18"
      ]
     },
     "execution_count": 10,
     "metadata": {},
     "output_type": "execute_result"
    }
   ],
   "source": [
    "import heapq\n",
    "class Node:\n",
    "    def __init__(self,key):\n",
    "        self.key=key\n",
    "        self.left=None\n",
    "        self.right=None\n",
    "\n",
    "\n",
    "def inorder(node):\n",
    "    if not node:\n",
    "        return\n",
    "    stack=[]\n",
    "    current=node\n",
    "    inorder=[]\n",
    "    while stack or current:\n",
    "        while current:\n",
    "            stack.append(current)\n",
    "            current=current.left\n",
    "        current=stack.pop()\n",
    "        print(current.key,end=' ')\n",
    "        inorder.append(current.key)\n",
    "        current=current.right\n",
    "    return inorder\n",
    "\n",
    "\n",
    "def k_largest_sum(k,root):\n",
    "    arr=inorder(root)\n",
    "    max_heap=[]\n",
    "    n=len(arr)\n",
    "    for i in range(n):\n",
    "        heapq.heappush(max_heap,-arr[i])\n",
    "    max_sum=0\n",
    "    for i in range(k):\n",
    "        max_sum+=heapq.heappop(max_heap)\n",
    "    return -max_sum\n",
    "\n",
    "root=Node(4)\n",
    "root.left=Node(2)\n",
    "root.right=Node(6)\n",
    "root.left.left=Node(1)\n",
    "root.left.right=Node(3)\n",
    "root.right.left=Node(5)\n",
    "root.right.right=Node(7)\n",
    "\n",
    "k_largest_sum(3,root)\n"
   ]
  }
 ],
 "metadata": {
  "kernelspec": {
   "display_name": "myenv",
   "language": "python",
   "name": "python3"
  },
  "language_info": {
   "codemirror_mode": {
    "name": "ipython",
    "version": 3
   },
   "file_extension": ".py",
   "mimetype": "text/x-python",
   "name": "python",
   "nbconvert_exporter": "python",
   "pygments_lexer": "ipython3",
   "version": "3.12.3"
  }
 },
 "nbformat": 4,
 "nbformat_minor": 2
}
