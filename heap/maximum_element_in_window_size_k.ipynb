{
 "cells": [
  {
   "cell_type": "code",
   "execution_count": null,
   "metadata": {},
   "outputs": [
    {
     "name": "stdout",
     "output_type": "stream",
     "text": [
      "6\n",
      "13\n",
      "13\n",
      "13\n",
      "13\n",
      "13\n",
      "[4, 6, 6, 6, 5, 8, 10, 10, 12, 12, 12, 5]\n"
     ]
    }
   ],
   "source": [
    "import heapq\n",
    "\n",
    "def max_sliding_window_heap(arr, k):\n",
    "    if not arr or k == 0:\n",
    "        return []\n",
    "    max_heap = []  \n",
    "    result = []\n",
    "    for i in range(len(arr)):\n",
    "        heapq.heappush(max_heap, (-arr[i], i))  \n",
    "        # Remove elements that are out of the current window\n",
    "        while max_heap[0][1] <= i - k: #if index<=i-k means the value belongs to earlier window\n",
    "            print(i)\n",
    "            heapq.heappop(max_heap)\n",
    "        # Store the maximum for the valid window (only after we have at least k elements)\n",
    "        if i >= k - 1:\n",
    "            result.append(-max_heap[0][0])  # Convert back to positive\n",
    "\n",
    "    return result\n",
    "\n",
    "\n",
    "arr = [1, 3, 4,6,2,1,5,8,10,9,12,2,3,5]\n",
    "k = 3\n",
    "print(max_sliding_window_heap(arr, k)) \n"
   ]
  }
 ],
 "metadata": {
  "kernelspec": {
   "display_name": "myenv",
   "language": "python",
   "name": "python3"
  },
  "language_info": {
   "codemirror_mode": {
    "name": "ipython",
    "version": 3
   },
   "file_extension": ".py",
   "mimetype": "text/x-python",
   "name": "python",
   "nbconvert_exporter": "python",
   "pygments_lexer": "ipython3",
   "version": "3.12.3"
  }
 },
 "nbformat": 4,
 "nbformat_minor": 2
}
