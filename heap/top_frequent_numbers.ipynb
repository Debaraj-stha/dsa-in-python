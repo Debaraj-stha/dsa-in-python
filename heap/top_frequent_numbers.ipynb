{
 "cells": [
  {
   "cell_type": "code",
   "execution_count": 10,
   "metadata": {},
   "outputs": [
    {
     "data": {
      "text/plain": [
       "[2, 1]"
      ]
     },
     "execution_count": 10,
     "metadata": {},
     "output_type": "execute_result"
    }
   ],
   "source": [
    "import heapq\n",
    "def top_frequent_numbers(arr,k):\n",
    "    freq_map = {}\n",
    "    min_heap=[]\n",
    "    for num in arr:\n",
    "        freq_map[num]=freq_map.get(num,0)+1\n",
    "    for num, freq in freq_map.items():\n",
    "        heapq.heappush(min_heap, (freq, num))\n",
    "        if len(min_heap)>k:\n",
    "            heapq.heappop(min_heap)\n",
    "    return [num for _, num in min_heap]\n",
    "    \n",
    "k=2\n",
    "arr=[1,1,1,2,3,2,4]\n",
    "top_frequent_numbers(arr,k)"
   ]
  }
 ],
 "metadata": {
  "kernelspec": {
   "display_name": "myenv",
   "language": "python",
   "name": "python3"
  },
  "language_info": {
   "codemirror_mode": {
    "name": "ipython",
    "version": 3
   },
   "file_extension": ".py",
   "mimetype": "text/x-python",
   "name": "python",
   "nbconvert_exporter": "python",
   "pygments_lexer": "ipython3",
   "version": "3.12.3"
  }
 },
 "nbformat": 4,
 "nbformat_minor": 2
}
