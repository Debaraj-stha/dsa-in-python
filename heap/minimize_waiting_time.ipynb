{
 "cells": [
  {
   "cell_type": "code",
   "execution_count": null,
   "metadata": {},
   "outputs": [
    {
     "name": "stdout",
     "output_type": "stream",
     "text": [
      "68\n"
     ]
    }
   ],
   "source": [
    "def minimize_waiting_time(processes):\n",
    "    # Sort processes by execution time (Shortest Job First)\n",
    "    processes.sort(key=lambda x: x[1])\n",
    "    \n",
    "    total_waiting_time = 0\n",
    "    total_time = 0  # This will track the cumulative execution time\n",
    "\n",
    "    # Iterate through the sorted processes\n",
    "    for i, (process, execution_time) in enumerate(processes):\n",
    "        if i > 0:\n",
    "            total_waiting_time += total_time\n",
    "        total_time += execution_time\n",
    "\n",
    "    return total_waiting_time\n",
    "\n",
    "# Example processes\n",
    "processes = [\n",
    "    (\"A\", 12),\n",
    "    (\"B\", 5),\n",
    "    (\"C\", 3),\n",
    "    (\"D\", 2),\n",
    "    (\"E\", 10),\n",
    "    (\"F\", 11)\n",
    "]\n",
    "\n",
    "print(minimize_waiting_time(processes))  # Output: 68\n"
   ]
  }
 ],
 "metadata": {
  "kernelspec": {
   "display_name": "myenv",
   "language": "python",
   "name": "python3"
  },
  "language_info": {
   "codemirror_mode": {
    "name": "ipython",
    "version": 3
   },
   "file_extension": ".py",
   "mimetype": "text/x-python",
   "name": "python",
   "nbconvert_exporter": "python",
   "pygments_lexer": "ipython3",
   "version": "3.12.3"
  }
 },
 "nbformat": 4,
 "nbformat_minor": 2
}
