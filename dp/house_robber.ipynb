{
 "cells": [
  {
   "cell_type": "code",
   "execution_count": 3,
   "metadata": {},
   "outputs": [
    {
     "data": {
      "text/plain": [
       "12"
      ]
     },
     "execution_count": 3,
     "metadata": {},
     "output_type": "execute_result"
    }
   ],
   "source": [
    "def house_robber(houses):\n",
    "    n=len(houses)\n",
    "    if n==0:\n",
    "        return 0\n",
    "    if n==1:\n",
    "        return houses[0]\n",
    "    if n==2:\n",
    "        return max(houses[0], houses[1])\n",
    "    dp=[0]*(n+1)\n",
    "    dp[1]=houses[0]\n",
    "    dp[2]=max(houses[0], houses[1])\n",
    "    for i in range(2,n+1):\n",
    "        dp[i]=max(dp[i-1], dp[i-2]+houses[i-1])\n",
    "    return dp[n]\n",
    "houses=[2, 7, 9, 3, 1]\n",
    "house_robber(houses)"
   ]
  }
 ],
 "metadata": {
  "kernelspec": {
   "display_name": "myenv",
   "language": "python",
   "name": "python3"
  },
  "language_info": {
   "codemirror_mode": {
    "name": "ipython",
    "version": 3
   },
   "file_extension": ".py",
   "mimetype": "text/x-python",
   "name": "python",
   "nbconvert_exporter": "python",
   "pygments_lexer": "ipython3",
   "version": "3.12.3"
  }
 },
 "nbformat": 4,
 "nbformat_minor": 2
}
