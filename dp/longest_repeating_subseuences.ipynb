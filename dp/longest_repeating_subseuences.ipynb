{
 "cells": [
  {
   "cell_type": "code",
   "execution_count": 8,
   "metadata": {},
   "outputs": [
    {
     "name": "stdout",
     "output_type": "stream",
     "text": [
      "[[0, 0, 0, 0, 0, 0, 0, 0, 0], [0, 0, 0, 0, 0, 0, 0, 1, 1], [0, 0, 0, 0, 0, 0, 0, 0, 0], [0, 0, 0, 0, 0, 0, 0, 0, 0], [0, 0, 0, 0, 0, 0, 0, 0, 0], [0, 0, 0, 0, 0, 0, 0, 0, 0], [0, 0, 0, 0, 0, 0, 0, 0, 0], [0, 0, 0, 0, 0, 0, 0, 0, 0], [0, 0, 0, 0, 0, 0, 0, 0, 0]]\n",
      "3\n"
     ]
    }
   ],
   "source": [
    "def longestRepeatingSubsequences(x,n):\n",
    "    y=x[::-1]\n",
    "    dp=[[0 for i in range(n+1)] for j in range(n+1)]\n",
    "    for i in range(1,n+1):\n",
    "        for j in range(1,n+1):\n",
    "            if x[i-1]==y[j-1] and i!=j:\n",
    "                dp[i][j]=dp[i-1][j-1]+1\n",
    "            else:\n",
    "                dp[i][j]=max(dp[i-1][j],dp[i][j-1])\n",
    "            if i==2:\n",
    "                print(dp)\n",
    "                break\n",
    "\n",
    "    return dp[n][n]\n",
    "x=\"AABEBCDD\"\n",
    "y=\"DDCBEBAA\"\n",
    "n=len(x)\n",
    "print(longestRepeatingSubsequences(x,n))"
   ]
  },
  {
   "cell_type": "code",
   "execution_count": null,
   "metadata": {},
   "outputs": [],
   "source": [
    "x=\"AABEBCDD\"\n",
    "y=\"DDCBEBAA\"\n",
    "i=4=\"E\"\n",
    "j=1=\"D\"\n",
    "j=2=\"D\"\n",
    "j=3=\"C\"\n",
    "j=4=\"B\"\n",
    "j=5=\"E\""
   ]
  },
  {
   "cell_type": "code",
   "execution_count": null,
   "metadata": {},
   "outputs": [],
   "source": []
  }
 ],
 "metadata": {
  "kernelspec": {
   "display_name": "myenv",
   "language": "python",
   "name": "python3"
  },
  "language_info": {
   "codemirror_mode": {
    "name": "ipython",
    "version": 3
   },
   "file_extension": ".py",
   "mimetype": "text/x-python",
   "name": "python",
   "nbconvert_exporter": "python",
   "pygments_lexer": "ipython3",
   "version": "3.12.3"
  }
 },
 "nbformat": 4,
 "nbformat_minor": 2
}
