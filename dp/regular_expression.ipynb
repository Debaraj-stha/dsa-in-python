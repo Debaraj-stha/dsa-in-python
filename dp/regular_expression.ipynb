{
 "cells": [
  {
   "cell_type": "code",
   "execution_count": 1,
   "metadata": {},
   "outputs": [
    {
     "name": "stdout",
     "output_type": "stream",
     "text": [
      "False\n",
      "True\n",
      "True\n",
      "True\n",
      "False\n"
     ]
    }
   ],
   "source": [
    "class Solution:\n",
    "    def isMatch(self, s: str, p: str) -> bool:\n",
    "        # DP table where dp[i][j] means s[:i] matches p[:j]\n",
    "        dp = [[False] * (len(p) + 1) for _ in range(len(s) + 1)]\n",
    "        dp[0][0] = True  # Empty pattern matches empty string\n",
    "\n",
    "        # Initialize patterns like a*, a*b*, a*b*c* for an empty string s\n",
    "        for j in range(2, len(p) + 1):\n",
    "            if p[j - 1] == \"*\":\n",
    "                dp[0][j] = dp[0][\n",
    "                    j - 2\n",
    "                ]  # Match zero occurrence of the preceding element\n",
    "\n",
    "        # Fill the DP table\n",
    "        for i in range(1, len(s) + 1):\n",
    "            for j in range(1, len(p) + 1):\n",
    "                if p[j - 1] == \"*\":\n",
    "                    # '*' can either match zero or more of the preceding element\n",
    "                    # Case 1: Match zero occurrences of the element before '*'\n",
    "                    dp[i][j] = dp[i][j - 2] or (\n",
    "                        dp[i - 1][j] and (s[i - 1] == p[j - 2] or p[j - 2] == \".\")\n",
    "                    )\n",
    "                else:\n",
    "                    # For non '*' cases, we check for direct match or '.' match\n",
    "                    dp[i][j] = dp[i - 1][j - 1] and (\n",
    "                        s[i - 1] == p[j - 1] or p[j - 1] == \".\"\n",
    "                    )\n",
    "\n",
    "        # The answer is in dp[len(s)][len(p)]\n",
    "       \n",
    "        return dp[len(s)][len(p)]\n",
    "\n",
    "\n",
    "# Test the solution\n",
    "solution = Solution()\n",
    "print(solution.isMatch(\"aa\", \"a\"))  # Output: false\n",
    "print(solution.isMatch(\"aa\", \"a*\"))  # Output: true\n",
    "print(solution.isMatch(\"ab\", \".*\"))  # Output: true\n",
    "print(solution.isMatch(\"aab\", \"c*a*b\"))  # Output: true\n",
    "print(solution.isMatch(\"mississippi\", \"mis*is*p*\"))  # Output: false\n"
   ]
  },
  {
   "cell_type": "code",
   "execution_count": 8,
   "metadata": {},
   "outputs": [
    {
     "name": "stdout",
     "output_type": "stream",
     "text": [
      "False\n",
      "True\n",
      "True\n",
      "True\n",
      "False\n"
     ]
    }
   ],
   "source": [
    "def is_match(s, p):\n",
    "    dp=[[False]*(len(p)+1) for _ in range(len(s)+1)]\n",
    "    dp[0][0]=True\n",
    "    for i in range(2,len(p)+1):\n",
    "        if p[i-1]==\"*\":\n",
    "            dp[0][i]=dp[0][i-2]\n",
    "    for i in range(1,len(s)+1):\n",
    "        for j in range(1,len(p)+1):\n",
    "            if p[j-1]==\"*\":\n",
    "                dp[i][j]=dp[i][j-2] or (dp[i-1][j] and (s[i-1]==p[j-2] or p[j-2]==\".\"))\n",
    "            else:\n",
    "                dp[i][j]=dp[i-1][j-1] and (s[i-1]==p[j-1] or p[i-1]==\".\")\n",
    "    return dp[len(s)][len(p)]\n",
    "\n",
    "print(is_match(\"aa\", \"a\"))  # Output: false\n",
    "print(is_match(\"aa\", \"a*\"))  # Output: true\n",
    "print(is_match(\"ab\", \".*\"))  # Output: true\n",
    "print(is_match(\"aab\", \"c*a*b\"))  # Output: true\n",
    "print(is_match(\"mississippi\", \"mis*is*p*\"))  # Ou\n",
    "    "
   ]
  }
 ],
 "metadata": {
  "kernelspec": {
   "display_name": "env",
   "language": "python",
   "name": "python3"
  },
  "language_info": {
   "codemirror_mode": {
    "name": "ipython",
    "version": 3
   },
   "file_extension": ".py",
   "mimetype": "text/x-python",
   "name": "python",
   "nbconvert_exporter": "python",
   "pygments_lexer": "ipython3",
   "version": "3.12.3"
  }
 },
 "nbformat": 4,
 "nbformat_minor": 2
}
