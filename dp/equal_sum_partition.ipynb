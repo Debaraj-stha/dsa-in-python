{
 "cells": [
  {
   "cell_type": "code",
   "execution_count": 3,
   "metadata": {},
   "outputs": [
    {
     "data": {
      "text/plain": [
       "[1, 5, 11]"
      ]
     },
     "execution_count": 3,
     "metadata": {},
     "output_type": "execute_result"
    }
   ],
   "source": [
    "def subset_sum(arr,n,target):\n",
    "    dp=[[False]*(target+1) for _ in range(n+1)]\n",
    "    for i in range(n+1):\n",
    "        dp[i][0]=True\n",
    "    for i in range(1,n+1):\n",
    "        for j in range(1,target+1):\n",
    "            if arr[i-1]<=j:\n",
    "                dp[i][j]=dp[i-1][j-arr[i-1]] or dp[i-1][j]\n",
    "            else:\n",
    "                dp[i][j]=dp[i-1][j]\n",
    "    return dp\n",
    "def equal_sum_partition(arr):\n",
    "    total=sum(arr)\n",
    "    if total%2!=0:\n",
    "        return False\n",
    "    target=total//2\n",
    "    n=len(arr)\n",
    "    dp= subset_sum(arr,n,target)\n",
    "    return dp[n][target],dp,target\n",
    "\n",
    "def get_partition_element(arr):\n",
    "    is_valid,dp,target=equal_sum_partition(arr)\n",
    "\n",
    "    if not is_valid:\n",
    "        return is_valid,[]\n",
    "    n=len(arr)\n",
    "    current_subset=[]\n",
    "    i,j=n,target\n",
    "    while i>0 and j>0:\n",
    "        if dp[i-1][j]: \n",
    "            i-=1\n",
    "        else:  \n",
    "            current_subset.append(arr[i-1])\n",
    "            j-=arr[i-1]\n",
    "            i-=1 \n",
    "    return current_subset[::-1] \n",
    "\n",
    "\n",
    "arr=[1,5,11,10,4,3]\n",
    "get_partition_element(arr)\n",
    "\n",
    "\n"
   ]
  },
  {
   "cell_type": "code",
   "execution_count": 5,
   "metadata": {},
   "outputs": [
    {
     "name": "stdout",
     "output_type": "stream",
     "text": [
      "[[11, 5, 1], [3, 4, 10]]\n"
     ]
    }
   ],
   "source": [
    "def subset_sum_to_target(arr,target):\n",
    "    n=len(arr)\n",
    "    dp=[[False]*(target+1) for _ in range(n+1)]\n",
    "    for i in range(n+1):\n",
    "        dp[i][0]=True\n",
    "    for i in range(1,n+1):\n",
    "        for j in range(1,target+1):\n",
    "            if arr[i-1]<=j:\n",
    "                dp[i][j]=dp[i-1][j-arr[i-1]] or dp[i-1][j]\n",
    "            else:\n",
    "                dp[i][j]=dp[i-1][j]\n",
    "    return dp\n",
    "\n",
    "def backtrack(i,j,current,dp,res):\n",
    "    if j==0:\n",
    "        res.append(current[:])\n",
    "        return\n",
    "    if i==0:\n",
    "        return\n",
    "    if dp[i-1][j]:\n",
    "        backtrack(i-1,j,current,dp,res)\n",
    "    if j>=arr[i-1] and dp[i-1][j-arr[i-1]]:\n",
    "        current.append(arr[i-1])\n",
    "        backtrack(i-1,j-arr[i-1],current,dp,res)\n",
    "        current.pop()\n",
    "def partition_arr(arr):\n",
    "    total=sum(arr)\n",
    "    if total%2!=0:\n",
    "        return []\n",
    "    target=total//2\n",
    "    dp=subset_sum_to_target(arr,target)\n",
    "    res=[]\n",
    "    if dp[len(arr)][target]:\n",
    "        backtrack(len(arr),target,[],dp,res)\n",
    "        return res\n",
    "        \n",
    "    else:\n",
    "        print(\"no\")\n",
    "\n",
    "\n",
    "arr=[1,5,11,10,4,3]\n",
    "print(partition_arr(arr))"
   ]
  }
 ],
 "metadata": {
  "kernelspec": {
   "display_name": "myenv",
   "language": "python",
   "name": "python3"
  },
  "language_info": {
   "codemirror_mode": {
    "name": "ipython",
    "version": 3
   },
   "file_extension": ".py",
   "mimetype": "text/x-python",
   "name": "python",
   "nbconvert_exporter": "python",
   "pygments_lexer": "ipython3",
   "version": "3.12.3"
  }
 },
 "nbformat": 4,
 "nbformat_minor": 2
}
