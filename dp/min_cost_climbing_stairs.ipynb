{
 "cells": [
  {
   "cell_type": "code",
   "execution_count": null,
   "metadata": {},
   "outputs": [
    {
     "data": {
      "text/plain": [
       "36"
      ]
     },
     "execution_count": 3,
     "metadata": {},
     "output_type": "execute_result"
    }
   ],
   "source": [
    "def min_cost_climbing_stairs(cost):\n",
    "    n=len(cost)\n",
    "    dp=[0]*(n+1) #no cost at start and to be at fisrt step before start\n",
    "    for i in range(2,n+1):\n",
    "        dp[i]=min(dp[i-1]+cost[i-1],dp[i-2]+cost[i-2])\n",
    "    return dp[n]\n",
    "cost = [10, 15, 20,10,11,17]\n",
    "min_cost_climbing_stairs(cost)\n"
   ]
  }
 ],
 "metadata": {
  "kernelspec": {
   "display_name": "myenv",
   "language": "python",
   "name": "python3"
  },
  "language_info": {
   "codemirror_mode": {
    "name": "ipython",
    "version": 3
   },
   "file_extension": ".py",
   "mimetype": "text/x-python",
   "name": "python",
   "nbconvert_exporter": "python",
   "pygments_lexer": "ipython3",
   "version": "3.12.3"
  }
 },
 "nbformat": 4,
 "nbformat_minor": 2
}
