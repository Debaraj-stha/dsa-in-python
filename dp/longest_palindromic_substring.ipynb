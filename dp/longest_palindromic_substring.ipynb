{
 "cells": [
  {
   "cell_type": "code",
   "execution_count": null,
   "metadata": {},
   "outputs": [
    {
     "data": {
      "text/plain": [
       "'ll'"
      ]
     },
     "execution_count": 18,
     "metadata": {},
     "output_type": "execute_result"
    }
   ],
   "source": [
    "def longest_palindromic_substring(s):\n",
    "    n=len(s)\n",
    "    start,end=0,0\n",
    "    is_palindrom=[[False]*n  for _ in range(n)]\n",
    "    #all substring of length 1 is always palindrome\n",
    "    for i in range(n):\n",
    "        is_palindrom[i][i]=True\n",
    "    #check for substring of length 2 where two characters are same  e.g. \"aa\" or \"bb\"\n",
    "    for i in range(n-2):\n",
    "        if s[i]==s[i+1]:\n",
    "            is_palindrom[i][i+1]=True\n",
    "            start,end=i,i+1 #update start and end indices\n",
    "    #check for substring of length 3 or more where three characters are same  e.g. \"aba\" or \"bab\"\n",
    "    for length in range(3,n+1):\n",
    "        for i in range(n-length+1):\n",
    "            j=i+length-1\n",
    "            if s[i]==s[j] and is_palindrom[i+1][j-1]:\n",
    "                is_palindrom[i][j]=True\n",
    "                start,end=i,j #update start and end indices\n",
    "    return s[start:end+1]\n",
    "\n",
    "    \n",
    "s=\"hello\"\n",
    "longest_palindromic_substring(s)"
   ]
  }
 ],
 "metadata": {
  "kernelspec": {
   "display_name": "myenv",
   "language": "python",
   "name": "python3"
  },
  "language_info": {
   "codemirror_mode": {
    "name": "ipython",
    "version": 3
   },
   "file_extension": ".py",
   "mimetype": "text/x-python",
   "name": "python",
   "nbconvert_exporter": "python",
   "pygments_lexer": "ipython3",
   "version": "3.12.3"
  }
 },
 "nbformat": 4,
 "nbformat_minor": 2
}
