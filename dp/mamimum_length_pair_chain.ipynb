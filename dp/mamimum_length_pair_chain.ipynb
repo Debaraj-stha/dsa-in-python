{
 "cells": [
  {
   "cell_type": "code",
   "execution_count": 15,
   "metadata": {},
   "outputs": [
    {
     "data": {
      "text/plain": [
       "2"
      ]
     },
     "execution_count": 15,
     "metadata": {},
     "output_type": "execute_result"
    }
   ],
   "source": [
    "def maximum_length_pair_chain(pairs):\n",
    "    # condition for chain (a,b) and (b,c), it should hold b < c\n",
    "    n = len(pairs)\n",
    "    dp = [1] * n  # Initialize DP array, where dp[i] represents the length of the chain ending at pairs[i]\n",
    "    \n",
    "    for i in range(1, n):\n",
    "        for j in range(i):\n",
    "            if pairs[i][0] > pairs[j][1]:  # If the first element of pairs[i] is greater than the second element of pairs[j], the chain is valid\n",
    "                dp[i] = max(dp[i], dp[j] + 1)  # Update the chain length at dp[i]\n",
    "    \n",
    "    return max(dp)  # Return the longest chain length\n",
    "\n",
    "\n",
    "pairs = [(1, 2), (2, 3), (3, 4), (1, 3)] #(a,b)\n",
    "maximum_length_pair_chain(pairs)"
   ]
  }
 ],
 "metadata": {
  "kernelspec": {
   "display_name": "myenv",
   "language": "python",
   "name": "python3"
  },
  "language_info": {
   "codemirror_mode": {
    "name": "ipython",
    "version": 3
   },
   "file_extension": ".py",
   "mimetype": "text/x-python",
   "name": "python",
   "nbconvert_exporter": "python",
   "pygments_lexer": "ipython3",
   "version": "3.12.3"
  }
 },
 "nbformat": 4,
 "nbformat_minor": 2
}
