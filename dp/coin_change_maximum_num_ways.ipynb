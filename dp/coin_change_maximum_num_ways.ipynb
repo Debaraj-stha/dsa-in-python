{
 "cells": [
  {
   "cell_type": "code",
   "execution_count": null,
   "metadata": {},
   "outputs": [
    {
     "name": "stdout",
     "output_type": "stream",
     "text": [
      "5\n"
     ]
    }
   ],
   "source": [
    "def maximum_no_ways(coin, target):\n",
    "    dp = [[0] * (target + 1) for _ in range(len(coin) + 1)]\n",
    "    \n",
    "    # There is one way to make sum 0: by choosing no coins\n",
    "    for i in range(len(coin) + 1):\n",
    "        dp[i][0] = 1\n",
    "            \n",
    "    for i in range(1, len(coin) + 1):\n",
    "        for j in range(1, target + 1):\n",
    "            if coin[i - 1] <= j:\n",
    "                dp[i][j] = dp[i - 1][j] + dp[i][j - coin[i - 1]]\n",
    "            else:\n",
    "                dp[i][j] = dp[i - 1][j]\n",
    "    \n",
    "    return dp[len(coin)][target]\n",
    "\n",
    "coin = [1, 2, 3]\n",
    "target = 5\n",
    "print(maximum_no_ways(coin, target))  # Output: 5\n"
   ]
  }
 ],
 "metadata": {
  "kernelspec": {
   "display_name": "myenv",
   "language": "python",
   "name": "python3"
  },
  "language_info": {
   "codemirror_mode": {
    "name": "ipython",
    "version": 3
   },
   "file_extension": ".py",
   "mimetype": "text/x-python",
   "name": "python",
   "nbconvert_exporter": "python",
   "pygments_lexer": "ipython3",
   "version": "3.12.3"
  }
 },
 "nbformat": 4,
 "nbformat_minor": 2
}
