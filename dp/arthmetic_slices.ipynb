{
 "cells": [
  {
   "cell_type": "code",
   "execution_count": 51,
   "metadata": {},
   "outputs": [
    {
     "name": "stdout",
     "output_type": "stream",
     "text": [
      "6\n"
     ]
    }
   ],
   "source": [
    "def arithmetic_slice(arr):\n",
    "    n = len(arr)\n",
    "    dp = [0] * n  # Initialize dp array (dp[i] stores the number of arithmetic slices ending at i)\n",
    "    for i in range(2, n):\n",
    "        if arr[i] - arr[i-1] == arr[i-1] - arr[i-2]:\n",
    "            dp[i] = dp[i-1] + 1  # Increment the count of slices ending at i\n",
    "    \n",
    "    # The total number of arithmetic slices is the sum of values in dp\n",
    "    return sum(dp)\n",
    "\n",
    "\n",
    "arr = [1, 3, 5, 7, 9]\n",
    "print(arithmetic_slice(arr))\n"
   ]
  }
 ],
 "metadata": {
  "kernelspec": {
   "display_name": "myenv",
   "language": "python",
   "name": "python3"
  },
  "language_info": {
   "codemirror_mode": {
    "name": "ipython",
    "version": 3
   },
   "file_extension": ".py",
   "mimetype": "text/x-python",
   "name": "python",
   "nbconvert_exporter": "python",
   "pygments_lexer": "ipython3",
   "version": "3.12.3"
  }
 },
 "nbformat": 4,
 "nbformat_minor": 2
}
