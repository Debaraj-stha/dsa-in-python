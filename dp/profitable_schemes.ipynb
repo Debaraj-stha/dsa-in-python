{
 "cells": [
  {
   "cell_type": "code",
   "execution_count": 8,
   "metadata": {},
   "outputs": [
    {
     "name": "stdout",
     "output_type": "stream",
     "text": [
      "0\n"
     ]
    }
   ],
   "source": [
    "MOD = 10**9 + 7\n",
    "\n",
    "def profitableSchemes(n, minProfit, group, profit):\n",
    "    # DP table: dp[i][j] means the number of ways to use 'i' people and achieve a profit of 'j'.\n",
    "    dp = [[0] * (minProfit + 1) for _ in range(n + 1)]\n",
    "    dp[0][0] = 1  # Base case: 1 way to do nothing\n",
    "\n",
    "    for g, p in zip(group, profit):\n",
    "        # Traverse backwards to avoid using the same crime multiple times in one iteration\n",
    "        for i in range(n, g - 1, -1):\n",
    "            for j in range(minProfit, -1, -1):\n",
    "                # If we don't include this crime, the count remains dp[i][j]\n",
    "\n",
    "                # If we include this crime:\n",
    "                new_profit = min(j + p, minProfit)\n",
    "                dp[i][new_profit] = (dp[i][new_profit] + dp[i - g][j]) % MOD\n",
    "\n",
    "    # The answer is the number of ways to achieve a profit of at least minProfit\n",
    "    # using at most n people. This is the sum of dp[n][j] for j from minProfit to minProfit.\n",
    "    return dp[n][minProfit]\n",
    "\n",
    "# Example usage:\n",
    "n = 5\n",
    "minProfit = 3\n",
    "group = [2, 2]\n",
    "profit = [2, 3]\n",
    "print(profitableSchemes(n, minProfit, group, profit))"
   ]
  }
 ],
 "metadata": {
  "kernelspec": {
   "display_name": "myenv",
   "language": "python",
   "name": "python3"
  },
  "language_info": {
   "codemirror_mode": {
    "name": "ipython",
    "version": 3
   },
   "file_extension": ".py",
   "mimetype": "text/x-python",
   "name": "python",
   "nbconvert_exporter": "python",
   "pygments_lexer": "ipython3",
   "version": "3.12.3"
  }
 },
 "nbformat": 4,
 "nbformat_minor": 2
}
