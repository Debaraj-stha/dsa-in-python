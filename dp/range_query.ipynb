{
 "cells": [
  {
   "cell_type": "code",
   "execution_count": null,
   "metadata": {},
   "outputs": [
    {
     "name": "stdout",
     "output_type": "stream",
     "text": [
      "[8, 25, 16]\n"
     ]
    }
   ],
   "source": [
    "def range_sum_query(arr,query):\n",
    "    n=len(arr)\n",
    "    dp=[0]*n\n",
    "    dp[0]=arr[0]\n",
    "    for i in range(1,n):\n",
    "        dp[i]=dp[i-1]+arr[i]\n",
    "    result=[]\n",
    "    for l,r in query:\n",
    "        if l==0:\n",
    "            result.append(dp[r])\n",
    "            continue\n",
    "        result.append(dp[r]-dp[l-1])\n",
    "    return result\n",
    "arr=[1,3,5,7,9]\n",
    "query=[(1,2),(0,4),(3,4)]\n",
    "print(range_sum_query(arr, query))\n"
   ]
  }
 ],
 "metadata": {
  "kernelspec": {
   "display_name": "myenv",
   "language": "python",
   "name": "python3"
  },
  "language_info": {
   "codemirror_mode": {
    "name": "ipython",
    "version": 3
   },
   "file_extension": ".py",
   "mimetype": "text/x-python",
   "name": "python",
   "nbconvert_exporter": "python",
   "pygments_lexer": "ipython3",
   "version": "3.12.3"
  }
 },
 "nbformat": 4,
 "nbformat_minor": 2
}
