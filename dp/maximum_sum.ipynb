{
 "cells": [
  {
   "cell_type": "code",
   "execution_count": 20,
   "metadata": {},
   "outputs": [
    {
     "data": {
      "text/plain": [
       "(16, [0, 2, 6, 11, 6, 9, 16, 14])"
      ]
     },
     "execution_count": 20,
     "metadata": {},
     "output_type": "execute_result"
    }
   ],
   "source": [
    "def maximum_sum(arr):\n",
    "    n=len(arr)\n",
    "    dp=[0]*(n+1)\n",
    "    for i in range(1,n+1):\n",
    "        dp[i]=max(dp[i-1]+arr[i-1],arr[i-1])\n",
    "        \n",
    "    return  max(dp),dp\n",
    "arr=[2,4,5,-5,3,7,-2]\n",
    "maximum_sum(arr)"
   ]
  },
  {
   "cell_type": "code",
   "execution_count": 21,
   "metadata": {},
   "outputs": [
    {
     "data": {
      "text/plain": [
       "16"
      ]
     },
     "execution_count": 21,
     "metadata": {},
     "output_type": "execute_result"
    }
   ],
   "source": [
    "def max_sum(arr):\n",
    "    current_sum=float(\"-inf\")\n",
    "    max_sum=float(\"-inf\")\n",
    "    for i in arr:\n",
    "        current_sum=max(i,current_sum+i)\n",
    "        max_sum=max(max_sum,current_sum)\n",
    "    return max_sum\n",
    "arr=[2,4,5,-5,3,7,-2]\n",
    "max_sum(arr)"
   ]
  }
 ],
 "metadata": {
  "kernelspec": {
   "display_name": "myenv",
   "language": "python",
   "name": "python3"
  },
  "language_info": {
   "codemirror_mode": {
    "name": "ipython",
    "version": 3
   },
   "file_extension": ".py",
   "mimetype": "text/x-python",
   "name": "python",
   "nbconvert_exporter": "python",
   "pygments_lexer": "ipython3",
   "version": "3.12.3"
  }
 },
 "nbformat": 4,
 "nbformat_minor": 2
}
