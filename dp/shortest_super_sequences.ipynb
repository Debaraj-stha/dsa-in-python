{
 "cells": [
  {
   "cell_type": "code",
   "execution_count": 2,
   "metadata": {},
   "outputs": [
    {
     "data": {
      "text/plain": [
       "9"
      ]
     },
     "execution_count": 2,
     "metadata": {},
     "output_type": "execute_result"
    }
   ],
   "source": [
    "def lcs(x,y,n,m):\n",
    "    if n==0 or m==0:\n",
    "        return 0\n",
    "\n",
    "    if x[n-1]==y[m-1]:\n",
    "        return 1 + lcs(x,y,n-1,m-1)\n",
    "    else:\n",
    "        return max(lcs(x,y,n-1,m), lcs(x,y,n,m-1))\n",
    "def shortestSuperSequenceRecursive(x,y,n,m):\n",
    "    return (m+n)-lcs(x,y,n,m)\n",
    "x=\"aggtab\"\n",
    "y=\"gxtxayb\"\n",
    "n=len(x)\n",
    "m=len(y)\n",
    "shortestSuperSequenceRecursive(x,y,n,m)"
   ]
  },
  {
   "cell_type": "code",
   "execution_count": 4,
   "metadata": {},
   "outputs": [
    {
     "data": {
      "text/plain": [
       "8"
      ]
     },
     "execution_count": 4,
     "metadata": {},
     "output_type": "execute_result"
    }
   ],
   "source": [
    "def lcsDP(x,y,n,m):\n",
    "    dp=[[0]*(m+1) for _ in range(n+1)]\n",
    "    for i in range(1,n+1):\n",
    "        for j in range(1,m+1):\n",
    "            if x[i-1]==y[j-1]:\n",
    "                dp[i][j]=1+dp[i-1][j-1]\n",
    "            else:\n",
    "                dp[i][j]=max(dp[i-1][j],dp[i][j-1])\n",
    "    return dp[n][m]\n",
    "def shortestSuperSequenceDP(x,y,n,m):\n",
    "    return (m+n)-lcsDP(x,y,n,m)\n",
    "x=\"abdgh\"\n",
    "y=\"abedfhr\"\n",
    "n=len(x)\n",
    "m=len(y)\n",
    "shortestSuperSequenceDP(x,y,n,m)"
   ]
  },
  {
   "cell_type": "code",
   "execution_count": 6,
   "metadata": {},
   "outputs": [
    {
     "data": {
      "text/plain": [
       "8"
      ]
     },
     "execution_count": 6,
     "metadata": {},
     "output_type": "execute_result"
    }
   ],
   "source": [
    "def lcsMemoization(x,y,n,m):\n",
    "    if n==0 or m==0:\n",
    "        return 0\n",
    "    if dp[n][m]!=-1:\n",
    "        return dp[n][m]\n",
    "    if x[n-1]==y[m-1]:\n",
    "        dp[n][m]=1+lcsMemoization(x,y,n-1,m-1)\n",
    "    else:\n",
    "        dp[n][m]=max(lcsMemoization(x,y,n-1,m),lcsMemoization(x,y,n,m-1))\n",
    "    return dp[n][m]\n",
    "def shortestSuperSequenceMemoization(x,y,n,m):\n",
    "    return (m+n)-lcsMemoization(x,y,n,m)\n",
    "x=\"abdgh\"\n",
    "y=\"abedfhr\"\n",
    "n=len(x)\n",
    "m=len(y)\n",
    "dp=[[-1]*(m+1) for _ in range(n+1)]\n",
    "shortestSuperSequenceMemoization(x,y,n,m)"
   ]
  }
 ],
 "metadata": {
  "kernelspec": {
   "display_name": "myenv",
   "language": "python",
   "name": "python3"
  },
  "language_info": {
   "codemirror_mode": {
    "name": "ipython",
    "version": 3
   },
   "file_extension": ".py",
   "mimetype": "text/x-python",
   "name": "python",
   "nbconvert_exporter": "python",
   "pygments_lexer": "ipython3",
   "version": "3.12.3"
  }
 },
 "nbformat": 4,
 "nbformat_minor": 2
}
