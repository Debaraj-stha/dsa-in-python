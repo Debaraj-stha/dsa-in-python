{
 "cells": [
  {
   "cell_type": "code",
   "execution_count": null,
   "metadata": {},
   "outputs": [
    {
     "name": "stdout",
     "output_type": "stream",
     "text": [
      "True\n"
     ]
    }
   ],
   "source": [
    "def inter_leaving_string(s1, s2, s3):\n",
    "    n1, n2, n3 = len(s1), len(s2), len(s3)\n",
    "    if n1 + n2 != n3:  # If lengths don't match, s3 can't be an interleaving\n",
    "        return False\n",
    "    dp = [[False] * (n2 + 1) for _ in range(n1 + 1)]\n",
    "    dp[0][0] = True  # Base case: empty strings interleave to form an empty string\n",
    "    #fill first column\n",
    "    for i in range(1,n1+1):\n",
    "        #This represents interleaving when only s1 contributes to forming s3.\n",
    "        if s1[i-1]==s3[i-1]:\n",
    "            dp[i][0]=True\n",
    "    #FILL first row\n",
    "    for j in range(1,n2+1):\n",
    "        #This represents interleaving when only s2 contributes to forming s3.\n",
    "        if s2[j-1]==s3[j-1]:\n",
    "            dp[0][j]=True\n",
    "    #fill rest of dp\n",
    "    for i in range(n1 + 1):  # Iterate over all characters of s1 (including empty prefix)\n",
    "        for j in range(n2 + 1):  # Iterate over all characters of s2 (including empty prefix)\n",
    "            # Check if we can take the current character from s1\n",
    "            if i > 0 and s1[i - 1] == s3[i + j - 1]:  \n",
    "                # If the current character of s1 matches the corresponding character in s3,\n",
    "                # we check if the previous state (without this character from s1) was valid.\n",
    "                # If dp[i-1][j] was True, it means s3[0 : i+j-1] was formed by interleaving s1[0 : i-1] and s2[0 : j].\n",
    "                # So, we inherit that True value to dp[i][j].\n",
    "                dp[i][j] = dp[i][j] or dp[i - 1][j]\n",
    "            # Check if we can take the current character from s2\n",
    "            if j > 0 and s2[j - 1] == s3[i + j - 1]:  \n",
    "                # If the current character of s2 matches the corresponding character in s3,\n",
    "                # we check if the previous state (without this character from s2) was valid.\n",
    "                # If dp[i][j-1] was True, it means s3[0 : i+j-1] was formed by interleaving s1[0 : i] and s2[0 : j-1].\n",
    "                # So, we inherit that True value to dp[i][j].\n",
    "                dp[i][j] = dp[i][j] or dp[i][j - 1]\n",
    "\n",
    "    \n",
    "\n",
    "    return dp[n1][n2]\n",
    "\n",
    "\n",
    "s1 = \"abc\"\n",
    "s2 = \"def\"\n",
    "s3 = \"adbcef\"\n",
    "print(inter_leaving_string(s1, s2, s3))  # Output: True\n"
   ]
  }
 ],
 "metadata": {
  "kernelspec": {
   "display_name": "myenv",
   "language": "python",
   "name": "python3"
  },
  "language_info": {
   "codemirror_mode": {
    "name": "ipython",
    "version": 3
   },
   "file_extension": ".py",
   "mimetype": "text/x-python",
   "name": "python",
   "nbconvert_exporter": "python",
   "pygments_lexer": "ipython3",
   "version": "3.12.3"
  }
 },
 "nbformat": 4,
 "nbformat_minor": 2
}
