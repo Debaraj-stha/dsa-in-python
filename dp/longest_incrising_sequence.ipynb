{
 "cells": [
  {
   "cell_type": "code",
   "execution_count": 3,
   "metadata": {},
   "outputs": [
    {
     "name": "stdout",
     "output_type": "stream",
     "text": [
      "(4, [1, 1, 1, 2, 2, 3, 4, 4])\n"
     ]
    }
   ],
   "source": [
    "def longest_incresing_sequence(nums):\n",
    "    dp=[1] * len(nums)\n",
    "    for i in range(len(nums)):\n",
    "        for j in range(i):\n",
    "            if nums[i]>nums[j]:\n",
    "                \n",
    "                dp[i]=max(dp[i],dp[j]+1)\n",
    "    return max(dp),dp\n",
    "\n",
    "\n",
    "nums=[10, 9, 2, 5, 3, 7, 101, 18]\n",
    "print(longest_incresing_sequence(nums))  # Output: 4\n",
    "    \n"
   ]
  },
  {
   "cell_type": "code",
   "execution_count": 12,
   "metadata": {},
   "outputs": [
    {
     "name": "stdout",
     "output_type": "stream",
     "text": [
      "i= 0\n",
      "j= 0\n",
      "i= 1\n"
     ]
    }
   ],
   "source": [
    "for i in range(0,2):\n",
    "    for j in range(i):\n",
    "        print(\"j=\",j)\n",
    "    print(\"i=\",i)"
   ]
  }
 ],
 "metadata": {
  "kernelspec": {
   "display_name": "env",
   "language": "python",
   "name": "python3"
  },
  "language_info": {
   "codemirror_mode": {
    "name": "ipython",
    "version": 3
   },
   "file_extension": ".py",
   "mimetype": "text/x-python",
   "name": "python",
   "nbconvert_exporter": "python",
   "pygments_lexer": "ipython3",
   "version": "3.12.3"
  }
 },
 "nbformat": 4,
 "nbformat_minor": 2
}
