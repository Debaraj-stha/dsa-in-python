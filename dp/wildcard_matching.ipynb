{
 "cells": [
  {
   "cell_type": "code",
   "execution_count": 1,
   "metadata": {},
   "outputs": [
    {
     "data": {
      "text/plain": [
       "True"
      ]
     },
     "execution_count": 1,
     "metadata": {},
     "output_type": "execute_result"
    }
   ],
   "source": [
    "def wildcard_matching(s,p):\n",
    "    n=len(s)\n",
    "    m=len(p)\n",
    "    dp=[[False]*(m+1) for _ in range(n+1)]\n",
    "    dp[0][0]=True\n",
    "    for i in range(2,m+1):\n",
    "        if p[i-1]=='*':\n",
    "            dp[0][i]=dp[0][i-2]\n",
    "\n",
    "    for i in range(1,n+1):\n",
    "        for j in range(1,m+1):\n",
    "            if p[j-1]==\".\" or s[i-1]==p[j-1]:\n",
    "                dp[i][j]=dp[i-1][j-1]\n",
    "            elif p[j-1]==\"*\":\n",
    "                dp[i][j]=dp[i][j-2] or (dp[i-1][j] and (s[i-1]==p[j-2] or p[j-2]==\".\"))\n",
    "    return dp[n][m]\n",
    "wildcard_matching(\"aa\",\"a*\")"
   ]
  }
 ],
 "metadata": {
  "kernelspec": {
   "display_name": "myenv",
   "language": "python",
   "name": "python3"
  },
  "language_info": {
   "codemirror_mode": {
    "name": "ipython",
    "version": 3
   },
   "file_extension": ".py",
   "mimetype": "text/x-python",
   "name": "python",
   "nbconvert_exporter": "python",
   "pygments_lexer": "ipython3",
   "version": "3.12.3"
  }
 },
 "nbformat": 4,
 "nbformat_minor": 2
}
