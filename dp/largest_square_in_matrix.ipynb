{
 "cells": [
  {
   "cell_type": "code",
   "execution_count": null,
   "metadata": {},
   "outputs": [
    {
     "name": "stdout",
     "output_type": "stream",
     "text": [
      "4\n"
     ]
    }
   ],
   "source": [
    "def largest_square_in_matrix(matrix):\n",
    "    rows = len(matrix)\n",
    "    cols = len(matrix[0])  \n",
    "    dp = [[0] * cols for _ in range(rows)]\n",
    "    max_size = 0\n",
    "\n",
    "    for i in range(rows):\n",
    "        for j in range(cols):\n",
    "            # If the current cell contains a 1 (part of a potential square)\n",
    "            if matrix[i][j] == 1:\n",
    "                # If we're in the first row or first column, the largest square here can only be 1x1\n",
    "                if i == 0 or j == 0:\n",
    "                    dp[i][j] = 1\n",
    "                else:\n",
    "                    # Otherwise, calculate the size of the square based on the minimum square size\n",
    "                    # from the top, left, and top-left diagonal cells plus 1\n",
    "                    dp[i][j] = min(dp[i-1][j], dp[i][j-1], dp[i-1][j-1]) + 1\n",
    "\n",
    "                # Update the max_size to be the largest square found so far\n",
    "                max_size = max(max_size, dp[i][j])\n",
    "\n",
    "    # Return the area of the largest square (side length squared)\n",
    "    return max_size ** 2\n",
    "\n",
    "#\n",
    "matrix = [\n",
    "    [1, 0, 1, 0, 0],\n",
    "    [1, 0, 1, 1, 1],\n",
    "    [1, 1, 1, 1, 1],\n",
    "    [1, 0, 0, 1, 0]\n",
    "]\n",
    "\n",
    "print(largest_square_in_matrix(matrix))  # output  4\n"
   ]
  }
 ],
 "metadata": {
  "kernelspec": {
   "display_name": "myenv",
   "language": "python",
   "name": "python3"
  },
  "language_info": {
   "codemirror_mode": {
    "name": "ipython",
    "version": 3
   },
   "file_extension": ".py",
   "mimetype": "text/x-python",
   "name": "python",
   "nbconvert_exporter": "python",
   "pygments_lexer": "ipython3",
   "version": "3.12.3"
  }
 },
 "nbformat": 4,
 "nbformat_minor": 2
}
