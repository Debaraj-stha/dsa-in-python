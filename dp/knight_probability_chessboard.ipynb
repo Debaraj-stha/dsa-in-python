{
 "cells": [
  {
   "cell_type": "code",
   "execution_count": 78,
   "metadata": {},
   "outputs": [],
   "source": [
    "def knightProbability(n, k, r, c):\n",
    "    # 8 possible directions the knight can move from any position on the board\n",
    "    # These directions correspond to the moves of a knight in chess.\n",
    "    dr = [2, 1, -1, -2, -2, -1, 1, 2]  # Row changes for 8 possible knight moves\n",
    "    dc = [1, 2, 2, 1, -1, -2, -2, -1]  # Column changes for 8 possible knight moves\n",
    "\n",
    "    # Create a 3D DP table to store the probabilities at each position after each move.\n",
    "    # dp[move][i][j] will represent the probability of being at position (i, j) after 'move' moves.\n",
    "    dp = [[[0] * n for _ in range(n)] for _ in range(k + 1)]  # DP table initialization\n",
    "\n",
    "    # Set the initial position (starting position) probability as 1, because the knight starts there.\n",
    "    dp[0][r][c] = 1\n",
    "\n",
    "    # Iterate over the number of moves from 1 to k (inclusive)\n",
    "    for move in range(1, k + 1):\n",
    "        # Iterate over each position (i, j) on the board\n",
    "        for i in range(n):\n",
    "            for j in range(n):\n",
    "                # Reset the current position to 0 before accumulating probabilities\n",
    "                dp[move][i][j] = 0\n",
    "                # For each possible move direction (dx, dy), check where the knight came from\n",
    "                for dx, dy in zip(dr, dc):\n",
    "                    prev_x, prev_y = i + dx, j + dy\n",
    "                    # If the previous position is within the bounds of the board\n",
    "                    if 0 <= prev_x < n and 0 <= prev_y < n:\n",
    "                        # Accumulate the probability from the previous move to the current position\n",
    "                        dp[move][i][j] += dp[move-1][prev_x][prev_y] / 8.0\n",
    "\n",
    "    # Sum up all the probabilities of the knight being on any position after 'k' moves\n",
    "    probability = 0\n",
    "    for i in range(n):\n",
    "        for j in range(n):\n",
    "            probability += dp[k][i][j]\n",
    "\n",
    "    # Return the total probability of the knight remaining on the board after 'k' moves\n",
    "    return probability\n"
   ]
  },
  {
   "cell_type": "code",
   "execution_count": 76,
   "metadata": {},
   "outputs": [
    {
     "name": "stdout",
     "output_type": "stream",
     "text": [
      "0.25\n"
     ]
    }
   ],
   "source": [
    "\n",
    "print(knightProbability(8 ,1 , 0, 0))  # Output should be 0.25"
   ]
  }
 ],
 "metadata": {
  "kernelspec": {
   "display_name": "myenv",
   "language": "python",
   "name": "python3"
  },
  "language_info": {
   "codemirror_mode": {
    "name": "ipython",
    "version": 3
   },
   "file_extension": ".py",
   "mimetype": "text/x-python",
   "name": "python",
   "nbconvert_exporter": "python",
   "pygments_lexer": "ipython3",
   "version": "3.12.3"
  }
 },
 "nbformat": 4,
 "nbformat_minor": 2
}
