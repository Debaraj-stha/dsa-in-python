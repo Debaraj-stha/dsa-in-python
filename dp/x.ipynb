{
 "cells": [
  {
   "cell_type": "code",
   "execution_count": 1,
   "metadata": {},
   "outputs": [
    {
     "name": "stdout",
     "output_type": "stream",
     "text": [
      "4500\n"
     ]
    }
   ],
   "source": [
    "def mcm(arr,i,j):\n",
    "    if i>=j:\n",
    "        return 0\n",
    "    min_value = float('inf')\n",
    "    for k in range(i,j):\n",
    "        temp_ans = mcm(arr, i, k) + mcm(arr, k+1, j) + arr[i-1]*arr[k]*arr[j]\n",
    "        min_value = min(min_value, temp_ans)\n",
    "    return min_value\n",
    "\n",
    "arr = [10, 30, 5, 60]\n",
    "print(mcm(arr, 1, len(arr)-1))  # Output: 4500"
   ]
  },
  {
   "cell_type": "code",
   "execution_count": null,
   "metadata": {},
   "outputs": [
    {
     "name": "stdout",
     "output_type": "stream",
     "text": [
      "True\n"
     ]
    }
   ],
   "source": [
    "def scrambledegg(a,b):\n",
    "    m=len(a)\n",
    "    n=len(b)\n",
    "    if m!=n:return False\n",
    "    if a==b:return True\n",
    "    if sorted(a)!=sorted(b):return False\n",
    "    for k in range(1,n):\n",
    "       if (scrambledegg(a[:k], b[:k]) and scrambledegg(a[k:], b[k:])) or \\\n",
    "            (scrambledegg(a[:k], b[n-k:]) and scrambledegg(a[k:], b[:n-k])):\n",
    "                return True\n",
    "        \n",
    "    return False\n",
    "a=\"great\"\n",
    "b=\"rgeat\"\n",
    "print(scrambledegg(a,b))  # Output: True"
   ]
  }
 ],
 "metadata": {
  "kernelspec": {
   "display_name": "env",
   "language": "python",
   "name": "python3"
  },
  "language_info": {
   "codemirror_mode": {
    "name": "ipython",
    "version": 3
   },
   "file_extension": ".py",
   "mimetype": "text/x-python",
   "name": "python",
   "nbconvert_exporter": "python",
   "pygments_lexer": "ipython3",
   "version": "3.12.3"
  }
 },
 "nbformat": 4,
 "nbformat_minor": 2
}
