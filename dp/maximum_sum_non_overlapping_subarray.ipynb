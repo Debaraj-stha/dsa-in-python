{
 "cells": [
  {
   "cell_type": "code",
   "execution_count": 12,
   "metadata": {},
   "outputs": [
    {
     "name": "stdout",
     "output_type": "stream",
     "text": [
      "Maximum sum of 3 non-overlapping subarrays for [1, 2, -1, -4, 9]: 12\n"
     ]
    }
   ],
   "source": [
    "def max_sum_non_overlapping_subarrays(nums, m):\n",
    "    \"\"\"\n",
    "    Finds the maximum sum of m non-overlapping contiguous subarrays.\n",
    "\n",
    "    Args:\n",
    "        nums: A list of integers representing the input array.\n",
    "        m: An integer representing the number of non-overlapping subarrays to find.\n",
    "\n",
    "    Returns:\n",
    "        An integer representing the maximum sum of m non-overlapping subarrays.\n",
    "    \"\"\"\n",
    "    n = len(nums)\n",
    "    if m <= 0 or n == 0 or m > n:  \n",
    "        return 0\n",
    "\n",
    "    # Initialize the dp table where dp[i][j] represents the maximum sum of j non-overlapping subarrays\n",
    "    # ending at or before index i. We initialize with -infinity to signify an impossible state.\n",
    "    dp = [[float('-inf')] * (m + 1) for _ in range(n)]\n",
    "\n",
    "    # Base case: If we want 0 subarrays, the sum is 0 for every index.\n",
    "    for i in range(n):\n",
    "        dp[i][0] = 0\n",
    "\n",
    "    # Iterate over the number of subarrays we are considering (from 1 to m)\n",
    "    for j in range(1, m + 1):\n",
    "        for i in range(n):\n",
    "            # Case 1: The j-th subarray does not include nums[i], meaning we inherit the value from the previous index\n",
    "            if i > 0:\n",
    "                dp[i][j] = dp[i - 1][j]\n",
    "\n",
    "            # Case 2: The j-th subarray ends at index i. We need to find the best sum for this subarray.\n",
    "            current_sum = 0\n",
    "            for k in range(i, -1, -1):  # Iterate backward from i to 0 to calculate the sum of the subarray\n",
    "                current_sum += nums[k]  # Add current number to the sum\n",
    "                # If this is the first subarray (j == 1), the sum is just the current subarray sum\n",
    "                if j == 1:\n",
    "                    dp[i][j] = max(dp[i][j], current_sum)\n",
    "                # If j > 1, we need to ensure there are (j-1) valid subarrays before index k\n",
    "                elif k > 0 and dp[k - 1][j - 1] != float('-inf'):  # If there is a valid solution for (j-1) subarrays\n",
    "                    dp[i][j] = max(dp[i][j], dp[k - 1][j - 1] + current_sum)\n",
    "                elif k == 0:  # If we're at the start of the array, the sum is the current subarray sum\n",
    "                    dp[i][j] = max(dp[i][j], current_sum)\n",
    "\n",
    "    return dp[n - 1][m]  # The answer is the maximum sum of m subarrays using all elements up to n-1\n",
    "\n",
    "# Example usage:\n",
    "nums = [1, 2, -1, -4, 9]\n",
    "m1 = 3\n",
    "print(f\"Maximum sum of {m1} non-overlapping subarrays for {nums}: {max_sum_non_overlapping_subarrays(nums, m1)}\")  # Output: 12\n"
   ]
  },
  {
   "cell_type": "code",
   "execution_count": null,
   "metadata": {},
   "outputs": [
    {
     "name": "stdout",
     "output_type": "stream",
     "text": [
      "Max sum of 2 subarrays of size 3: 33\n",
      "Max sum of 2 subarrays of size 2: 4\n",
      "Max sum of 2 subarrays of size 2: 14\n",
      "Max sum of 1 subarrays of size 3: 12\n"
     ]
    }
   ],
   "source": [
    "def maximum_sum_non_overlapping_subarray_size_k(nums, m, k):\n",
    "    \"\"\"\n",
    "    This function finds the maximum sum of `m` non-overlapping subarrays of size `k`.\n",
    "\n",
    "    Args:\n",
    "        nums: A list of integers representing the input array.\n",
    "        m: An integer representing the number of subarrays to find.\n",
    "        k: An integer representing the size of each subarray.\n",
    "\n",
    "    Returns:\n",
    "        An integer representing the maximum sum of m non-overlapping subarrays of size k.\n",
    "    \"\"\"\n",
    "    n = len(nums)\n",
    "    if n == 0 or m <= 0 or k <= 0 or m * k > n:\n",
    "        return 0  # If there are not enough elements for `m` subarrays of size `k`, return 0\n",
    "\n",
    "    # Initialize the DP table\n",
    "    # dp[i][j] represents the maximum sum of j non-overlapping subarrays of size k ending at or before index i.\n",
    "    dp = [[0] * (m + 1) for _ in range(n + 1)]  # dp table with (n+1) rows and (m+1) columns, initialized to 0\n",
    "\n",
    "    # Fill the DP table for each possible number of subarrays (from 1 to m)\n",
    "    for j in range(1, m + 1):\n",
    "        # Calculate maximum sum for each possible ending index `i` of the j-th subarray\n",
    "        for i in range(k * j, n + 1):\n",
    "            # Option 1: The j-th subarray does not end at index `i`\n",
    "            dp[i][j] = dp[i - 1][j]  # Carry forward the best result from the previous index\n",
    "\n",
    "            # Option 2: The j-th subarray ends at index `i-1` (subarray size is k)\n",
    "            current_sum = sum(nums[i - k:i])  # Calculate the sum of the subarray of size k ending at index i-1\n",
    "\n",
    "            # If there is enough space before `i` for j-1 subarrays of size k, consider adding the current subarray\n",
    "            if i >= k:\n",
    "                #check if we have atleast k elements before index i\n",
    "                #Essentially, this condition ensures that we have enough room to select a valid subarray of size k.\n",
    "                #dp[i - k][j - 1] stores the maximum sum of j-1 subarrays (non-overlapping) that end at or before index i - k.\n",
    "                dp[i][j] = max(dp[i][j], dp[i - k][j - 1] + current_sum)  # Maximize the result\n",
    "\n",
    "    return dp[n][m]\n",
    "\n",
    "\n",
    "\n",
    "nums = [1, 2, 3, 4, 5, 6, 7, 8]\n",
    "m1 = 2\n",
    "k1 = 3\n",
    "print(f\"Max sum of {m1} subarrays of size {k1}: {maximum_sum_non_overlapping_subarray_size_k(nums, m1, k1)}\")  \n",
    "\n",
    "nums2 = [-1, 4, -2, 3, -4, 5]\n",
    "m2 = 2\n",
    "k2 = 2\n",
    "print(f\"Max sum of {m2} subarrays of size {k2}: {maximum_sum_non_overlapping_subarray_size_k(nums2, m2, k2)}\")  \n",
    "nums3 = [1, 2, 3, 4, 5]\n",
    "m3 = 2\n",
    "k3 = 2\n",
    "print(f\"Max sum of {m3} subarrays of size {k3}: {maximum_sum_non_overlapping_subarray_size_k(nums3, m3, k3)}\") \n",
    "\n",
    "nums4 = [1, 2, 3, 4, 5]\n",
    "m4 = 1\n",
    "k4 = 3\n",
    "print(f\"Max sum of {m4} subarrays of size {k4}: {maximum_sum_non_overlapping_subarray_size_k(nums4, m4, k4)}\") "
   ]
  }
 ],
 "metadata": {
  "kernelspec": {
   "display_name": "myenv",
   "language": "python",
   "name": "python3"
  },
  "language_info": {
   "codemirror_mode": {
    "name": "ipython",
    "version": 3
   },
   "file_extension": ".py",
   "mimetype": "text/x-python",
   "name": "python",
   "nbconvert_exporter": "python",
   "pygments_lexer": "ipython3",
   "version": "3.12.3"
  }
 },
 "nbformat": 4,
 "nbformat_minor": 2
}
