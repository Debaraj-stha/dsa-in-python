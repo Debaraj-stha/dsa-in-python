{
 "cells": [
  {
   "cell_type": "code",
   "execution_count": null,
   "metadata": {},
   "outputs": [
    {
     "name": "stdout",
     "output_type": "stream",
     "text": [
      "False\n"
     ]
    }
   ],
   "source": [
    "def word_break(s, wordDict):\n",
    "    n=len(s)+1\n",
    "    dp=[False]*n\n",
    "    dp[0]=True\n",
    "    for i in range(1,n):\n",
    "        for j in range(i):\n",
    "            if dp[j] and s[j:i] in wordDict:\n",
    "                dp[i]=True\n",
    "                break\n",
    "    return dp[n-1]\n",
    "\n",
    "print(word_break(\"applepenapple\", [\"apple\", \"hen\"]))  # True"
   ]
  },
  {
   "cell_type": "code",
   "execution_count": 6,
   "metadata": {},
   "outputs": [
    {
     "data": {
      "text/plain": [
       "[['r', 'a', 'c', 'e', 'c', 'a', 'r'],\n",
       " ['r', 'a', 'cec', 'a', 'r'],\n",
       " ['r', 'aceca', 'r'],\n",
       " ['racecar']]"
      ]
     },
     "execution_count": 6,
     "metadata": {},
     "output_type": "execute_result"
    }
   ],
   "source": [
    "def is_palindrome(s):\n",
    "    return s==s[::-1]\n",
    "def palindome_partition(s):\n",
    "    res=[]\n",
    "    def backtrack(i,current):\n",
    "        if i==len(s):\n",
    "            res.append(current[:])\n",
    "            return\n",
    "        for j in range(i,len(s)+1):\n",
    "             if is_palindrome(s[i:j+1]):\n",
    "                current.append(s[i:j+1])  # Add palindrome to the current current\n",
    "                backtrack(j+1, current)\n",
    "                current.pop()\n",
    "                \n",
    "    backtrack(0,[])\n",
    "    return res\n",
    "palindome_partition(\"racecar\")"
   ]
  }
 ],
 "metadata": {
  "kernelspec": {
   "display_name": "myenv",
   "language": "python",
   "name": "python3"
  },
  "language_info": {
   "codemirror_mode": {
    "name": "ipython",
    "version": 3
   },
   "file_extension": ".py",
   "mimetype": "text/x-python",
   "name": "python",
   "nbconvert_exporter": "python",
   "pygments_lexer": "ipython3",
   "version": "3.12.3"
  }
 },
 "nbformat": 4,
 "nbformat_minor": 2
}
