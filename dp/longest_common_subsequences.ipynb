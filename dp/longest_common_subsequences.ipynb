{
 "cells": [
  {
   "cell_type": "code",
   "execution_count": 14,
   "metadata": {},
   "outputs": [
    {
     "name": "stdout",
     "output_type": "stream",
     "text": [
      "ababa\n",
      "abaca\n",
      "abcba\n",
      "acaba\n",
      "acaca\n",
      "acbaa\n",
      "acbca\n"
     ]
    }
   ],
   "source": [
    "MAX = 100\n",
    "lcslen = 0\n",
    "dp = [[-1] * MAX for _ in range(MAX)]\n",
    "\n",
    "def lcs(str1, str2, len1, len2, i, j):\n",
    "    #If we reach the end of either string, there is no LCS left → return 0.\n",
    "    if i == len1 or j == len2:\n",
    "        dp[i][j] = 0\n",
    "        return 0\n",
    "    #if already computed\n",
    "    if dp[i][j] != -1:\n",
    "        return dp[i][j]\n",
    "    \n",
    "    if str1[i] == str2[j]:\n",
    "        #If characters match, increment LCS length by 1 and move both indices forward.\n",
    "        dp[i][j] = 1 + lcs(str1, str2, len1, len2, i + 1, j + 1)\n",
    "    else:\n",
    "            #If characters don't match, try both possibilities:\n",
    "            #Move i forward (ignore str1[i]).\n",
    "            # Move j forward (ignore str2[j]).\n",
    "            #   Take the maximum LCS length.\n",
    "        dp[i][j] = max(lcs(str1, str2, len1, len2, i + 1, j), lcs(str1, str2, len1, len2, i, j + 1))\n",
    "    \n",
    "    return dp[i][j]\n",
    "\n",
    "def printAll(str1, str2, len1, len2, data, index1, index2, currlcs):\n",
    "    if currlcs == lcslen: #If the current LCS length equals lcslen, print it.\n",
    "        print(\"\".join(data[:currlcs]))\n",
    "        return\n",
    "    if index1 == len1 or index2 == len2: #if either string end is reached\n",
    "        return\n",
    "\n",
    "    for ch in range(ord('a'), ord('z') + 1): #iterate over characters 'a' to 'z' to ensure lexicographical order.\n",
    "        done = False\n",
    "        for i in range(index1, len1): #find first occurance of ch from index1\n",
    "            if chr(ch) == str1[i]:\n",
    "                for j in range(index2, len2):\n",
    "                    #    Find the first occurrence of ch in str2 from index2.\n",
    "                    #Ensure that this character contributes to the LCS (dp[i][j] == lcslen - currlcs).\n",
    "                    if chr(ch) == str2[j] and dp[i][j] == lcslen - currlcs:\n",
    "                        data[currlcs] = chr(ch)\n",
    "                        printAll(str1, str2, len1, len2, data, i + 1, j + 1, currlcs + 1)\n",
    "                        done = True\n",
    "                        break\n",
    "            if done:\n",
    "                break\n",
    "\n",
    "def printAllLCSSorted(str1, str2):\n",
    "    global lcslen\n",
    "    len1, len2 = len(str1), len(str2)\n",
    "    lcslen = lcs(str1, str2, len1, len2, 0, 0)\n",
    "    data = [''] * MAX\n",
    "    printAll(str1, str2, len1, len2, data, 0, 0, 0)\n",
    "\n",
    "str1 = \"abcabcaa\"\n",
    "str2 = \"acbacba\"\n",
    "printAllLCSSorted(str1, str2)\n"
   ]
  },
  {
   "cell_type": "code",
   "execution_count": null,
   "metadata": {},
   "outputs": [],
   "source": [
    "\n"
   ]
  }
 ],
 "metadata": {
  "kernelspec": {
   "display_name": "env",
   "language": "python",
   "name": "python3"
  },
  "language_info": {
   "codemirror_mode": {
    "name": "ipython",
    "version": 3
   },
   "file_extension": ".py",
   "mimetype": "text/x-python",
   "name": "python",
   "nbconvert_exporter": "python",
   "pygments_lexer": "ipython3",
   "version": "3.12.3"
  }
 },
 "nbformat": 4,
 "nbformat_minor": 2
}
