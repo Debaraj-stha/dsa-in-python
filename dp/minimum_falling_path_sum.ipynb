{
 "cells": [
  {
   "cell_type": "code",
   "execution_count": 21,
   "metadata": {},
   "outputs": [
    {
     "name": "stdout",
     "output_type": "stream",
     "text": [
      "13\n"
     ]
    }
   ],
   "source": [
    "def minimum_falling_path_sum(matrix):\n",
    "    \"\"\"\n",
    "    Problem Statement:\n",
    "    ------------------\n",
    "    Given an `n x n` matrix of integers, find the minimum sum of a falling path from the first row to the last row.\n",
    "    A falling path can move to:\n",
    "    - Directly below (same column)\n",
    "    - Diagonally left (one column left, if within bounds)\n",
    "    - Diagonally right (one column right, if within bounds)\n",
    "\n",
    "    The goal is to return the minimum sum of any falling path.\n",
    "    \n",
    "    Approach:\n",
    "    ----------\n",
    "    - Use **dynamic programming** to update the matrix in place.\n",
    "    - `dp[row][col]` stores the **minimum falling path sum** to reach `matrix[row][col]`.\n",
    "    - At each cell, consider the **minimum of the three possible paths from the previous row**.\n",
    "    - The answer is the **minimum value in the last row**.\n",
    "\n",
    "    Example:\n",
    "    ---------\n",
    "    Input:\n",
    "        matrix = [\n",
    "            [2, 1, 3],\n",
    "            [6, 5, 4],\n",
    "            [7, 8, 9]\n",
    "        ]\n",
    "    Output: 13\n",
    "\n",
    "    Explanation:\n",
    "        The optimal falling path is:\n",
    "        1 → 4 → 8   (sum = 1 + 4 + 8 = 13)\n",
    "    \"\"\"\n",
    "\n",
    "    rows, cols = len(matrix), len(matrix[0])  # Get matrix dimensions\n",
    "\n",
    "    # Copy the matrix to use as DP table (modifies in place to save space)\n",
    "    dp = [row[:] for row in matrix]\n",
    "\n",
    "    # Start from the second row and compute minimum sum paths\n",
    "    for row in range(1, rows):  # Start from row index 1 (since row 0 is already given)\n",
    "        for col in range(cols):  \n",
    "            # Get values from the previous row while handling edge cases\n",
    "            above = dp[row - 1][col]  # Directly above\n",
    "            left = dp[row - 1][col - 1] if col > 0 else float('inf')  # Diagonal left\n",
    "            right = dp[row - 1][col + 1] if col < cols - 1 else float('inf')  # Diagonal right\n",
    "            \n",
    "            # Update the current cell with the minimum falling path sum\n",
    "            dp[row][col] += min(above, left, right)\n",
    "\n",
    "    # The answer is the minimum value in the last row (smallest falling path sum)\n",
    "    return min(dp[-1])\n",
    "\n",
    "# Example Test Case\n",
    "matrix = [\n",
    "    [2, 1, 3],\n",
    "    [6, 5, 4],\n",
    "    [7, 8, 9]\n",
    "]\n",
    "print(minimum_falling_path_sum(matrix))  # Output: 13\n"
   ]
  }
 ],
 "metadata": {
  "kernelspec": {
   "display_name": "myenv",
   "language": "python",
   "name": "python3"
  },
  "language_info": {
   "codemirror_mode": {
    "name": "ipython",
    "version": 3
   },
   "file_extension": ".py",
   "mimetype": "text/x-python",
   "name": "python",
   "nbconvert_exporter": "python",
   "pygments_lexer": "ipython3",
   "version": "3.12.3"
  }
 },
 "nbformat": 4,
 "nbformat_minor": 2
}
