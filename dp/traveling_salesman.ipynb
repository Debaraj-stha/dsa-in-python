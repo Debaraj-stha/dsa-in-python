{
 "cells": [
  {
   "cell_type": "code",
   "execution_count": 1,
   "metadata": {},
   "outputs": [
    {
     "data": {
      "text/plain": [
       "80"
      ]
     },
     "execution_count": 1,
     "metadata": {},
     "output_type": "execute_result"
    }
   ],
   "source": [
    "def solve(i,visited_node):\n",
    "    if visited_node == (1 << n) - 1:\n",
    "\n",
    "        return distance_matrix[i][0]\n",
    "    if memo[i][visited_node]!=-1:\n",
    "        return memo[i][visited_node]\n",
    "    min_cost=float(\"inf\")\n",
    "    for j in range(n):\n",
    "       if not (visited_node & (1 << j)): \n",
    "\n",
    "            new_cost=distance_matrix[i][j]+solve(j,visited_node|(1<<j))\n",
    "            min_cost=min(min_cost,new_cost)\n",
    "    memo[i][visited_node]=min_cost\n",
    "    return min_cost\n",
    "distance_matrix = [\n",
    "    [0, 10, 15, 20],\n",
    "    [10, 0, 35, 25],\n",
    "    [15, 35, 0, 30],\n",
    "    [20, 25, 30, 0]\n",
    "]\n",
    "n=len(distance_matrix)\n",
    "memo=[[-1]*(1<<(n)) for _ in range(n)]\n",
    "solve(0,1<<0)\n",
    "\n"
   ]
  },
  {
   "cell_type": "code",
   "execution_count": null,
   "metadata": {},
   "outputs": [],
   "source": []
  }
 ],
 "metadata": {
  "kernelspec": {
   "display_name": "myenv",
   "language": "python",
   "name": "python3"
  },
  "language_info": {
   "codemirror_mode": {
    "name": "ipython",
    "version": 3
   },
   "file_extension": ".py",
   "mimetype": "text/x-python",
   "name": "python",
   "nbconvert_exporter": "python",
   "pygments_lexer": "ipython3",
   "version": "3.12.3"
  }
 },
 "nbformat": 4,
 "nbformat_minor": 2
}
