{
 "cells": [
  {
   "cell_type": "code",
   "execution_count": null,
   "metadata": {},
   "outputs": [
    {
     "name": "stdout",
     "output_type": "stream",
     "text": [
      "3\n"
     ]
    }
   ],
   "source": [
    "import heapq  \n",
    "\n",
    "def minimum_number_refueling_stops(target, startFuel, stations):\n",
    "    current_location = 0 \n",
    "    current_fuel = startFuel  \n",
    "    stops = 0  \n",
    "    reachable_stations = []  \n",
    "    n = len(stations)  \n",
    "    \n",
    "    for i in range(n):\n",
    "        distance, capacity = stations[i] \n",
    "        fuel_needed = distance - current_location  # The amount of fuel required to reach this station\n",
    "        \n",
    "        # Check if the current fuel is insufficient to reach the next station\n",
    "        while current_fuel < fuel_needed:\n",
    "            if not reachable_stations:  # If there are no reachable stations left to refuel, return -1 (can't reach target)\n",
    "                return -1\n",
    "            # Refuel from the station that has the maximum fuel (this is where max-heap comes into play)\n",
    "            current_fuel -= heapq.heappop(reachable_stations)  # Pop the station with the maximum fuel (heap stores negative values)\n",
    "            stops += 1  # Increment the refueling stop count\n",
    "        \n",
    "        # After reaching this station, reduce the fuel by the amount needed to get here\n",
    "        current_fuel -= fuel_needed\n",
    "        current_location = distance  # Update the current location to the current station\n",
    "        \n",
    "        # Add the current station's fuel capacity to the heap (negative to simulate max-heap behavior)\n",
    "        heapq.heappush(reachable_stations, -capacity)\n",
    "    \n",
    "    # After visiting all stations, check if we can reach the target\n",
    "    fuel_needed_to_target = target - current_location  # Fuel needed to reach the target (destination)\n",
    "    \n",
    "    # If current fuel is not enough to reach the target, keep refueling from the best stations\n",
    "    while current_fuel < fuel_needed_to_target:\n",
    "        if not reachable_stations:  # If there are no stations left to refuel, return -1 (can't reach the target)\n",
    "            return -1\n",
    "        # Refuel from the station with the maximum fuel available\n",
    "        current_fuel -= heapq.heappop(reachable_stations)  # Pop the station with the maximum fuel\n",
    "        stops += 1  # Increment the refueling stop count\n",
    "    \n",
    "    return stops  # Return the total number of refueling stops made\n",
    "\n",
    "# Example usage:\n",
    "target = 200  # The distance the car needs to travel\n",
    "start_fuel = 100  # Initial fuel in the car\n",
    "stations = [[10, 10], [20, 60], [30, 30]]  # Stations with distance and fuel capacity\n",
    "\n",
    "print(minimum_number_refueling_stops(target, start_fuel, stations))  # Output: Number of stops\n"
   ]
  }
 ],
 "metadata": {
  "kernelspec": {
   "display_name": "myenv",
   "language": "python",
   "name": "python3"
  },
  "language_info": {
   "codemirror_mode": {
    "name": "ipython",
    "version": 3
   },
   "file_extension": ".py",
   "mimetype": "text/x-python",
   "name": "python",
   "nbconvert_exporter": "python",
   "pygments_lexer": "ipython3",
   "version": "3.12.3"
  }
 },
 "nbformat": 4,
 "nbformat_minor": 2
}
