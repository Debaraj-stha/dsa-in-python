{
 "cells": [
  {
   "cell_type": "code",
   "execution_count": 3,
   "metadata": {},
   "outputs": [
    {
     "name": "stdout",
     "output_type": "stream",
     "text": [
      "True\n"
     ]
    }
   ],
   "source": [
    "def scrambled_string(a,b):\n",
    "    m=len(a)\n",
    "    n=len(b)\n",
    "    if m!=n:\n",
    "        return False\n",
    "    if a==b:\n",
    "        return True\n",
    "    if sorted(a)!=sorted(b):\n",
    "        return False\n",
    "    for i in range(1,n):\n",
    "        if scrambled_string(a[:i],b[:i]) and scrambled_string(a[i:],b[i:]):\n",
    "            return True\n",
    "        if scrambled_string(a[:i],b[n-i:]) and scrambled_string(a[i:],b[:n-i]):\n",
    "            return True\n",
    "    return False\n",
    "\n",
    "a=\"great\"\n",
    "b=\"rgeat\"\n",
    "print(scrambled_string(a,b))\n"
   ]
  }
 ],
 "metadata": {
  "kernelspec": {
   "display_name": "myenv",
   "language": "python",
   "name": "python3"
  },
  "language_info": {
   "codemirror_mode": {
    "name": "ipython",
    "version": 3
   },
   "file_extension": ".py",
   "mimetype": "text/x-python",
   "name": "python",
   "nbconvert_exporter": "python",
   "pygments_lexer": "ipython3",
   "version": "3.12.3"
  }
 },
 "nbformat": 4,
 "nbformat_minor": 2
}
