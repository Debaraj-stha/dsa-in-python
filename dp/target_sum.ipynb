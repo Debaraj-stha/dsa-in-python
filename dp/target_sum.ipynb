{
 "cells": [
  {
   "cell_type": "code",
   "execution_count": null,
   "metadata": {},
   "outputs": [
    {
     "name": "stdout",
     "output_type": "stream",
     "text": [
      "3\n"
     ]
    }
   ],
   "source": [
    "def subset_count(arr, target):\n",
    "    n = len(arr)\n",
    "    dp = [[0] * (target + 1) for _ in range(n + 1)]\n",
    "\n",
    "    for i in range(n + 1):\n",
    "        dp[i][0] = 1\n",
    "    \n",
    "    # Fill DP table\n",
    "    for i in range(1, n + 1):\n",
    "        for j in range(target + 1):\n",
    "            if arr[i - 1] <= j:\n",
    "                dp[i][j] = dp[i - 1][j - arr[i - 1]] + dp[i - 1][j]\n",
    "            else:\n",
    "                dp[i][j] = dp[i - 1][j]\n",
    "    \n",
    "    return dp[n][target]\n",
    "\n",
    "target = 4\n",
    "arr = [1, 1, 2, 3]\n",
    "result = subset_count(arr, target)\n",
    "print(result)  # Output: 3\n"
   ]
  },
  {
   "cell_type": "code",
   "execution_count": null,
   "metadata": {},
   "outputs": [],
   "source": [
    "\n"
   ]
  }
 ],
 "metadata": {
  "kernelspec": {
   "display_name": "env",
   "language": "python",
   "name": "python3"
  },
  "language_info": {
   "codemirror_mode": {
    "name": "ipython",
    "version": 3
   },
   "file_extension": ".py",
   "mimetype": "text/x-python",
   "name": "python",
   "nbconvert_exporter": "python",
   "pygments_lexer": "ipython3",
   "version": "3.12.3"
  }
 },
 "nbformat": 4,
 "nbformat_minor": 2
}
