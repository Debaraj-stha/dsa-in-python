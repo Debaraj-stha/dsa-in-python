{
 "cells": [
  {
   "cell_type": "code",
   "execution_count": null,
   "metadata": {},
   "outputs": [
    {
     "name": "stdout",
     "output_type": "stream",
     "text": [
      "17\n"
     ]
    }
   ],
   "source": [
    "def maximum_sum(arr):\n",
    "    n=len(arr)\n",
    "    dp=arr[:]  # Initialize dp with the same size as arr\n",
    "    for i in range(n):\n",
    "        for j in range(i):\n",
    "            if arr[i]>arr[j]:\n",
    "                dp[i]=max(dp[i],dp[j]+arr[i])\n",
    "    return max(dp)\n",
    "\n",
    "arr=[2,4,1,5,3,6]\n",
    "print(maximum_sum(arr))"
   ]
  }
 ],
 "metadata": {
  "kernelspec": {
   "display_name": "myenv",
   "language": "python",
   "name": "python3"
  },
  "language_info": {
   "codemirror_mode": {
    "name": "ipython",
    "version": 3
   },
   "file_extension": ".py",
   "mimetype": "text/x-python",
   "name": "python",
   "nbconvert_exporter": "python",
   "pygments_lexer": "ipython3",
   "version": "3.12.3"
  }
 },
 "nbformat": 4,
 "nbformat_minor": 2
}
