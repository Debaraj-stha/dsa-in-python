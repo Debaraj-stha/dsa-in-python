{
 "cells": [
  {
   "cell_type": "code",
   "execution_count": 70,
   "metadata": {},
   "outputs": [
    {
     "name": "stdout",
     "output_type": "stream",
     "text": [
      "False\n",
      "False\n",
      "True\n"
     ]
    }
   ],
   "source": [
    "def regular_expression_matching(s, p):\n",
    "    n = len(s)\n",
    "    m = len(p)\n",
    "    \n",
    "    # Create a DP table where dp[i][j] is True if s[0...i-1] matches p[0...j-1]\n",
    "    dp = [[False] * (m + 1) for _ in range(n + 1)]\n",
    "    dp[0][0] = True  # Empty string matches empty pattern\n",
    "    \n",
    "    # Initialize the DP table for patterns with '*'\n",
    "    for i in range(2, m + 1):\n",
    "        if p[i - 1] == '*':\n",
    "            dp[0][i] = dp[0][i - 2]  # \"*\" can match zero occurrences of the previous character\n",
    "\n",
    "    # Fill the DP table\n",
    "    for i in range(1, n + 1):\n",
    "        for j in range(1, m + 1):\n",
    "            # Case 1: Characters match or pattern has '.' (dot)\n",
    "            if p[j - 1] == '.' or p[j - 1] == s[i - 1]:\n",
    "                dp[i][j] = dp[i - 1][j - 1]\n",
    "            \n",
    "            # Case 2: Pattern has '*'\n",
    "            elif p[j - 1] == '*':\n",
    "                # Two possibilities:\n",
    "                # 1. '*' matches zero occurrences: dp[i][j - 2] (ignore the previous character and '*')\n",
    "                # 2. '*' matches one or more occurrences: dp[i - 1][j] (match one more of the previous character)\n",
    "                #dp[i-1][j] means that we have already matched the first i-1 characters of the string s with the pattern up\n",
    "                # to p[j-1], and now we're considering if s[i-1] matches p[j-2] (the character before the *).\n",
    "                #s[i-1] == p[j-2] means that the current character in s matches the character before the * in p.\n",
    "                #p[j-2] == '.' means that the * can match any character because . matches any character.\n",
    "                print(dp[i][j-2])\n",
    "                dp[i][j] = dp[i][j - 2] or (dp[i - 1][j] and (s[i - 1] == p[j - 2] or p[j - 2] == '.'))\n",
    "    \n",
    "    # The result is stored in dp[n][m], representing if the entire string matches the pattern\n",
    "    return dp[n][m]\n",
    "\n",
    "# Test case\n",
    "s = \"aa\"\n",
    "p = \"a*\"\n",
    "print(regular_expression_matching(s, p))  # Expected output: True\n"
   ]
  }
 ],
 "metadata": {
  "kernelspec": {
   "display_name": "myenv",
   "language": "python",
   "name": "python3"
  },
  "language_info": {
   "codemirror_mode": {
    "name": "ipython",
    "version": 3
   },
   "file_extension": ".py",
   "mimetype": "text/x-python",
   "name": "python",
   "nbconvert_exporter": "python",
   "pygments_lexer": "ipython3",
   "version": "3.12.3"
  }
 },
 "nbformat": 4,
 "nbformat_minor": 2
}
