{
 "cells": [
  {
   "cell_type": "code",
   "execution_count": 1,
   "metadata": {},
   "outputs": [
    {
     "name": "stdout",
     "output_type": "stream",
     "text": [
      "True\n"
     ]
    }
   ],
   "source": [
    "def jump_game_i(arr):\n",
    "    n = len(arr)\n",
    "    dp = [False] * n\n",
    "    dp[0] = True\n",
    "    for i in range(1, n):\n",
    "        for j in range(i):\n",
    "            if dp[j] and j + arr[j] >= i:\n",
    "                dp[i] = True\n",
    "                break\n",
    "    return dp[n - 1]\n",
    "arr=[2, 3, 1, 1, 4]\n",
    "print(jump_game_i(arr))  # True"
   ]
  },
  {
   "cell_type": "code",
   "execution_count": null,
   "metadata": {},
   "outputs": [
    {
     "name": "stdout",
     "output_type": "stream",
     "text": [
      "2\n"
     ]
    }
   ],
   "source": []
  }
 ],
 "metadata": {
  "kernelspec": {
   "display_name": "myenv",
   "language": "python",
   "name": "python3"
  },
  "language_info": {
   "codemirror_mode": {
    "name": "ipython",
    "version": 3
   },
   "file_extension": ".py",
   "mimetype": "text/x-python",
   "name": "python",
   "nbconvert_exporter": "python",
   "pygments_lexer": "ipython3",
   "version": "3.12.3"
  }
 },
 "nbformat": 4,
 "nbformat_minor": 2
}
