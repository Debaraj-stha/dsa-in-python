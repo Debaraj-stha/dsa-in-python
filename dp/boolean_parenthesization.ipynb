{
 "cells": [
  {
   "cell_type": "code",
   "execution_count": 4,
   "metadata": {},
   "outputs": [
    {
     "name": "stdout",
     "output_type": "stream",
     "text": [
      "4\n",
      "2\n"
     ]
    }
   ],
   "source": [
    "def solve(string, i, j, isTrue=True):\n",
    "    if i > j:\n",
    "        return 0\n",
    "    if i == j:\n",
    "        if isTrue:\n",
    "            return 1 if string[i] == \"T\" else 0\n",
    "        else:\n",
    "            return 1 if string[i] == \"F\" else 0\n",
    "    \n",
    "    ans = 0\n",
    "    for k in range(i + 1, j, 2):\n",
    "        leftTrue = solve(string, i, k - 1, True)\n",
    "        leftFalse = solve(string, i, k - 1, False)\n",
    "        rightTrue = solve(string, k + 1, j, True)\n",
    "        rightFalse = solve(string, k + 1, j, False)\n",
    "        \n",
    "        if string[k] == '&':\n",
    "            if isTrue:\n",
    "                ans += leftTrue * rightTrue\n",
    "            else:\n",
    "                ans += leftTrue * rightFalse + leftFalse * rightTrue + leftFalse * rightFalse\n",
    "        elif string[k] == '|':\n",
    "            if isTrue:\n",
    "                ans += leftTrue * rightTrue + leftTrue * rightFalse + leftFalse * rightTrue\n",
    "            else:\n",
    "                ans += leftFalse * rightFalse\n",
    "        elif string[k] == '^':\n",
    "            if isTrue:\n",
    "                ans += leftTrue * rightFalse + leftFalse * rightTrue\n",
    "            else:\n",
    "                ans += leftTrue * rightTrue + leftFalse * rightFalse\n",
    "    \n",
    "    return ans\n",
    "\n",
    "def countWays(N, S):\n",
    "    return solve(S, 0, N - 1)\n",
    "\n",
    "if __name__ == '__main__':\n",
    "    N = 7\n",
    "    S = \"T|T&F^T\"\n",
    "    print(countWays(N, S))\n",
    "    \n",
    "    N = 5\n",
    "    S = \"T^F|F\"\n",
    "    print(countWays(N, S))"
   ]
  },
  {
   "cell_type": "code",
   "execution_count": 5,
   "metadata": {},
   "outputs": [
    {
     "name": "stdout",
     "output_type": "stream",
     "text": [
      "4\n",
      "2\n"
     ]
    }
   ],
   "source": [
    "def countWays(N, S):\n",
    "    trueDP = [[0] * N for _ in range(N)]\n",
    "    falseDP = [[0] * N for _ in range(N)]\n",
    "    \n",
    "    for i in range(N):\n",
    "        if S[i]==\"T\":\n",
    "            trueDP[i][i] = 1\n",
    "        else:\n",
    "            falseDP[i][i] = 1\n",
    "    for length in range(3,N+1,2):\n",
    "        for i in range(0,N-length+1,2):\n",
    "            j=i+length-1\n",
    "            for k in range(i+1,j,2):\n",
    "                leftFalse=falseDP[i][k-1]\n",
    "                leftTrue=trueDP[i][k-1]\n",
    "                rightFalse=falseDP[k+1][j]\n",
    "                rightTrue=trueDP[k+1][j]\n",
    "                if S[k]==\"|\":\n",
    "                    trueDP[i][j]+=(leftTrue*rightTrue)+(leftTrue*rightFalse)+(leftFalse*rightTrue)\n",
    "                    falseDP[i][j]+=leftFalse*rightFalse\n",
    "                elif S[k]==\"&\":\n",
    "                    trueDP[i][j]+=(leftTrue*rightTrue)+(leftFalse*rightFalse)\n",
    "                    falseDP[i][j]+=(leftTrue*rightFalse)+(leftFalse*rightTrue)\n",
    "                elif S[k]==\"^\":\n",
    "                    trueDP[i][j]+=(leftTrue*rightFalse)+(leftFalse*rightTrue)\n",
    "                    falseDP[i][j]+=(leftTrue*rightTrue)+(leftFalse*rightFalse)\n",
    "    \n",
    "    return trueDP[0][N - 1]\n",
    "\n",
    "if __name__ == '__main__':\n",
    "    N = 7\n",
    "    S = \"T|T&F^T\"\n",
    "    print(countWays(N, S))\n",
    "    \n",
    "    N = 5\n",
    "    S = \"T^F|F\"\n",
    "    print(countWays(N, S))\n"
   ]
  },
  {
   "cell_type": "code",
   "execution_count": null,
   "metadata": {},
   "outputs": [
    {
     "name": "stdout",
     "output_type": "stream",
     "text": [
      "0\n"
     ]
    }
   ],
   "source": []
  }
 ],
 "metadata": {
  "kernelspec": {
   "display_name": "myenv",
   "language": "python",
   "name": "python3"
  },
  "language_info": {
   "codemirror_mode": {
    "name": "ipython",
    "version": 3
   },
   "file_extension": ".py",
   "mimetype": "text/x-python",
   "name": "python",
   "nbconvert_exporter": "python",
   "pygments_lexer": "ipython3",
   "version": "3.12.3"
  }
 },
 "nbformat": 4,
 "nbformat_minor": 2
}
