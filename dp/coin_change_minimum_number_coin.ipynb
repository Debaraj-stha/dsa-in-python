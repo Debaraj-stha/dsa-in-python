{
 "cells": [
  {
   "cell_type": "code",
   "execution_count": null,
   "metadata": {},
   "outputs": [
    {
     "name": "stdout",
     "output_type": "stream",
     "text": [
      "-1\n"
     ]
    }
   ],
   "source": [
    "def coin_change(coin, target):\n",
    "    n = len(coin)\n",
    "    dp = [[float(\"inf\")] * (target + 1) for _ in range(n + 1)]\n",
    "    for i in range(n + 1):\n",
    "        dp[i][0] = 0\n",
    "\n",
    "    for i in range(1, n + 1):\n",
    "        for j in range(1, target + 1):\n",
    "            if coin[i - 1] <= j:\n",
    "                dp[i][j] = min(dp[i - 1][j], 1 + dp[i][j - coin[i - 1]])\n",
    "            else:\n",
    "                dp[i][j] = dp[i - 1][j]\n",
    "\n",
    "    return dp[n][target] if dp[n][target] != float(\"inf\") else -1\n",
    "\n",
    "coin = [1, 2, 3]\n",
    "target = 5\n",
    "print(coin_change(coin, target))  # Output: 2 (2+3 or 1+1+3)\n"
   ]
  }
 ],
 "metadata": {
  "kernelspec": {
   "display_name": "myenv",
   "language": "python",
   "name": "python3"
  },
  "language_info": {
   "codemirror_mode": {
    "name": "ipython",
    "version": 3
   },
   "file_extension": ".py",
   "mimetype": "text/x-python",
   "name": "python",
   "nbconvert_exporter": "python",
   "pygments_lexer": "ipython3",
   "version": "3.12.3"
  }
 },
 "nbformat": 4,
 "nbformat_minor": 2
}
