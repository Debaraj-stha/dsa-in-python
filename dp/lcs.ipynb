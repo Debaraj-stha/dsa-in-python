{
 "cells": [
  {
   "cell_type": "code",
   "execution_count": 37,
   "metadata": {},
   "outputs": [
    {
     "data": {
      "text/plain": [
       "4"
      ]
     },
     "execution_count": 37,
     "metadata": {},
     "output_type": "execute_result"
    }
   ],
   "source": [
    "def lcsRecursive(x,y,n,m):\n",
    "    if n==0 or m==0:\n",
    "        return 0\n",
    "    if x[n-1]==y[m-1]:\n",
    "        return 1+lcsRecursive(x,y,n-1,m-1)\n",
    "    else:\n",
    "        return max(lcsRecursive(x,y,n-1,m),lcsRecursive(x,y,n,m-1))\n",
    "x=\"abcdgh\"\n",
    "y=\"abedfhr\"\n",
    "lcsRecursive(x,y,len(x),len(y))\n"
   ]
  },
  {
   "cell_type": "code",
   "execution_count": 38,
   "metadata": {},
   "outputs": [
    {
     "data": {
      "text/plain": [
       "4"
      ]
     },
     "execution_count": 38,
     "metadata": {},
     "output_type": "execute_result"
    }
   ],
   "source": [
    "def lcsMemoization(x,y,n,m):\n",
    "    if n==0 or m==0:\n",
    "        return 0\n",
    "    if dp[n][m]!=-1:\n",
    "        return dp[n][m]\n",
    "    if x[n-1]==y[m-1]:\n",
    "        dp[n][m]=1+lcsMemoization(x,y,n-1,m-1)\n",
    "    else:\n",
    "        dp[n][m]=max(lcsMemoization(x,y,n-1,m),lcsMemoization(x,y,n,m-1))\n",
    "    return dp[n][m]\n",
    "    \n",
    "x=\"abcdgh\"\n",
    "y=\"abedfhr\"\n",
    "dp=[[-1]*(len(y)+1) for _ in range(len(x)+1)]\n",
    "lcsMemoization(x,y,len(x),len(y))\n",
    "dp[len(x)][len(y)]"
   ]
  },
  {
   "cell_type": "code",
   "execution_count": 1,
   "metadata": {},
   "outputs": [
    {
     "data": {
      "text/plain": [
       "(4, 'abdh')"
      ]
     },
     "execution_count": 1,
     "metadata": {},
     "output_type": "execute_result"
    }
   ],
   "source": [
    "def lcmDP(x,y,n,m):\n",
    "    dp=[[0]*(m+1) for _ in range(n+1)]\n",
    "    for i in range(n+1):\n",
    "        dp[i][0]=0\n",
    "    for  i in range(1,n+1):\n",
    "        for j in range(1,m+1):\n",
    "            if x[i-1]==y[j-1]:\n",
    "                dp[i][j]=1+dp[i-1][j-1]\n",
    "            else:\n",
    "                dp[i][j]=max(dp[i-1][j],dp[i][j-1])\n",
    "    if dp[n][m]!=-1:\n",
    "        i,j=n,m\n",
    "        res=[]\n",
    "        while i>0 and j>0:\n",
    "            if x[i-1]==y[j-1]:\n",
    "                res.append(x[i-1])\n",
    "                i-=1\n",
    "                j-=1\n",
    "            elif dp[i-1][j] > dp[i][j-1]:  # Move up if the top value is greater\n",
    "                i -= 1\n",
    "            else:  # Move left if left value is greater\n",
    "                j -= 1\n",
    "\n",
    "        return  dp[n][m],''.join(res[::-1])\n",
    "    else:\n",
    "        return dp[n][m], \"No common subsequence found\"\n",
    "\n",
    "\n",
    "x=\"abcdgh\"\n",
    "y=\"abedfhr\"\n",
    "lcmDP(x,y,len(x),len(y))"
   ]
  }
 ],
 "metadata": {
  "kernelspec": {
   "display_name": "myenv",
   "language": "python",
   "name": "python3"
  },
  "language_info": {
   "codemirror_mode": {
    "name": "ipython",
    "version": 3
   },
   "file_extension": ".py",
   "mimetype": "text/x-python",
   "name": "python",
   "nbconvert_exporter": "python",
   "pygments_lexer": "ipython3",
   "version": "3.12.3"
  }
 },
 "nbformat": 4,
 "nbformat_minor": 2
}
