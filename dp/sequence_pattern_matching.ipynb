{
 "cells": [
  {
   "cell_type": "code",
   "execution_count": 35,
   "metadata": {},
   "outputs": [
    {
     "name": "stdout",
     "output_type": "stream",
     "text": [
      "3\n"
     ]
    }
   ],
   "source": [
    "def lcs(x,y,n,m):\n",
    "    dp=[[0]*(m+1) for _ in range(n+1)]\n",
    "    for i in range(n+1):\n",
    "        dp[i][0]=0\n",
    "    for  i in range(1,n+1):\n",
    "        for j in range(1,m+1):\n",
    "            if x[i-1]==y[j-1]:\n",
    "                dp[i][j]=1+dp[i-1][j-1]\n",
    "            else:\n",
    "                dp[i][j]=max(dp[i-1][j],dp[i][j-1])\n",
    "\n",
    "    return dp[n][m]\n",
    "def sequence_pattern(x,y,n,m):\n",
    "    return len(y)==lcs(x,y,n,m)\n",
    "\n",
    "\n",
    "# x = \"abefcdgh\"\n",
    "# y = \"abcd\"\n",
    "# n = len(x)\n",
    "# m = len(y)\n",
    "# print(sequence_pattern(x, y, n, m))\n",
    "a=\"AXY\"\n",
    "b=\"ADXCPY\"\n",
    "n=len(a)\n",
    "m=len(b)\n",
    "print(lcs(b,a,m,n))"
   ]
  }
 ],
 "metadata": {
  "kernelspec": {
   "display_name": "myenv",
   "language": "python",
   "name": "python3"
  },
  "language_info": {
   "codemirror_mode": {
    "name": "ipython",
    "version": 3
   },
   "file_extension": ".py",
   "mimetype": "text/x-python",
   "name": "python",
   "nbconvert_exporter": "python",
   "pygments_lexer": "ipython3",
   "version": "3.12.3"
  }
 },
 "nbformat": 4,
 "nbformat_minor": 2
}
