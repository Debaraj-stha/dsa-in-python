{
 "cells": [
  {
   "cell_type": "code",
   "execution_count": 5,
   "metadata": {},
   "outputs": [
    {
     "name": "stdout",
     "output_type": "stream",
     "text": [
      "4\n"
     ]
    }
   ],
   "source": [
    "from collections import deque\n",
    "\n",
    "def shortestPath(grid, k):\n",
    "    m, n = len(grid), len(grid[0])\n",
    "    \n",
    "    # If start or end are blocked and no obstacles can be removed\n",
    "    if grid[0][0] == 1 and k == 0:\n",
    "        return -1\n",
    "    if grid[m-1][n-1] == 1 and k == 0:\n",
    "        return -1\n",
    "    \n",
    "    # Queue for BFS: stores tuples (x, y, remaining_obstacles, steps)\n",
    "    queue = deque([(0, 0, k, 0)])\n",
    "    \n",
    "    # 3D visited array: visited[x][y][remaining_obstacles]\n",
    "    visited = [[[False] * (k + 1) for _ in range(n)] for _ in range(m)]\n",
    "    visited[0][0][k] = True\n",
    "    \n",
    "    # Directions to move in the grid: right, left, down, up\n",
    "    directions = [(0, 1), (0, -1), (1, 0), (-1, 0)]\n",
    "    \n",
    "    # BFS traversal\n",
    "    while queue:\n",
    "        x, y, remaining_obstacles, steps = queue.popleft()\n",
    "        \n",
    "        # If we reached the bottom-right corner\n",
    "        if x == m - 1 and y == n - 1:\n",
    "            return steps\n",
    "        \n",
    "        # Explore all 4 directions\n",
    "        for dx, dy in directions:\n",
    "            nx, ny = x + dx, y + dy\n",
    "            \n",
    "            # Check if the new position is within the grid bounds\n",
    "            if 0 <= nx < m and 0 <= ny < n:\n",
    "                # If it's an obstacle, we can remove it only if remaining_obstacles > 0\n",
    "                if grid[nx][ny] == 1 and remaining_obstacles > 0 and not visited[nx][ny][remaining_obstacles - 1]:\n",
    "                    visited[nx][ny][remaining_obstacles - 1] = True\n",
    "                    queue.append((nx, ny, remaining_obstacles - 1, steps + 1))\n",
    "                \n",
    "                # If it's not an obstacle, just move\n",
    "                elif grid[nx][ny] == 0 and not visited[nx][ny][remaining_obstacles]:\n",
    "                    visited[nx][ny][remaining_obstacles] = True\n",
    "                    queue.append((nx, ny, remaining_obstacles, steps + 1))\n",
    "    \n",
    "    # If we finish BFS without reaching the destination, return -1\n",
    "    return -1\n",
    "\n",
    "\n",
    "grid = [\n",
    "    [0, 1, 0],\n",
    "    [0, 1, 0],\n",
    "    [0, 0, 0]\n",
    "]\n",
    "k = 1\n",
    "print(shortestPath(grid, k))  # Output: 4\n",
    "\n"
   ]
  }
 ],
 "metadata": {
  "kernelspec": {
   "display_name": "myenv",
   "language": "python",
   "name": "python3"
  },
  "language_info": {
   "codemirror_mode": {
    "name": "ipython",
    "version": 3
   },
   "file_extension": ".py",
   "mimetype": "text/x-python",
   "name": "python",
   "nbconvert_exporter": "python",
   "pygments_lexer": "ipython3",
   "version": "3.12.3"
  }
 },
 "nbformat": 4,
 "nbformat_minor": 2
}
