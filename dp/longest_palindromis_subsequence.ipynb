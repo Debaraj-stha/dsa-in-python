{
 "cells": [
  {
   "cell_type": "code",
   "execution_count": null,
   "metadata": {},
   "outputs": [
    {
     "ename": "TypeError",
     "evalue": "unsupported operand type(s) for +: 'NoneType' and 'NoneType'",
     "output_type": "error",
     "traceback": [
      "\u001b[0;31m---------------------------------------------------------------------------\u001b[0m",
      "\u001b[0;31mTypeError\u001b[0m                                 Traceback (most recent call last)",
      "Cell \u001b[0;32mIn[5], line 20\u001b[0m\n\u001b[1;32m     18\u001b[0m     backtrack(\u001b[38;5;241m0\u001b[39m, [])\n\u001b[1;32m     19\u001b[0m     \u001b[38;5;28;01mreturn\u001b[39;00m res\n\u001b[0;32m---> 20\u001b[0m \u001b[43mpalindrome\u001b[49m\u001b[43m(\u001b[49m\u001b[38;5;124;43m\"\u001b[39;49m\u001b[38;5;124;43mracecar\u001b[39;49m\u001b[38;5;124;43m\"\u001b[39;49m\u001b[43m)\u001b[49m\n",
      "Cell \u001b[0;32mIn[5], line 18\u001b[0m, in \u001b[0;36mpalindrome\u001b[0;34m(s)\u001b[0m\n\u001b[1;32m     11\u001b[0m     \u001b[38;5;28;01mreturn\u001b[39;00m backtrack(i\u001b[38;5;241m+\u001b[39m\u001b[38;5;241m1\u001b[39m,current)\u001b[38;5;241m+\u001b[39m  backtrack(i\u001b[38;5;241m+\u001b[39m\u001b[38;5;241m1\u001b[39m,current\u001b[38;5;241m+\u001b[39m[s[i]])\n\u001b[1;32m     12\u001b[0m     \u001b[38;5;66;03m# for index in range(i,len(s)):\u001b[39;00m\n\u001b[1;32m     13\u001b[0m     \u001b[38;5;66;03m#     w=s[i:index+1]\u001b[39;00m\n\u001b[1;32m     14\u001b[0m     \u001b[38;5;66;03m#     if is_palindrome(w):\u001b[39;00m\n\u001b[1;32m     15\u001b[0m     \u001b[38;5;66;03m#         current.append(w)\u001b[39;00m\n\u001b[1;32m     16\u001b[0m     \u001b[38;5;66;03m#         backtrack(index+1,current)\u001b[39;00m\n\u001b[1;32m     17\u001b[0m     \u001b[38;5;66;03m#         current.pop()\u001b[39;00m\n\u001b[0;32m---> 18\u001b[0m \u001b[43mbacktrack\u001b[49m\u001b[43m(\u001b[49m\u001b[38;5;241;43m0\u001b[39;49m\u001b[43m,\u001b[49m\u001b[43m \u001b[49m\u001b[43m[\u001b[49m\u001b[43m]\u001b[49m\u001b[43m)\u001b[49m\n\u001b[1;32m     19\u001b[0m \u001b[38;5;28;01mreturn\u001b[39;00m res\n",
      "Cell \u001b[0;32mIn[5], line 11\u001b[0m, in \u001b[0;36mpalindrome.<locals>.backtrack\u001b[0;34m(i, current)\u001b[0m\n\u001b[1;32m      9\u001b[0m \u001b[38;5;28;01mif\u001b[39;00m i\u001b[38;5;241m>\u001b[39m\u001b[38;5;241m=\u001b[39m\u001b[38;5;28mlen\u001b[39m(s):\n\u001b[1;32m     10\u001b[0m     \u001b[38;5;28;01mreturn\u001b[39;00m\n\u001b[0;32m---> 11\u001b[0m \u001b[38;5;28;01mreturn\u001b[39;00m \u001b[43mbacktrack\u001b[49m\u001b[43m(\u001b[49m\u001b[43mi\u001b[49m\u001b[38;5;241;43m+\u001b[39;49m\u001b[38;5;241;43m1\u001b[39;49m\u001b[43m,\u001b[49m\u001b[43mcurrent\u001b[49m\u001b[43m)\u001b[49m\u001b[38;5;241m+\u001b[39m  backtrack(i\u001b[38;5;241m+\u001b[39m\u001b[38;5;241m1\u001b[39m,current\u001b[38;5;241m+\u001b[39m[s[i]])\n",
      "Cell \u001b[0;32mIn[5], line 11\u001b[0m, in \u001b[0;36mpalindrome.<locals>.backtrack\u001b[0;34m(i, current)\u001b[0m\n\u001b[1;32m      9\u001b[0m \u001b[38;5;28;01mif\u001b[39;00m i\u001b[38;5;241m>\u001b[39m\u001b[38;5;241m=\u001b[39m\u001b[38;5;28mlen\u001b[39m(s):\n\u001b[1;32m     10\u001b[0m     \u001b[38;5;28;01mreturn\u001b[39;00m\n\u001b[0;32m---> 11\u001b[0m \u001b[38;5;28;01mreturn\u001b[39;00m \u001b[43mbacktrack\u001b[49m\u001b[43m(\u001b[49m\u001b[43mi\u001b[49m\u001b[38;5;241;43m+\u001b[39;49m\u001b[38;5;241;43m1\u001b[39;49m\u001b[43m,\u001b[49m\u001b[43mcurrent\u001b[49m\u001b[43m)\u001b[49m\u001b[38;5;241m+\u001b[39m  backtrack(i\u001b[38;5;241m+\u001b[39m\u001b[38;5;241m1\u001b[39m,current\u001b[38;5;241m+\u001b[39m[s[i]])\n",
      "    \u001b[0;31m[... skipping similar frames: palindrome.<locals>.backtrack at line 11 (4 times)]\u001b[0m\n",
      "Cell \u001b[0;32mIn[5], line 11\u001b[0m, in \u001b[0;36mpalindrome.<locals>.backtrack\u001b[0;34m(i, current)\u001b[0m\n\u001b[1;32m      9\u001b[0m \u001b[38;5;28;01mif\u001b[39;00m i\u001b[38;5;241m>\u001b[39m\u001b[38;5;241m=\u001b[39m\u001b[38;5;28mlen\u001b[39m(s):\n\u001b[1;32m     10\u001b[0m     \u001b[38;5;28;01mreturn\u001b[39;00m\n\u001b[0;32m---> 11\u001b[0m \u001b[38;5;28;01mreturn\u001b[39;00m \u001b[43mbacktrack\u001b[49m\u001b[43m(\u001b[49m\u001b[43mi\u001b[49m\u001b[38;5;241;43m+\u001b[39;49m\u001b[38;5;241;43m1\u001b[39;49m\u001b[43m,\u001b[49m\u001b[43mcurrent\u001b[49m\u001b[43m)\u001b[49m\u001b[38;5;241;43m+\u001b[39;49m\u001b[43m  \u001b[49m\u001b[43mbacktrack\u001b[49m\u001b[43m(\u001b[49m\u001b[43mi\u001b[49m\u001b[38;5;241;43m+\u001b[39;49m\u001b[38;5;241;43m1\u001b[39;49m\u001b[43m,\u001b[49m\u001b[43mcurrent\u001b[49m\u001b[38;5;241;43m+\u001b[39;49m\u001b[43m[\u001b[49m\u001b[43ms\u001b[49m\u001b[43m[\u001b[49m\u001b[43mi\u001b[49m\u001b[43m]\u001b[49m\u001b[43m]\u001b[49m\u001b[43m)\u001b[49m\n",
      "\u001b[0;31mTypeError\u001b[0m: unsupported operand type(s) for +: 'NoneType' and 'NoneType'"
     ]
    }
   ],
   "source": [
    "def is_palindrome(s):\n",
    "    return s==s[::-1]\n",
    "def palindrome(s):\n",
    "    res=[]\n",
    "    def backtrack(i,current):\n",
    "        if i==len(s):\n",
    "            res.append(current[:])\n",
    "            return\n",
    "        if i>=len(s):\n",
    "            return\n",
    "        backtrack(i+1,current)\n",
    "        backtrack(i+1,current+[s[i]])\n",
    "        # for index in range(i,len(s)):\n",
    "        #     w=s[i:index+1]\n",
    "        #     if is_palindrome(w):\n",
    "        #         current.append(w)\n",
    "        #         backtrack(index+1,current)\n",
    "        #         current.pop()\n",
    "    backtrack(0, [])\n",
    "    return res\n",
    "palindrome(\"racecar\")"
   ]
  },
  {
   "cell_type": "code",
   "execution_count": 8,
   "metadata": {},
   "outputs": [
    {
     "data": {
      "text/plain": [
       "'abcbga'"
      ]
     },
     "execution_count": 8,
     "metadata": {},
     "output_type": "execute_result"
    }
   ],
   "source": [
    "a=\"agbcba\"\n",
    "\"\".join(list(reversed(a)))\n"
   ]
  },
  {
   "cell_type": "code",
   "execution_count": 9,
   "metadata": {},
   "outputs": [
    {
     "data": {
      "text/plain": [
       "3"
      ]
     },
     "execution_count": 9,
     "metadata": {},
     "output_type": "execute_result"
    }
   ],
   "source": [
    "def longestPalindromicSubsequence(a,n):\n",
    "    b=\"\".join(list(reversed(a)))\n",
    "    m=n\n",
    "    dp=[[0]*(m+1) for _ in range(n+1)]\n",
    "    if n==0:\n",
    "        return 0\n",
    "    for i in range(1,n+1):\n",
    "        for j in range(1,m+1):\n",
    "            if a[i-1]==b[j-1]:\n",
    "                dp[i][j]=dp[i-1][j-1]+1\n",
    "            else:\n",
    "                dp[i][j]=max(dp[i-1][j],dp[i][j-1])\n",
    "    return dp[n][m]\n",
    "a=\"abcab\"\n",
    "n=len(a)\n",
    "longestPalindromicSubsequence(a,n)\n",
    "\n"
   ]
  },
  {
   "cell_type": "code",
   "execution_count": null,
   "metadata": {},
   "outputs": [],
   "source": []
  }
 ],
 "metadata": {
  "kernelspec": {
   "display_name": "myenv",
   "language": "python",
   "name": "python3"
  },
  "language_info": {
   "codemirror_mode": {
    "name": "ipython",
    "version": 3
   },
   "file_extension": ".py",
   "mimetype": "text/x-python",
   "name": "python",
   "nbconvert_exporter": "python",
   "pygments_lexer": "ipython3",
   "version": "3.12.3"
  }
 },
 "nbformat": 4,
 "nbformat_minor": 2
}
