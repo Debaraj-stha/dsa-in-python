{
 "cells": [
  {
   "cell_type": "code",
   "execution_count": 7,
   "metadata": {},
   "outputs": [
    {
     "data": {
      "text/plain": [
       "[['r', 'a', 'c', 'e', 'c', 'a', 'r'],\n",
       " ['r', 'a', 'cec', 'a', 'r'],\n",
       " ['r', 'aceca', 'r'],\n",
       " ['racecar']]"
      ]
     },
     "execution_count": 7,
     "metadata": {},
     "output_type": "execute_result"
    }
   ],
   "source": [
    "def is_palindrome(s):\n",
    "    return s==s[::-1]\n",
    "def palindrome(s):\n",
    "    res=[]\n",
    "    def backtrack(i,current):\n",
    "        if i==len(s):\n",
    "            res.append(current[:])\n",
    "            return\n",
    "        for index in range(i,len(s)):\n",
    "            w=s[i:index+1]\n",
    "            if is_palindrome(w):\n",
    "                current.append(w)\n",
    "                backtrack(index+1,current)\n",
    "                current.pop()\n",
    "    backtrack(0, [])\n",
    "    return res\n",
    "palindrome(\"racecar\")"
   ]
  },
  {
   "cell_type": "code",
   "execution_count": 8,
   "metadata": {},
   "outputs": [
    {
     "data": {
      "text/plain": [
       "'abcbga'"
      ]
     },
     "execution_count": 8,
     "metadata": {},
     "output_type": "execute_result"
    }
   ],
   "source": [
    "a=\"agbcba\"\n",
    "\"\".join(list(reversed(a)))\n"
   ]
  },
  {
   "cell_type": "code",
   "execution_count": 9,
   "metadata": {},
   "outputs": [
    {
     "data": {
      "text/plain": [
       "3"
      ]
     },
     "execution_count": 9,
     "metadata": {},
     "output_type": "execute_result"
    }
   ],
   "source": [
    "def longestPalindromicSubsequence(a,n):\n",
    "    b=\"\".join(list(reversed(a)))\n",
    "    m=n\n",
    "    dp=[[0]*(m+1) for _ in range(n+1)]\n",
    "    if n==0:\n",
    "        return 0\n",
    "    for i in range(1,n+1):\n",
    "        for j in range(1,m+1):\n",
    "            if a[i-1]==b[j-1]:\n",
    "                dp[i][j]=dp[i-1][j-1]+1\n",
    "            else:\n",
    "                dp[i][j]=max(dp[i-1][j],dp[i][j-1])\n",
    "    return dp[n][m]\n",
    "a=\"abcab\"\n",
    "n=len(a)\n",
    "longestPalindromicSubsequence(a,n)\n",
    "\n"
   ]
  }
 ],
 "metadata": {
  "kernelspec": {
   "display_name": "myenv",
   "language": "python",
   "name": "python3"
  },
  "language_info": {
   "codemirror_mode": {
    "name": "ipython",
    "version": 3
   },
   "file_extension": ".py",
   "mimetype": "text/x-python",
   "name": "python",
   "nbconvert_exporter": "python",
   "pygments_lexer": "ipython3",
   "version": "3.12.3"
  }
 },
 "nbformat": 4,
 "nbformat_minor": 2
}
