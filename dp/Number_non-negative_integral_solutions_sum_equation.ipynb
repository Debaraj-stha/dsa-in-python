{
 "cells": [
  {
   "cell_type": "code",
   "execution_count": 15,
   "metadata": {},
   "outputs": [
    {
     "name": "stdout",
     "output_type": "stream",
     "text": [
      "15\n"
     ]
    }
   ],
   "source": [
    "def countWays(n, val, dp):\n",
    "    if n == 1 and val >= 0:\n",
    "        return 1 \n",
    "    \n",
    "    if dp[val][n] != -1: \n",
    "        return dp[val][n]\n",
    "\n",
    "    total = 0\n",
    "    for i in range(val + 1):\n",
    "        total += countWays(n - 1, val - i, dp)\n",
    "\n",
    "    dp[val][n] = total\n",
    "    return total\n",
    "\n",
    "n = 3\n",
    "val = 4\n",
    "dp = [[-1] * (n + 1) for _ in range(val + 1)]  # Create DP table\n",
    "\n",
    "print(countWays(n, val, dp))  # Output: 15\n"
   ]
  },
  {
   "cell_type": "code",
   "execution_count": 1,
   "metadata": {},
   "outputs": [
    {
     "name": "stdout",
     "output_type": "stream",
     "text": [
      "[[1, 0, 0, 0, 0], [1, 1, 1, 1, 1], [1, 2, 0, 0, 0], [1, 0, 0, 0, 0]]\n"
     ]
    },
    {
     "data": {
      "text/plain": [
       "3"
      ]
     },
     "execution_count": 1,
     "metadata": {},
     "output_type": "execute_result"
    }
   ],
   "source": [
    "def countWays(val,n):\n",
    "    dp=[[0] * (val + 1) for _ in range(n+1)]\n",
    "    #1 way to form sum 0 with any n (all zeros)\n",
    "    for  i in range(n+1):\n",
    "        dp[i][0] = 1\n",
    "\n",
    "    for i in range(1, n+1):\n",
    "        for j in range(val+1):\n",
    "            dp[i][j]=dp[i-1][j] #not using current number\n",
    "            if j>0:\n",
    "                dp[i][j]+=dp[i][j-1] #using atleast one of current number\n",
    "            if i==2 and j==1:\n",
    "                print(dp)\n",
    "                break\n",
    "    return dp[n][val]\n",
    "countWays(4,3)"
   ]
  }
 ],
 "metadata": {
  "kernelspec": {
   "display_name": "myenv",
   "language": "python",
   "name": "python3"
  },
  "language_info": {
   "codemirror_mode": {
    "name": "ipython",
    "version": 3
   },
   "file_extension": ".py",
   "mimetype": "text/x-python",
   "name": "python",
   "nbconvert_exporter": "python",
   "pygments_lexer": "ipython3",
   "version": "3.12.3"
  }
 },
 "nbformat": 4,
 "nbformat_minor": 2
}
