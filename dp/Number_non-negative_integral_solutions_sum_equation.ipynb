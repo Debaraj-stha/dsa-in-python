{
 "cells": [
  {
   "cell_type": "code",
   "execution_count": 15,
   "metadata": {},
   "outputs": [
    {
     "name": "stdout",
     "output_type": "stream",
     "text": [
      "15\n"
     ]
    }
   ],
   "source": [
    "def countWays(n, val, dp):\n",
    "    if n == 1 and val >= 0:\n",
    "        return 1 \n",
    "    \n",
    "    if dp[val][n] != -1: \n",
    "        return dp[val][n]\n",
    "\n",
    "    total = 0\n",
    "    for i in range(val + 1):\n",
    "        total += countWays(n - 1, val - i, dp)\n",
    "\n",
    "    dp[val][n] = total\n",
    "    return total\n",
    "\n",
    "n = 3\n",
    "val = 4\n",
    "dp = [[-1] * (n + 1) for _ in range(val + 1)]  # Create DP table\n",
    "\n",
    "print(countWays(n, val, dp))  # Output: 15\n"
   ]
  }
 ],
 "metadata": {
  "kernelspec": {
   "display_name": "myenv",
   "language": "python",
   "name": "python3"
  },
  "language_info": {
   "codemirror_mode": {
    "name": "ipython",
    "version": 3
   },
   "file_extension": ".py",
   "mimetype": "text/x-python",
   "name": "python",
   "nbconvert_exporter": "python",
   "pygments_lexer": "ipython3",
   "version": "3.12.3"
  }
 },
 "nbformat": 4,
 "nbformat_minor": 2
}
