{
 "cells": [
  {
   "cell_type": "code",
   "execution_count": 4,
   "metadata": {},
   "outputs": [
    {
     "data": {
      "text/plain": [
       "4"
      ]
     },
     "execution_count": 4,
     "metadata": {},
     "output_type": "execute_result"
    }
   ],
   "source": [
    "from collections import deque\n",
    "def shortest_path(grid):\n",
    "    rows,cols=len(grid),len(grid[0])\n",
    "    if grid[0][0]==1 or grid[-1][-1]==1:\n",
    "        return -1\n",
    "    directions=\"DLRU\"\n",
    "    dr=[1,0,0,-1]\n",
    "    dc=[0,-1,1,0]\n",
    "    visited=[[False]*(cols+1) for _ in    range(rows+1)]\n",
    "    queue=deque([(0,0,0)])\n",
    "    visited[0][0]=True\n",
    "    while queue:\n",
    "        row,col,step=queue.popleft()\n",
    "        if row==rows-1 and col==cols-1:\n",
    "            return step\n",
    "        for i in range(4):\n",
    "            new_row,new_col=row+dr[i],col+dc[i]\n",
    "            if 0<=new_row<rows and 0<=new_col<cols:\n",
    "                if not visited[new_row][new_col] and grid[new_row][new_col]==0:\n",
    "                    visited[new_row][new_col]=True\n",
    "                    queue.append((new_row,new_col,step+1))\n",
    "    return -1\n",
    "grid = [\n",
    "    [0, 0,0],\n",
    "    [0, 0,0],\n",
    "    [0, 0, 0]\n",
    "]\n",
    "shortest_path(grid)"
   ]
  }
 ],
 "metadata": {
  "kernelspec": {
   "display_name": "myenv",
   "language": "python",
   "name": "python3"
  },
  "language_info": {
   "codemirror_mode": {
    "name": "ipython",
    "version": 3
   },
   "file_extension": ".py",
   "mimetype": "text/x-python",
   "name": "python",
   "nbconvert_exporter": "python",
   "pygments_lexer": "ipython3",
   "version": "3.12.3"
  }
 },
 "nbformat": 4,
 "nbformat_minor": 2
}
