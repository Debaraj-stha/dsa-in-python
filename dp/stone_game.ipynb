{
 "cells": [
  {
   "cell_type": "code",
   "execution_count": 1,
   "metadata": {},
   "outputs": [
    {
     "name": "stdout",
     "output_type": "stream",
     "text": [
      "True\n"
     ]
    }
   ],
   "source": [
    "def stone_game(piles):\n",
    "    # A simple dynamic programming approach to simulate the optimal plays\n",
    "    n = len(piles)\n",
    "    dp = [[0] * n for _ in range(n)]  # dp[i][j] stores the maximum stones the current player can get from piles i to j\n",
    "\n",
    "    # Base case: When there's only one pile left, the player takes it\n",
    "    for i in range(n):\n",
    "        dp[i][i] = piles[i]\n",
    "\n",
    "    # Fill the DP table for cases with more than one pile\n",
    "    for length in range(2, n + 1):\n",
    "        for i in range(n - length + 1):\n",
    "            j = i + length - 1\n",
    "            dp[i][j] = max(piles[i] - dp[i + 1][j], piles[j] - dp[i][j - 1])\n",
    "\n",
    "    # If the first player can get more than half of the total stones, they win\n",
    "    return dp[0][n - 1] > 0\n",
    "\n",
    "# Example usage:\n",
    "piles = [5, 3, 4, 5]\n",
    "print(stone_game(piles))  # Output: True (First player can win)\n"
   ]
  }
 ],
 "metadata": {
  "kernelspec": {
   "display_name": "myenv",
   "language": "python",
   "name": "python3"
  },
  "language_info": {
   "codemirror_mode": {
    "name": "ipython",
    "version": 3
   },
   "file_extension": ".py",
   "mimetype": "text/x-python",
   "name": "python",
   "nbconvert_exporter": "python",
   "pygments_lexer": "ipython3",
   "version": "3.12.3"
  }
 },
 "nbformat": 4,
 "nbformat_minor": 2
}
