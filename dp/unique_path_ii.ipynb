{
 "cells": [
  {
   "cell_type": "code",
   "execution_count": null,
   "metadata": {},
   "outputs": [
    {
     "name": "stdout",
     "output_type": "stream",
     "text": [
      "2\n"
     ]
    }
   ],
   "source": [
    "def unique_path_ii(grid):\n",
    "    rows = len(grid)\n",
    "    cols = len(grid[0])  \n",
    "    \n",
    "    # Create a 2D dp array with all values initialized to 0\n",
    "    dp = [[0] * cols for _ in range(rows)]\n",
    "    \n",
    "    # If starting point is not blocked, set dp[0][0] = 1\n",
    "    if grid[0][0] == 0:\n",
    "        dp[0][0] = 1\n",
    "    \n",
    "    # Fill the first row (can only come from left)\n",
    "    for col in range(1, cols):\n",
    "        if grid[0][col] == 0:\n",
    "            dp[0][col] = dp[0][col - 1]\n",
    "    \n",
    "    # Fill the first column (can only come from above)\n",
    "    for row in range(1, rows):\n",
    "        if grid[row][0] == 0:\n",
    "            dp[row][0] = dp[row - 1][0]\n",
    "    \n",
    "    # Fill the rest of the dp table\n",
    "    for row in range(1, rows):\n",
    "        for col in range(1, cols):\n",
    "            if grid[row][col] == 0:  # If no obstacle\n",
    "                dp[row][col] = dp[row - 1][col] + dp[row][col - 1]\n",
    "    \n",
    "    \n",
    "    return dp[rows - 1][cols - 1]\n",
    "\n",
    "\n",
    "grid = [\n",
    "  [0, 0, 0],\n",
    "  [0, 1, 0],\n",
    "  [0, 0, 0]\n",
    "]\n",
    "print(unique_path_ii(grid))  # Expected Output: 2\n"
   ]
  }
 ],
 "metadata": {
  "kernelspec": {
   "display_name": "myenv",
   "language": "python",
   "name": "python3"
  },
  "language_info": {
   "codemirror_mode": {
    "name": "ipython",
    "version": 3
   },
   "file_extension": ".py",
   "mimetype": "text/x-python",
   "name": "python",
   "nbconvert_exporter": "python",
   "pygments_lexer": "ipython3",
   "version": "3.12.3"
  }
 },
 "nbformat": 4,
 "nbformat_minor": 2
}
