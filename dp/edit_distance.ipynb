{
 "cells": [
  {
   "cell_type": "code",
   "execution_count": 26,
   "metadata": {},
   "outputs": [
    {
     "data": {
      "text/plain": [
       "'\\nInput: word1 = \"horse\", word2 = \"ros\"  \\nOutput: 3  \\nExplanation: Transform \"horse\" → \"ros\" with (delete \\'h\\', replace \\'r\\' with \\'o\\', delete \\'e\\').\\n'"
      ]
     },
     "execution_count": 26,
     "metadata": {},
     "output_type": "execute_result"
    }
   ],
   "source": [
    "\"\"\"\n",
    "Input: word1 = \"horse\", word2 = \"ros\"  \n",
    "Output: 3  \n",
    "Explanation: Transform \"horse\" → \"ros\" with (delete 'h', replace 'r' with 'o', delete 'e').\n",
    "\"\"\""
   ]
  },
  {
   "cell_type": "code",
   "execution_count": 29,
   "metadata": {},
   "outputs": [
    {
     "name": "stdout",
     "output_type": "stream",
     "text": [
      "3\n"
     ]
    }
   ],
   "source": [
    "def edit_distance(word1, word2):\n",
    "    n1 = len(word1)\n",
    "    n2 = len(word2)\n",
    "    dp = [[0] * (n2 + 1) for _ in range(n1 + 1)]\n",
    "    \n",
    "    for i in range(n1 + 1):\n",
    "        dp[i][0] = i  # Deleting all characters from word1\n",
    "    for j in range(n2 + 1):\n",
    "        dp[0][j] = j  # Inserting all characters into word1\n",
    "    for i in range(1, n1 + 1):\n",
    "        for j in range(1, n2 + 1):\n",
    "            if word1[i - 1] == word2[j - 1]:  # Characters match, no cost\n",
    "                dp[i][j] = dp[i - 1][j - 1]\n",
    "            else:\n",
    "                dp[i][j] = 1 + min(\n",
    "                    dp[i - 1][j - 1],  # Replace\n",
    "                    dp[i - 1][j],      # Delete\n",
    "                    dp[i][j - 1]       # Insert\n",
    "                )\n",
    "\n",
    "    return dp[n1][n2]\n",
    "\n",
    "word1 = \"horse\"\n",
    "word2 = \"ros\"\n",
    "print(edit_distance(word1, word2))  # Output: 3\n"
   ]
  },
  {
   "cell_type": "code",
   "execution_count": null,
   "metadata": {},
   "outputs": [],
   "source": []
  }
 ],
 "metadata": {
  "kernelspec": {
   "display_name": "env",
   "language": "python",
   "name": "python3"
  },
  "language_info": {
   "codemirror_mode": {
    "name": "ipython",
    "version": 3
   },
   "file_extension": ".py",
   "mimetype": "text/x-python",
   "name": "python",
   "nbconvert_exporter": "python",
   "pygments_lexer": "ipython3",
   "version": "3.12.3"
  }
 },
 "nbformat": 4,
 "nbformat_minor": 2
}
