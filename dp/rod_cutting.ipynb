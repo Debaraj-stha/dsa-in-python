{
 "cells": [
  {
   "cell_type": "code",
   "execution_count": null,
   "metadata": {},
   "outputs": [
    {
     "name": "stdout",
     "output_type": "stream",
     "text": [
      "24\n"
     ]
    }
   ],
   "source": [
    "def rod_cutting(length, prices, N, n):\n",
    "    dp = [[0] * (N + 1) for _ in range(n + 1)]\n",
    "    \n",
    "    for i in range(1, n + 1):\n",
    "        for j in range(1, N + 1):\n",
    "            if length[i - 1] <= j:  \n",
    "                dp[i][j] = max(prices[i - 1] + dp[i][j - length[i - 1]], dp[i - 1][j])\n",
    "            else:\n",
    "                dp[i][j] = dp[i - 1][j]\n",
    "\n",
    "    return dp[n][N]\n",
    "length = [1, 2, 3, 4]\n",
    "prices = [6, 10, 12, 16]\n",
    "N = 4 \n",
    "n = len(prices)  \n",
    "\n",
    "print(rod_cutting(length, prices, N, n))  # Expected Output: 24\n"
   ]
  },
  {
   "cell_type": "code",
   "execution_count": null,
   "metadata": {},
   "outputs": [],
   "source": []
  }
 ],
 "metadata": {
  "kernelspec": {
   "display_name": "env",
   "language": "python",
   "name": "python3"
  },
  "language_info": {
   "codemirror_mode": {
    "name": "ipython",
    "version": 3
   },
   "file_extension": ".py",
   "mimetype": "text/x-python",
   "name": "python",
   "nbconvert_exporter": "python",
   "pygments_lexer": "ipython3",
   "version": "3.12.3"
  }
 },
 "nbformat": 4,
 "nbformat_minor": 2
}
