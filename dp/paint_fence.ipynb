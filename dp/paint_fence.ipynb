{
 "cells": [
  {
   "cell_type": "markdown",
   "metadata": {},
   "source": [
    "You are given a fence with n posts, and there are k different colors to paint the fence. The goal is to determine the number of ways to paint the fence such that no more than two adjacent posts have the same color."
   ]
  },
  {
   "cell_type": "code",
   "execution_count": null,
   "metadata": {},
   "outputs": [
    {
     "name": "stdout",
     "output_type": "stream",
     "text": [
      "1152\n"
     ]
    }
   ],
   "source": [
    "def paint_house(posts, k):\n",
    "    n = len(posts)\n",
    "    \n",
    "    # Base cases\n",
    "    if n == 1:\n",
    "        return k\n",
    "    if n == 2:\n",
    "        return k * k\n",
    "    \n",
    "    # Initialize DP table\n",
    "    dp = [0] * n\n",
    "    dp[0] = k  # One way to paint the first post\n",
    "    dp[1] = k * k  # Two ways to paint the first two posts\n",
    "    \n",
    "    for i in range(2, n):\n",
    "        dp[i] = (dp[i-1] * (k-1)) + (dp[i-2] * (k-1))\n",
    "    \n",
    "    return dp[n-1]\n",
    "\n",
    "posts = [17, 2, 17, 16, 5, 14, 3, 19, 15]\n",
    "print(paint_house(posts, 3))  # Expected Output: 10032\n"
   ]
  }
 ],
 "metadata": {
  "kernelspec": {
   "display_name": "myenv",
   "language": "python",
   "name": "python3"
  },
  "language_info": {
   "codemirror_mode": {
    "name": "ipython",
    "version": 3
   },
   "file_extension": ".py",
   "mimetype": "text/x-python",
   "name": "python",
   "nbconvert_exporter": "python",
   "pygments_lexer": "ipython3",
   "version": "3.12.3"
  }
 },
 "nbformat": 4,
 "nbformat_minor": 2
}
