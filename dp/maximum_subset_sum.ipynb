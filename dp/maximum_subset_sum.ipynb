{
 "cells": [
  {
   "cell_type": "code",
   "execution_count": 3,
   "metadata": {},
   "outputs": [
    {
     "name": "stdout",
     "output_type": "stream",
     "text": [
      "True\n"
     ]
    }
   ],
   "source": [
    "def isSubset(arr,target):\n",
    "    n=len(arr)\n",
    "    dp=[[False]*(target+1) for _ in range(n+1)]\n",
    "    for i in range(n+1):\n",
    "        dp[i][0]=True\n",
    "    for i in range(1,n+1):\n",
    "        for j in range(1,target+1):\n",
    "            if arr[i-1]<=j:\n",
    "                dp[i][j]=dp[i-1][j-arr[i-1]] or dp[i-1][j]\n",
    "            else:\n",
    "                dp[i][j]=dp[i-1][j]\n",
    "    return dp[n][target]\n",
    "\n",
    "arr=[2,3,4,5]\n",
    "target=14\n",
    "n=len(arr)\n",
    "res=isSubset(arr,target)\n",
    "print(res)"
   ]
  },
  {
   "cell_type": "code",
   "execution_count": 1,
   "metadata": {},
   "outputs": [
    {
     "name": "stdout",
     "output_type": "stream",
     "text": [
      "[3, 8]\n"
     ]
    }
   ],
   "source": [
    "def find_subset_sum(arr, n, target):\n",
    "    dp = [[False] * (target + 1) for _ in range(n + 1)]\n",
    "    for i in range(n + 1):\n",
    "        dp[i][0] = True\n",
    "    for i in range(1, n + 1):\n",
    "        for j in range(1, target + 1):\n",
    "            if arr[i - 1] <= j:\n",
    "                dp[i][j] = dp[i - 1][j] or dp[i - 1][j - arr[i - 1]]\n",
    "            else:\n",
    "                dp[i][j] = dp[i - 1][j]\n",
    "\n",
    "    if not dp[n][target]:\n",
    "        return []\n",
    "    subsets = []\n",
    "    i, j = n, target\n",
    "    while i > 0 and j > 0:\n",
    "        if dp[i - 1][j]:  # If sum is already achieved without this element\n",
    "            i -= 1\n",
    "        else:  # This element must be included\n",
    "            subsets.append(arr[i - 1])\n",
    "            j -= arr[i - 1]\n",
    "            i -= 1  # Move to the previous row\n",
    "\n",
    "    return subsets[::-1]  # Reverse to get subset in order of original array\n",
    "\n",
    "# Example Usage\n",
    "arr = [2, 3, 7, 8, 10]\n",
    "target = 11\n",
    "n = len(arr)\n",
    "res = find_subset_sum(arr, n, target)\n",
    "print(res)  # Output: [3, 8] or [2, 3, 7]\n"
   ]
  },
  {
   "cell_type": "code",
   "execution_count": 2,
   "metadata": {},
   "outputs": [
    {
     "data": {
      "text/plain": [
       "[[8, 3], [1, 7, 3], [1, 8, 2], [1, 10], [1, 10], [4, 7]]"
      ]
     },
     "execution_count": 2,
     "metadata": {},
     "output_type": "execute_result"
    }
   ],
   "source": [
    "def get_subset_sum(arr, n, target):\n",
    "    dp=[[False]*(target+1) for _ in range(n+1)]\n",
    "    for i in range(n+1):\n",
    "        dp[i][0]=True\n",
    "\n",
    "    for i in range(1,n+1):\n",
    "        for j in range(1,target+1):\n",
    "            if arr[i-1]<=j:\n",
    "                dp[i][j]=dp[i-1][j-arr[i-1]] or dp[i-1][j]\n",
    "            else:\n",
    "                dp[i][j]=dp[i-1][j]\n",
    "    if not dp[n][target]:\n",
    "        return []\n",
    "    all_subsets=[]\n",
    "    def backtrack(i,j,subsets):\n",
    "        if j==0:\n",
    "            all_subsets.append(subsets[:])\n",
    "            return\n",
    "        if i==0:\n",
    "            return\n",
    "        if dp[i-1][j]:\n",
    "            backtrack(i-1,j,subsets)\n",
    "        if j>=arr[i-1] and dp[i-1][j-arr[i-1]]:\n",
    "            subsets.append(arr[i-1])\n",
    "            backtrack(i-1,j-arr[i-1],subsets)\n",
    "            subsets.pop()\n",
    "\n",
    "    backtrack(n,target,[])\n",
    "    return all_subsets\n",
    "arr=[2,3,7,8,10,10,1,4]\n",
    "target=11\n",
    "n=len(arr)\n",
    "get_subset_sum(arr,n,target)"
   ]
  },
  {
   "cell_type": "code",
   "execution_count": 3,
   "metadata": {},
   "outputs": [
    {
     "data": {
      "text/plain": [
       "45"
      ]
     },
     "execution_count": 3,
     "metadata": {},
     "output_type": "execute_result"
    }
   ],
   "source": [
    "def maximum_subset_sum(arr):\n",
    "    n=len(arr)\n",
    "    dp=[0]*(n+1)\n",
    "    for i in range(1,n+1):\n",
    "        for j in range(i):\n",
    "            dp[i]=max(dp[i],dp[j]+arr[i-1])\n",
    "    return dp[n]\n",
    "arr=[2,3,7,8,10,10,1,4]\n",
    "maximum_subset_sum(arr)\n"
   ]
  },
  {
   "cell_type": "code",
   "execution_count": 4,
   "metadata": {},
   "outputs": [
    {
     "data": {
      "text/plain": [
       "([2, 3, 7, 8, 10, 1], 30)"
      ]
     },
     "execution_count": 4,
     "metadata": {},
     "output_type": "execute_result"
    }
   ],
   "source": [
    "def maximum_subset(arr):\n",
    "    n=len(arr)\n",
    "    res=[]\n",
    "    currentMAx=float(\"-inf\")\n",
    "    max_value=float(\"-inf\")\n",
    "    for i in range(n):\n",
    "        currentMAx=max(arr[i],currentMAx+arr[i])\n",
    "        max_value=max(max_value,currentMAx)\n",
    "        if not arr[i]<0:\n",
    "            res.append(arr[i])\n",
    "    return res,max_value\n",
    "arr=[2,3,7,8,10,-10,1,-4,-5,-20]\n",
    "maximum_subset(arr)"
   ]
  }
 ],
 "metadata": {
  "kernelspec": {
   "display_name": "env",
   "language": "python",
   "name": "python3"
  },
  "language_info": {
   "codemirror_mode": {
    "name": "ipython",
    "version": 3
   },
   "file_extension": ".py",
   "mimetype": "text/x-python",
   "name": "python",
   "nbconvert_exporter": "python",
   "pygments_lexer": "ipython3",
   "version": "3.12.3"
  }
 },
 "nbformat": 4,
 "nbformat_minor": 2
}
