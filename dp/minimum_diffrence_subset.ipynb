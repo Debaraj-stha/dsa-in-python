{
 "cells": [
  {
   "cell_type": "code",
   "execution_count": 22,
   "metadata": {},
   "outputs": [
    {
     "name": "stdout",
     "output_type": "stream",
     "text": [
      "[True, True, True, True]\n",
      "1\n"
     ]
    }
   ],
   "source": [
    "def subset_sum(arr):\n",
    "    total_sum = sum(arr)\n",
    "    target = total_sum // 2  # We only need to check up to half of the total sum,if half then diff would be zero\n",
    "    n = len(arr)\n",
    "    dp = [[False] * (target + 1) for _ in range(n + 1)]\n",
    "    \n",
    "    # A subset sum of 0 is always possible (by taking an empty set)\n",
    "    for i in range(n + 1):\n",
    "        dp[i][0] = True\n",
    "\n",
    "    # Fill DP table\n",
    "    for i in range(1, n + 1):\n",
    "        for j in range(1, target + 1):\n",
    "            if arr[i - 1] <= j:\n",
    "                dp[i][j] = dp[i - 1][j] or dp[i - 1][j - arr[i - 1]]\n",
    "            else:\n",
    "                dp[i][j] = dp[i - 1][j]\n",
    "    print(dp[n])\n",
    "    # Find the maximum `s1` that is closest to `total_sum // 2`\n",
    "    for s1 in range(target, -1, -1):\n",
    "        if dp[n][s1]:\n",
    "            return abs(total_sum - 2 * s1)  # Return the minimum subset sum difference\n",
    "\n",
    "arr = [1, 1,2,3]\n",
    "print(subset_sum(arr))  # Output: Minimum difference\n"
   ]
  },
  {
   "cell_type": "code",
   "execution_count": null,
   "metadata": {},
   "outputs": [],
   "source": []
  },
  {
   "cell_type": "code",
   "execution_count": null,
   "metadata": {},
   "outputs": [],
   "source": []
  }
 ],
 "metadata": {
  "kernelspec": {
   "display_name": "env",
   "language": "python",
   "name": "python3"
  },
  "language_info": {
   "codemirror_mode": {
    "name": "ipython",
    "version": 3
   },
   "file_extension": ".py",
   "mimetype": "text/x-python",
   "name": "python",
   "nbconvert_exporter": "python",
   "pygments_lexer": "ipython3",
   "version": "3.12.3"
  }
 },
 "nbformat": 4,
 "nbformat_minor": 2
}
