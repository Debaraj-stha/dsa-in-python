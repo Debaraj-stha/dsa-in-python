{
 "cells": [
  {
   "cell_type": "code",
   "execution_count": 2,
   "metadata": {},
   "outputs": [
    {
     "name": "stdout",
     "output_type": "stream",
     "text": [
      "0\n"
     ]
    }
   ],
   "source": [
    "def isPalindrome(s,i,j):\n",
    "    while i<j:\n",
    "        if s[i]!=s[j]:\n",
    "            return False\n",
    "        i+=1\n",
    "        j-=1\n",
    "    return True\n",
    "def palindromicPartition(s,i,j):\n",
    "    if i>=j:\n",
    "        return 0\n",
    "    if isPalindrome(s,i,j):\n",
    "        return 0\n",
    "    mn = float('inf')\n",
    "    for k in range(i,j):\n",
    "        temp = palindromicPartition(s,i,k)+palindromicPartition(s,k+1,j)+1\n",
    "        mn = min(mn,temp)\n",
    "    return mn\n",
    "\n",
    "s = \"nitin\"\n",
    "print(palindromicPartition(s,0,len(s)-1))\n"
   ]
  },
  {
   "cell_type": "code",
   "execution_count": 3,
   "metadata": {},
   "outputs": [
    {
     "name": "stdout",
     "output_type": "stream",
     "text": [
      "0\n"
     ]
    }
   ],
   "source": [
    "def palindromePartitionMemoization(s,i,j,dp):\n",
    "    if i>=j:\n",
    "        return 0\n",
    "    if isPalindrome(s,i,j):\n",
    "        return 0\n",
    "    if dp[i][j]!=-1:\n",
    "        return dp[i][j]\n",
    "    mn = float('inf')\n",
    "    for k in range(i,j):\n",
    "        temp = palindromePartitionMemoization(s,i,k,dp)+palindromePartitionMemoization(s,k+1,j,dp)+1\n",
    "        mn = min(mn,temp)\n",
    "    dp[i][j] = mn\n",
    "    return dp[i][j]\n",
    "\n",
    "s = \"nitin\"\n",
    "dp = [[-1 for _ in range(len(s))] for _ in range(len(s))]\n",
    "print(palindromePartitionMemoization(s,0,len(s)-1,dp))"
   ]
  },
  {
   "cell_type": "code",
   "execution_count": 7,
   "metadata": {},
   "outputs": [
    {
     "name": "stdout",
     "output_type": "stream",
     "text": [
      "2\n"
     ]
    }
   ],
   "source": [
    "\n",
    "def palindromePartitionDP(s):\n",
    "    n = len(s)\n",
    "    dp = [[0] * n for _ in range(n)] \n",
    "    for length in range(2, n + 1):  # length = 2 to n\n",
    "        for i in range(n - length + 1):\n",
    "            j = i + length - 1  # Ending index\n",
    "\n",
    "            # If substring s[i:j] is palindrome, no cut is needed\n",
    "            if isPalindrome(s, i, j):\n",
    "                dp[i][j] = 0\n",
    "            else:\n",
    "                dp[i][j] = float('inf')\n",
    "                for k in range(i, j):\n",
    "                    dp[i][j] = min(dp[i][j], dp[i][k] + dp[k + 1][j] + 1)\n",
    "\n",
    "    return dp[0][n - 1]  # Minimum cuts needed for the whole string\n",
    "\n",
    "# Example Usage\n",
    "s = \"abcbm\"\n",
    "print(palindromePartitionDP(s))  # Output: Minimum cuts needed\n"
   ]
  }
 ],
 "metadata": {
  "kernelspec": {
   "display_name": "myenv",
   "language": "python",
   "name": "python3"
  },
  "language_info": {
   "codemirror_mode": {
    "name": "ipython",
    "version": 3
   },
   "file_extension": ".py",
   "mimetype": "text/x-python",
   "name": "python",
   "nbconvert_exporter": "python",
   "pygments_lexer": "ipython3",
   "version": "3.12.3"
  }
 },
 "nbformat": 4,
 "nbformat_minor": 2
}
