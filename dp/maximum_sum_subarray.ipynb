{
 "cells": [
  {
   "cell_type": "code",
   "execution_count": 18,
   "metadata": {},
   "outputs": [
    {
     "name": "stdout",
     "output_type": "stream",
     "text": [
      "(6, [4, -1, 2, 1])\n",
      "1\n"
     ]
    }
   ],
   "source": [
    "def maximum_sum_subarray(arr):\n",
    "    if not arr:\n",
    "        return 0, []  # Handle empty array case\n",
    "\n",
    "    max_sum = float('-inf')  # Allow negative numbers\n",
    "    current_sum = 0\n",
    "    start_index = 0\n",
    "    end_index = 0\n",
    "    temp_start = 0\n",
    "\n",
    "    for i in range(len(arr)):\n",
    "        if arr[i] > current_sum + arr[i]:  # Restart subarray\n",
    "            current_sum = arr[i]\n",
    "            temp_start = i\n",
    "        else:\n",
    "            current_sum += arr[i]\n",
    "\n",
    "        if current_sum > max_sum:  # Update max sum and indices\n",
    "            max_sum = current_sum\n",
    "            start_index = temp_start\n",
    "            end_index = i\n",
    "\n",
    "    return max_sum, arr[start_index:end_index + 1]\n",
    "\n",
    "arr = [-2, 1, -3, 4, -1, 2, 1, -5, 4]\n",
    "print(maximum_sum_subarray(arr))  # Output: (6, [4, -1, 2, 1])\n",
    "print(sum(arr))  # -3\n"
   ]
  }
 ],
 "metadata": {
  "kernelspec": {
   "display_name": "myenv",
   "language": "python",
   "name": "python3"
  },
  "language_info": {
   "codemirror_mode": {
    "name": "ipython",
    "version": 3
   },
   "file_extension": ".py",
   "mimetype": "text/x-python",
   "name": "python",
   "nbconvert_exporter": "python",
   "pygments_lexer": "ipython3",
   "version": "3.12.3"
  }
 },
 "nbformat": 4,
 "nbformat_minor": 2
}
