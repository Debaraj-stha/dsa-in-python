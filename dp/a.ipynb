{
 "cells": [
  {
   "cell_type": "code",
   "execution_count": 99,
   "metadata": {},
   "outputs": [
    {
     "name": "stdout",
     "output_type": "stream",
     "text": [
      "2\n"
     ]
    }
   ],
   "source": [
    "def maximum_no_ways(coin,target):\n",
    "    n=len(coin)\n",
    "    dp=[[\n",
    "        float(\"inf\")\n",
    "    ] *(target+1) for _ in range(n+1)]\n",
    "    for i in range(n+1):\n",
    "        dp[i][0]=0\n",
    "    for i in range(1,n+1):\n",
    "        for j in range(1,target+1):\n",
    "            if coin[i-1]<=j:\n",
    "                dp[i][j]=min(dp[i-1][j],dp[i][j-coin[i-1]]+1)\n",
    "                \n",
    "            else:\n",
    "                dp[i][j]=dp[i-1][j]\n",
    "    return dp[n][target]\n",
    "\n",
    "coin = [1, 2, 3]\n",
    "target = 5\n",
    "print(maximum_no_ways(coin, target))  # Output: 5"
   ]
  }
 ],
 "metadata": {
  "kernelspec": {
   "display_name": "myenv",
   "language": "python",
   "name": "python3"
  },
  "language_info": {
   "codemirror_mode": {
    "name": "ipython",
    "version": 3
   },
   "file_extension": ".py",
   "mimetype": "text/x-python",
   "name": "python",
   "nbconvert_exporter": "python",
   "pygments_lexer": "ipython3",
   "version": "3.12.3"
  }
 },
 "nbformat": 4,
 "nbformat_minor": 2
}
