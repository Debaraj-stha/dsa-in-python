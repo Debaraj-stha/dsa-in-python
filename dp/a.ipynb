{
 "cells": [
  {
   "cell_type": "code",
   "execution_count": 10,
   "metadata": {},
   "outputs": [
    {
     "data": {
      "text/plain": [
       "2"
      ]
     },
     "execution_count": 10,
     "metadata": {},
     "output_type": "execute_result"
    }
   ],
   "source": [
    "def subset_sum(arr,target):\n",
    "    n=len(arr)\n",
    "    dp=[[0] *(target+1) for _ in range(n+1)]\n",
    "    for i in range(n+1):\n",
    "        dp[i][0]=True\n",
    "    for i in range(1,n+1):\n",
    "        for j in range(1,target+1):\n",
    "            if arr[i-1]<=j:\n",
    "                dp[i][j]=dp[i-1][j-arr[i-1]] + dp[i-1][j]\n",
    "            else:\n",
    "                dp[i][j]=dp[i-1][j]\n",
    "    return dp[n][target]\n",
    "arr=[1,2,4,3,6]\n",
    "subset_sum(arr,8)"
   ]
  }
 ],
 "metadata": {
  "kernelspec": {
   "display_name": "myenv",
   "language": "python",
   "name": "python3"
  },
  "language_info": {
   "codemirror_mode": {
    "name": "ipython",
    "version": 3
   },
   "file_extension": ".py",
   "mimetype": "text/x-python",
   "name": "python",
   "nbconvert_exporter": "python",
   "pygments_lexer": "ipython3",
   "version": "3.12.3"
  }
 },
 "nbformat": 4,
 "nbformat_minor": 2
}
