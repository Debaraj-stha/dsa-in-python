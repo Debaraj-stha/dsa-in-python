{
 "cells": [
  {
   "cell_type": "code",
   "execution_count": 2,
   "metadata": {},
   "outputs": [
    {
     "name": "stdout",
     "output_type": "stream",
     "text": [
      "4\n"
     ]
    }
   ],
   "source": [
    "def lcs(x,y):\n",
    "    n=len(x)\n",
    "    m=len(y)\n",
    "    dp = [[0]*(m+1) for _ in range(n+1)]\n",
    "    for i in range(1,n+1):\n",
    "        for j in range(1,m+1):\n",
    "            if x[i-1]==y[j-1]:\n",
    "                dp[i][j]=1+dp[i-1][j-1]\n",
    "            else:\n",
    "                dp[i][j]=max(dp[i-1][j],dp[i][j-1])\n",
    "    return dp[n][m]\n",
    "x=\"abcdgh\"\n",
    "y=\"abedfhr\"\n",
    "print(lcs(x, y))  # Output: 3"
   ]
  },
  {
   "cell_type": "code",
   "execution_count": 8,
   "metadata": {},
   "outputs": [
    {
     "name": "stdout",
     "output_type": "stream",
     "text": [
      "3\n"
     ]
    }
   ],
   "source": [
    "def longest_common_substring(x,y):\n",
    "    n=len(x)\n",
    "    m=len(y)\n",
    "    dp=[[0]*(m+1) for _ in range(n+1)]\n",
    "    max_length=0\n",
    "    for i in range(n+1):\n",
    "        dp[i][0]=1\n",
    "    for i in range(1,n+1):\n",
    "        for j in range(1,m+1):\n",
    "            if x[i-1]==y[j-1]:\n",
    "                dp[i][j]=1+dp[i-1][j-1]\n",
    "                max_length=max(max_length,dp[i][j])\n",
    "            else:\n",
    "                dp[i][j]=0\n",
    "    return max_length\n",
    "x = \"abcdgh\"\n",
    "y = \"abedfhr\"\n",
    "print(longest_common_substring(x, y))  # Output: 2"
   ]
  }
 ],
 "metadata": {
  "kernelspec": {
   "display_name": "myenv",
   "language": "python",
   "name": "python3"
  },
  "language_info": {
   "codemirror_mode": {
    "name": "ipython",
    "version": 3
   },
   "file_extension": ".py",
   "mimetype": "text/x-python",
   "name": "python",
   "nbconvert_exporter": "python",
   "pygments_lexer": "ipython3",
   "version": "3.12.3"
  }
 },
 "nbformat": 4,
 "nbformat_minor": 2
}
