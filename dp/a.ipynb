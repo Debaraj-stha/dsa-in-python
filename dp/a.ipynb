{
 "cells": [
  {
   "cell_type": "code",
   "execution_count": 14,
   "metadata": {},
   "outputs": [
    {
     "name": "stdout",
     "output_type": "stream",
     "text": [
      "24\n"
     ]
    }
   ],
   "source": [
    "def unbounded(wt,val,w,n):\n",
    "    dp=[[0]*(w+1) for _ in range(n+1)]\n",
    "    for i in range(1,n+1):\n",
    "        for j in range(1,w+1):\n",
    "            if wt[i-1]<=j:\n",
    "                dp[i][j]=max(dp[i-1][j],dp[i][j-wt[i-1]]+val[i-1])\n",
    "            else:\n",
    "                dp[i][j]=dp[i-1][j]\n",
    "    return dp[n][w]\n",
    "\n",
    "\n",
    "weights = [1, 2, 3, 4]\n",
    "values = [6, 10, 12, 16]\n",
    "W = 4\n",
    "n = len(weights)\n",
    "print(unbounded(weights, values, W, n)) # Output: 22"
   ]
  }
 ],
 "metadata": {
  "kernelspec": {
   "display_name": "myenv",
   "language": "python",
   "name": "python3"
  },
  "language_info": {
   "codemirror_mode": {
    "name": "ipython",
    "version": 3
   },
   "file_extension": ".py",
   "mimetype": "text/x-python",
   "name": "python",
   "nbconvert_exporter": "python",
   "pygments_lexer": "ipython3",
   "version": "3.12.3"
  }
 },
 "nbformat": 4,
 "nbformat_minor": 2
}
