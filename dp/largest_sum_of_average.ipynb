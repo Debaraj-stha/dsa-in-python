{
 "cells": [
  {
   "cell_type": "code",
   "execution_count": 6,
   "metadata": {},
   "outputs": [
    {
     "name": "stdout",
     "output_type": "stream",
     "text": [
      "6.5\n"
     ]
    }
   ],
   "source": [
    "def largest_sum_of_averages(arr, k):\n",
    "    # Step 1: Initialize the length of the array\n",
    "    n = len(arr)\n",
    "    \n",
    "    # Step 2: Create a prefix sum array to help calculate the sum of any subarray in constant time\n",
    "    prefix_sum = [0] * (n + 1)  # We need n+1 for easier handling of sum of subarrays\n",
    "    prefix_sum[0] = 0  # Initialize the first element to 0\n",
    "    for i in range(1, n + 1):\n",
    "        prefix_sum[i] = prefix_sum[i - 1] + arr[i - 1]\n",
    "    # `prefix_sum[i]` holds the sum of elements arr[0] to arr[i-1].\n",
    "\n",
    "    # Step 3: Initialize a DP table where dp[i][j] represents the maximum sum of averages\n",
    "    # for the first i elements with j subarrays\n",
    "    dp = [[0] * (k + 1) for _ in range(n + 1)]\n",
    "\n",
    "    # Step 4: Base case when we want only 1 subarray (i.e., when j = 1)\n",
    "    # If we want 1 subarray, we take the average of the first i elements.\n",
    "    for i in range(1, n + 1):\n",
    "        dp[i][1] = prefix_sum[i] / i  # The average of elements from arr[0] to arr[i-1]\n",
    "\n",
    "    # Step 5: Fill the DP table for cases when we have more than 1 subarray\n",
    "    # We consider splitting the array into j subarrays (where j ranges from 2 to k)\n",
    "    for j in range(2, k + 1):  # Loop over number of subarrays (from 2 to k)\n",
    "        for i in range(j, n + 1):  # Loop over first i elements (from j to n)\n",
    "            # We need to find the best place to split the array into j subarrays\n",
    "            # Consider all previous valid splits for j-1 subarrays\n",
    "            for x in range(j - 1, i):  # Loop over all possible previous split points x\n",
    "                # Maximize the sum of averages by considering splitting at index x\n",
    "                dp[i][j] = max(dp[i][j], dp[x][j - 1] + (prefix_sum[i] - prefix_sum[x]) / (i - x))\n",
    "                # dp[x][j - 1] is the sum of averages for the first x elements with j-1 subarrays\n",
    "                # (prefix_sum[i] - prefix_sum[x]) is the sum of the subarray from x to i-1\n",
    "                # (i - x) is the number of elements in this subarray, so we calculate the average\n",
    "\n",
    "    # Step 6: The answer is the maximum sum of averages for the entire array with k subarrays\n",
    "    return dp[n][k]\n",
    "\n",
    "# Example usage:\n",
    "arr = [3, 5, -2, 3, -8, 1]\n",
    "k = 3\n",
    "print(largest_sum_of_averages(arr, k))  # Output the largest sum of averages\n"
   ]
  }
 ],
 "metadata": {
  "kernelspec": {
   "display_name": "myenv",
   "language": "python",
   "name": "python3"
  },
  "language_info": {
   "codemirror_mode": {
    "name": "ipython",
    "version": 3
   },
   "file_extension": ".py",
   "mimetype": "text/x-python",
   "name": "python",
   "nbconvert_exporter": "python",
   "pygments_lexer": "ipython3",
   "version": "3.12.3"
  }
 },
 "nbformat": 4,
 "nbformat_minor": 2
}
