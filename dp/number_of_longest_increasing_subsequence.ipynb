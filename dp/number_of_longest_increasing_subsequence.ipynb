{
 "cells": [
  {
   "cell_type": "code",
   "execution_count": 12,
   "metadata": {},
   "outputs": [
    {
     "name": "stdout",
     "output_type": "stream",
     "text": [
      "4\n"
     ]
    }
   ],
   "source": [
    "def length_of_increasing_subsequence(arr):\n",
    "    if not arr:\n",
    "        return 0\n",
    "    n = len(arr)\n",
    "    dp=[1]*n\n",
    "    for i in range(1,n):\n",
    "        for j in range(i):\n",
    "            if arr[i]>arr[j]:\n",
    "                dp[i]=max(dp[i],dp[j]+1)\n",
    "    return max(dp)\n",
    "\n",
    "arr=[10, 9, 2, 5, 3, 7, 101, 18]\n",
    "print(length_of_increasing_subsequence(arr))  # Output: 4"
   ]
  },
  {
   "cell_type": "code",
   "execution_count": 17,
   "metadata": {},
   "outputs": [
    {
     "name": "stdout",
     "output_type": "stream",
     "text": [
      "4\n"
     ]
    }
   ],
   "source": [
    "def number_of_longest_increasing_subsequence(arr):\n",
    "    if not arr:\n",
    "        return 0\n",
    "    \n",
    "    n = len(arr)\n",
    "    dp = [1] * n  # dp[i] stores LIS length ending at index i\n",
    "    count = [1] * n  # count[i] stores number of LIS ending at index i\n",
    "    max_length = 1\n",
    "    \n",
    "    for i in range(n):\n",
    "        for j in range(i):\n",
    "            if arr[i] > arr[j]:  # Can extend LIS\n",
    "                if dp[i]<dp[j]+1:  \n",
    "                    dp[i] = dp[j] + 1  # Update LIS length\n",
    "                    count[i] = count[j]  # Reset count\n",
    "                elif dp[j] + 1 == dp[i]:  \n",
    "                    count[i] += count[j]  # Add to count\n",
    "                \n",
    "        max_length = max(max_length, dp[i])  # Track maximum LIS length\n",
    "    \n",
    "    # Count number of subsequences with longest LIS length\n",
    "    return sum(count[i] for i in range(n) if dp[i] == max_length)\n",
    "\n",
    "arr = [10, 9, 2, 5, 3, 7, 101, 18]\n",
    "print(number_of_longest_increasing_subsequence(arr))  # Output: 4\n"
   ]
  }
 ],
 "metadata": {
  "kernelspec": {
   "display_name": "myenv",
   "language": "python",
   "name": "python3"
  },
  "language_info": {
   "codemirror_mode": {
    "name": "ipython",
    "version": 3
   },
   "file_extension": ".py",
   "mimetype": "text/x-python",
   "name": "python",
   "nbconvert_exporter": "python",
   "pygments_lexer": "ipython3",
   "version": "3.12.3"
  }
 },
 "nbformat": 4,
 "nbformat_minor": 2
}
