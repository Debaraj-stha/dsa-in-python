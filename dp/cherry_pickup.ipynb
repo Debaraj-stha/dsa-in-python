{
 "cells": [
  {
   "cell_type": "code",
   "execution_count": null,
   "metadata": {},
   "outputs": [
    {
     "name": "stdout",
     "output_type": "stream",
     "text": [
      "24\n"
     ]
    }
   ],
   "source": [
    "def cherry_pickup(grid):\n",
    "    rows, cols = len(grid), len(grid[0])\n",
    "    dp = [[[-float('inf')] * cols for _ in range(cols)] for _ in range(rows)]\n",
    "    dp[0][0][cols - 1] = grid[0][0] + (grid[0][cols - 1] if 0 != cols - 1 else 0) #robot 1 start at position (0,0) and robot2 start \n",
    "    # at position (0, cols-1)\n",
    "\n",
    "    for row in range(1, rows):\n",
    "        for col1 in range(cols):\n",
    "            for col2 in range(cols):\n",
    "                # Cherries collected by both robots\n",
    "                # If both robots are at the same cell, only one cherry is picked\n",
    "                cherries = grid[row][col1] + (grid[row][col2] if col1 != col2 else 0)\n",
    "                # Try to find the maximum cherries collected by both robots at the previous cell,\n",
    "                # while considering the possible positions for both robots.\n",
    "                #range is taken max(0, col1 - 1) and min(cols, col1 + 2) because we can move only one step at a time\n",
    "                # so we can move to the left, right or stay at the same position\n",
    "                #for col1=2, we can move to 1, 2, 3\n",
    "                #max(0,2-1)=1, min(3,2+2)=3\n",
    "                for prev_col1 in range(max(0, col1 - 1), min(cols, col1 + 2)):\n",
    "                    for prev_col2 in range(max(0, col2 - 1), min(cols, col2 + 2)):\n",
    "                        # Update the maximum cherries collected by both robots at the current cell.     \n",
    "                        dp[row][col1][col2] = max(dp[row][col1][col2], dp[row - 1][prev_col1][prev_col2] + cherries)\n",
    "    result = 0\n",
    "    for i in range(cols):\n",
    "        for j in range(cols):\n",
    "            result = max(result, dp[rows - 1][i][j])\n",
    "    return result\n",
    "\n",
    "grid = [\n",
    "    [3, 1, 1],\n",
    "    [2, 5, 1],\n",
    "    [1, 5, 5],\n",
    "    [2, 1, 1]\n",
    "]\n",
    "\n",
    "\n",
    "print(cherry_pickup(grid))"
   ]
  }
 ],
 "metadata": {
  "kernelspec": {
   "display_name": "myenv",
   "language": "python",
   "name": "python3"
  },
  "language_info": {
   "codemirror_mode": {
    "name": "ipython",
    "version": 3
   },
   "file_extension": ".py",
   "mimetype": "text/x-python",
   "name": "python",
   "nbconvert_exporter": "python",
   "pygments_lexer": "ipython3",
   "version": "3.12.3"
  }
 },
 "nbformat": 4,
 "nbformat_minor": 2
}
