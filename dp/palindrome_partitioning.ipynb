{
 "cells": [
  {
   "cell_type": "code",
   "execution_count": 2,
   "metadata": {},
   "outputs": [
    {
     "name": "stdout",
     "output_type": "stream",
     "text": [
      "3\n"
     ]
    }
   ],
   "source": [
    "def min_cut_palindrome_partition(s):\n",
    "    \"\"\"\n",
    "    Calculates the minimum number of cuts needed to partition a string\n",
    "    into palindromic substrings.\n",
    "\n",
    "    Args:\n",
    "        s: The input string.\n",
    "\n",
    "    Returns:\n",
    "        The minimum number of cuts required to partition s into palindromic substrings.\n",
    "    \"\"\"\n",
    "    n = len(s)\n",
    "    # is_palindrome[i][j] will be True if the substring s[i:j+1] is a palindrome,\n",
    "    # and False otherwise.\n",
    "    is_palindrome = [[False] * n for _ in range(n)]\n",
    "\n",
    "    # All substrings of length 1 are palindromes (single characters).\n",
    "    for i in range(n):\n",
    "        is_palindrome[i][i] = True\n",
    "\n",
    "    # Check for substrings of length 2.\n",
    "    for i in range(n - 1):\n",
    "        # If two consecutive characters are the same, the substring of length 2 is a palindrome.\n",
    "        if s[i] == s[i + 1]:\n",
    "            is_palindrome[i][i + 1] = True\n",
    "\n",
    "    # Check for substrings of length 3 or more.\n",
    "    for length in range(3, n + 1):  # Iterate over possible substring lengths.\n",
    "        for i in range(n - length + 1):  # Iterate over all possible starting indices.\n",
    "            j = i + length - 1  # Calculate the ending index of the current substring.\n",
    "            # A substring s[i:j+1] is a palindrome if its outer characters match\n",
    "            # and the inner substring s[i+1:j] is also a palindrome.\n",
    "            if s[i] == s[j] and is_palindrome[i + 1][j - 1]:\n",
    "                is_palindrome[i][j] = True\n",
    "\n",
    "    # Create a DP table to store the minimum cuts needed for palindromic substrings.\n",
    "    # dp[i] will store the minimum cuts required for the prefix of the string s[0:i+1].\n",
    "    dp = [0] * n\n",
    "\n",
    "    # Fill the DP table.\n",
    "    for i in range(n):\n",
    "        # If the prefix s[0:i+1] itself is a palindrome, then no cuts are needed.\n",
    "        if is_palindrome[0][i]:\n",
    "            dp[i] = 0\n",
    "        else:\n",
    "            # Initialize the minimum cuts needed for s[0:i+1] to infinity.\n",
    "            dp[i] = float('inf')\n",
    "            # Try making a cut at every possible position j before i.\n",
    "            for j in range(i):\n",
    "                # If the substring s[j+1:i+1] (from index j+1 to i inclusive) is a palindrome.\n",
    "                if is_palindrome[j + 1][i]:\n",
    "                    # If we make a cut at index j, the minimum cuts needed for s[0:i+1]\n",
    "                    # would be the minimum cuts needed for s[0:j+1] (dp[j]) plus one cut.\n",
    "                    dp[i] = min(dp[i], dp[j] + 1)\n",
    "\n",
    "    # Return the minimum cuts needed for the entire string (dp[n-1]).\n",
    "    return dp[-1]  # The minimum cuts needed for the entire string s\n",
    "\n",
    "# Example usage\n",
    "s = \"hello\"\n",
    "print(min_cut_palindrome_partition(s))"
   ]
  }
 ],
 "metadata": {
  "kernelspec": {
   "display_name": "myenv",
   "language": "python",
   "name": "python3"
  },
  "language_info": {
   "codemirror_mode": {
    "name": "ipython",
    "version": 3
   },
   "file_extension": ".py",
   "mimetype": "text/x-python",
   "name": "python",
   "nbconvert_exporter": "python",
   "pygments_lexer": "ipython3",
   "version": "3.12.3"
  }
 },
 "nbformat": 4,
 "nbformat_minor": 2
}
