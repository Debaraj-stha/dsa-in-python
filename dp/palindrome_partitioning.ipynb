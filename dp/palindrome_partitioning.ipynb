{
 "cells": [
  {
   "cell_type": "code",
   "execution_count": null,
   "metadata": {},
   "outputs": [
    {
     "name": "stdout",
     "output_type": "stream",
     "text": [
      "3\n"
     ]
    }
   ],
   "source": [
    "def min_cut_palindrome_partition(s):\n",
    "    n = len(s)\n",
    "    is_palindrome = [[False] * n for _ in range(n)]\n",
    "    \n",
    "    # All substrings of length 1 are palindromes (single characters)\n",
    "    for i in range(n):\n",
    "        is_palindrome[i][i] = True\n",
    "    \n",
    "    # Check for substrings of length 2\n",
    "    for i in range(n - 1):\n",
    "        if s[i] == s[i + 1]:  # Two consecutive characters are the same\n",
    "            is_palindrome[i][i + 1] = True\n",
    "    \n",
    "    # Check for substrings of length 3 or more\n",
    "    for length in range(3, n + 1):  # Iterate over lengths from 3 to n\n",
    "        for i in range(n - length + 1):  # Iterate over all possible starting points\n",
    "            j = i + length - 1  # Calculate the end of the substring\n",
    "            # Check if the substring s[i:j+1] is a palindrome\n",
    "            if s[i] == s[j] and is_palindrome[i + 1][j - 1]:\n",
    "                is_palindrome[i][j] = True\n",
    "    \n",
    "    # Create a DP table to store the minimum cuts needed for palindromic substrings\n",
    "    dp = [0] * n  # dp[i] will store the minimum cuts required for substring s[0:i+1]\n",
    "    \n",
    "    # Fill the DP table\n",
    "    for i in range(n):\n",
    "        if is_palindrome[0][i]:  # If s[0:i+1] is a palindrome, no cuts are needed\n",
    "            dp[i] = 0\n",
    "        else:\n",
    "            dp[i] = float('inf')  # Initialize with a large number (infinity)\n",
    "            # Try making cuts at all positions from 0 to i-1\n",
    "            for j in range(i):\n",
    "                if is_palindrome[j + 1][i]:  # If s[j+1:i+1] is a palindrome\n",
    "                    dp[i] = min(dp[i], dp[j] + 1)  # Min cuts = min previous cuts + 1\n",
    "    \n",
    "    # Return the minimum cuts needed for the entire string (dp[n-1])\n",
    "    return dp[-1]  # The minimum cuts needed for the entire string s\n",
    "\n",
    "# Example usage\n",
    "s = \"hello\"\n",
    "print(min_cut_palindrome_partition(s))  \n"
   ]
  }
 ],
 "metadata": {
  "kernelspec": {
   "display_name": "myenv",
   "language": "python",
   "name": "python3"
  },
  "language_info": {
   "codemirror_mode": {
    "name": "ipython",
    "version": 3
   },
   "file_extension": ".py",
   "mimetype": "text/x-python",
   "name": "python",
   "nbconvert_exporter": "python",
   "pygments_lexer": "ipython3",
   "version": "3.12.3"
  }
 },
 "nbformat": 4,
 "nbformat_minor": 2
}
