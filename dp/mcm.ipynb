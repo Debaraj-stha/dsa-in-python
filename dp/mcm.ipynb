{
 "cells": [
  {
   "cell_type": "code",
   "execution_count": 1,
   "metadata": {},
   "outputs": [
    {
     "name": "stdout",
     "output_type": "stream",
     "text": [
      "4500\n"
     ]
    }
   ],
   "source": [
    "def mcm(arr,i,j):\n",
    "    min_value=float('inf')\n",
    "    if i>=j:\n",
    "        return 0\n",
    "    for k in range(i,j):\n",
    "        temp_ans=mcm(arr,i,k)+mcm(arr,k+1,j)+arr[i-1]*arr[k]*arr[j]\n",
    "        min_value=min(min_value,temp_ans)\n",
    "    return min_value\n",
    "\n",
    "arr=[10,30,5,60]\n",
    "print(mcm(arr,1,len(arr)-1))"
   ]
  },
  {
   "cell_type": "code",
   "execution_count": 2,
   "metadata": {},
   "outputs": [
    {
     "name": "stdout",
     "output_type": "stream",
     "text": [
      "4500\n"
     ]
    }
   ],
   "source": [
    "def mcm(arr, i, j, dp):\n",
    "    if i == j:  # Base case: A single matrix needs no multiplication\n",
    "        return 0\n",
    "    if dp[i][j] != -1:  # If already computed, return stored value\n",
    "        return dp[i][j]\n",
    "    \n",
    "    min_value = float('inf')\n",
    "    for k in range(i, j):\n",
    "        temp_ans = (\n",
    "            mcm(arr, i, k, dp) + \n",
    "            mcm(arr, k + 1, j, dp) + \n",
    "            arr[i - 1] * arr[k] * arr[j]\n",
    "        )\n",
    "        min_value = min(min_value, temp_ans)\n",
    "    \n",
    "    dp[i][j] = min_value  # Store result in DP table\n",
    "    return min_value\n",
    "\n",
    "arr = [10, 30, 5, 60]\n",
    "n = len(arr)\n",
    "dp = [[-1] * n for _ in range(n)]  # Initialize DP table\n",
    "print(mcm(arr, 1, n - 1, dp))  # Correct function call\n"
   ]
  },
  {
   "cell_type": "code",
   "execution_count": 3,
   "metadata": {},
   "outputs": [
    {
     "name": "stdout",
     "output_type": "stream",
     "text": [
      "4500\n"
     ]
    }
   ],
   "source": [
    "def mcmDP(arr):\n",
    "    n = len(arr)\n",
    "    dp = [[0] * n for _ in range(n)]\n",
    "    for length in range(2, n):\n",
    "        for i in range(1, n - length + 1):\n",
    "            j = i + length - 1\n",
    "            dp[i][j] = float('inf')\n",
    "            for k in range(i, j):\n",
    "                dp[i][j] = min(\n",
    "                    dp[i][j],\n",
    "                    dp[i][k] + dp[k + 1][j] + arr[i - 1] * arr[k] * arr[j]\n",
    "                )\n",
    "    return dp[1][n - 1]\n",
    "\n",
    "arr = [10, 30, 5, 60]\n",
    "print(mcmDP(arr))  # Correct function call"
   ]
  }
 ],
 "metadata": {
  "kernelspec": {
   "display_name": "myenv",
   "language": "python",
   "name": "python3"
  },
  "language_info": {
   "codemirror_mode": {
    "name": "ipython",
    "version": 3
   },
   "file_extension": ".py",
   "mimetype": "text/x-python",
   "name": "python",
   "nbconvert_exporter": "python",
   "pygments_lexer": "ipython3",
   "version": "3.12.3"
  }
 },
 "nbformat": 4,
 "nbformat_minor": 2
}
