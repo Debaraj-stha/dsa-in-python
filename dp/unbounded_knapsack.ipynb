{
 "cells": [
  {
   "cell_type": "code",
   "execution_count": 11,
   "metadata": {},
   "outputs": [
    {
     "name": "stdout",
     "output_type": "stream",
     "text": [
      "24\n"
     ]
    }
   ],
   "source": [
    "def unbounded_knapsack(wt, val, W, n):\n",
    "    dp = [[0] * (W + 1) for _ in range(n + 1)]\n",
    "    \n",
    "    # Fill the DP table\n",
    "    for i in range(1, n + 1):\n",
    "        for w in range(1, W + 1):\n",
    "            if wt[i - 1] <= w:\n",
    "                dp[i][w] = max(dp[i - 1][w], dp[i][w - wt[i - 1]] + val[i - 1])\n",
    "            else:\n",
    "                dp[i][w] = dp[i - 1][w]\n",
    "\n",
    "    return dp[n][W]  # Maximum value for given knapsack weight\n",
    "\n",
    "# Example usage\n",
    "weights = [1, 2, 3, 4]\n",
    "values = [6, 10, 12, 16]\n",
    "W = 4\n",
    "n = len(weights)\n",
    "print(unbounded_knapsack(weights, values, W, n))  # Output: 22\n"
   ]
  },
  {
   "cell_type": "code",
   "execution_count": 12,
   "metadata": {},
   "outputs": [
    {
     "name": "stdout",
     "output_type": "stream",
     "text": [
      "24\n"
     ]
    }
   ],
   "source": [
    "def unbounded_knapsack(wt, val, W, n):\n",
    "    dp = [0] * (W + 1)\n",
    "\n",
    "    for i in range(n):\n",
    "        for w in range(wt[i], W + 1):\n",
    "            dp[w] = max(dp[w], dp[w - wt[i]] + val[i])\n",
    "\n",
    "    return dp[W]\n",
    "\n",
    "weights = [1, 2, 3, 4]\n",
    "values = [6, 10, 12, 16]\n",
    "W = 4\n",
    "n = len(weights)\n",
    "print(unbounded_knapsack(weights, values, W, n))  # Output: 22\n"
   ]
  }
 ],
 "metadata": {
  "kernelspec": {
   "display_name": "env",
   "language": "python",
   "name": "python3"
  },
  "language_info": {
   "codemirror_mode": {
    "name": "ipython",
    "version": 3
   },
   "file_extension": ".py",
   "mimetype": "text/x-python",
   "name": "python",
   "nbconvert_exporter": "python",
   "pygments_lexer": "ipython3",
   "version": "3.12.3"
  }
 },
 "nbformat": 4,
 "nbformat_minor": 2
}
