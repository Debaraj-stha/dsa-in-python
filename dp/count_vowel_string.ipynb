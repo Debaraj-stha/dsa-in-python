{
 "cells": [
  {
   "cell_type": "code",
   "execution_count": null,
   "metadata": {},
   "outputs": [
    {
     "name": "stdout",
     "output_type": "stream",
     "text": [
      "15\n"
     ]
    }
   ],
   "source": [
    "def count_vowel_string(n):\n",
    "    # Create a DP table with dimensions (n+1) x (5+1) (extra column for easier indexing)\n",
    "    dp = [[0] * 6 for _ in range(n+1)]  \n",
    "    \n",
    "    # Base Case: When the string length is 1\n",
    "    # There are exactly j ways to form a string of length 1 using the first j vowels\n",
    "    for j in range(1, 6):  # 5 vowels (a, e, i, o, u) indexed as 1-5\n",
    "        dp[1][j] = j  # \"a\" → 1, \"a e\" → 2, \"a e i\" → 3, etc.\n",
    "\n",
    "    # Fill the DP table using the recurrence relation:\n",
    "    # dp[i][j] = dp[i-1][j] + dp[i][j-1]\n",
    "    # dp[i-1][j] → Extending strings of length (i-1) with the j-th vowel\n",
    "    # dp[i][j-1] → Using fewer vowels to form strings of length i\n",
    "    for i in range(2, n+1):  # Iterate over string lengths from 2 to n\n",
    "        for j in range(1, 6):  # Iterate over the 5 vowels\n",
    "            dp[i][j] = dp[i-1][j] + dp[i][j-1]  \n",
    "    \"\"\"\n",
    "    dp[i-1][j] → Extend strings of length i-1 using the j-th vowel\n",
    "\n",
    "    It counts the number of strings of length i-1 that use the first j vowels and adds one more vowel at the end.\n",
    "\n",
    "    dp[i][j-1] → Use fewer vowels\n",
    "\n",
    "    It counts the number of strings of length i without using the j-th vowel (only using the first j-1 vowels).\n",
    "    \"\"\"\n",
    "    return dp[n][5]  # The answer is stored in dp[n][5] (using all 5 vowels)\n",
    "\n",
    "# Example test case\n",
    "print(count_vowel_string(2))  # Output: 15\n"
   ]
  },
  {
   "cell_type": "code",
   "execution_count": 54,
   "metadata": {},
   "outputs": [
    {
     "data": {
      "text/plain": [
       "15"
      ]
     },
     "execution_count": 54,
     "metadata": {},
     "output_type": "execute_result"
    }
   ],
   "source": [
    "import math\n",
    "def comb(n):\n",
    "    return math.comb(n+4,4)\n",
    "comb(2)"
   ]
  }
 ],
 "metadata": {
  "kernelspec": {
   "display_name": "myenv",
   "language": "python",
   "name": "python3"
  },
  "language_info": {
   "codemirror_mode": {
    "name": "ipython",
    "version": 3
   },
   "file_extension": ".py",
   "mimetype": "text/x-python",
   "name": "python",
   "nbconvert_exporter": "python",
   "pygments_lexer": "ipython3",
   "version": "3.12.3"
  }
 },
 "nbformat": 4,
 "nbformat_minor": 2
}
