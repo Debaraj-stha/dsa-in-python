{
 "cells": [
  {
   "cell_type": "code",
   "execution_count": null,
   "metadata": {},
   "outputs": [
    {
     "name": "stdout",
     "output_type": "stream",
     "text": [
      "3\n"
     ]
    }
   ],
   "source": [
    "def russian_doll_envelope(envelopes):\n",
    "    if not envelopes:\n",
    "        return 0\n",
    "    n=len(envelopes)\n",
    "    envelopes.sort(key=lambda x: (x[0], -x[1])) #sort width in ascending order, height in descending order\n",
    "    dp = [1] * n #dp[i] is the max number of envelopes that can be put in the ith envelope, dp[i]=1 #one envelope itself\n",
    "    for i in range(1, n):\n",
    "        for j in range(i):\n",
    "            if envelopes[i][1]>envelopes[j][1]: #only check height   because width is already sorted in ascending order\n",
    "                dp[i]=max(dp[i], dp[j]+1)\n",
    "    return max(dp)\n",
    "\n",
    "envelopes = [[5, 4], [6, 4], [6, 7], [2, 3], [5, 0], [4, 6]]\n",
    "print(russian_doll_envelope(envelopes))"
   ]
  },
  {
   "cell_type": "code",
   "execution_count": null,
   "metadata": {},
   "outputs": [
    {
     "data": {
      "text/plain": [
       "[[1, 6], [1, 5], [3, 5], [5, 8], [7, 9]]"
      ]
     },
     "execution_count": 10,
     "metadata": {},
     "output_type": "execute_result"
    }
   ],
   "source": []
  }
 ],
 "metadata": {
  "kernelspec": {
   "display_name": "myenv",
   "language": "python",
   "name": "python3"
  },
  "language_info": {
   "codemirror_mode": {
    "name": "ipython",
    "version": 3
   },
   "file_extension": ".py",
   "mimetype": "text/x-python",
   "name": "python",
   "nbconvert_exporter": "python",
   "pygments_lexer": "ipython3",
   "version": "3.12.3"
  }
 },
 "nbformat": 4,
 "nbformat_minor": 2
}
