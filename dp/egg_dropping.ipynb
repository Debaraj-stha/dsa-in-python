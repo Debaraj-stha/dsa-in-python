{
 "cells": [
  {
   "cell_type": "code",
   "execution_count": 1,
   "metadata": {},
   "outputs": [
    {
     "name": "stdout",
     "output_type": "stream",
     "text": [
      "4\n"
     ]
    }
   ],
   "source": [
    "def solve(egg,floor):\n",
    "    if egg==1 or egg==0:\n",
    "        return floor\n",
    "    if floor==1:\n",
    "        return floor\n",
    "    min_value=float(\"inf\")\n",
    "    for x in range(1,floor+1):\n",
    "        temp=1+max(solve(egg-1,x-1),solve(egg,floor-x))\n",
    "        min_value=min(min_value,temp)\n",
    "    return min_value\n",
    "egg=3\n",
    "floor=10\n",
    "print(solve(egg,floor)) # Expected output: 4\n"
   ]
  }
 ],
 "metadata": {
  "kernelspec": {
   "display_name": "myenv",
   "language": "python",
   "name": "python3"
  },
  "language_info": {
   "codemirror_mode": {
    "name": "ipython",
    "version": 3
   },
   "file_extension": ".py",
   "mimetype": "text/x-python",
   "name": "python",
   "nbconvert_exporter": "python",
   "pygments_lexer": "ipython3",
   "version": "3.12.3"
  }
 },
 "nbformat": 4,
 "nbformat_minor": 2
}
