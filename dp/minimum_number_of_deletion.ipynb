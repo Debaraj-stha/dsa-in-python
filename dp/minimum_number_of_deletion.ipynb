{
 "cells": [
  {
   "cell_type": "code",
   "execution_count": 1,
   "metadata": {},
   "outputs": [
    {
     "data": {
      "text/plain": [
       "2"
      ]
     },
     "execution_count": 1,
     "metadata": {},
     "output_type": "execute_result"
    }
   ],
   "source": [
    "def lcs(s1,s2):\n",
    "    n1,n2=len(s1),len(s2)\n",
    "    dp=[[0]*(n2+1) for _ in range(n1+1)]\n",
    "    for i in range(1,n1+1):\n",
    "        for j in range(1,n2+1):\n",
    "            if s1[i-1]==s2[j-1]:\n",
    "                dp[i][j]=dp[i-1][j-1]+1\n",
    "            else:\n",
    "                dp[i][j]=max(dp[i-1][j],dp[i][j-1])\n",
    "    return dp[n1][n2]\n",
    "def minimum_deletion(s1,s2):\n",
    "    lcs_length=lcs(s1,s2)\n",
    "    return len(s1)-lcs_length\n",
    "\n",
    "s1=\"heap\"\n",
    "s2=\"pea\"\n",
    "minimum_deletion(s1,s2)"
   ]
  }
 ],
 "metadata": {
  "kernelspec": {
   "display_name": "myenv",
   "language": "python",
   "name": "python3"
  },
  "language_info": {
   "codemirror_mode": {
    "name": "ipython",
    "version": 3
   },
   "file_extension": ".py",
   "mimetype": "text/x-python",
   "name": "python",
   "nbconvert_exporter": "python",
   "pygments_lexer": "ipython3",
   "version": "3.12.3"
  }
 },
 "nbformat": 4,
 "nbformat_minor": 2
}
