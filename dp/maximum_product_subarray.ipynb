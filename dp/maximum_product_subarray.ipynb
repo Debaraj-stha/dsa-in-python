{
 "cells": [
  {
   "cell_type": "code",
   "execution_count": 8,
   "metadata": {},
   "outputs": [
    {
     "name": "stdout",
     "output_type": "stream",
     "text": [
      "(1080, [10, 2, 2, 3, 9])\n"
     ]
    }
   ],
   "source": [
    "def maximum_product_subarray(arr):\n",
    "    if not arr:\n",
    "        return 0\n",
    "    max_product=arr[0]\n",
    "    min_product=arr[0]\n",
    "    result=arr[0]\n",
    "    array_index=[float(\"inf\")]*len(arr)\n",
    "    array_index[0]=arr[0]\n",
    "    starting_index=0\n",
    "    end_index=0\n",
    "    temp_start=0\n",
    "    for i in range(1,len(arr)):\n",
    "        temp=max_product\n",
    "        if arr[i]>max_product*arr[i] or arr[i]<min_product*arr[i]:\n",
    "            temp_start=i\n",
    "      \n",
    "        max_product=max(arr[i],max_product*arr[i],arr[i]*min_product)\n",
    "        min_product=min(arr[i],min_product*arr[i],arr[i]*temp)\n",
    "        if max_product>result:\n",
    "            result=max_product\n",
    "            end_index=i\n",
    "            starting_index=temp_start\n",
    "    return result,arr[starting_index:end_index+1]\n",
    "\n",
    "arr=[-1,10,2,2,3,9,-1]\n",
    "print(maximum_product_subarray(arr))"
   ]
  }
 ],
 "metadata": {
  "kernelspec": {
   "display_name": "myenv",
   "language": "python",
   "name": "python3"
  },
  "language_info": {
   "codemirror_mode": {
    "name": "ipython",
    "version": 3
   },
   "file_extension": ".py",
   "mimetype": "text/x-python",
   "name": "python",
   "nbconvert_exporter": "python",
   "pygments_lexer": "ipython3",
   "version": "3.12.3"
  }
 },
 "nbformat": 4,
 "nbformat_minor": 2
}
