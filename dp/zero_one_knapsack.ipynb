{
 "cells": [
  {
   "cell_type": "code",
   "execution_count": 7,
   "metadata": {},
   "outputs": [
    {
     "data": {
      "text/plain": [
       "7"
      ]
     },
     "execution_count": 7,
     "metadata": {},
     "output_type": "execute_result"
    }
   ],
   "source": [
    "def zeron_one(wt,val,w,n):\n",
    "    if w==0 or n==0:\n",
    "        return 0\n",
    "    if t[n][w]!=-1:\n",
    "        return t[n][w]\n",
    "    elif wt[n-1]<=w:\n",
    "        t[n][w]=max(val[n-1]+zeron_one(wt,val,w-wt[n-1],n-1),zeron_one(wt,val,w,n-1))\n",
    "        return t[n][w]\n",
    "    else:\n",
    "        t[n][w]=zeron_one(wt,val,w,n-1)\n",
    "        return t[n][w]\n",
    "weights = [2, 3, 4, 5]\n",
    "values = [3, 4, 5, 6]\n",
    "W = 5 \n",
    "n=len(weights)\n",
    "t=[[-1 for _ in range(W+1)] for _ in range(n+1)]\n",
    "zeron_one(weights,values,W,n)"
   ]
  },
  {
   "cell_type": "code",
   "execution_count": null,
   "metadata": {},
   "outputs": [],
   "source": [
    "def zerooneknapsack(wt,val,w,n):\n",
    "    dp=[[0]*(w+1) for _ in range(n+1)]\n",
    "    for i in range(1,n+1):\n",
    "        for j in range(1,w+1):\n",
    "            if wt[i-1]<=j:\n",
    "                dp[i][j]=max(val[i-1]+dp[i-1][j-wt[i-1]],dp[i-1][j])\n",
    "            else:\n",
    "                dp[i][j]=dp[i-1][j]\n",
    "    return dp[n][w]\n",
    "weights = [2, 3, 4, 5]\n",
    "values = [3, 4, 5, 6]\n",
    "W = 5 \n",
    "n=len(weights)\n",
    "print(zerooneknapsack(weights,values,W,n))"
   ]
  },
  {
   "cell_type": "code",
   "execution_count": null,
   "metadata": {},
   "outputs": [],
   "source": [
    "\"\"\"\n",
    "Input: weights = [2, 3, 4, 5], values = [3, 4, 5, 6], W = 5  \n",
    "Output: 7  \n",
    "Explanation: The best choice is taking items with values 3 and 4 (total weight 5).\n",
    "\"\"\""
   ]
  }
 ],
 "metadata": {
  "kernelspec": {
   "display_name": "env",
   "language": "python",
   "name": "python3"
  },
  "language_info": {
   "codemirror_mode": {
    "name": "ipython",
    "version": 3
   },
   "file_extension": ".py",
   "mimetype": "text/x-python",
   "name": "python",
   "nbconvert_exporter": "python",
   "pygments_lexer": "ipython3",
   "version": "3.12.3"
  }
 },
 "nbformat": 4,
 "nbformat_minor": 2
}
