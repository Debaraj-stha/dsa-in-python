{
 "cells": [
  {
   "cell_type": "code",
   "execution_count": 21,
   "metadata": {},
   "outputs": [
    {
     "name": "stdout",
     "output_type": "stream",
     "text": [
      "(3, [2, 1, 1])\n"
     ]
    }
   ],
   "source": [
    "def subsetWithGivenDiff(arr,n,diff):\n",
    "    s=sum(arr)\n",
    "    s1=(s+diff)//2\n",
    "    dp=[[0 for i in range(s1+1)] for j in range(n+1)]\n",
    "    dp1=[[False]*(s1+1) for i in range(n+1)]\n",
    "    for i in range(n+1):\n",
    "        dp[i][0]=1\n",
    "        dp1[i][0]=True\n",
    "    for i in range(1,n+1):\n",
    "        for j in range(1,s1+1):\n",
    "            if arr[i-1]<=j:\n",
    "                dp[i][j]=dp[i-1][j-arr[i-1]] + dp[i-1][j]\n",
    "                dp1[i][j]=dp1[i][j] or dp1[i-1][j-arr[i-1]]\n",
    "            else:\n",
    "                dp[i][j]=dp[i-1][j]\n",
    "                dp1[i][j]=dp1[i-1][j]\n",
    "    i=n\n",
    "    j=s1\n",
    "    res=[]\n",
    "    while i>0 and j>0:\n",
    "        if dp[i-1][j]:\n",
    "            i-=1\n",
    "        else:\n",
    "            res.append(arr[i-1])\n",
    "            j-=arr[i-1]\n",
    "            i-=1\n",
    "    return dp[n][s1],res\n",
    "\n",
    "diff=1\n",
    "arr=[1,1,2,3]\n",
    "n=len(arr)\n",
    "print(subsetWithGivenDiff(arr,n,diff))"
   ]
  }
 ],
 "metadata": {
  "kernelspec": {
   "display_name": "env",
   "language": "python",
   "name": "python3"
  },
  "language_info": {
   "codemirror_mode": {
    "name": "ipython",
    "version": 3
   },
   "file_extension": ".py",
   "mimetype": "text/x-python",
   "name": "python",
   "nbconvert_exporter": "python",
   "pygments_lexer": "ipython3",
   "version": "3.12.3"
  }
 },
 "nbformat": 4,
 "nbformat_minor": 2
}
