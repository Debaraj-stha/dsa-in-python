{
 "cells": [
  {
   "cell_type": "code",
   "execution_count": null,
   "metadata": {},
   "outputs": [
    {
     "name": "stdout",
     "output_type": "stream",
     "text": [
      "0\n"
     ]
    }
   ],
   "source": [
    "def cubset_count(arr,diff):\n",
    "    total_sum=sum(arr)\n",
    "    s1_sum=(diff+total_sum)//2\n",
    "    n=len(arr)\n",
    "    dp=[[0]*(s1_sum+1) for _ in range(n+1)]\n",
    "    for i in range(n+1):\n",
    "        dp[i][0]=1\n",
    "    for i in range(1,n+1):\n",
    "        for j in range(1,s1_sum+1):\n",
    "            if arr[i-1]<=j:\n",
    "                dp[i][j]=dp[i-1][j-arr[i-1]]+dp[i-1][j]\n",
    "            else:\n",
    "                dp[i][j]=dp[i-1][j]\n",
    "    return dp[n][s1_sum]\n",
    "\n",
    "diff=1\n",
    "arr=[1,1,2,3]\n",
    "s1_sum=cubset_count(arr,diff)\n",
    "print(s1_sum)"
   ]
  }
 ],
 "metadata": {
  "kernelspec": {
   "display_name": "env",
   "language": "python",
   "name": "python3"
  },
  "language_info": {
   "codemirror_mode": {
    "name": "ipython",
    "version": 3
   },
   "file_extension": ".py",
   "mimetype": "text/x-python",
   "name": "python",
   "nbconvert_exporter": "python",
   "pygments_lexer": "ipython3",
   "version": "3.12.3"
  }
 },
 "nbformat": 4,
 "nbformat_minor": 2
}
