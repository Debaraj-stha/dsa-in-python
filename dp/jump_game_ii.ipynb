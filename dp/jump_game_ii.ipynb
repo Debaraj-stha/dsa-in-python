{
 "cells": [
  {
   "cell_type": "code",
   "execution_count": null,
   "metadata": {},
   "outputs": [
    {
     "name": "stdout",
     "output_type": "stream",
     "text": [
      "2\n"
     ]
    }
   ],
   "source": [
    "def jump_ii_greedy(arr):\n",
    "    steps=0\n",
    "    maximum_reach=0\n",
    "    n=len(arr)\n",
    "    last_jump_max=0\n",
    "    for i in range(n-1):\n",
    "        maximum_reach=max(maximum_reach,arr[i]+i)\n",
    "        if i==last_jump_max:\n",
    "            steps+=1\n",
    "            last_jump_max=maximum_reach\n",
    "            if maximum_reach>=n-1:\n",
    "                return steps\n",
    "    return steps\n",
    "\n",
    "arr = [2, 3, 1, 1, 4]\n",
    "print(jump_ii_greedy(arr))  # Output: 2"
   ]
  },
  {
   "cell_type": "code",
   "execution_count": null,
   "metadata": {},
   "outputs": [
    {
     "name": "stdout",
     "output_type": "stream",
     "text": [
      "2\n"
     ]
    }
   ],
   "source": [
    "def jump_game_ii(arr):\n",
    "    n = len(arr)\n",
    "    if n == 1:\n",
    "        return 0  # Already at the last index\n",
    "    \n",
    "    dp=[float(\"inf\")]*n\n",
    "    dp[0]=0\n",
    "    for i in range(1,n):\n",
    "        for j in range(i):\n",
    "            if j+arr[j]>=i:\n",
    "                dp[i]=min(dp[i],dp[j]+1)\n",
    "                \n",
    "    return dp[n-1]\n",
    "arr = [2, 3, 1, 1, 4]\n",
    "print(jump_game_ii(arr))  # Output: 2\n"
   ]
  }
 ],
 "metadata": {
  "kernelspec": {
   "display_name": "myenv",
   "language": "python",
   "name": "python3"
  },
  "language_info": {
   "codemirror_mode": {
    "name": "ipython",
    "version": 3
   },
   "file_extension": ".py",
   "mimetype": "text/x-python",
   "name": "python",
   "nbconvert_exporter": "python",
   "pygments_lexer": "ipython3",
   "version": "3.12.3"
  }
 },
 "nbformat": 4,
 "nbformat_minor": 2
}
