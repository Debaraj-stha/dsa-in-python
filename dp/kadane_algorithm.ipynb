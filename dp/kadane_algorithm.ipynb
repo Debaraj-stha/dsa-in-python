{
 "cells": [
  {
   "cell_type": "code",
   "execution_count": 13,
   "metadata": {},
   "outputs": [
    {
     "data": {
      "text/plain": [
       "'\\nInput: nums = [-2,1,-3,4,-1,2,1,-5,4]  \\nOutput: 6  \\nExplanation: The subarray [4, -1, 2, 1] has the maximum sum.\\n'"
      ]
     },
     "execution_count": 13,
     "metadata": {},
     "output_type": "execute_result"
    }
   ],
   "source": [
    "\"\"\"\n",
    "Input: nums = [-2,1,-3,4,-1,2,1,-5,4]  \n",
    "Output: 6  \n",
    "Explanation: The subarray [4, -1, 2, 1] has the maximum sum.\n",
    "\"\"\""
   ]
  },
  {
   "cell_type": "code",
   "execution_count": 18,
   "metadata": {},
   "outputs": [
    {
     "name": "stdout",
     "output_type": "stream",
     "text": [
      "15\n"
     ]
    }
   ],
   "source": [
    "def kadane_algorithm(nums):\n",
    "    n=len(nums)\n",
    "    current_sum=nums[0]\n",
    "    current_max=nums[0]\n",
    "    for i in range(1,n):\n",
    "        current_sum=max(nums[i],current_sum+nums[i])\n",
    "        current_max=max(current_max,current_sum)\n",
    "    return current_max\n",
    "\n",
    "nums = [3,-4,5,4,-1,7,-8]\n",
    "print(kadane_algorithm(nums))\n"
   ]
  },
  {
   "cell_type": "code",
   "execution_count": null,
   "metadata": {},
   "outputs": [],
   "source": []
  }
 ],
 "metadata": {
  "kernelspec": {
   "display_name": "env",
   "language": "python",
   "name": "python3"
  },
  "language_info": {
   "codemirror_mode": {
    "name": "ipython",
    "version": 3
   },
   "file_extension": ".py",
   "mimetype": "text/x-python",
   "name": "python",
   "nbconvert_exporter": "python",
   "pygments_lexer": "ipython3",
   "version": "3.12.3"
  }
 },
 "nbformat": 4,
 "nbformat_minor": 2
}
