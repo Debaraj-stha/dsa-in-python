{
 "cells": [
  {
   "cell_type": "code",
   "execution_count": null,
   "metadata": {},
   "outputs": [
    {
     "name": "stdout",
     "output_type": "stream",
     "text": [
      "117\n"
     ]
    }
   ],
   "source": [
    "def find_sum_of_increasing_subsequences(arr):\n",
    "    dp=[0]*(len(arr)+1)\n",
    "    dp[0]=arr[0]\n",
    "    for i in range(1,len(arr)):\n",
    "        for j in range(i):\n",
    "            if arr[i]>arr[j]:\n",
    "                dp[i]=max(dp[i],arr[i]+dp[j])\n",
    "    return max(dp)\n",
    "\n",
    "\n",
    "arr=[1,9,23,84,11,30]\n",
    "print(find_sum_of_increasing_subsequences(arr)) # Output: 117\n"
   ]
  }
 ],
 "metadata": {
  "kernelspec": {
   "display_name": "env",
   "language": "python",
   "name": "python3"
  },
  "language_info": {
   "codemirror_mode": {
    "name": "ipython",
    "version": 3
   },
   "file_extension": ".py",
   "mimetype": "text/x-python",
   "name": "python",
   "nbconvert_exporter": "python",
   "pygments_lexer": "ipython3",
   "version": "3.12.3"
  }
 },
 "nbformat": 4,
 "nbformat_minor": 2
}
