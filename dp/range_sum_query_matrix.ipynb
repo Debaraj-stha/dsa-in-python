{
 "cells": [
  {
   "cell_type": "code",
   "execution_count": 7,
   "metadata": {},
   "outputs": [
    {
     "name": "stdout",
     "output_type": "stream",
     "text": [
      "28 8 9 3\n",
      "[0, 0, 0, 0, 0, 0]\n",
      "[0, 3, 3, 4, 8, 10]\n",
      "[0, 8, 14, 18, 24, 27]\n",
      "[0, 9, 17, 21, 28, 36]\n",
      "[0, 13, 22, 26, 34, 49]\n",
      "[0, 14, 23, 30, 38, 58]\n",
      "[14]\n"
     ]
    }
   ],
   "source": [
    "def range_sum_query_matrix(matrix, queries):\n",
    "    rows, cols = len(matrix), len(matrix[0])\n",
    "    dp = [[0] * (cols + 1) for _ in range(rows + 1)]\n",
    "    \n",
    "    # Fill the dp matrix with prefix sums\n",
    "    for i in range(1, rows + 1):\n",
    "        for j in range(1, cols + 1):\n",
    "            # Prefix sum formula: sum of top, left, subtract overlapping, add current cell\n",
    "            dp[i][j] = dp[i-1][j] + dp[i][j-1] - dp[i-1][j-1] + matrix[i-1][j-1]\n",
    "    result = []\n",
    "    for query in queries:\n",
    "        row1, col1, row2, col2 = query\n",
    "        \n",
    "        # Compute the sum of the submatrix using the dp table\n",
    "        #dp[row2+1][col2+1] computes sum of entire region from (0,0) to (row2,col2)\n",
    "        #dp[row1][col2+1] computes sum of  elements above row1 which is removed\n",
    "        #dp[row2+1][col1] computes  sum of element before column 1 and we remove it\n",
    "        #dp[row1][col1] compute sum of elements  from (0,0) to (row1-1,col1-1)\n",
    "        #which is added back because we have subtract it twice  to get correct result\n",
    "        a=dp[row2+1][col2+1]\n",
    "        b=dp[row1][col2+1]\n",
    "        c=dp[row2+1][col1]\n",
    "        d=dp[row1][col1]\n",
    "        total_sum =  a-b-c+d\n",
    "        print(a,b,c,d)\n",
    "      \n",
    "        result.append(total_sum)\n",
    "        break\n",
    "    for row in range(len(dp)):\n",
    "        print(dp[row])\n",
    "\n",
    "    return result\n",
    "matrix = [\n",
    "    [3, 0, 1, 4, 2],\n",
    "    [5, 6, 3, 2, 1],\n",
    "    [1, 2, 0, 1, 5],\n",
    "    [4, 1, 0, 1, 7],\n",
    "    [1, 0, 3, 0, 5]\n",
    "]\n",
    "\n",
    "# Queries to find sum in submatrices\n",
    "queries = [(1, 1, 2, 3), (1, 1, 1, 4), (1, 1, 3, 4)]\n",
    "\n",
    "\n",
    "print(range_sum_query_matrix(matrix, queries))\n"
   ]
  }
 ],
 "metadata": {
  "kernelspec": {
   "display_name": "myenv",
   "language": "python",
   "name": "python3"
  },
  "language_info": {
   "codemirror_mode": {
    "name": "ipython",
    "version": 3
   },
   "file_extension": ".py",
   "mimetype": "text/x-python",
   "name": "python",
   "nbconvert_exporter": "python",
   "pygments_lexer": "ipython3",
   "version": "3.12.3"
  }
 },
 "nbformat": 4,
 "nbformat_minor": 2
}
