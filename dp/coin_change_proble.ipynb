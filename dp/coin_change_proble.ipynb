{
 "cells": [
  {
   "cell_type": "code",
   "execution_count": 21,
   "metadata": {},
   "outputs": [
    {
     "data": {
      "text/plain": [
       "'\\nInput: coins = [1, 2, 5], amount = 11  \\nOutput: 3  # (5+5+1)\\n\\nInput: coins = [2], amount = 3  \\nOutput: -1  # Not possible\\n'"
      ]
     },
     "execution_count": 21,
     "metadata": {},
     "output_type": "execute_result"
    }
   ],
   "source": [
    "\"\"\"\n",
    "Input: coins = [1, 2, 5], amount = 11  \n",
    "Output: 3  # (5+5+1)\n",
    "\n",
    "Input: coins = [2], amount = 3  \n",
    "Output: -1  # Not possible\n",
    "\"\"\""
   ]
  },
  {
   "cell_type": "code",
   "execution_count": 19,
   "metadata": {},
   "outputs": [
    {
     "name": "stdout",
     "output_type": "stream",
     "text": [
      "-1\n"
     ]
    }
   ],
   "source": [
    "def coin_change_problem(coins,target):\n",
    "    dp=[float(\"inf\")]*(target+1)\n",
    "    dp[0]=0\n",
    "    for coin in coins:\n",
    "        for i in range(coin,target+1):\n",
    "            dp[i]=min(dp[i],dp[i-coin]+1)\n",
    "    return dp[target] if dp[target]!=float(\"inf\") else -1\n",
    "\n",
    "coins=[2]\n",
    "amount=11\n",
    "print(coin_change_problem(coins,amount))  # Output: 3"
   ]
  },
  {
   "cell_type": "code",
   "execution_count": 20,
   "metadata": {},
   "outputs": [
    {
     "data": {
      "text/plain": [
       "inf"
      ]
     },
     "execution_count": 20,
     "metadata": {},
     "output_type": "execute_result"
    }
   ],
   "source": [
    "x=float(\"inf\")\n",
    "x=x+1\n",
    "x"
   ]
  }
 ],
 "metadata": {
  "kernelspec": {
   "display_name": "env",
   "language": "python",
   "name": "python3"
  },
  "language_info": {
   "codemirror_mode": {
    "name": "ipython",
    "version": 3
   },
   "file_extension": ".py",
   "mimetype": "text/x-python",
   "name": "python",
   "nbconvert_exporter": "python",
   "pygments_lexer": "ipython3",
   "version": "3.12.3"
  }
 },
 "nbformat": 4,
 "nbformat_minor": 2
}
