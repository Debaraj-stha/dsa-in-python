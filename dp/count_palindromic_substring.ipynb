{
 "cells": [
  {
   "cell_type": "code",
   "execution_count": null,
   "metadata": {},
   "outputs": [
    {
     "name": "stdout",
     "output_type": "stream",
     "text": [
      "3\n",
      "6\n",
      "10\n",
      "4\n",
      "14\n"
     ]
    }
   ],
   "source": [
    "def count_palindromic_substrings(s):\n",
    "    \"\"\"\n",
    "    Counts the total number of palindromic substrings in a given string.\n",
    "\n",
    "    Args:\n",
    "        s: The input string.\n",
    "\n",
    "    Returns:\n",
    "        The total number of palindromic substrings in s.\n",
    "    \"\"\"\n",
    "    n = len(s)\n",
    "    count = 0\n",
    "    # dp[i][j] will be True if the substring s[i:j+1] is a palindrome, False otherwise.\n",
    "    dp = [[False] * n for _ in range(n)]\n",
    "\n",
    "    # Base case 1: Single characters are palindromes.\n",
    "    for i in range(n):\n",
    "        dp[i][i] = True\n",
    "        count += 1\n",
    "\n",
    "    # Base case 2: Check for palindromes of length 2.\n",
    "    for i in range(n - 1):\n",
    "        if s[i] == s[i + 1]:\n",
    "            dp[i][i + 1] = True\n",
    "            count += 1\n",
    "\n",
    "    # Check for palindromes of length 3 or more.\n",
    "    for length in range(3, n + 1):\n",
    "        for i in range(n - length + 1):\n",
    "            j = i + length - 1  # Ending index of the substring\n",
    "            # A substring s[i:j+1] is a palindrome if its outer characters match\n",
    "            # and the inner substring s[i+1:j] is also a palindrome.\n",
    "            if s[i] == s[j] and dp[i + 1][j - 1]:\n",
    "                dp[i][j] = True\n",
    "                count += 1\n",
    "\n",
    "    return count\n",
    "\n",
    "# Example test cases\n",
    "print(count_palindromic_substrings(\"abc\"))       # Output: 3 (\"a\", \"b\", \"c\")\n",
    "print(count_palindromic_substrings(\"aaa\"))       # Output: 6 (\"a\", \"a\", \"a\", \"aa\", \"aa\", \"aaa\")\n",
    "print(count_palindromic_substrings(\"racecar\"))   # Output: 7 (\"r\", \"a\", \"c\", \"e\", \"c\", \"a\", \"r\", \"aca\", \"ece\", \"racecar\") \n",
    "print(count_palindromic_substrings(\"aba\"))       # Output: 4 (\"a\", \"b\", \"a\", \"aba\")\n",
    "print(count_palindromic_substrings(\"aabbbaa\"))   # Output: 14"
   ]
  }
 ],
 "metadata": {
  "kernelspec": {
   "display_name": "myenv",
   "language": "python",
   "name": "python3"
  },
  "language_info": {
   "codemirror_mode": {
    "name": "ipython",
    "version": 3
   },
   "file_extension": ".py",
   "mimetype": "text/x-python",
   "name": "python",
   "nbconvert_exporter": "python",
   "pygments_lexer": "ipython3",
   "version": "3.12.3"
  }
 },
 "nbformat": 4,
 "nbformat_minor": 2
}
