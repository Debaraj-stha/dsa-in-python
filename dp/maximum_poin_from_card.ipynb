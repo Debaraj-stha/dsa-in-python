{
 "cells": [
  {
   "cell_type": "code",
   "execution_count": 8,
   "metadata": {},
   "outputs": [
    {
     "name": "stdout",
     "output_type": "stream",
     "text": [
      "12\n"
     ]
    }
   ],
   "source": [
    "def maximum_points_from_card(cardPoints, k):\n",
    "    n = len(cardPoints)\n",
    "    current_sum = sum(cardPoints[:k])  # Sum of first `k` cards\n",
    "    max_sum = current_sum\n",
    "    \n",
    "    # Now, slide the window: start from the end of the left side and move towards the right side\n",
    "    left = k - 1  # last index of the left part\n",
    "    right = n - 1  # last index of the array\n",
    "    \n",
    "    # Slide the window from left to right\n",
    "    while left >= 0:\n",
    "        current_sum -= cardPoints[left]  # Remove card from the left side\n",
    "        current_sum += cardPoints[right]  # Add card from the right side\n",
    "        max_sum = max(max_sum, current_sum)  # Update max sum\n",
    "        left -= 1  # Move left pointer to the left\n",
    "        right -= 1  # Move right pointer to the left\n",
    "        \n",
    "    return max_sum\n",
    "\n",
    "# Example usage\n",
    "cardPoints = [1, 2, 3, 4, 5, 6, 1]\n",
    "k = 3\n",
    "print(maximum_points_from_card(cardPoints, k))  # Output: 12\n"
   ]
  }
 ],
 "metadata": {
  "kernelspec": {
   "display_name": "myenv",
   "language": "python",
   "name": "python3"
  },
  "language_info": {
   "codemirror_mode": {
    "name": "ipython",
    "version": 3
   },
   "file_extension": ".py",
   "mimetype": "text/x-python",
   "name": "python",
   "nbconvert_exporter": "python",
   "pygments_lexer": "ipython3",
   "version": "3.12.3"
  }
 },
 "nbformat": 4,
 "nbformat_minor": 2
}
