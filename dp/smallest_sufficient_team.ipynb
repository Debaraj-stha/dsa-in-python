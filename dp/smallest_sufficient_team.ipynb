{
 "cells": [
  {
   "cell_type": "code",
   "execution_count": null,
   "metadata": {},
   "outputs": [
    {
     "data": {
      "text/plain": [
       "8"
      ]
     },
     "execution_count": 5,
     "metadata": {},
     "output_type": "execute_result"
    }
   ],
   "source": [
    "x"
   ]
  },
  {
   "cell_type": "code",
   "execution_count": 7,
   "metadata": {},
   "outputs": [
    {
     "name": "stdout",
     "output_type": "stream",
     "text": [
      "8\n",
      "[3, 6, 5, 7]\n",
      "[3]\n"
     ]
    }
   ],
   "source": [
    "from collections import defaultdict\n",
    "\n",
    "def smallest_sufficient_team(skills, people):\n",
    "    # `n` is the number of people, and `m` is the number of skills\n",
    "    n = len(people)\n",
    "    m = len(skills)\n",
    "    print(1<<m)\n",
    "\n",
    "    # Create a dictionary to map each skill to a unique index\n",
    "    skill_to_index = {skill: i for i, skill in enumerate(skills)}\n",
    "\n",
    "    # Create a list `person_skills_mask` to store bitmasks for each person's skills\n",
    "    person_skills_mask = []\n",
    "    for p_skills in people:\n",
    "        mask = 0  # Initialize a variable to store the bitmask for current person\n",
    "        for skill in p_skills:\n",
    "            if skill in skill_to_index:\n",
    "                # Set the bit corresponding to the skill in the mask\n",
    "                mask |= (1 << skill_to_index[skill])\n",
    "        # Append the generated bitmask for the person\n",
    "        person_skills_mask.append(mask)\n",
    "    \n",
    "    print(person_skills_mask)  # Prints the list of bitmasks for each person (for debugging purposes)\n",
    "\n",
    "    # Dictionary to memoize results for states (index, covered_mask)\n",
    "    memo = {}\n",
    "\n",
    "    # Helper function to recursively solve the problem\n",
    "    def solve(index, covered_mask):\n",
    "        # Base case: If all skills are covered (covered_mask == all bits set)\n",
    "        if covered_mask == (1 << m) - 1:\n",
    "            return []  # All skills are covered, no more people needed\n",
    "\n",
    "        # Base case: If all people have been considered and the skills are not covered, return None\n",
    "        if index == n:\n",
    "            return None  # Cannot form a sufficient team\n",
    "\n",
    "        # Check if the current state has already been computed\n",
    "        if (index, covered_mask) in memo:\n",
    "            return memo[(index, covered_mask)]\n",
    "\n",
    "        # Option 1: Don't include the current person\n",
    "        remaining_team_without = solve(index + 1, covered_mask)\n",
    "\n",
    "        # Option 2: Include the current person\n",
    "        next_covered_mask = covered_mask | person_skills_mask[index]  # Update covered skills with current person's skills\n",
    "        remaining_team_with = solve(index + 1, next_covered_mask)\n",
    "\n",
    "        # If including the current person gives a valid team, create the team with this person\n",
    "        if remaining_team_with is not None:\n",
    "            current_team_with = [index] + remaining_team_with\n",
    "        else:\n",
    "            current_team_with = None  # If including doesn't help, set to None\n",
    "\n",
    "        # Decide whether to include the current person based on the smallest team size\n",
    "        result = None\n",
    "        if remaining_team_without is not None and current_team_with is not None:\n",
    "            # If both options are valid, choose the one with the fewer people\n",
    "            if len(remaining_team_without) <= len(current_team_with):\n",
    "                result = remaining_team_without\n",
    "            else:\n",
    "                result = current_team_with\n",
    "        elif remaining_team_without is not None:\n",
    "            result = remaining_team_without  # If only the \"without\" option is valid\n",
    "        elif current_team_with is not None:\n",
    "            result = current_team_with  # If only the \"with\" option is valid\n",
    "\n",
    "        # Memoize the result for the current state\n",
    "        memo[(index, covered_mask)] = result\n",
    "        return result\n",
    "\n",
    "    # Start the recursive solution from the first person (index = 0) and no skills covered (covered_mask = 0)\n",
    "    return solve(0, 0)\n",
    "\n",
    "# Example usage:\n",
    "skills = [\"java\", \"python\", \"cpp\"]\n",
    "people = [[\"java\", \"python\"], [\"python\", \"cpp\"], [\"java\", \"cpp\"], [\"java\", \"python\", \"cpp\"]]\n",
    "result = smallest_sufficient_team(skills, people)\n",
    "print(result)  # Outputs the indices of the smallest sufficient team\n"
   ]
  }
 ],
 "metadata": {
  "kernelspec": {
   "display_name": "myenv",
   "language": "python",
   "name": "python3"
  },
  "language_info": {
   "codemirror_mode": {
    "name": "ipython",
    "version": 3
   },
   "file_extension": ".py",
   "mimetype": "text/x-python",
   "name": "python",
   "nbconvert_exporter": "python",
   "pygments_lexer": "ipython3",
   "version": "3.12.3"
  }
 },
 "nbformat": 4,
 "nbformat_minor": 2
}
