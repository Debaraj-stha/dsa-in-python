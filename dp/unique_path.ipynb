{
 "cells": [
  {
   "cell_type": "code",
   "execution_count": null,
   "metadata": {},
   "outputs": [
    {
     "name": "stdout",
     "output_type": "stream",
     "text": [
      "28\n"
     ]
    }
   ],
   "source": [
    "def unique_path(m, n):\n",
    "    # Initialize the dp array where each cell is initially set to 1.\n",
    "    # The first row and first column have only one way to reach (move only right or move only down).\n",
    "    dp = [[1] * n for _ in range(m)]\n",
    "    \n",
    "    # Fill the dp array for other cells\n",
    "    for i in range(1, m):\n",
    "        for j in range(1, n):\n",
    "            # Each cell is the sum of the number of ways to reach the cell from above (dp[i-1][j])\n",
    "            # and from the left (dp[i][j-1])\n",
    "            dp[i][j] = dp[i-1][j] + dp[i][j-1]\n",
    "    \n",
    "    # Return the number of ways to reach the bottom-right corner\n",
    "    return dp[-1][-1]\n",
    "\n",
    "# Test the function\n",
    "print(unique_path(3, 7))  # Output: 28\n"
   ]
  }
 ],
 "metadata": {
  "kernelspec": {
   "display_name": "myenv",
   "language": "python",
   "name": "python3"
  },
  "language_info": {
   "codemirror_mode": {
    "name": "ipython",
    "version": 3
   },
   "file_extension": ".py",
   "mimetype": "text/x-python",
   "name": "python",
   "nbconvert_exporter": "python",
   "pygments_lexer": "ipython3",
   "version": "3.12.3"
  }
 },
 "nbformat": 4,
 "nbformat_minor": 2
}
