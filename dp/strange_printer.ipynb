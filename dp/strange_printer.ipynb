{
 "cells": [
  {
   "cell_type": "code",
   "execution_count": null,
   "metadata": {},
   "outputs": [
    {
     "data": {
      "text/plain": [
       "2"
      ]
     },
     "execution_count": 15,
     "metadata": {},
     "output_type": "execute_result"
    }
   ],
   "source": [
    "def strange_printer(s):\n",
    "    n=len(s)\n",
    "    dp=[[0]*n for i in range(n)]\n",
    "    # Base case: For substrings of length 1 (i.e., individual characters), we need exactly 1 turn\n",
    "    for i in range(n):\n",
    "        dp[i][i]=1\n",
    "     # Loop over all possible lengths of substrings, from length 2 to the full string length\n",
    "    for length in range(2,n+1):#length of substring we are considering\n",
    "        for i in range(n-length+1): #start index of substring\n",
    "            j=i+length-1 #end index of substring\n",
    "            # Assume we print the first part (s[i...i+1]) in a new turn, i.e., it's one more turn than s[i+1...j]\n",
    "            dp[i][j]=dp[i+1][j]+1\n",
    "            #try to merge the part of substring to minimize the numbers of turns\n",
    "            for k in range(i+1,j+1):\n",
    "                # If characters at s[k] and s[i] are the same, we can merge the printing of s[i...k] and s[k...j]\n",
    "                if s[k] == s[i]:\n",
    "                    # dp[i + 1][k - 1] is the result for the part before s[k]\n",
    "                    # dp[k][j] is the result for the part from s[k] to s[j]\n",
    "\n",
    "                    \"\"\"\n",
    "                        dp[i][j]: This represents the minimum number of turns required to print the substring s[i...j].\n",
    "                          It's the value we want to update.\n",
    "\n",
    "                        dp[i+1][k-1]: This represents the minimum number of turns required to print the substring s[i+1...k-1]. \n",
    "                        It's the part of the string before the splitting point k.\n",
    "\n",
    "                        dp[k][j]: This represents the minimum number of turns required to print the substring s[k...j].\n",
    "                          It's the part of the string from the splitting point k to j.\n",
    "\n",
    "                        dp[i+1][k-1] + dp[k][j]: This is the total number of turns if we print the two parts separately:\n",
    "\n",
    "                            First, print the substring s[i+1...k-1] using dp[i+1][k-1] turns.\n",
    "\n",
    "                            Then, print the substring s[k...j] using dp[k][j] turns.\n",
    "                    \"\"\"\n",
    "                    dp[i][j]=min(dp[i][j],dp[i+1][k-1]+dp[k][j])\n",
    "    return dp[0][n-1]\n",
    "strange_printer(\"aaabb\")\n"
   ]
  }
 ],
 "metadata": {
  "kernelspec": {
   "display_name": "myenv",
   "language": "python",
   "name": "python3"
  },
  "language_info": {
   "codemirror_mode": {
    "name": "ipython",
    "version": 3
   },
   "file_extension": ".py",
   "mimetype": "text/x-python",
   "name": "python",
   "nbconvert_exporter": "python",
   "pygments_lexer": "ipython3",
   "version": "3.12.3"
  }
 },
 "nbformat": 4,
 "nbformat_minor": 2
}
