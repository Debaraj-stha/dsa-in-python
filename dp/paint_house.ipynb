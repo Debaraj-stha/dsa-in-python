{
 "cells": [
  {
   "cell_type": "markdown",
   "metadata": {},
   "source": [
    "The Paint House Problem is a classic dynamic programming problem where you are given a set of houses, and each house can be painted in one of three colors. The goal is to minimize the total cost of painting the houses such that no two adjacent houses have the same color."
   ]
  },
  {
   "cell_type": "code",
   "execution_count": 15,
   "metadata": {},
   "outputs": [
    {
     "name": "stdout",
     "output_type": "stream",
     "text": [
      "10\n"
     ]
    }
   ],
   "source": [
    "def paint_house(cost):\n",
    "    rows, cols = len(cost), len(cost[0])\n",
    "    dp = [[0] * cols for _ in range(rows)]\n",
    "    dp[0] = cost[0]  # Base case: first house costs are directly copied\n",
    "    for i in range(1, rows):\n",
    "        dp[i][0] = cost[i][0] + min(dp[i-1][1], dp[i-1][2])  # Red\n",
    "        dp[i][1] = cost[i][1] + min(dp[i-1][0], dp[i-1][2])  # Blue\n",
    "        dp[i][2] = cost[i][2] + min(dp[i-1][0], dp[i-1][1])  # Green\n",
    "    \n",
    "    return min(dp[-1])  # The result is the minimum of the last row\n",
    "\n",
    "# For house 1, cost of red is 17, blue is 2, green is 17\n",
    "cost = [\n",
    "    [17, 2, 17],  # House 1\n",
    "    [16, 16, 5],  # House 2\n",
    "    [14, 3, 19]   # House 3\n",
    "]\n",
    "\n",
    "print(paint_house(cost))  # Expected Output: 10\n"
   ]
  }
 ],
 "metadata": {
  "kernelspec": {
   "display_name": "myenv",
   "language": "python",
   "name": "python3"
  },
  "language_info": {
   "codemirror_mode": {
    "name": "ipython",
    "version": 3
   },
   "file_extension": ".py",
   "mimetype": "text/x-python",
   "name": "python",
   "nbconvert_exporter": "python",
   "pygments_lexer": "ipython3",
   "version": "3.12.3"
  }
 },
 "nbformat": 4,
 "nbformat_minor": 2
}
