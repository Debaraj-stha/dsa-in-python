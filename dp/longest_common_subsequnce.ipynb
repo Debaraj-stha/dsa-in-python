{
 "cells": [
  {
   "cell_type": "code",
   "execution_count": 11,
   "metadata": {},
   "outputs": [
    {
     "name": "stdout",
     "output_type": "stream",
     "text": [
      "4\n"
     ]
    }
   ],
   "source": [
    "def longest_common_subsequence(str1,str2):\n",
    "    n1=len(str1)+1\n",
    "    n2=len(str2)+1\n",
    "    dp=[[0]*n2 for _ in range(n1)]\n",
    "    for i in range(1,n1):\n",
    "        for j in range(1,n2):\n",
    "            if str1[i-1]==str2[j-1]:\n",
    "                dp[i][j]=dp[i-1][j-1]+1\n",
    "            else:\n",
    "                dp[i][j]=max(dp[i-1][j],dp[i][j-1])\n",
    "    return dp[n1-1][n2-1]\n",
    "\n",
    "\n",
    "str1 = \"abcde\"\n",
    "str2 = \"abce\"\n",
    "\n",
    "print(longest_common_subsequence(str1,str2))  # Output: 4"
   ]
  }
 ],
 "metadata": {
  "kernelspec": {
   "display_name": "env",
   "language": "python",
   "name": "python3"
  },
  "language_info": {
   "codemirror_mode": {
    "name": "ipython",
    "version": 3
   },
   "file_extension": ".py",
   "mimetype": "text/x-python",
   "name": "python",
   "nbconvert_exporter": "python",
   "pygments_lexer": "ipython3",
   "version": "3.12.3"
  }
 },
 "nbformat": 4,
 "nbformat_minor": 2
}
