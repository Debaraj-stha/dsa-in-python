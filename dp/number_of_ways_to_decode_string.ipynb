{
 "cells": [
  {
   "cell_type": "code",
   "execution_count": 78,
   "metadata": {},
   "outputs": [
    {
     "name": "stdout",
     "output_type": "stream",
     "text": [
      "3\n"
     ]
    }
   ],
   "source": [
    "def number_of_ways_to_decode_string(string):\n",
    "\n",
    "    if len(string) == 1:\n",
    "        return 1\n",
    "    if len(string) == 0:\n",
    "        return 1\n",
    "    if string[0] == '0':\n",
    "        return 0\n",
    "    result = number_of_ways_to_decode_string(string[1:])\n",
    "\n",
    "\n",
    "    # Check for two-digit decoding (valid if the number is ≤ 26)\n",
    "    if len(string) >= 2 and int(string[:2]) <= 26:\n",
    "        result += number_of_ways_to_decode_string(string[2:])\n",
    "\n",
    "    return result\n",
    "\n",
    "\n",
    "print(number_of_ways_to_decode_string(\"122\")) \n",
    "\n"
   ]
  },
  {
   "cell_type": "code",
   "execution_count": 86,
   "metadata": {},
   "outputs": [
    {
     "name": "stdout",
     "output_type": "stream",
     "text": [
      "2\n"
     ]
    }
   ],
   "source": [
    "def number_of_ways_to_decode_string(numbers):\n",
    "    n=len(numbers)\n",
    "    if n==0:\n",
    "        return 1\n",
    "    dp=[0]*(n+1)\n",
    "    dp[0]=1\n",
    "    if numbers[0]!=\"0\":\n",
    "        dp[1]=1\n",
    "    for i in range(2,n+1):\n",
    "        if numbers[i-1]!=\"0\":\n",
    "            dp[i]+=dp[i-1]\n",
    "        if \"10\"<=numbers[i-2:i]<= \"26\":\n",
    "            dp[i]+=dp[i-2]\n",
    "    return dp[n]\n",
    "print(number_of_ways_to_decode_string(\"12\"))"
   ]
  },
  {
   "cell_type": "code",
   "execution_count": 76,
   "metadata": {},
   "outputs": [
    {
     "name": "stdout",
     "output_type": "stream",
     "text": [
      "abb\n",
      "av\n",
      "lb\n"
     ]
    }
   ],
   "source": [
    "def decode_number(numbers,current=\"\"):\n",
    "    if len(numbers)==0:\n",
    "        print(current)\n",
    "        return\n",
    "    first_char=numbers[0]\n",
    "    if first_char!=\"0\":\n",
    "        decode_number(numbers[1:],current+chr(int(first_char)+96))\n",
    "    if len(numbers)>=2:\n",
    "        first_two_char=numbers[:2]\n",
    "        if \"10\"<=first_two_char<=\"26\":\n",
    "            decode_number(numbers[2:],current+chr(int(first_two_char)+96))\n",
    "decode_number(\"122\")\n"
   ]
  },
  {
   "cell_type": "code",
   "execution_count": null,
   "metadata": {},
   "outputs": [
    {
     "data": {
      "text/plain": [
       "97"
      ]
     },
     "execution_count": 68,
     "metadata": {},
     "output_type": "execute_result"
    }
   ],
   "source": []
  }
 ],
 "metadata": {
  "kernelspec": {
   "display_name": "myenv",
   "language": "python",
   "name": "python3"
  },
  "language_info": {
   "codemirror_mode": {
    "name": "ipython",
    "version": 3
   },
   "file_extension": ".py",
   "mimetype": "text/x-python",
   "name": "python",
   "nbconvert_exporter": "python",
   "pygments_lexer": "ipython3",
   "version": "3.12.3"
  }
 },
 "nbformat": 4,
 "nbformat_minor": 2
}
