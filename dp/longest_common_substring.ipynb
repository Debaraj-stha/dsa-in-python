{
 "cells": [
  {
   "cell_type": "code",
   "execution_count": 51,
   "metadata": {},
   "outputs": [
    {
     "data": {
      "text/plain": [
       "2"
      ]
     },
     "execution_count": 51,
     "metadata": {},
     "output_type": "execute_result"
    }
   ],
   "source": [
    "def longestCommonSubstringDP(x,y,n,m):\n",
    "    dp=[[0]*(m+1) for _ in range(n+1)]\n",
    "    max_value=0\n",
    "    for i in range(1,n+1):\n",
    "        for j in range(1,m+1):\n",
    "            if x[i-1]==y[j-1]:\n",
    "                dp[i][j]=1+dp[i-1][j-1]\n",
    "                max_value=max(max_value,dp[i][j])\n",
    "            else:\n",
    "                dp[i][j]=0\n",
    "    return max_value\n",
    "\n",
    "x = \"abcdgh\"\n",
    "y = \"abedfhr\"\n",
    "n=len(x)\n",
    "m=len(y)\n",
    "longestCommonSubstringDP(x,y,n,m)"
   ]
  },
  {
   "cell_type": "code",
   "execution_count": 52,
   "metadata": {},
   "outputs": [
    {
     "name": "stdout",
     "output_type": "stream",
     "text": [
      "2\n"
     ]
    }
   ],
   "source": [
    "def longestCommonSubstringRecursive(x,y,n,m,count=None):\n",
    "    if count is None:\n",
    "        count=0\n",
    "    if n==0 or m==0:\n",
    "        return count\n",
    "    if x[n-1]==y[m-1]:\n",
    "        return longestCommonSubstringRecursive(x,y,n-1,m-1,count+1)\n",
    "    else:\n",
    "        return max(longestCommonSubstringRecursive(x,y,n-1,m),longestCommonSubstringRecursive(x,y,n,m-1))\n",
    "\n",
    "x = \"abcdgh\"\n",
    "y = \"abedfhr\"\n",
    "n=len(x)\n",
    "m=len(y)\n",
    "print(longestCommonSubstringRecursive(x,y,n,m))\n"
   ]
  }
 ],
 "metadata": {
  "kernelspec": {
   "display_name": "myenv",
   "language": "python",
   "name": "python3"
  },
  "language_info": {
   "codemirror_mode": {
    "name": "ipython",
    "version": 3
   },
   "file_extension": ".py",
   "mimetype": "text/x-python",
   "name": "python",
   "nbconvert_exporter": "python",
   "pygments_lexer": "ipython3",
   "version": "3.12.3"
  }
 },
 "nbformat": 4,
 "nbformat_minor": 2
}
