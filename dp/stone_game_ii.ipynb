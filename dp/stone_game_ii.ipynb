{
 "cells": [
  {
   "cell_type": "code",
   "execution_count": 1,
   "metadata": {},
   "outputs": [
    {
     "name": "stdout",
     "output_type": "stream",
     "text": [
      "0\n"
     ]
    }
   ],
   "source": [
    "def stone_game_ii(piles):\n",
    "    n = len(piles)\n",
    "    dp = [0] * n  # dp[i] stores the maximum score a player can achieve from pile i to the end\n",
    "\n",
    "    # Calculate the total sum of stones from the right end of the piles\n",
    "    total = [0] * (n + 1)\n",
    "    for i in range(n - 1, -1, -1):\n",
    "        total[i] = total[i + 1] + piles[i]\n",
    "\n",
    "    # Dynamic programming to calculate the optimal move\n",
    "    def dfs(i):\n",
    "        if i >= n:\n",
    "            return 0  # No stones left to pick\n",
    "        if dp[i] != 0:\n",
    "            return dp[i]\n",
    "        max_score = 0\n",
    "        for x in range(1, 2 * i + 1):\n",
    "            max_score = max(max_score, total[i] - dfs(i + x))\n",
    "        dp[i] = max_score\n",
    "        return dp[i]\n",
    "\n",
    "    return dfs(0)\n",
    "\n",
    "# Example usage:\n",
    "piles = [2, 7, 9, 4, 4]\n",
    "print(stone_game_ii(piles))  # Output: 10 (First player can win with optimal moves)\n"
   ]
  }
 ],
 "metadata": {
  "kernelspec": {
   "display_name": "myenv",
   "language": "python",
   "name": "python3"
  },
  "language_info": {
   "codemirror_mode": {
    "name": "ipython",
    "version": 3
   },
   "file_extension": ".py",
   "mimetype": "text/x-python",
   "name": "python",
   "nbconvert_exporter": "python",
   "pygments_lexer": "ipython3",
   "version": "3.12.3"
  }
 },
 "nbformat": 4,
 "nbformat_minor": 2
}
