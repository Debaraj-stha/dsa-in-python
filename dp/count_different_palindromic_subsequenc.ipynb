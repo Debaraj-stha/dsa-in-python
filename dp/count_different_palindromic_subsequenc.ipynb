{
 "cells": [
  {
   "cell_type": "code",
   "execution_count": 14,
   "metadata": {},
   "outputs": [
    {
     "name": "stdout",
     "output_type": "stream",
     "text": [
      "7\n",
      "5\n",
      "1\n",
      "3\n"
     ]
    }
   ],
   "source": [
    "def count_palindromic_subsequence(s):\n",
    "    \"\"\"\n",
    "    Calculates the length of the longest palindromic subsequence of a given string.\n",
    "\n",
    "    Args:\n",
    "        s: The input string.\n",
    "\n",
    "    Returns:\n",
    "        The length of the longest palindromic subsequence of s.\n",
    "    \"\"\"\n",
    "    n = len(s)\n",
    "    # dp[i][j] will store the length of the longest palindromic subsequence\n",
    "    # of the substring s[i:j] (s[i] inclusive, s[j] exclusive).\n",
    "    dp = [[0] * n  for _ in range(n)]\n",
    "\n",
    "    # Base case: Single characters are palindromic subsequences of length 1.\n",
    "    # For a substring of length 1 (s[i:i+1]), the LPS is just the character itself.\n",
    "    for i in range(n):\n",
    "        dp[i][i] = 1\n",
    "\n",
    "    # The following loop is incorrect and unnecessary for calculating the\n",
    "    # longest palindromic subsequence. It seems to be attempting to handle\n",
    "    # palindromes of length 2, but it has indexing errors and doesn't\n",
    "    # correctly contribute to the LPS calculation.\n",
    "   \n",
    "\n",
    "    # Iterate through all possible lengths of substrings (from length 2 up to n).\n",
    "    for length in range(2, n + 1):  # starting length to 2\n",
    "        # Iterate through all possible starting indices of substrings of the current length.\n",
    "        for i in range(n - length + 1):\n",
    "            # Calculate the ending index of the current substring.\n",
    "            j = i + length-1\n",
    "\n",
    "            # Case 1: If the characters at the start and end of the current substring match.\n",
    "            if s[i] == s[j]:\n",
    "                # If s[i] and s[j-1] are the same, they can be part of the LPS.\n",
    "                # The length of the LPS in this case is 2 (for these two characters)\n",
    "                # plus the length of the LPS of the substring between them (s[i+1:j-1]).\n",
    "                dp[i][j] = dp[i + 1][j - 1] + 2\n",
    "            # Case 2: If the characters at the start and end of the current substring do not match.\n",
    "            else:\n",
    "                # If s[i] and s[j-1] are different, the LPS of s[i:j] is either\n",
    "                # the LPS of s[i+1:j] (excluding the first character)\n",
    "                # or the LPS of s[i:j-1] (excluding the last character).\n",
    "                # We take the maximum of these two.\n",
    "                dp[i][j] = max(dp[i + 1][j], dp[i][j - 1])\n",
    "\n",
    "    # The length of the longest palindromic subsequence of the entire string s (s[0:n])\n",
    "    # is stored in dp[0][n].\n",
    "    return dp[0][n-1]\n",
    "\n",
    "# Example test case\n",
    "print(count_palindromic_subsequence(\"racecar\"))  # Output: 7\n",
    "print(count_palindromic_subsequence(\"bananas\")) # Output: 5\n",
    "print(count_palindromic_subsequence(\"abcd\"))    # Output: 1\n",
    "print(count_palindromic_subsequence(\"aba\"))     # Output: 3"
   ]
  }
 ],
 "metadata": {
  "kernelspec": {
   "display_name": "myenv",
   "language": "python",
   "name": "python3"
  },
  "language_info": {
   "codemirror_mode": {
    "name": "ipython",
    "version": 3
   },
   "file_extension": ".py",
   "mimetype": "text/x-python",
   "name": "python",
   "nbconvert_exporter": "python",
   "pygments_lexer": "ipython3",
   "version": "3.12.3"
  }
 },
 "nbformat": 4,
 "nbformat_minor": 2
}
