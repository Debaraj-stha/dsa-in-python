{
 "cells": [
  {
   "cell_type": "code",
   "execution_count": 5,
   "metadata": {},
   "outputs": [
    {
     "name": "stdout",
     "output_type": "stream",
     "text": [
      "6\n",
      "[-1, 0, -1, 0, 3, 4, 5, 4]\n"
     ]
    },
    {
     "data": {
      "text/plain": [
       "[2, 3, 4, 7, 9]"
      ]
     },
     "execution_count": 5,
     "metadata": {},
     "output_type": "execute_result"
    }
   ],
   "source": [
    "def longest_increasing_subsequence(arr):\n",
    "    n=len(arr)\n",
    "    max_length=1\n",
    "    max_index=0\n",
    "    dp=[1]*n\n",
    "    prev_value=[-1]*n\n",
    "    for i in range(1,n):\n",
    "        for j in range(i):\n",
    "             if arr[i]>arr[j] and dp[i]<dp[j]+1:\n",
    "                 dp[i]=dp[j]+1\n",
    "                 prev_value[i]=j\n",
    "        \n",
    "        if dp[i]>max_length:\n",
    "            max_length=dp[i]\n",
    "            max_index=i\n",
    "    sequence=[]\n",
    "    print(max_index)\n",
    "    print(prev_value)\n",
    "    while max_index!=-1:\n",
    "        sequence.append(arr[max_index])\n",
    "        max_index=prev_value[max_index]\n",
    "    return sequence[::-1]\n",
    "arr=[2,5,1,3,4,7,9,6]\n",
    "longest_increasing_subsequence(arr)\n",
    "    "
   ]
  }
 ],
 "metadata": {
  "kernelspec": {
   "display_name": "myenv",
   "language": "python",
   "name": "python3"
  },
  "language_info": {
   "codemirror_mode": {
    "name": "ipython",
    "version": 3
   },
   "file_extension": ".py",
   "mimetype": "text/x-python",
   "name": "python",
   "nbconvert_exporter": "python",
   "pygments_lexer": "ipython3",
   "version": "3.12.3"
  }
 },
 "nbformat": 4,
 "nbformat_minor": 2
}
