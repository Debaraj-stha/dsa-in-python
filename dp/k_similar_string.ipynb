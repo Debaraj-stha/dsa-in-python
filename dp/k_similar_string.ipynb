{
 "cells": [
  {
   "cell_type": "code",
   "execution_count": 11,
   "metadata": {},
   "outputs": [
    {
     "name": "stdout",
     "output_type": "stream",
     "text": [
      "{'abac'}\n",
      "2\n"
     ]
    }
   ],
   "source": [
    "def k_similar_strings(s1, s2):\n",
    "    from collections import deque\n",
    "\n",
    "    # Initialize queue and visited set\n",
    "    queue = deque([(s1, 0)])  # Each element in queue is a tuple of (current string, swap count)\n",
    "    visited = set([s1])\n",
    "    print(visited)\n",
    "\n",
    "    while queue:\n",
    "        current, swaps = queue.popleft()\n",
    "        \n",
    "        # If we match the target string, return the swap count\n",
    "        if current == s2:\n",
    "            return swaps\n",
    "        \n",
    "        # Try to swap adjacent characters and explore\n",
    "        for i in range(len(s1)):\n",
    "            if current[i]==s2[i]:\n",
    "                continue\n",
    "            for j in range(i+1,len(s1)):\n",
    "                if current[j]==s2[i]:\n",
    "                    next_str=list(current)\n",
    "                    next_str[i], next_str[j] = next_str[j], next_str[i]\n",
    "                    next_str = ''.join(next_str)\n",
    "                    if next_str not in visited:\n",
    "                        visited.add(next_str)\n",
    "                        queue.append((next_str, swaps+1))\n",
    "    return -1\n",
    "\n",
    "# Example usage:\n",
    "s1 = \"abac\"\n",
    "s2 = \"baca\"\n",
    "print(k_similar_strings(s1, s2))  # Output: 2\n"
   ]
  }
 ],
 "metadata": {
  "kernelspec": {
   "display_name": "myenv",
   "language": "python",
   "name": "python3"
  },
  "language_info": {
   "codemirror_mode": {
    "name": "ipython",
    "version": 3
   },
   "file_extension": ".py",
   "mimetype": "text/x-python",
   "name": "python",
   "nbconvert_exporter": "python",
   "pygments_lexer": "ipython3",
   "version": "3.12.3"
  }
 },
 "nbformat": 4,
 "nbformat_minor": 2
}
