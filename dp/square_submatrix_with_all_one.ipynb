{
 "cells": [
  {
   "cell_type": "code",
   "execution_count": null,
   "metadata": {},
   "outputs": [
    {
     "name": "stdout",
     "output_type": "stream",
     "text": [
      "10\n"
     ]
    }
   ],
   "source": [
    "def countSquares(matrix):\n",
    "    if not matrix:\n",
    "        return 0\n",
    "\n",
    "    rows = len(matrix)\n",
    "    cols = len(matrix[0])\n",
    "    dp = [[0] * cols for _ in range(rows)]\n",
    "    total_count = 0\n",
    "\n",
    "    # Fill the DP table\n",
    "    for i in range(rows):\n",
    "        for j in range(cols):\n",
    "            if matrix[i][j] == 1:\n",
    "                if i == 0 or j == 0:\n",
    "                    dp[i][j] = 1  # Base case: first row or first column\n",
    "                else:\n",
    "                    #minimun value of previoud row,previoud column, and previous row previous column\n",
    "                    #we add 1 to this minimum value because we are now considering\n",
    "                    #the current cell as part of the square. Hence, we extend the square by 1.\n",
    "                    dp[i][j] = min(dp[i-1][j], dp[i][j-1], dp[i-1][j-1]) + 1  # Recurrence relation\n",
    "\n",
    "                total_count += dp[i][j]  # Add the number of squares ending at (i, j)\n",
    "\n",
    "    return total_count\n",
    "\n",
    "# Example usage\n",
    "matrix = [\n",
    "    [1, 0, 1],\n",
    "    [1, 1, 1],\n",
    "    [1, 1, 1]\n",
    "]\n",
    "print(countSquares(matrix))  # Output: 10\n"
   ]
  }
 ],
 "metadata": {
  "kernelspec": {
   "display_name": "myenv",
   "language": "python",
   "name": "python3"
  },
  "language_info": {
   "codemirror_mode": {
    "name": "ipython",
    "version": 3
   },
   "file_extension": ".py",
   "mimetype": "text/x-python",
   "name": "python",
   "nbconvert_exporter": "python",
   "pygments_lexer": "ipython3",
   "version": "3.12.3"
  }
 },
 "nbformat": 4,
 "nbformat_minor": 2
}
