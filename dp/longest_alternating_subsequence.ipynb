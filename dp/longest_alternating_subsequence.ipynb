{
 "cells": [
  {
   "cell_type": "code",
   "execution_count": 6,
   "metadata": {},
   "outputs": [
    {
     "name": "stdout",
     "output_type": "stream",
     "text": [
      "(6, [1, 2, 2, 4, 2, 6], [1, 1, 3, 3, 5, 1])\n"
     ]
    }
   ],
   "source": [
    "def longest_alternating_subsequence(arr):\n",
    "    n = len(arr)\n",
    "    \n",
    "    # If the array is empty, there is no subsequence\n",
    "    if n == 0:\n",
    "        return 0\n",
    "    \n",
    "    # Arrays to store the lengths of subsequences where the last element is increasing or decreasing\n",
    "    up = [1] * n  # Longest subsequence where the last element is increasing\n",
    "    down = [1] * n  # Longest subsequence where the last element is decreasing\n",
    "    \n",
    "    # Fill the up and down arrays\n",
    "    for i in range(1, n):\n",
    "        for j in range(i):\n",
    "            if arr[i] > arr[j]:\n",
    "                up[i] = max(up[i], down[j] + 1)  # Update the increasing subsequence\n",
    "            elif arr[i] < arr[j]:\n",
    "                down[i] = max(down[i], up[j] + 1)  # Update the decreasing subsequence\n",
    "    \n",
    "    # The result will be the maximum value from the 'up' and 'down' arrays\n",
    "    return max(max(up), max(down)),up,down\n",
    "\n",
    "# Test the function\n",
    "arr = [1, 5, 3, 4, 2, 6]\n",
    "print(longest_alternating_subsequence(arr))  # Output: 5\n"
   ]
  }
 ],
 "metadata": {
  "kernelspec": {
   "display_name": "myenv",
   "language": "python",
   "name": "python3"
  },
  "language_info": {
   "codemirror_mode": {
    "name": "ipython",
    "version": 3
   },
   "file_extension": ".py",
   "mimetype": "text/x-python",
   "name": "python",
   "nbconvert_exporter": "python",
   "pygments_lexer": "ipython3",
   "version": "3.12.3"
  }
 },
 "nbformat": 4,
 "nbformat_minor": 2
}
