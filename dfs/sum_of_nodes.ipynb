{
 "cells": [
  {
   "cell_type": "code",
   "execution_count": 2,
   "metadata": {},
   "outputs": [
    {
     "name": "stdout",
     "output_type": "stream",
     "text": [
      "Sum of nodes in the tree is:  28\n"
     ]
    }
   ],
   "source": [
    "\n",
    "class Node:\n",
    "    def __init__(self, value=0):\n",
    "        self.value = value\n",
    "        self.left = None\n",
    "        self.right = None\n",
    "\n",
    "\n",
    "\n",
    "\n",
    "            \n",
    "        \n",
    "def sumofnodes(root):\n",
    "    if not root:\n",
    "        return 0\n",
    "    total=0\n",
    "    stack=[root]\n",
    "    while stack:\n",
    "        temp=stack.pop()\n",
    "        total+=temp.value\n",
    "        if temp.left:\n",
    "            stack.append(temp.left)\n",
    "        if temp.right:\n",
    "            stack.append(temp.right)\n",
    "    return total\n",
    "        \n",
    "\n",
    "\n",
    "root=Node(4)\n",
    "root.left=Node(2)\n",
    "root.right=Node(5)\n",
    "root.left.left=Node(1)\n",
    "root.left.right=Node(3)\n",
    "root.right.left=Node(6)\n",
    "root.right.right=Node(7)\n",
    "\n",
    "print(\"Sum of nodes in the tree is: \",sumofnodes(root))\n"
   ]
  }
 ],
 "metadata": {
  "kernelspec": {
   "display_name": "myenv",
   "language": "python",
   "name": "python3"
  },
  "language_info": {
   "codemirror_mode": {
    "name": "ipython",
    "version": 3
   },
   "file_extension": ".py",
   "mimetype": "text/x-python",
   "name": "python",
   "nbconvert_exporter": "python",
   "pygments_lexer": "ipython3",
   "version": "3.12.3"
  }
 },
 "nbformat": 4,
 "nbformat_minor": 2
}
