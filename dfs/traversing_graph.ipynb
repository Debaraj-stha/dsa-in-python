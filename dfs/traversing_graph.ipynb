{
 "cells": [
  {
   "cell_type": "code",
   "execution_count": 8,
   "metadata": {},
   "outputs": [
    {
     "name": "stdout",
     "output_type": "stream",
     "text": [
      "0 2 3 1 "
     ]
    }
   ],
   "source": [
    "def traverse(graph):\n",
    "    visited = set()\n",
    "    for node in graph:\n",
    "        if node not in visited:\n",
    "            stack=[node]\n",
    "            while stack:\n",
    "                current_node=stack.pop()\n",
    "                if current_node not in visited:\n",
    "                    visited.add(current_node)\n",
    "                print(current_node, end=' ')\n",
    "                for neighbor in graph[current_node]:\n",
    "                    if neighbor not in visited:\n",
    "                        visited.add(neighbor)\n",
    "                        stack.append(neighbor)\n",
    "\n",
    "\n",
    "graph={\n",
    "    0: [1, 2],\n",
    "    1: [0, 2, 3],\n",
    "    2: [0, 1, 3],\n",
    "    3: [1, 2]\n",
    "}\n",
    "traverse(graph)"
   ]
  }
 ],
 "metadata": {
  "kernelspec": {
   "display_name": "myenv",
   "language": "python",
   "name": "python3"
  },
  "language_info": {
   "codemirror_mode": {
    "name": "ipython",
    "version": 3
   },
   "file_extension": ".py",
   "mimetype": "text/x-python",
   "name": "python",
   "nbconvert_exporter": "python",
   "pygments_lexer": "ipython3",
   "version": "3.12.3"
  }
 },
 "nbformat": 4,
 "nbformat_minor": 2
}
