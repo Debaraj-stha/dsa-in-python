{
 "cells": [
  {
   "cell_type": "code",
   "execution_count": null,
   "metadata": {},
   "outputs": [
    {
     "name": "stdout",
     "output_type": "stream",
     "text": [
      "Both trees are not identical.\n",
      "The other tree is a subtree of the first tree.\n"
     ]
    }
   ],
   "source": [
    "class Node:\n",
    "    def __init__(self, value=0):\n",
    "        self.value = value\n",
    "        self.left = None\n",
    "        self.right = None\n",
    "\n",
    "def isIdentical(root, otherroot):\n",
    "    if not root and not otherroot:\n",
    "        return True\n",
    "    if not root or not otherroot:\n",
    "        return False\n",
    "    return (root.value == otherroot.value and\n",
    "            isIdentical(root.left, otherroot.left) and\n",
    "            isIdentical(root.right, otherroot.right))\n",
    "\n",
    "def isSubtree(root, otherroot):\n",
    "    if not otherroot:  \n",
    "        return True \n",
    "    if not root:  \n",
    "        return False \n",
    "    if isIdentical(root, otherroot):  \n",
    "        return True \n",
    "    return isSubtree(root.left, otherroot) or isSubtree(root.right, otherroot)\n",
    "\n",
    "root = Node(4)\n",
    "root.left = Node(2)\n",
    "root.right = Node(5)\n",
    "root.left.left = Node(1)\n",
    "root.left.right = Node(3)\n",
    "root.right.left = Node(6)\n",
    "root.right.right = Node(7)\n",
    "root.right.right.left = Node(11)\n",
    "root.right.right.right = Node(99)\n",
    "\n",
    "\n",
    "otherroot = Node(2)\n",
    "otherroot.left = Node(1)\n",
    "otherroot.right = Node(3)\n",
    "\n",
    "if isIdentical(root, otherroot):\n",
    "    print(\"Both trees are identical.\")\n",
    "else:\n",
    "    print(\"Both trees are not identical.\")\n",
    "\n",
    "if isSubtree(root, otherroot):\n",
    "    print(\"The other tree is a subtree of the first tree.\")\n",
    "else:\n",
    "    print(\"The other tree is not a subtree of the first tree.\")\n"
   ]
  }
 ],
 "metadata": {
  "kernelspec": {
   "display_name": "myenv",
   "language": "python",
   "name": "python3"
  },
  "language_info": {
   "codemirror_mode": {
    "name": "ipython",
    "version": 3
   },
   "file_extension": ".py",
   "mimetype": "text/x-python",
   "name": "python",
   "nbconvert_exporter": "python",
   "pygments_lexer": "ipython3",
   "version": "3.12.3"
  }
 },
 "nbformat": 4,
 "nbformat_minor": 2
}
