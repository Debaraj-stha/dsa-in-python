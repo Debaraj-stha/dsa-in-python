{
 "cells": [
  {
   "cell_type": "code",
   "execution_count": 12,
   "metadata": {},
   "outputs": [
    {
     "name": "stdout",
     "output_type": "stream",
     "text": [
      "3\n",
      "2\n"
     ]
    }
   ],
   "source": [
    "direction=\"DLRU\"\n",
    "dr=[1,0,0,-1]\n",
    "dc=[0,-1,1,0]\n",
    "def isValid(grid,row,col,rows,cols):\n",
    "    return 0 <= row < rows and 0 <= col < cols and grid[row][col] == 0\n",
    "\n",
    "def markBoundaryColumn(grid,visited,rows,cols):\n",
    "    def dfs(row,col):\n",
    "        stack=[(row,col)]\n",
    "        visited[row][col]=True\n",
    "        while stack:\n",
    "            r,c=stack.pop()\n",
    "            for i in range(4):\n",
    "                nr,nc=r+dr[i],c+dc[i]\n",
    "                if isValid(grid,nr,nc,rows,cols) and not visited[nr][nc]:\n",
    "                    stack.append((nr,nc))\n",
    "                    visited[nr][nc]=True\n",
    "        \n",
    "    #marking as visited the left and right column\n",
    "    for i in range(rows):\n",
    "        for j in [0,cols-1]:\n",
    "            if grid[i][j]==0 and not visited[i][j]:\n",
    "                dfs(i,j)\n",
    "    #marking as visited the  top and bottom column\n",
    "    for i in range(cols):\n",
    "        for j in [0,rows-1]:\n",
    "            if grid[i][j]==0 and not visited[i][j]:\n",
    "                dfs(i,j)\n",
    "def countEnclosedRegion(grid):\n",
    "    rows,cols=len(grid),len(grid[0])\n",
    "    count=0\n",
    "    visited=[[False]*cols for _ in range(rows)]\n",
    "    markBoundaryColumn(grid,visited,rows,cols)\n",
    "    def dfs(row,col):\n",
    "        visited[row][col]=True\n",
    "        stack=[(row,col)]\n",
    "        while stack:\n",
    "            r,c=stack.pop()\n",
    "            for i in range(4):\n",
    "                nr,nc=r+dr[i],c+dc[i]\n",
    "                if isValid(grid,nr,nc,rows,cols) and not visited[nr][nc]:\n",
    "                    stack.append((nr,nc))\n",
    "                    visited[nr][nc]=True\n",
    "    for i in range(rows):\n",
    "        for j in range(cols):\n",
    "            if grid[i][j]==0 and not visited[i][j]:\n",
    "                dfs(i,j)\n",
    "                count+=1\n",
    "    return count\n",
    "region=[\n",
    "    [1,1,1,1,1],\n",
    "    [1,0,0,1,0],\n",
    "    [1,0,1,0,1],\n",
    "    [1,1,0,1,0],\n",
    "    [0,0,1,1,1]\n",
    "]\n",
    "print(countEnclosedRegion(region))\n",
    "\n",
    "# Expected Output: 3\n",
    "region=[\n",
    "    [1,1,1,1,1],\n",
    "    [1,0,0,1,0],\n",
    "    [1,0,1,0,1],\n",
    "    [1,1,1,1,1],\n",
    "    [1,1,1,1,1]\n",
    "]\n",
    "print(countEnclosedRegion(region))\n"
   ]
  }
 ],
 "metadata": {
  "kernelspec": {
   "display_name": "myenv",
   "language": "python",
   "name": "python3"
  },
  "language_info": {
   "codemirror_mode": {
    "name": "ipython",
    "version": 3
   },
   "file_extension": ".py",
   "mimetype": "text/x-python",
   "name": "python",
   "nbconvert_exporter": "python",
   "pygments_lexer": "ipython3",
   "version": "3.12.3"
  }
 },
 "nbformat": 4,
 "nbformat_minor": 2
}
