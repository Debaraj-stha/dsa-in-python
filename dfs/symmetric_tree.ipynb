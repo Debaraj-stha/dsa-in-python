{
 "cells": [
  {
   "cell_type": "code",
   "execution_count": null,
   "metadata": {},
   "outputs": [
    {
     "data": {
      "text/plain": [
       "False"
      ]
     },
     "execution_count": 1,
     "metadata": {},
     "output_type": "execute_result"
    }
   ],
   "source": [
    "class Node:\n",
    "    def __init__(self, value):\n",
    "        self.value = value\n",
    "        self.left = None\n",
    "        self.right = None\n",
    "\n",
    "\n",
    "def isSymmetric(root):\n",
    "    if root is None:\n",
    "        return True\n",
    "    stack=[(root.left, root.right)]\n",
    "    while stack:\n",
    "        left,right=stack.pop()\n",
    "        if not left and not right:\n",
    "            continue\n",
    "        if not left or not right or left.value!=right.value:\n",
    "            return False\n",
    "        stack.append(left.left,left.right)\n",
    "        stack.append(right.left,right.right)\n",
    "    return True\n",
    "    \n",
    "root=Node(6)\n",
    "root.left=Node(3)\n",
    "root.right=Node(8)\n",
    "root.left.left=Node(1)\n",
    "root.left.right=Node(2)\n",
    "root.right.left=Node(5)\n",
    "root.right.right=Node(9)\n",
    "isSymmetric(root)\n"
   ]
  }
 ],
 "metadata": {
  "kernelspec": {
   "display_name": "myenv",
   "language": "python",
   "name": "python3"
  },
  "language_info": {
   "codemirror_mode": {
    "name": "ipython",
    "version": 3
   },
   "file_extension": ".py",
   "mimetype": "text/x-python",
   "name": "python",
   "nbconvert_exporter": "python",
   "pygments_lexer": "ipython3",
   "version": "3.12.3"
  }
 },
 "nbformat": 4,
 "nbformat_minor": 2
}
