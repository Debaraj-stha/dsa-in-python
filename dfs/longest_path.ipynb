{
 "cells": [
  {
   "cell_type": "code",
   "execution_count": 15,
   "metadata": {},
   "outputs": [
    {
     "name": "stdout",
     "output_type": "stream",
     "text": [
      "4\n"
     ]
    }
   ],
   "source": [
    "def dfs(graph, visited, node, dp):\n",
    "    if visited[node]:\n",
    "        return dp[node]\n",
    "    \n",
    "    visited[node] = True\n",
    "    maxLength = 0\n",
    "    \n",
    "    for neighbor in graph[node]:\n",
    "        maxLength = max(maxLength, 1 + dfs(graph, visited, neighbor, dp))\n",
    "    \n",
    "    dp[node] = maxLength  \n",
    "    return maxLength\n",
    "\n",
    "def longestPath(graph,count_nodes=False):\n",
    "    n = len(graph)\n",
    "    visited = [False]*n\n",
    "    dp=[[-1] for _ in range(n)]\n",
    "    max_length=0\n",
    "    for node in graph:\n",
    "        max_length=max(max_length,dfs(graph,visited,node,dp))\n",
    " \n",
    "    \n",
    "    return max_length+1 if count_nodes else max_length\n",
    "\n",
    "graph = {\n",
    "    5: [0, 2],\n",
    "    4: [0, 1],\n",
    "    2: [3],\n",
    "    3: [1],\n",
    "    0: [],\n",
    "    1: []\n",
    "}\n",
    "\n",
    "print(longestPath(graph,True))\n"
   ]
  },
  {
   "cell_type": "code",
   "execution_count": null,
   "metadata": {},
   "outputs": [
    {
     "name": "stdout",
     "output_type": "stream",
     "text": [
      "[5, 2, 3, 1]\n"
     ]
    }
   ],
   "source": [
    "def longestPath(graph):\n",
    "    dp = {}  \n",
    "\n",
    "    def dfs(node):\n",
    "        if node in dp:\n",
    "            return dp[node]\n",
    "        longest=[]\n",
    "        for neighbor in graph[node]:\n",
    "            current=dfs(neighbor)\n",
    "            if len(current)>len(longest):\n",
    "                longest=current\n",
    "        dp[node]=[node]+longest\n",
    "        return dp[node]\n",
    "\n",
    "\n",
    "    longestOverall = []\n",
    "    for node in graph:\n",
    "        currentPath = dfs(node)\n",
    "        if len(currentPath) > len(longestOverall):\n",
    "            longestOverall = currentPath\n",
    "\n",
    "    return longestOverall  \n",
    "graph = {\n",
    "    5: [0, 2],\n",
    "    4: [0, 1],\n",
    "    2: [3],\n",
    "    3: [1],\n",
    "    0: [],\n",
    "    1: []\n",
    "}\n",
    "\n",
    "print(longestPath(graph))  # Output: [5, 2, 3, 1] (Longest path)\n"
   ]
  }
 ],
 "metadata": {
  "kernelspec": {
   "display_name": "myenv",
   "language": "python",
   "name": "python3"
  },
  "language_info": {
   "codemirror_mode": {
    "name": "ipython",
    "version": 3
   },
   "file_extension": ".py",
   "mimetype": "text/x-python",
   "name": "python",
   "nbconvert_exporter": "python",
   "pygments_lexer": "ipython3",
   "version": "3.12.3"
  }
 },
 "nbformat": 4,
 "nbformat_minor": 2
}
