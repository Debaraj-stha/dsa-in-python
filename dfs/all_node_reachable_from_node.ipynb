{
 "cells": [
  {
   "cell_type": "code",
   "execution_count": 24,
   "metadata": {},
   "outputs": [
    {
     "name": "stdout",
     "output_type": "stream",
     "text": [
      "{0, 1, 2, 3, 4, 5, 6}\n"
     ]
    }
   ],
   "source": [
    "def getAllReachableNodes(graph,node):\n",
    "    if not graph:return None\n",
    "    visited = set()\n",
    "    stack = [node]\n",
    "    reachable_nodes = set()\n",
    "    while stack:\n",
    "        current_node = stack.pop()\n",
    "        if current_node not in visited:\n",
    "            visited.add(current_node)\n",
    "            reachable_nodes.add(current_node)\n",
    "            for neighbor in graph.get(current_node, []):\n",
    "                stack.append(neighbor)\n",
    "    return reachable_nodes\n",
    "\n",
    "graph = {\n",
    "    0: [1, 2],\n",
    "    1: [2, 3],\n",
    "    2: [3, 4],\n",
    "    3: [4],\n",
    "    4: [5, 3],\n",
    "    5: [6],\n",
    "    6: []\n",
    "}\n",
    "\n",
    "print(getAllReachableNodes(graph, 0))"
   ]
  },
  {
   "cell_type": "code",
   "execution_count": 19,
   "metadata": {},
   "outputs": [
    {
     "name": "stdout",
     "output_type": "stream",
     "text": [
      "True\n",
      "False\n"
     ]
    }
   ],
   "source": [
    "def allNodeReachableFromNode(graph, node):\n",
    "    visited = set()  \n",
    "    stack = [node]\n",
    "\n",
    "    while stack:\n",
    "        current_node = stack.pop()\n",
    "        if current_node not in visited:\n",
    "            visited.add(current_node)\n",
    "            for neighbor in graph.get(current_node, []):  \n",
    "                stack.append(neighbor)\n",
    "\n",
    "    return len(visited) == len(graph) \n",
    "\n",
    "graph = {\n",
    "    0: [1, 2],\n",
    "    1: [2, 3],\n",
    "    2: [3, 4],\n",
    "    3: [4],\n",
    "    4: [5, 3],\n",
    "    5: [6],\n",
    "    6: [] \n",
    "}\n",
    "\n",
    "print(allNodeReachableFromNode(graph, 0))  \n",
    "print(allNodeReachableFromNode(graph, 1))  \n"
   ]
  }
 ],
 "metadata": {
  "kernelspec": {
   "display_name": "myenv",
   "language": "python",
   "name": "python3"
  },
  "language_info": {
   "codemirror_mode": {
    "name": "ipython",
    "version": 3
   },
   "file_extension": ".py",
   "mimetype": "text/x-python",
   "name": "python",
   "nbconvert_exporter": "python",
   "pygments_lexer": "ipython3",
   "version": "3.12.3"
  }
 },
 "nbformat": 4,
 "nbformat_minor": 2
}
