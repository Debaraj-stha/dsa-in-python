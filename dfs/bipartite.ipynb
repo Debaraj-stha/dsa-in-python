{
 "cells": [
  {
   "cell_type": "code",
   "execution_count": 12,
   "metadata": {},
   "outputs": [
    {
     "name": "stdout",
     "output_type": "stream",
     "text": [
      "[0, 1, 0, 1, 0, 1]\n"
     ]
    }
   ],
   "source": [
    "\n",
    "def bipartie(graph):\n",
    "    n=max(graph.keys())+1\n",
    "    colors=[-1]*n\n",
    "    def dfs(node,color):\n",
    "        colors[node] = color\n",
    "        for neighbor in graph[node]:\n",
    "            if colors[neighbor]==-1:\n",
    "                if not dfs(neighbor,1-color):\n",
    "                    return False\n",
    "            elif colors[node]==colors[neighbor]:\n",
    "                return False\n",
    "        return True\n",
    "        \n",
    "\n",
    "    for node in graph:\n",
    "        if colors[node]==-1:\n",
    "            if not dfs(node,0):return False\n",
    "    return colors\n",
    "\n",
    "    \n",
    "\n",
    "\n",
    "\n",
    "\n",
    "\n",
    "graph = {\n",
    "    0: [1, 3],\n",
    "    1: [0, 2],\n",
    "    2: [1, 3],\n",
    "    3: [0, 2],\n",
    "    4: [5],\n",
    "    5: [4]\n",
    "}\n",
    "\n",
    "result = bipartie(graph)\n",
    "print(result)\n"
   ]
  },
  {
   "cell_type": "code",
   "execution_count": 13,
   "metadata": {},
   "outputs": [
    {
     "name": "stdout",
     "output_type": "stream",
     "text": [
      "True\n"
     ]
    }
   ],
   "source": [
    "def isBipartite(graph):\n",
    "    colors = {node: -1 for node in graph} \n",
    "    visited = set()\n",
    "\n",
    "    for node in graph:  \n",
    "        if node not in visited:\n",
    "            stack = [(node, 0)]\n",
    "            \n",
    "            while stack:\n",
    "                n, color = stack.pop()\n",
    "                \n",
    "                if n in visited and colors[n] != color:\n",
    "                    return False \n",
    "                \n",
    "                if n not in visited:\n",
    "                    visited.add(n)\n",
    "                    colors[n] = color  \n",
    "\n",
    "                    for neighbor in graph[n]:\n",
    "                        if colors[neighbor] == -1: \n",
    "                            stack.append((neighbor, 1 - color))\n",
    "                        elif colors[neighbor] == color:\n",
    "                            return False \n",
    "\n",
    "    return True  \n",
    "\n",
    "graph1 = {\n",
    "    0: [1, 3],\n",
    "    1: [0, 2],\n",
    "    2: [1, 3],\n",
    "    3: [0, 2]\n",
    "}\n",
    "print(isBipartite(graph1))  \n"
   ]
  }
 ],
 "metadata": {
  "kernelspec": {
   "display_name": "myenv",
   "language": "python",
   "name": "python3"
  },
  "language_info": {
   "codemirror_mode": {
    "name": "ipython",
    "version": 3
   },
   "file_extension": ".py",
   "mimetype": "text/x-python",
   "name": "python",
   "nbconvert_exporter": "python",
   "pygments_lexer": "ipython3",
   "version": "3.12.3"
  }
 },
 "nbformat": 4,
 "nbformat_minor": 2
}
