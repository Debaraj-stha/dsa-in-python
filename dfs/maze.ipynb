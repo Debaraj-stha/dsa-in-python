{
 "cells": [
  {
   "cell_type": "code",
   "execution_count": 23,
   "metadata": {},
   "outputs": [
    {
     "name": "stdout",
     "output_type": "stream",
     "text": [
      "True\n"
     ]
    }
   ],
   "source": [
    "\n",
    "\n",
    "# Directions: Down, Right, Left, Up\n",
    "dr = [1, 0, 0, -1]\n",
    "dc = [0, 1, -1, 0]\n",
    "\n",
    "def isValid(grid, row, col, rows, cols):\n",
    "    return 0 <= row < rows and 0 <= col < cols and grid[row][col] == 0\n",
    "\n",
    "def maze(grid):\n",
    "    rows, cols = len(grid), len(grid[0])\n",
    "    if grid[0][0] == 1 or grid[rows-1][cols-1] == 1:\n",
    "        return False\n",
    "\n",
    "    visited = [[False] * cols for _ in range(rows)]\n",
    "    queue = [(0, 0)]\n",
    "    visited[0][0] = True\n",
    "\n",
    "    while queue:\n",
    "        row, col = queue.pop()\n",
    "        if row == rows - 1 and col == cols - 1:\n",
    "            return True\n",
    "        for i in range(4):\n",
    "            newrow, newcol = row + dr[i], col + dc[i]\n",
    "            if isValid(grid, newrow, newcol, rows, cols) and not visited[newrow][newcol]:\n",
    "                queue.append((newrow, newcol))\n",
    "                visited[newrow][newcol] = True \n",
    "\n",
    "    return False  \n",
    "\n",
    "grid = [\n",
    "    [0, 0, 1, 0, 0],\n",
    "    [0, 0, 0, 0, 0],\n",
    "    [0, 0, 0, 1, 0],\n",
    "    [0, 1, 1, 1, 0],\n",
    "]\n",
    "\n",
    "print(maze(grid))  # Output: True (There is a path)\n"
   ]
  }
 ],
 "metadata": {
  "kernelspec": {
   "display_name": "myenv",
   "language": "python",
   "name": "python3"
  },
  "language_info": {
   "codemirror_mode": {
    "name": "ipython",
    "version": 3
   },
   "file_extension": ".py",
   "mimetype": "text/x-python",
   "name": "python",
   "nbconvert_exporter": "python",
   "pygments_lexer": "ipython3",
   "version": "3.12.3"
  }
 },
 "nbformat": 4,
 "nbformat_minor": 2
}
