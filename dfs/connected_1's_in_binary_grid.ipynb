{
 "cells": [
  {
   "cell_type": "code",
   "execution_count": 7,
   "metadata": {},
   "outputs": [
    {
     "name": "stdout",
     "output_type": "stream",
     "text": [
      "3\n"
     ]
    }
   ],
   "source": [
    "dr=[1,0,0,-1]\n",
    "dc=[0,-1,1,0]\n",
    "def isValid(grid,row,col,rows,cols):\n",
    "    return row>=0 and row<rows and col>=0 and col<cols and grid[row][col]==1\n",
    "def count_connected_1(grid):\n",
    "    if grid[0][0]==0:\n",
    "        return 0\n",
    "    rows,cols=len(grid),len(grid[0])\n",
    "    visited=[[False]*cols for _ in range(rows)]\n",
    "    count=0\n",
    "    def backtrack(row,col):\n",
    "        nonlocal count\n",
    "        visited[row][col]=True\n",
    "        count+=1\n",
    "        for i in range(4):\n",
    "            newrow,newcol=row+dr[i],col+dc[i]\n",
    "            if isValid(grid,newrow,newcol,rows,cols) and not visited[newrow][newcol]:\n",
    "                backtrack(newrow,newcol)\n",
    "    backtrack(0,0)\n",
    "\n",
    "    return count\n",
    "\n",
    "grid=[\n",
    "    [1 ,1, 0, 0],\n",
    "    [0 ,1 ,0, 1],\n",
    "    [1, 0, 1 ,1]\n",
    "]\n",
    "print(count_connected_1(grid))\n"
   ]
  }
 ],
 "metadata": {
  "kernelspec": {
   "display_name": "myenv",
   "language": "python",
   "name": "python3"
  },
  "language_info": {
   "codemirror_mode": {
    "name": "ipython",
    "version": 3
   },
   "file_extension": ".py",
   "mimetype": "text/x-python",
   "name": "python",
   "nbconvert_exporter": "python",
   "pygments_lexer": "ipython3",
   "version": "3.12.3"
  }
 },
 "nbformat": 4,
 "nbformat_minor": 2
}
