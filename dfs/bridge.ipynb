{
 "cells": [
  {
   "cell_type": "code",
   "execution_count": 2,
   "metadata": {},
   "outputs": [
    {
     "name": "stdout",
     "output_type": "stream",
     "text": [
      "[(1, 3), (0, 1), (0, 2)]\n"
     ]
    }
   ],
   "source": [
    "def findBridges(graph):\n",
    "    def dfs(node, parent, visited, low, disc, bridges, time):\n",
    "        visited.add(node)\n",
    "        disc[node] = low[node] = time[0]  \n",
    "        time[0] += 1\n",
    "\n",
    "        for neighbor in graph[node]:\n",
    "            if neighbor == parent:  \n",
    "                continue  \n",
    "\n",
    "            if neighbor not in visited: \n",
    "                dfs(neighbor, node, visited, low, disc, bridges, time)\n",
    "                low[node] = min(low[node], low[neighbor])\n",
    "                if low[neighbor] > disc[node]:\n",
    "                    bridges.append((node, neighbor))\n",
    "\n",
    "            else:  \n",
    "                low[node] = min(low[node], disc[neighbor])\n",
    "\n",
    "    visited = set()\n",
    "    disc = {} \n",
    "    low = {} \n",
    "    bridges = []\n",
    "    time = [0] \n",
    "\n",
    "    for node in graph:  \n",
    "        disc[node] = -1\n",
    "        low[node] = -1\n",
    "\n",
    "    for node in graph:  \n",
    "        if node not in visited:\n",
    "            dfs(node, -1, visited, low, disc, bridges, time)\n",
    "\n",
    "    return bridges\n",
    "\n",
    "graph = {\n",
    "    0: [1, 2],\n",
    "    1: [0, 3],\n",
    "    2: [0],\n",
    "    3: [1]\n",
    "}\n",
    "\n",
    "print(findBridges(graph))  \n"
   ]
  }
 ],
 "metadata": {
  "kernelspec": {
   "display_name": "myenv",
   "language": "python",
   "name": "python3"
  },
  "language_info": {
   "codemirror_mode": {
    "name": "ipython",
    "version": 3
   },
   "file_extension": ".py",
   "mimetype": "text/x-python",
   "name": "python",
   "nbconvert_exporter": "python",
   "pygments_lexer": "ipython3",
   "version": "3.12.3"
  }
 },
 "nbformat": 4,
 "nbformat_minor": 2
}
