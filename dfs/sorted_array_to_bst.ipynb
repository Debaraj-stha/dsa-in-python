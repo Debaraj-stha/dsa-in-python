{
 "cells": [
  {
   "cell_type": "code",
   "execution_count": null,
   "metadata": {},
   "outputs": [
    {
     "name": "stdout",
     "output_type": "stream",
     "text": [
      "Inorder traversal of constructed BST:\n",
      "1 2 3 4 5 6 7 8 9 10 \n",
      "6 3 2 1 5 4 9 8 7 10 "
     ]
    }
   ],
   "source": [
    "class Node:\n",
    "    def __init__(self, value=0):\n",
    "        self.value = value\n",
    "        self.left = None\n",
    "        self.right = None\n",
    "def arrayToBST(arr):\n",
    "    if not arr:\n",
    "        return None\n",
    "    mid=len(arr)//2\n",
    "    node = Node(arr[mid]) \n",
    "    node.left = arrayToBST(arr[:mid])   \n",
    "    node.right = arrayToBST(arr[mid+1:])\n",
    "\n",
    "    return node\n",
    "\n",
    "def inorder(root):\n",
    "    if root:\n",
    "        inorder(root.left)\n",
    "        print(root.value, end=\" \")\n",
    "        inorder(root.right)\n",
    "        \n",
    "def preorder(root):\n",
    "    if root:\n",
    "        print(root.value, end=\" \")\n",
    "        preorder(root.left)\n",
    "        preorder(root.right)\n",
    "\n",
    "arr=[1,2,3,4,5,6,7,8,9,10]\n",
    "root=arrayToBST(arr)\n",
    "print(\"Inorder traversal of constructed BST:\")\n",
    "inorder(root)\n",
    "print()\n",
    "preorder(root)"
   ]
  }
 ],
 "metadata": {
  "kernelspec": {
   "display_name": "myenv",
   "language": "python",
   "name": "python3"
  },
  "language_info": {
   "codemirror_mode": {
    "name": "ipython",
    "version": 3
   },
   "file_extension": ".py",
   "mimetype": "text/x-python",
   "name": "python",
   "nbconvert_exporter": "python",
   "pygments_lexer": "ipython3",
   "version": "3.12.3"
  }
 },
 "nbformat": 4,
 "nbformat_minor": 2
}
