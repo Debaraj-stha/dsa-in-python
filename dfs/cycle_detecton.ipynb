{
 "cells": [
  {
   "cell_type": "code",
   "execution_count": 4,
   "metadata": {},
   "outputs": [
    {
     "name": "stdout",
     "output_type": "stream",
     "text": [
      "True\n"
     ]
    }
   ],
   "source": [
    "def detect_cycle(graph):\n",
    "    visited=set()\n",
    "    for startnode in graph:\n",
    "        if startnode not in visited:\n",
    "            stack=[(startnode,None)]\n",
    "            visited.add(startnode)\n",
    "            while stack:\n",
    "                node,parent=stack.pop()\n",
    "                for neighbor in graph[node]:\n",
    "                    if neighbor not in visited:\n",
    "                        visited.add(neighbor)\n",
    "                        stack.append((neighbor,node))\n",
    "                    elif neighbor!=parent:\n",
    "                        return True\n",
    "    return False\n",
    "                \n",
    "graph={\n",
    "    0: [1, 2],\n",
    "    1: [0, 2, 3],\n",
    "    2: [0, 1, 3],\n",
    "    3: [1, 2]\n",
    "}\n",
    "\n",
    "print(detect_cycle(graph))  # Expected output: True"
   ]
  }
 ],
 "metadata": {
  "kernelspec": {
   "display_name": "myenv",
   "language": "python",
   "name": "python3"
  },
  "language_info": {
   "codemirror_mode": {
    "name": "ipython",
    "version": 3
   },
   "file_extension": ".py",
   "mimetype": "text/x-python",
   "name": "python",
   "nbconvert_exporter": "python",
   "pygments_lexer": "ipython3",
   "version": "3.12.3"
  }
 },
 "nbformat": 4,
 "nbformat_minor": 2
}
