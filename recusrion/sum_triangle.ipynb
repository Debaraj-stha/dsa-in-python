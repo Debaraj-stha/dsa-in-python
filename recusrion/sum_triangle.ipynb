{
 "cells": [
  {
   "cell_type": "code",
   "execution_count": 3,
   "metadata": {},
   "outputs": [
    {
     "name": "stdout",
     "output_type": "stream",
     "text": [
      "[48]\n",
      "[20, 28]\n",
      "[8, 12, 16]\n",
      "[3, 5, 7, 9]\n",
      "[1, 2, 3, 4, 5]\n"
     ]
    }
   ],
   "source": [
    "def sum_triangle(arr):\n",
    "    if(len(arr)<1):\n",
    "        return\n",
    "    temp=[0]*(len(arr)-1)\n",
    "    for i in range(len(arr)-1):\n",
    "        temp[i]=arr[i]+arr[i+1]\n",
    "    sum_triangle(temp)\n",
    "    print(arr)\n",
    "\n",
    "\n",
    "arr=[1,2,3,4,5]\n",
    "sum_triangle(arr)\n"
   ]
  }
 ],
 "metadata": {
  "kernelspec": {
   "display_name": "env",
   "language": "python",
   "name": "python3"
  },
  "language_info": {
   "codemirror_mode": {
    "name": "ipython",
    "version": 3
   },
   "file_extension": ".py",
   "mimetype": "text/x-python",
   "name": "python",
   "nbconvert_exporter": "python",
   "pygments_lexer": "ipython3",
   "version": "3.12.3"
  }
 },
 "nbformat": 4,
 "nbformat_minor": 2
}
