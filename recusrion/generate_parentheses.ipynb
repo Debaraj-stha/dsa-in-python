{
 "cells": [
  {
   "cell_type": "code",
   "execution_count": 1,
   "metadata": {},
   "outputs": [
    {
     "data": {
      "text/plain": [
       "'Input: n = 3  \\nOutput:  \\n\"((()))\"  \\n\"(()())\"  \\n\"(())()\"  \\n\"()(())\"  \\n\"()()()\"\\n'"
      ]
     },
     "execution_count": 1,
     "metadata": {},
     "output_type": "execute_result"
    }
   ],
   "source": [
    "\"\"\"Input: n = 3  \n",
    "Output:  \n",
    "\"((()))\"  \n",
    "\"(()())\"  \n",
    "\"(())()\"  \n",
    "\"()(())\"  \n",
    "\"()()()\"\n",
    "\"\"\""
   ]
  },
  {
   "cell_type": "code",
   "execution_count": 11,
   "metadata": {},
   "outputs": [
    {
     "name": "stdout",
     "output_type": "stream",
     "text": [
      "['((()))', '(()())', '(())()', '()(())', '()()()']\n"
     ]
    }
   ],
   "source": [
    "def generate_parentheses(n, open_count=0, close=0, s=\"\"):\n",
    "    if open_count==n and close==n:\n",
    "        return [s]\n",
    "    result=[]\n",
    "    if open_count<n:\n",
    "      result+= generate_parentheses(n, open_count+1, close, s+\"(\")\n",
    "    if close<open_count:\n",
    "        result+=  generate_parentheses(n, open_count, close+1, s+\")\")\n",
    "    return result\n",
    "print(generate_parentheses(3,0,0,\"\"))\n",
    "\n",
    "\n"
   ]
  }
 ],
 "metadata": {
  "kernelspec": {
   "display_name": "env",
   "language": "python",
   "name": "python3"
  },
  "language_info": {
   "codemirror_mode": {
    "name": "ipython",
    "version": 3
   },
   "file_extension": ".py",
   "mimetype": "text/x-python",
   "name": "python",
   "nbconvert_exporter": "python",
   "pygments_lexer": "ipython3",
   "version": "3.12.3"
  }
 },
 "nbformat": 4,
 "nbformat_minor": 2
}
