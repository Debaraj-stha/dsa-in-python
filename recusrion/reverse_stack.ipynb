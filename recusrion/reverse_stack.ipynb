{
 "cells": [
  {
   "cell_type": "code",
   "execution_count": null,
   "metadata": {},
   "outputs": [
    {
     "name": "stdout",
     "output_type": "stream",
     "text": [
      "1 2 3 4 "
     ]
    }
   ],
   "source": [
    "def  push(stack,val):\n",
    "    stack.append(val)\n",
    "def pop(stack):\n",
    "    if len(stack)==0:\n",
    "        print( \"Stack is empty\")\n",
    "        exit(1)\n",
    "    return stack.pop()\n",
    "def display(stack):\n",
    "    for i in range(len(stack)-1,-1,-1):\n",
    "        print(stack[i],end=\" \")\n",
    "def isEmpty(stack):\n",
    "    return len(stack)==0\n",
    "\n",
    "def pushAtBottom(stack,item):\n",
    "\n",
    "    if isEmpty(stack):\n",
    "        push(stack,item)\n",
    "    else:\n",
    "        temp=pop(stack)\n",
    "        pushAtBottom(stack,item)\n",
    "        push(stack,temp)\n",
    "def reverse(stack):\n",
    "    if not isEmpty(stack):\n",
    "        temp=pop(stack)\n",
    "        reverse(stack)\n",
    "        pushAtBottom(stack,temp)\n",
    "\n",
    "\n",
    "stack=[]\n",
    "push(stack,4)\n",
    "push(stack,3)\n",
    "push(stack,2)\n",
    "push(stack,1)\n",
    "display(stack)\n",
    "\n"
   ]
  },
  {
   "cell_type": "code",
   "execution_count": 12,
   "metadata": {},
   "outputs": [
    {
     "name": "stdout",
     "output_type": "stream",
     "text": [
      "4 3 2 1 "
     ]
    }
   ],
   "source": [
    "reverse(stack)\n",
    "display(stack)"
   ]
  },
  {
   "cell_type": "code",
   "execution_count": 9,
   "metadata": {},
   "outputs": [
    {
     "name": "stdout",
     "output_type": "stream",
     "text": [
      "1\n",
      "Original Stack \n",
      "2 3 4 \n",
      "Reversed Stack \n",
      "4 3 2 \n"
     ]
    }
   ],
   "source": [
    "# Python program to reverse a\n",
    "# stack using recursion\n",
    "\n",
    "# Below is a recursive function\n",
    "# that inserts an element\n",
    "# at the bottom of a stack.\n",
    "\n",
    "\n",
    "def insertAtBottom(stack, item):\n",
    "\tif isEmpty(stack):\n",
    "\t\tpush(stack, item)\n",
    "\telse:\n",
    "\t\ttemp = pop(stack)\n",
    "\t\tinsertAtBottom(stack, item)\n",
    "\t\tpush(stack, temp)\n",
    "\n",
    "# Below is the function that\n",
    "# reverses the given stack\n",
    "# using insertAtBottom()\n",
    "\n",
    "\n",
    "def reverse(stack):\n",
    "\tif not isEmpty(stack):\n",
    "\t\ttemp = pop(stack)\n",
    "\t\treverse(stack)\n",
    "\t\tinsertAtBottom(stack, temp)\n",
    "\n",
    "# Below is a complete running\n",
    "# program for testing above\n",
    "# functions.\n",
    "\n",
    "# Function to create a stack.\n",
    "# It initializes size of stack\n",
    "# as 0\n",
    "\n",
    "\n",
    "def createStack():\n",
    "\tstack = []\n",
    "\treturn stack\n",
    "\n",
    "# Function to check if\n",
    "# the stack is empty\n",
    "\n",
    "\n",
    "def isEmpty(stack):\n",
    "\treturn len(stack) == 0\n",
    "\n",
    "# Function to push an\n",
    "# item to stack\n",
    "\n",
    "\n",
    "def push(stack, item):\n",
    "\tstack.append(item)\n",
    "\n",
    "# Function to pop an\n",
    "# item from stack\n",
    "\n",
    "\n",
    "def pop(stack):\n",
    "\n",
    "\t# If stack is empty\n",
    "\t# then error\n",
    "\tif(isEmpty(stack)):\n",
    "\t\tprint(\"Stack Underflow \")\n",
    "\t\texit(1)\n",
    "\n",
    "\treturn stack.pop()\n",
    "\n",
    "# Function to print the stack\n",
    "\n",
    "\n",
    "def prints(stack):\n",
    "\tfor i in range(len(stack)-1, -1, -1):\n",
    "\t\tprint(stack[i], end=' ')\n",
    "\tprint()\n",
    "\n",
    "# Driver Code\n",
    "\n",
    "\n",
    "stack = createStack()\n",
    "push(stack, str(4))\n",
    "push(stack, str(3))\n",
    "push(stack, str(2))\n",
    "push(stack, str(1))\n",
    "print(stack.pop())\n",
    "print(\"Original Stack \")\n",
    "prints(stack)\n",
    "\n",
    "reverse(stack)\n",
    "\n",
    "print(\"Reversed Stack \")\n",
    "prints(stack)\n",
    "\n",
    "# This code is contributed by Sunny Karira\n"
   ]
  }
 ],
 "metadata": {
  "kernelspec": {
   "display_name": "env",
   "language": "python",
   "name": "python3"
  },
  "language_info": {
   "codemirror_mode": {
    "name": "ipython",
    "version": 3
   },
   "file_extension": ".py",
   "mimetype": "text/x-python",
   "name": "python",
   "nbconvert_exporter": "python",
   "pygments_lexer": "ipython3",
   "version": "3.12.3"
  }
 },
 "nbformat": 4,
 "nbformat_minor": 2
}
