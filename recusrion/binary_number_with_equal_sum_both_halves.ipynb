{
 "cells": [
  {
   "cell_type": "code",
   "execution_count": 5,
   "metadata": {},
   "outputs": [
    {
     "name": "stdout",
     "output_type": "stream",
     "text": [
      "00000 00100 01001 01101 01010 01110 10001 10101 10010 10110 11011 11111 "
     ]
    }
   ],
   "source": [
    "def equal(n,left=\"\",right=\"\",diff=0):\n",
    "    if n == 0:\n",
    "        if diff == 0:\n",
    "            print(left + right, end = \" \")\n",
    "        return\n",
    "    #if remains 1 then n is odd\n",
    "    if n == 1:\n",
    "        #if diff is 0put  remaining bt at middle\n",
    "        if diff == 0:\n",
    "            print(left + \"0\" + right, end = \" \")\n",
    "            print(left + \"1\" + right, end = \" \")\n",
    "        return\n",
    "    if 2 * abs(diff) <= n:\n",
    "        equal(n - 2, left + \"0\", right + \"0\", diff)\n",
    "        equal(n - 2, left + \"0\", right + \"1\", diff - 1)\n",
    "        equal(n - 2, left + \"1\", right + \"0\", diff + 1)\n",
    "        equal(n - 2, left + \"1\", right + \"1\", diff)\n",
    "equal(5)\n"
   ]
  },
  {
   "cell_type": "markdown",
   "metadata": {},
   "source": [
    "00000 00100 01001 01101 01010 01110 10001 10101 10010 10110 11011 11111 "
   ]
  }
 ],
 "metadata": {
  "kernelspec": {
   "display_name": "env",
   "language": "python",
   "name": "python3"
  },
  "language_info": {
   "codemirror_mode": {
    "name": "ipython",
    "version": 3
   },
   "file_extension": ".py",
   "mimetype": "text/x-python",
   "name": "python",
   "nbconvert_exporter": "python",
   "pygments_lexer": "ipython3",
   "version": "3.12.3"
  }
 },
 "nbformat": 4,
 "nbformat_minor": 2
}
