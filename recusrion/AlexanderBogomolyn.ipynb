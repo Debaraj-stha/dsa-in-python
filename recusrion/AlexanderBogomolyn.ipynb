{
 "cells": [
  {
   "cell_type": "code",
   "execution_count": 3,
   "metadata": {},
   "outputs": [
    {
     "name": "stdout",
     "output_type": "stream",
     "text": [
      "[0] [0, 0, 0]\n",
      "[1] [1, 0, 0]\n",
      "[2] [1, 2, 0]\n",
      "[3] [1, 2, 3]\n",
      "[1, 2, 3]\n",
      "[2] [1, 0, 2]\n",
      "[3] [1, 3, 2]\n",
      "[1, 3, 2]\n",
      "[1] [0, 1, 0]\n",
      "[2] [2, 1, 0]\n",
      "[3] [2, 1, 3]\n",
      "[2, 1, 3]\n",
      "[2] [0, 1, 2]\n",
      "[3] [3, 1, 2]\n",
      "[3, 1, 2]\n",
      "[1] [0, 0, 1]\n",
      "[2] [2, 0, 1]\n",
      "[3] [2, 3, 1]\n",
      "[2, 3, 1]\n",
      "[2] [0, 2, 1]\n",
      "[3] [3, 2, 1]\n",
      "[3, 2, 1]\n"
     ]
    }
   ],
   "source": [
    "level=[-1]\n",
    "def AlexanderBogomolyn(perm,n,k):\n",
    "    level[0]=level[0]+1\n",
    "    perm[k]=level[0]\n",
    "    print(level,perm)\n",
    "    if level[0]==n:\n",
    "        print(perm)\n",
    "    else:\n",
    "        for i in range(n):\n",
    "            if perm[i]==0:\n",
    "                AlexanderBogomolyn(perm,n,i)\n",
    "  \n",
    "    level[0]=level[0]-1\n",
    "    perm[k]=0\n",
    "    return\n",
    "perm=[0]*3\n",
    "AlexanderBogomolyn(perm,3,0)\n",
    "    "
   ]
  }
 ],
 "metadata": {
  "kernelspec": {
   "display_name": "myenv",
   "language": "python",
   "name": "python3"
  },
  "language_info": {
   "codemirror_mode": {
    "name": "ipython",
    "version": 3
   },
   "file_extension": ".py",
   "mimetype": "text/x-python",
   "name": "python",
   "nbconvert_exporter": "python",
   "pygments_lexer": "ipython3",
   "version": "3.12.3"
  }
 },
 "nbformat": 4,
 "nbformat_minor": 2
}
