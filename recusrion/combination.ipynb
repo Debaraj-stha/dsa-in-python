{
 "cells": [
  {
   "cell_type": "code",
   "execution_count": 1,
   "metadata": {},
   "outputs": [
    {
     "data": {
      "text/plain": [
       "[[1], [1, 2], [1, 2, 3], [1, 3], [2], [2, 3], [3]]"
      ]
     },
     "execution_count": 1,
     "metadata": {},
     "output_type": "execute_result"
    }
   ],
   "source": [
    "def get_combinations(arr,curren,res):\n",
    "    for i in range(len(arr)):\n",
    "        curren.append(arr[i])\n",
    "        res.append(curren[:])\n",
    "        get_combinations(arr[i+1:], curren, res)\n",
    "        curren.pop()\n",
    "def combination(arr):\n",
    "    res=[]\n",
    "    if not arr:\n",
    "        return []\n",
    "    get_combinations(arr,[],res)\n",
    "    return res\n",
    "\n",
    "combination([1,2,3])\n"
   ]
  }
 ],
 "metadata": {
  "kernelspec": {
   "display_name": "env",
   "language": "python",
   "name": "python3"
  },
  "language_info": {
   "codemirror_mode": {
    "name": "ipython",
    "version": 3
   },
   "file_extension": ".py",
   "mimetype": "text/x-python",
   "name": "python",
   "nbconvert_exporter": "python",
   "pygments_lexer": "ipython3",
   "version": "3.12.3"
  }
 },
 "nbformat": 4,
 "nbformat_minor": 2
}
