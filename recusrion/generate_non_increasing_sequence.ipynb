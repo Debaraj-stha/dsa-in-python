{
 "cells": [
  {
   "cell_type": "code",
   "execution_count": null,
   "metadata": {},
   "outputs": [
    {
     "name": "stdout",
     "output_type": "stream",
     "text": [
      "[1, 1, 1]\n",
      "[1, 2]\n",
      "[3]\n"
     ]
    }
   ],
   "source": [
    "def generate_non_increasing_sequence(n, current=[], num=1):\n",
    "    if sum(current) == n:\n",
    "        print(current[:]) \n",
    "        return\n",
    "\n",
    "    for i in range(num, n - sum(current) + 1):\n",
    "        current.append(i)\n",
    "        generate_non_increasing_sequence(n, current, i)\n",
    "        current.pop()\n",
    "\n",
    "generate_non_increasing_sequence(3)\n"
   ]
  }
 ],
 "metadata": {
  "kernelspec": {
   "display_name": "env",
   "language": "python",
   "name": "python3"
  },
  "language_info": {
   "codemirror_mode": {
    "name": "ipython",
    "version": 3
   },
   "file_extension": ".py",
   "mimetype": "text/x-python",
   "name": "python",
   "nbconvert_exporter": "python",
   "pygments_lexer": "ipython3",
   "version": "3.12.3"
  }
 },
 "nbformat": 4,
 "nbformat_minor": 2
}
