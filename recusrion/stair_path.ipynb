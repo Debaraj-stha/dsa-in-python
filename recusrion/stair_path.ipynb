{
 "cells": [
  {
   "cell_type": "code",
   "execution_count": 33,
   "metadata": {},
   "outputs": [
    {
     "data": {
      "text/plain": [
       "[[1, 1, 1, 1], [1, 1, 2], [1, 2, 1], [1, 3], [2, 1, 1], [2, 2], [3, 1]]"
      ]
     },
     "execution_count": 33,
     "metadata": {},
     "output_type": "execute_result"
    }
   ],
   "source": [
    "def stair_path(n):\n",
    "    if n==0:\n",
    "        return [[]]\n",
    "    if n<0:\n",
    "        return []\n",
    "    path1=stair_path(n-1)\n",
    "    path2=stair_path(n-2)\n",
    "    path3=stair_path(n-3)\n",
    "\n",
    "    paths=[]\n",
    "    for path in path1:\n",
    "        paths.append([1]+path)\n",
    "    for path in path2:\n",
    "        paths.append([2]+path)\n",
    "    for path in path3:\n",
    "        paths.append([3]+path)\n",
    "    return paths\n",
    "\n",
    "stair_path(4)\n"
   ]
  }
 ],
 "metadata": {
  "kernelspec": {
   "display_name": "myenv",
   "language": "python",
   "name": "python3"
  },
  "language_info": {
   "codemirror_mode": {
    "name": "ipython",
    "version": 3
   },
   "file_extension": ".py",
   "mimetype": "text/x-python",
   "name": "python",
   "nbconvert_exporter": "python",
   "pygments_lexer": "ipython3",
   "version": "3.12.3"
  }
 },
 "nbformat": 4,
 "nbformat_minor": 2
}
