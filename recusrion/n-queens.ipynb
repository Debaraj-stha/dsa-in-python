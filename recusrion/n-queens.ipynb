{
 "cells": [
  {
   "cell_type": "code",
   "execution_count": 11,
   "metadata": {},
   "outputs": [
    {
     "name": "stdout",
     "output_type": "stream",
     "text": [
      ". Q . .\n",
      ". . . Q\n",
      "Q . . .\n",
      ". . Q .\n",
      "\n"
     ]
    },
    {
     "data": {
      "text/plain": [
       "True"
      ]
     },
     "execution_count": 11,
     "metadata": {},
     "output_type": "execute_result"
    }
   ],
   "source": [
    "def is_valid(row,col,board,n):\n",
    "    for i in range(row):\n",
    "        if board[i][col] == 'Q':\n",
    "            return False\n",
    "    for i, j in zip(range(row,-1,-1), range(col,-1,-1)):\n",
    "        if board[i][j] == 'Q':\n",
    "            return False\n",
    "    for i, j in zip(range(row,-1,-1), range(col,n)):\n",
    "        if board[i][j] == 'Q':\n",
    "            return False\n",
    "    return True\n",
    "def print_board(board):\n",
    "    for row in board:\n",
    "        print(' '.join(row))\n",
    "    print()\n",
    "\n",
    "def solve(board,r,n):\n",
    "    if r >= n:\n",
    "        print_board(board)\n",
    "        return True\n",
    "    for c in range(n):\n",
    "        if is_valid(r, c, board, n):\n",
    "            board[r][c] = 'Q'\n",
    "            if solve(board, r + 1, n):\n",
    "                return True\n",
    "            board[r][c] = '.'\n",
    "    return False\n",
    "n=4\n",
    "board=[[\".\"]*n for _ in range(n)]\n",
    "solve(board,0,n)"
   ]
  }
 ],
 "metadata": {
  "kernelspec": {
   "display_name": "env",
   "language": "python",
   "name": "python3"
  },
  "language_info": {
   "codemirror_mode": {
    "name": "ipython",
    "version": 3
   },
   "file_extension": ".py",
   "mimetype": "text/x-python",
   "name": "python",
   "nbconvert_exporter": "python",
   "pygments_lexer": "ipython3",
   "version": "3.12.3"
  }
 },
 "nbformat": 4,
 "nbformat_minor": 2
}
