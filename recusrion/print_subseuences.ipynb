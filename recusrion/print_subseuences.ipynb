{
 "cells": [
  {
   "cell_type": "code",
   "execution_count": 3,
   "metadata": {},
   "outputs": [
    {
     "data": {
      "text/plain": [
       "'\\nInput: \"abc\"  \\nOutput:  \\n\"\"  \\n\"a\"  \\n\"b\"  \\n\"c\"  \\n\"ab\"  \\n\"ac\"  \\n\"bc\"  \\n\"abc\"\\n'"
      ]
     },
     "execution_count": 3,
     "metadata": {},
     "output_type": "execute_result"
    }
   ],
   "source": [
    "\"\"\"\n",
    "Input: \"abc\"  \n",
    "Output:  \n",
    "\"\"  \n",
    "\"a\"  \n",
    "\"b\"  \n",
    "\"c\"  \n",
    "\"ab\"  \n",
    "\"ac\"  \n",
    "\"bc\"  \n",
    "\"abc\"\n",
    "\"\"\""
   ]
  },
  {
   "cell_type": "code",
   "execution_count": 4,
   "metadata": {},
   "outputs": [
    {
     "name": "stdout",
     "output_type": "stream",
     "text": [
      "abc\n",
      "ab-\n",
      "a-c\n",
      "a--\n",
      "-bc\n",
      "-b-\n",
      "--c\n",
      "---\n"
     ]
    }
   ],
   "source": [
    "def print_subsequences(s, index=0, current=\"\"):\n",
    "    if not s:\n",
    "        return \"\"\n",
    "    if index == len(s):\n",
    "        print(current)\n",
    "        return\n",
    "        \n",
    "    print_subsequences(s,index+1,current+s[index])\n",
    "    print_subsequences(s,index+1,current+\"-\")\n",
    "    \n",
    "s=\"abc\"\n",
    "print_subsequences(s,0,\"\")"
   ]
  },
  {
   "cell_type": "code",
   "execution_count": null,
   "metadata": {},
   "outputs": [],
   "source": []
  }
 ],
 "metadata": {
  "kernelspec": {
   "display_name": "myenv",
   "language": "python",
   "name": "python3"
  },
  "language_info": {
   "codemirror_mode": {
    "name": "ipython",
    "version": 3
   },
   "file_extension": ".py",
   "mimetype": "text/x-python",
   "name": "python",
   "nbconvert_exporter": "python",
   "pygments_lexer": "ipython3",
   "version": "3.12.3"
  }
 },
 "nbformat": 4,
 "nbformat_minor": 2
}
