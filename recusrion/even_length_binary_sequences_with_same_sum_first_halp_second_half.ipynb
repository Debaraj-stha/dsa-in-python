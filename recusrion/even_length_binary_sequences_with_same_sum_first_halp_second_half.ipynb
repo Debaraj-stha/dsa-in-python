{
 "cells": [
  {
   "cell_type": "markdown",
   "metadata": {},
   "source": [
    "The idea is to fix first and last bits and then recur for remaining 2*(n-1) bits. There are four possibilities when we fix first and last bits –\n",
    " \n",
    "\n",
    "    First and last bits are 1, remaining n – 1 bits on both sides should also have the same sum.\n",
    "    First and last bits are 0, remaining n – 1 bits on both sides should also have the same sum.\n",
    "    First bit is 1 and last bit is 0, sum of remaining n – 1 bits on left side should be 1 less than the sum n-1 bits on right side.\n",
    "    First bit is 0 and last bit is 1, sum of remaining n – 1 bits on left side should be 1 more than the sum n-1 bits on right side."
   ]
  },
  {
   "cell_type": "markdown",
   "metadata": {},
   "source": [
    "diff keeps track of difference between   numbers of 0's and 1's"
   ]
  },
  {
   "cell_type": "markdown",
   "metadata": {},
   "source": [
    "When diff is positive: It means there are more 1s than 0s.\\n\n",
    "When diff is negative: It means there are more 0s than 1s.\\n\n",
    "When diff is zero: It means the number of 1s and 0s is balanced at that point."
   ]
  },
  {
   "cell_type": "code",
   "execution_count": 1,
   "metadata": {},
   "outputs": [
    {
     "name": "stdout",
     "output_type": "stream",
     "text": [
      "1010 0101 1111 1001 0110 0000 "
     ]
    }
   ],
   "source": [
    "def find_sequences(diff,out,start,end):\n",
    "    if abs(diff)>(end-start +1)//2:\n",
    "        return\n",
    "    if start>end:\n",
    "        if diff==0:\n",
    "            print(\"\".join(list(out)),end=\" \")\n",
    "    out[start]=\"1\"\n",
    "    out[end]=\"0\"\n",
    "    find_sequences(diff+1,out,start+1,end-1) \n",
    "    out[start]=\"0\"\n",
    "    out[end]=\"1\"\n",
    "    find_sequences(diff-1,out,start+1,end-1)\n",
    "    out[start]=out[end]=\"1\"\n",
    "    find_sequences(diff,out,start+1,end-1)\n",
    "    out[start]=out[end]=\"0\"\n",
    "    find_sequences(diff,out,start+1,end-1)\n",
    "    \n",
    "\n",
    "n=2\n",
    "out=[\"\"]*(2*n)\n",
    "find_sequences(0,out,0,2*n-1)"
   ]
  }
 ],
 "metadata": {
  "kernelspec": {
   "display_name": "env",
   "language": "python",
   "name": "python3"
  },
  "language_info": {
   "codemirror_mode": {
    "name": "ipython",
    "version": 3
   },
   "file_extension": ".py",
   "mimetype": "text/x-python",
   "name": "python",
   "nbconvert_exporter": "python",
   "pygments_lexer": "ipython3",
   "version": "3.12.3"
  }
 },
 "nbformat": 4,
 "nbformat_minor": 2
}
