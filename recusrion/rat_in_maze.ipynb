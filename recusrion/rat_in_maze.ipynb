{
 "cells": [
  {
   "cell_type": "code",
   "execution_count": 17,
   "metadata": {},
   "outputs": [
    {
     "name": "stdout",
     "output_type": "stream",
     "text": [
      "None\n",
      "['DRDDRR', 'DRDRDR']\n"
     ]
    }
   ],
   "source": [
    "directions=\"DLRU\"\n",
    "dr=[1,0,0,-1]\n",
    "dc=[0,-1,1,0]\n",
    "def is_valid(row,col,n,board):\n",
    "    return 0<=row<n and 0<=col<n and board[row][col]==1\n",
    "def rat_in_maze(maze,row,col,path,n,result):\n",
    "    if row==n-1 and col==n-1:\n",
    "        result.append(path)\n",
    "        return\n",
    "    maze[row][col] =0\n",
    "    for i in range(4):\n",
    "        next_row=row+dr[i]\n",
    "        next_col=col+dc[i]\n",
    "        if is_valid(next_row,next_col,n,maze):\n",
    "            rat_in_maze(maze,next_row,next_col,path+directions[i],n,result)\n",
    "    maze[row][col]=1\n",
    "    \n",
    "\n",
    "\n",
    "maze=[\n",
    "    [1,0,0,0],\n",
    "    [1,1,0,0],\n",
    "    [0,1,1,0],\n",
    "    [1,1,1,1]\n",
    "]\n",
    "n=len(maze)\n",
    "res=[]\n",
    "\n",
    "if maze[0][0]!=0 and maze[n-1][n-1]!=0:\n",
    "    print(rat_in_maze(maze,0,0,\"\",n,res))\n",
    "    print(res)\n",
    "else:\n",
    "    print(\"no path available\")"
   ]
  },
  {
   "cell_type": "code",
   "execution_count": null,
   "metadata": {},
   "outputs": [],
   "source": []
  }
 ],
 "metadata": {
  "kernelspec": {
   "display_name": "env",
   "language": "python",
   "name": "python3"
  },
  "language_info": {
   "codemirror_mode": {
    "name": "ipython",
    "version": 3
   },
   "file_extension": ".py",
   "mimetype": "text/x-python",
   "name": "python",
   "nbconvert_exporter": "python",
   "pygments_lexer": "ipython3",
   "version": "3.12.3"
  }
 },
 "nbformat": 4,
 "nbformat_minor": 2
}
