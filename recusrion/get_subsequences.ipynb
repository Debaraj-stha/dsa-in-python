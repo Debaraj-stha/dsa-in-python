{
 "cells": [
  {
   "cell_type": "code",
   "execution_count": 9,
   "metadata": {},
   "outputs": [
    {
     "name": "stdout",
     "output_type": "stream",
     "text": [
      "abc\n",
      "ab-\n",
      "a-c\n",
      "a--\n",
      "-bc\n",
      "-b-\n",
      "--c\n",
      "---\n"
     ]
    }
   ],
   "source": [
    "def getSubsequences(s,current,index):\n",
    "    if index == len(s):\n",
    "        print(current)\n",
    "        return\n",
    "\n",
    "    getSubsequences(s, current + s[index], index + 1)\n",
    "    getSubsequences(s, current+\"-\", index + 1)\n",
    "getSubsequences(\"abc\",\"\",0)\n",
    "\n"
   ]
  },
  {
   "cell_type": "code",
   "execution_count": 12,
   "metadata": {},
   "outputs": [
    {
     "name": "stdout",
     "output_type": "stream",
     "text": [
      "['-']\n",
      "['c-', '-']\n",
      "['bc-', 'c-', 'b-', '-']\n",
      "['abc-', 'bc-', 'ac-', 'c-', 'ab-', 'b-', 'a-', '-']\n"
     ]
    }
   ],
   "source": [
    "def get(s):\n",
    "    if not s:\n",
    "        return ['-']\n",
    "    first_char=s[0]\n",
    "    remaining_chars=s[1:]\n",
    "    subsequences=get(remaining_chars)\n",
    "    print(subsequences)\n",
    "    res=[]\n",
    "    for subsequence in subsequences:\n",
    "        res.append(first_char+subsequence)\n",
    "        res.append(subsequence)\n",
    "    return res\n",
    "print(get(\"abc\")) # Output: ['a', 'ab', 'abc', 'b', 'bc', 'c']\n",
    "        "
   ]
  }
 ],
 "metadata": {
  "kernelspec": {
   "display_name": "myenv",
   "language": "python",
   "name": "python3"
  },
  "language_info": {
   "codemirror_mode": {
    "name": "ipython",
    "version": 3
   },
   "file_extension": ".py",
   "mimetype": "text/x-python",
   "name": "python",
   "nbconvert_exporter": "python",
   "pygments_lexer": "ipython3",
   "version": "3.12.3"
  }
 },
 "nbformat": 4,
 "nbformat_minor": 2
}
