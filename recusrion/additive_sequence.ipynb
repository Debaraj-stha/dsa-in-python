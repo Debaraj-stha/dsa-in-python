{
 "cells": [
  {
   "cell_type": "code",
   "execution_count": 16,
   "metadata": {},
   "outputs": [
    {
     "name": "stdout",
     "output_type": "stream",
     "text": [
      "[1, 2, 3, 5, 8, 13, 21, 34, 55, 89]\n"
     ]
    }
   ],
   "source": [
    "def additive_sequence(a,b,n,seq=None):\n",
    "    if seq is None:\n",
    "        seq=[a,b]\n",
    "    if n<=2:\n",
    "        return seq\n",
    "    next_num=seq[-1]+seq[-2]\n",
    "    seq.append(next_num)\n",
    "    return additive_sequence(a,b,n-1,seq)\n",
    "\n",
    "print(additive_sequence(1, 2, 10))"
   ]
  },
  {
   "cell_type": "code",
   "execution_count": 19,
   "metadata": {},
   "outputs": [
    {
     "name": "stdout",
     "output_type": "stream",
     "text": [
      "True\n"
     ]
    }
   ],
   "source": [
    "def is_additive_sequenc(num,index=0,seq=None):\n",
    "    if seq is None:\n",
    "        seq=[]\n",
    "    if index==len(num):\n",
    "        return len(seq)>=3\n",
    "    for i in range(index,len(num)):\n",
    "        sub=num[index:i+1]\n",
    "        if len(sub)>1 and sub[0]==\"0\":\n",
    "            continue\n",
    "        next_num=int(sub)\n",
    "        if len(seq)>=2 and seq[-1]+seq[-2]!=next_num:\n",
    "            continue\n",
    "        seq.append(next_num)\n",
    "        if is_additive_sequenc(num,i+1,seq):\n",
    "            return True\n",
    "        seq.pop() #backtrack\n",
    "    return False\n",
    "\n",
    "num=\"123581321345589\"\n",
    "print(is_additive_sequenc(num))"
   ]
  }
 ],
 "metadata": {
  "kernelspec": {
   "display_name": "env",
   "language": "python",
   "name": "python3"
  },
  "language_info": {
   "codemirror_mode": {
    "name": "ipython",
    "version": 3
   },
   "file_extension": ".py",
   "mimetype": "text/x-python",
   "name": "python",
   "nbconvert_exporter": "python",
   "pygments_lexer": "ipython3",
   "version": "3.12.3"
  }
 },
 "nbformat": 4,
 "nbformat_minor": 2
}
