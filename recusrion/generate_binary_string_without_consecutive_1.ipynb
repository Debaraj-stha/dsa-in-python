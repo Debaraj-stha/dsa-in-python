{
 "cells": [
  {
   "cell_type": "code",
   "execution_count": 7,
   "metadata": {},
   "outputs": [
    {
     "name": "stdout",
     "output_type": "stream",
     "text": [
      "000\n",
      "001\n",
      "010\n",
      "100\n",
      "101\n"
     ]
    }
   ],
   "source": [
    "def generate_until(string,k,n):\n",
    "    if n==k:\n",
    "        print(''.join(map(str, string)))\n",
    "        return\n",
    "    if string[n-1]==\"1\":\n",
    "        string[n]=\"0\"\n",
    "        generate_until(string,k,n+1)\n",
    "    elif string[n-1]==\"0\":\n",
    "        string[n]=\"0\"\n",
    "        generate_until(string,k,n+1)\n",
    "        string[n]=\"1\"\n",
    "        generate_until(string,k,n+1)\n",
    "def generate_binary_string(k):\n",
    "    if k==0:\n",
    "        return []\n",
    "    string=[0]*k\n",
    "    string[0]=\"0\"\n",
    "    generate_until(string,k,1)\n",
    "    string[0]=\"1\"\n",
    "    generate_until(string,k,1)\n",
    "\n",
    "generate_binary_string(3)\n"
   ]
  }
 ],
 "metadata": {
  "kernelspec": {
   "display_name": "env",
   "language": "python",
   "name": "python3"
  },
  "language_info": {
   "codemirror_mode": {
    "name": "ipython",
    "version": 3
   },
   "file_extension": ".py",
   "mimetype": "text/x-python",
   "name": "python",
   "nbconvert_exporter": "python",
   "pygments_lexer": "ipython3",
   "version": "3.12.3"
  }
 },
 "nbformat": 4,
 "nbformat_minor": 2
}
