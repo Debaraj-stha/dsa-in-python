{
 "cells": [
  {
   "cell_type": "code",
   "execution_count": null,
   "metadata": {},
   "outputs": [
    {
     "name": "stdout",
     "output_type": "stream",
     "text": [
      "2 7 13 "
     ]
    }
   ],
   "source": [
    "\n",
    "def is_leaf(preorder,i,n,minval,maxval):\n",
    "    if i[0]>=n:\n",
    "        return False\n",
    "    if minval<preorder[i[0]]<maxval:\n",
    "        i[0]+=1\n",
    "        left=is_leaf(preorder,i,n,minval,preorder[i[0]-1])\n",
    "        right=is_leaf(preorder,i,n,preorder[i[0]-1],maxval)\n",
    "        if not left or not right:\n",
    "            print(preorder[i[0]-1],end=\" \")\n",
    "        return True\n",
    "    return False\n",
    "\n",
    "\n",
    "def print_leaves(preorder,n):\n",
    "    i=[0]\n",
    "    is_leaf(preorder,i,n,float(\"-inf\"),float(\"inf\"))\n",
    "\n",
    "preorder=[10,6,2,7,13]\n",
    "print_leaves(preorder,len(preorder))"
   ]
  }
 ],
 "metadata": {
  "kernelspec": {
   "display_name": "env",
   "language": "python",
   "name": "python3"
  },
  "language_info": {
   "codemirror_mode": {
    "name": "ipython",
    "version": 3
   },
   "file_extension": ".py",
   "mimetype": "text/x-python",
   "name": "python",
   "nbconvert_exporter": "python",
   "pygments_lexer": "ipython3",
   "version": "3.12.3"
  }
 },
 "nbformat": 4,
 "nbformat_minor": 2
}
