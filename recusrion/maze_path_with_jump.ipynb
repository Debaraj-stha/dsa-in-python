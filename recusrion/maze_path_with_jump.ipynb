{
 "cells": [
  {
   "cell_type": "code",
   "execution_count": null,
   "metadata": {},
   "outputs": [
    {
     "name": "stdout",
     "output_type": "stream",
     "text": [
      "Total Paths: 25\n",
      "['HHHVV', 'HHVHV', 'HHVVH', 'HHVD', 'HHDV', 'HVHHV', 'HVHVH', 'HVHD', 'HVVHH', 'HVDH', 'HDHV', 'HDVH', 'HDD', 'VHHHV', 'VHHVH', 'VHHD', 'VHVHH', 'VHDH', 'VVHHH', 'VDHH', 'DHHV', 'DHVH', 'DHD', 'DVHH', 'DDH']\n"
     ]
    }
   ],
   "source": [
    "def mazePath(maze, row, col, rows, cols, current):\n",
    "    global res  \n",
    "    \n",
    "    if row < 0 or row >= rows or col < 0 or col >= cols or maze[row][col] == 0:\n",
    "        return  \n",
    "    if row == rows - 1 and col == cols - 1:\n",
    "        res.append(current)\n",
    "        return\n",
    "    mazePath(maze, row, col + 1, rows, cols, current + \"H\")  \n",
    "    mazePath(maze, row + 1, col, rows, cols, current + \"V\")  \n",
    "    mazePath(maze, row + 1, col + 1, rows, cols, current + \"D\")\n",
    "\n",
    "maze = [\n",
    "    [1, 1, 1, 1],\n",
    "    [1, 1, 1, 1],\n",
    "    [1, 1, 1, 1]\n",
    "]\n",
    "\n",
    "rows = len(maze)\n",
    "cols = len(maze[0])\n",
    "res = []\n",
    "\n",
    "\n",
    "mazePath(maze, 0, 0, rows, cols, \"\")\n",
    "print(\"Total Paths:\", len(res))\n",
    "print(res)\n"
   ]
  },
  {
   "cell_type": "code",
   "execution_count": null,
   "metadata": {},
   "outputs": [
    {
     "name": "stdout",
     "output_type": "stream",
     "text": [
      "Total Paths: 60\n",
      "[['V1', 'V1', 'H1', 'H1', 'H1'], ['V1', 'V1', 'H1', 'H2'], ['V1', 'V1', 'H2', 'H1'], ['V1', 'V1', 'H3'], ['V1', 'H1', 'V1', 'H1', 'H1'], ['V1', 'H1', 'V1', 'H2'], ['V1', 'H1', 'H1', 'V1', 'H1'], ['V1', 'H1', 'H1', 'H1', 'V1'], ['V1', 'H1', 'H1', 'D1'], ['V1', 'H1', 'H2', 'V1'], ['V1', 'H1', 'D1', 'H1'], ['V1', 'H2', 'V1', 'H1'], ['V1', 'H2', 'H1', 'V1'], ['V1', 'H2', 'D1'], ['V1', 'H3', 'V1'], ['V1', 'D1', 'H1', 'H1'], ['V1', 'D1', 'H2'], ['V2', 'H1', 'H1', 'H1'], ['V2', 'H1', 'H2'], ['V2', 'H2', 'H1'], ['V2', 'H3'], ['H1', 'V1', 'V1', 'H1', 'H1'], ['H1', 'V1', 'V1', 'H2'], ['H1', 'V1', 'H1', 'V1', 'H1'], ['H1', 'V1', 'H1', 'H1', 'V1'], ['H1', 'V1', 'H1', 'D1'], ['H1', 'V1', 'H2', 'V1'], ['H1', 'V1', 'D1', 'H1'], ['H1', 'V2', 'H1', 'H1'], ['H1', 'V2', 'H2'], ['H1', 'H1', 'V1', 'V1', 'H1'], ['H1', 'H1', 'V1', 'H1', 'V1'], ['H1', 'H1', 'V1', 'D1'], ['H1', 'H1', 'V2', 'H1'], ['H1', 'H1', 'H1', 'V1', 'V1'], ['H1', 'H1', 'H1', 'V2'], ['H1', 'H1', 'D1', 'V1'], ['H1', 'H2', 'V1', 'V1'], ['H1', 'H2', 'V2'], ['H1', 'D1', 'V1', 'H1'], ['H1', 'D1', 'H1', 'V1'], ['H1', 'D1', 'D1'], ['H1', 'D2'], ['H2', 'V1', 'V1', 'H1'], ['H2', 'V1', 'H1', 'V1'], ['H2', 'V1', 'D1'], ['H2', 'V2', 'H1'], ['H2', 'H1', 'V1', 'V1'], ['H2', 'H1', 'V2'], ['H2', 'D1', 'V1'], ['H3', 'V1', 'V1'], ['H3', 'V2'], ['D1', 'V1', 'H1', 'H1'], ['D1', 'V1', 'H2'], ['D1', 'H1', 'V1', 'H1'], ['D1', 'H1', 'H1', 'V1'], ['D1', 'H1', 'D1'], ['D1', 'H2', 'V1'], ['D1', 'D1', 'H1'], ['D2', 'H1']]\n"
     ]
    }
   ],
   "source": [
    "def mazePathWithJump(maze, row, col,rows,cols):\n",
    "    global res  \n",
    "    \n",
    "    if row < 0 or row >= rows or col < 0 or col >= cols:\n",
    "        return  []\n",
    "    if row==rows-1 and col==cols-1:\n",
    "        return [[]]\n",
    "    paths= []\n",
    "    for step in range(1,4):\n",
    "        if row+step<rows:\n",
    "            move_rows=mazePathWithJump(maze,row+step,col,rows,cols)\n",
    "            for path in move_rows:\n",
    "                paths.append([\"V\" + str(step)] + path)\n",
    "\n",
    "    for step in range(1,4):\n",
    "        if col+step<cols:\n",
    "            move_cols=mazePathWithJump(maze,row,col+step,rows,cols)\n",
    "            for path in move_cols:\n",
    "                paths.append([\"H\" + str(step)] + path)\n",
    "\n",
    "    for step in range(1,4):\n",
    "        if row+step<rows and col+step<cols:\n",
    "            move_diagonal=mazePathWithJump(maze,row+step,col+step,rows,cols)\n",
    "            for path in move_diagonal:\n",
    "                paths.append([\"D\" + str(step)] + path)\n",
    "\n",
    "    return paths\n",
    "\n",
    "\n",
    "maze = [\n",
    "    [1, 1, 1, 1],\n",
    "    [1, 1, 1, 1],\n",
    "    [1, 1, 1, 1]\n",
    "]\n",
    "steps=[1,4]\n",
    "rows,cols=len(maze),len(maze[0])\n",
    "res=[]\n",
    "row=0\n",
    "col=0\n",
    "paths=mazePathWithJump(maze,row,col,rows,cols)\n",
    "print(\"Total Paths:\", len(paths))\n",
    "print(paths)"
   ]
  }
 ],
 "metadata": {
  "kernelspec": {
   "display_name": "myenv",
   "language": "python",
   "name": "python3"
  },
  "language_info": {
   "codemirror_mode": {
    "name": "ipython",
    "version": 3
   },
   "file_extension": ".py",
   "mimetype": "text/x-python",
   "name": "python",
   "nbconvert_exporter": "python",
   "pygments_lexer": "ipython3",
   "version": "3.12.3"
  }
 },
 "nbformat": 4,
 "nbformat_minor": 2
}
