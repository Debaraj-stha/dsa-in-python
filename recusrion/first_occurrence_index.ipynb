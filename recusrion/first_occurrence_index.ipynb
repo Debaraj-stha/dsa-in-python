{
 "cells": [
  {
   "cell_type": "code",
   "execution_count": 3,
   "metadata": {},
   "outputs": [
    {
     "name": "stdout",
     "output_type": "stream",
     "text": [
      "2\n"
     ]
    }
   ],
   "source": [
    "def firstoccurrence(arr,item,n,currentIndex):\n",
    "    if not arr or n==0:\n",
    "        return -1\n",
    "    if arr[currentIndex]==item:\n",
    "        return currentIndex\n",
    "    return firstoccurrence(arr,item,n-1,currentIndex+1)\n",
    "    \n",
    "\n",
    "arr=[2,5,1,6,8,1,9,10,2,4,2,7]\n",
    "n=len(arr)\n",
    "item=1\n",
    "print(firstoccurrence(arr,item,n,0))"
   ]
  }
 ],
 "metadata": {
  "kernelspec": {
   "display_name": "myenv",
   "language": "python",
   "name": "python3"
  },
  "language_info": {
   "codemirror_mode": {
    "name": "ipython",
    "version": 3
   },
   "file_extension": ".py",
   "mimetype": "text/x-python",
   "name": "python",
   "nbconvert_exporter": "python",
   "pygments_lexer": "ipython3",
   "version": "3.12.3"
  }
 },
 "nbformat": 4,
 "nbformat_minor": 2
}
