{
 "cells": [
  {
   "cell_type": "code",
   "execution_count": 17,
   "metadata": {},
   "outputs": [
    {
     "name": "stdout",
     "output_type": "stream",
     "text": [
      "['aaa', 'aab', 'aba', 'abb', 'baa', 'bab', 'bba', 'bbb']\n"
     ]
    }
   ],
   "source": [
    "def possible_string_k_length(arr,k,n,s=\"\"):\n",
    "    if k==0:\n",
    "        return [s]\n",
    "    res=[]\n",
    "    for i in range(n):\n",
    "        res+= possible_string_k_length(arr,k-1,n,s+arr[i])\n",
    "    return res\n",
    "\n",
    "arr=[\"a\",\"b\"]\n",
    "k=3\n",
    "print(possible_string_k_length(arr,k,len(arr),\"\"))\n",
    "    \n",
    "\n",
    "\n"
   ]
  },
  {
   "cell_type": "code",
   "execution_count": null,
   "metadata": {},
   "outputs": [],
   "source": []
  }
 ],
 "metadata": {
  "kernelspec": {
   "display_name": "env",
   "language": "python",
   "name": "python3"
  },
  "language_info": {
   "codemirror_mode": {
    "name": "ipython",
    "version": 3
   },
   "file_extension": ".py",
   "mimetype": "text/x-python",
   "name": "python",
   "nbconvert_exporter": "python",
   "pygments_lexer": "ipython3",
   "version": "3.12.3"
  }
 },
 "nbformat": 4,
 "nbformat_minor": 2
}
