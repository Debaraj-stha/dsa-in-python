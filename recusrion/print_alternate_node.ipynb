{
 "cells": [
  {
   "cell_type": "code",
   "execution_count": 15,
   "metadata": {},
   "outputs": [
    {
     "name": "stdout",
     "output_type": "stream",
     "text": [
      "92 5 18 7 10 15\n",
      "\n",
      "Alternate nodes are: 92 18 10 "
     ]
    }
   ],
   "source": [
    "class Node:\n",
    "    def __init__(self,value):\n",
    "        self.next=None\n",
    "        self.value=value\n",
    "def display(node):\n",
    "    if node.next is None:\n",
    "        print(node.value)\n",
    "        return\n",
    "    print(node.value,end=' ')\n",
    "    display(node.next)\n",
    "\n",
    "def printAlternate(node):\n",
    "    if node is None:\n",
    "        return\n",
    "    print(node.value,end=\" \")\n",
    "\n",
    "    printAlternate(node.next.next)\n",
    "\n",
    "node=Node(92)\n",
    "node.next=Node(5)\n",
    "node.next.next=Node(18)\n",
    "node.next.next.next=Node(7)\n",
    "node.next.next.next.next=Node(10)\n",
    "node.next.next.next.next.next=Node(15)\n",
    "\n",
    "display(node)\n",
    "print(\"\\nAlternate nodes are: \", end='')\n",
    "printAlternate(node)\n"
   ]
  }
 ],
 "metadata": {
  "kernelspec": {
   "display_name": "env",
   "language": "python",
   "name": "python3"
  },
  "language_info": {
   "codemirror_mode": {
    "name": "ipython",
    "version": 3
   },
   "file_extension": ".py",
   "mimetype": "text/x-python",
   "name": "python",
   "nbconvert_exporter": "python",
   "pygments_lexer": "ipython3",
   "version": "3.12.3"
  }
 },
 "nbformat": 4,
 "nbformat_minor": 2
}
