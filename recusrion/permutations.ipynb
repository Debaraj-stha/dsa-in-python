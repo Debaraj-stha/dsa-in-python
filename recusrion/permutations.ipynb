{
 "cells": [
  {
   "cell_type": "code",
   "execution_count": 9,
   "metadata": {},
   "outputs": [
    {
     "data": {
      "text/plain": [
       "[[1, 2, 3], [1, 3, 2], [2, 1, 3], [2, 3, 1], [3, 1, 2], [3, 2, 1]]"
      ]
     },
     "execution_count": 9,
     "metadata": {},
     "output_type": "execute_result"
    }
   ],
   "source": [
    "def get_permutation(current,remaining,res):\n",
    "    if not remaining:\n",
    "        res.append(current[:])\n",
    "        return\n",
    "    for i in range(len(remaining)):\n",
    "        current.append(remaining[i])\n",
    "        get_permutation(current, remaining[:i] + remaining[i+1:], res)\n",
    "        current.pop()\n",
    "    \n",
    "def permutation(arr):\n",
    "    res=[]\n",
    "    if len(arr)==0:\n",
    "        return []\n",
    "    if len(arr)==1:\n",
    "        return [arr]\n",
    "    get_permutation([],arr,res)\n",
    "    return res\n",
    "permutation([1,2,3])"
   ]
  },
  {
   "cell_type": "code",
   "execution_count": 4,
   "metadata": {},
   "outputs": [
    {
     "data": {
      "text/plain": [
       "[[1, 2, 3], [1, 3, 2], [2, 1, 3], [2, 3, 1], [3, 1, 2], [3, 2, 1]]"
      ]
     },
     "execution_count": 4,
     "metadata": {},
     "output_type": "execute_result"
    }
   ],
   "source": [
    "res=[]\n",
    "def permutations(arr):\n",
    "    res=[]\n",
    "    if not arr:\n",
    "        return []\n",
    "    if len(arr)==1:\n",
    "        return [arr]\n",
    "    for i in range(len(arr)):\n",
    "        remaining=arr[:i]+arr[i+1:]\n",
    "        for p in permutations(remaining):\n",
    "            res.append([arr[i]]+p)\n",
    "    return res\n",
    "arr=[1,2,3]\n",
    "permutations(arr)"
   ]
  }
 ],
 "metadata": {
  "kernelspec": {
   "display_name": "myenv",
   "language": "python",
   "name": "python3"
  },
  "language_info": {
   "codemirror_mode": {
    "name": "ipython",
    "version": 3
   },
   "file_extension": ".py",
   "mimetype": "text/x-python",
   "name": "python",
   "nbconvert_exporter": "python",
   "pygments_lexer": "ipython3",
   "version": "3.12.3"
  }
 },
 "nbformat": 4,
 "nbformat_minor": 2
}
