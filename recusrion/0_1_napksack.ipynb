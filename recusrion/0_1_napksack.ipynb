{
 "cells": [
  {
   "cell_type": "code",
   "execution_count": 2,
   "metadata": {},
   "outputs": [
    {
     "name": "stdout",
     "output_type": "stream",
     "text": [
      "55\n"
     ]
    }
   ],
   "source": [
    "def zeroOneKnapsack(Wt,val,W,n):\n",
    "    if W==0 or n==0:\n",
    "        return 0\n",
    "    if Wt[n-1]<=W:\n",
    "        return max(val[n-1]+zeroOneKnapsack(Wt,val,W-Wt[n-1],n-1),zeroOneKnapsack(Wt,val,W,n-1))\n",
    "    if Wt[n-1]>W:\n",
    "        return zeroOneKnapsack(Wt,val,W,n-1)\n",
    "Wt=[2,6,1,7]\n",
    "val=[20,30,20,35]\n",
    "W=8\n",
    "res=zeroOneKnapsack(Wt,val,W,len(Wt))\n",
    "print(res)"
   ]
  }
 ],
 "metadata": {
  "kernelspec": {
   "display_name": "env",
   "language": "python",
   "name": "python3"
  },
  "language_info": {
   "codemirror_mode": {
    "name": "ipython",
    "version": 3
   },
   "file_extension": ".py",
   "mimetype": "text/x-python",
   "name": "python",
   "nbconvert_exporter": "python",
   "pygments_lexer": "ipython3",
   "version": "3.12.3"
  }
 },
 "nbformat": 4,
 "nbformat_minor": 2
}
