{
 "cells": [
  {
   "cell_type": "code",
   "execution_count": 54,
   "metadata": {},
   "outputs": [
    {
     "name": "stdout",
     "output_type": "stream",
     "text": [
      "1\n"
     ]
    }
   ],
   "source": [
    "\n",
    "def power(num, n):\n",
    "\n",
    "\tif(n == 0):\n",
    "\t\treturn 1\n",
    "\telif(n % 2 == 0):\n",
    "\t\treturn power(num, n // 2) * power(num, n // 2)\n",
    "\telse:\n",
    "\t\treturn num * power(num, n // 2) * power(num, n // 2)\n",
    "\n",
    "\n",
    "\n",
    "def checkRecursive(x, n, curr_num=1, curr_sum=0):\n",
    "\tresults = 0\n",
    "\tp = power(curr_num, n)\n",
    "\twhile(p + curr_sum < x):\n",
    "\t\tresults += checkRecursive(x, n, curr_num + 1, p + curr_sum)\n",
    "\t\tcurr_num = curr_num + 1\n",
    "\t\tp = power(curr_num, n)\n",
    "\tif(p + curr_sum == x):\n",
    "\t\tresults = results + 1\n",
    "\treturn results\n",
    "\n",
    "\n",
    "x = 10\n",
    "n = 2\n",
    "print(checkRecursive(x, n))\n",
    "\n",
    "\n",
    "# This code is contributed by\n",
    "# Sanjit_Prasad\n"
   ]
  }
 ],
 "metadata": {
  "kernelspec": {
   "display_name": "env",
   "language": "python",
   "name": "python3"
  },
  "language_info": {
   "codemirror_mode": {
    "name": "ipython",
    "version": 3
   },
   "file_extension": ".py",
   "mimetype": "text/x-python",
   "name": "python",
   "nbconvert_exporter": "python",
   "pygments_lexer": "ipython3",
   "version": "3.12.3"
  }
 },
 "nbformat": 4,
 "nbformat_minor": 2
}
