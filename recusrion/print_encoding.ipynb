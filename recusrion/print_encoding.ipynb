{
 "cells": [
  {
   "cell_type": "code",
   "execution_count": null,
   "metadata": {},
   "outputs": [
    {
     "name": "stdout",
     "output_type": "stream",
     "text": [
      "abc\n",
      "aw\n",
      "lc\n"
     ]
    }
   ],
   "source": [
    "chars = \"abcdefghijklmnopqrstuvwxyz\"\n",
    "\n",
    "def print_encoding(numbers, current):\n",
    "    if len(numbers) == 0: \n",
    "        print(current)\n",
    "        return\n",
    "    firstChar = numbers[0]\n",
    "    if firstChar != \"0\":  \n",
    "        print_encoding(numbers[1:], current + chars[int(firstChar) - 1])\n",
    "\n",
    "    # Process two-digit number if valid (between 10 and 26)\n",
    "    if len(numbers) >= 2:\n",
    "        firstTwoChar = numbers[:2]\n",
    "        if \"10\" <= firstTwoChar <= \"26\":\n",
    "            print_encoding(numbers[2:], current + chars[int(firstTwoChar) - 1])\n",
    "\n",
    "\n",
    "print_encoding(\"123\", \"\")\n"
   ]
  },
  {
   "cell_type": "code",
   "execution_count": 1,
   "metadata": {},
   "outputs": [
    {
     "data": {
      "text/plain": [
       "'3'"
      ]
     },
     "execution_count": 1,
     "metadata": {},
     "output_type": "execute_result"
    }
   ],
   "source": [
    "x=\"123\"\n",
    "first=\"1\"\n",
    "first_two=\"12\"\n",
    "x[2:]"
   ]
  }
 ],
 "metadata": {
  "kernelspec": {
   "display_name": "myenv",
   "language": "python",
   "name": "python3"
  },
  "language_info": {
   "codemirror_mode": {
    "name": "ipython",
    "version": 3
   },
   "file_extension": ".py",
   "mimetype": "text/x-python",
   "name": "python",
   "nbconvert_exporter": "python",
   "pygments_lexer": "ipython3",
   "version": "3.12.3"
  }
 },
 "nbformat": 4,
 "nbformat_minor": 2
}
