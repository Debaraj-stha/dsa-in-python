{
 "cells": [
  {
   "cell_type": "code",
   "execution_count": 31,
   "metadata": {},
   "outputs": [
    {
     "data": {
      "text/plain": [
       "'\\nInput: arr = [2, 3, 5, 6, 8, 10], target = 10  \\nOutput: 3  \\nExplanation: Subsets: {10}, {2, 8}, {5, 3, 2}\\n'"
      ]
     },
     "execution_count": 31,
     "metadata": {},
     "output_type": "execute_result"
    }
   ],
   "source": [
    "\"\"\"\n",
    "Input: arr = [2, 3, 5, 6, 8, 10], target = 10  \n",
    "Output: 3  \n",
    "Explanation: Subsets: {10}, {2, 8}, {5, 3, 2}\n",
    "\"\"\""
   ]
  },
  {
   "cell_type": "code",
   "execution_count": 33,
   "metadata": {},
   "outputs": [
    {
     "name": "stdout",
     "output_type": "stream",
     "text": [
      "3\n"
     ]
    }
   ],
   "source": [
    "def count_subsets(arr, n, target):\n",
    "    if target==0:\n",
    "        return 1\n",
    "    if n==0 :\n",
    "        return 0\n",
    "    exclude=count_subsets(arr,n-1,target)\n",
    "    include=0\n",
    "    if arr[n-1]<=target:\n",
    "        include=count_subsets(arr,n-1,target-arr[n-1])\n",
    "    return include+exclude\n",
    "\n",
    "\n",
    "    \n",
    "\n",
    "        \n",
    "arr=[2,3,5,6,10,8]\n",
    "target=10\n",
    "n=len(arr)\n",
    "print(count_subsets(arr,n,target))"
   ]
  }
 ],
 "metadata": {
  "kernelspec": {
   "display_name": "env",
   "language": "python",
   "name": "python3"
  },
  "language_info": {
   "codemirror_mode": {
    "name": "ipython",
    "version": 3
   },
   "file_extension": ".py",
   "mimetype": "text/x-python",
   "name": "python",
   "nbconvert_exporter": "python",
   "pygments_lexer": "ipython3",
   "version": "3.12.3"
  }
 },
 "nbformat": 4,
 "nbformat_minor": 2
}
