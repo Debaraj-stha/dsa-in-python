{
 "cells": [
  {
   "cell_type": "code",
   "execution_count": 6,
   "metadata": {},
   "outputs": [
    {
     "name": "stdout",
     "output_type": "stream",
     "text": [
      "[0, 5, 14, 9, 20]\n",
      "[13, 8, 19, 4, 15]\n",
      "[18, 1, 6, 21, 10]\n",
      "[7, 12, 23, 16, 3]\n",
      "[24, 17, 2, 11, 22]\n"
     ]
    },
    {
     "data": {
      "text/plain": [
       "True"
      ]
     },
     "execution_count": 6,
     "metadata": {},
     "output_type": "execute_result"
    }
   ],
   "source": [
    "\n",
    "dx = [2, 1, -1, -2, -2, -1, 1, 2]\n",
    "dy = [1, 2, 2, 1, -1, -2, -2, -1]\n",
    "def is_valid(row,col,board,n):\n",
    "    return 0<=row<n and 0<=col<n and board[row][col]==-1\n",
    "def print_board(board):\n",
    "    for row in board:\n",
    "        print(row)\n",
    "def solve(row,col,move_count,board,n):\n",
    "    if move_count==n*n:\n",
    "        return True\n",
    "    for i in range(8):\n",
    "        nr,nc=row+dx[i],col+dy[i]\n",
    "        if is_valid(nr,nc,board,n):\n",
    "            board[nr][nc]=move_count\n",
    "            if solve(nr,nc,move_count+1,board,n):\n",
    "                return True\n",
    "            board[nr][nc]=-1\n",
    "def knight_tour(n):\n",
    "    board=[[-1]*n for i in range(n)]\n",
    "    board[0][0]=0\n",
    "    if solve(0,0,1,board,n):\n",
    "        print_board(board)\n",
    "        return True\n",
    "    else:\n",
    "        return False\n",
    "\n",
    "knight_tour(5)\n"
   ]
  }
 ],
 "metadata": {
  "kernelspec": {
   "display_name": "env",
   "language": "python",
   "name": "python3"
  },
  "language_info": {
   "codemirror_mode": {
    "name": "ipython",
    "version": 3
   },
   "file_extension": ".py",
   "mimetype": "text/x-python",
   "name": "python",
   "nbconvert_exporter": "python",
   "pygments_lexer": "ipython3",
   "version": "3.12.3"
  }
 },
 "nbformat": 4,
 "nbformat_minor": 2
}
