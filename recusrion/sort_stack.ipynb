{
 "cells": [
  {
   "cell_type": "code",
   "execution_count": 5,
   "metadata": {},
   "outputs": [
    {
     "name": "stdout",
     "output_type": "stream",
     "text": [
      "3 10 1 9 5 2 8 \n",
      "10 9 8 5 3 2 1 "
     ]
    }
   ],
   "source": [
    "def insertSorted(s,tem):\n",
    "    if len(s)==0 or tem>s[-1]:\n",
    "        s.append(tem)\n",
    "        return\n",
    "    else:\n",
    "        temp=s.pop()\n",
    "        insertSorted(s,tem)\n",
    "        s.append(temp)\n",
    "\n",
    "def sortStack(s):\n",
    "    if len(s)==0:\n",
    "        return []\n",
    "    temp=s.pop()\n",
    "    sortStack(s)\n",
    "    insertSorted(s,temp)\n",
    "def display(s):\n",
    "    for item in s[::-1]:\n",
    "        print(item,end=' ')\n",
    "stack=[8,2,5,9,1,10,3]\n",
    "display(stack)\n",
    "sortStack(stack)\n",
    "print()\n",
    "display(stack)"
   ]
  }
 ],
 "metadata": {
  "kernelspec": {
   "display_name": "env",
   "language": "python",
   "name": "python3"
  },
  "language_info": {
   "codemirror_mode": {
    "name": "ipython",
    "version": 3
   },
   "file_extension": ".py",
   "mimetype": "text/x-python",
   "name": "python",
   "nbconvert_exporter": "python",
   "pygments_lexer": "ipython3",
   "version": "3.12.3"
  }
 },
 "nbformat": 4,
 "nbformat_minor": 2
}
