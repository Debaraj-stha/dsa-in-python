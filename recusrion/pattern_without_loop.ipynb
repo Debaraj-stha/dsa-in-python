{
 "cells": [
  {
   "cell_type": "code",
   "execution_count": 14,
   "metadata": {},
   "outputs": [
    {
     "name": "stdout",
     "output_type": "stream",
     "text": [
      "10 5 0 5 10 "
     ]
    }
   ],
   "source": [
    "def pattern(n,m,flag):\n",
    "    print(m,end=\" \")\n",
    "    if  flag ==False and m==n:\n",
    "        return\n",
    "    if flag:\n",
    "        if m-5>0:\n",
    "            pattern(n,m-5,True)\n",
    "        else:\n",
    "            pattern(n,m-5,False)\n",
    "    else:\n",
    "        pattern(n,m+5,False)\n",
    "\n",
    "n=10\n",
    "pattern(n,n,True)\n"
   ]
  }
 ],
 "metadata": {
  "kernelspec": {
   "display_name": "env",
   "language": "python",
   "name": "python3"
  },
  "language_info": {
   "codemirror_mode": {
    "name": "ipython",
    "version": 3
   },
   "file_extension": ".py",
   "mimetype": "text/x-python",
   "name": "python",
   "nbconvert_exporter": "python",
   "pygments_lexer": "ipython3",
   "version": "3.12.3"
  }
 },
 "nbformat": 4,
 "nbformat_minor": 2
}
