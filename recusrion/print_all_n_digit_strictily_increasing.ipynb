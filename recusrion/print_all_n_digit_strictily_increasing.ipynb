{
 "cells": [
  {
   "cell_type": "code",
   "execution_count": 6,
   "metadata": {},
   "outputs": [
    {
     "name": "stdout",
     "output_type": "stream",
     "text": [
      "01\n",
      "02\n",
      "03\n",
      "04\n",
      "05\n",
      "06\n",
      "07\n",
      "08\n",
      "09\n",
      "12\n",
      "13\n",
      "14\n",
      "15\n",
      "16\n",
      "17\n",
      "18\n",
      "19\n",
      "23\n",
      "24\n",
      "25\n",
      "26\n",
      "27\n",
      "28\n",
      "29\n",
      "34\n",
      "35\n",
      "36\n",
      "37\n",
      "38\n",
      "39\n",
      "45\n",
      "46\n",
      "47\n",
      "48\n",
      "49\n",
      "56\n",
      "57\n",
      "58\n",
      "59\n",
      "67\n",
      "68\n",
      "69\n",
      "78\n",
      "79\n",
      "89\n"
     ]
    }
   ],
   "source": [
    "def print_n_difit(start,out,n):\n",
    "    if n==0:\n",
    "        print(''.join(map(str, out)))\n",
    "        return\n",
    "    for i in range(start,10):\n",
    "        out.append(i)\n",
    "        print_n_difit(i+1, out, n-1)\n",
    "        out.pop()\n",
    "\n",
    "\n",
    "print_n_difit(0, [], 2)\n"
   ]
  }
 ],
 "metadata": {
  "kernelspec": {
   "display_name": "env",
   "language": "python",
   "name": "python3"
  },
  "language_info": {
   "codemirror_mode": {
    "name": "ipython",
    "version": 3
   },
   "file_extension": ".py",
   "mimetype": "text/x-python",
   "name": "python",
   "nbconvert_exporter": "python",
   "pygments_lexer": "ipython3",
   "version": "3.12.3"
  }
 },
 "nbformat": 4,
 "nbformat_minor": 2
}
