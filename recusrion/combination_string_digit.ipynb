{
 "cells": [
  {
   "cell_type": "code",
   "execution_count": 34,
   "metadata": {},
   "outputs": [
    {
     "name": "stdout",
     "output_type": "stream",
     "text": [
      "1234\n",
      "12 34\n",
      "1 234\n",
      "1 2 34\n",
      "1 2 3 4\n"
     ]
    }
   ],
   "source": [
    "def generateCombinations(s, index, current):\n",
    "    if index == len(s):\n",
    "        print(current)\n",
    "        return\n",
    "    generateCombinations(s,index+1,current+s[index])\n",
    "    if index < len(s)-1:\n",
    "        return generateCombinations(s,index+1,current+\" \"+s[index])\n",
    "def split_string(s,index,arr=[]):\n",
    "    if index == len(s):\n",
    "        return arr\n",
    "    arr.append(s[index])\n",
    "    return  split_string(s,index+1)\n",
    "    \n",
    "arr=\"1234\"\n",
    "\n",
    "generateCombinations(arr,1,arr[0])\n",
    "print(\" \".join(split_string(arr,0)))\n"
   ]
  },
  {
   "cell_type": "code",
   "execution_count": null,
   "metadata": {},
   "outputs": [],
   "source": []
  }
 ],
 "metadata": {
  "kernelspec": {
   "display_name": "env",
   "language": "python",
   "name": "python3"
  },
  "language_info": {
   "codemirror_mode": {
    "name": "ipython",
    "version": 3
   },
   "file_extension": ".py",
   "mimetype": "text/x-python",
   "name": "python",
   "nbconvert_exporter": "python",
   "pygments_lexer": "ipython3",
   "version": "3.12.3"
  }
 },
 "nbformat": 4,
 "nbformat_minor": 2
}
