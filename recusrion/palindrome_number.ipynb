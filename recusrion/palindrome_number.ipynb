{
 "cells": [
  {
   "cell_type": "code",
   "execution_count": 18,
   "metadata": {},
   "outputs": [
    {
     "name": "stdout",
     "output_type": "stream",
     "text": [
      "True\n"
     ]
    }
   ],
   "source": [
    "def is_palindrome(n,reverse,temp=None):\n",
    "    if temp is None:\n",
    "        temp=n\n",
    "    if n==0:\n",
    "        return reverse==temp \n",
    "    remainder=n%10\n",
    "    reverse=reverse*10+remainder\n",
    "    return is_palindrome(n//10,reverse,temp)\n",
    "\n",
    "print(is_palindrome(1001,0))  # True\n"
   ]
  }
 ],
 "metadata": {
  "kernelspec": {
   "display_name": "env",
   "language": "python",
   "name": "python3"
  },
  "language_info": {
   "codemirror_mode": {
    "name": "ipython",
    "version": 3
   },
   "file_extension": ".py",
   "mimetype": "text/x-python",
   "name": "python",
   "nbconvert_exporter": "python",
   "pygments_lexer": "ipython3",
   "version": "3.12.3"
  }
 },
 "nbformat": 4,
 "nbformat_minor": 2
}
