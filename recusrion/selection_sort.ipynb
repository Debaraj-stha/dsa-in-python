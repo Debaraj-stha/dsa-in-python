{
 "cells": [
  {
   "cell_type": "code",
   "execution_count": 2,
   "metadata": {},
   "outputs": [
    {
     "data": {
      "text/plain": [
       "[1, 2, 3, 4, 5, 9, 10, 88]"
      ]
     },
     "execution_count": 2,
     "metadata": {},
     "output_type": "execute_result"
    }
   ],
   "source": [
    "def selection_sort(arr,n,index=0):\n",
    "    if index==n:\n",
    "        return arr\n",
    "    min_index=index\n",
    "    for j in range(index+1,n):\n",
    "        if arr[j]<arr[min_index]:\n",
    "            min_index=j\n",
    "    arr[index],arr[min_index]=arr[min_index],arr[index]\n",
    "    return selection_sort(arr,n,index+1)\n",
    "arr=[5,3,1,9,4,10,88,2]\n",
    "n=len(arr)\n",
    "selection_sort(arr,n)\n"
   ]
  }
 ],
 "metadata": {
  "kernelspec": {
   "display_name": "env",
   "language": "python",
   "name": "python3"
  },
  "language_info": {
   "codemirror_mode": {
    "name": "ipython",
    "version": 3
   },
   "file_extension": ".py",
   "mimetype": "text/x-python",
   "name": "python",
   "nbconvert_exporter": "python",
   "pygments_lexer": "ipython3",
   "version": "3.12.3"
  }
 },
 "nbformat": 4,
 "nbformat_minor": 2
}
