{
 "cells": [
  {
   "cell_type": "code",
   "execution_count": 14,
   "metadata": {},
   "outputs": [
    {
     "name": "stdout",
     "output_type": "stream",
     "text": [
      "[['r', 'a', 'c', 'e', 'c', 'a', 'r'], ['r', 'a', 'cec', 'a', 'r'], ['r', 'aceca', 'r'], ['racecar']]\n"
     ]
    }
   ],
   "source": [
    "def is_palindrome(s):\n",
    "    return s==s[::-1]\n",
    "\n",
    "def partition(start,current,result,s):\n",
    "    if start==len(s):\n",
    "        result.append(current[:])\n",
    "        return\n",
    "\n",
    "    for i in range(start, len(s)):\n",
    "        if is_palindrome(s[start:i+1]):\n",
    "            current.append(s[start:i+1])\n",
    "            partition(i+1, current, result, s)\n",
    "            current.pop()\n",
    "\n",
    "def palindrome_partition(s):\n",
    "    result = []\n",
    "    partition(0, [], result, s)\n",
    "    return result\n",
    "print(palindrome_partition('racecar'))\n"
   ]
  }
 ],
 "metadata": {
  "kernelspec": {
   "display_name": "env",
   "language": "python",
   "name": "python3"
  },
  "language_info": {
   "codemirror_mode": {
    "name": "ipython",
    "version": 3
   },
   "file_extension": ".py",
   "mimetype": "text/x-python",
   "name": "python",
   "nbconvert_exporter": "python",
   "pygments_lexer": "ipython3",
   "version": "3.12.3"
  }
 },
 "nbformat": 4,
 "nbformat_minor": 2
}
