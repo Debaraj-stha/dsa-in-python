{
 "cells": [
  {
   "cell_type": "code",
   "execution_count": 26,
   "metadata": {},
   "outputs": [
    {
     "name": "stdout",
     "output_type": "stream",
     "text": [
      "['adg', 'adh', 'adi', 'aeg', 'aeh', 'aei', 'afg', 'afh', 'afi', 'bdg', 'bdh', 'bdi', 'beg', 'beh', 'bei', 'bfg', 'bfh', 'bfi', 'cdg', 'cdh', 'cdi', 'ceg', 'ceh', 'cei', 'cfg', 'cfh', 'cfi']\n"
     ]
    }
   ],
   "source": [
    "def keypadCombinations(numbers,index=0,current=None):\n",
    "    numbersToAlphabets={\n",
    "        \"0\":\".\",\n",
    "        \"1\":\"abc\",\n",
    "        \"2\":\"def\",\n",
    "        \"3\":\"ghi\",\n",
    "        \"4\":\"jkl\",\n",
    "        \"5\":\"mno\",\n",
    "        \"6\":\"pqr\",\n",
    "        \"7\":\"stu\",\n",
    "        \"8\":\"vwx\",\n",
    "        \"9\":\"yz\",\n",
    "    }\n",
    "    if current==None:\n",
    "        current=[]\n",
    "    if len(current)==len(numbers):\n",
    "        return [\"\".join(current[:])]\n",
    "    res=[]\n",
    "    for char in numbersToAlphabets[numbers[index]]:\n",
    "        res+=keypadCombinations(numbers,index+1,current+[char])\n",
    "    return res\n",
    "        \n",
    "        \n",
    "            \n",
    "            \n",
    "\n",
    "    \n",
    "    \n",
    "numbers=\"123\"\n",
    "print(keypadCombinations(numbers))"
   ]
  }
 ],
 "metadata": {
  "kernelspec": {
   "display_name": "myenv",
   "language": "python",
   "name": "python3"
  },
  "language_info": {
   "codemirror_mode": {
    "name": "ipython",
    "version": 3
   },
   "file_extension": ".py",
   "mimetype": "text/x-python",
   "name": "python",
   "nbconvert_exporter": "python",
   "pygments_lexer": "ipython3",
   "version": "3.12.3"
  }
 },
 "nbformat": 4,
 "nbformat_minor": 2
}
