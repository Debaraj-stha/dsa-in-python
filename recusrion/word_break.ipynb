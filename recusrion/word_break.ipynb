{
 "cells": [
  {
   "cell_type": "code",
   "execution_count": 5,
   "metadata": {},
   "outputs": [
    {
     "data": {
      "text/plain": [
       "'Input: s = \"applepenapple\", wordDict = [\"apple\", \"pen\"]  \\nOutput: True  \\nExplanation: \"apple pen apple\" is a valid segmentation.\\n'"
      ]
     },
     "execution_count": 5,
     "metadata": {},
     "output_type": "execute_result"
    }
   ],
   "source": [
    "\"\"\"Input: s = \"applepenapple\", wordDict = [\"apple\", \"pen\"]  \n",
    "Output: True  \n",
    "Explanation: \"apple pen apple\" is a valid segmentation.\n",
    "\"\"\""
   ]
  },
  {
   "cell_type": "code",
   "execution_count": 1,
   "metadata": {},
   "outputs": [
    {
     "name": "stdout",
     "output_type": "stream",
     "text": [
      "True\n"
     ]
    }
   ],
   "source": [
    "def word_break(s, wordDict):\n",
    "    if len(s)==0:\n",
    "        return True\n",
    "    wordDict=set(wordDict)\n",
    "    for i in range(1,len(s)+1):\n",
    "        prefix=s[:i]\n",
    "        if prefix in wordDict:\n",
    "            if  word_break(s[i:],wordDict):\n",
    "                return True\n",
    "    return False\n",
    "\n",
    "print(word_break(\"applepenapple\", [\"apple\", \"pen\"]))  # True\n"
   ]
  },
  {
   "cell_type": "code",
   "execution_count": 12,
   "metadata": {},
   "outputs": [
    {
     "name": "stdout",
     "output_type": "stream",
     "text": [
      "['apple', 'pen', 'apple']\n",
      "['apple pen apple']\n"
     ]
    }
   ],
   "source": [
    "def get_word_break(s,wordDict):\n",
    "    res=[]\n",
    "    def backtrack(start,current):\n",
    "        if start==len(s):\n",
    "            print(current)\n",
    "            res.append(' '.join(current))\n",
    "            return\n",
    "        for i in range(start,len(s)):\n",
    "            if s[start:i+1] in wordDict:\n",
    "                backtrack(i+1,current+[s[start:i+1]])\n",
    "    backtrack(0,[])\n",
    "    return res\n",
    "print(get_word_break(\"applepenapple\", [\"apple\", \"pen\"]))  # [\"apple pen apple\"]"
   ]
  }
 ],
 "metadata": {
  "kernelspec": {
   "display_name": "myenv",
   "language": "python",
   "name": "python3"
  },
  "language_info": {
   "codemirror_mode": {
    "name": "ipython",
    "version": 3
   },
   "file_extension": ".py",
   "mimetype": "text/x-python",
   "name": "python",
   "nbconvert_exporter": "python",
   "pygments_lexer": "ipython3",
   "version": "3.12.3"
  }
 },
 "nbformat": 4,
 "nbformat_minor": 2
}
