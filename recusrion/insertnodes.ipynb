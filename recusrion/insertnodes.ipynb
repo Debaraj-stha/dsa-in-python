{
 "cells": [
  {
   "cell_type": "code",
   "execution_count": 11,
   "metadata": {},
   "outputs": [
    {
     "name": "stdout",
     "output_type": "stream",
     "text": [
      "10 20 30 40 50 \n"
     ]
    }
   ],
   "source": [
    "class Node:\n",
    "    def __init__(self,value):\n",
    "        self.next=None\n",
    "        self.value=value\n",
    "def display(node):\n",
    "    current=node\n",
    "    while current:\n",
    "        print(current.value,end=' ')\n",
    "        current=current.next\n",
    "    print()\n",
    "def insertAtEnd(node,values):\n",
    "    if not values:\n",
    "        return node\n",
    "    if node is None:\n",
    "        return Node(values[0])\n",
    "    if node.next is None:\n",
    "        node.next=Node(values[0])\n",
    "    else:\n",
    "        insertAtEnd(node.next,values)\n",
    "    insertAtEnd(node.next,values[1:])\n",
    "    return node\n",
    "    \n",
    "\n",
    "node=Node(10)\n",
    "values=[20,30,40,50]\n",
    "node=insertAtEnd(node,values)\n",
    "display(node)\n"
   ]
  }
 ],
 "metadata": {
  "kernelspec": {
   "display_name": "env",
   "language": "python",
   "name": "python3"
  },
  "language_info": {
   "codemirror_mode": {
    "name": "ipython",
    "version": 3
   },
   "file_extension": ".py",
   "mimetype": "text/x-python",
   "name": "python",
   "nbconvert_exporter": "python",
   "pygments_lexer": "ipython3",
   "version": "3.12.3"
  }
 },
 "nbformat": 4,
 "nbformat_minor": 2
}
