{
 "cells": [
  {
   "cell_type": "code",
   "execution_count": 10,
   "metadata": {},
   "outputs": [
    {
     "name": "stdout",
     "output_type": "stream",
     "text": [
      "92 5 18 7 10 15\n",
      "7\n"
     ]
    }
   ],
   "source": [
    "class Node:\n",
    "    def __init__(self,value):\n",
    "        self.next=None\n",
    "        self.value=value\n",
    "def display(node):\n",
    "    if node.next is None:\n",
    "        print(node.value)\n",
    "        return\n",
    "    print(node.value,end=' ')\n",
    "    display(node.next)\n",
    "def length(node):   \n",
    "    if node is None:\n",
    "        return 0\n",
    "    return 1 + length(node.next)\n",
    "global l,mid\n",
    "\n",
    "def middleNode(node,index=0,mid=None):\n",
    "    if mid is None:\n",
    "        mid=length(node)//2\n",
    "\n",
    "    if node is None or node.next is None:\n",
    "        return node\n",
    "    if index==mid:\n",
    "        return node\n",
    "    return middleNode(node.next,index+1,mid)\n",
    "\n",
    "\n",
    "node=Node(92)\n",
    "node.next=Node(5)\n",
    "node.next.next=Node(18)\n",
    "node.next.next.next=Node(7)\n",
    "node.next.next.next.next=Node(10)\n",
    "node.next.next.next.next.next=Node(15)\n",
    "l=length(node)\n",
    "display(node)\n",
    "print(middleNode(node).value)\n"
   ]
  }
 ],
 "metadata": {
  "kernelspec": {
   "display_name": "env",
   "language": "python",
   "name": "python3"
  },
  "language_info": {
   "codemirror_mode": {
    "name": "ipython",
    "version": 3
   },
   "file_extension": ".py",
   "mimetype": "text/x-python",
   "name": "python",
   "nbconvert_exporter": "python",
   "pygments_lexer": "ipython3",
   "version": "3.12.3"
  }
 },
 "nbformat": 4,
 "nbformat_minor": 2
}
