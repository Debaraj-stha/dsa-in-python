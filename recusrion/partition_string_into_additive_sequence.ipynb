{
 "cells": [
  {
   "cell_type": "code",
   "execution_count": 33,
   "metadata": {},
   "outputs": [
    {
     "name": "stdout",
     "output_type": "stream",
     "text": [
      "first 3\n",
      "second 5\n",
      "third 8\n",
      "first 2\n",
      "second 3\n",
      "third 5\n",
      "first 1\n",
      "second 2\n",
      "third 3\n",
      "first 1\n",
      "second 1\n",
      "third 2\n",
      "[1, 1, 2, 3, 5, 8, 13]\n"
     ]
    }
   ],
   "source": [
    "def partition(string, offset1, offset2, offset3,freezeFirstAndSecond=False):\n",
    "    first = string[:offset1]\n",
    "    second = string[offset1:offset1+offset2]  # Corrected this slicing\n",
    "    third = string[offset1+offset2:offset1+offset2+offset3]\n",
    "    # print(offset1 + offset2 + offset3)\n",
    "    if int(first) + int(second) == int(third):\n",
    "        if offset1+offset2+offset3>=len(string):\n",
    "            res.append(int(first))\n",
    "            res.append(int(second))\n",
    "            res.append(int(third))\n",
    "            return True\n",
    "        result=partition(string[offset1:],offset2,offset3,max(offset2,offset3),True)\n",
    "        if result:\n",
    "            res.insert(0,int(first))\n",
    "        return result\n",
    "    if offset1+offset2+offset3<=len(string) and (offset3==max(offset2,offset1) or offset3==1+max(offset1,offset2)):\n",
    "        if partition(string,offset1,offset2,offset3+1,False):\n",
    "            return True\n",
    "    if freezeFirstAndSecond:\n",
    "        return False\n",
    "    if offset1+offset2+offset3<=len(string) and (offset3==max(offset2,offset1) or offset3==1+max(offset1,offset2)):\n",
    "        if partition(string,offset1,offset2+1,max(offset2+1,offset3),False):\n",
    "            return True\n",
    "    if offset1+offset2+offset3<=len(string) and (offset3==max(offset1,offset2) or offset3==1+max(offset1+1,offset2)):\n",
    "        if partition(string,offset1+1,offset2,max(offset1+1,offset2),False):\n",
    "            return True\n",
    "    \n",
    "    return False  \n",
    "\n",
    "\n",
    "numStr = \"11235813\"  #\n",
    "res = [] \n",
    "if partition(numStr, 1,1,1):  # Example offsets\n",
    "    print(res)  # Output will be [11, 23, 34] if valid\n",
    "else:\n",
    "    print(\"No valid partition found\")\n"
   ]
  }
 ],
 "metadata": {
  "kernelspec": {
   "display_name": "env",
   "language": "python",
   "name": "python3"
  },
  "language_info": {
   "codemirror_mode": {
    "name": "ipython",
    "version": 3
   },
   "file_extension": ".py",
   "mimetype": "text/x-python",
   "name": "python",
   "nbconvert_exporter": "python",
   "pygments_lexer": "ipython3",
   "version": "3.12.3"
  }
 },
 "nbformat": 4,
 "nbformat_minor": 2
}
