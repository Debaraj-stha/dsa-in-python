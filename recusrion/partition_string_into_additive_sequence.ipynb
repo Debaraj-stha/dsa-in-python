{
 "cells": [
  {
   "cell_type": "code",
   "execution_count": 6,
   "metadata": {},
   "outputs": [
    {
     "name": "stdout",
     "output_type": "stream",
     "text": [
      "[1, 1, 2, 3, 5, 8, 13]\n"
     ]
    }
   ],
   "source": [
    "def partition(string, offset1, offset2, offset3,freezeFirstAndSecond=False):\n",
    "    first = string[:offset1]\n",
    "    second = string[offset1:offset1+offset2]  # Corrected this slicing\n",
    "    third = string[offset1+offset2:offset1+offset2+offset3]\n",
    "    # print(offset1 + offset2 + offset3)\n",
    "    if int(first) + int(second) == int(third):\n",
    "        if offset1+offset2+offset3>=len(string):\n",
    "            res.append(int(first))\n",
    "            res.append(int(second))\n",
    "            res.append(int(third))\n",
    "            return True\n",
    "        result=partition(string[offset1:],offset2,offset3,max(offset2,offset3),True)\n",
    "        if result:\n",
    "            res.insert(0,int(first))\n",
    "        return result\n",
    "    if offset1+offset2+offset3<=len(string) and (offset3==max(offset2,offset1) or offset3==1+max(offset1,offset2)):\n",
    "        if partition(string,offset1,offset2,offset3+1,False):\n",
    "            return True\n",
    "    if freezeFirstAndSecond:\n",
    "        return False\n",
    "    if offset1+offset2+offset3<=len(string) and (offset3==max(offset2,offset1) or offset3==1+max(offset1,offset2)):\n",
    "        if partition(string,offset1,offset2+1,max(offset2+1,offset3),False):\n",
    "            return True\n",
    "    if offset1+offset2+offset3<=len(string) and (offset3==max(offset1,offset2) or offset3==1+max(offset1+1,offset2)):\n",
    "        if partition(string,offset1+1,offset2,max(offset1+1,offset2),False):\n",
    "            return True\n",
    "    \n",
    "    return False  \n",
    "\n",
    "\n",
    "numStr = \"11235813\"  #\n",
    "res = [] \n",
    "if partition(numStr, 1,1,1):  # Example offsets\n",
    "    print(res) \n",
    "else:\n",
    "    print(\"No valid partition found\")\n"
   ]
  },
  {
   "cell_type": "code",
   "execution_count": 7,
   "metadata": {},
   "outputs": [
    {
     "name": "stdout",
     "output_type": "stream",
     "text": [
      "[1, 1, 2, 3, 5, 8]\n"
     ]
    }
   ],
   "source": [
    "def partitio(s,of1,of2,of3,flag=False):\n",
    "    first=s[:of1]\n",
    "    second=s[of1:of1+of2]\n",
    "    third=s[of1+of2:of1+of2+of3]\n",
    "    if int(first)+int(second)==int(third):\n",
    "        if of1+of2 +of3>=len(s):\n",
    "            result .append(int(first))\n",
    "            result.append(int(second))\n",
    "            result.append(int(third))\n",
    "            return True\n",
    "        res=partitio(s[of1:],of2,of3,max(of2,of3),True)\n",
    "        if res:\n",
    "            result.insert(0,int(first))\n",
    "        return res\n",
    "    if of1+of2+of3<=len(s) and (of3==max(of2,of3)) or (of3==1+max(of3,of2)):\n",
    "        if partitio(s,of1,of2,1+of3):\n",
    "            return True\n",
    "    if flag:\n",
    "        return False\n",
    "    if of1+of2+of3<=len(s) and (of3==max(of2,of3)) or (of3==1+max(of3,of2)):\n",
    "        if partitio(s,of1,of2+1,max(of2+1,of3)):\n",
    "            return True\n",
    "    if of1+of2+of3<=len(s) and (of3==max(of1,of2)) or (of3==1+max(of1+1,of2)):\n",
    "        if partitio(s,of1+1,of2,max(of1+1,of2)):\n",
    "            return True\n",
    "    return False\n",
    "\n",
    "s=\"112358\"\n",
    "result=[]\n",
    "partitio(s,1,1,1)\n",
    "print(result)\n"
   ]
  }
 ],
 "metadata": {
  "kernelspec": {
   "display_name": "myenv",
   "language": "python",
   "name": "python3"
  },
  "language_info": {
   "codemirror_mode": {
    "name": "ipython",
    "version": 3
   },
   "file_extension": ".py",
   "mimetype": "text/x-python",
   "name": "python",
   "nbconvert_exporter": "python",
   "pygments_lexer": "ipython3",
   "version": "3.12.3"
  }
 },
 "nbformat": 4,
 "nbformat_minor": 2
}
