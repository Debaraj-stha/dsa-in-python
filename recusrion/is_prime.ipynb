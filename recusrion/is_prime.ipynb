{
 "cells": [
  {
   "cell_type": "code",
   "execution_count": 7,
   "metadata": {},
   "outputs": [
    {
     "data": {
      "text/plain": [
       "[2, 3, 5, 7, 11, 13, 17, 19]"
      ]
     },
     "execution_count": 7,
     "metadata": {},
     "output_type": "execute_result"
    }
   ],
   "source": [
    "def is_prime(n,i=2):\n",
    "    if n<=2:\n",
    "        return True if n==2 else False\n",
    "    if n%i==0:\n",
    "        return False\n",
    "    if i*i>n:\n",
    "        return True\n",
    "    return is_prime(n,i+1)\n",
    "\n",
    "\n",
    "is_prime(4)\n",
    "def generate_prime_numbers(n,numbers=None,current=2):\n",
    "    if numbers is None:\n",
    "        numbers = []\n",
    "    if current>n:\n",
    "        return numbers\n",
    "    if is_prime(current):\n",
    "        numbers.append(current)\n",
    "\n",
    "    return generate_prime_numbers(n, numbers,current+1)\n",
    "\n",
    "generate_prime_numbers(20)\n",
    "\n"
   ]
  },
  {
   "cell_type": "code",
   "execution_count": null,
   "metadata": {},
   "outputs": [
    {
     "data": {
      "text/plain": [
       "[19, 17, 13, 11, 7]"
      ]
     },
     "execution_count": 4,
     "metadata": {},
     "output_type": "execute_result"
    }
   ],
   "source": []
  }
 ],
 "metadata": {
  "kernelspec": {
   "display_name": "myenv",
   "language": "python",
   "name": "python3"
  },
  "language_info": {
   "codemirror_mode": {
    "name": "ipython",
    "version": 3
   },
   "file_extension": ".py",
   "mimetype": "text/x-python",
   "name": "python",
   "nbconvert_exporter": "python",
   "pygments_lexer": "ipython3",
   "version": "3.12.3"
  }
 },
 "nbformat": 4,
 "nbformat_minor": 2
}
