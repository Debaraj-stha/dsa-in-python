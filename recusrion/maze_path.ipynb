{
 "cells": [
  {
   "cell_type": "code",
   "execution_count": 19,
   "metadata": {},
   "outputs": [
    {
     "name": "stdout",
     "output_type": "stream",
     "text": [
      "None\n",
      "['HHVV', 'HVHV', 'HVVH', 'VHHV', 'VHVH', 'VVHH']\n"
     ]
    }
   ],
   "source": [
    "dr=[1,0,0,-1]\n",
    "dc=[0,-1,1,0]\n",
    "\n",
    "def solve(grid,row,col,rows,cols,current):\n",
    "    if row==rows-1 and col==cols-1:\n",
    "        res.append(current)\n",
    "        \n",
    "    if row>rows:\n",
    "        return None\n",
    "    if col>cols:\n",
    "        return  None\n",
    "    horizontal=solve(grid,row,col+1,rows,cols,current+\"H\")\n",
    "    vertical=solve(grid,row+1,col,rows,cols,current+\"V\")\n",
    "    return vertical or horizontal\n",
    "\n",
    "grid=[\n",
    "\n",
    "    [1, 1, 1],\n",
    "    [1, 1, 1],\n",
    "    [1, 1, 1]\n",
    "]\n",
    "res=[]\n",
    "print(solve(grid,0,0,len(grid),len(grid[0]),\"\")) # Expected output: 4\n",
    "print(res)"
   ]
  }
 ],
 "metadata": {
  "kernelspec": {
   "display_name": "myenv",
   "language": "python",
   "name": "python3"
  },
  "language_info": {
   "codemirror_mode": {
    "name": "ipython",
    "version": 3
   },
   "file_extension": ".py",
   "mimetype": "text/x-python",
   "name": "python",
   "nbconvert_exporter": "python",
   "pygments_lexer": "ipython3",
   "version": "3.12.3"
  }
 },
 "nbformat": 4,
 "nbformat_minor": 2
}
