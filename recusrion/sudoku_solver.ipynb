{
 "cells": [
  {
   "cell_type": "code",
   "execution_count": 8,
   "metadata": {},
   "outputs": [
    {
     "name": "stdout",
     "output_type": "stream",
     "text": [
      "5 3 4 | 6 7 8 | 9 1 2 \n",
      "6 7 2 | 1 9 5 | 3 4 8 \n",
      "1 9 8 | 3 4 2 | 5 6 7 \n",
      "--------------------\n",
      "8 5 9 | 7 6 1 | 4 2 3 \n",
      "4 2 6 | 8 5 3 | 7 9 1 \n",
      "7 1 3 | 9 2 4 | 8 5 6 \n",
      "--------------------\n",
      "9 6 1 | 5 3 7 | 2 8 4 \n",
      "2 8 7 | 4 1 9 | 6 3 5 \n",
      "3 4 5 | 2 8 6 | 1 7 9 \n"
     ]
    },
    {
     "data": {
      "text/plain": [
       "True"
      ]
     },
     "execution_count": 8,
     "metadata": {},
     "output_type": "execute_result"
    }
   ],
   "source": [
    "def is_safe(row,col,board,num):\n",
    "    for i in range(9):\n",
    "        if board[row][i]==num or board[i][col]==num:\n",
    "            return False\n",
    "    start_row,start_col=(row//3)*3,(col//3)*3\n",
    "    for i in range(3):\n",
    "        for j in range(3):\n",
    "            if board[start_row+i][start_col+j]==num:\n",
    "                return False\n",
    "    return True\n",
    "def print_board(board):\n",
    "    for i in range(9):\n",
    "        if i%3==0 and i!=0:\n",
    "            print(\"-\"*20)\n",
    "        for j in range(9):\n",
    "            if j%3==0 and j!=0:\n",
    "                print(\"|\",end=\" \")\n",
    "            print(board[i][j],end=\" \")\n",
    "        print()\n",
    "def empty(board):\n",
    "    for i in range(9):\n",
    "        for j in range(9):\n",
    "            if board[i][j]==0:\n",
    "                return (i,j)\n",
    "    return None\n",
    "\n",
    "def solve(board):\n",
    "    em = empty(board)\n",
    "    if not em:\n",
    "        print_board(board)\n",
    "        return True\n",
    "    row,col=empty(board)\n",
    "    for num in range(1, 10):\n",
    "        if is_safe(row, col, board, num):\n",
    "            board[row][col] = num\n",
    "            if solve(board):\n",
    "                return True\n",
    "            board[row][col] = 0\n",
    "    return False\n",
    "\n",
    "\n",
    "sudoku_board = [\n",
    "    [5, 3, 0, 0, 7, 0, 0, 0, 0],\n",
    "    [6, 0, 0, 1, 9, 5, 0, 0, 0],\n",
    "    [0, 9, 8, 0, 0, 0, 0, 6, 0],\n",
    "    [8, 0, 0, 0, 6, 0, 0, 0, 3],\n",
    "    [4, 0, 0, 8, 0, 3, 0, 0, 1],\n",
    "    [7, 0, 0, 0, 2, 0, 0, 0, 6],\n",
    "    [0, 6, 0, 0, 0, 0, 2, 8, 0],\n",
    "    [0, 0, 0, 4, 1, 9, 0, 0, 5],\n",
    "    [0, 0, 0, 0, 8, 0, 0, 7, 9]\n",
    "]\n",
    "solve(sudoku_board)\n",
    "        "
   ]
  },
  {
   "cell_type": "code",
   "execution_count": null,
   "metadata": {},
   "outputs": [],
   "source": []
  }
 ],
 "metadata": {
  "kernelspec": {
   "display_name": "env",
   "language": "python",
   "name": "python3"
  },
  "language_info": {
   "codemirror_mode": {
    "name": "ipython",
    "version": 3
   },
   "file_extension": ".py",
   "mimetype": "text/x-python",
   "name": "python",
   "nbconvert_exporter": "python",
   "pygments_lexer": "ipython3",
   "version": "3.12.3"
  }
 },
 "nbformat": 4,
 "nbformat_minor": 2
}
