{
 "cells": [
  {
   "cell_type": "code",
   "execution_count": 3,
   "metadata": {},
   "outputs": [
    {
     "name": "stdout",
     "output_type": "stream",
     "text": [
      "92 5 18 7 10 15 \n",
      "<__main__.Node object at 0x7932757ce510>\n",
      "92 5 18 10 15 \n"
     ]
    }
   ],
   "source": [
    "class Node:\n",
    "    def __init__(self,value):\n",
    "        self.next=None\n",
    "        self.value=value\n",
    "def display(node):\n",
    "    current=node\n",
    "    while current:\n",
    "        print(current.value,end=' ')\n",
    "        current=current.next\n",
    "    print()\n",
    "def deleteNthNode(node,k):\n",
    "    if k<1:\n",
    "        return node\n",
    "    if k==1:\n",
    "        return node.next\n",
    "    if node==None:\n",
    "        return None\n",
    "    node.next=deleteNthNode(node.next,k-1)\n",
    "    return node\n",
    "\n",
    "node=Node(92)\n",
    "node.next=Node(5)\n",
    "node.next.next=Node(18)\n",
    "node.next.next.next=Node(7)\n",
    "node.next.next.next.next=Node(10)\n",
    "node.next.next.next.next.next=Node(15)\n",
    "display(node)\n",
    "k=4\n",
    "print(deleteNthNode(node,k))\n",
    "display(node)\n"
   ]
  }
 ],
 "metadata": {
  "kernelspec": {
   "display_name": "env",
   "language": "python",
   "name": "python3"
  },
  "language_info": {
   "codemirror_mode": {
    "name": "ipython",
    "version": 3
   },
   "file_extension": ".py",
   "mimetype": "text/x-python",
   "name": "python",
   "nbconvert_exporter": "python",
   "pygments_lexer": "ipython3",
   "version": "3.12.3"
  }
 },
 "nbformat": 4,
 "nbformat_minor": 2
}
