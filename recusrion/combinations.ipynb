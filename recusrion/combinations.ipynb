{
 "cells": [
  {
   "cell_type": "code",
   "execution_count": 29,
   "metadata": {},
   "outputs": [
    {
     "name": "stdout",
     "output_type": "stream",
     "text": [
      "[[1, 2], [1, 3], [2, 3]]\n"
     ]
    }
   ],
   "source": [
    "def combinations(arr, r, current):\n",
    "    \n",
    "    if len(current)==r:\n",
    "        return [current[:]]\n",
    "    if len(arr) == 0:\n",
    "        return []\n",
    "    res=[]\n",
    "    for i in range(len(arr)):\n",
    "        current.append(arr[i])\n",
    "        res.extend(combinations(arr[i+1:], r, current))\n",
    "        current.pop()\n",
    "    \n",
    "    return res\n",
    "\n",
    "arr = [1, 2, 3]\n",
    "r = 2\n",
    "result = combinations(arr, r, [])\n",
    "print(result)  # Output: [[1, 2], [1, 3], [2, 3]]\n"
   ]
  }
 ],
 "metadata": {
  "kernelspec": {
   "display_name": "env",
   "language": "python",
   "name": "python3"
  },
  "language_info": {
   "codemirror_mode": {
    "name": "ipython",
    "version": 3
   },
   "file_extension": ".py",
   "mimetype": "text/x-python",
   "name": "python",
   "nbconvert_exporter": "python",
   "pygments_lexer": "ipython3",
   "version": "3.12.3"
  }
 },
 "nbformat": 4,
 "nbformat_minor": 2
}
