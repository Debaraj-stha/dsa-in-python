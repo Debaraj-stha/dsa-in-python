{
 "cells": [
  {
   "cell_type": "code",
   "execution_count": 1,
   "metadata": {},
   "outputs": [
    {
     "data": {
      "text/plain": [
       "['1+2+3', '1*2*3']"
      ]
     },
     "execution_count": 1,
     "metadata": {},
     "output_type": "execute_result"
    }
   ],
   "source": [
    "def get_expression(string,index,path,eval_val,prev_num,target,result):\n",
    "    if index==len(string):\n",
    "        if eval_val==target:\n",
    "            result.append(path)\n",
    "        return\n",
    "    for i in range(index,len(string)):\n",
    "        temp_str=string[index:i+1]\n",
    "        temp_num=int(temp_str)\n",
    "        if len(temp_str)>1 and temp_str[0]==\"0\":\n",
    "            continue\n",
    "        if index==0:\n",
    "            get_expression(string,i+1,temp_str,temp_num,temp_num,target,result)\n",
    "        else:\n",
    "            get_expression(string,i+1,path+\"+\"+temp_str,eval_val+temp_num,temp_num,target,result)\n",
    "            get_expression(string,i+1,path+\"-\"+temp_str,eval_val-temp_num,temp_num,target,result)\n",
    "            get_expression(string,i+1,path+\"*\"+temp_str,eval_val-prev_num+prev_num*temp_num,temp_num,target,result)\n",
    "def expression_add_operator(string,target):\n",
    "    res=[]\n",
    "    get_expression(string,0,[],0,0,target,res)\n",
    "    return res\n",
    "expression_add_operator(\"123\",6)\n",
    "\n"
   ]
  }
 ],
 "metadata": {
  "kernelspec": {
   "display_name": "env",
   "language": "python",
   "name": "python3"
  },
  "language_info": {
   "codemirror_mode": {
    "name": "ipython",
    "version": 3
   },
   "file_extension": ".py",
   "mimetype": "text/x-python",
   "name": "python",
   "nbconvert_exporter": "python",
   "pygments_lexer": "ipython3",
   "version": "3.12.3"
  }
 },
 "nbformat": 4,
 "nbformat_minor": 2
}
