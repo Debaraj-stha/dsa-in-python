{
 "cells": [
  {
   "cell_type": "code",
   "execution_count": 49,
   "metadata": {},
   "outputs": [
    {
     "name": "stdout",
     "output_type": "stream",
     "text": [
      "True\n",
      "True\n"
     ]
    }
   ],
   "source": [
    "def is_sorted(arr,n,order=None):\n",
    "    if n==1:\n",
    "        return True\n",
    "    if order is None:\n",
    "        if arr[0]<arr[1]:\n",
    "            order = \"asc\"\n",
    "        if arr[0]>arr[1]:\n",
    "            order = \"desc\"\n",
    "        else:\n",
    "            return is_sorted(arr[1:],n-1,order)\n",
    "    if order==\"asc\" and arr[n-2]>arr[n-1]:\n",
    "        return False\n",
    "    if order==\"desc\" and arr[n-2]<arr[n-1]:\n",
    "        return False\n",
    "    return is_sorted(arr,n-1,order)\n",
    "arr=[1,2,3,4,5,6,7,8,9,10,11,12]\n",
    "n=len(arr)\n",
    "print(is_sorted(arr,n))\n",
    "arr=[10,9,8,7,6,5,4,3,2,1]\n",
    "print(is_sorted(arr,len(arr)))\n",
    "    \n"
   ]
  },
  {
   "cell_type": "code",
   "execution_count": null,
   "metadata": {},
   "outputs": [],
   "source": []
  }
 ],
 "metadata": {
  "kernelspec": {
   "display_name": "env",
   "language": "python",
   "name": "python3"
  },
  "language_info": {
   "codemirror_mode": {
    "name": "ipython",
    "version": 3
   },
   "file_extension": ".py",
   "mimetype": "text/x-python",
   "name": "python",
   "nbconvert_exporter": "python",
   "pygments_lexer": "ipython3",
   "version": "3.12.3"
  }
 },
 "nbformat": 4,
 "nbformat_minor": 2
}
