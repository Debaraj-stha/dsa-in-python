{
 "cells": [
  {
   "cell_type": "code",
   "execution_count": 16,
   "metadata": {},
   "outputs": [
    {
     "name": "stdout",
     "output_type": "stream",
     "text": [
      "0\n",
      "[10, 20]\n",
      "3\n",
      "[10, 20, 25, 30]\n",
      "0\n",
      "[10, 30]\n",
      "0\n",
      "[15, 20]\n",
      "3\n",
      "[15, 20, 25, 30]\n",
      "0\n",
      "[15, 30]\n",
      "0\n",
      "[25, 30]\n"
     ]
    }
   ],
   "source": [
    "def generate_element(arr1, arr2, output, i, j):\n",
    "    \"\"\" \n",
    "    Generate sorted subsequences using elements from arr1 and arr2.\n",
    "    arr1, arr2 - Input arrays\n",
    "    output - Stores the current sequence\n",
    "    i, j - Indices in arr1 and arr2 respectively\n",
    "    \"\"\"\n",
    "    if output:\n",
    "        print(output)\n",
    "    for x in range(i,len(arr1)):\n",
    "        if not output or arr1[x]>output[-1]:\n",
    "            for y in range(j,len(arr2)):\n",
    "                if arr2[y]>arr1[x]:\n",
    "                    print(j)\n",
    "                    generate_element(arr1, arr2, output + [arr1[x],arr2[y]], x+1, y+1)\n",
    "\n",
    "# Sample input arrays\n",
    "arr1 = [10, 15, 25]\n",
    "arr2 = [1, 5, 20, 30]\n",
    "\n",
    "# Call the function\n",
    "generate_element(arr1, arr2, [], 0, 0)\n"
   ]
  },
  {
   "cell_type": "code",
   "execution_count": null,
   "metadata": {},
   "outputs": [],
   "source": []
  }
 ],
 "metadata": {
  "kernelspec": {
   "display_name": "env",
   "language": "python",
   "name": "python3"
  },
  "language_info": {
   "codemirror_mode": {
    "name": "ipython",
    "version": 3
   },
   "file_extension": ".py",
   "mimetype": "text/x-python",
   "name": "python",
   "nbconvert_exporter": "python",
   "pygments_lexer": "ipython3",
   "version": "3.12.3"
  }
 },
 "nbformat": 4,
 "nbformat_minor": 2
}
