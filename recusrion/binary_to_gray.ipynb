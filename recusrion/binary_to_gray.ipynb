{
 "cells": [
  {
   "cell_type": "code",
   "execution_count": null,
   "metadata": {},
   "outputs": [],
   "source": [
    "def binaryToGray(n):\n",
    "    if not(n):\n",
    "        return 0\n",
    "    # Taking last digit\n",
    "    a = n % 10\n",
    "    # Taking second last digit\n",
    "    b = int(n / 10) % 10\n",
    "    # If last digit are opposite bits\n",
    "    if (a and not(b)) or (not(a) and b):\n",
    "        return (1 + 10 * binaryToGray(int(n / 10)))\n",
    "    # If last two bits are same\n",
    "    return (10 * binaryToGray(int(n / 10)))"
   ]
  },
  {
   "cell_type": "code",
   "execution_count": 12,
   "metadata": {},
   "outputs": [
    {
     "data": {
      "text/plain": [
       "11"
      ]
     },
     "execution_count": 12,
     "metadata": {},
     "output_type": "execute_result"
    }
   ],
   "source": [
    "binaryToGray(10)"
   ]
  }
 ],
 "metadata": {
  "kernelspec": {
   "display_name": "myenv",
   "language": "python",
   "name": "python3"
  },
  "language_info": {
   "codemirror_mode": {
    "name": "ipython",
    "version": 3
   },
   "file_extension": ".py",
   "mimetype": "text/x-python",
   "name": "python",
   "nbconvert_exporter": "python",
   "pygments_lexer": "ipython3",
   "version": "3.12.3"
  }
 },
 "nbformat": 4,
 "nbformat_minor": 2
}
