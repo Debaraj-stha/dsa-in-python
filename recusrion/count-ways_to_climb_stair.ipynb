{
 "cells": [
  {
   "cell_type": "code",
   "execution_count": 14,
   "metadata": {},
   "outputs": [
    {
     "name": "stdout",
     "output_type": "stream",
     "text": [
      "5\n"
     ]
    },
    {
     "data": {
      "text/plain": [
       "'Input: n = 4  \\nOutput: 5  \\nExplanation: Possible ways:  \\n1. (1,1,1,1)  \\n2. (1,1,2)  \\n3. (1,2,1)  \\n4. (2,1,1)  \\n5. (2,2) '"
      ]
     },
     "execution_count": 14,
     "metadata": {},
     "output_type": "execute_result"
    }
   ],
   "source": [
    "def count_ways(n):\n",
    "    if n==0 or n==1:\n",
    "        return 1\n",
    "    return count_ways(n-1)+count_ways(n-2)\n",
    "\n",
    "n=4\n",
    "print(count_ways(n))\n",
    "\"\"\"Input: n = 4  \n",
    "Output: 5  \n",
    "Explanation: Possible ways:  \n",
    "1. (1,1,1,1)  \n",
    "2. (1,1,2)  \n",
    "3. (1,2,1)  \n",
    "4. (2,1,1)  \n",
    "5. (2,2) \"\"\" \n"
   ]
  },
  {
   "cell_type": "code",
   "execution_count": 15,
   "metadata": {},
   "outputs": [
    {
     "data": {
      "text/plain": [
       "5"
      ]
     },
     "execution_count": 15,
     "metadata": {},
     "output_type": "execute_result"
    }
   ],
   "source": [
    "def countwaysmemoization(n):\n",
    "    if n==0 or n==1:\n",
    "        return 1\n",
    "    if dp[n]!=-1:\n",
    "        return dp[n]\n",
    "    dp[n]=countwaysmemoization(n-1)+countwaysmemoization(n-2)\n",
    "    return dp[n]\n",
    "n=4\n",
    "dp=[-1]*(n+1)\n",
    "countwaysmemoization(n)"
   ]
  },
  {
   "cell_type": "code",
   "execution_count": null,
   "metadata": {},
   "outputs": [],
   "source": []
  }
 ],
 "metadata": {
  "kernelspec": {
   "display_name": "env",
   "language": "python",
   "name": "python3"
  },
  "language_info": {
   "codemirror_mode": {
    "name": "ipython",
    "version": 3
   },
   "file_extension": ".py",
   "mimetype": "text/x-python",
   "name": "python",
   "nbconvert_exporter": "python",
   "pygments_lexer": "ipython3",
   "version": "3.12.3"
  }
 },
 "nbformat": 4,
 "nbformat_minor": 2
}
