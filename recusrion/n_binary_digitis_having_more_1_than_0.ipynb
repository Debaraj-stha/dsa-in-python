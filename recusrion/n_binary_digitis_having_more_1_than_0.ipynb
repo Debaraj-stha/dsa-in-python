{
 "cells": [
  {
   "cell_type": "code",
   "execution_count": 25,
   "metadata": {},
   "outputs": [
    {
     "name": "stdout",
     "output_type": "stream",
     "text": [
      "111 110 101 "
     ]
    }
   ],
   "source": [
    "def generate(n,extraOne,remaining):\n",
    "    if remaining==0:\n",
    "        print(n,end=\" \")\n",
    "        return\n",
    "    generate(n+\"1\",extraOne+1,remaining-1)\n",
    "    if extraOne>0:\n",
    "        generate(n+\"0\",extraOne-1,remaining-1)\n",
    "\n",
    "generate(\"\",0,3)\n"
   ]
  },
  {
   "cell_type": "code",
   "execution_count": 26,
   "metadata": {},
   "outputs": [],
   "source": [
    "def generate_helper(arr,i,s,n):\n",
    "    if i==0:\n",
    "        print(s,end=\" \")\n",
    "        return\n",
    "    for j in range(len(arr)):\n",
    "        generate_helper(arr,i-1,s+arr[j],n)\n",
    "def genertate_password(arr,n):\n",
    "    for i in range(1,n+1):\n",
    "        generate_helper(arr,i,\"\",n)"
   ]
  },
  {
   "cell_type": "code",
   "execution_count": 27,
   "metadata": {},
   "outputs": [
    {
     "name": "stdout",
     "output_type": "stream",
     "text": [
      "a b aa ab ba bb "
     ]
    }
   ],
   "source": [
    "genertate_password([\"a\",\"b\"],2) "
   ]
  }
 ],
 "metadata": {
  "kernelspec": {
   "display_name": "myenv",
   "language": "python",
   "name": "python3"
  },
  "language_info": {
   "codemirror_mode": {
    "name": "ipython",
    "version": 3
   },
   "file_extension": ".py",
   "mimetype": "text/x-python",
   "name": "python",
   "nbconvert_exporter": "python",
   "pygments_lexer": "ipython3",
   "version": "3.12.3"
  }
 },
 "nbformat": 4,
 "nbformat_minor": 2
}
