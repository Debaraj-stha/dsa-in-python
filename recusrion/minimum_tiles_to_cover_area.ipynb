{
 "cells": [
  {
   "cell_type": "code",
   "execution_count": 7,
   "metadata": {},
   "outputs": [
    {
     "name": "stdout",
     "output_type": "stream",
     "text": [
      "3\n"
     ]
    }
   ],
   "source": [
    "def minTiles(n, m):\n",
    "\t\n",
    "\t# base case, when area is 0.\n",
    "\tif n == 0 or m == 0:\n",
    "\t\treturn 0\n",
    "\n",
    "\t# If n and m both are even, calculate\n",
    "\t# tiles for n/2 x m/2\n",
    "\t# Halving both dimensions doesn't\n",
    "\t# change the number of tiles\n",
    "\telif n%2 == 0 and m%2 == 0:\n",
    "\t\treturn minTiles(int(n/2), int(m/2))\n",
    "\n",
    "\t# If n is even and m is odd\n",
    "\t# Use a row of 1x1 tiles\n",
    "\telif n % 2 == 0 and m % 2 == 1:\n",
    "\t\treturn (n + minTiles(int(n/2), int(m/2)))\n",
    "\n",
    "\t# If n is odd and m is even\n",
    "\t# Use a column of 1x1 tiles\n",
    "\telif n % 2 == 1 and m % 2 == 0:\n",
    "\t\treturn (m + minTiles(int(n/2), int(m/2)))\n",
    "\n",
    "\t# If n and m are odd add\n",
    "\t# row + column number of tiles\n",
    "\telse:\n",
    "\t\treturn (n + m - 1 + minTiles(int(n/2), int(m/2))) \n",
    "\n",
    "# Driven Program\n",
    "n = 4\n",
    "m = 6\n",
    "print (minTiles(n, m))\n",
    "\n",
    "# This code is contributed\n",
    "# by Shreyanshi Arun.\n"
   ]
  }
 ],
 "metadata": {
  "kernelspec": {
   "display_name": "myenv",
   "language": "python",
   "name": "python3"
  },
  "language_info": {
   "codemirror_mode": {
    "name": "ipython",
    "version": 3
   },
   "file_extension": ".py",
   "mimetype": "text/x-python",
   "name": "python",
   "nbconvert_exporter": "python",
   "pygments_lexer": "ipython3",
   "version": "3.12.3"
  }
 },
 "nbformat": 4,
 "nbformat_minor": 2
}
