{
 "cells": [
  {
   "cell_type": "code",
   "execution_count": 3,
   "metadata": {},
   "outputs": [
    {
     "data": {
      "text/plain": [
       "10"
      ]
     },
     "execution_count": 3,
     "metadata": {},
     "output_type": "execute_result"
    }
   ],
   "source": [
    "def count_substring_(string,i,j,memory):\n",
    "    if i>j:\n",
    "        return 0\n",
    "    if i==j:\n",
    "        return 1\n",
    "    if (i,j) in memory:\n",
    "        return memory[(i,j)]\n",
    "\n",
    "    res=count_substring_(string,i+1,j,memory)+count_substring_(string,i,j-1,memory)-count_substring_(string,i+1,j-1,memory)\n",
    "    if string[i]==string[j]:\n",
    "        res+=1\n",
    "    memory[(i,j)]=res\n",
    "    return memory[(i,j)]\n",
    "def count(string):\n",
    "    memory={}\n",
    "    return count_substring_(string,0,len(string)-1,memory)\n",
    "count(\"racecar\")"
   ]
  },
  {
   "cell_type": "code",
   "execution_count": 2,
   "metadata": {},
   "outputs": [
    {
     "data": {
      "text/plain": [
       "7"
      ]
     },
     "execution_count": 2,
     "metadata": {},
     "output_type": "execute_result"
    }
   ],
   "source": [
    "def count_substring(string,i,j,n):\n",
    "    if n==1:\n",
    "        return 1\n",
    "    if n==0:\n",
    "        return 0\n",
    "    res = (count_substring(string, i + 1, j, n - 1) \n",
    "        + count_substring(string, i, j - 1, n - 1) \n",
    "        - count_substring(string, i + 1, j - 1, n - 2)) \n",
    "    if string[i]==string[j]:\n",
    "        res+=1\n",
    "    return res\n",
    "string=\"abcab\"\n",
    "n=len(string)\n",
    "count_substring(string,0,n-1,n)\n"
   ]
  }
 ],
 "metadata": {
  "kernelspec": {
   "display_name": "myenv",
   "language": "python",
   "name": "python3"
  },
  "language_info": {
   "codemirror_mode": {
    "name": "ipython",
    "version": 3
   },
   "file_extension": ".py",
   "mimetype": "text/x-python",
   "name": "python",
   "nbconvert_exporter": "python",
   "pygments_lexer": "ipython3",
   "version": "3.12.3"
  }
 },
 "nbformat": 4,
 "nbformat_minor": 2
}
