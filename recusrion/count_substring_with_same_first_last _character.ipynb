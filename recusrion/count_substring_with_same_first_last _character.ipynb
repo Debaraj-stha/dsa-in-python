{
 "cells": [
  {
   "cell_type": "code",
   "execution_count": 8,
   "metadata": {},
   "outputs": [
    {
     "name": "stdout",
     "output_type": "stream",
     "text": [
      "{(3, 4): 2}\n",
      "{(3, 4): 2, (2, 3): 2}\n",
      "{(3, 4): 2, (2, 3): 2, (2, 4): 3}\n",
      "{(3, 4): 2, (2, 3): 2, (2, 4): 3, (1, 2): 2}\n",
      "{(3, 4): 2, (2, 3): 2, (2, 4): 3, (1, 2): 2, (1, 3): 3}\n",
      "{(3, 4): 2, (2, 3): 2, (2, 4): 3, (1, 2): 2, (1, 3): 3, (1, 4): 5}\n",
      "{(3, 4): 2, (2, 3): 2, (2, 4): 3, (1, 2): 2, (1, 3): 3, (1, 4): 5, (0, 1): 2}\n",
      "{(3, 4): 2, (2, 3): 2, (2, 4): 3, (1, 2): 2, (1, 3): 3, (1, 4): 5, (0, 1): 2, (0, 2): 3}\n",
      "{(3, 4): 2, (2, 3): 2, (2, 4): 3, (1, 2): 2, (1, 3): 3, (1, 4): 5, (0, 1): 2, (0, 2): 3, (0, 3): 5}\n",
      "{(3, 4): 2, (2, 3): 2, (2, 4): 3, (1, 2): 2, (1, 3): 3, (1, 4): 5, (0, 1): 2, (0, 2): 3, (0, 3): 5, (0, 4): 7}\n"
     ]
    },
    {
     "data": {
      "text/plain": [
       "7"
      ]
     },
     "execution_count": 8,
     "metadata": {},
     "output_type": "execute_result"
    }
   ],
   "source": [
    "def count_substring_(string,i,j,memory):\n",
    "    if i>j:\n",
    "        return 0\n",
    "    if i==j:\n",
    "        return 1\n",
    "    if (i,j) in memory:\n",
    "        return memory[(i,j)]\n",
    "\n",
    "    res=count_substring_(string,i+1,j,memory)+count_substring_(string,i,j-1,memory)-count_substring_(string,i+1,j-1,memory)\n",
    "    if string[i]==string[j]:\n",
    "        res+=1\n",
    "    memory[(i,j)]=res\n",
    "    print(memory)\n",
    "    return memory[(i,j)]\n",
    "def count(string):\n",
    "    memory={}\n",
    "    return count_substring_(string,0,len(string)-1,memory)\n",
    "count(\"abcab\")"
   ]
  },
  {
   "cell_type": "code",
   "execution_count": 4,
   "metadata": {},
   "outputs": [
    {
     "data": {
      "text/plain": [
       "7"
      ]
     },
     "execution_count": 4,
     "metadata": {},
     "output_type": "execute_result"
    }
   ],
   "source": [
    "def count_substring(string,i,j,n):\n",
    "    if n==1:\n",
    "        return 1\n",
    "    if n==0:\n",
    "        return 0\n",
    "    res = (count_substring(string, i + 1, j, n - 1) \n",
    "        + count_substring(string, i, j - 1, n - 1) \n",
    "        - count_substring(string, i + 1, j - 1, n - 2)) \n",
    "    if string[i]==string[j]:\n",
    "        res+=1\n",
    "    return res\n",
    "string=\"abcab\"\n",
    "n=len(string)\n",
    "count_substring(string,0,n-1,n)\n"
   ]
  }
 ],
 "metadata": {
  "kernelspec": {
   "display_name": "env",
   "language": "python",
   "name": "python3"
  },
  "language_info": {
   "codemirror_mode": {
    "name": "ipython",
    "version": 3
   },
   "file_extension": ".py",
   "mimetype": "text/x-python",
   "name": "python",
   "nbconvert_exporter": "python",
   "pygments_lexer": "ipython3",
   "version": "3.12.3"
  }
 },
 "nbformat": 4,
 "nbformat_minor": 2
}
