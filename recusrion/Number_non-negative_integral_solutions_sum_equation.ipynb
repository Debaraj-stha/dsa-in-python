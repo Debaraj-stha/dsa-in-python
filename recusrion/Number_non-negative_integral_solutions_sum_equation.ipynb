{
 "cells": [
  {
   "cell_type": "code",
   "execution_count": 4,
   "metadata": {},
   "outputs": [
    {
     "name": "stdout",
     "output_type": "stream",
     "text": [
      "4\n",
      "4\n",
      "3\n",
      "2\n",
      "1\n",
      "0\n",
      "15\n"
     ]
    }
   ],
   "source": [
    "def countSolution(num,val):\n",
    "    if num==1 and val>=0:\n",
    "        return 1\n",
    "    total=0\n",
    "    print(val)\n",
    "    for i in range(val+1):\n",
    "        total+=countSolution(num-1,val-i)\n",
    "    return total\n",
    "\n",
    "\n",
    "print(countSolution(3,4))\n",
    "        \n"
   ]
  }
 ],
 "metadata": {
  "kernelspec": {
   "display_name": "myenv",
   "language": "python",
   "name": "python3"
  },
  "language_info": {
   "codemirror_mode": {
    "name": "ipython",
    "version": 3
   },
   "file_extension": ".py",
   "mimetype": "text/x-python",
   "name": "python",
   "nbconvert_exporter": "python",
   "pygments_lexer": "ipython3",
   "version": "3.12.3"
  }
 },
 "nbformat": 4,
 "nbformat_minor": 2
}
