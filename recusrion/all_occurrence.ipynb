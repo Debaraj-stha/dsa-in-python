{
 "cells": [
  {
   "cell_type": "code",
   "execution_count": 8,
   "metadata": {},
   "outputs": [
    {
     "name": "stdout",
     "output_type": "stream",
     "text": [
      "[2, 5]\n"
     ]
    }
   ],
   "source": [
    "def allOccurrences(arr,item,n,indices=None):\n",
    "    if indices is None:\n",
    "        indices = []\n",
    "    if not arr:\n",
    "        return indices\n",
    "    if arr[n-1]==item:\n",
    "        indices.insert(0,n-1)\n",
    "    return allOccurrences(arr[:-1], item, n-1, indices)\n",
    "\n",
    "arr=[2,5,1,6,8,1,9,10,2,4,2,7]\n",
    "item=1\n",
    "print(allOccurrences(arr, item, len(arr)))\n"
   ]
  }
 ],
 "metadata": {
  "kernelspec": {
   "display_name": "myenv",
   "language": "python",
   "name": "python3"
  },
  "language_info": {
   "codemirror_mode": {
    "name": "ipython",
    "version": 3
   },
   "file_extension": ".py",
   "mimetype": "text/x-python",
   "name": "python",
   "nbconvert_exporter": "python",
   "pygments_lexer": "ipython3",
   "version": "3.12.3"
  }
 },
 "nbformat": 4,
 "nbformat_minor": 2
}
