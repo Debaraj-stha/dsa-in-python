{
 "cells": [
  {
   "cell_type": "code",
   "execution_count": 14,
   "metadata": {},
   "outputs": [
    {
     "name": "stdout",
     "output_type": "stream",
     "text": [
      "45\n"
     ]
    },
    {
     "data": {
      "text/plain": [
       "'Input: n = 1234  \\nOutput: 10  # (1 + 2 + 3 + 4)'"
      ]
     },
     "execution_count": 14,
     "metadata": {},
     "output_type": "execute_result"
    }
   ],
   "source": [
    "def sum_of_digits(n):\n",
    "    if n==0:\n",
    "        return 0\n",
    "    remainder=n%10\n",
    "    n=n//10\n",
    "    return remainder+sum_of_digits(n)\n",
    "\n",
    "print(sum_of_digits(123456789))\n",
    "\n",
    "\"\"\"Input: n = 1234  \n",
    "Output: 10  # (1 + 2 + 3 + 4)\"\"\"\n"
   ]
  },
  {
   "cell_type": "code",
   "execution_count": 16,
   "metadata": {},
   "outputs": [
    {
     "name": "stdout",
     "output_type": "stream",
     "text": [
      "231\n"
     ]
    }
   ],
   "source": [
    "\n",
    "def reverse_number(n,rev=0):\n",
    "    if n==0:\n",
    "        return rev\n",
    "    remainder=n%10\n",
    "    n=n//10\n",
    "    return reverse_number(n,rev*10+remainder)\n",
    "print(reverse_number(132))"
   ]
  },
  {
   "cell_type": "code",
   "execution_count": null,
   "metadata": {},
   "outputs": [],
   "source": []
  }
 ],
 "metadata": {
  "kernelspec": {
   "display_name": "env",
   "language": "python",
   "name": "python3"
  },
  "language_info": {
   "codemirror_mode": {
    "name": "ipython",
    "version": 3
   },
   "file_extension": ".py",
   "mimetype": "text/x-python",
   "name": "python",
   "nbconvert_exporter": "python",
   "pygments_lexer": "ipython3",
   "version": "3.12.3"
  }
 },
 "nbformat": 4,
 "nbformat_minor": 2
}
