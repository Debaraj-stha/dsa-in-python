{
 "cells": [
  {
   "cell_type": "code",
   "execution_count": 14,
   "metadata": {},
   "outputs": [
    {
     "name": "stdout",
     "output_type": "stream",
     "text": [
      "[0, 1, 3, 6, 2, 7, 13, 20, 12, 21]\n"
     ]
    }
   ],
   "source": [
    "def recaman_sequence(n, seq=None, seen=None):\n",
    "    if seq is None:\n",
    "        seq = [0]\n",
    "        seen = {0}\n",
    "\n",
    "    if len(seq) == n: \n",
    "        return seq\n",
    "    prev=seq[-1]-len(seq)\n",
    "    if prev>0 and prev not in seen:\n",
    "        seq.append(prev)\n",
    "    \n",
    "    else:\n",
    "        prev=seq[-1]+len(seq)\n",
    "        seq.append(prev)\n",
    "\n",
    "    seen.add(prev)\n",
    "    return recaman_sequence(n, seq, seen)\n",
    "\n",
    "# Test\n",
    "print(recaman_sequence(10))  # Output should be [0, 1, 3, 6, 2, 7, 13, 20, 12, 21]\n"
   ]
  }
 ],
 "metadata": {
  "kernelspec": {
   "display_name": "myenv",
   "language": "python",
   "name": "python3"
  },
  "language_info": {
   "codemirror_mode": {
    "name": "ipython",
    "version": 3
   },
   "file_extension": ".py",
   "mimetype": "text/x-python",
   "name": "python",
   "nbconvert_exporter": "python",
   "pygments_lexer": "ipython3",
   "version": "3.12.3"
  }
 },
 "nbformat": 4,
 "nbformat_minor": 2
}
