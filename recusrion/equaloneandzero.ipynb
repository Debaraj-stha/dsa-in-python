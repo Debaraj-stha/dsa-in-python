{
 "cells": [
  {
   "cell_type": "code",
   "execution_count": null,
   "metadata": {},
   "outputs": [],
   "source": [
    "def equallengthzeroandoneinbinary(n,current,extraone=0,extrazero=0):\n",
    "    if len(current)==n:\n",
    "        return [current] if extraone==extrazero else []\n",
    "    if extraone<n//2:\n",
    "        result1=equallengthzeroandoneinbinary(n,current+\"1\",extraone+1 ,extrazero)\n",
    "    else:\n",
    "        result1=[]\n",
    "    if extrazero<n//2:\n",
    "        result2=equallengthzeroandoneinbinary(n,current+\"0\",extraone,extrazero+1 )\n",
    "    else:\n",
    "        result2=[]\n",
    "    return result1+result2\n",
    "equallengthzeroandoneinbinary(4,\"\")"
   ]
  }
 ],
 "metadata": {
  "kernelspec": {
   "display_name": "myenv",
   "language": "python",
   "name": "python3"
  },
  "language_info": {
   "name": "python",
   "version": "3.12.3"
  }
 },
 "nbformat": 4,
 "nbformat_minor": 2
}
