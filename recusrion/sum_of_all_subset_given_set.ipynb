{
 "cells": [
  {
   "cell_type": "code",
   "execution_count": 2,
   "metadata": {},
   "outputs": [
    {
     "name": "stdout",
     "output_type": "stream",
     "text": [
      "5 2 3 0 "
     ]
    }
   ],
   "source": [
    "def sum_of_all_subsets(arr,l,r,sum_):\n",
    "    if l>r:\n",
    "        print(sum_,end=\" \")\n",
    "        return\n",
    "    sum_of_all_subsets(arr,l+1,r,sum_+arr[l])\n",
    "    sum_of_all_subsets(arr,l+1,r,sum_)\n",
    "arr=[2,3]\n",
    "n=len(arr)\n",
    "sum_of_all_subsets(arr,0,n-1,0)\n"
   ]
  }
 ],
 "metadata": {
  "kernelspec": {
   "display_name": "env",
   "language": "python",
   "name": "python3"
  },
  "language_info": {
   "codemirror_mode": {
    "name": "ipython",
    "version": 3
   },
   "file_extension": ".py",
   "mimetype": "text/x-python",
   "name": "python",
   "nbconvert_exporter": "python",
   "pygments_lexer": "ipython3",
   "version": "3.12.3"
  }
 },
 "nbformat": 4,
 "nbformat_minor": 2
}
