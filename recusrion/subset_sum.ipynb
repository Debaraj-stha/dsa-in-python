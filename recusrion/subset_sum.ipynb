{
 "cells": [
  {
   "cell_type": "code",
   "execution_count": 8,
   "metadata": {},
   "outputs": [
    {
     "data": {
      "text/plain": [
       "[[1, 3, 8], [8, 4]]"
      ]
     },
     "execution_count": 8,
     "metadata": {},
     "output_type": "execute_result"
    }
   ],
   "source": [
    "def get_subset(start,current_sum,current_subset,arr,res,target):\n",
    "        if current_sum==target:\n",
    "            res.append(current_subset[:])\n",
    "            return\n",
    "        if current_sum>target:\n",
    "            return\n",
    "        for i in range(start,len(arr)):\n",
    "            current_subset.append(arr[i])\n",
    "            get_subset(i+1,current_sum+arr[i],current_subset,arr,res,target)\n",
    "            current_subset.pop()\n",
    "def subset_sum(arr,target):\n",
    "    res=[]\n",
    "    get_subset(0,0,[],arr,res,target)\n",
    "    return res\n",
    "arr=[1,2,3,8,4]\n",
    "target=12\n",
    "subset_sum(arr,target)\n"
   ]
  }
 ],
 "metadata": {
  "kernelspec": {
   "display_name": "env",
   "language": "python",
   "name": "python3"
  },
  "language_info": {
   "codemirror_mode": {
    "name": "ipython",
    "version": 3
   },
   "file_extension": ".py",
   "mimetype": "text/x-python",
   "name": "python",
   "nbconvert_exporter": "python",
   "pygments_lexer": "ipython3",
   "version": "3.12.3"
  }
 },
 "nbformat": 4,
 "nbformat_minor": 2
}
