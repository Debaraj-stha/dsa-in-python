{
 "cells": [
  {
   "cell_type": "code",
   "execution_count": 10,
   "metadata": {},
   "outputs": [
    {
     "name": "stdout",
     "output_type": "stream",
     "text": [
      "5\n"
     ]
    }
   ],
   "source": [
    "def lastOccurrence(arr,item,n):\n",
    "    if n==0 or not arr:\n",
    "        return -1\n",
    "    if arr[n-1]==item:return n-1\n",
    "    return lastOccurrence(arr[:n],item,n-1)\n",
    "\n",
    "arr=[2,5,1,6,8,1,9,10,2,4,2,7]\n",
    "item=1\n",
    "n=len(arr)\n",
    "print(lastOccurrence(arr,item,n))\n"
   ]
  }
 ],
 "metadata": {
  "kernelspec": {
   "display_name": "myenv",
   "language": "python",
   "name": "python3"
  },
  "language_info": {
   "codemirror_mode": {
    "name": "ipython",
    "version": 3
   },
   "file_extension": ".py",
   "mimetype": "text/x-python",
   "name": "python",
   "nbconvert_exporter": "python",
   "pygments_lexer": "ipython3",
   "version": "3.12.3"
  }
 },
 "nbformat": 4,
 "nbformat_minor": 2
}
