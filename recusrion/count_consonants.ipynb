{
 "cells": [
  {
   "cell_type": "code",
   "execution_count": 7,
   "metadata": {},
   "outputs": [
    {
     "name": "stdout",
     "output_type": "stream",
     "text": [
      "7\n"
     ]
    }
   ],
   "source": [
    "def count_consonants(s,c=0):\n",
    "    vowels=['a','e','i','o','u']\n",
    "    if len(s)==0:\n",
    "        return c\n",
    "    char=s[0].lower()\n",
    "    if char not in vowels and char.isalpha():\n",
    "        return count_consonants(s[1:],c+1)\n",
    "    return count_consonants(s[1:],c)\n",
    "s=\"hello world\"\n",
    "print(count_consonants(s))\n",
    "\n"
   ]
  }
 ],
 "metadata": {
  "kernelspec": {
   "display_name": "env",
   "language": "python",
   "name": "python3"
  },
  "language_info": {
   "codemirror_mode": {
    "name": "ipython",
    "version": 3
   },
   "file_extension": ".py",
   "mimetype": "text/x-python",
   "name": "python",
   "nbconvert_exporter": "python",
   "pygments_lexer": "ipython3",
   "version": "3.12.3"
  }
 },
 "nbformat": 4,
 "nbformat_minor": 2
}
