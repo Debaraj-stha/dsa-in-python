{
 "cells": [
  {
   "cell_type": "code",
   "execution_count": 199,
   "metadata": {},
   "outputs": [],
   "source": [
    "def maximum(arr,n,max_num):\n",
    "    if n == 0:\n",
    "        return max_num\n",
    "    if arr[n-1] > max_num:\n",
    "        max_num = arr[n-1]\n",
    "    return maximum(arr, n-1, max_num)\n",
    "def minimum(arr,n,min_num):\n",
    "    if n==0:\n",
    "        return min_num\n",
    "    if arr[n-1]<min_num:\n",
    "        min_num=arr[n-1]\n",
    "    return minimum(arr,n-1,min_num)\n",
    "def partition(arr,p,r):\n",
    "    x=arr[r]\n",
    "    i=p-1\n",
    "    for j in range(p,r):\n",
    "        if arr[j]>=x:\n",
    "            i=i+1\n",
    "            arr[i],arr[j]=arr[j],arr[i]\n",
    "    arr[i+1],arr[r]=arr[r],arr[i+1]\n",
    "    return i+1\n",
    "\n",
    "def quick_sort(arr,p,r):\n",
    "    if p<r:\n",
    "        q=partition(arr,p,r)\n",
    "        quick_sort(arr,p,q-1)\n",
    "        quick_sort(arr,q+1,r)\n",
    "\n",
    "def k_th_maximum(arr,k,p,r):\n",
    "    if p==r:\n",
    "        return arr[p]\n",
    "    quick_sort(arr,p,r)\n",
    "    print(arr)\n",
    "    return arr[k-1]\n",
    "    \n",
    "\n",
    "    \n",
    "    "
   ]
  },
  {
   "cell_type": "code",
   "execution_count": 205,
   "metadata": {},
   "outputs": [
    {
     "data": {
      "text/plain": [
       "43"
      ]
     },
     "execution_count": 205,
     "metadata": {},
     "output_type": "execute_result"
    }
   ],
   "source": [
    "import heapq\n",
    "import random\n",
    "heap=[]\n",
    "k=2\n",
    "heapq.heappush(heap,33)\n",
    "heapq.heappush(heap,99)\n",
    "heapq.heappush(heap,1)\n",
    "heapq.heappush(heap,43)\n",
    "heapq.nlargest(k,heap)[-1]"
   ]
  },
  {
   "cell_type": "code",
   "execution_count": 200,
   "metadata": {},
   "outputs": [
    {
     "name": "stdout",
     "output_type": "stream",
     "text": [
      "100\n",
      "-1\n",
      "[100, 99, 90, 88, 58, 43, 4, 2, 1, -1]\n",
      "99\n"
     ]
    }
   ],
   "source": [
    "arr=[4,58,1,43,2,88,-1,99,90,100]\n",
    "n=len(arr)\n",
    "print(maximum(arr,n,arr[0]))\n",
    "print(minimum(arr,n,arr[0]))\n",
    "print(k_th_maximum(arr,2,0,n-1))"
   ]
  },
  {
   "cell_type": "code",
   "execution_count": null,
   "metadata": {},
   "outputs": [],
   "source": []
  }
 ],
 "metadata": {
  "kernelspec": {
   "display_name": "env",
   "language": "python",
   "name": "python3"
  },
  "language_info": {
   "codemirror_mode": {
    "name": "ipython",
    "version": 3
   },
   "file_extension": ".py",
   "mimetype": "text/x-python",
   "name": "python",
   "nbconvert_exporter": "python",
   "pygments_lexer": "ipython3",
   "version": "3.12.3"
  }
 },
 "nbformat": 4,
 "nbformat_minor": 2
}
