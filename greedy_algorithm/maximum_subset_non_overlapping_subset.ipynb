{
 "cells": [
  {
   "cell_type": "code",
   "execution_count": 5,
   "metadata": {},
   "outputs": [
    {
     "name": "stdout",
     "output_type": "stream",
     "text": [
      "[(1, 3), (3, 6), (7, 9)]\n"
     ]
    }
   ],
   "source": [
    "def maxsubset_nonoverlapping_intervals(intervals):\n",
    "    if not intervals: return []\n",
    "    intervals.sort(key=lambda x: x[0])\n",
    "    subset=[intervals[0]]\n",
    "    for i in range(1,len(intervals)):\n",
    "        if not intervals[i][0]<subset[-1][1]:\n",
    "            subset.append(intervals[i])\n",
    "    return subset\n",
    "intervals = [(1, 3), (2, 5), (3, 6), (7, 9), (8, 10)]\n",
    "print(maxsubset_nonoverlapping_intervals(intervals))"
   ]
  }
 ],
 "metadata": {
  "kernelspec": {
   "display_name": "myenv",
   "language": "python",
   "name": "python3"
  },
  "language_info": {
   "codemirror_mode": {
    "name": "ipython",
    "version": 3
   },
   "file_extension": ".py",
   "mimetype": "text/x-python",
   "name": "python",
   "nbconvert_exporter": "python",
   "pygments_lexer": "ipython3",
   "version": "3.12.3"
  }
 },
 "nbformat": 4,
 "nbformat_minor": 2
}
