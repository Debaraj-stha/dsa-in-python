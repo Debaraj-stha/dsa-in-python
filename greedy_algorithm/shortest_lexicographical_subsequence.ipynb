{
 "cells": [
  {
   "cell_type": "code",
   "execution_count": null,
   "metadata": {},
   "outputs": [
    {
     "name": "stdout",
     "output_type": "stream",
     "text": [
      "abcdg\n",
      "acdb\n",
      "abc\n",
      "abcdef\n"
     ]
    }
   ],
   "source": [
    "from collections import Counter\n",
    "\n",
    "def shortest_lexicographical_subsequence(string):\n",
    "    char_count = Counter(string)  # Count occurrences of each character\n",
    "    seen = set() \n",
    "    result = []  \n",
    "\n",
    "    for char in string:\n",
    "        char_count[char] -= 1  \n",
    "\n",
    "        if char in seen:\n",
    "            continue\n",
    "\n",
    "        # Remove characters from result if:\n",
    "        # 1. The last character in the result is greater than the current character (lexicographically larger)\n",
    "        # 2. The last character appears later in the string (can be added again)\n",
    "        while result and result[-1] > char and char_count[result[-1]] > 0:\n",
    "            seen.remove(result.pop()) \n",
    "\n",
    "        result.append(char)\n",
    "        seen.add(char)\n",
    "\n",
    "    return \"\".join(result)\n",
    "\n",
    "\n",
    "print(shortest_lexicographical_subsequence(\"abcdaagd\"))  \n",
    "print(shortest_lexicographical_subsequence(\"cbacdcbc\"))\n",
    "print(shortest_lexicographical_subsequence(\"bcabc\")) \n",
    "print(shortest_lexicographical_subsequence(\"abcdefaa\"))  \n"
   ]
  },
  {
   "cell_type": "code",
   "execution_count": null,
   "metadata": {},
   "outputs": [],
   "source": []
  }
 ],
 "metadata": {
  "kernelspec": {
   "display_name": "myenv",
   "language": "python",
   "name": "python3"
  },
  "language_info": {
   "codemirror_mode": {
    "name": "ipython",
    "version": 3
   },
   "file_extension": ".py",
   "mimetype": "text/x-python",
   "name": "python",
   "nbconvert_exporter": "python",
   "pygments_lexer": "ipython3",
   "version": "3.12.3"
  }
 },
 "nbformat": 4,
 "nbformat_minor": 2
}
