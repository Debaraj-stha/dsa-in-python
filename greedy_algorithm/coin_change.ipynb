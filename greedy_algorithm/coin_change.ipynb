{
 "cells": [
  {
   "cell_type": "code",
   "execution_count": null,
   "metadata": {},
   "outputs": [
    {
     "name": "stdout",
     "output_type": "stream",
     "text": [
      "(4, [10, 10, 5, 2])\n",
      "(3, [4, 1, 1])\n"
     ]
    }
   ],
   "source": [
    "def minimum_number_of_coin(coin, target):\n",
    "    if not coin:\n",
    "        return 0\n",
    "    \n",
    "    coin.sort(reverse=True)  \n",
    "    count = 0  \n",
    "    i = 0  \n",
    "    coins=[]\n",
    "    \n",
    "    while target > 0 and i < len(coin):\n",
    "        if coin[i] <= target:\n",
    "            num = target // coin[i]  \n",
    "            count += num\n",
    "            coins.extend([coin[i]] * num)\n",
    "            target -= num * coin[i]\n",
    "        i += 1  \n",
    "    \n",
    "    return count,coins if target == 0 else -1  \n",
    "\n",
    "coin = [1, 2, 5, 10]\n",
    "target = 27\n",
    "print(minimum_number_of_coin(coin, target)) \n",
    "#for this coin and target it fails because it picks the largest value coin first 4 and twi 1 i.e [4,1,1]\n",
    "#  but there is other optimal solution [3,3] which is better the the previous one\n",
    "# so it picks the largest value coin first without considering the next outcome and it fails\n",
    "coin = [1, 3,4]\n",
    "target = 6\n",
    "print(minimum_number_of_coin(coin, target)) \n"
   ]
  }
 ],
 "metadata": {
  "kernelspec": {
   "display_name": "myenv",
   "language": "python",
   "name": "python3"
  },
  "language_info": {
   "codemirror_mode": {
    "name": "ipython",
    "version": 3
   },
   "file_extension": ".py",
   "mimetype": "text/x-python",
   "name": "python",
   "nbconvert_exporter": "python",
   "pygments_lexer": "ipython3",
   "version": "3.12.3"
  }
 },
 "nbformat": 4,
 "nbformat_minor": 2
}
