{
 "cells": [
  {
   "cell_type": "code",
   "execution_count": null,
   "metadata": {},
   "outputs": [
    {
     "name": "stdout",
     "output_type": "stream",
     "text": [
      "AGGTABXTXAYB\n"
     ]
    }
   ],
   "source": [
    "def shortest_common_sequence(x, y):\n",
    "    if not x or not y:\n",
    "        return \"\"\n",
    "    n = len(x)\n",
    "    m = len(y)\n",
    "    super_sequence = \"\"\n",
    "    i = 0\n",
    "    j = 0\n",
    "\n",
    "    while i < n and j < m:\n",
    "        if x[i] == y[j]:\n",
    "            super_sequence += x[i]\n",
    "            i += 1\n",
    "            j += 1\n",
    "        else:\n",
    "            super_sequence += x[i] \n",
    "            i += 1\n",
    "\n",
    "    while i < n:\n",
    "        super_sequence += x[i]\n",
    "        i += 1\n",
    "    while j < m:\n",
    "        super_sequence += y[j]\n",
    "        j += 1\n",
    "\n",
    "    return super_sequence\n",
    "\n",
    "x = \"AGGTAB\"\n",
    "y = \"GXTXAYB\"\n",
    "print(shortest_common_sequence(x, y)) \n"
   ]
  }
 ],
 "metadata": {
  "kernelspec": {
   "display_name": "myenv",
   "language": "python",
   "name": "python3"
  },
  "language_info": {
   "codemirror_mode": {
    "name": "ipython",
    "version": 3
   },
   "file_extension": ".py",
   "mimetype": "text/x-python",
   "name": "python",
   "nbconvert_exporter": "python",
   "pygments_lexer": "ipython3",
   "version": "3.12.3"
  }
 },
 "nbformat": 4,
 "nbformat_minor": 2
}
