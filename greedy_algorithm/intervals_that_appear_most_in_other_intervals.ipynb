{
 "cells": [
  {
   "cell_type": "code",
   "execution_count": null,
   "metadata": {},
   "outputs": [
    {
     "name": "stdout",
     "output_type": "stream",
     "text": [
      "(None, 0)\n",
      "((5, 6), 4)\n"
     ]
    }
   ],
   "source": [
    "def most_contained_interval(intervals):\n",
    "    if not intervals:\n",
    "        return None, 0  # No intervals, return nothing\n",
    "\n",
    "    # Step 1: Sort intervals by increasing start time and decreasing end time (to prioritize containment)\n",
    "    intervals.sort(key=lambda x: (x[0], -x[1]))\n",
    "\n",
    "    max_count = 0\n",
    "    best_interval = None\n",
    "    for i in range(len(intervals)):\n",
    "        current_interval = intervals[i]\n",
    "        count = 0 \n",
    "        for j in range(len(intervals)):\n",
    "            if i != j and intervals[j][0] <= current_interval[0] and current_interval[1] <= intervals[j][1]:\n",
    "                count += 1\n",
    "        if count > max_count:\n",
    "            max_count = count\n",
    "            best_interval = current_interval\n",
    "\n",
    "    return best_interval, max_count\n",
    "\n",
    "\n",
    "intervals = [(1, 5), (2, 6), (3, 7), (4, 8), (9, 10)]\n",
    "print(most_contained_interval(intervals))\n",
    "\n",
    "intervals = [(1, 10), (2, 9), (3, 8), (4, 7), (5, 6)]\n",
    "print(most_contained_interval(intervals))  # Expected Output: ((5, 6), 4)"
   ]
  },
  {
   "cell_type": "code",
   "execution_count": null,
   "metadata": {},
   "outputs": [],
   "source": []
  },
  {
   "cell_type": "code",
   "execution_count": null,
   "metadata": {},
   "outputs": [],
   "source": []
  }
 ],
 "metadata": {
  "kernelspec": {
   "display_name": "myenv",
   "language": "python",
   "name": "python3"
  },
  "language_info": {
   "codemirror_mode": {
    "name": "ipython",
    "version": 3
   },
   "file_extension": ".py",
   "mimetype": "text/x-python",
   "name": "python",
   "nbconvert_exporter": "python",
   "pygments_lexer": "ipython3",
   "version": "3.12.3"
  }
 },
 "nbformat": 4,
 "nbformat_minor": 2
}
