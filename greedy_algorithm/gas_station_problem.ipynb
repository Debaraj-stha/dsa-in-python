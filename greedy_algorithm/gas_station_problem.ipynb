{
 "cells": [
  {
   "cell_type": "code",
   "execution_count": null,
   "metadata": {},
   "outputs": [
    {
     "name": "stdout",
     "output_type": "stream",
     "text": [
      "3\n"
     ]
    }
   ],
   "source": [
    "\"\"\"\n",
    "The Gas Station problem is a classical problem in algorithm design.\n",
    " It involves finding the optimal starting point in a circular route of gas stations,\n",
    " where you need to travel around the circle, \n",
    "refuel at each gas station, and check if it is possible to complete a full circle.\n",
    "\n",
    "\"\"\"\n",
    "\n",
    "def gas_station_problem(gas, cost):\n",
    "    if not gas or not cost:\n",
    "        return -1\n",
    "    \n",
    "    total_fuel = sum(gas)\n",
    "    total_cost = 0\n",
    "    start = 0\n",
    "    for i in range(len(gas)):\n",
    "        \"\"\"gas[i]: This represents the amount of fuel you can refuel at station i. \n",
    "        This is added to your current fuel balance at that station.\n",
    "\n",
    "        cost[i]: This represents the fuel required to travel from station i to station (i + 1).\n",
    "        This is subtracted from your current fuel balance because you need to use that\n",
    "        fuel to reach the next station.\"\"\"\n",
    "        total_cost += gas[i] - cost[i]\n",
    "        \n",
    "        # If at any point total_cost is negative, reset the start station\n",
    "        if total_cost < 0:\n",
    "            start = i + 1\n",
    "            total_cost = 0\n",
    "    \n",
    "    # If the total fuel is greater than or equal to the total cost, return start\n",
    "    if total_fuel >= sum(cost):\n",
    "        return start\n",
    "    return -1\n",
    "\n",
    "gas = [1, 2, 3, 4, 5]\n",
    "cost = [3, 4, 5, 1, 2]\n",
    "print(gas_station_problem(gas, cost))  # Output: 3\n",
    "\n"
   ]
  }
 ],
 "metadata": {
  "kernelspec": {
   "display_name": "myenv",
   "language": "python",
   "name": "python3"
  },
  "language_info": {
   "codemirror_mode": {
    "name": "ipython",
    "version": 3
   },
   "file_extension": ".py",
   "mimetype": "text/x-python",
   "name": "python",
   "nbconvert_exporter": "python",
   "pygments_lexer": "ipython3",
   "version": "3.12.3"
  }
 },
 "nbformat": 4,
 "nbformat_minor": 2
}
