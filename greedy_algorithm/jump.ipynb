{
 "cells": [
  {
   "cell_type": "code",
   "execution_count": null,
   "metadata": {},
   "outputs": [
    {
     "name": "stdout",
     "output_type": "stream",
     "text": [
      "0\n",
      "1\n",
      "2\n",
      "3\n",
      "4 3\n",
      "d\n",
      "False\n"
     ]
    }
   ],
   "source": [
    "def canJump(nums):\n",
    "    farthest = 0  # This will store the farthest index we can reach\n",
    "    n = len(nums)\n",
    "    \n",
    "    for i in range(n):\n",
    "        if i > farthest:  # If we are at a position we cannot reach\n",
    "            return False\n",
    "        farthest = max(farthest, i + nums[i])  # Update the farthest reachable index\n",
    "        if farthest >= n - 1:  # If we can reach or go beyond the last index\n",
    "            return True\n",
    "    \n",
    "    return False  # If we finished the loop without reaching the last index\n",
    "\n",
    "\n",
    "nums = [2, 3, 1, 1, 4]\n",
    "print(canJump(nums))  # Output: True\n",
    "\n",
    "nums = [3, 2, 1, 0, 4]\n",
    "print(canJump(nums))  # Output: False\n"
   ]
  }
 ],
 "metadata": {
  "kernelspec": {
   "display_name": "myenv",
   "language": "python",
   "name": "python3"
  },
  "language_info": {
   "codemirror_mode": {
    "name": "ipython",
    "version": 3
   },
   "file_extension": ".py",
   "mimetype": "text/x-python",
   "name": "python",
   "nbconvert_exporter": "python",
   "pygments_lexer": "ipython3",
   "version": "3.12.3"
  }
 },
 "nbformat": 4,
 "nbformat_minor": 2
}
