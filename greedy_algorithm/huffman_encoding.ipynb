{
 "cells": [
  {
   "cell_type": "markdown",
   "metadata": {},
   "source": [
    "### **1. Why does Huffman coding always produce an optimal prefix code?**  \n",
    "Huffman coding guarantees an **optimal prefix code** because:  \n",
    "\n",
    "- It follows a **greedy approach**, always merging the two least frequent symbols first.  \n",
    "- The most frequent symbols get shorter codes, reducing the overall encoding length.  \n",
    "- It constructs a **prefix-free** binary tree, meaning no code is a prefix of another, ensuring correct decoding.  \n",
    "- It minimizes the weighted average code length, proving that no other prefix-free code can produce a smaller average encoding size for the given frequency distribution.\n",
    "\n",
    "---\n",
    "\n",
    "### **2. How is a Huffman tree constructed using a priority queue?**  \n",
    "A **priority queue (min-heap)** helps efficiently build the Huffman tree:  \n",
    "\n",
    "1. **Compute Frequencies**: Count occurrences of each character.  \n",
    "2. **Create Nodes**: Store each character and its frequency as a node.  \n",
    "3. **Insert Nodes into Min-Heap**: The heap keeps nodes sorted by frequency.  \n",
    "4. **Build the Tree**:  \n",
    "   - Repeatedly remove the two lowest-frequency nodes.  \n",
    "   - Create a new node as their parent (sum of their frequencies).  \n",
    "   - Push the new node back into the heap.  \n",
    "   - Repeat until only one node remains (the root of the Huffman tree).  \n",
    "5. **Assign Codes**: Traverse the tree, assigning `0` to left branches and `1` to right branches.  \n",
    "\n",
    "---\n",
    "\n",
    "\n",
    "\n",
    "### **4. Time Complexity of Huffman Coding**\n",
    "- **Building the frequency table:** \\( O(n) \\)\n",
    "- **Building the min-heap:** \\( O(d \\log d) \\) where \\( d \\) is the number of distinct characters\n",
    "- **Constructing the Huffman tree:** \\( O(d \\log d) \\)\n",
    "- **Generating Huffman codes (traversing the tree):** \\( O(d) \\)\n",
    "- **Encoding the input string:** \\( O(n) \\)\n",
    "- **Decoding the encoded string:** \\( O(n) \\)\n",
    "\n",
    "Overall, the time complexity is **\\( O(n \\log d) \\)**, where \\( n \\) is the length of the input string and \\( d \\) is the number of distinct characters."
   ]
  },
  {
   "cell_type": "markdown",
   "metadata": {},
   "source": []
  },
  {
   "cell_type": "code",
   "execution_count": null,
   "metadata": {},
   "outputs": [
    {
     "name": "stdout",
     "output_type": "stream",
     "text": [
      "b : 00\n",
      "d : 01\n",
      "f : 100\n",
      "e : 101\n",
      "a : 110\n",
      "c : 111\n"
     ]
    }
   ],
   "source": [
    "import heapq\n",
    "\n",
    "class Node:\n",
    "    def __init__(self, char, frequency, left=None, right=None):\n",
    "        self.char = char\n",
    "        self.frequency = frequency\n",
    "        self.left = left\n",
    "        self.right = right\n",
    "        self.huff = \"\"\n",
    "\n",
    "    def __lt__(self, other):\n",
    "        return self.frequency < other.frequency\n",
    "\n",
    "def printNodes(node, val=\"\"):\n",
    "    new_val = val + str(node.huff)\n",
    "    \n",
    "    if node.left:\n",
    "        printNodes(node.left, new_val)\n",
    "    if node.right:\n",
    "        printNodes(node.right, new_val)\n",
    "    \n",
    "    if not node.left and not node.right:\n",
    "        print(node.char, \":\", new_val)\n",
    "\n",
    "def huffman_encoding(characters):\n",
    "    # Calculate frequency of each character\n",
    "    char_frequency = {}\n",
    "    for char in characters:\n",
    "        char_frequency[char] = char_frequency.get(char, 0) + 1\n",
    "    \n",
    "    # Create priority queue (min-heap)\n",
    "    nodes = []\n",
    "    for char, freq in char_frequency.items():\n",
    "        heapq.heappush(nodes, (freq, Node(char, freq))) \n",
    "\n",
    "    #  Build Huffman tree\n",
    "    while len(nodes) > 1: \n",
    "        left_freq, left = heapq.heappop(nodes)\n",
    "        right_freq, right = heapq.heappop(nodes)\n",
    "\n",
    "        # Assign Huffman codes\n",
    "        left.huff = \"0\"\n",
    "        right.huff = \"1\"\n",
    "\n",
    "        # Merge two nodes\n",
    "        new_node = Node(left.char + right.char, left_freq + right_freq, left, right)\n",
    "        heapq.heappush(nodes, (left_freq + right_freq, new_node))\n",
    "\n",
    "    printNodes(nodes[0][1]) \n",
    "\n",
    "\n",
    "chars = ['a', 'b', 'c', 'd', 'e', 'f']\n",
    "huffman_encoding(chars)\n"
   ]
  }
 ],
 "metadata": {
  "kernelspec": {
   "display_name": "myenv",
   "language": "python",
   "name": "python3"
  },
  "language_info": {
   "codemirror_mode": {
    "name": "ipython",
    "version": 3
   },
   "file_extension": ".py",
   "mimetype": "text/x-python",
   "name": "python",
   "nbconvert_exporter": "python",
   "pygments_lexer": "ipython3",
   "version": "3.12.3"
  }
 },
 "nbformat": 4,
 "nbformat_minor": 2
}
