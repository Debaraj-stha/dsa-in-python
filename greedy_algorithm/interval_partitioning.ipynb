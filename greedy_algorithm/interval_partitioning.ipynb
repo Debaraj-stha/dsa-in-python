{
 "cells": [
  {
   "cell_type": "code",
   "execution_count": 29,
   "metadata": {},
   "outputs": [
    {
     "name": "stdout",
     "output_type": "stream",
     "text": [
      "Minimum number of partitions: 3\n",
      "Partitions:\n",
      "Partition 1: [(1, 4), (7, 8)]\n",
      "Partition 2: [(2, 5), (9, 10)]\n",
      "Partition 3: [(3, 6)]\n"
     ]
    }
   ],
   "source": [
    "import heapq\n",
    "\n",
    "def interval_partitioning(intervals):\n",
    "    if not intervals:\n",
    "        return 0, []\n",
    "\n",
    "    intervals.sort(key=lambda x: x[0])\n",
    "    min_heap = []\n",
    "    groups = []  # List of lists to store actual partitioned intervals\n",
    "\n",
    "    for interval in intervals:\n",
    "        start, end = interval\n",
    "        if min_heap and min_heap[0][0] <= start:\n",
    "            _, partition_index = heapq.heappop(min_heap)  # Reuse an existing partition\n",
    "        else:\n",
    "            partition_index = len(groups)  # Create a new partition\n",
    "            groups.append([])\n",
    "\n",
    "        # Step 3: Add the interval to its partition\n",
    "        groups[partition_index].append(interval)\n",
    "        heapq.heappush(min_heap, (end, partition_index))  # Push updated end time\n",
    "\n",
    "    return len(groups), groups  # Return the partition count and the partitions\n",
    "\n",
    "# Example Test Case\n",
    "intervals = [(1, 4), (2, 5), (3, 6), (7, 8), (9, 10)]\n",
    "num_partitions, partitions = interval_partitioning(intervals)\n",
    "\n",
    "print(\"Minimum number of partitions:\", num_partitions)\n",
    "print(\"Partitions:\")\n",
    "for i, group in enumerate(partitions):\n",
    "    print(f\"Partition {i+1}: {group}\")\n"
   ]
  }
 ],
 "metadata": {
  "kernelspec": {
   "display_name": "myenv",
   "language": "python",
   "name": "python3"
  },
  "language_info": {
   "codemirror_mode": {
    "name": "ipython",
    "version": 3
   },
   "file_extension": ".py",
   "mimetype": "text/x-python",
   "name": "python",
   "nbconvert_exporter": "python",
   "pygments_lexer": "ipython3",
   "version": "3.12.3"
  }
 },
 "nbformat": 4,
 "nbformat_minor": 2
}
