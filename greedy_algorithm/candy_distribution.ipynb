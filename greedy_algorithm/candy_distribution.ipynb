{
 "cells": [
  {
   "cell_type": "markdown",
   "metadata": {},
   "source": [
    " In this problem, you are tasked with distributing candies to children such that:\n",
    "\n",
    "- Each child must receive at least one candy.\n",
    "- Children with a higher rating than their neighbors must receive more candies than those neighbors.\n"
   ]
  },
  {
   "cell_type": "code",
   "execution_count": null,
   "metadata": {},
   "outputs": [
    {
     "name": "stdout",
     "output_type": "stream",
     "text": [
      "[1, 2, 5, 4, 3, 2, 1]\n"
     ]
    }
   ],
   "source": [
    "\n",
    "def candy_distribution(ratings):\n",
    "    n = len(ratings)\n",
    "    candies_required = [1] * n  # Give each child at least 1 candy\n",
    "    \n",
    "    # Left to Right Pass: Ensure right child gets more if ratings is higher\n",
    "    for i in range(1, n):\n",
    "        if ratings[i] > ratings[i - 1]:\n",
    "            candies_required[i] = candies_required[i - 1] + 1\n",
    "    \n",
    "    # Right to Left Pass: Ensure left child gets more if ratings is higher\n",
    "    for i in range(n - 2, -1, -1): \n",
    "        if ratings[i] > ratings[i + 1]:\n",
    "            candies_required[i] = max(candies_required[i], candies_required[i + 1] + 1)\n",
    "\n",
    "    return candies_required\n",
    "\n",
    "\n",
    "ratings = [1, 6, 10, 8, 7, 3, 2]\n",
    "\n",
    "print(candy_distribution(ratings))  # Output: [1, 2, 1]\n"
   ]
  }
 ],
 "metadata": {
  "kernelspec": {
   "display_name": "myenv",
   "language": "python",
   "name": "python3"
  },
  "language_info": {
   "codemirror_mode": {
    "name": "ipython",
    "version": 3
   },
   "file_extension": ".py",
   "mimetype": "text/x-python",
   "name": "python",
   "nbconvert_exporter": "python",
   "pygments_lexer": "ipython3",
   "version": "3.12.3"
  }
 },
 "nbformat": 4,
 "nbformat_minor": 2
}
