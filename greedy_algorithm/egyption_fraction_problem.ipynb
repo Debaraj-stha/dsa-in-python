{
 "cells": [
  {
   "cell_type": "code",
   "execution_count": 21,
   "metadata": {},
   "outputs": [
    {
     "name": "stdout",
     "output_type": "stream",
     "text": [
      "4\n",
      "16\n",
      "3\n",
      "18\n",
      "54\n",
      "2\n",
      "468\n",
      "936\n",
      "0\n",
      "[4, 18, 468]\n"
     ]
    }
   ],
   "source": [
    "\"\"\"\n",
    "The Egyptian Fraction Problem refers to the representation of a rational \n",
    "number (a fraction) as the sum of distinct unit fractions. A unit fraction is a\n",
    " fraction with the numerator 1, and the denominator is a positive integer.\n",
    "Problem Definition:\n",
    "\n",
    "Given a fraction 1/x, the task is to represent it as a sum of distinct unit fractions of the form:\n",
    "\n",
    "1a1+1a2+⋯+1ana1​1​+a2​1​+⋯+an​1​\n",
    "\n",
    "where a1,a2,…,ana1​,a2​,…,an​ are distinct positive integers, and the sum is exactly equal to the given fraction.\n",
    "\"\"\"\n",
    "import math\n",
    "def egyptian_fraction(fraction):\n",
    "    if not fraction:\n",
    "        return []\n",
    "    \n",
    "    numerator, denominator = fraction\n",
    "    result = []\n",
    "    \n",
    "    while numerator != 0:\n",
    "        x = math.ceil(denominator/numerator)\n",
    "        result.append(x)\n",
    "        print(x)\n",
    "        print(x*numerator)\n",
    "        print(x*numerator-denominator)\n",
    "        numerator = x * numerator - denominator\n",
    "        denominator=denominator*x\n",
    "        \n",
    "    return result\n",
    "\n",
    "\n",
    "# Example usage:\n",
    "print(egyptian_fraction((4, 13)))  # Output: [4, 18, 468]\n",
    "\n",
    "\n",
    "    \n",
    "\n",
    "   \n",
    "\n"
   ]
  }
 ],
 "metadata": {
  "kernelspec": {
   "display_name": "myenv",
   "language": "python",
   "name": "python3"
  },
  "language_info": {
   "codemirror_mode": {
    "name": "ipython",
    "version": 3
   },
   "file_extension": ".py",
   "mimetype": "text/x-python",
   "name": "python",
   "nbconvert_exporter": "python",
   "pygments_lexer": "ipython3",
   "version": "3.12.3"
  }
 },
 "nbformat": 4,
 "nbformat_minor": 2
}
