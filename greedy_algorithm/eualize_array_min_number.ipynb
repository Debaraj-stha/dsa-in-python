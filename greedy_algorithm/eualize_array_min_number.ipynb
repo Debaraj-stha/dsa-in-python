{
 "cells": [
  {
   "cell_type": "code",
   "execution_count": null,
   "metadata": {},
   "outputs": [
    {
     "name": "stdout",
     "output_type": "stream",
     "text": [
      "6\n"
     ]
    }
   ],
   "source": [
    "def median(arr):\n",
    "    n=len(arr)\n",
    "    arr.sort()\n",
    "    if n%2==0:\n",
    "        return (arr[n//2-1]+arr[n//2])/2.0\n",
    "    else:\n",
    "        return arr[n//2]\n",
    "    \n",
    "def equalize_arr(arr):\n",
    "    if not arr:\n",
    "        return []\n",
    "    median_val=median(arr)\n",
    "    moves_count=sum(abs(x-median_val) for x in arr)\n",
    "    return moves_count\n",
    "\n",
    "\n",
    "arr=[3, 1, 2, 4, 5]\n",
    "print(equalize_arr(arr)) "
   ]
  }
 ],
 "metadata": {
  "kernelspec": {
   "display_name": "myenv",
   "language": "python",
   "name": "python3"
  },
  "language_info": {
   "codemirror_mode": {
    "name": "ipython",
    "version": 3
   },
   "file_extension": ".py",
   "mimetype": "text/x-python",
   "name": "python",
   "nbconvert_exporter": "python",
   "pygments_lexer": "ipython3",
   "version": "3.12.3"
  }
 },
 "nbformat": 4,
 "nbformat_minor": 2
}
