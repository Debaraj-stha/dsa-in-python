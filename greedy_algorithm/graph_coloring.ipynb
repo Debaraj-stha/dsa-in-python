{
 "cells": [
  {
   "cell_type": "code",
   "execution_count": 75,
   "metadata": {},
   "outputs": [
    {
     "data": {
      "text/plain": [
       "{'D': 0, 'B': 1, 'A': 0, 'C': 1}"
      ]
     },
     "execution_count": 75,
     "metadata": {},
     "output_type": "execute_result"
    }
   ],
   "source": [
    "def graph_coloring(graph):\n",
    "    nodes = set(graph.keys())\n",
    "    for neighbors in graph.values():\n",
    "        nodes.update(neighbors)\n",
    "    visited=set()\n",
    "    color={}\n",
    "    def dfs(node,current_color):\n",
    "        color[node]=current_color\n",
    "        visited.add(node)\n",
    "        for neighbor in graph[node]:\n",
    "            if neighbor in color:\n",
    "                if color[neighbor]==color[node]:\n",
    "                    return False\n",
    "            else:\n",
    "                if not dfs(neighbor,1-current_color):\n",
    "                    return False\n",
    "        return True\n",
    "    for node in nodes:\n",
    "        if node not in visited:\n",
    "            if not dfs(node,0):\n",
    "                print(\"Conflict found in graph\")\n",
    "                return False\n",
    "    return color\n",
    "\n",
    "graph={\n",
    "    \"A\":[\"B\",\"C\"],\n",
    "    \"B\":[\"A\",\"D\"],\n",
    "    \"C\":[\"A\",\"D\"],\n",
    "    \"D\":[\"B\",\"C\"]\n",
    "}\n",
    "graph_coloring(graph)"
   ]
  },
  {
   "cell_type": "code",
   "execution_count": 78,
   "metadata": {},
   "outputs": [
    {
     "name": "stdout",
     "output_type": "stream",
     "text": [
      "{'A': 1, 'B': 2, 'C': 2, 'D': 1}\n"
     ]
    }
   ],
   "source": [
    "def m_coloring(graph, m):\n",
    "    nodes = list(graph.keys()) \n",
    "    n = len(nodes)  \n",
    "    colors = {}  \n",
    "\n",
    "    def is_safe(node, color):\n",
    "        \"\"\"Check if assigning 'color' to 'node' is safe\"\"\"\n",
    "        return all(colors.get(neighbor, 0) != color for neighbor in graph[node])\n",
    "\n",
    "    def dfs(index):\n",
    "        \"\"\"Recursive DFS to try coloring the graph\"\"\"\n",
    "        if index == n:  \n",
    "            return True\n",
    "        \n",
    "        node = nodes[index]  \n",
    "        \n",
    "        for color in range(1, m + 1):\n",
    "            if is_safe(node, color):\n",
    "                colors[node] = color  \n",
    "                if dfs(index + 1):  \n",
    "                    return True\n",
    "                colors[node] = 0  \n",
    "        \n",
    "        return False\n",
    "\n",
    "    if not dfs(0): \n",
    "        print(\"No valid coloring found.\")\n",
    "        return False\n",
    "\n",
    "    return colors  \n",
    "\n",
    "\n",
    "graph={\n",
    "    \"A\":[\"B\",\"C\"],\n",
    "    \"B\":[\"A\",\"D\"],\n",
    "    \"C\":[\"A\",\"D\"],\n",
    "    \"D\":[\"B\",\"C\"]\n",
    "}\n",
    "\n",
    "print(m_coloring(graph, 3))\n"
   ]
  },
  {
   "cell_type": "code",
   "execution_count": null,
   "metadata": {},
   "outputs": [],
   "source": []
  }
 ],
 "metadata": {
  "kernelspec": {
   "display_name": "myenv",
   "language": "python",
   "name": "python3"
  },
  "language_info": {
   "codemirror_mode": {
    "name": "ipython",
    "version": 3
   },
   "file_extension": ".py",
   "mimetype": "text/x-python",
   "name": "python",
   "nbconvert_exporter": "python",
   "pygments_lexer": "ipython3",
   "version": "3.12.3"
  }
 },
 "nbformat": 4,
 "nbformat_minor": 2
}
