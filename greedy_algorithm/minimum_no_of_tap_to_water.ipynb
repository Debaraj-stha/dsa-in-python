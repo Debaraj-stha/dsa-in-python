{
 "cells": [
  {
   "cell_type": "code",
   "execution_count": 7,
   "metadata": {},
   "outputs": [
    {
     "name": "stdout",
     "output_type": "stream",
     "text": [
      "1\n"
     ]
    }
   ],
   "source": [
    "def minimum_number_of_taps(n, ranges):\n",
    "    intervals = []\n",
    "    for i in range(n + 1):\n",
    "        left = max(0, i - ranges[i])\n",
    "        right = min(n, i + ranges[i])\n",
    "        intervals.append((left, right))\n",
    "    intervals.sort()\n",
    "    taps = 0\n",
    "    end = 0  # Current farthest position we can cover\n",
    "    i = 0\n",
    "    max_reach = 0  # Maximum position a tap can reach\n",
    "\n",
    "    while end < n:\n",
    "        # Find the tap that extends the coverage the farthest within current range\n",
    "        while i < len(intervals) and intervals[i][0] <= end:\n",
    "            max_reach = max(max_reach, intervals[i][1])\n",
    "            i += 1\n",
    "\n",
    "        # If no tap can extend the range, it's impossible to cover the garden\n",
    "        if max_reach <= end:\n",
    "            return -1  # Cannot fully water the garden\n",
    "\n",
    "       \n",
    "        taps += 1\n",
    "        end = max_reach\n",
    "\n",
    "    return taps\n",
    "\n",
    "\n",
    "n = 5\n",
    "ranges = [3, 4, 1, 1, 0, 0]\n",
    "print(minimum_number_of_taps(n, ranges))  # Output: 1\n"
   ]
  }
 ],
 "metadata": {
  "kernelspec": {
   "display_name": "myenv",
   "language": "python",
   "name": "python3"
  },
  "language_info": {
   "codemirror_mode": {
    "name": "ipython",
    "version": 3
   },
   "file_extension": ".py",
   "mimetype": "text/x-python",
   "name": "python",
   "nbconvert_exporter": "python",
   "pygments_lexer": "ipython3",
   "version": "3.12.3"
  }
 },
 "nbformat": 4,
 "nbformat_minor": 2
}
