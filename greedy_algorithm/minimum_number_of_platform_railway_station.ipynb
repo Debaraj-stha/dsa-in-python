{
 "cells": [
  {
   "cell_type": "code",
   "execution_count": null,
   "metadata": {},
   "outputs": [
    {
     "name": "stdout",
     "output_type": "stream",
     "text": [
      "3\n"
     ]
    }
   ],
   "source": [
    "def minimum_platform_railway_stations(arrivals, departures):\n",
    "    if not arrivals or not departures:\n",
    "        return 0\n",
    "    \n",
    "    arrivals.sort()\n",
    "    departures.sort()\n",
    "\n",
    "    i, j = 0, 0  \n",
    "    platform_count = 0  \n",
    "    maximum_count = 0  \n",
    "\n",
    "    n = len(arrivals)\n",
    "\n",
    "    while i < n and j < n:\n",
    "        if arrivals[i] <= departures[j]:  # A train arrives before the earliest departure\n",
    "            platform_count += 1\n",
    "            maximum_count = max(maximum_count, platform_count)\n",
    "            i += 1  # Move to the next arriving train\n",
    "        else:  # A train departs before the next arrival\n",
    "            platform_count -= 1\n",
    "            j += 1  # Move to the next departing train\n",
    "\n",
    "    return maximum_count\n",
    "\n",
    "arrivals = [900, 940, 950, 1100, 1500, 1800]\n",
    "departures = [910, 1200, 1120, 1130, 1900, 2000]\n",
    "\n",
    "print(minimum_platform_railway_stations(arrivals, departures))  # Expected Output: 3\n"
   ]
  },
  {
   "cell_type": "code",
   "execution_count": null,
   "metadata": {},
   "outputs": [],
   "source": []
  }
 ],
 "metadata": {
  "kernelspec": {
   "display_name": "myenv",
   "language": "python",
   "name": "python3"
  },
  "language_info": {
   "codemirror_mode": {
    "name": "ipython",
    "version": 3
   },
   "file_extension": ".py",
   "mimetype": "text/x-python",
   "name": "python",
   "nbconvert_exporter": "python",
   "pygments_lexer": "ipython3",
   "version": "3.12.3"
  }
 },
 "nbformat": 4,
 "nbformat_minor": 2
}
