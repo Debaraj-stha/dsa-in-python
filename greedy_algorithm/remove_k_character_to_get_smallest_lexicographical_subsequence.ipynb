{
 "cells": [
  {
   "cell_type": "code",
   "execution_count": null,
   "metadata": {},
   "outputs": [
    {
     "name": "stdout",
     "output_type": "stream",
     "text": [
      "abc\n",
      "adcba\n"
     ]
    }
   ],
   "source": [
    "def shortest_lexicographical_order_by_removing_k_characters(string, k):\n",
    "    n = len(string)\n",
    "    if not string or k >= n:\n",
    "        return \"\"\n",
    "    \n",
    "    result = []\n",
    "    for i in range(n):\n",
    "        # While we can remove characters and result is not empty\n",
    "        # and the last character in result is greater than the current character\n",
    "        # we pop the last character from result\n",
    "        while k > 0 and result and result[-1] > string[i]:\n",
    "            result.pop()\n",
    "            k -= 1\n",
    "        result.append(string[i])\n",
    "    \n",
    "    # If there are still characters to remove, remove from the end of result\n",
    "    result = result[:-k] if k > 0 else result\n",
    "    \n",
    "    return ''.join(result)\n",
    "\n",
    "print(shortest_lexicographical_order_by_removing_k_characters(\"bcabc\", 2))  # Output: \"abc\"\n",
    "print(shortest_lexicographical_order_by_removing_k_characters(\"dcbadcba\", 3))  # Output: \"adcb\"\n"
   ]
  }
 ],
 "metadata": {
  "kernelspec": {
   "display_name": "myenv",
   "language": "python",
   "name": "python3"
  },
  "language_info": {
   "codemirror_mode": {
    "name": "ipython",
    "version": 3
   },
   "file_extension": ".py",
   "mimetype": "text/x-python",
   "name": "python",
   "nbconvert_exporter": "python",
   "pygments_lexer": "ipython3",
   "version": "3.12.3"
  }
 },
 "nbformat": 4,
 "nbformat_minor": 2
}
