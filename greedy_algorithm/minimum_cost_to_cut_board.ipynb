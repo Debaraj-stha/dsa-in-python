{
 "cells": [
  {
   "cell_type": "markdown",
   "metadata": {},
   "source": [
    "The Minimum Cost to Cut a Board problem is a classic greedy algorithm problem where we are given a board of size M × N and we want to cut it into 1×1 squares. However, each cut has a cost associated with it, and our goal is to minimize the total cost of cutting the board."
   ]
  },
  {
   "cell_type": "markdown",
   "metadata": {},
   "source": [
    "Every time we make a horizontal cut, it increases the number of horizontal pieces.\n",
    "Every time we make a vertical cut, it increases the number of vertical pieces.\n",
    "\n",
    "🔹 Key Idea:\n",
    "\n",
    "   - A horizontal cut affects all vertical pieces.\n",
    "     - Cost = (cut cost) × (number of vertical pieces).\n",
    "   - A vertical cut affects all horizontal pieces.\n",
    "      - Cost = (cut cost) × (number of horizontal pieces)."
   ]
  },
  {
   "cell_type": "code",
   "execution_count": null,
   "metadata": {},
   "outputs": [
    {
     "name": "stdout",
     "output_type": "stream",
     "text": [
      "42\n"
     ]
    }
   ],
   "source": [
    "def minimum_cost_to_cut_board(vertical, horizontal):\n",
    "    #Higher costs should be applied earlier to minimize total cost.\n",
    "    horizontal.sort(reverse=True)\n",
    "    vertical.sort(reverse=True)\n",
    "    \n",
    "    total_cost = 0\n",
    "    vertical_pieces = 1\n",
    "    horizontal_pieces = 1\n",
    "    \n",
    "    i, j = 0, 0\n",
    "    \n",
    "    while i < len(horizontal) and j < len(vertical):\n",
    "        if horizontal[i] > vertical[j]:  \n",
    "            total_cost += horizontal[i] * vertical_pieces\n",
    "            horizontal_pieces += 1\n",
    "            i += 1\n",
    "        else:\n",
    "            total_cost += vertical[j] * horizontal_pieces\n",
    "            vertical_pieces += 1\n",
    "            j += 1\n",
    "\n",
    "    # Process remaining horizontal cuts (if any)\n",
    "    while i < len(horizontal):\n",
    "        total_cost += horizontal[i] * vertical_pieces\n",
    "        i += 1\n",
    "    \n",
    "    # Process remaining vertical cuts (if any)\n",
    "    while j < len(vertical):\n",
    "        total_cost += vertical[j] * horizontal_pieces\n",
    "        j += 1\n",
    "    \n",
    "    return total_cost\n",
    "\n",
    "\n",
    "\n",
    "X = [2, 1, 3, 1, 4]  # Horizontal cut costs (M-1 cuts)\n",
    "Y = [4, 1, 2]        # Vertical cut costs (N-1 cuts)\n",
    "\n",
    "print(minimum_cost_to_cut_board(Y,X))\n",
    "\n"
   ]
  }
 ],
 "metadata": {
  "kernelspec": {
   "display_name": "myenv",
   "language": "python",
   "name": "python3"
  },
  "language_info": {
   "codemirror_mode": {
    "name": "ipython",
    "version": 3
   },
   "file_extension": ".py",
   "mimetype": "text/x-python",
   "name": "python",
   "nbconvert_exporter": "python",
   "pygments_lexer": "ipython3",
   "version": "3.12.3"
  }
 },
 "nbformat": 4,
 "nbformat_minor": 2
}
