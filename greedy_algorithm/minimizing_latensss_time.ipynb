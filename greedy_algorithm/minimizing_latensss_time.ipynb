{
 "cells": [
  {
   "cell_type": "code",
   "execution_count": null,
   "metadata": {},
   "outputs": [
    {
     "name": "stdout",
     "output_type": "stream",
     "text": [
      "2\n"
     ]
    }
   ],
   "source": [
    "\n",
    "\"\"\"\n",
    "The problem of minimizing lateness in scheduling involves scheduling \n",
    "tasks in such a way that the lateness (the difference between the completion time of a task and \n",
    "its deadline) is minimized. The goal is to find a schedule that minimizes the maximum lateness across all tasks.\n",
    "\"\"\"\n",
    "def minimize_lateness_time(tasks):\n",
    "    if not tasks:\n",
    "        return 0\n",
    "\n",
    "    tasks.sort(key=lambda x: x['deadline'])\n",
    "    completion_time = 0\n",
    "    max_lateness = 0\n",
    "    for task in tasks:\n",
    "        processing_time, deadline = task['processing_time'], task['deadline']\n",
    "        completion_time += processing_time\n",
    "        #Lateness=Completion Time−Deadline\n",
    "        lateness = completion_time - deadline\n",
    "        max_lateness = max(max_lateness, lateness)\n",
    "\n",
    "    return max_lateness\n",
    "\n",
    "tasks = [\n",
    "    {\"task\": \"A\", \"processing_time\": 3, \"deadline\": 5},\n",
    "    {\"task\": \"B\", \"processing_time\": 2, \"deadline\": 8},\n",
    "    {\"task\": \"C\", \"processing_time\": 1, \"deadline\": 4},\n",
    "    {\"task\": \"D\", \"processing_time\": 4, \"deadline\": 6}\n",
    "]\n",
    "\n",
    "print(minimize_lateness_time(tasks))  # Expected Output: 2\n"
   ]
  }
 ],
 "metadata": {
  "kernelspec": {
   "display_name": "myenv",
   "language": "python",
   "name": "python3"
  },
  "language_info": {
   "codemirror_mode": {
    "name": "ipython",
    "version": 3
   },
   "file_extension": ".py",
   "mimetype": "text/x-python",
   "name": "python",
   "nbconvert_exporter": "python",
   "pygments_lexer": "ipython3",
   "version": "3.12.3"
  }
 },
 "nbformat": 4,
 "nbformat_minor": 2
}
