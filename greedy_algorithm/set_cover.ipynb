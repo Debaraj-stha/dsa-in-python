{
 "cells": [
  {
   "cell_type": "code",
   "execution_count": 6,
   "metadata": {},
   "outputs": [
    {
     "name": "stdout",
     "output_type": "stream",
     "text": [
      "[{1, 2, 3}, {4, 5}]\n"
     ]
    }
   ],
   "source": [
    "def set_cover(union, subset):\n",
    "    if not union or not subset:\n",
    "        return []\n",
    "\n",
    "    selected = []  \n",
    "    \n",
    "    while union:\n",
    "        best_subset = None\n",
    "        covered_elements = 0\n",
    "        for s in subset:\n",
    "            # Find how many elements this subset covers that are still uncovered\n",
    "            coverage = len(s & union)\n",
    "            if coverage > covered_elements:\n",
    "                best_subset = s\n",
    "                covered_elements = coverage\n",
    "        \n",
    "        if not best_subset:\n",
    "            break\n",
    "        \n",
    "        \n",
    "        selected.append(best_subset)\n",
    "        union -= best_subset  # Remove covered elements from uncovered\n",
    "\n",
    "    return selected\n",
    "\n",
    "\n",
    "union = {1, 2, 3, 4, 5}\n",
    "subset = [{1, 2, 3}, {2, 4}, {3, 5}, {4}, {4, 5}]\n",
    "print(set_cover(union, subset))\n"
   ]
  }
 ],
 "metadata": {
  "kernelspec": {
   "display_name": "myenv",
   "language": "python",
   "name": "python3"
  },
  "language_info": {
   "codemirror_mode": {
    "name": "ipython",
    "version": 3
   },
   "file_extension": ".py",
   "mimetype": "text/x-python",
   "name": "python",
   "nbconvert_exporter": "python",
   "pygments_lexer": "ipython3",
   "version": "3.12.3"
  }
 },
 "nbformat": 4,
 "nbformat_minor": 2
}
