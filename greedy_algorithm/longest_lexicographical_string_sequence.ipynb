{
 "cells": [
  {
   "cell_type": "code",
   "execution_count": 1,
   "metadata": {},
   "outputs": [
    {
     "name": "stdout",
     "output_type": "stream",
     "text": [
      "['a', 'a', 'f']\n"
     ]
    }
   ],
   "source": [
    "def largestLexicographicalSubsequence(string):\n",
    "    if not string:\n",
    "        return \"\"\n",
    "    \n",
    "    max_char = \"\"\n",
    "    result = []\n",
    "\n",
    "    # Traverse from right to left\n",
    "    for i in range(len(string) - 1, -1, -1):\n",
    "        if string[i] >= max_char:  # Include only if it's >= max so far\n",
    "            max_char = string[i]\n",
    "            result.append(string[i])\n",
    "    return result\n",
    "\n",
    "    return \"\".join(reversed(result))  # Reverse to restore original order\n",
    "print(largestLexicographicalSubsequence(\"abcdefaa\")) \n"
   ]
  },
  {
   "cell_type": "code",
   "execution_count": null,
   "metadata": {},
   "outputs": [],
   "source": []
  }
 ],
 "metadata": {
  "kernelspec": {
   "display_name": "myenv",
   "language": "python",
   "name": "python3"
  },
  "language_info": {
   "codemirror_mode": {
    "name": "ipython",
    "version": 3
   },
   "file_extension": ".py",
   "mimetype": "text/x-python",
   "name": "python",
   "nbconvert_exporter": "python",
   "pygments_lexer": "ipython3",
   "version": "3.12.3"
  }
 },
 "nbformat": 4,
 "nbformat_minor": 2
}
