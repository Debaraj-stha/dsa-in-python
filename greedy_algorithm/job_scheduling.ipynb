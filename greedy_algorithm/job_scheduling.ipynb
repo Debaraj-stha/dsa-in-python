{
 "cells": [
  {
   "cell_type": "code",
   "execution_count": 36,
   "metadata": {},
   "outputs": [
    {
     "name": "stdout",
     "output_type": "stream",
     "text": [
      "Jobs before sorting:\n",
      "Id\tDeadline\tProfit\n",
      "J1\t2\t50\n",
      "J2\t1\t15\n",
      "J3\t2\t10\n",
      "J4\t1\t25\n",
      "J5\t3\t150\n",
      "\n",
      "After sorting on the basis of profit in descending order:\n",
      "Id\tDeadline\tProfit\n",
      "J5\t3\t150\n",
      "J1\t2\t50\n",
      "J4\t1\t25\n",
      "J2\t1\t15\n",
      "J3\t2\t10\n",
      "time slots:\n",
      "J4 J1 J5 \n",
      "scheduled jobs:\n",
      "Job J5 scheduled at time 3\n",
      "Job J1 scheduled at time 2\n",
      "Job J4 scheduled at time 1\n",
      "Total profit : 225\n"
     ]
    }
   ],
   "source": [
    "\n",
    "def display_jobs(jobs):\n",
    "    print(\"Id\\tDeadline\\tProfit\")\n",
    "    for job in jobs:\n",
    "        print(job[\"id\"] + \"\\t\" + str(job[\"deadline\"]) + \"\\t\" + str(job[\"profit\"]))\n",
    "\n",
    "def job_scheduling(jobs):\n",
    "    print(\"Jobs before sorting:\")\n",
    "    display_jobs(jobs)\n",
    "    jobs.sort(key=lambda x: x[\"profit\"], reverse=True)\n",
    "    print(\"\\nAfter sorting on the basis of profit in descending order:\")\n",
    "    display_jobs(jobs)\n",
    "    max_deadline = max(job[\"deadline\"] for job in jobs)\n",
    "    slots=[None]*max_deadline\n",
    "    schedules_jobs=[]\n",
    "    total_profit=0\n",
    "    for job in jobs:\n",
    "        for t in range(job[\"deadline\"]-1,-1,-1):\n",
    "            if slots[t] is None:\n",
    "                slots[t]=job[\"id\"]\n",
    "                schedules_jobs.append((job[\"id\"],t))\n",
    "                total_profit+=job[\"profit\"]\n",
    "                break\n",
    "    print(\"time slots:\")\n",
    "    for slot in slots:\n",
    "        if slot is None:\n",
    "            print(\"-\", end=\" \")\n",
    "        else:\n",
    "            print(slot, end=\" \")\n",
    "\n",
    "    print(\"\\nscheduled jobs:\")\n",
    "    for i,job in enumerate(schedules_jobs):\n",
    "        print(f\"Job {job[0]} scheduled at time {job[1]+1}\")\n",
    "    print(\"Total profit :\",total_profit)\n",
    "\n",
    "jobs = [\n",
    "    {\"id\": \"J1\", \"deadline\": 2, \"profit\": 50},\n",
    "    {\"id\": \"J2\", \"deadline\": 1, \"profit\": 15},\n",
    "    {\"id\": \"J3\", \"deadline\": 2, \"profit\": 10},\n",
    "    {\"id\": \"J4\", \"deadline\": 1, \"profit\": 25},\n",
    "    {\"id\": \"J5\", \"deadline\": 3, \"profit\": 150},\n",
    "]\n",
    "\n",
    "\n",
    "job_scheduling(jobs)\n"
   ]
  }
 ],
 "metadata": {
  "kernelspec": {
   "display_name": "myenv",
   "language": "python",
   "name": "python3"
  },
  "language_info": {
   "codemirror_mode": {
    "name": "ipython",
    "version": 3
   },
   "file_extension": ".py",
   "mimetype": "text/x-python",
   "name": "python",
   "nbconvert_exporter": "python",
   "pygments_lexer": "ipython3",
   "version": "3.12.3"
  }
 },
 "nbformat": 4,
 "nbformat_minor": 2
}
