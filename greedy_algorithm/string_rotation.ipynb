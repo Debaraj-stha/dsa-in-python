{
 "cells": [
  {
   "cell_type": "code",
   "execution_count": 46,
   "metadata": {},
   "outputs": [
    {
     "name": "stdout",
     "output_type": "stream",
     "text": [
      "2\n",
      "abc\n"
     ]
    }
   ],
   "source": [
    "def smallest_rotation(s):\n",
    "    if not s:\n",
    "        return \"\"\n",
    "    \n",
    "    n = len(s)\n",
    "    s = s + s  # Concatenate the string to handle rotations\n",
    "    min_index = 0  # Assume the first rotation is the smallest\n",
    "    \n",
    "    #s=\"bcabca\"\n",
    "    # Find the smallest rotation in the concatenated string\n",
    "    # O(n^2) time complexity, O(1) space complexity\n",
    "    #concatenate takes O(n) time complexity\n",
    "    #we concate the string because it gives all rotations of  characters\n",
    "    #at index 2,we find smallest rotation\n",
    "    #very time we take a substring of size n and compare \n",
    "    for i in range(1, n):\n",
    "        if s[i:i+n] < s[min_index:min_index+n]:\n",
    "            min_index = i  \n",
    "    print(min_index)\n",
    "\n",
    "    return s[min_index:min_index+n]  # Extract the best rotation\n",
    "\n",
    "print(smallest_rotation(\"bca\"))  # Output: \"abc\"\n",
    "# print(smallest_rotation(\"dcba\")) # Output: \"abcd\"\n",
    "\n"
   ]
  },
  {
   "cell_type": "code",
   "execution_count": 42,
   "metadata": {},
   "outputs": [
    {
     "data": {
      "text/plain": [
       "True"
      ]
     },
     "execution_count": 42,
     "metadata": {},
     "output_type": "execute_result"
    }
   ],
   "source": [
    "s1=\"abc\"\n",
    "s2=\"bca\"\n",
    "s1<s2"
   ]
  }
 ],
 "metadata": {
  "kernelspec": {
   "display_name": "myenv",
   "language": "python",
   "name": "python3"
  },
  "language_info": {
   "codemirror_mode": {
    "name": "ipython",
    "version": 3
   },
   "file_extension": ".py",
   "mimetype": "text/x-python",
   "name": "python",
   "nbconvert_exporter": "python",
   "pygments_lexer": "ipython3",
   "version": "3.12.3"
  }
 },
 "nbformat": 4,
 "nbformat_minor": 2
}
