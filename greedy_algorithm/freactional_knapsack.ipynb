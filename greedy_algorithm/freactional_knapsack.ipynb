{
 "cells": [
  {
   "cell_type": "code",
   "execution_count": 9,
   "metadata": {},
   "outputs": [
    {
     "name": "stdout",
     "output_type": "stream",
     "text": [
      "Before sorting\n",
      "Item\tValue\tweight\n",
      "Item 1\t60\t5\n",
      "Item 2\t20\t10\n",
      "Item 3\t10\t10\n",
      "Item 4\t80\t10\n",
      "Item 5\t30\t3\n",
      "After sorting based on value weight ratio\n",
      "Item\tValue\tweight\t Ratio\n",
      "Item 1\t60\t5\t12.0\n",
      "Item 5\t30\t3\t10.0\n",
      "Item 4\t80\t10\t8.0\n",
      "Item 2\t20\t10\t2.0\n",
      "Item 3\t10\t10\t1.0\n",
      "Total profit: 130.0\n",
      "Items: [1, 1, 0.5, 0, 0]\n"
     ]
    }
   ],
   "source": [
    "def fractional_knapsack(items,capacity):\n",
    "    print(\"Before sorting\")\n",
    "    print(\"Item\\tValue\\tweight\")\n",
    "    for item in items:\n",
    "        print(f\"{item[0]}\\t{item[1]}\\t{item[2]}\")\n",
    "   \n",
    "    dummy=[list(item[:]) for item in items]\n",
    "    for item in dummy:\n",
    "        item=item\n",
    "        ratio=item[1]/item[2]\n",
    "        item.append(ratio)\n",
    "        \n",
    "    items=dummy\n",
    "    items.sort(key=lambda x:x[3],reverse=True)\n",
    "    print(\"After sorting based on value weight ratio\")\n",
    "    print(\"Item\\tValue\\tweight\\t Ratio\")\n",
    "    for item in items:\n",
    "        print(f\"{item[0]}\\t{item[1]}\\t{item[2]}\\t{item[3]}\")\n",
    "\n",
    "    n=len(items)\n",
    "    weights=0\n",
    "    x=[0]*n\n",
    "    total_profit=0\n",
    "\n",
    "    for i in range(n):\n",
    "        if weights+items[i][2]<capacity:\n",
    "            weights+=items[i][2]\n",
    "            x[i]=1\n",
    "            total_profit+=items[i][1]\n",
    "        else:\n",
    "            needed_weight=capacity-weights\n",
    "            x[i]=needed_weight/items[i][2]\n",
    "            weights+=needed_weight\n",
    "            total_profit+=x[i]*items[i][1]\n",
    "            break\n",
    "    print(\"Total profit: {}\".format(total_profit))\n",
    "    print(\"Items:\",x)\n",
    "\n",
    "    \n",
    "\n",
    "items=[\n",
    "    #item value weight\n",
    "    (\"Item 1\",60,5),\n",
    "    (\"Item 2\",20,10),\n",
    "    (\"Item 3\",10,10),\n",
    "    (\"Item 4\",80,10),\n",
    "    (\"Item 5\",30,3)\n",
    "]\n",
    "capacity=13\n",
    "fractional_knapsack(items,13)"
   ]
  }
 ],
 "metadata": {
  "kernelspec": {
   "display_name": "myenv",
   "language": "python",
   "name": "python3"
  },
  "language_info": {
   "codemirror_mode": {
    "name": "ipython",
    "version": 3
   },
   "file_extension": ".py",
   "mimetype": "text/x-python",
   "name": "python",
   "nbconvert_exporter": "python",
   "pygments_lexer": "ipython3",
   "version": "3.12.3"
  }
 },
 "nbformat": 4,
 "nbformat_minor": 2
}
