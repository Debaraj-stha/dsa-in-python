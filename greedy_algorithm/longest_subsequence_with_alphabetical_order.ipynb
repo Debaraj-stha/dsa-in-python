{
 "cells": [
  {
   "cell_type": "code",
   "execution_count": 13,
   "metadata": {},
   "outputs": [
    {
     "name": "stdout",
     "output_type": "stream",
     "text": [
      "adf\n",
      "ae\n",
      "abcdef\n"
     ]
    }
   ],
   "source": [
    "def longestSubstringInAlphabeticalOrder(string):\n",
    "    if not string:\n",
    "        return \"\"\n",
    "    \n",
    "    max_length = 1\n",
    "    current_length = 1\n",
    "    start_index = 0\n",
    "    best_start = 0\n",
    "    \n",
    "    for i in range(1, len(string)):\n",
    "        if string[i]>=string[i-1]:\n",
    "           current_length += 1\n",
    "        else:\n",
    "            if current_length>max_length:\n",
    "                max_length = current_length\n",
    "                best_start = start_index\n",
    "            start_index=i\n",
    "            current_length = 1\n",
    "    if current_length>max_length:\n",
    "        max_length = current_length\n",
    "        best_start = start_index\n",
    "    return string[best_start:best_start+max_length]\n",
    "\n",
    "\n",
    "           \n",
    "\n",
    "\n",
    "print(longestSubstringInAlphabeticalOrder(\"cbadfe\"))   # Output: \"adf\"\n",
    "print(longestSubstringInAlphabeticalOrder(\"aebdc\"))    # Output: \"ae\"\n",
    "print(longestSubstringInAlphabeticalOrder(\"abcdef\"))   # Output: \"abcdef\"\n"
   ]
  }
 ],
 "metadata": {
  "kernelspec": {
   "display_name": "myenv",
   "language": "python",
   "name": "python3"
  },
  "language_info": {
   "codemirror_mode": {
    "name": "ipython",
    "version": 3
   },
   "file_extension": ".py",
   "mimetype": "text/x-python",
   "name": "python",
   "nbconvert_exporter": "python",
   "pygments_lexer": "ipython3",
   "version": "3.12.3"
  }
 },
 "nbformat": 4,
 "nbformat_minor": 2
}
