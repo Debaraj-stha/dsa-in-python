{
 "cells": [
  {
   "cell_type": "code",
   "execution_count": null,
   "metadata": {},
   "outputs": [
    {
     "name": "stdout",
     "output_type": "stream",
     "text": [
      "d\n"
     ]
    }
   ],
   "source": [
    "def find_shortest_substring(str1, str2):\n",
    "    if not str1 or not str2:\n",
    "        return \"\"\n",
    "    \n",
    "    n = len(str1)\n",
    "    m = len(str2)\n",
    "\n",
    "    for length in range(1, n + 1):\n",
    "        for i in range(n - length + 1):\n",
    "            temp = str1[i:i + length]\n",
    "            if temp in str2:\n",
    "                return temp  \n",
    "    \n",
    "    return \"\" \n",
    "\n",
    "x = \"abdc\"\n",
    "xy = \"xcdc\"\n",
    "print(find_shortest_substring(x, xy)) \n"
   ]
  },
  {
   "cell_type": "code",
   "execution_count": 17,
   "metadata": {},
   "outputs": [
    {
     "data": {
      "text/plain": [
       "'cd'"
      ]
     },
     "execution_count": 17,
     "metadata": {},
     "output_type": "execute_result"
    }
   ],
   "source": [
    "def find_common_substring(str1, str2):\n",
    "   if not str1 or not str2:\n",
    "      return \"\"\n",
    "   n=len(str1)\n",
    "   m=len(str2)\n",
    "\n",
    "   substr=\"\"\n",
    "   for i in range(n):\n",
    "      for j in range(i,m):\n",
    "         temp=str1[i:j+1]\n",
    "         if temp in str2 and len(temp)>len(substr):\n",
    "            substr=temp\n",
    "   return substr\n",
    "\n",
    "\n",
    "str1 = \"abcdxyz\"\n",
    "str2=\"acduf\"\n",
    "find_common_substring(str1, str2)"
   ]
  },
  {
   "cell_type": "code",
   "execution_count": null,
   "metadata": {},
   "outputs": [
    {
     "name": "stdout",
     "output_type": "stream",
     "text": [
      "cd\n"
     ]
    }
   ],
   "source": [
    "def find_common_substring(str1, str2):\n",
    "    if not str1 or not str2:\n",
    "        return \"\"\n",
    "    \n",
    "    n = len(str1)\n",
    "    m = len(str2)\n",
    "    dp = [[0] * (m + 1) for _ in range(n + 1)]\n",
    "    max_len = 0\n",
    "    end_index = 0\n",
    "    \n",
    "    # Fill the DP table\n",
    "    for i in range(1, n + 1):\n",
    "        for j in range(1, m + 1):\n",
    "            if str1[i - 1] == str2[j - 1]:\n",
    "                dp[i][j] = dp[i - 1][j - 1] + 1\n",
    "                if dp[i][j] > max_len:\n",
    "                    max_len = dp[i][j]\n",
    "                    end_index = i - 1\n",
    "            else:\n",
    "                dp[i][j] = 0\n",
    "    \n",
    "    return str1[end_index - max_len + 1: end_index + 1]\n",
    "\n",
    "str1 = \"abcdxyz\"\n",
    "str2 = \"acduf\"\n",
    "print(find_common_substring(str1, str2)) \n"
   ]
  },
  {
   "cell_type": "code",
   "execution_count": null,
   "metadata": {},
   "outputs": [],
   "source": []
  }
 ],
 "metadata": {
  "kernelspec": {
   "display_name": "myenv",
   "language": "python",
   "name": "python3"
  },
  "language_info": {
   "codemirror_mode": {
    "name": "ipython",
    "version": 3
   },
   "file_extension": ".py",
   "mimetype": "text/x-python",
   "name": "python",
   "nbconvert_exporter": "python",
   "pygments_lexer": "ipython3",
   "version": "3.12.3"
  }
 },
 "nbformat": 4,
 "nbformat_minor": 2
}
