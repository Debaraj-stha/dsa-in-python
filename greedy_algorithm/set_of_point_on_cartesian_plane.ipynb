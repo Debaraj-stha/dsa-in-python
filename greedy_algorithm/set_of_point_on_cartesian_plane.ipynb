{
 "cells": [
  {
   "cell_type": "code",
   "execution_count": null,
   "metadata": {},
   "outputs": [
    {
     "name": "stdout",
     "output_type": "stream",
     "text": [
      "3\n",
      "6\n",
      "8\n",
      "Selected Points: [3, 9, 15]\n"
     ]
    }
   ],
   "source": [
    "def select_points(points, d):\n",
    "    points.sort()\n",
    "\n",
    "    selected_points = []\n",
    "    i = 0\n",
    "    n = len(points)\n",
    "\n",
    "    while i < n:\n",
    "        # Select the leftmost uncovered point\n",
    "        base_point = points[i]\n",
    "        \n",
    "        # Move right until exceeding the coverage range\n",
    "        while i < n and points[i] <= base_point + d:\n",
    "            i += 1\n",
    "        # Place a selected point at the farthest possible within range\n",
    "        selected_point = points[i - 1]\n",
    "        selected_points.append(selected_point)\n",
    "\n",
    "        # Skip all points covered by this selection\n",
    "        while i < n and points[i] <= selected_point + d:\n",
    "            i += 1\n",
    "\n",
    "    return selected_points\n",
    "\n",
    "points = [1, 2, 3, 6, 7, 9, 12, 15]\n",
    "d = 3\n",
    "selected = select_points(points, d)\n",
    "print(\"Selected Points:\", selected)\n"
   ]
  }
 ],
 "metadata": {
  "kernelspec": {
   "display_name": "myenv",
   "language": "python",
   "name": "python3"
  },
  "language_info": {
   "codemirror_mode": {
    "name": "ipython",
    "version": 3
   },
   "file_extension": ".py",
   "mimetype": "text/x-python",
   "name": "python",
   "nbconvert_exporter": "python",
   "pygments_lexer": "ipython3",
   "version": "3.12.3"
  }
 },
 "nbformat": 4,
 "nbformat_minor": 2
}
