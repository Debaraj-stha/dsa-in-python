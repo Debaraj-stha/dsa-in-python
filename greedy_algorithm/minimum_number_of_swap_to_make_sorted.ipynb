{
 "cells": [
  {
   "cell_type": "code",
   "execution_count": 12,
   "metadata": {},
   "outputs": [
    {
     "name": "stdout",
     "output_type": "stream",
     "text": [
      "2\n"
     ]
    }
   ],
   "source": [
    "def minimum_num_of_swap(arr):\n",
    "    n = len(arr)\n",
    "    if n <= 1:\n",
    "        return 0\n",
    "    indexed_arr = list(enumerate(arr))\n",
    "    indexed_arr.sort(key=lambda x: x[1])\n",
    "    visited = [False] * n\n",
    "    no_of_swaps = 0\n",
    "    \n",
    "    for i in range(n):\n",
    "        # If already visited or already in the correct place, skip it\n",
    "        if visited[i] or indexed_arr[i][0] == i:\n",
    "            continue\n",
    "        \n",
    "        # Find the size of the cycle\n",
    "        cycle_size = 0\n",
    "        j = i\n",
    "        #a cycle is formed with starting an element following chain of its correct position in sorted order\n",
    "        #  until you return to origional element\n",
    "        #eg 4,3,2,1\n",
    "        #: Start at index 0 (4). The element at index 0 should go to index 3 (1),\n",
    "        #  and the element at index 3 should go to index 0 (4). So, we have a cycle: 4 -> 1 -> 4.\n",
    "        \n",
    "        while not visited[j]:\n",
    "            visited[j] = True\n",
    "            j = indexed_arr[j][0]  # Move to the index of the next element in the cycle\n",
    "            cycle_size += 1\n",
    "            \n",
    "      \n",
    "        \n",
    "        # If there is a cycle of size k, it takes k-1 swaps to sort the cycle\n",
    "        if cycle_size > 1:\n",
    "            no_of_swaps += (cycle_size - 1)\n",
    "    \n",
    "    return no_of_swaps\n",
    "\n",
    "# Test the function\n",
    "arr = [4,3,2,1]\n",
    "print(minimum_num_of_swap(arr))  # Output: 3\n"
   ]
  }
 ],
 "metadata": {
  "kernelspec": {
   "display_name": "myenv",
   "language": "python",
   "name": "python3"
  },
  "language_info": {
   "codemirror_mode": {
    "name": "ipython",
    "version": 3
   },
   "file_extension": ".py",
   "mimetype": "text/x-python",
   "name": "python",
   "nbconvert_exporter": "python",
   "pygments_lexer": "ipython3",
   "version": "3.12.3"
  }
 },
 "nbformat": 4,
 "nbformat_minor": 2
}
