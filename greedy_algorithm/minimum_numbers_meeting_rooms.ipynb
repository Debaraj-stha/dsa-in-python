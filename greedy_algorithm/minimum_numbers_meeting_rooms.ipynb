{
 "cells": [
  {
   "cell_type": "code",
   "execution_count": 26,
   "metadata": {},
   "outputs": [
    {
     "name": "stdout",
     "output_type": "stream",
     "text": [
      "2\n",
      "2\n",
      "3\n"
     ]
    }
   ],
   "source": [
    "import heapq\n",
    "\n",
    "def minimum_rooms(meetings):\n",
    "    if not meetings:\n",
    "        return 0\n",
    "    min_heap=[]\n",
    "    heapq.heappush(min_heap,meetings[0][1])\n",
    "    for start,end in meetings[1:]:\n",
    "        if min_heap[0]<=start:\n",
    "            heapq.heappop(min_heap)\n",
    "        heapq.heappush(min_heap,end)\n",
    "    return len(min_heap)\n",
    "\n",
    "meetings = [(1, 3), (2, 5), (6, 8)]\n",
    "print(minimum_rooms(meetings))\n",
    "\n",
    "meetings = [(0, 30), (5, 10), (15, 20)]\n",
    "print(minimum_rooms(meetings))\n",
    "\n",
    "meetings = [(7, 9), (6, 8), (5, 8)]\n",
    "print(minimum_rooms(meetings))\n"
   ]
  }
 ],
 "metadata": {
  "kernelspec": {
   "display_name": "myenv",
   "language": "python",
   "name": "python3"
  },
  "language_info": {
   "codemirror_mode": {
    "name": "ipython",
    "version": 3
   },
   "file_extension": ".py",
   "mimetype": "text/x-python",
   "name": "python",
   "nbconvert_exporter": "python",
   "pygments_lexer": "ipython3",
   "version": "3.12.3"
  }
 },
 "nbformat": 4,
 "nbformat_minor": 2
}
