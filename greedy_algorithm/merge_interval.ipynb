{
 "cells": [
  {
   "cell_type": "code",
   "execution_count": 1,
   "metadata": {},
   "outputs": [
    {
     "data": {
      "text/plain": [
       "[[1, 6], [8, 10], [15, 18]]"
      ]
     },
     "execution_count": 1,
     "metadata": {},
     "output_type": "execute_result"
    }
   ],
   "source": [
    "def merge_interval(intervals):\n",
    "    if not intervals:\n",
    "        return []\n",
    "    merged=[intervals[0]]\n",
    "    n=len(intervals)\n",
    "    for i in range(1,n):\n",
    "        if merged[-1][1]>=intervals[i][0]:\n",
    "            merged[-1][1]=max(merged[-1][1],intervals[i][1])\n",
    "        else:\n",
    "            merged.append(intervals[i])\n",
    "    return merged\n",
    "intervals = [[1, 3], [2, 6], [8, 10], [15, 18]]\n",
    "merge_interval(intervals)"
   ]
  }
 ],
 "metadata": {
  "kernelspec": {
   "display_name": "myenv",
   "language": "python",
   "name": "python3"
  },
  "language_info": {
   "codemirror_mode": {
    "name": "ipython",
    "version": 3
   },
   "file_extension": ".py",
   "mimetype": "text/x-python",
   "name": "python",
   "nbconvert_exporter": "python",
   "pygments_lexer": "ipython3",
   "version": "3.12.3"
  }
 },
 "nbformat": 4,
 "nbformat_minor": 2
}
