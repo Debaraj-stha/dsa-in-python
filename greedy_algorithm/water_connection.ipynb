{
 "cells": [
  {
   "cell_type": "code",
   "execution_count": null,
   "metadata": {},
   "outputs": [
    {
     "name": "stdout",
     "output_type": "stream",
     "text": [
      "Minimum number of taps required: 2\n",
      "Tap connections for each house: [1, 2, 1, 2]\n"
     ]
    }
   ],
   "source": [
    "\"\"\"You are given a network of houses connected by pipelines. Each pipeline has a source house,\n",
    " a destination house, and a diameter (capacity) of water flow. The goal is to determine the minimum number of \n",
    "taps required to supply water to all houses while ensuring maximum water flow using a greedy approach.\"\"\"\n",
    "\n",
    "def water_connection(pipelines, no_of_house, no_of_pipelines):\n",
    "    pipelines.sort(key=lambda x: x[2], reverse=True)\n",
    "    \n",
    "    visited = [False] * (no_of_house + 1)\n",
    "    taps = [-1] * (no_of_house + 1)  # Track which house is connected to which tap\n",
    "    taps_needed = 0  \n",
    "    \n",
    "    for source, destination, diameter in pipelines:\n",
    "        if not visited[source]:\n",
    "            visited[source] = True\n",
    "            taps[source] = source  # Source house gets its own tap\n",
    "            taps_needed += 1  \n",
    "        if not visited[destination]:\n",
    "            visited[destination] = True\n",
    "            taps[destination] = source  # Destination house is connected via source\n",
    "        if all(visited[1:]):\n",
    "            break\n",
    "    \n",
    "    return taps_needed, taps[1:]\n",
    "\n",
    "n = 4   # Number of houses\n",
    "m = 5   # Number of pipelines\n",
    "\n",
    "pipelines = [\n",
    "  (1, 2, 5),  # A pipeline connects house 1 to house 2 with diameter 5\n",
    "  (1, 3, 4),  # A pipeline connects house 1 to house 3 with diameter 4\n",
    "  (2, 4, 7),  # A pipeline connects house 2 to house 4 with diameter 7\n",
    "  (3, 4, 3),  # A pipeline connects house 3 to house 4 with diameter 3\n",
    "  (1, 4, 6)   # A pipeline connects house 1 to house 4 with diameter 6\n",
    "]\n",
    "taps_needed, taps_connections = water_connection(pipelines, n, m)\n",
    "print(f\"Minimum number of taps required: {taps_needed}\")\n",
    "print(f\"Tap connections for each house: {taps_connections}\")\n",
    "\n"
   ]
  }
 ],
 "metadata": {
  "kernelspec": {
   "display_name": "myenv",
   "language": "python",
   "name": "python3"
  },
  "language_info": {
   "codemirror_mode": {
    "name": "ipython",
    "version": 3
   },
   "file_extension": ".py",
   "mimetype": "text/x-python",
   "name": "python",
   "nbconvert_exporter": "python",
   "pygments_lexer": "ipython3",
   "version": "3.12.3"
  }
 },
 "nbformat": 4,
 "nbformat_minor": 2
}
