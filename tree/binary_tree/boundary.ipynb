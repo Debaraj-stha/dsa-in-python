{
 "cells": [
  {
   "cell_type": "code",
   "execution_count": 17,
   "metadata": {},
   "outputs": [
    {
     "data": {
      "text/plain": [
       "[33, 99, 49, 88, 97, 101, 131, 121]"
      ]
     },
     "execution_count": 17,
     "metadata": {},
     "output_type": "execute_result"
    }
   ],
   "source": [
    "class Node:\n",
    "    def __init__(self,value):\n",
    "        self.value = value\n",
    "        self.left=None\n",
    "        self.right=None\n",
    "\n",
    "\n",
    "\n",
    "def collectBoundary(root):\n",
    "    res=[root.value]\n",
    "    def collectLeftBoundary(node):\n",
    "        if node and (node.left or node.right):\n",
    "            res.append(node.value)\n",
    "            if node.left:\n",
    "                collectLeftBoundary(node.left)\n",
    "            else:\n",
    "                collectLeftBoundary(node.right)\n",
    "\n",
    "    def collectLeaf(node):\n",
    "        if node:\n",
    "            collectLeaf(node.left)\n",
    "\n",
    "            if not node.left and not node.right:\n",
    "                res.append(node.value)\n",
    "            collectLeaf(node.right)\n",
    "    def collectRightBoundary(node):\n",
    "        if node and (node.left or node.right):\n",
    "            if node.right:\n",
    "                collectRightBoundary(node.right)\n",
    "            else:\n",
    "                collectRightBoundary(node.left)\n",
    "            res.append(node.value)\n",
    "    collectLeftBoundary(root.left)\n",
    "    collectLeaf(root)\n",
    "    collectRightBoundary(root.right)\n",
    "    return res\n",
    "   \n",
    "node=Node(33)\n",
    "node.left=Node(99)\n",
    "node.right=Node(121)\n",
    "node.left.left=Node(49)\n",
    "node.left.right=Node(61)\n",
    "node.right.left=Node(101)\n",
    "node.right.right=Node(131)\n",
    "node.left.right.left=Node(88)\n",
    "node.left.right.right=Node(97)\n",
    "\n",
    "collectBoundary(node)\n",
    "\n"
   ]
  }
 ],
 "metadata": {
  "kernelspec": {
   "display_name": "myenv",
   "language": "python",
   "name": "python3"
  },
  "language_info": {
   "codemirror_mode": {
    "name": "ipython",
    "version": 3
   },
   "file_extension": ".py",
   "mimetype": "text/x-python",
   "name": "python",
   "nbconvert_exporter": "python",
   "pygments_lexer": "ipython3",
   "version": "3.12.3"
  }
 },
 "nbformat": 4,
 "nbformat_minor": 2
}
