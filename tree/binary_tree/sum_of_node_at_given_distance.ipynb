{
 "cells": [
  {
   "cell_type": "code",
   "execution_count": 2,
   "metadata": {},
   "outputs": [
    {
     "name": "stdout",
     "output_type": "stream",
     "text": [
      "87\n"
     ]
    }
   ],
   "source": [
    "class Node(object):\n",
    "    def __init__(self, value):\n",
    "        self.value = value\n",
    "        self.left = None\n",
    "        self.right = None\n",
    "\n",
    "\n",
    "\n",
    "\n",
    "\n",
    "def sumOfNodesAtDistance(node,distance):\n",
    "    if node is None or distance<0:\n",
    "        return 0\n",
    "    if distance==0:\n",
    "        return node.value\n",
    "    return sumOfNodesAtDistance(node.left,distance-1) + sumOfNodesAtDistance(node.right,distance-1)\n",
    "\n",
    "root=Node(3)\n",
    "root.left=Node(1)\n",
    "root.right=Node(4)\n",
    "root.left.left=Node(0)\n",
    "root.left.right=Node(2)\n",
    "root.left.right.left=Node(77)\n",
    "root.left.right.right=Node(10)\n",
    "\n",
    "\n",
    "print(sumOfNodesAtDistance(root.left, 2))\n",
    "\n"
   ]
  }
 ],
 "metadata": {
  "kernelspec": {
   "display_name": "myenv",
   "language": "python",
   "name": "python3"
  },
  "language_info": {
   "codemirror_mode": {
    "name": "ipython",
    "version": 3
   },
   "file_extension": ".py",
   "mimetype": "text/x-python",
   "name": "python",
   "nbconvert_exporter": "python",
   "pygments_lexer": "ipython3",
   "version": "3.12.3"
  }
 },
 "nbformat": 4,
 "nbformat_minor": 2
}
