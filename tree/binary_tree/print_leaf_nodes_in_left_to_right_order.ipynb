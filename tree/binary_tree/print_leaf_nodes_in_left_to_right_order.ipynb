{
 "cells": [
  {
   "cell_type": "code",
   "execution_count": 6,
   "metadata": {},
   "outputs": [
    {
     "name": "stdout",
     "output_type": "stream",
     "text": [
      "40 77 10 55 11 99 900 \n",
      "Nodes at level 1: 3 \n",
      "Nodes from right to left: 900 66 99 4 11 44 55 3 10 2 77 1 40 \n",
      "Leaf nodes from right to left: 900 99 11 55 10 77 40 "
     ]
    }
   ],
   "source": [
    "from collections import  deque\n",
    "class Node(object):\n",
    "    def __init__(self, value):\n",
    "        self.value = value\n",
    "        self.left = None\n",
    "        self.right = None\n",
    "def printLeafNodes(root):\n",
    "    if root:\n",
    "        if not root.left and not root.right:\n",
    "            print(root.value, end=' ')\n",
    "        printLeafNodes(root.left)\n",
    "        printLeafNodes(root.right)\n",
    "def printNodesAtLeelK(root,k):\n",
    "    if not root:\n",
    "        return\n",
    "    if k == 0:\n",
    "        print(root.value, end=' ')\n",
    "    else:\n",
    "        printNodesAtLeelK(root.left, k - 1)\n",
    "        printNodesAtLeelK(root.right, k - 1)\n",
    "    \n",
    "def printNodesFromRightToLeft(root):\n",
    "    if not root:\n",
    "        return\n",
    "    printNodesFromRightToLeft(root.right)\n",
    "    print(root.value, end=' ')\n",
    "    printNodesFromRightToLeft(root.left)\n",
    "\n",
    "def printLeafFromRightToLeft(root):\n",
    "    if not root:\n",
    "        return\n",
    "    if not root.left and not root.right:\n",
    "        print(root.value, end=' ')\n",
    "    printLeafFromRightToLeft(root.right)\n",
    "    printLeafFromRightToLeft(root.left)\n",
    "\n",
    "\n",
    "\n",
    "\n",
    "\n",
    "root=Node(3)\n",
    "root.left=Node(1)\n",
    "root.right=Node(4)\n",
    "root.left.left=Node(40)\n",
    "root.left.right=Node(2)\n",
    "root.left.right.left=Node(77)\n",
    "root.left.right.right=Node(10)\n",
    "root.right.left=Node(44)\n",
    "root.right.right=Node(66)\n",
    "root.right.left.left=Node(55)\n",
    "root.right.left.right=Node(11)\n",
    "root.right.right.left=Node(99)\n",
    "root.right.right.right=Node(900)\n",
    "printLeafNodes(root)\n",
    "print('\\nNodes at level 1:', end=' ')\n",
    "printNodesAtLeelK(root, 0)\n",
    "print('\\nNodes from right to left:', end=' ')\n",
    "printNodesFromRightToLeft(root)\n",
    "print('\\nLeaf nodes from right to left:', end=' ')\n",
    "printLeafFromRightToLeft(root)\n",
    "\n",
    "\n"
   ]
  }
 ],
 "metadata": {
  "kernelspec": {
   "display_name": "myenv",
   "language": "python",
   "name": "python3"
  },
  "language_info": {
   "codemirror_mode": {
    "name": "ipython",
    "version": 3
   },
   "file_extension": ".py",
   "mimetype": "text/x-python",
   "name": "python",
   "nbconvert_exporter": "python",
   "pygments_lexer": "ipython3",
   "version": "3.12.3"
  }
 },
 "nbformat": 4,
 "nbformat_minor": 2
}
