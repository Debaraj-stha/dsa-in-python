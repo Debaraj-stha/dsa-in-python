{
 "cells": [
  {
   "cell_type": "code",
   "execution_count": 5,
   "metadata": {},
   "outputs": [
    {
     "data": {
      "text/plain": [
       "False"
      ]
     },
     "execution_count": 5,
     "metadata": {},
     "output_type": "execute_result"
    }
   ],
   "source": [
    "class Node:\n",
    "    def __init__(self, value):\n",
    "        self.value = value\n",
    "        self.left = None\n",
    "        self.right = None\n",
    "\n",
    "def isIdentical(root1,root2):\n",
    "    if not root1 and not root2:\n",
    "        return True\n",
    "    if not root1 or not root2:\n",
    "        return False\n",
    "    return root1.value == root2.value and isIdentical(root1.left, root2.left) and isIdentical(root1.right, root2.right)\n",
    "\n",
    "\n",
    "\n",
    "def isSubTree(root,subtree):\n",
    "    if not root and not subtree:\n",
    "        return True\n",
    "    if not root or not subtree:\n",
    "        return False\n",
    "    return isIdentical(root,subtree) or isSubTree(root.left, subtree) or isSubTree(root.right, subtree)\n",
    "\n",
    "\n",
    "node=Node(33)\n",
    "node.left=Node(29)\n",
    "node.right=Node(31)\n",
    "\n",
    "\n",
    "node2=Node(33)\n",
    "node2.left=Node(29)\n",
    "node2.right=Node(31)\n",
    "node2.left.left=Node(88)\n",
    "\n",
    "\n",
    "isIdentical(node,node2)"
   ]
  },
  {
   "cell_type": "code",
   "execution_count": 6,
   "metadata": {},
   "outputs": [
    {
     "data": {
      "text/plain": [
       "False"
      ]
     },
     "execution_count": 6,
     "metadata": {},
     "output_type": "execute_result"
    }
   ],
   "source": [
    "isSubTree(node,node2)"
   ]
  }
 ],
 "metadata": {
  "kernelspec": {
   "display_name": "myenv",
   "language": "python",
   "name": "python3"
  },
  "language_info": {
   "codemirror_mode": {
    "name": "ipython",
    "version": 3
   },
   "file_extension": ".py",
   "mimetype": "text/x-python",
   "name": "python",
   "nbconvert_exporter": "python",
   "pygments_lexer": "ipython3",
   "version": "3.12.3"
  }
 },
 "nbformat": 4,
 "nbformat_minor": 2
}
