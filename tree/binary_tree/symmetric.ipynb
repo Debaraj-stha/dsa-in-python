{
 "cells": [
  {
   "cell_type": "code",
   "execution_count": 14,
   "metadata": {},
   "outputs": [
    {
     "name": "stdout",
     "output_type": "stream",
     "text": [
      "True\n"
     ]
    }
   ],
   "source": [
    "class Node:\n",
    "    def __init__(self, value):\n",
    "        self.value = value\n",
    "        self.left=None\n",
    "        self.right=None\n",
    "\n",
    "def isMirror(left,right):\n",
    "    if not left and not right:\n",
    "        return True\n",
    "    if not left or not right:\n",
    "        return False\n",
    "    return left.value==right.value and isMirror(left.left,right.right) and isMirror(left.right,right.left)\n",
    "         \n",
    "def isSymmetric(root):\n",
    "    if not root:\n",
    "        return True\n",
    "    return isMirror(root.left,root.right)\n",
    "\n",
    "\n",
    "def createMirror(root):\n",
    "    if not root:\n",
    "        return None\n",
    "    root.left,root.right=root.right,root.left\n",
    "    createMirror(root.left)\n",
    "    createMirror(root.right)\n",
    "    return root\n",
    "\n",
    "root=Node(99)\n",
    "root.left=Node(2)\n",
    "root.right=Node(2)\n",
    "\n",
    "root1=Node(1)\n",
    "root1.left=Node(2)\n",
    "root1.right=Node(3)\n",
    "\n",
    "\n",
    "print(isSymmetric(root))"
   ]
  }
 ],
 "metadata": {
  "kernelspec": {
   "display_name": "myenv",
   "language": "python",
   "name": "python3"
  },
  "language_info": {
   "codemirror_mode": {
    "name": "ipython",
    "version": 3
   },
   "file_extension": ".py",
   "mimetype": "text/x-python",
   "name": "python",
   "nbconvert_exporter": "python",
   "pygments_lexer": "ipython3",
   "version": "3.12.3"
  }
 },
 "nbformat": 4,
 "nbformat_minor": 2
}
