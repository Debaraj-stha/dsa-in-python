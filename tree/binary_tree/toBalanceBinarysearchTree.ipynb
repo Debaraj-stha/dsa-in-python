{
 "cells": [
  {
   "cell_type": "code",
   "execution_count": 5,
   "metadata": {},
   "outputs": [
    {
     "name": "stdout",
     "output_type": "stream",
     "text": [
      "[44, 22, 22, 32, 30, 43, 36]\n"
     ]
    }
   ],
   "source": [
    "from collections import deque\n",
    "class Node:\n",
    "    def __init__(self, value):\n",
    "        self.value=value\n",
    "        self.left=None\n",
    "        self.right=None\n",
    "def getLevelOrderTraversal(root):\n",
    "    res=[]\n",
    "    queue=deque()\n",
    "    queue.append(root)\n",
    "    while queue:\n",
    "        node=queue.popleft()\n",
    "        res.append(node.value)\n",
    "        if node.left:\n",
    "            queue.append(node.left)\n",
    "        if node.right:\n",
    "            queue.append(node.right)\n",
    "    return res\n",
    "\n",
    "def toBalancedBinarySearchTree(nodes,start,end):\n",
    "    if not nodes:\n",
    "        return \n",
    "    if start>end:\n",
    "        return\n",
    "    mid=(start+end)//2\n",
    "    rootNode=Node(nodes[mid])\n",
    "    rootNode.left=toBalancedBinarySearchTree(nodes,start,mid-1)\n",
    "    rootNode.right=toBalancedBinarySearchTree(nodes,mid+1,end)\n",
    "    return rootNode\n",
    "\n",
    "root=Node(44)\n",
    "root.left=Node(22)\n",
    "root.right=Node(22)\n",
    "root.left.left=Node(32)\n",
    "root.left.left.left=Node(43)\n",
    "root.right.right=Node(30)\n",
    "root.right.right.right=Node(36)\n",
    "order=getLevelOrderTraversal(root)\n",
    "r=toBalancedBinarySearchTree(order,0,len(order)-1)\n",
    "print(order)"
   ]
  },
  {
   "cell_type": "code",
   "execution_count": 8,
   "metadata": {},
   "outputs": [
    {
     "data": {
      "text/plain": [
       "[32, 22, 43, 44, 22, 30, 36]"
      ]
     },
     "execution_count": 8,
     "metadata": {},
     "output_type": "execute_result"
    }
   ],
   "source": [
    "x=getLevelOrderTraversal(r)\n",
    "x"
   ]
  }
 ],
 "metadata": {
  "kernelspec": {
   "display_name": "myenv",
   "language": "python",
   "name": "python3"
  },
  "language_info": {
   "codemirror_mode": {
    "name": "ipython",
    "version": 3
   },
   "file_extension": ".py",
   "mimetype": "text/x-python",
   "name": "python",
   "nbconvert_exporter": "python",
   "pygments_lexer": "ipython3",
   "version": "3.12.3"
  }
 },
 "nbformat": 4,
 "nbformat_minor": 2
}
