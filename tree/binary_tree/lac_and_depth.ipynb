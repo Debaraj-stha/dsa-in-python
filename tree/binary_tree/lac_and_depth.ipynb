{
 "cells": [
  {
   "cell_type": "code",
   "execution_count": 10,
   "metadata": {},
   "outputs": [
    {
     "name": "stdout",
     "output_type": "stream",
     "text": [
      "3\n",
      "depath= -1\n"
     ]
    }
   ],
   "source": [
    "class Node(object):\n",
    "    def __init__(self, value):\n",
    "        self.value = value\n",
    "        self.left = None\n",
    "        self.right = None\n",
    "\n",
    "def LCA(root,node1,node2):\n",
    "    if not root or not root.left or not root.right:\n",
    "        return root\n",
    "    left=LCA(root.left,node1,node2)\n",
    "    right=LCA(root.right,node1,node2)\n",
    "    if left and right:\n",
    "        return root\n",
    "    elif left:\n",
    "        return left\n",
    "    else:\n",
    "        return right\n",
    "\n",
    "\n",
    "def depth(root,node,level=-1):\n",
    "    if not root or node is None:\n",
    "        return -1\n",
    "    if root.value==node.value:\n",
    "        return level+1\n",
    "    left=depth(root.left,node,level+1)\n",
    "    return left if left!=-1 else depth(root.right,node,level+1)\n",
    "\n",
    "\n",
    "root=Node(3)\n",
    "root.left=Node(1)\n",
    "root.right=Node(4)\n",
    "root.left.left=Node(0)\n",
    "root.left.right=Node(2)\n",
    "root.left.right.left=Node(77)\n",
    "root.left.right.right=Node(10)\n",
    "\n",
    "print(LCA(root, root.left.right.left, root.left.right.right).value)\n",
    "print(\"depath=\",depth(root,root.left.right.right.right,0))\n",
    "\n"
   ]
  }
 ],
 "metadata": {
  "kernelspec": {
   "display_name": "myenv",
   "language": "python",
   "name": "python3"
  },
  "language_info": {
   "codemirror_mode": {
    "name": "ipython",
    "version": 3
   },
   "file_extension": ".py",
   "mimetype": "text/x-python",
   "name": "python",
   "nbconvert_exporter": "python",
   "pygments_lexer": "ipython3",
   "version": "3.12.3"
  }
 },
 "nbformat": 4,
 "nbformat_minor": 2
}
