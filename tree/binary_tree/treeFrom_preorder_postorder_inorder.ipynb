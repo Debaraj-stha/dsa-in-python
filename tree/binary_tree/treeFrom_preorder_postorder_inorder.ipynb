{
 "cells": [
  {
   "cell_type": "code",
   "execution_count": 108,
   "metadata": {},
   "outputs": [
    {
     "name": "stdout",
     "output_type": "stream",
     "text": [
      "Preorder Traversal:\n",
      "7 3 9 2 10 1 5 \n",
      "Inorder Traversal:\n",
      "9 3 2 7 1 10 5 \n",
      "Postorder Traversal:\n",
      "9 2 3 1 5 10 7\n"
     ]
    },
    {
     "data": {
      "text/plain": [
       "[9, 2, 3, 1, 5, 10, 7]"
      ]
     },
     "execution_count": 108,
     "metadata": {},
     "output_type": "execute_result"
    }
   ],
   "source": [
    "from collections import deque\n",
    "class Node:\n",
    "    def __init__(self,value=0):\n",
    "        self.value = value\n",
    "        self.left = None\n",
    "        self.right=None\n",
    "\n",
    "def preorder(root):\n",
    "    if not root:\n",
    "        return []\n",
    "    stack = [root]\n",
    "    preorder_list = []\n",
    "    while stack:\n",
    "        temp = stack.pop()\n",
    "        preorder_list.append(temp.value)\n",
    "        print(temp.value, end=\" \")  \n",
    "        if temp.right:\n",
    "            stack.append(temp.right)\n",
    "        if temp.left:\n",
    "            stack.append(temp.left)\n",
    "    return preorder_list\n",
    "\n",
    "def inorder(root):\n",
    "    stack = []\n",
    "    inorder_list = []\n",
    "    current = root\n",
    "    while current or stack:\n",
    "        while current:\n",
    "            stack.append(current)  \n",
    "            current = current.left\n",
    "        current = stack.pop()  \n",
    "        inorder_list.append(current.value)\n",
    "        print(current.value, end=\" \")\n",
    "        current = current.right  \n",
    "    return inorder_list\n",
    "\n",
    "def postorder(root):\n",
    "    if not root:\n",
    "        return []\n",
    "    stack1 = [root]\n",
    "    stack2 = [] \n",
    "    while stack1:\n",
    "        temp = stack1.pop()\n",
    "        stack2.append(temp.value)\n",
    "        if temp.left:\n",
    "            stack1.append(temp.left)\n",
    "        if temp.right:\n",
    "            stack1.append(temp.right)\n",
    "    postorder_list = stack2[::-1] \n",
    "    print(\" \".join(map(str, postorder_list)))\n",
    "    return postorder_list\n",
    "\n",
    "\n",
    "\n",
    "\n",
    "def treeFromPreorder(pre,ino):\n",
    "    if not pre or not ino:\n",
    "        return None\n",
    "    root_value=pre.pop(0)\n",
    "    root=Node(root_value)\n",
    "    root_index=ino.index(root_value)\n",
    "    root.left=treeFromPreorder(pre,ino[:root_index])\n",
    "    root.right=treeFromPreorder(pre,ino[root_index+1:])\n",
    "\n",
    "   \n",
    "    return root\n",
    "\n",
    "\n",
    "def treeFromPostOrder(post,ino):\n",
    "    if not post or not ino:  # ✅ Correct condition\n",
    "\n",
    "        return None\n",
    "    root_value=post.pop()\n",
    "    root=Node(root_value)\n",
    "    root_index=ino.index(root_value)\n",
    "    root.right=treeFromPostOrder(post,ino[root_index+1:])\n",
    "    root.left=treeFromPostOrder(post,ino[:root_index])\n",
    "    return root\n",
    "\n",
    "root = Node(7)\n",
    "root.left = Node(3)\n",
    "root.right = Node(10)\n",
    "root.left.left = Node(9)\n",
    "root.left.right = Node(2)\n",
    "root.right.left = Node(1)\n",
    "root.right.right = Node(5)\n",
    "\n",
    "print(\"Preorder Traversal:\")\n",
    "preorder(root)  # Expected: 7 3 9 2 10 1 5\n",
    "\n",
    "print(\"\\nInorder Traversal:\")\n",
    "inorder(root)  # Expected: 9 3 2 7 1 10 5\n",
    "\n",
    "print(\"\\nPostorder Traversal:\")\n",
    "postorder(root)  # Expected: 9 2 3 1 5 10 7\n"
   ]
  },
  {
   "cell_type": "code",
   "execution_count": 109,
   "metadata": {},
   "outputs": [
    {
     "name": "stdout",
     "output_type": "stream",
     "text": [
      "7 3 9 2 10 1 5 preorder  [7, 3, 9, 2, 10, 1, 5]\n"
     ]
    }
   ],
   "source": [
    "ino=[9 ,3 ,2 ,7, 1, 10, 5]\n",
    "pre=[7 ,3 ,9 ,2 ,10, 1, 5]\n",
    "post=[9, 2, 3 ,1, 5, 10, 7]\n",
    "new_root=treeFromPreorder(pre,ino)\n",
    "print(\"preorder \",preorder(new_root))\n",
    "\n"
   ]
  },
  {
   "cell_type": "code",
   "execution_count": 110,
   "metadata": {},
   "outputs": [
    {
     "name": "stdout",
     "output_type": "stream",
     "text": [
      "7 3 9 2 10 1 5 "
     ]
    },
    {
     "data": {
      "text/plain": [
       "[7, 3, 9, 2, 10, 1, 5]"
      ]
     },
     "execution_count": 110,
     "metadata": {},
     "output_type": "execute_result"
    }
   ],
   "source": [
    "root_frompost=treeFromPostOrder(post,ino)\n",
    "preorder(root_frompost)"
   ]
  }
 ],
 "metadata": {
  "kernelspec": {
   "display_name": "myenv",
   "language": "python",
   "name": "python3"
  },
  "language_info": {
   "codemirror_mode": {
    "name": "ipython",
    "version": 3
   },
   "file_extension": ".py",
   "mimetype": "text/x-python",
   "name": "python",
   "nbconvert_exporter": "python",
   "pygments_lexer": "ipython3",
   "version": "3.12.3"
  }
 },
 "nbformat": 4,
 "nbformat_minor": 2
}
