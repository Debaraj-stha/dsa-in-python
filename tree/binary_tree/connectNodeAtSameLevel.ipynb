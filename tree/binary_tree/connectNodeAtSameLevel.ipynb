{
 "cells": [
  {
   "cell_type": "code",
   "execution_count": 8,
   "metadata": {},
   "outputs": [
    {
     "name": "stdout",
     "output_type": "stream",
     "text": [
      "Preorder traversal:\n",
      "4 2 6 1 3 5 7 \n",
      "Connecting nodes at same level:\n",
      "\n",
      "Printing next pointer:\n",
      "4 -> Null\n",
      "\n",
      "2 -> 6 \n",
      "6 -> Null\n",
      "\n",
      "1 -> 3 \n",
      "3 -> 5 \n",
      "5 -> 7 \n",
      "7 -> Null\n",
      "\n"
     ]
    }
   ],
   "source": [
    "from collections import  deque\n",
    "class Node:\n",
    "    def __init__(self, value):\n",
    "        self.value = value\n",
    "        self.left=None\n",
    "        self.right=None\n",
    "        self.next=None\n",
    "\n",
    "def preorder(root):\n",
    "        queue=[root]\n",
    "        while queue:\n",
    "            temp=queue.pop(0)\n",
    "            print(temp.value, end=' ')\n",
    "            if temp.left:\n",
    "                queue.append(temp.left)\n",
    "            if temp.right:\n",
    "                queue.append(temp.right)\n",
    "\n",
    "def connecrNodeAtSameLevel(root):\n",
    "        queue=deque([root])\n",
    "        while queue:\n",
    "            size=len(queue)\n",
    "            for i in range(size):\n",
    "                temp=queue.popleft()\n",
    "                if i<size-1:\n",
    "                    temp.next=queue[0]\n",
    "                if temp.left:\n",
    "                    queue.append(temp.left)\n",
    "                if temp.right:\n",
    "                    queue.append(temp.right)\n",
    "def printNextPointer(root):\n",
    "        queue=deque([root])\n",
    "        while queue:\n",
    "            temp=queue.popleft()\n",
    "            print(temp.value, end=' ')\n",
    "            if temp.next:\n",
    "                print('->', temp.next.value, end=' ')\n",
    "            else:\n",
    "                print('-> Null')\n",
    "            if temp.left:\n",
    "                queue.append(temp.left)\n",
    "            if temp.right:\n",
    "                queue.append(temp.right)\n",
    "            print()\n",
    "\n",
    "root=Node(4)\n",
    "root.left=Node(2)\n",
    "root.right=Node(6)\n",
    "root.left.left=Node(1)\n",
    "root.left.right=Node(3)\n",
    "root.right.left=Node(5)\n",
    "root.right.right=Node(7)\n",
    "\n",
    "print('Preorder traversal:')\n",
    "preorder(root)\n",
    "print('\\nConnecting nodes at same level:')\n",
    "connecrNodeAtSameLevel(root)\n",
    "print('\\nPrinting next pointer:')\n",
    "printNextPointer(root)\n",
    "\n",
    "\n"
   ]
  }
 ],
 "metadata": {
  "kernelspec": {
   "display_name": "myenv",
   "language": "python",
   "name": "python3"
  },
  "language_info": {
   "codemirror_mode": {
    "name": "ipython",
    "version": 3
   },
   "file_extension": ".py",
   "mimetype": "text/x-python",
   "name": "python",
   "nbconvert_exporter": "python",
   "pygments_lexer": "ipython3",
   "version": "3.12.3"
  }
 },
 "nbformat": 4,
 "nbformat_minor": 2
}
