{
 "cells": [
  {
   "cell_type": "code",
   "execution_count": null,
   "metadata": {},
   "outputs": [
    {
     "name": "stdout",
     "output_type": "stream",
     "text": [
      "1 2 3 4 6 7 9 "
     ]
    }
   ],
   "source": [
    "class Node:\n",
    "    def __init__(self, value=0):\n",
    "        self.value = value\n",
    "        self.left = None  \n",
    "        self.right = None\n",
    "\n",
    "def inorder(node):\n",
    "    if node:\n",
    "        inorder(node.left)\n",
    "        print(node.value, end=' ')\n",
    "        inorder(node.right)\n",
    "\n",
    "def convertToBinaryTree(arr):\n",
    "    if not arr:\n",
    "        return None\n",
    "    l = 0\n",
    "    r = len(arr)  \n",
    "    mid = l + (r - l) // 2\n",
    "    node = Node(arr[mid])\n",
    "    node.left = convertToBinaryTree(arr[l:mid])  \n",
    "    node.right = convertToBinaryTree(arr[mid+1:r]) \n",
    "    return node\n",
    "\n",
    "arr = [1, 2, 3, 4, 6, 7, 9]\n",
    "root = convertToBinaryTree(arr)\n",
    "inorder(root)\n"
   ]
  }
 ],
 "metadata": {
  "kernelspec": {
   "display_name": "myenv",
   "language": "python",
   "name": "python3"
  },
  "language_info": {
   "codemirror_mode": {
    "name": "ipython",
    "version": 3
   },
   "file_extension": ".py",
   "mimetype": "text/x-python",
   "name": "python",
   "nbconvert_exporter": "python",
   "pygments_lexer": "ipython3",
   "version": "3.12.3"
  }
 },
 "nbformat": 4,
 "nbformat_minor": 2
}
