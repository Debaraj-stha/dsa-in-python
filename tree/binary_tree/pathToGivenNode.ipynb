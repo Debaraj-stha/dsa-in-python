{
 "cells": [
  {
   "cell_type": "code",
   "execution_count": 3,
   "metadata": {},
   "outputs": [
    {
     "name": "stdout",
     "output_type": "stream",
     "text": [
      "[3, 1, 2, 77]\n"
     ]
    }
   ],
   "source": [
    "from collections import  deque\n",
    "class Node(object):\n",
    "    def __init__(self, value):\n",
    "        self.value = value\n",
    "        self.left = None\n",
    "        self.right = None\n",
    "def pathTonode(root,target):\n",
    "    if not root or not target:\n",
    "        return None\n",
    "    queue=deque([(root,[])])\n",
    "    while queue:\n",
    "        node,path=queue.popleft()\n",
    "        newPath=path+[node.value]\n",
    "        if node == target:\n",
    "            return newPath\n",
    "        if node.left:\n",
    "            queue.append((node.left, newPath))\n",
    "        if node.right:\n",
    "            queue.append((node.right, newPath))\n",
    "    return None\n",
    "\n",
    "\n",
    "\n",
    "\n",
    "\n",
    "root=Node(3)\n",
    "root.left=Node(1)\n",
    "root.right=Node(4)\n",
    "root.left.left=Node(0)\n",
    "root.left.right=Node(2)\n",
    "root.left.right.left=Node(77)\n",
    "root.left.right.right=Node(10)\n",
    "root.right.left=Node(44)\n",
    "root.right.right=Node(66)\n",
    "root.right.left.left=Node(55)\n",
    "root.right.left.right=Node(11)\n",
    "root.right.right.left=Node(99)\n",
    "root.right.right.right=Node(900)\n",
    "print(pathTonode(root, root.left.right.left))\n",
    "\n",
    "\n",
    "\n"
   ]
  }
 ],
 "metadata": {
  "kernelspec": {
   "display_name": "myenv",
   "language": "python",
   "name": "python3"
  },
  "language_info": {
   "codemirror_mode": {
    "name": "ipython",
    "version": 3
   },
   "file_extension": ".py",
   "mimetype": "text/x-python",
   "name": "python",
   "nbconvert_exporter": "python",
   "pygments_lexer": "ipython3",
   "version": "3.12.3"
  }
 },
 "nbformat": 4,
 "nbformat_minor": 2
}
