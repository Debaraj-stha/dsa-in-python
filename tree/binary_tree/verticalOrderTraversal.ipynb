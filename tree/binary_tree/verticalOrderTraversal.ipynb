{
 "cells": [
  {
   "cell_type": "code",
   "execution_count": 4,
   "metadata": {},
   "outputs": [
    {
     "name": "stdout",
     "output_type": "stream",
     "text": [
      "Preorder traversal:\n",
      "4 2 6 1 3 5 7 99 22 \n",
      "Vertical Order Traversal:\n"
     ]
    },
    {
     "ename": "NameError",
     "evalue": "name 'vertcalOrderTraversal' is not defined",
     "output_type": "error",
     "traceback": [
      "\u001b[0;31m---------------------------------------------------------------------------\u001b[0m",
      "\u001b[0;31mNameError\u001b[0m                                 Traceback (most recent call last)",
      "Cell \u001b[0;32mIn[4], line 52\u001b[0m\n\u001b[1;32m     48\u001b[0m preorder(root)\n\u001b[1;32m     50\u001b[0m \u001b[38;5;28mprint\u001b[39m(\u001b[38;5;124m'\u001b[39m\u001b[38;5;130;01m\\n\u001b[39;00m\u001b[38;5;124mVertical Order Traversal:\u001b[39m\u001b[38;5;124m'\u001b[39m)\n\u001b[0;32m---> 52\u001b[0m \u001b[43mvertcalOrderTraversal\u001b[49m(root)\n",
      "\u001b[0;31mNameError\u001b[0m: name 'vertcalOrderTraversal' is not defined"
     ]
    }
   ],
   "source": [
    "from collections import  deque,defaultdict\n",
    "class Node:\n",
    "    def __init__(self, value):\n",
    "        self.value = value\n",
    "        self.left=None\n",
    "        self.right=None\n",
    "        self.next=None\n",
    "\n",
    "def preorder(root):\n",
    "        queue=[root]\n",
    "        while queue:\n",
    "            temp=queue.pop(0)\n",
    "            print(temp.value, end=' ')\n",
    "            if temp.left:\n",
    "                queue.append(temp.left)\n",
    "            if temp.right:\n",
    "                queue.append(temp.right)\n",
    "\n",
    "def verticalOrderTraversal(root):\n",
    "        if not root:\n",
    "            return\n",
    "\n",
    "        queue = deque([(root, 0)]) \n",
    "        ditionary = defaultdict(list) \n",
    "\n",
    "        while queue:\n",
    "            temp, hd = queue.popleft()\n",
    "            ditionary[hd].append(temp.value)\n",
    "\n",
    "            if temp.left:\n",
    "                queue.append((temp.left, hd - 1))  \n",
    "            if temp.right:\n",
    "                queue.append((temp.right, hd + 1))  \n",
    "        for key in sorted(ditionary.keys()):\n",
    "            print(f\"Vertical line {key}: {ditionary[key]}\")\n",
    "\n",
    "root=Node(4)\n",
    "root.left=Node(2)\n",
    "root.right=Node(6)\n",
    "root.left.left=Node(1)\n",
    "root.left.right=Node(3)\n",
    "root.right.left=Node(5)\n",
    "root.right.right=Node(7)\n",
    "root.right.right.right=Node(99)\n",
    "root.right.right.right.right=Node(22)\n",
    "\n",
    "print('Preorder traversal:')\n",
    "preorder(root)\n",
    "\n",
    "print('\\nVertical Order Traversal:')\n",
    "\n",
    "vertcalOrderTraversal(root)"
   ]
  }
 ],
 "metadata": {
  "kernelspec": {
   "display_name": "myenv",
   "language": "python",
   "name": "python3"
  },
  "language_info": {
   "codemirror_mode": {
    "name": "ipython",
    "version": 3
   },
   "file_extension": ".py",
   "mimetype": "text/x-python",
   "name": "python",
   "nbconvert_exporter": "python",
   "pygments_lexer": "ipython3",
   "version": "3.12.3"
  }
 },
 "nbformat": 4,
 "nbformat_minor": 2
}
