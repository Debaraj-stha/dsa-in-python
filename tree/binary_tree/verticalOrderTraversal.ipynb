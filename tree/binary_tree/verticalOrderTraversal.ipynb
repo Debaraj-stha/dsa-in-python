{
 "cells": [
  {
   "cell_type": "code",
   "execution_count": null,
   "metadata": {},
   "outputs": [
    {
     "name": "stdout",
     "output_type": "stream",
     "text": [
      "Preorder traversal:\n",
      "4 2 6 1 3 5 7 99 22 \n",
      "Vertical Order Traversal:\n",
      "{0: [4, 3, 5], -1: [2], 1: [6], -2: [1], 2: [7], 3: [99], 4: [22]}\n"
     ]
    }
   ],
   "source": [
    "from collections import  deque,defaultdict\n",
    "class Node:\n",
    "    def __init__(self, value):\n",
    "        self.value = value\n",
    "        self.left=None\n",
    "        self.right=None\n",
    "        self.next=None\n",
    "\n",
    "def preorder(root):\n",
    "        queue=[root]\n",
    "        while queue:\n",
    "            temp=queue.pop(0)\n",
    "            print(temp.value, end=' ')\n",
    "            if temp.left:\n",
    "                queue.append(temp.left)\n",
    "            if temp.right:\n",
    "                queue.append(temp.right)\n",
    "\n",
    "def verticalOrderTraversal(root):\n",
    "        if not root:\n",
    "            return\n",
    "\n",
    "        queue = deque([(root, 0)]) \n",
    "        ditionary = defaultdict(list) \n",
    "\n",
    "        while queue:\n",
    "            temp, hd = queue.popleft()\n",
    "            ditionary[hd].append(temp.value)\n",
    "\n",
    "            if temp.left:\n",
    "                queue.append((temp.left, hd - 1))  \n",
    "            if temp.right:\n",
    "                queue.append((temp.right, hd + 1))  \n",
    "        for key in sorted(ditionary.keys()):\n",
    "            print(f\"Vertical line {key}: {ditionary[key]}\")\n",
    "\n",
    "root=Node(4)\n",
    "root.left=Node(2)\n",
    "root.right=Node(6)\n",
    "root.left.left=Node(1)\n",
    "root.left.right=Node(3)\n",
    "root.right.left=Node(5)\n",
    "root.right.right=Node(7)\n",
    "root.right.right.right=Node(99)\n",
    "root.right.right.right.right=Node(22)\n",
    "\n",
    "print('Preorder traversal:')\n",
    "preorder(root)\n",
    "\n",
    "print('\\nVertical Order Traversal:')\n",
    "\n",
    "vertcalOrderTraversal(root)"
   ]
  }
 ],
 "metadata": {
  "kernelspec": {
   "display_name": "myenv",
   "language": "python",
   "name": "python3"
  },
  "language_info": {
   "codemirror_mode": {
    "name": "ipython",
    "version": 3
   },
   "file_extension": ".py",
   "mimetype": "text/x-python",
   "name": "python",
   "nbconvert_exporter": "python",
   "pygments_lexer": "ipython3",
   "version": "3.12.3"
  }
 },
 "nbformat": 4,
 "nbformat_minor": 2
}
