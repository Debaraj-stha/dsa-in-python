{
 "cells": [
  {
   "cell_type": "code",
   "execution_count": 3,
   "metadata": {},
   "outputs": [
    {
     "name": "stdout",
     "output_type": "stream",
     "text": [
      "Predecessor of 2 is 77\n",
      "Successor of 2 is 10\n"
     ]
    }
   ],
   "source": [
    "class Node(object):\n",
    "    def __init__(self, value):\n",
    "        self.value = value\n",
    "        self.left = None\n",
    "        self.right = None\n",
    "\n",
    "def predecessor(root,key):\n",
    "    predecessor = root\n",
    "    while root:\n",
    "        if key<root.value:\n",
    "            root=root.left\n",
    "        elif key>root.value:\n",
    "            predecessor=root\n",
    "            root=root.right\n",
    "        else:\n",
    "            if root.left:\n",
    "                temp=root.left\n",
    "                while temp.right:\n",
    "                    temp=temp.right\n",
    "                return temp\n",
    "            break\n",
    "    return predecessor\n",
    "\n",
    "def successor(root,key):\n",
    "    successor=root\n",
    "    while root:\n",
    "        if key>root.value:\n",
    "            root=root.right\n",
    "        elif key<root.value:\n",
    "            successor=root #update successor when moving left\n",
    "            root=root.left\n",
    "        else:\n",
    "            if root.right:\n",
    "                temp=root.right\n",
    "                while temp.left:\n",
    "                    temp=temp.left\n",
    "                return temp\n",
    "            break\n",
    "    return successor\n",
    "\n",
    "\n",
    "\n",
    "root=Node(3)\n",
    "root.left=Node(1)\n",
    "root.right=Node(4)\n",
    "root.left.left=Node(0)\n",
    "root.left.right=Node(2)\n",
    "root.left.right.left=Node(77)\n",
    "root.left.right.right=Node(10)\n",
    "\n",
    "print(\"Predecessor of 2 is\", predecessor(root,2).value)\n",
    "print(\"Successor of 2 is\", successor(root,2).value)"
   ]
  }
 ],
 "metadata": {
  "kernelspec": {
   "display_name": "myenv",
   "language": "python",
   "name": "python3"
  },
  "language_info": {
   "codemirror_mode": {
    "name": "ipython",
    "version": 3
   },
   "file_extension": ".py",
   "mimetype": "text/x-python",
   "name": "python",
   "nbconvert_exporter": "python",
   "pygments_lexer": "ipython3",
   "version": "3.12.3"
  }
 },
 "nbformat": 4,
 "nbformat_minor": 2
}
