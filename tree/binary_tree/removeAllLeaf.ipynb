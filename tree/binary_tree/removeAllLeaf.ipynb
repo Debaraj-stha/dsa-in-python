{
 "cells": [
  {
   "cell_type": "code",
   "execution_count": 17,
   "metadata": {},
   "outputs": [
    {
     "name": "stdout",
     "output_type": "stream",
     "text": [
      "Before deleting leaves: [88, 12, 11, 10, 15]\n",
      "After deleting leaves: [88, 12]\n"
     ]
    }
   ],
   "source": [
    "from collections import deque\n",
    "\n",
    "class Node(object):\n",
    "    def __init__(self, value):\n",
    "        self.value = value\n",
    "        self.left = None\n",
    "        self.right = None\n",
    "\n",
    "def isLeaf(root):\n",
    "    if not root:\n",
    "        return False\n",
    "    return not root.left and not root.right\n",
    "\n",
    "def deleteLeaf(root):\n",
    "    if not root:\n",
    "        return None\n",
    "    if isLeaf(root):\n",
    "        return None\n",
    "    root.left = deleteLeaf(root.left)\n",
    "    root.right = deleteLeaf(root.right)\n",
    "    return root\n",
    "\n",
    "# Helper function to do level order traversal\n",
    "def levelOrderTraversal(root):\n",
    "    if not root:\n",
    "        return \"Tree is empty\"\n",
    "    queue = deque([root])\n",
    "    result = []\n",
    "    while queue:\n",
    "        node = queue.popleft()\n",
    "        result.append(node.value)\n",
    "        if node.left:\n",
    "            queue.append(node.left)\n",
    "        if node.right:\n",
    "            queue.append(node.right)\n",
    "    return result\n",
    "\n",
    "# Constructing the binary tree\n",
    "root = Node(88)\n",
    "root.left = Node(12)\n",
    "root.right = Node(11)\n",
    "root.left.left = Node(10)\n",
    "root.left.right = Node(15)\n",
    "\n",
    "# Before deleting leaf nodes\n",
    "print(\"Before deleting leaves:\", levelOrderTraversal(root))\n",
    "\n",
    "# Delete leaf nodes\n",
    "root = deleteLeaf(root)\n",
    "\n",
    "# After deleting leaf nodes\n",
    "print(\"After deleting leaves:\", levelOrderTraversal(root))\n"
   ]
  }
 ],
 "metadata": {
  "kernelspec": {
   "display_name": "myenv",
   "language": "python",
   "name": "python3"
  },
  "language_info": {
   "codemirror_mode": {
    "name": "ipython",
    "version": 3
   },
   "file_extension": ".py",
   "mimetype": "text/x-python",
   "name": "python",
   "nbconvert_exporter": "python",
   "pygments_lexer": "ipython3",
   "version": "3.12.3"
  }
 },
 "nbformat": 4,
 "nbformat_minor": 2
}
