{
 "cells": [
  {
   "cell_type": "code",
   "execution_count": 26,
   "metadata": {},
   "outputs": [
    {
     "data": {
      "text/plain": [
       "3"
      ]
     },
     "execution_count": 26,
     "metadata": {},
     "output_type": "execute_result"
    }
   ],
   "source": [
    "from collections import  deque\n",
    "class Node:\n",
    "    def __init__(self, value):\n",
    "        self.value = value\n",
    "        self.left = None\n",
    "        self.right = None\n",
    "\n",
    "def height(root):\n",
    "    if not root:\n",
    "        return 0\n",
    "    return 1+max(height(root.left), height(root.right))\n",
    "\n",
    "\n",
    "def diameter(root):\n",
    "    if not root:\n",
    "        return 0\n",
    "\n",
    "    left_height = height(root.left)\n",
    "    right_height = height(root.right)\n",
    "\n",
    "    left_diameter = diameter(root.left)\n",
    "    right_diameter = diameter(root.right)\n",
    "\n",
    "    return max(left_height + right_height + 1, max(left_diameter, right_diameter))\n",
    "\n",
    "def isPerfect(root):\n",
    "    if not root:\n",
    "        return True\n",
    "    lHeight=height(root.left)\n",
    "    rHeight=height(root.right)\n",
    "    if lHeight!=rHeight:\n",
    "        return False\n",
    "    return isPerfect(root.left) and isPerfect(root.right)\n",
    "\n",
    "\n",
    "\n",
    "def isBalanced(root):\n",
    "    if not root:\n",
    "        return True\n",
    "    lHeight=height(root.left)\n",
    "    rHeight=height(root.right)\n",
    "    if abs(lHeight-rHeight)<=1 and isBalanced(root.left) and isBalanced(root.right):\n",
    "        return True\n",
    "\n",
    "\n",
    "def isComplete(root):\n",
    "    if not root:\n",
    "        return True\n",
    "    queue=deque([root])\n",
    "    isLeaf=False\n",
    "    while queue:\n",
    "        node=queue.popleft()\n",
    "        if isLeaf and (node.left or node.right):\n",
    "            return False\n",
    "        if node.left:\n",
    "            queue.append(node.left)\n",
    "        else:\n",
    "            isLeaf=True\n",
    "        if node.right:\n",
    "            queue.append(node.right)\n",
    "        else:\n",
    "            isLeaf=True\n",
    "    return True\n",
    "\n",
    "\n",
    "node=Node(55)\n",
    "node.left=Node(77)\n",
    "node.right=Node(33)\n",
    "node.left.left=Node(29)\n",
    "node.left.right=Node(88)\n",
    "node.right.left=Node(44)\n",
    "node.right.right=Node(66)\n",
    "height(node)"
   ]
  },
  {
   "cell_type": "code",
   "execution_count": 28,
   "metadata": {},
   "outputs": [
    {
     "name": "stdout",
     "output_type": "stream",
     "text": [
      "True\n",
      "True\n",
      "True\n"
     ]
    }
   ],
   "source": [
    "diameter(node)\n",
    "print(isPerfect(node))\n",
    "print(isBalanced(node))\n",
    "print(isComplete(node))"
   ]
  }
 ],
 "metadata": {
  "kernelspec": {
   "display_name": "myenv",
   "language": "python",
   "name": "python3"
  },
  "language_info": {
   "codemirror_mode": {
    "name": "ipython",
    "version": 3
   },
   "file_extension": ".py",
   "mimetype": "text/x-python",
   "name": "python",
   "nbconvert_exporter": "python",
   "pygments_lexer": "ipython3",
   "version": "3.12.3"
  }
 },
 "nbformat": 4,
 "nbformat_minor": 2
}
