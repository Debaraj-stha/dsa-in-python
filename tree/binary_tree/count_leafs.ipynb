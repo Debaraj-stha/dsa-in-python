{
 "cells": [
  {
   "cell_type": "code",
   "execution_count": 2,
   "metadata": {},
   "outputs": [
    {
     "data": {
      "text/plain": [
       "4"
      ]
     },
     "execution_count": 2,
     "metadata": {},
     "output_type": "execute_result"
    }
   ],
   "source": [
    "class Node:\n",
    "    def __init__(self, value):\n",
    "        self.value = value\n",
    "        self.left = None\n",
    "        self.right = None\n",
    "\n",
    "\n",
    "def countLeaf(root):\n",
    "    if not root:\n",
    "        return 0\n",
    "    stack=[root]\n",
    "    leaf=0\n",
    "    while stack:\n",
    "        node=stack.pop()\n",
    "        if node.left is None and node.right is None:\n",
    "            leaf+=1\n",
    "        if node.left:\n",
    "            stack.append(node.left)\n",
    "        if node.right:\n",
    "            stack.append(node.right)\n",
    "    return leaf\n",
    "\n",
    "\n",
    "            \n",
    "    \n",
    "root=Node(6)\n",
    "root.left=Node(3)\n",
    "root.right=Node(8)\n",
    "root.left.left=Node(1)\n",
    "root.left.right=Node(2)\n",
    "root.right.left=Node(5)\n",
    "root.right.right=Node(9)\n",
    "countLeaf(root)\n"
   ]
  }
 ],
 "metadata": {
  "kernelspec": {
   "display_name": "myenv",
   "language": "python",
   "name": "python3"
  },
  "language_info": {
   "codemirror_mode": {
    "name": "ipython",
    "version": 3
   },
   "file_extension": ".py",
   "mimetype": "text/x-python",
   "name": "python",
   "nbconvert_exporter": "python",
   "pygments_lexer": "ipython3",
   "version": "3.12.3"
  }
 },
 "nbformat": 4,
 "nbformat_minor": 2
}
