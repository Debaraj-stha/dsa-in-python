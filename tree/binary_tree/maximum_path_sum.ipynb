{
 "cells": [
  {
   "cell_type": "code",
   "execution_count": 1,
   "metadata": {},
   "outputs": [
    {
     "name": "stdout",
     "output_type": "stream",
     "text": [
      "55 9 15 40 33 20 10 30 \n",
      "Maximum Sum Path: 119\n"
     ]
    }
   ],
   "source": [
    "\n",
    "class Node:\n",
    "    def __init__(self, value=0):\n",
    "        self.value = value\n",
    "        self.left = None\n",
    "        self.right = None\n",
    "\n",
    "def preorder(root):\n",
    "    if root:\n",
    "        print(root.value, end=\" \")\n",
    "        preorder(root.left)\n",
    "        preorder(root.right)\n",
    "\n",
    "def maximumSumPath(root):\n",
    "    if not root:\n",
    "        return 0\n",
    "    \n",
    "    max_sum = float(\"-inf\")\n",
    "    stack = [(root, root.value)]  \n",
    "\n",
    "    while stack:\n",
    "        node, current_sum = stack.pop()\n",
    "        max_sum = max(max_sum, current_sum)\n",
    "\n",
    "        if node.left:\n",
    "            stack.append((node.left, current_sum + node.left.value))\n",
    "        if node.right:\n",
    "            stack.append((node.right, current_sum + node.right.value))\n",
    "\n",
    "    return max_sum\n",
    "\n",
    "root = Node(55)\n",
    "root.left = Node(9)\n",
    "root.right = Node(20)\n",
    "root.left.left = Node(15)\n",
    "root.left.right = Node(33)\n",
    "root.right.left = Node(10)\n",
    "root.right.right = Node(30)\n",
    "root.left.left.left = Node(40)\n",
    "\n",
    "\n",
    "preorder(root)\n",
    "print(\"\\nMaximum Sum Path:\", maximumSumPath(root))\n"
   ]
  },
  {
   "cell_type": "code",
   "execution_count": null,
   "metadata": {},
   "outputs": [],
   "source": []
  }
 ],
 "metadata": {
  "kernelspec": {
   "display_name": "myenv",
   "language": "python",
   "name": "python3"
  },
  "language_info": {
   "codemirror_mode": {
    "name": "ipython",
    "version": 3
   },
   "file_extension": ".py",
   "mimetype": "text/x-python",
   "name": "python",
   "nbconvert_exporter": "python",
   "pygments_lexer": "ipython3",
   "version": "3.12.3"
  }
 },
 "nbformat": 4,
 "nbformat_minor": 2
}
