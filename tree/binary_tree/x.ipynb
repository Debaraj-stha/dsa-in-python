{
 "cells": [
  {
   "cell_type": "code",
   "execution_count": 50,
   "metadata": {},
   "outputs": [
    {
     "data": {
      "text/plain": [
       "10"
      ]
     },
     "execution_count": 50,
     "metadata": {},
     "output_type": "execute_result"
    }
   ],
   "source": [
    "from collections import  deque\n",
    "class Node:\n",
    "    def __init__(self, value):\n",
    "        self.value = value\n",
    "        self.left = None\n",
    "        self.right = None\n",
    "        self.next=None\n",
    "\n",
    "def predecessor(root,key):\n",
    "    predecessor = root\n",
    "    while root:\n",
    "        if key<root.value:\n",
    "            root=root.left\n",
    "        elif key>root.value:\n",
    "            predecessor=root\n",
    "            root=root.right\n",
    "        else:\n",
    "            if root.left:\n",
    "                temp=root.left\n",
    "                while temp.right:\n",
    "                    temp=temp.right\n",
    "                return temp\n",
    "            break\n",
    "    return predecessor\n",
    "\n",
    "def successor(node,key):\n",
    "    successor=node\n",
    "    while node:\n",
    "        if key>node.value:\n",
    "            node=node.right\n",
    "        elif key<node.value:\n",
    "            successor=node\n",
    "            node=node.left\n",
    "        else:\n",
    "            if node.right:\n",
    "                temp=node.right\n",
    "                while temp.left:\n",
    "                    temp=temp.left\n",
    "                return temp\n",
    "            break\n",
    "    return successor\n",
    "  \n",
    "def count(node):\n",
    "    if not node:\n",
    "        return 0\n",
    "    stack=[node]\n",
    "    count=0\n",
    "    while stack:\n",
    "        node=stack.pop()\n",
    "        count+=1\n",
    "        if node.right:\n",
    "            stack.append(node.right)\n",
    "        if node.left:\n",
    "            stack.append(node.left)\n",
    "    return count\n",
    "\n",
    "\n",
    "root=Node(3)\n",
    "root.left=Node(1)\n",
    "root.right=Node(4)\n",
    "root.left.left=Node(0)\n",
    "root.left.right=Node(2)\n",
    "root.left.right.left=Node(77)\n",
    "root.left.right.right=Node(10)\n",
    "\n",
    "predecessor(root,2).value\n",
    "successor(root,2).value"
   ]
  },
  {
   "cell_type": "code",
   "execution_count": 51,
   "metadata": {},
   "outputs": [
    {
     "data": {
      "text/plain": [
       "7"
      ]
     },
     "execution_count": 51,
     "metadata": {},
     "output_type": "execute_result"
    }
   ],
   "source": [
    "count(root)"
   ]
  }
 ],
 "metadata": {
  "kernelspec": {
   "display_name": "myenv",
   "language": "python",
   "name": "python3"
  },
  "language_info": {
   "codemirror_mode": {
    "name": "ipython",
    "version": 3
   },
   "file_extension": ".py",
   "mimetype": "text/x-python",
   "name": "python",
   "nbconvert_exporter": "python",
   "pygments_lexer": "ipython3",
   "version": "3.12.3"
  }
 },
 "nbformat": 4,
 "nbformat_minor": 2
}
