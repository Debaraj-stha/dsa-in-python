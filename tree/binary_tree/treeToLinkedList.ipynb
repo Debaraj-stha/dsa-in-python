{
 "cells": [
  {
   "cell_type": "code",
   "execution_count": 37,
   "metadata": {},
   "outputs": [
    {
     "name": "stdout",
     "output_type": "stream",
     "text": [
      "[1, 2, 3, 4]\n",
      "1->2->3->4->null\n"
     ]
    }
   ],
   "source": [
    "\n",
    "class TreeNode:\n",
    "    def __init__(self, x=0):\n",
    "        self.val = x\n",
    "        self.left = None\n",
    "        self.right = None\n",
    "\n",
    "class LinkedNode:\n",
    "    def __init__(self, x=0):\n",
    "        self.val = x\n",
    "        self.next = None\n",
    "\n",
    "\n",
    "def preorder(root):\n",
    "    queue=[]\n",
    "    queue.append(root)\n",
    "    result=[]\n",
    "    while queue:\n",
    "        temp=queue.pop(0)\n",
    "        result.append(temp.val)\n",
    "        if temp.right:\n",
    "            queue.append(temp.right)\n",
    "        if temp.left:\n",
    "            queue.append(temp.left)\n",
    "    return result\n",
    "\n",
    "\n",
    "def toLinkedList(root):\n",
    "        if not root:\n",
    "            return None\n",
    "        head=LinkedNode(root.val)\n",
    "        current=head\n",
    "        left=toLinkedList(root.left)\n",
    "        right=toLinkedList(root.right)\n",
    "        if left:\n",
    "            current.next=left\n",
    "            while current.next:\n",
    "                current=current.next\n",
    "        if right:\n",
    "            current.next=right\n",
    "        return head\n",
    "\n",
    "\n",
    "    \n",
    "    \n",
    "\n",
    "root=TreeNode(1)\n",
    "root.left=TreeNode(2)\n",
    "root.left.left=TreeNode(3)\n",
    "root.left.left.left=TreeNode(4)\n",
    "print(preorder(root))\n",
    "node=toLinkedList(root)\n",
    "while node:\n",
    "    print(node.val, end=\"->\")\n",
    "    node=node.next\n",
    "print(\"null\")\n"
   ]
  }
 ],
 "metadata": {
  "kernelspec": {
   "display_name": "myenv",
   "language": "python",
   "name": "python3"
  },
  "language_info": {
   "codemirror_mode": {
    "name": "ipython",
    "version": 3
   },
   "file_extension": ".py",
   "mimetype": "text/x-python",
   "name": "python",
   "nbconvert_exporter": "python",
   "pygments_lexer": "ipython3",
   "version": "3.12.3"
  }
 },
 "nbformat": 4,
 "nbformat_minor": 2
}
