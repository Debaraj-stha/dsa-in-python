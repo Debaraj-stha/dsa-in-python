{
 "cells": [
  {
   "cell_type": "code",
   "execution_count": null,
   "metadata": {},
   "outputs": [
    {
     "name": "stdout",
     "output_type": "stream",
     "text": [
      "1 3 5 7 8 10 15 20 25 \n",
      "Successor of 5 is 7\n",
      "1 3 5 7 10 15 20 25 "
     ]
    }
   ],
   "source": [
    "class Node(object):\n",
    "    def __init__(self, value):\n",
    "        self.value = value\n",
    "        self.left = None\n",
    "        self.right = None\n",
    "def inorder_traversal(root):\n",
    "    if root:\n",
    "        inorder_traversal(root.left)\n",
    "        print(root.value, end=' ')\n",
    "        inorder_traversal(root.right)\n",
    "\n",
    "def getMinimumValue(node):\n",
    "    current=node\n",
    "    while current.left:\n",
    "        current=current.left\n",
    "    return current\n",
    "\n",
    "def deleteNode(root,value):\n",
    "    if not root:\n",
    "        return root\n",
    "    if not root.left and not root.right:\n",
    "        return None\n",
    "    if value<root.value:\n",
    "        root.left=deleteNode(root.left,value)\n",
    "    elif value>root.value:\n",
    "        root.right=deleteNode(root.right,value)\n",
    "    else:\n",
    "        if root.left is None:\n",
    "            return root.right\n",
    "        elif root.right is None:\n",
    "        \n",
    "            return root.left\n",
    "        deepestNode=getMinimumValue(root.right)\n",
    "        root.value=deepestNode.value\n",
    "        root.right=deleteNode(root.right,deepestNode.value)\n",
    "    return root\n",
    "\n",
    "\n",
    "\n",
    "\n",
    "def successors(root,key):\n",
    "    successor=root\n",
    "    while root:\n",
    "        if key>root.value:\n",
    "            root=root.right\n",
    "        elif key<root.value:\n",
    "            successor=root\n",
    "            root=root.left\n",
    "        else:\n",
    "            if root.right:\n",
    "                temp=root.right\n",
    "                while temp.left:\n",
    "                    temp=temp.left\n",
    "                return temp\n",
    "            break\n",
    "    return successor\n",
    "\n",
    "root=Node(10)\n",
    "root.left=Node(5)\n",
    "root.right=Node(20)\n",
    "root.left.left=Node(3)\n",
    "root.left.right=Node(7)\n",
    "root.right.left=Node(15)\n",
    "root.right.right=Node(25)\n",
    "root.left.left.left=Node(1)\n",
    "root.left.right.right=Node(8)\n",
    "\n",
    "inorder_traversal(root)\n",
    "print(\"\\nSuccessor of 5 is\", successors(root,5).value)\n",
    "deleteNode(root,8)\n",
    "inorder_traversal(root)\n"
   ]
  }
 ],
 "metadata": {
  "kernelspec": {
   "display_name": "myenv",
   "language": "python",
   "name": "python3"
  },
  "language_info": {
   "codemirror_mode": {
    "name": "ipython",
    "version": 3
   },
   "file_extension": ".py",
   "mimetype": "text/x-python",
   "name": "python",
   "nbconvert_exporter": "python",
   "pygments_lexer": "ipython3",
   "version": "3.12.3"
  }
 },
 "nbformat": 4,
 "nbformat_minor": 2
}
