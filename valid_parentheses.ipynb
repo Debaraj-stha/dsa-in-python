{
 "cells": [
  {
   "cell_type": "code",
   "execution_count": 19,
   "metadata": {},
   "outputs": [
    {
     "name": "stdout",
     "output_type": "stream",
     "text": [
      "[-1, '(']\n",
      "False\n"
     ]
    }
   ],
   "source": [
    "def valid_parentheses(s):\n",
    "    if not s:\n",
    "        return\n",
    "    stack = [-1]\n",
    "    mapping={\")\":\"(\",\"}\":\"{\",\"]\":\"[\"}\n",
    "    for char in s:\n",
    "        if char in \"[({\":\n",
    "            stack.append(char)\n",
    "        elif char in \"]})\":\n",
    "            if stack[-1]!=mapping[char]:\n",
    "                return False\n",
    "            stack.pop()\n",
    "    print(stack)\n",
    "    return not stack\n",
    "print(valid_parentheses(\"(()\")) # True"
   ]
  },
  {
   "cell_type": "code",
   "execution_count": null,
   "metadata": {},
   "outputs": [],
   "source": []
  }
 ],
 "metadata": {
  "kernelspec": {
   "display_name": "myenv",
   "language": "python",
   "name": "python3"
  },
  "language_info": {
   "codemirror_mode": {
    "name": "ipython",
    "version": 3
   },
   "file_extension": ".py",
   "mimetype": "text/x-python",
   "name": "python",
   "nbconvert_exporter": "python",
   "pygments_lexer": "ipython3",
   "version": "3.12.3"
  }
 },
 "nbformat": 4,
 "nbformat_minor": 2
}
